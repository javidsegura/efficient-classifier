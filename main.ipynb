{
  "cells": [
    {
      "cell_type": "markdown",
      "metadata": {},
      "source": [
        "<h1> DYNAMIC MALWARE CLASSIFICATION</h1>"
      ]
    },
    {
      "cell_type": "markdown",
      "metadata": {},
      "source": [
        "Supervised, classification, multi-class"
      ]
    },
    {
      "cell_type": "markdown",
      "metadata": {
        "id": "szqv1Y9Edzc5"
      },
      "source": [
        "# 0. Basic Set-Up and General info"
      ]
    },
    {
      "cell_type": "markdown",
      "metadata": {},
      "source": [
        "Note: there are a lot of non-used imports (to be removed at the end)"
      ]
    },
    {
      "cell_type": "code",
      "execution_count": 100,
      "metadata": {},
      "outputs": [],
      "source": [
        "import pandas as pd\n",
        "import numpy as np\n",
        "import matplotlib.pyplot as plt\n",
        "from matplotlib.ticker import MultipleLocator\n",
        "import seaborn as sns\n",
        "from scipy import stats\n",
        "\n",
        "import copy"
      ]
    },
    {
      "cell_type": "code",
      "execution_count": 101,
      "metadata": {},
      "outputs": [],
      "source": [
        "from sklearn.tree import DecisionTreeClassifier\n",
        "from sklearn.ensemble import GradientBoostingClassifier\n",
        "from sklearn.linear_model import LogisticRegression\n",
        "from sklearn.ensemble import RandomForestClassifier\n",
        "from sklearn.linear_model import LogisticRegression\n",
        "from sklearn.svm import SVC\n"
      ]
    },
    {
      "cell_type": "code",
      "execution_count": 102,
      "metadata": {},
      "outputs": [],
      "source": [
        "from imblearn.over_sampling import SMOTENC\n",
        "from boruta import BorutaPy\n"
      ]
    },
    {
      "cell_type": "code",
      "execution_count": 103,
      "metadata": {},
      "outputs": [],
      "source": [
        "import importlib\n",
        "\n",
        "# Import your modules initially\n",
        "import library.pipeline\n",
        "\n",
        "# Reload the modules in case they were updated\n",
        "importlib.reload(library.pipeline)\n",
        "\n",
        "# Now you can import specific classes/functions\n",
        "from library.pipeline.pipeline import Pipeline\n",
        "from library.pipeline.pipeline_manager import PipelineManager"
      ]
    },
    {
      "cell_type": "markdown",
      "metadata": {},
      "source": [
        "## Documentation Standarization\n",
        "Follow the following guidelines to make sure our document is consistent and easier to undestand\n",
        "- All constant should be writte in full capitall letters (e.g: MY_CONSTANT). Notebook-level constants should be written in the cell assigned to it (see below)\n",
        "- Every new major section (EDA, Feature engineering) should be written with '# My title'#\n",
        "- Subsequent sections should use '##', '###' or '####' hierarchacically\n",
        "- At the beginning of each major section write a content index with the content included in that section (see 'feature engineering' section as an example)\n",
        "- Please write paragraphs before and after each cell explain what u are about to do and the conclusions, correspondingly. Do not assume they are too obvious.\n",
        "- Avoid excessive ChatGPT-originated comments\n",
        "- Avoid writing more than 20 lines per code cell (exceptions for subroutines, which should be written in utilitied_functions.py)\n",
        "- Ideally, add a \"Questions\" and \"Things to be done\" section in each major sections where u write about futher iterations u want to do (while sharing in with the rest)\n"
      ]
    },
    {
      "cell_type": "markdown",
      "metadata": {},
      "source": [
        "## Set-up"
      ]
    },
    {
      "cell_type": "code",
      "execution_count": 104,
      "metadata": {},
      "outputs": [],
      "source": [
        "dataset_path =\"./dataset/dynamic_dataset.csv\"\n",
        "results_path = \"results/results.csv\""
      ]
    },
    {
      "cell_type": "code",
      "execution_count": 105,
      "metadata": {},
      "outputs": [],
      "source": [
        "metrics_to_evaluate = [\"accuracy\", \"precision\", \"recall\", \"f1-score\"]"
      ]
    },
    {
      "cell_type": "markdown",
      "metadata": {},
      "source": [
        "We start off with a pipeline for all the models. Then at some moment, whenever we think the pipelines will diverge, we remove the by-object-refrence (that we will create in the next cell), and create a new copy with our modifications ready."
      ]
    },
    {
      "cell_type": "code",
      "execution_count": 106,
      "metadata": {},
      "outputs": [],
      "source": [
        "default_pipeline = ensembled_pipeline = tree_pipeline = linear_pipeline = baseline_pipeline = example = Pipeline(\n",
        "                        dataset_path=dataset_path, \n",
        "                        results_path=results_path,\n",
        "                        model_type=\"classification\",\n",
        "                        metrics_to_evaluate=metrics_to_evaluate)"
      ]
    },
    {
      "cell_type": "code",
      "execution_count": 107,
      "metadata": {},
      "outputs": [],
      "source": [
        "pipelines = {\n",
        "            \"models\": {\n",
        "                  \"ensembled\": ensembled_pipeline,\n",
        "                  \"tree-based\": tree_pipeline,\n",
        "                  \"linear\": linear_pipeline,\n",
        "                  }, \n",
        "            \"baseline\": {\n",
        "                  \"logistic\": baseline_pipeline, \n",
        "                  \"example\":  example               \n",
        "            }\n",
        "}\n",
        "pipeline_manager = PipelineManager(pipelines)"
      ]
    },
    {
      "cell_type": "markdown",
      "metadata": {},
      "source": [
        "Here I show an example of how we will be working with by-object-reference."
      ]
    },
    {
      "cell_type": "code",
      "execution_count": 108,
      "metadata": {},
      "outputs": [],
      "source": [
        "baseline_pipeline.dataset.example_attribute = \"1\""
      ]
    },
    {
      "cell_type": "code",
      "execution_count": 109,
      "metadata": {},
      "outputs": [
        {
          "data": {
            "text/plain": [
              "'1'"
            ]
          },
          "execution_count": 109,
          "metadata": {},
          "output_type": "execute_result"
        }
      ],
      "source": [
        "default_pipeline.dataset.example_attribute"
      ]
    },
    {
      "cell_type": "markdown",
      "metadata": {},
      "source": [
        "However, if we do a (deep) copy:\n",
        "Note that the difference between a deep and a shallow copy is that the former copies all the objects that are inside the class. We need that.\n",
        "We will overwrite the prior attribute and show is this is not propagated to the other results anymore"
      ]
    },
    {
      "cell_type": "code",
      "execution_count": 110,
      "metadata": {},
      "outputs": [],
      "source": [
        "new_pipeline = copy.deepcopy(default_pipeline)\n",
        "new_pipeline.dataset.example_attribute = \"2\""
      ]
    },
    {
      "cell_type": "code",
      "execution_count": 111,
      "metadata": {},
      "outputs": [
        {
          "data": {
            "text/plain": [
              "'1'"
            ]
          },
          "execution_count": 111,
          "metadata": {},
          "output_type": "execute_result"
        }
      ],
      "source": [
        "default_pipeline.dataset.example_attribute"
      ]
    },
    {
      "cell_type": "markdown",
      "metadata": {},
      "source": [
        "It may also be of interest for you to propagate the same method's invokation to all the pipelines within the pipeline manager. For instance, after a divergence in, lets say, feature scaling, you may need to fit all the models in the corresponding pipelines. You would want to avoid reduntandly calling the same method with the same parameters for all the Pipeline class instances. In order to do so, we present an example that avoids such annoyance"
      ]
    },
    {
      "cell_type": "code",
      "execution_count": 112,
      "metadata": {},
      "outputs": [
        {
          "name": "stdout",
          "output_type": "stream",
          "text": [
            "Pipeline example in category baseline has diverged\n",
            " Pipeline schema is now: {'models': {'ensembled': <library.pipeline.pipeline.Pipeline object at 0x1674b4e50>, 'tree-based': <library.pipeline.pipeline.Pipeline object at 0x1674b4e50>, 'linear': <library.pipeline.pipeline.Pipeline object at 0x1674b4e50>}, 'baseline': {'logistic': <library.pipeline.pipeline.Pipeline object at 0x1674b4e50>, 'example': <library.pipeline.pipeline.Pipeline object at 0x167265a90>}}\n"
          ]
        },
        {
          "data": {
            "text/plain": [
              "<library.pipeline.pipeline.Pipeline at 0x167265a90>"
            ]
          },
          "execution_count": 112,
          "metadata": {},
          "output_type": "execute_result"
        }
      ],
      "source": [
        "pipeline_manager.create_pipeline_divergence(category=\"baseline\", pipelineName=\"example\", print_results=True)"
      ]
    },
    {
      "cell_type": "code",
      "execution_count": 113,
      "metadata": {},
      "outputs": [
        {
          "name": "stdout",
          "output_type": "stream",
          "text": [
            "Whats goooddd from 6028429328. You are at automatic feature selection!\n"
          ]
        }
      ],
      "source": [
        "pipeline_manager.pipelines[\"baseline\"][\"example\"].feature_analysis.feature_selection.automatic_feature_selection.speak(\"Whats goooddd\")"
      ]
    },
    {
      "cell_type": "code",
      "execution_count": 114,
      "metadata": {},
      "outputs": [
        {
          "name": "stdout",
          "output_type": "stream",
          "text": [
            "Hello, world! from 6027955792\n",
            "Hello, world! from 6025534096\n"
          ]
        },
        {
          "data": {
            "text/plain": [
              "{'models': {'ensembled': None}, 'baseline': {'example': None}}"
            ]
          },
          "execution_count": 114,
          "metadata": {},
          "output_type": "execute_result"
        }
      ],
      "source": [
        "pipeline_manager.all_pipelines_execute(methodName=\"speak\", message=\"Hello, world!\")"
      ]
    },
    {
      "cell_type": "markdown",
      "metadata": {},
      "source": [
        "A method present deeper down the class:\n",
        "\n",
        "Instead of doing:\n",
        "'pipeline_manager.pipelines[\"baseline\"][\"logistic\"].feature_analysis.feature_selection.automatic_feature_selection.speak(\"Whats goooddd\") for all objects'\n",
        "\n",
        "we can do:"
      ]
    },
    {
      "cell_type": "code",
      "execution_count": 115,
      "metadata": {},
      "outputs": [
        {
          "name": "stdout",
          "output_type": "stream",
          "text": [
            "Whats good from 6025806352. You are at automatic feature selection!\n",
            "Whats good from 6028429328. You are at automatic feature selection!\n"
          ]
        },
        {
          "data": {
            "text/plain": [
              "{'models': {'ensembled': None}, 'baseline': {'example': None}}"
            ]
          },
          "execution_count": 115,
          "metadata": {},
          "output_type": "execute_result"
        }
      ],
      "source": [
        "pipeline_manager.all_pipelines_execute(methodName=\"feature_analysis.feature_selection.automatic_feature_selection.speak\", message=\"Whats good\")"
      ]
    },
    {
      "cell_type": "code",
      "execution_count": 116,
      "metadata": {},
      "outputs": [],
      "source": [
        "# lets delete the example obj\n",
        "del new_pipeline \n",
        "del pipeline_manager.pipelines[\"baseline\"][\"example\"]"
      ]
    },
    {
      "cell_type": "code",
      "execution_count": 117,
      "metadata": {},
      "outputs": [
        {
          "data": {
            "text/plain": [
              "{'models': {'ensembled': <library.pipeline.pipeline.Pipeline at 0x1674b4e50>,\n",
              "  'tree-based': <library.pipeline.pipeline.Pipeline at 0x1674b4e50>,\n",
              "  'linear': <library.pipeline.pipeline.Pipeline at 0x1674b4e50>},\n",
              " 'baseline': {'logistic': <library.pipeline.pipeline.Pipeline at 0x1674b4e50>}}"
            ]
          },
          "execution_count": 117,
          "metadata": {},
          "output_type": "execute_result"
        }
      ],
      "source": [
        "pipeline_manager.pipelines"
      ]
    },
    {
      "cell_type": "markdown",
      "metadata": {},
      "source": [
        "<hr>"
      ]
    },
    {
      "cell_type": "markdown",
      "metadata": {},
      "source": [
        "# Start Of The Pipeline"
      ]
    },
    {
      "cell_type": "code",
      "execution_count": 118,
      "metadata": {
        "colab": {
          "base_uri": "https://localhost:8080/",
          "height": 256
        },
        "id": "F0L2m8yFXhJ9",
        "outputId": "c94d1d43-6998-486d-d0ea-8b643d64efa6"
      },
      "outputs": [
        {
          "data": {
            "text/html": [
              "<div>\n",
              "<style scoped>\n",
              "    .dataframe tbody tr th:only-of-type {\n",
              "        vertical-align: middle;\n",
              "    }\n",
              "\n",
              "    .dataframe tbody tr th {\n",
              "        vertical-align: top;\n",
              "    }\n",
              "\n",
              "    .dataframe thead th {\n",
              "        text-align: right;\n",
              "    }\n",
              "</style>\n",
              "<table border=\"1\" class=\"dataframe\">\n",
              "  <thead>\n",
              "    <tr style=\"text-align: right;\">\n",
              "      <th></th>\n",
              "      <th>Memory_PssTotal</th>\n",
              "      <th>Memory_PssClean</th>\n",
              "      <th>Memory_SharedDirty</th>\n",
              "      <th>Memory_PrivateDirty</th>\n",
              "      <th>Memory_SharedClean</th>\n",
              "      <th>Memory_PrivateClean</th>\n",
              "      <th>Memory_SwapPssDirty</th>\n",
              "      <th>Memory_HeapSize</th>\n",
              "      <th>Memory_HeapAlloc</th>\n",
              "      <th>Memory_HeapFree</th>\n",
              "      <th>...</th>\n",
              "      <th>Logcat_error</th>\n",
              "      <th>Logcat_warning</th>\n",
              "      <th>Logcat_debug</th>\n",
              "      <th>Logcat_verbose</th>\n",
              "      <th>Logcat_total</th>\n",
              "      <th>Process_total</th>\n",
              "      <th>Hash</th>\n",
              "      <th>Category</th>\n",
              "      <th>Family</th>\n",
              "      <th>reboot</th>\n",
              "    </tr>\n",
              "  </thead>\n",
              "  <tbody>\n",
              "    <tr>\n",
              "      <th>0</th>\n",
              "      <td>31053</td>\n",
              "      <td>2448</td>\n",
              "      <td>14044</td>\n",
              "      <td>23472</td>\n",
              "      <td>74824</td>\n",
              "      <td>2452</td>\n",
              "      <td>0</td>\n",
              "      <td>8919</td>\n",
              "      <td>4786</td>\n",
              "      <td>4132</td>\n",
              "      <td>...</td>\n",
              "      <td>1635</td>\n",
              "      <td>2351</td>\n",
              "      <td>3285</td>\n",
              "      <td>1551</td>\n",
              "      <td>11221</td>\n",
              "      <td>193</td>\n",
              "      <td>f460abb8f2e4e3fb689966ddaea6d6babbd1738bb691c7...</td>\n",
              "      <td>Trojan_SMS</td>\n",
              "      <td>opfake</td>\n",
              "      <td>before</td>\n",
              "    </tr>\n",
              "    <tr>\n",
              "      <th>1</th>\n",
              "      <td>107787</td>\n",
              "      <td>21976</td>\n",
              "      <td>11852</td>\n",
              "      <td>74548</td>\n",
              "      <td>69052</td>\n",
              "      <td>23152</td>\n",
              "      <td>0</td>\n",
              "      <td>25341</td>\n",
              "      <td>20965</td>\n",
              "      <td>4375</td>\n",
              "      <td>...</td>\n",
              "      <td>1816</td>\n",
              "      <td>826</td>\n",
              "      <td>1544</td>\n",
              "      <td>2045</td>\n",
              "      <td>8457</td>\n",
              "      <td>189</td>\n",
              "      <td>556c238536d837007e647543eaf3ea95ae9aaf1c1a52d0...</td>\n",
              "      <td>Trojan_SMS</td>\n",
              "      <td>opfake</td>\n",
              "      <td>before</td>\n",
              "    </tr>\n",
              "    <tr>\n",
              "      <th>2</th>\n",
              "      <td>86584</td>\n",
              "      <td>18460</td>\n",
              "      <td>12284</td>\n",
              "      <td>59992</td>\n",
              "      <td>91548</td>\n",
              "      <td>19376</td>\n",
              "      <td>0</td>\n",
              "      <td>24500</td>\n",
              "      <td>21378</td>\n",
              "      <td>3121</td>\n",
              "      <td>...</td>\n",
              "      <td>2244</td>\n",
              "      <td>3406</td>\n",
              "      <td>1565</td>\n",
              "      <td>2819</td>\n",
              "      <td>10780</td>\n",
              "      <td>195</td>\n",
              "      <td>398322f94b5bfa2a9e7b3756a4cf409764595003280c48...</td>\n",
              "      <td>Trojan_SMS</td>\n",
              "      <td>fakeinst</td>\n",
              "      <td>before</td>\n",
              "    </tr>\n",
              "    <tr>\n",
              "      <th>3</th>\n",
              "      <td>41248</td>\n",
              "      <td>924</td>\n",
              "      <td>10328</td>\n",
              "      <td>36280</td>\n",
              "      <td>55768</td>\n",
              "      <td>928</td>\n",
              "      <td>0</td>\n",
              "      <td>10082</td>\n",
              "      <td>7281</td>\n",
              "      <td>2800</td>\n",
              "      <td>...</td>\n",
              "      <td>974</td>\n",
              "      <td>4134</td>\n",
              "      <td>3138</td>\n",
              "      <td>1556</td>\n",
              "      <td>11739</td>\n",
              "      <td>191</td>\n",
              "      <td>4a9c14872b2c66165599a969a1a8654bb6887d7a18ab6d...</td>\n",
              "      <td>Trojan_SMS</td>\n",
              "      <td>fakeinst</td>\n",
              "      <td>before</td>\n",
              "    </tr>\n",
              "    <tr>\n",
              "      <th>4</th>\n",
              "      <td>38621</td>\n",
              "      <td>5080</td>\n",
              "      <td>12392</td>\n",
              "      <td>27388</td>\n",
              "      <td>71048</td>\n",
              "      <td>5088</td>\n",
              "      <td>0</td>\n",
              "      <td>9077</td>\n",
              "      <td>5750</td>\n",
              "      <td>3326</td>\n",
              "      <td>...</td>\n",
              "      <td>936</td>\n",
              "      <td>2298</td>\n",
              "      <td>3752</td>\n",
              "      <td>1992</td>\n",
              "      <td>10488</td>\n",
              "      <td>188</td>\n",
              "      <td>6b37b9b9c170727f706b69731e64da4bbca2638b4237a7...</td>\n",
              "      <td>Trojan_SMS</td>\n",
              "      <td>fakeinst</td>\n",
              "      <td>before</td>\n",
              "    </tr>\n",
              "  </tbody>\n",
              "</table>\n",
              "<p>5 rows × 145 columns</p>\n",
              "</div>"
            ],
            "text/plain": [
              "   Memory_PssTotal  Memory_PssClean  Memory_SharedDirty  Memory_PrivateDirty  \\\n",
              "0            31053             2448               14044                23472   \n",
              "1           107787            21976               11852                74548   \n",
              "2            86584            18460               12284                59992   \n",
              "3            41248              924               10328                36280   \n",
              "4            38621             5080               12392                27388   \n",
              "\n",
              "   Memory_SharedClean  Memory_PrivateClean  Memory_SwapPssDirty  \\\n",
              "0               74824                 2452                    0   \n",
              "1               69052                23152                    0   \n",
              "2               91548                19376                    0   \n",
              "3               55768                  928                    0   \n",
              "4               71048                 5088                    0   \n",
              "\n",
              "   Memory_HeapSize  Memory_HeapAlloc  Memory_HeapFree  ...  Logcat_error  \\\n",
              "0             8919              4786             4132  ...          1635   \n",
              "1            25341             20965             4375  ...          1816   \n",
              "2            24500             21378             3121  ...          2244   \n",
              "3            10082              7281             2800  ...           974   \n",
              "4             9077              5750             3326  ...           936   \n",
              "\n",
              "   Logcat_warning  Logcat_debug  Logcat_verbose  Logcat_total  Process_total  \\\n",
              "0            2351          3285            1551         11221            193   \n",
              "1             826          1544            2045          8457            189   \n",
              "2            3406          1565            2819         10780            195   \n",
              "3            4134          3138            1556         11739            191   \n",
              "4            2298          3752            1992         10488            188   \n",
              "\n",
              "                                                Hash    Category    Family  \\\n",
              "0  f460abb8f2e4e3fb689966ddaea6d6babbd1738bb691c7...  Trojan_SMS    opfake   \n",
              "1  556c238536d837007e647543eaf3ea95ae9aaf1c1a52d0...  Trojan_SMS    opfake   \n",
              "2  398322f94b5bfa2a9e7b3756a4cf409764595003280c48...  Trojan_SMS  fakeinst   \n",
              "3  4a9c14872b2c66165599a969a1a8654bb6887d7a18ab6d...  Trojan_SMS  fakeinst   \n",
              "4  6b37b9b9c170727f706b69731e64da4bbca2638b4237a7...  Trojan_SMS  fakeinst   \n",
              "\n",
              "   reboot  \n",
              "0  before  \n",
              "1  before  \n",
              "2  before  \n",
              "3  before  \n",
              "4  before  \n",
              "\n",
              "[5 rows x 145 columns]"
            ]
          },
          "execution_count": 118,
          "metadata": {},
          "output_type": "execute_result"
        }
      ],
      "source": [
        "default_pipeline.dataset.df.head()"
      ]
    },
    {
      "cell_type": "code",
      "execution_count": 119,
      "metadata": {},
      "outputs": [],
      "source": [
        "default_pipeline.dataset.df.rename(columns={\"reboot\": \"Reboot\"}, inplace=True) # consistency with other features' names\n",
        "default_pipeline.dataset.df.drop(columns=[\"Family\", \"Hash\"], inplace=True) # We have decided to use only category as target variable; Hash is temporary while im debugging (it will be deleted in EDA)"
      ]
    },
    {
      "cell_type": "markdown",
      "metadata": {},
      "source": [
        "### Description of our features"
      ]
    },
    {
      "cell_type": "markdown",
      "metadata": {},
      "source": [
        "For each of our entries in the dataset we have a feature describing the state of the (operating) system under which the malware was running. Here is an intial description for each of them.\n",
        "Please access this document for a complete problem context description: https://docs.google.com/document/d/1yH9gvnJVSH9GLv9ATQ5JQWA2z8Jy4umxxRfMF-y2fiU/edit?usp=sharing"
      ]
    },
    {
      "cell_type": "markdown",
      "metadata": {},
      "source": [
        "# 1. EDA"
      ]
    },
    {
      "cell_type": "markdown",
      "metadata": {},
      "source": [
        "This section below shall be deleted"
      ]
    },
    {
      "cell_type": "code",
      "execution_count": 120,
      "metadata": {},
      "outputs": [
        {
          "name": "stdout",
          "output_type": "stream",
          "text": [
            "No duplicates found in the dataset\n"
          ]
        }
      ],
      "source": [
        "default_pipeline.preprocessing.remove_duplicates()"
      ]
    },
    {
      "cell_type": "code",
      "execution_count": 121,
      "metadata": {},
      "outputs": [
        {
          "name": "stdout",
          "output_type": "stream",
          "text": [
            "No missing values found in the dataset\n"
          ]
        }
      ],
      "source": [
        "default_pipeline.preprocessing.get_missing_values()"
      ]
    },
    {
      "cell_type": "markdown",
      "metadata": {},
      "source": [
        "In this section, we conduct an Exploratory Data Analysis (EDA) on the dynamic malware dataset to gain initial insights into the structure, distribution, and quality of the data prior to modeling. The dataset includes behavioral features extracted from Android applications, along with labels indicating their respective malware categories. Understanding the composition of the dataset, such as class imbalance, feature correlations, and the presence of outliers, is crucial to ensure robust preprocessing, informed feature engineering, and  the success of machine learning classifiers.\n"
      ]
    },
    {
      "cell_type": "markdown",
      "metadata": {},
      "source": [
        "### SUGGESTIONS FOR IMPROVEMENTS\n",
        "- Cluster analysis"
      ]
    },
    {
      "cell_type": "markdown",
      "metadata": {},
      "source": [
        "## Data Type Distribution"
      ]
    },
    {
      "cell_type": "code",
      "execution_count": 122,
      "metadata": {},
      "outputs": [],
      "source": [
        "# # Get the data types of each column\n",
        "# data_types = dataset.df.dtypes\n",
        "\n",
        "# # Count the frequency of each data type\n",
        "# type_counts = data_types.value_counts()\n",
        "\n",
        "# # Plotting the frequency of data types\n",
        "# type_counts.plot(kind='bar', color='skyblue')\n",
        "\n",
        "# # Add title and labels\n",
        "# plt.title('Frequency of Data Types in DataFrame')\n",
        "# plt.xlabel('Data Type')\n",
        "# plt.ylabel('Frequency')"
      ]
    },
    {
      "cell_type": "markdown",
      "metadata": {},
      "source": [
        "We can see that most columns are numerical. Lets gets to see which are the variables that are of type object."
      ]
    },
    {
      "cell_type": "code",
      "execution_count": 123,
      "metadata": {},
      "outputs": [],
      "source": [
        "# df_onlyCols = dataset.df.select_dtypes(include=[\"object\"]).columns\n",
        "# df_onlyCols"
      ]
    },
    {
      "cell_type": "markdown",
      "metadata": {},
      "source": [
        "## Summary Statistics Overview"
      ]
    },
    {
      "cell_type": "markdown",
      "metadata": {
        "id": "28_glozSPDm7"
      },
      "source": [
        "## Histograms\n"
      ]
    },
    {
      "cell_type": "code",
      "execution_count": 124,
      "metadata": {
        "colab": {
          "base_uri": "https://localhost:8080/",
          "height": 1000
        },
        "id": "WVSB5cgoYRDr",
        "outputId": "6da84feb-1032-4185-b3e6-de73e05279df"
      },
      "outputs": [
        {
          "data": {
            "text/plain": [
              "'# Select only numerical features\\nnumerical_cols = dataset.df.select_dtypes(include=[np.number]).columns\\n\\n# Define number of rows and columns for subplots\\nnum_features = len(numerical_cols)\\ncols = 4  # Number of columns per row\\nrows = math.ceil(num_features / cols)  # Calculate required rows\\n\\n# Create subplots\\nfig, axes = plt.subplots(rows, cols, figsize=(16, rows * 4))\\naxes = axes.flatten()  # Flatten to easily iterate\\n\\n# Plot histograms\\nfor i, col in enumerate(numerical_cols):\\n    sns.histplot(df[col], bins=30, kde=True, ax=axes[i])  # kde=True for smooth curve\\n    axes[i].set_title(col)\\n\\n# Remove empty subplots\\nfor i in range(num_features, len(axes)):\\n    fig.delaxes(axes[i])\\n\\nplt.tight_layout()\\nplt.show()'"
            ]
          },
          "execution_count": 124,
          "metadata": {},
          "output_type": "execute_result"
        }
      ],
      "source": [
        "\"\"\"# Select only numerical features\n",
        "numerical_cols = dataset.df.select_dtypes(include=[np.number]).columns\n",
        "\n",
        "# Define number of rows and columns for subplots\n",
        "num_features = len(numerical_cols)\n",
        "cols = 4  # Number of columns per row\n",
        "rows = math.ceil(num_features / cols)  # Calculate required rows\n",
        "\n",
        "# Create subplots\n",
        "fig, axes = plt.subplots(rows, cols, figsize=(16, rows * 4))\n",
        "axes = axes.flatten()  # Flatten to easily iterate\n",
        "\n",
        "# Plot histograms\n",
        "for i, col in enumerate(numerical_cols):\n",
        "    sns.histplot(df[col], bins=30, kde=True, ax=axes[i])  # kde=True for smooth curve\n",
        "    axes[i].set_title(col)\n",
        "\n",
        "# Remove empty subplots\n",
        "for i in range(num_features, len(axes)):\n",
        "    fig.delaxes(axes[i])\n",
        "\n",
        "plt.tight_layout()\n",
        "plt.show()\"\"\""
      ]
    },
    {
      "cell_type": "markdown",
      "metadata": {},
      "source": [
        "We can see most distributions tend to be right-skewed and only a small portion follows a normal distribution. This right-skewness will be dealt in feature-engineering."
      ]
    },
    {
      "cell_type": "code",
      "execution_count": 125,
      "metadata": {
        "colab": {
          "base_uri": "https://localhost:8080/",
          "height": 1000
        },
        "id": "YDO2OqktbPDN",
        "outputId": "59795112-1aaf-4e5d-99fb-999c1b58b662"
      },
      "outputs": [
        {
          "data": {
            "text/plain": [
              "'# Select only numerical features\\nnumerical_cols = dataset.df.select_dtypes(include=[np.number]).columns\\n\\n# Define number of rows and columns for subplots\\nnum_features = len(numerical_cols)\\ncols = 4  # Number of columns per row\\nrows = math.ceil(num_features / cols)  # Calculate required rows\\n\\n# Create subplots\\nfig, axes = plt.subplots(rows, cols, figsize=(16, rows * 4))\\naxes = axes.flatten()  # Flatten to easily iterate\\n\\n# Plot boxplots\\nfor i, col in enumerate(numerical_cols):\\n    sns.boxplot(x=dataset.df[col], ax=axes[i])  # Boxplot for each feature\\n    axes[i].set_title(col)\\n\\n# Remove empty subplots\\nfor i in range(num_features, len(axes)):\\n    fig.delaxes(axes[i])\\n\\nplt.tight_layout()\\nplt.show()'"
            ]
          },
          "execution_count": 125,
          "metadata": {},
          "output_type": "execute_result"
        }
      ],
      "source": [
        "\"\"\"# Select only numerical features\n",
        "numerical_cols = dataset.df.select_dtypes(include=[np.number]).columns\n",
        "\n",
        "# Define number of rows and columns for subplots\n",
        "num_features = len(numerical_cols)\n",
        "cols = 4  # Number of columns per row\n",
        "rows = math.ceil(num_features / cols)  # Calculate required rows\n",
        "\n",
        "# Create subplots\n",
        "fig, axes = plt.subplots(rows, cols, figsize=(16, rows * 4))\n",
        "axes = axes.flatten()  # Flatten to easily iterate\n",
        "\n",
        "# Plot boxplots\n",
        "for i, col in enumerate(numerical_cols):\n",
        "    sns.boxplot(x=dataset.df[col], ax=axes[i])  # Boxplot for each feature\n",
        "    axes[i].set_title(col)\n",
        "\n",
        "# Remove empty subplots\n",
        "for i in range(num_features, len(axes)):\n",
        "    fig.delaxes(axes[i])\n",
        "\n",
        "plt.tight_layout()\n",
        "plt.show()\"\"\""
      ]
    },
    {
      "cell_type": "markdown",
      "metadata": {
        "id": "LDW_CStuioNs"
      },
      "source": [
        "## Numerical Features"
      ]
    },
    {
      "cell_type": "markdown",
      "metadata": {
        "id": "EnC_-AYbitFA"
      },
      "source": [
        "Seemed to be grouped by prefixes: Memory, Network, Battery, Logcat, Process y API.\n",
        "\n",
        "According to dataset authors to capture how various malware families and categories behave at runtime, the analysis relies on six distinct sets of features obtained after executing each sample within a controlled emulated environment. These feature groups offer a comprehensive view of the malware's dynamic activity.\n",
        "\n",
        "This categories appear before the first _ in every feature label and are defined as:\n",
        "\n",
        "\n",
        "\"Memory: Memory features define activities performed by malware by utilizing memory.\n",
        "\n",
        "API: Application Programming Interface (API) features delineate the communication between two applications.\n",
        "\n",
        "Network: Network features describe the data transmitted and received between other devices in the network. It indicates foreground and background network usage.\n",
        "\n",
        "Battery: Battery features describe the access to battery wakelock and services by malware.\n",
        "\n",
        "Logcat: Logcat features write log messages corresponding to a function performed by malware.\n",
        "\n",
        "Process: Process features count the interaction of malware with total number of processes.\"\n",
        "\n"
      ]
    },
    {
      "cell_type": "code",
      "execution_count": 126,
      "metadata": {
        "colab": {
          "base_uri": "https://localhost:8080/"
        },
        "id": "raKBvgK5ircs",
        "outputId": "6109fdf7-3a42-4496-a39b-f34bfe204c1b"
      },
      "outputs": [
        {
          "data": {
            "text/plain": [
              "'numeric_cols = dataset.df.select_dtypes(include=\\'number\\').columns\\n\\n# Grouping based on the first prefix before \"_\"\\nprefix_groups = defaultdict(list)\\n\\nfor col in numeric_cols:\\n    prefix = col.split(\"_\")[0]  # Get the first word before the underscore\\n    prefix_groups[prefix].append(col)\\n\\nfor prefix, columns in prefix_groups.items():\\n    print(f\"\\n {prefix} ({len(columns)} features):\")\\n    for col in columns:\\n        print(f\"  - {col}\")'"
            ]
          },
          "execution_count": 126,
          "metadata": {},
          "output_type": "execute_result"
        }
      ],
      "source": [
        "\"\"\"numeric_cols = dataset.df.select_dtypes(include='number').columns\n",
        "\n",
        "# Grouping based on the first prefix before \"_\"\n",
        "prefix_groups = defaultdict(list)\n",
        "\n",
        "for col in numeric_cols:\n",
        "    prefix = col.split(\"_\")[0]  # Get the first word before the underscore\n",
        "    prefix_groups[prefix].append(col)\n",
        "\n",
        "for prefix, columns in prefix_groups.items():\n",
        "    print(f\"\\n {prefix} ({len(columns)} features):\")\n",
        "    for col in columns:\n",
        "        print(f\"  - {col}\")\"\"\""
      ]
    },
    {
      "cell_type": "markdown",
      "metadata": {
        "id": "Uv7LWIIU5X5i"
      },
      "source": [
        "## Categorical Features"
      ]
    },
    {
      "cell_type": "code",
      "execution_count": 127,
      "metadata": {
        "colab": {
          "base_uri": "https://localhost:8080/",
          "height": 175
        },
        "id": "gA-v2L6x5ImZ",
        "outputId": "e7b19c28-c316-4b5a-eec7-90ee38c6dd0b"
      },
      "outputs": [
        {
          "data": {
            "text/plain": [
              "'#Statistical summary for categorical features\\ndataset.df.describe(include=[\"object\", \"category\", \"bool\"])'"
            ]
          },
          "execution_count": 127,
          "metadata": {},
          "output_type": "execute_result"
        }
      ],
      "source": [
        "\"\"\"#Statistical summary for categorical features\n",
        "dataset.df.describe(include=[\"object\", \"category\", \"bool\"])\"\"\""
      ]
    },
    {
      "cell_type": "code",
      "execution_count": 128,
      "metadata": {
        "colab": {
          "base_uri": "https://localhost:8080/"
        },
        "id": "qJbNriVFrRYE",
        "outputId": "2935f3d0-a88b-4bd4-8b98-f4c76a641092"
      },
      "outputs": [
        {
          "data": {
            "text/plain": [
              "\"print(dataset.df[['Hash', 'Category', 'Family']].head())\""
            ]
          },
          "execution_count": 128,
          "metadata": {},
          "output_type": "execute_result"
        }
      ],
      "source": [
        "\"\"\"print(dataset.df[['Hash', 'Category', 'Family']].head())\"\"\""
      ]
    },
    {
      "cell_type": "markdown",
      "metadata": {
        "id": "BBWBDyuc4q47"
      },
      "source": [
        "Hash: unique identifier that represents each malware sample. <<<>>>THIS IS PROBABLY WRONG<<<>>>\n",
        "\n",
        "Category: general classification of the malware sample based on its behavior.\n",
        "\n",
        "Family: more fine-grained grouping of malware based on its codebase or origin"
      ]
    },
    {
      "cell_type": "markdown",
      "metadata": {
        "id": "DC5leffBsW5W"
      },
      "source": [
        "For hash, it will first be checked if the same malware before and after reboot contains the same hash value."
      ]
    },
    {
      "cell_type": "code",
      "execution_count": 129,
      "metadata": {
        "colab": {
          "base_uri": "https://localhost:8080/"
        },
        "id": "_ep2R1vwzRyy",
        "outputId": "3048de1d-c0cd-437d-9044-68a3ed1c3fc3"
      },
      "outputs": [
        {
          "data": {
            "text/plain": [
              "'# Count how many times each hash appears in \\'before\\' and \\'after\\'\\nhash_reboot_counts =dataset.df.groupby([\\'Hash\\', \\'reboot\\']).size().unstack(fill_value=0)\\n\\n# Hashes in both with exactly one in each\\nhashes_with_one_each = hash_reboot_counts[\\n    (hash_reboot_counts[\\'before\\'] == 1) & (hash_reboot_counts[\\'after\\'] == 1)\\n].index\\n\\n# Hashes in both but with extra rows\\nhashes_in_both_but_not_clean = hash_reboot_counts[\\n    (hash_reboot_counts[\\'before\\'] > 0) &\\n    (hash_reboot_counts[\\'after\\'] > 0) &\\n    ~((hash_reboot_counts[\\'before\\'] == 1) & (hash_reboot_counts[\\'after\\'] == 1))\\n].index\\n\\n# Total unique hashes\\ntotal_unique_hashes = dataset.df[\\'Hash\\'].nunique()\\n\\n# Hashes in only one reboot condition\\nhashes_in_one_condition = hash_reboot_counts[\\n    (hash_reboot_counts[\\'before\\'] == 0) | (hash_reboot_counts[\\'after\\'] == 0)\\n]\\n\\n# Only once in one reboot condition\\nonly_once_in_one = hashes_in_one_condition[\\n    (hashes_in_one_condition[\\'before\\'] == 1) | (hashes_in_one_condition[\\'after\\'] == 1)\\n]\\n\\n# More than once in one reboot condition\\nmore_than_once_in_one = hashes_in_one_condition[\\n    ((hashes_in_one_condition[\\'before\\'] > 1) & (hashes_in_one_condition[\\'after\\'] == 0)) |\\n    ((hashes_in_one_condition[\\'after\\'] > 1) & (hashes_in_one_condition[\\'before\\'] == 0))\\n]\\n\\n# Split those into counts\\nmore_than_once_in_before = more_than_once_in_one[more_than_once_in_one[\\'before\\'] > 1]\\nmore_than_once_in_after = more_than_once_in_one[more_than_once_in_one[\\'after\\'] > 1]\\n\\n# --- PRINT RESULTS ---\\nprint(f\"Hashes with EXACTLY one row in BOTH before and after: {len(hashes_with_one_each)}\")\\nprint(f\"Hashes in BOTH, BUT with extra rows: {len(hashes_in_both_but_not_clean)}\")\\n\\nprint(f\"\\nHashes in ONLY ONE reboot condition:\")\\nprint(f\"• Appearing ONLY ONCE: {len(only_once_in_one)}\")\\nprint(f\"• Appearing MORE THAN ONCE: {len(more_than_once_in_one)}\")\\nprint(f\"   - More than once in BEFORE: {len(more_than_once_in_before)}\")\\nprint(f\"   - More than once in AFTER: {len(more_than_once_in_after)}\")\\n\\nprint(f\"\\nTotal breakdown:\")\\nprint(f\"• In BOTH (any): {len(hashes_with_one_each) + len(hashes_in_both_but_not_clean)}\")\\nprint(f\"• In ONLY ONE reboot: {len(hashes_in_one_condition)}\")\\nprint(f\"• TOTAL unique hashes: {total_unique_hashes}\")\\n'"
            ]
          },
          "execution_count": 129,
          "metadata": {},
          "output_type": "execute_result"
        }
      ],
      "source": [
        "\"\"\"# Count how many times each hash appears in 'before' and 'after'\n",
        "hash_reboot_counts =dataset.df.groupby(['Hash', 'reboot']).size().unstack(fill_value=0)\n",
        "\n",
        "# Hashes in both with exactly one in each\n",
        "hashes_with_one_each = hash_reboot_counts[\n",
        "    (hash_reboot_counts['before'] == 1) & (hash_reboot_counts['after'] == 1)\n",
        "].index\n",
        "\n",
        "# Hashes in both but with extra rows\n",
        "hashes_in_both_but_not_clean = hash_reboot_counts[\n",
        "    (hash_reboot_counts['before'] > 0) &\n",
        "    (hash_reboot_counts['after'] > 0) &\n",
        "    ~((hash_reboot_counts['before'] == 1) & (hash_reboot_counts['after'] == 1))\n",
        "].index\n",
        "\n",
        "# Total unique hashes\n",
        "total_unique_hashes = dataset.df['Hash'].nunique()\n",
        "\n",
        "# Hashes in only one reboot condition\n",
        "hashes_in_one_condition = hash_reboot_counts[\n",
        "    (hash_reboot_counts['before'] == 0) | (hash_reboot_counts['after'] == 0)\n",
        "]\n",
        "\n",
        "# Only once in one reboot condition\n",
        "only_once_in_one = hashes_in_one_condition[\n",
        "    (hashes_in_one_condition['before'] == 1) | (hashes_in_one_condition['after'] == 1)\n",
        "]\n",
        "\n",
        "# More than once in one reboot condition\n",
        "more_than_once_in_one = hashes_in_one_condition[\n",
        "    ((hashes_in_one_condition['before'] > 1) & (hashes_in_one_condition['after'] == 0)) |\n",
        "    ((hashes_in_one_condition['after'] > 1) & (hashes_in_one_condition['before'] == 0))\n",
        "]\n",
        "\n",
        "# Split those into counts\n",
        "more_than_once_in_before = more_than_once_in_one[more_than_once_in_one['before'] > 1]\n",
        "more_than_once_in_after = more_than_once_in_one[more_than_once_in_one['after'] > 1]\n",
        "\n",
        "# --- PRINT RESULTS ---\n",
        "print(f\"Hashes with EXACTLY one row in BOTH before and after: {len(hashes_with_one_each)}\")\n",
        "print(f\"Hashes in BOTH, BUT with extra rows: {len(hashes_in_both_but_not_clean)}\")\n",
        "\n",
        "print(f\"\\nHashes in ONLY ONE reboot condition:\")\n",
        "print(f\"• Appearing ONLY ONCE: {len(only_once_in_one)}\")\n",
        "print(f\"• Appearing MORE THAN ONCE: {len(more_than_once_in_one)}\")\n",
        "print(f\"   - More than once in BEFORE: {len(more_than_once_in_before)}\")\n",
        "print(f\"   - More than once in AFTER: {len(more_than_once_in_after)}\")\n",
        "\n",
        "print(f\"\\nTotal breakdown:\")\n",
        "print(f\"• In BOTH (any): {len(hashes_with_one_each) + len(hashes_in_both_but_not_clean)}\")\n",
        "print(f\"• In ONLY ONE reboot: {len(hashes_in_one_condition)}\")\n",
        "print(f\"• TOTAL unique hashes: {total_unique_hashes}\")\n",
        "\"\"\""
      ]
    },
    {
      "cell_type": "markdown",
      "metadata": {
        "id": "i2IGnd2izsOY"
      },
      "source": [
        "A total of 19,169 hashes appear exactly once in both before and after conditions. These are highly reliable for paired  comparisons, ideal for understanding how reboot affects malware behavior.\n",
        "\n",
        "\n",
        "There are 158 hashes that appear in both reboot states but not exactly once in each. These extra instances may come from inconsistencies in data capture like multiple logs for the same sample and should be checked.\n",
        "\n",
        "A significant portion of samples appear only in one reboot condition. This is consistent with limitations described in the original dataset paper, where some malware samples failed to execute after the reboot. However, what is curious is that some still have been logged more than once.\n"
      ]
    },
    {
      "cell_type": "code",
      "execution_count": 130,
      "metadata": {
        "colab": {
          "base_uri": "https://localhost:8080/",
          "height": 89
        },
        "id": "NzJxov9LLOGu",
        "outputId": "a0691e50-f676-4ef2-e150-166b1e96a5ff"
      },
      "outputs": [
        {
          "data": {
            "text/plain": [
              "\"dataset.df.drop(columns=['Hash'], inplace=True)\\n'''\\nThe Hash column is a high-cardinality feature, containing unique values for a high number of rows in the dataset.\\nIt serves as an identifier for each malware sample. Including this column in modeling\\nwould not only offer no predictive value but could also lead to overfitting or cause issues with algorithms that are\\nsensitive to high-cardinality categorical features.\\n <<<>>> J.N: may be better to focus the argumentation on ID not being useful rather than high-cardinality per se. Also write the \\n  argumentation in a text cell not in this type of comments. <<<>>>\\n'''\""
            ]
          },
          "execution_count": 130,
          "metadata": {},
          "output_type": "execute_result"
        }
      ],
      "source": [
        "\"\"\"dataset.df.drop(columns=['Hash'], inplace=True)\n",
        "'''\n",
        "The Hash column is a high-cardinality feature, containing unique values for a high number of rows in the dataset.\n",
        "It serves as an identifier for each malware sample. Including this column in modeling\n",
        "would not only offer no predictive value but could also lead to overfitting or cause issues with algorithms that are\n",
        "sensitive to high-cardinality categorical features.\n",
        " <<<>>> J.N: may be better to focus the argumentation on ID not being useful rather than high-cardinality per se. Also write the \n",
        "  argumentation in a text cell not in this type of comments. <<<>>>\n",
        "'''\"\"\""
      ]
    },
    {
      "cell_type": "markdown",
      "metadata": {
        "id": "1kZUupRE1vx5"
      },
      "source": [
        "This research will be using both Category and Family as the target variables for classification."
      ]
    },
    {
      "cell_type": "markdown",
      "metadata": {
        "id": "eaHsU58AdvlN"
      },
      "source": [
        "## Reboot Analysis"
      ]
    },
    {
      "cell_type": "code",
      "execution_count": 131,
      "metadata": {
        "colab": {
          "base_uri": "https://localhost:8080/"
        },
        "id": "5ymeBe4fKdNi",
        "outputId": "ce478b18-ff6a-4720-f19c-e5ecabfbbbbb"
      },
      "outputs": [
        {
          "data": {
            "text/plain": [
              "'print(dataset.df[\"reboot\"].value_counts())'"
            ]
          },
          "execution_count": 131,
          "metadata": {},
          "output_type": "execute_result"
        }
      ],
      "source": [
        "\"\"\"print(dataset.df[\"reboot\"].value_counts())\"\"\""
      ]
    },
    {
      "cell_type": "markdown",
      "metadata": {
        "id": "BV8hkdL2SHVe"
      },
      "source": [
        "The imbalance observed in the dataset, with 28,380 samples collected before reboot and only 25,059 after reboot, is explained by limitations found during the dynamic analysis. The authors of the dataset note that \"there was no entry point in some Android malware samples and some Android malware samples stopped abruptly.\" This means that certain malware applications either failed to launch or terminated unexpectedly during execution, preventing the collection of dynamic behavior data, particularly after the reboot phase.\n",
        "\n",
        "Additionally, the study highlights another critical limitation: \"the dynamic analysis is performed in an emulator. Some malware samples are able to detect the emulated environment and are not executed.\" This behavior reflects common anti-analysis techniques used by sophisticated malware, which can detect when they are running in a sandbox or emulator and intentionally suspend their malicious actions.\n",
        "\n",
        "\n"
      ]
    },
    {
      "cell_type": "markdown",
      "metadata": {},
      "source": [
        "<<<>>>THIS ANALYSIS IS SUPER GOOD (you can delete this comment)<<<>>>"
      ]
    },
    {
      "cell_type": "markdown",
      "metadata": {
        "id": "YuIT6CKgeqcZ"
      },
      "source": [
        "The displayed features are the top 10  most affected by reboot showing a clear reboot-sensitive behavior."
      ]
    },
    {
      "cell_type": "code",
      "execution_count": 132,
      "metadata": {
        "colab": {
          "base_uri": "https://localhost:8080/",
          "height": 627
        },
        "id": "i9p8S9woa19A",
        "outputId": "7c14fef2-103d-40a4-85e0-50c138fdb448"
      },
      "outputs": [
        {
          "data": {
            "text/plain": [
              "'#Category distribution across reboot\\nplt.figure(figsize=(12, 6))\\nsns.countplot(data=dataset.df, x=\\'Category\\', hue=\\'reboot\\')\\nplt.title(\"Malware Categories by Reboot Condition\")\\nplt.xticks(rotation=45)\\nplt.tight_layout()\\nplt.show()'"
            ]
          },
          "execution_count": 132,
          "metadata": {},
          "output_type": "execute_result"
        }
      ],
      "source": [
        "\"\"\"#Category distribution across reboot\n",
        "plt.figure(figsize=(12, 6))\n",
        "sns.countplot(data=dataset.df, x='Category', hue='reboot')\n",
        "plt.title(\"Malware Categories by Reboot Condition\")\n",
        "plt.xticks(rotation=45)\n",
        "plt.tight_layout()\n",
        "plt.show()\"\"\"\n"
      ]
    },
    {
      "cell_type": "markdown",
      "metadata": {
        "id": "pWwaTM_JeoWk"
      },
      "source": [
        "To identify which numeric features are most influenced by the reboot condition, the dataset will be grouped by the reboot variable, separating entries collected before and after the device reboot. Within each group, the mean of every numeric feature will be computed, allowing for the comparison of average behavior across both states.\n",
        "\n",
        "A new column labeled 'diff' was then added, representing the difference between the mean values after and before the reboot for each feature. A positive value indicates that the feature increased after reboot, while a negative value shows it decreased."
      ]
    },
    {
      "cell_type": "code",
      "execution_count": 133,
      "metadata": {
        "colab": {
          "base_uri": "https://localhost:8080/",
          "height": 363
        },
        "id": "jG1RQO7AcIWG",
        "outputId": "00489ed7-d243-4fae-d577-849381abbca2"
      },
      "outputs": [
        {
          "data": {
            "text/plain": [
              "\"reboot_means = dataset.df.groupby('reboot').mean(numeric_only=True).T\\nreboot_means['diff'] = reboot_means['after'] - reboot_means['before']\\nreboot_means_sorted = reboot_means.sort_values(by='diff', ascending=False)\\n\\nreboot_means_sorted.head(10)\""
            ]
          },
          "execution_count": 133,
          "metadata": {},
          "output_type": "execute_result"
        }
      ],
      "source": [
        "\"\"\"reboot_means = dataset.df.groupby('reboot').mean(numeric_only=True).T\n",
        "reboot_means['diff'] = reboot_means['after'] - reboot_means['before']\n",
        "reboot_means_sorted = reboot_means.sort_values(by='diff', ascending=False)\n",
        "\n",
        "reboot_means_sorted.head(10)\"\"\""
      ]
    },
    {
      "cell_type": "markdown",
      "metadata": {
        "id": "-7cm_Z81fWqq"
      },
      "source": [
        "The results reveal that several features show clear shifts after reboot. Specially, network-related features such as Network_TotalReceivedBytes and Network_TotalTransmittedBytes demonstrate significant increases, suggesting that some malware types intensify data transmission once the device has rebooted. Memory features like Memory_SharedClean, Memory_HeapSize, and Memory_HeapAlloc also show increased values after reboot, indicating greater memory use or altered memory management after reboot.\n",
        "This shows that the reboot condition plays an important role in runtime behavior and should be treated as an important factor in exploratory analysis and modeling."
      ]
    },
    {
      "cell_type": "markdown",
      "metadata": {},
      "source": [
        "## Family"
      ]
    },
    {
      "cell_type": "code",
      "execution_count": 134,
      "metadata": {},
      "outputs": [
        {
          "data": {
            "text/plain": [
              "'#How many categories each family belongs to\\ndataset.df.groupby(\"Family\")[\"Category\"].nunique().sort_values(ascending=False)'"
            ]
          },
          "execution_count": 134,
          "metadata": {},
          "output_type": "execute_result"
        }
      ],
      "source": [
        "\"\"\"#How many categories each family belongs to\n",
        "dataset.df.groupby(\"Family\")[\"Category\"].nunique().sort_values(ascending=False)\"\"\""
      ]
    },
    {
      "cell_type": "markdown",
      "metadata": {},
      "source": [
        "Almost every family is either unknown or unique\n"
      ]
    },
    {
      "cell_type": "code",
      "execution_count": 135,
      "metadata": {},
      "outputs": [],
      "source": [
        "# <<<Error: NameError: name 'family_to_category' is not defined>>> (this Irina's code; copied from Argentinan guy's notebook)\n",
        "# multi_cat_families = family_to_category[family_to_category > 1]\n",
        "# print(f\"Number of families mapping to multiple categories: {len(multi_cat_families)}\")\n",
        "# print(multi_cat_families)"
      ]
    },
    {
      "cell_type": "markdown",
      "metadata": {},
      "source": [
        "There is only one Family that maps to multiple categories, and is the placeholder unknown.\n",
        "\n",
        "The following code displays how many samples with unknown family labels belong to each malware category."
      ]
    },
    {
      "cell_type": "code",
      "execution_count": 136,
      "metadata": {},
      "outputs": [
        {
          "data": {
            "text/plain": [
              "'dataset.df[dataset.df[\"Family\"] == \"<unknown>\"][\"Category\"].value_counts()'"
            ]
          },
          "execution_count": 136,
          "metadata": {},
          "output_type": "execute_result"
        }
      ],
      "source": [
        "\"\"\"dataset.df[dataset.df[\"Family\"] == \"<unknown>\"][\"Category\"].value_counts()\"\"\""
      ]
    },
    {
      "cell_type": "code",
      "execution_count": 137,
      "metadata": {},
      "outputs": [
        {
          "data": {
            "text/plain": [
              "'# Step 1: Count unique families per category\\nfamily_amount = dataset.df.groupby(\"Category\")[\"Family\"].nunique()\\n\\n# Step 2: Total number of instances per category\\ntotal_per_category = dataset.df[\"Category\"].value_counts()\\n\\n# Step 3: Count how many of those are <unknown> per category\\nunknown_amount = dataset.df[dataset.df[\"Family\"] == \"<unknown>\"][\"Category\"].value_counts()\\n\\n# Step 4: Combine all stats into a summary table\\nsummary_df = pd.DataFrame({\\n    \"Family_amount\": family_amount,\\n    \"Total_category\": total_per_category,\\n    \"Unknown_amount\": unknown_amount\\n}).fillna(0).astype({\"Unknown_amount\": int})\\n\\n# Step 5: Calculate percentage of unknowns per category\\nsummary_df[\"%_Unknown\"] = (summary_df[\"Unknown_amount\"] / summary_df[\"Total_category\"] * 100).round(2)\\n\\n# Reorder columns for readability\\nsummary_df = summary_df[[\"Family_amount\", \"Total_category\", \"Unknown_amount\", \"%_Unknown\"]]\\n\\n# Display the summary\\nprint(summary_df)'"
            ]
          },
          "execution_count": 137,
          "metadata": {},
          "output_type": "execute_result"
        }
      ],
      "source": [
        "\"\"\"# Step 1: Count unique families per category\n",
        "family_amount = dataset.df.groupby(\"Category\")[\"Family\"].nunique()\n",
        "\n",
        "# Step 2: Total number of instances per category\n",
        "total_per_category = dataset.df[\"Category\"].value_counts()\n",
        "\n",
        "# Step 3: Count how many of those are <unknown> per category\n",
        "unknown_amount = dataset.df[dataset.df[\"Family\"] == \"<unknown>\"][\"Category\"].value_counts()\n",
        "\n",
        "# Step 4: Combine all stats into a summary table\n",
        "summary_df = pd.DataFrame({\n",
        "    \"Family_amount\": family_amount,\n",
        "    \"Total_category\": total_per_category,\n",
        "    \"Unknown_amount\": unknown_amount\n",
        "}).fillna(0).astype({\"Unknown_amount\": int})\n",
        "\n",
        "# Step 5: Calculate percentage of unknowns per category\n",
        "summary_df[\"%_Unknown\"] = (summary_df[\"Unknown_amount\"] / summary_df[\"Total_category\"] * 100).round(2)\n",
        "\n",
        "# Reorder columns for readability\n",
        "summary_df = summary_df[[\"Family_amount\", \"Total_category\", \"Unknown_amount\", \"%_Unknown\"]]\n",
        "\n",
        "# Display the summary\n",
        "print(summary_df)\"\"\""
      ]
    },
    {
      "cell_type": "code",
      "execution_count": 138,
      "metadata": {},
      "outputs": [
        {
          "data": {
            "text/plain": [
              "'unknown_count = (dataset.df[\"Family\"] == \"<unknown>\").sum()\\nprint(f\"Number of rows with Family == \\'<unknown>\\': {unknown_count}\")'"
            ]
          },
          "execution_count": 138,
          "metadata": {},
          "output_type": "execute_result"
        }
      ],
      "source": [
        "\"\"\"unknown_count = (dataset.df[\"Family\"] == \"<unknown>\").sum()\n",
        "print(f\"Number of rows with Family == '<unknown>': {unknown_count}\")\"\"\"\n"
      ]
    },
    {
      "cell_type": "markdown",
      "metadata": {},
      "source": [
        "Based on the analysis of family distribution across categories:\n",
        "\n",
        "The Adware category stands out with zero instances labeled as <unknown> and a balanced distribution across 43 families. This makes it a strong candidate for modeling.\n",
        "\n",
        "In contrast, Zero_Day and No_Category The categories Zero_Day and No_Category exhibit extremely high family dispersion, with 2576 and 335 unique families. These values are significantly higher than all other categories, which generally have fewer than 50 families each.\n",
        "\n",
        "\n",
        "This suggests they function more as placeholder labels. In particular, Zero_Day likely serves as a catch-all label for unknown or uncategorized threats, making it ambiguous. In cybersecurity, this term is refered to a new unknown vulnerability, not yet classified in terms of malware behavior, this is why samples are varied. They do not seem to represent a consistent type. On the other hand, No_Category explicitly denotes a lack of category. So, including these instances would only bring noise to the training process, preventing the model from learning meaningful patterns.\n",
        "Therefore, they are excluded from the final dataset to preserve the quality and consistency of the classification task.\n",
        "\n",
        "\n",
        "Additionally, categories like FileInfector show a high percentage of <unknown> families (6.85%) despite having a small total count, raising concerns about label quality. Most other categories maintain a relatively stable level of unknowns (around 3–5%), indicating that the presence of <unknown> is manageable."
      ]
    },
    {
      "cell_type": "markdown",
      "metadata": {},
      "source": [
        "<hr>"
      ]
    },
    {
      "cell_type": "markdown",
      "metadata": {},
      "source": [
        "# 2. DATA SPLITTING\n",
        "### TO BE DONE\n",
        "- Statistical analysis of this\n",
        "- Make sure they follow the same distributions"
      ]
    },
    {
      "cell_type": "markdown",
      "metadata": {},
      "source": [
        "### Data Splitting: Category as target variable\n",
        "Originally, we will focus only on category\n",
        "\n",
        "Lets first get the X and y extracted from our dataset"
      ]
    },
    {
      "cell_type": "markdown",
      "metadata": {},
      "source": [
        "Also object!\n",
        "Lets get back to the splitting!"
      ]
    },
    {
      "cell_type": "markdown",
      "metadata": {},
      "source": [
        "Before, we split the dataset lets observe the SE of accuracy variation based on our choice of split. \n",
        "Brief explanation: we can model accuracy via a Binomial distribution. We know each event in a binomial distribution can be modelled through a bernoulli distribution, where the outcome represents the probability predicting the correct class or not. We make the assumption that each classification error is independent from each other. For:\n",
        "$$\n",
        "\\text{Bin} \\sim (n, p)\n",
        "$$\n",
        " let us assume that the parameter of this distribution is p = .85 and n is given by the choice of sample split for the test set. The SE of the sample proportion can be modeled via: \n",
        "$$\n",
        "\\text{SE}_{\\hat{p}} = \\sqrt{\\frac{p(1 - p)}{n}}\n",
        "\n",
        "$$"
      ]
    },
    {
      "cell_type": "markdown",
      "metadata": {},
      "source": [
        "Before we continue to assess all possible choices of split based on a variant n, also note that that choice of evenly distributed split (e.g: 10% for each hold-out set) between hold-out sets is arbitrary. Proper choice is that which guarantees an equivalent distribution at each hold-out sets, which may not neccesarily be the equivalent split. This brings a new choice of tradeoff between certainity of prediction accuracy (higher test size, smaller validaiton set) but possibly less space for proper hyperparemter optimization or the inverse (higher validation size, smaller set set). As with other tradeoffs, the priority for a given option is rooted in the model's application (which may come derived from a client/employer). For our case, we dont favor either option of the tradeoof, thus we will keep the even hold-out distribution.\n",
        "\n",
        "Finally, also note that that choice of evenly distributed split between hold-out sets is arbitrary. Proper choice is that which guarantees an equivalent distribution at each hold-out sets, which may not neccesarily be the equivalent split. This brings a new choice of tradeoff between certainity of prediction accuracy (higher test size, smaller validaiton set) but possibly less space for proper hyperparemter optimization or the inverse (higher validation size, smaller set set). As with other tradeoffs, the priority for a given option is rooted in the model's application (which may come derived from a client/employer). For our case, we dont favor either option of the tradeoof, thus we will keep the even hold-out distribution.\n"
      ]
    },
    {
      "cell_type": "code",
      "execution_count": 139,
      "metadata": {},
      "outputs": [
        {
          "name": "stderr",
          "output_type": "stream",
          "text": [
            "/Users/juanalonso-allende/Desktop/ml-final-project/library/phases/dataset/split/strategies/noTimeSeries.py:112: RuntimeWarning: divide by zero encountered in scalar divide\n",
            "  differenceToPriorSE_percentage = (currentSE - priorSE) /  priorSE\n"
          ]
        },
        {
          "data": {
            "image/png": "[encoded data removed]",
            "text/plain": [
              "<Figure size 640x480 with 2 Axes>"
            ]
          },
          "metadata": {},
          "output_type": "display_data"
        },
        {
          "data": {
            "text/html": [
              "<div>\n",
              "<style scoped>\n",
              "    .dataframe tbody tr th:only-of-type {\n",
              "        vertical-align: middle;\n",
              "    }\n",
              "\n",
              "    .dataframe tbody tr th {\n",
              "        vertical-align: top;\n",
              "    }\n",
              "\n",
              "    .dataframe thead th {\n",
              "        text-align: right;\n",
              "    }\n",
              "</style>\n",
              "<table border=\"1\" class=\"dataframe\">\n",
              "  <thead>\n",
              "    <tr style=\"text-align: right;\">\n",
              "      <th></th>\n",
              "      <th>train_size (%)</th>\n",
              "      <th>train_size_count</th>\n",
              "      <th>validation_size (%)</th>\n",
              "      <th>validation_size_count</th>\n",
              "      <th>test_size (%)</th>\n",
              "      <th>test_size_coount</th>\n",
              "      <th>currentSE</th>\n",
              "      <th>differenceToPriorSE</th>\n",
              "      <th>differenceToPriorSE (%)</th>\n",
              "    </tr>\n",
              "  </thead>\n",
              "  <tbody>\n",
              "    <tr>\n",
              "      <th>0</th>\n",
              "      <td>0.95</td>\n",
              "      <td>50767.0</td>\n",
              "      <td>0.025</td>\n",
              "      <td>1336.0</td>\n",
              "      <td>0.025</td>\n",
              "      <td>1336.0</td>\n",
              "      <td>0.009769</td>\n",
              "      <td>0.009769</td>\n",
              "      <td>inf</td>\n",
              "    </tr>\n",
              "    <tr>\n",
              "      <th>1</th>\n",
              "      <td>0.90</td>\n",
              "      <td>48095.0</td>\n",
              "      <td>0.050</td>\n",
              "      <td>2672.0</td>\n",
              "      <td>0.050</td>\n",
              "      <td>2672.0</td>\n",
              "      <td>0.006908</td>\n",
              "      <td>-0.002861</td>\n",
              "      <td>-0.292893</td>\n",
              "    </tr>\n",
              "    <tr>\n",
              "      <th>2</th>\n",
              "      <td>0.85</td>\n",
              "      <td>45423.0</td>\n",
              "      <td>0.075</td>\n",
              "      <td>4008.0</td>\n",
              "      <td>0.075</td>\n",
              "      <td>4008.0</td>\n",
              "      <td>0.005640</td>\n",
              "      <td>-0.001268</td>\n",
              "      <td>-0.183503</td>\n",
              "    </tr>\n",
              "    <tr>\n",
              "      <th>3</th>\n",
              "      <td>0.80</td>\n",
              "      <td>42751.0</td>\n",
              "      <td>0.100</td>\n",
              "      <td>5344.0</td>\n",
              "      <td>0.100</td>\n",
              "      <td>5344.0</td>\n",
              "      <td>0.004885</td>\n",
              "      <td>-0.000756</td>\n",
              "      <td>-0.133975</td>\n",
              "    </tr>\n",
              "    <tr>\n",
              "      <th>4</th>\n",
              "      <td>0.75</td>\n",
              "      <td>40079.0</td>\n",
              "      <td>0.125</td>\n",
              "      <td>6680.0</td>\n",
              "      <td>0.125</td>\n",
              "      <td>6680.0</td>\n",
              "      <td>0.004369</td>\n",
              "      <td>-0.000516</td>\n",
              "      <td>-0.105573</td>\n",
              "    </tr>\n",
              "    <tr>\n",
              "      <th>5</th>\n",
              "      <td>0.70</td>\n",
              "      <td>37407.0</td>\n",
              "      <td>0.150</td>\n",
              "      <td>8016.0</td>\n",
              "      <td>0.150</td>\n",
              "      <td>8016.0</td>\n",
              "      <td>0.003988</td>\n",
              "      <td>-0.000381</td>\n",
              "      <td>-0.087129</td>\n",
              "    </tr>\n",
              "    <tr>\n",
              "      <th>6</th>\n",
              "      <td>0.65</td>\n",
              "      <td>34735.0</td>\n",
              "      <td>0.175</td>\n",
              "      <td>9352.0</td>\n",
              "      <td>0.175</td>\n",
              "      <td>9352.0</td>\n",
              "      <td>0.003692</td>\n",
              "      <td>-0.000296</td>\n",
              "      <td>-0.074180</td>\n",
              "    </tr>\n",
              "    <tr>\n",
              "      <th>7</th>\n",
              "      <td>0.60</td>\n",
              "      <td>32063.0</td>\n",
              "      <td>0.200</td>\n",
              "      <td>10688.0</td>\n",
              "      <td>0.200</td>\n",
              "      <td>10688.0</td>\n",
              "      <td>0.003454</td>\n",
              "      <td>-0.000238</td>\n",
              "      <td>-0.064586</td>\n",
              "    </tr>\n",
              "    <tr>\n",
              "      <th>8</th>\n",
              "      <td>0.55</td>\n",
              "      <td>29391.0</td>\n",
              "      <td>0.225</td>\n",
              "      <td>12024.0</td>\n",
              "      <td>0.225</td>\n",
              "      <td>12024.0</td>\n",
              "      <td>0.003256</td>\n",
              "      <td>-0.000198</td>\n",
              "      <td>-0.057191</td>\n",
              "    </tr>\n",
              "    <tr>\n",
              "      <th>9</th>\n",
              "      <td>0.50</td>\n",
              "      <td>26720.0</td>\n",
              "      <td>0.250</td>\n",
              "      <td>13360.0</td>\n",
              "      <td>0.250</td>\n",
              "      <td>13360.0</td>\n",
              "      <td>0.003089</td>\n",
              "      <td>-0.000167</td>\n",
              "      <td>-0.051317</td>\n",
              "    </tr>\n",
              "  </tbody>\n",
              "</table>\n",
              "</div>"
            ],
            "text/plain": [
              "   train_size (%)  train_size_count  validation_size (%)  \\\n",
              "0            0.95           50767.0                0.025   \n",
              "1            0.90           48095.0                0.050   \n",
              "2            0.85           45423.0                0.075   \n",
              "3            0.80           42751.0                0.100   \n",
              "4            0.75           40079.0                0.125   \n",
              "5            0.70           37407.0                0.150   \n",
              "6            0.65           34735.0                0.175   \n",
              "7            0.60           32063.0                0.200   \n",
              "8            0.55           29391.0                0.225   \n",
              "9            0.50           26720.0                0.250   \n",
              "\n",
              "   validation_size_count  test_size (%)  test_size_coount  currentSE  \\\n",
              "0                 1336.0          0.025            1336.0   0.009769   \n",
              "1                 2672.0          0.050            2672.0   0.006908   \n",
              "2                 4008.0          0.075            4008.0   0.005640   \n",
              "3                 5344.0          0.100            5344.0   0.004885   \n",
              "4                 6680.0          0.125            6680.0   0.004369   \n",
              "5                 8016.0          0.150            8016.0   0.003988   \n",
              "6                 9352.0          0.175            9352.0   0.003692   \n",
              "7                10688.0          0.200           10688.0   0.003454   \n",
              "8                12024.0          0.225           12024.0   0.003256   \n",
              "9                13360.0          0.250           13360.0   0.003089   \n",
              "\n",
              "   differenceToPriorSE  differenceToPriorSE (%)  \n",
              "0             0.009769                      inf  \n",
              "1            -0.002861                -0.292893  \n",
              "2            -0.001268                -0.183503  \n",
              "3            -0.000756                -0.133975  \n",
              "4            -0.000516                -0.105573  \n",
              "5            -0.000381                -0.087129  \n",
              "6            -0.000296                -0.074180  \n",
              "7            -0.000238                -0.064586  \n",
              "8            -0.000198                -0.057191  \n",
              "9            -0.000167                -0.051317  "
            ]
          },
          "execution_count": 139,
          "metadata": {},
          "output_type": "execute_result"
        }
      ],
      "source": [
        "default_pipeline.dataset.split.asses_split_classifier(p=.85, step=.05, plot=True)"
      ]
    },
    {
      "cell_type": "markdown",
      "metadata": {},
      "source": [
        "[We can see a diminishing-returns class graph](https://en.wikipedia.org/wiki/Knee_of_a_curve). The more we decline the training set percentage the slower and more steadier the current SE varies as well as the difference to prior SE, in percentage. We can see that the knee in the curve is between 80 and 90 training set percentage. This represents the area where when you start going below the lower bound, no **significant** improve appears. Given the fact that our criteria for choice of split percentage is to keep as much training possible while increasing hold-out sets size only if the decrease in SE is significant **we are going to select 80% for the training set**."
      ]
    },
    {
      "cell_type": "code",
      "execution_count": 140,
      "metadata": {},
      "outputs": [],
      "source": [
        "default_pipeline.dataset.split.split_data(y_column=\"Category\",\n",
        "                                   train_size=.8, \n",
        "                                   validation_size=.1,\n",
        "                                   test_size=.1, \n",
        "                                   plot_distribution=False)"
      ]
    },
    {
      "cell_type": "code",
      "execution_count": 141,
      "metadata": {},
      "outputs": [
        {
          "data": {
            "text/plain": [
              "((42751, 142), (5344, 142), (5344, 142), (42751,), (5344,), (5344,))"
            ]
          },
          "execution_count": 141,
          "metadata": {},
          "output_type": "execute_result"
        }
      ],
      "source": [
        "default_pipeline.dataset.X_train.shape, default_pipeline.dataset.X_val.shape, default_pipeline.dataset.X_test.shape, default_pipeline.dataset.y_train.shape, default_pipeline.dataset.y_val.shape, default_pipeline.dataset.y_test.shape"
      ]
    },
    {
      "cell_type": "markdown",
      "metadata": {},
      "source": [
        "<hr>"
      ]
    },
    {
      "cell_type": "markdown",
      "metadata": {},
      "source": [
        "# 3. DATA PREPROCESSING"
      ]
    },
    {
      "cell_type": "markdown",
      "metadata": {},
      "source": [
        "### Duplicate and Missing Value Analysis"
      ]
    },
    {
      "cell_type": "code",
      "execution_count": 142,
      "metadata": {},
      "outputs": [
        {
          "name": "stdout",
          "output_type": "stream",
          "text": [
            "No missing values found in the dataset, no need to plot\n"
          ]
        }
      ],
      "source": [
        "baseline_pipeline.preprocessing.get_missing_values(plot=True)"
      ]
    },
    {
      "cell_type": "code",
      "execution_count": 143,
      "metadata": {},
      "outputs": [
        {
          "name": "stdout",
          "output_type": "stream",
          "text": [
            "No duplicates found in the dataset, no need to plot\n"
          ]
        },
        {
          "data": {
            "text/plain": [
              "'There are 0 duplicates in the dataset'"
            ]
          },
          "execution_count": 143,
          "metadata": {},
          "output_type": "execute_result"
        }
      ],
      "source": [
        "baseline_pipeline.preprocessing.analyze_duplicates(plot=True)"
      ]
    },
    {
      "cell_type": "markdown",
      "metadata": {},
      "source": [
        "Nothing is plotted because no duplicates exist."
      ]
    },
    {
      "cell_type": "code",
      "execution_count": 144,
      "metadata": {},
      "outputs": [
        {
          "name": "stdout",
          "output_type": "stream",
          "text": [
            "No duplicates found in the dataset\n"
          ]
        }
      ],
      "source": [
        "baseline_pipeline.preprocessing.remove_duplicates()"
      ]
    },
    {
      "cell_type": "markdown",
      "metadata": {},
      "source": [
        "### Deleting `Reboot` Column"
      ]
    },
    {
      "cell_type": "markdown",
      "metadata": {},
      "source": [
        "We eliminate the field `Reboot_before` since it is boolean."
      ]
    },
    {
      "cell_type": "code",
      "execution_count": 145,
      "metadata": {},
      "outputs": [
        {
          "data": {
            "text/plain": [
              "'Succesfully deleted 1 columns, to check the results run: \\n baseline_pipeline.dataset.X_train.head()'"
            ]
          },
          "execution_count": 145,
          "metadata": {},
          "output_type": "execute_result"
        }
      ],
      "source": [
        "baseline_pipeline.preprocessing.delete_columns(columnsToDelete=[\"Reboot\"])"
      ]
    },
    {
      "cell_type": "markdown",
      "metadata": {},
      "source": [
        "### Outlier Detection"
      ]
    },
    {
      "cell_type": "code",
      "execution_count": 146,
      "metadata": {},
      "outputs": [
        {
          "name": "stderr",
          "output_type": "stream",
          "text": [
            "/Users/juanalonso-allende/Desktop/ml-final-project/library/phases/data_preprocessing/data_preprocessing.py:115: FutureWarning: The behavior of DataFrame concatenation with empty or all-NA entries is deprecated. In a future version, this will no longer exclude empty or all-NA columns when determining the result dtypes. To retain the old behavior, exclude the relevant entries before the concat operation.\n",
            "  outlier_df = pd.concat([outlier_df,\n"
          ]
        },
        {
          "name": "stdout",
          "output_type": "stream",
          "text": [
            "There are 126 features with outliers out of 141 numerical features (89.36170212765957%)\n"
          ]
        },
        {
          "data": {
            "text/plain": [
              "(                feature outlierCount  percentageOfOutliers  \\\n",
              " 0       Memory_PssTotal          739              1.728615   \n",
              " 0       Memory_PssClean          366              0.856120   \n",
              " 0    Memory_SharedDirty         8019             18.757456   \n",
              " 0   Memory_PrivateDirty         2459              5.751912   \n",
              " 0    Memory_SharedClean          526              1.230381   \n",
              " ..                  ...          ...                   ...   \n",
              " 0        Logcat_warning         1496              3.499333   \n",
              " 0          Logcat_debug         1573              3.679446   \n",
              " 0        Logcat_verbose         1556              3.639681   \n",
              " 0          Logcat_total         1598              3.737924   \n",
              " 0         Process_total          217              0.507590   \n",
              " \n",
              "                                 descriptiveStatistics  \\\n",
              " 0   count     42751.000000\n",
              " mean      70944.886272\n",
              " ...   \n",
              " 0   count     42751.000000\n",
              " mean      12764.341700\n",
              " ...   \n",
              " 0   count    42751.000000\n",
              " mean     10844.857898\n",
              " st...   \n",
              " 0   count     42751.000000\n",
              " mean      47646.187738\n",
              " ...   \n",
              " 0   count     42751.000000\n",
              " mean      88029.087694\n",
              " ...   \n",
              " ..                                                ...   \n",
              " 0   count     42751.000000\n",
              " mean       2296.848963\n",
              " ...   \n",
              " 0   count    42751.000000\n",
              " mean      2300.166686\n",
              " st...   \n",
              " 0   count     42751.000000\n",
              " mean       2300.399780\n",
              " ...   \n",
              " 0   count    4.275100e+04\n",
              " mean     1.160519e+04\n",
              " st...   \n",
              " 0   count    42751.000000\n",
              " mean       190.169821\n",
              " st...   \n",
              " \n",
              "                                        outliersValues  \n",
              " 0   [206459, 276342, 188272, 197293, 279678, 20076...  \n",
              " 0   [44752, 44916, 44524, 44448, 44896, 61116, 452...  \n",
              " 0   [12944, 8960, 12544, 8480, 8328, 12836, 8256, ...  \n",
              " 0   [132736, 133524, 91964, 117652, 187360, 93812,...  \n",
              " 0   [39636, 38244, 152720, 145812, 134128, 138368,...  \n",
              " ..                                                ...  \n",
              " 0   [12223, 6160, 7700, 7541, 9633, 9452, 6498, 11...  \n",
              " 0   [6256, 6994, 10687, 7735, 6265, 7913, 7615, 78...  \n",
              " 0   [9775, 6230, 10554, 7600, 6599, 15067, 5948, 6...  \n",
              " 0   [18506, 19493, 18795, 19136, 19544, 20446, 213...  \n",
              " 0   [205, 213, 200, 218, 201, 181, 199, 203, 199, ...  \n",
              " \n",
              " [126 rows x 5 columns],\n",
              " {'Memory_PssTotal': 16231    206459\n",
              "  27282    276342\n",
              "  16344    188272\n",
              "  28749    197293\n",
              "  1382     279678\n",
              "            ...  \n",
              "  25935    184858\n",
              "  4324     182493\n",
              "  44390    165354\n",
              "  11524    164131\n",
              "  29993    183021\n",
              "  Name: Memory_PssTotal, Length: 739, dtype: int64,\n",
              "  'Memory_PssClean': 21059    44752\n",
              "  9506     44916\n",
              "  51008    44524\n",
              "  27264    44448\n",
              "  16991    44896\n",
              "           ...  \n",
              "  12146    45628\n",
              "  15361    48160\n",
              "  46494    46352\n",
              "  45478    47264\n",
              "  18505    44500\n",
              "  Name: Memory_PssClean, Length: 366, dtype: int64,\n",
              "  'Memory_SharedDirty': 48143    12944\n",
              "  10388     8960\n",
              "  36609    12544\n",
              "  42268     8480\n",
              "  8206      8328\n",
              "           ...  \n",
              "  13371    12304\n",
              "  8436      9520\n",
              "  23749    13076\n",
              "  36008    12452\n",
              "  46265    12612\n",
              "  Name: Memory_SharedDirty, Length: 8019, dtype: int64,\n",
              "  'Memory_PrivateDirty': 35311    132736\n",
              "  23784    133524\n",
              "  25728     91964\n",
              "  1618     117652\n",
              "  16231    187360\n",
              "            ...  \n",
              "  42444     91444\n",
              "  29993    159060\n",
              "  11997     91964\n",
              "  30618     95916\n",
              "  15852    122844\n",
              "  Name: Memory_PrivateDirty, Length: 2459, dtype: int64,\n",
              "  'Memory_SharedClean': 42438     39636\n",
              "  49123     38244\n",
              "  4043     152720\n",
              "  15256    145812\n",
              "  42876    134128\n",
              "            ...  \n",
              "  3512      42464\n",
              "  52102    134644\n",
              "  43075     41500\n",
              "  7073     135852\n",
              "  51308    132924\n",
              "  Name: Memory_SharedClean, Length: 526, dtype: int64,\n",
              "  'Memory_PrivateClean': 30845    47136\n",
              "  51008    47260\n",
              "  30072    47320\n",
              "  47020    47796\n",
              "  22411    61324\n",
              "           ...  \n",
              "  12146    50000\n",
              "  44288    50056\n",
              "  15361    49736\n",
              "  46494    50460\n",
              "  45478    51304\n",
              "  Name: Memory_PrivateClean, Length: 450, dtype: int64,\n",
              "  'Memory_HeapSize': 16231    77204\n",
              "  27282    54650\n",
              "  43147    65608\n",
              "  16344    52812\n",
              "  36416    56660\n",
              "           ...  \n",
              "  13442    62006\n",
              "  50626    71040\n",
              "  26028    62456\n",
              "  5851     59611\n",
              "  30618    77507\n",
              "  Name: Memory_HeapSize, Length: 854, dtype: int64,\n",
              "  'Memory_HeapAlloc': 16231    57864\n",
              "  27282    42408\n",
              "  43147    56268\n",
              "  16344    42769\n",
              "  36416    47411\n",
              "           ...  \n",
              "  45195    42433\n",
              "  51239    59967\n",
              "  13442    48144\n",
              "  50626    64377\n",
              "  30618    71214\n",
              "  Name: Memory_HeapAlloc, Length: 916, dtype: int64,\n",
              "  'Memory_HeapFree': 29997    11936\n",
              "  16231    19339\n",
              "  12152    10980\n",
              "  27282    12241\n",
              "  47689    10116\n",
              "           ...  \n",
              "  28042    10941\n",
              "  26028    33579\n",
              "  5851     33549\n",
              "  15852    18122\n",
              "  23587    12903\n",
              "  Name: Memory_HeapFree, Length: 1592, dtype: int64,\n",
              "  'Memory_Views': 26413     360\n",
              "  3748      414\n",
              "  35311    1219\n",
              "  29997     545\n",
              "  23784    1448\n",
              "           ... \n",
              "  22248     497\n",
              "  27523     398\n",
              "  19299     317\n",
              "  15852     328\n",
              "  49211     357\n",
              "  Name: Memory_Views, Length: 2499, dtype: int64,\n",
              "  'Memory_ViewRootImpl': 13082    25\n",
              "  41076    18\n",
              "  52995     9\n",
              "  87       12\n",
              "  52402    11\n",
              "           ..\n",
              "  53083     9\n",
              "  26462    13\n",
              "  14320     9\n",
              "  45170    18\n",
              "  39673    16\n",
              "  Name: Memory_ViewRootImpl, Length: 2907, dtype: int64,\n",
              "  'Memory_AppContexts': 13082    29\n",
              "  29997    16\n",
              "  23784    13\n",
              "  25728    14\n",
              "  1618     13\n",
              "           ..\n",
              "  18477    13\n",
              "  36259    14\n",
              "  33083    12\n",
              "  30618    17\n",
              "  49211    21\n",
              "  Name: Memory_AppContexts, Length: 1969, dtype: int64,\n",
              "  'Memory_Activities': 13082    25\n",
              "  29997    12\n",
              "  23784    10\n",
              "  586       7\n",
              "  25728     7\n",
              "           ..\n",
              "  33083     7\n",
              "  42444     8\n",
              "  30618    12\n",
              "  49211    16\n",
              "  8368      8\n",
              "  Name: Memory_Activities, Length: 2415, dtype: int64,\n",
              "  'Memory_Assets': 25728    12\n",
              "  3276      9\n",
              "  7627     11\n",
              "  22861     8\n",
              "  30072     9\n",
              "           ..\n",
              "  46300    10\n",
              "  45195    94\n",
              "  15361     8\n",
              "  25803    12\n",
              "  18672     9\n",
              "  Name: Memory_Assets, Length: 324, dtype: int64,\n",
              "  'Memory_LocalBinders': 13082    161\n",
              "  7471      67\n",
              "  37908    223\n",
              "  1382      85\n",
              "  3061      76\n",
              "          ... \n",
              "  6739      62\n",
              "  6751     124\n",
              "  21589     72\n",
              "  15361     65\n",
              "  29993     66\n",
              "  Name: Memory_LocalBinders, Length: 419, dtype: int64,\n",
              "  'Memory_ProxyBinders': 13082     55\n",
              "  13299     51\n",
              "  52883     52\n",
              "  31891     51\n",
              "  49252     53\n",
              "          ... \n",
              "  15784     53\n",
              "  6739      54\n",
              "  3145      52\n",
              "  31892    104\n",
              "  13508     51\n",
              "  Name: Memory_ProxyBinders, Length: 383, dtype: int64,\n",
              "  'Memory_ParcelMemory': 25728    28\n",
              "  29407    26\n",
              "  51908    35\n",
              "  33499    46\n",
              "  44169    25\n",
              "           ..\n",
              "  44288    64\n",
              "  35155    41\n",
              "  29993    27\n",
              "  45170    35\n",
              "  5851     30\n",
              "  Name: Memory_ParcelMemory, Length: 1209, dtype: int64,\n",
              "  'Memory_ParcelCount': 25728    107\n",
              "  29407    103\n",
              "  27282     89\n",
              "  7471      79\n",
              "  46763     85\n",
              "          ... \n",
              "  13442     89\n",
              "  32734     79\n",
              "  44575     79\n",
              "  46240     95\n",
              "  29313     91\n",
              "  Name: Memory_ParcelCount, Length: 1433, dtype: int64,\n",
              "  'Memory_DeathRecipients': 21009     6\n",
              "  4251      8\n",
              "  12734     7\n",
              "  13192     7\n",
              "  25581     6\n",
              "  28893     9\n",
              "  32498     6\n",
              "  21717     6\n",
              "  50669     6\n",
              "  19795    11\n",
              "  22557     6\n",
              "  39957     6\n",
              "  25836     6\n",
              "  11254     6\n",
              "  12250     6\n",
              "  25342     6\n",
              "  25242     9\n",
              "  8733      6\n",
              "  27040     6\n",
              "  28717     6\n",
              "  29297     7\n",
              "  8263      6\n",
              "  28124     6\n",
              "  37482     7\n",
              "  4690      6\n",
              "  19791     6\n",
              "  11126     6\n",
              "  3730      9\n",
              "  52783     9\n",
              "  36727     6\n",
              "  26772     6\n",
              "  53015     6\n",
              "  3439      6\n",
              "  27612     6\n",
              "  9261      7\n",
              "  3501      6\n",
              "  26024     7\n",
              "  11519     6\n",
              "  4085      6\n",
              "  13257     6\n",
              "  Name: Memory_DeathRecipients, dtype: int64,\n",
              "  'Memory_OpenSSLSockets': 25728    2\n",
              "  16231    3\n",
              "  38591    4\n",
              "  27282    1\n",
              "  7471     1\n",
              "          ..\n",
              "  50626    2\n",
              "  42444    2\n",
              "  29993    3\n",
              "  11997    7\n",
              "  15852    1\n",
              "  Name: Memory_OpenSSLSockets, Length: 3264, dtype: int64,\n",
              "  'Memory_WebViews': 11029     1\n",
              "  42268     2\n",
              "  13082    23\n",
              "  8206      1\n",
              "  586       7\n",
              "           ..\n",
              "  13095     1\n",
              "  31225    12\n",
              "  36808     1\n",
              "  10214     3\n",
              "  23587     1\n",
              "  Name: Memory_WebViews, Length: 10585, dtype: int64,\n",
              "  'API_Process_android.app.ActivityManager_killBackgroundProcesses': 48882    110\n",
              "  14490    187\n",
              "  49368      1\n",
              "  14423    104\n",
              "  49470    115\n",
              "          ... \n",
              "  49967    107\n",
              "  49644     93\n",
              "  14600     68\n",
              "  48983    100\n",
              "  49211    126\n",
              "  Name: API_Process_android.app.ActivityManager_killBackgroundProcesses, Length: 355, dtype: int64,\n",
              "  'API_Process_android.os.Process_killProcess': 17361    215\n",
              "  16417    178\n",
              "  Name: API_Process_android.os.Process_killProcess, dtype: int64,\n",
              "  'API_Command_java.lang.Runtime_exec': 20753    114\n",
              "  24474    120\n",
              "  41076     27\n",
              "  3748       6\n",
              "  21901     83\n",
              "          ... \n",
              "  39104    153\n",
              "  29911     33\n",
              "  8436     207\n",
              "  21725    165\n",
              "  34536    126\n",
              "  Name: API_Command_java.lang.Runtime_exec, Length: 8903, dtype: int64,\n",
              "  'API_Command_java.lang.ProcessBuilder_start': 20753    38\n",
              "  24474    40\n",
              "  41076     9\n",
              "  3748      2\n",
              "  21901    32\n",
              "           ..\n",
              "  39104    51\n",
              "  29911    13\n",
              "  8436     75\n",
              "  21725    55\n",
              "  34536    42\n",
              "  Name: API_Command_java.lang.ProcessBuilder_start, Length: 9167, dtype: int64,\n",
              "  'API_JavaNativeInterface_java.lang.Runtime_load': 28381    17\n",
              "  12856     9\n",
              "  33167    10\n",
              "  Name: API_JavaNativeInterface_java.lang.Runtime_load, dtype: int64,\n",
              "  'API_WebView_android.webkit.WebView_loadUrl': 11029     5\n",
              "  42268     6\n",
              "  13082    46\n",
              "  586       6\n",
              "  4839     16\n",
              "           ..\n",
              "  6884     52\n",
              "  2810     36\n",
              "  31225    12\n",
              "  36808     6\n",
              "  10214    11\n",
              "  Name: API_WebView_android.webkit.WebView_loadUrl, Length: 9521, dtype: int64,\n",
              "  'API_WebView_android.webkit.WebView_loadData': 8206     2\n",
              "  586      2\n",
              "  11932    2\n",
              "  9197     1\n",
              "  12269    2\n",
              "          ..\n",
              "  607      2\n",
              "  3766     1\n",
              "  4443     1\n",
              "  9873     1\n",
              "  11997    2\n",
              "  Name: API_WebView_android.webkit.WebView_loadData, Length: 373, dtype: int64,\n",
              "  'API_WebView_android.webkit.WebView_loadDataWithBaseURL': 42268     5\n",
              "  13082    23\n",
              "  586       3\n",
              "  27282     9\n",
              "  51256     9\n",
              "           ..\n",
              "  9873      2\n",
              "  51308     9\n",
              "  20748     1\n",
              "  31225     8\n",
              "  23587     7\n",
              "  Name: API_WebView_android.webkit.WebView_loadDataWithBaseURL, Length: 2071, dtype: int64,\n",
              "  'API_WebView_android.webkit.WebView_addJavascriptInterface': 11029     5\n",
              "  42268     5\n",
              "  13082    23\n",
              "  586       2\n",
              "  4839      6\n",
              "           ..\n",
              "  6884     18\n",
              "  2810     12\n",
              "  31225     4\n",
              "  36808     3\n",
              "  10214    15\n",
              "  Name: API_WebView_android.webkit.WebView_addJavascriptInterface, Length: 5928, dtype: int64,\n",
              "  'API_WebView_android.webkit.WebView_evaluateJavascript': 11029    11\n",
              "  27282    88\n",
              "  3276     17\n",
              "  21009     5\n",
              "  39080     3\n",
              "           ..\n",
              "  11962     2\n",
              "  8749      3\n",
              "  26348     2\n",
              "  13442     2\n",
              "  7073      5\n",
              "  Name: API_WebView_android.webkit.WebView_evaluateJavascript, Length: 565, dtype: int64,\n",
              "  'API_WebView_android.webkit.WebView_postUrl': 17739     1\n",
              "  18894     1\n",
              "  26192     1\n",
              "  25772     1\n",
              "  24144     1\n",
              "  52438     1\n",
              "  23221     1\n",
              "  25395     1\n",
              "  28555     1\n",
              "  25326     1\n",
              "  26018     1\n",
              "  26895     1\n",
              "  25116     1\n",
              "  27000     1\n",
              "  44025    11\n",
              "  32707     5\n",
              "  Name: API_WebView_android.webkit.WebView_postUrl, dtype: int64,\n",
              "  'API_WebView_android.webkit.WebView_setWebContentsDebuggingEnabled': 8474       3\n",
              "  43672      1\n",
              "  7186       1\n",
              "  27360      6\n",
              "  11370     18\n",
              "  20082      1\n",
              "  15289    278\n",
              "  29001      2\n",
              "  7095       2\n",
              "  22500      2\n",
              "  11423      3\n",
              "  4708       3\n",
              "  43156      1\n",
              "  5811       2\n",
              "  14081      2\n",
              "  28962      1\n",
              "  29776      2\n",
              "  37845      2\n",
              "  51118      1\n",
              "  6074       6\n",
              "  27698      2\n",
              "  39405      1\n",
              "  20735      3\n",
              "  12195      6\n",
              "  5806       2\n",
              "  45068      1\n",
              "  7883       1\n",
              "  33631      3\n",
              "  8397       3\n",
              "  8566       3\n",
              "  4402       3\n",
              "  11608      2\n",
              "  7719       2\n",
              "  5706       4\n",
              "  36065      8\n",
              "  49305      2\n",
              "  3700       5\n",
              "  2022       1\n",
              "  8608       3\n",
              "  26032      6\n",
              "  4797       2\n",
              "  17623     12\n",
              "  Name: API_WebView_android.webkit.WebView_setWebContentsDebuggingEnabled, dtype: int64,\n",
              "  'API_FileIO_libcore.io.IoBridge_open': 11029    15\n",
              "  25728     9\n",
              "  4839     11\n",
              "  26680    10\n",
              "  16231    82\n",
              "           ..\n",
              "  15852    62\n",
              "  6884     12\n",
              "  2810      8\n",
              "  39104    18\n",
              "  21725    15\n",
              "  Name: API_FileIO_libcore.io.IoBridge_open, Length: 6117, dtype: int64,\n",
              "  'API_FileIO_android.content.ContextWrapper_openFileInput': 36609     4\n",
              "  42268     5\n",
              "  41076     1\n",
              "  9502     15\n",
              "  39007     5\n",
              "           ..\n",
              "  29911     7\n",
              "  10214    12\n",
              "  21725    13\n",
              "  21572     3\n",
              "  36008     7\n",
              "  Name: API_FileIO_android.content.ContextWrapper_openFileInput, Length: 10234, dtype: int64,\n",
              "  'API_FileIO_android.content.ContextWrapper_openFileOutput': 36609     8\n",
              "  42268    15\n",
              "  6902      1\n",
              "  16231    30\n",
              "  1586      2\n",
              "           ..\n",
              "  47635     4\n",
              "  19299     2\n",
              "  15852    19\n",
              "  36808     9\n",
              "  29911     8\n",
              "  Name: API_FileIO_android.content.ContextWrapper_openFileOutput, Length: 4968, dtype: int64,\n",
              "  'API_FileIO_android.content.ContextWrapper_deleteFile': 36609     4\n",
              "  41076     4\n",
              "  23784    14\n",
              "  9502      4\n",
              "  39007     4\n",
              "           ..\n",
              "  29324     4\n",
              "  39104     2\n",
              "  21725     4\n",
              "  21572     4\n",
              "  36008     4\n",
              "  Name: API_FileIO_android.content.ContextWrapper_deleteFile, Length: 9643, dtype: int64,\n",
              "  'API_Database_android.content.ContextWrapper_openOrCreateDatabase': 10388     3\n",
              "  38712     4\n",
              "  3962      6\n",
              "  29103    10\n",
              "  22718     1\n",
              "           ..\n",
              "  4960     12\n",
              "  26043     6\n",
              "  27082     2\n",
              "  11334    18\n",
              "  22248     1\n",
              "  Name: API_Database_android.content.ContextWrapper_openOrCreateDatabase, Length: 457, dtype: int64,\n",
              "  'API_Database_android.content.ContextWrapper_databaseList': 6851     1\n",
              "  3049     1\n",
              "  1941     1\n",
              "  2640     1\n",
              "  4242     1\n",
              "          ..\n",
              "  3949     1\n",
              "  19130    1\n",
              "  2656     1\n",
              "  5440     1\n",
              "  2551     1\n",
              "  Name: API_Database_android.content.ContextWrapper_databaseList, Length: 367, dtype: int64,\n",
              "  'API_Database_android.content.ContextWrapper_deleteDatabase': 17802     1\n",
              "  22167     1\n",
              "  1880      6\n",
              "  27691    12\n",
              "  28201     6\n",
              "  17974     6\n",
              "  4397      1\n",
              "  23061     2\n",
              "  33792    14\n",
              "  15816    26\n",
              "  24371     1\n",
              "  33688     2\n",
              "  19108     3\n",
              "  1494      2\n",
              "  33820     2\n",
              "  44560     1\n",
              "  27868    20\n",
              "  4162      2\n",
              "  33810     8\n",
              "  9107     11\n",
              "  6739      2\n",
              "  Name: API_Database_android.content.ContextWrapper_deleteDatabase, dtype: int64,\n",
              "  'API_Database_android.database.sqlite.SQLiteDatabase_execSQL': 41076     6\n",
              "  52995     4\n",
              "  23784     6\n",
              "  9502      6\n",
              "  4839     10\n",
              "           ..\n",
              "  2810     10\n",
              "  17428     3\n",
              "  29324     6\n",
              "  39104     3\n",
              "  21725    10\n",
              "  Name: API_Database_android.database.sqlite.SQLiteDatabase_execSQL, Length: 8751, dtype: int64,\n",
              "  'API_Database_android.database.sqlite.SQLiteDatabase_deleteDatabase': 17802     1\n",
              "  22167     1\n",
              "  1880      6\n",
              "  27691    12\n",
              "  28201     6\n",
              "  17974     6\n",
              "  4397      1\n",
              "  23061     2\n",
              "  33792    14\n",
              "  15816    26\n",
              "  24371     1\n",
              "  33688     2\n",
              "  19108     3\n",
              "  1494      2\n",
              "  33820     2\n",
              "  44560     1\n",
              "  27868    20\n",
              "  4162      2\n",
              "  33810     8\n",
              "  9107     11\n",
              "  6739      2\n",
              "  Name: API_Database_android.database.sqlite.SQLiteDatabase_deleteDatabase, dtype: int64,\n",
              "  'API_Database_android.database.sqlite.SQLiteDatabase_getPath': 29997    168\n",
              "  23784    230\n",
              "  9502     172\n",
              "  25728    158\n",
              "  4839      57\n",
              "          ... \n",
              "  2810      95\n",
              "  39104    201\n",
              "  21725    199\n",
              "  8368      60\n",
              "  29313     77\n",
              "  Name: API_Database_android.database.sqlite.SQLiteDatabase_getPath, Length: 7308, dtype: int64,\n",
              "  'API_Database_android.database.sqlite.SQLiteDatabase_insert': 42268     3\n",
              "  29997    19\n",
              "  23784     1\n",
              "  25728    30\n",
              "  29407     3\n",
              "           ..\n",
              "  29993    25\n",
              "  47635     6\n",
              "  46240     5\n",
              "  43838     2\n",
              "  29313     2\n",
              "  Name: API_Database_android.database.sqlite.SQLiteDatabase_insert, Length: 4439, dtype: int64,\n",
              "  'API_Database_android.database.sqlite.SQLiteDatabase_insertOrThrow': 38591    11\n",
              "  37931    31\n",
              "  24866     2\n",
              "  24440    15\n",
              "  34391     6\n",
              "           ..\n",
              "  13442    18\n",
              "  21906    92\n",
              "  28042    10\n",
              "  19579    91\n",
              "  23587     2\n",
              "  Name: API_Database_android.database.sqlite.SQLiteDatabase_insertOrThrow, Length: 460, dtype: int64,\n",
              "  'API_Database_android.database.sqlite.SQLiteDatabase_insertWithOnConflict': 42268     3\n",
              "  29997    19\n",
              "  23784     1\n",
              "  25728    58\n",
              "  29407     3\n",
              "           ..\n",
              "  47635     6\n",
              "  46240     5\n",
              "  43838     2\n",
              "  23587     2\n",
              "  29313     2\n",
              "  Name: API_Database_android.database.sqlite.SQLiteDatabase_insertWithOnConflict, Length: 5138, dtype: int64,\n",
              "  'API_Database_android.database.sqlite.SQLiteDatabase_openDatabase': 41076     8\n",
              "  29997    51\n",
              "  9502     72\n",
              "  25728    14\n",
              "  4839     17\n",
              "           ..\n",
              "  2810     29\n",
              "  29324     8\n",
              "  39104    66\n",
              "  21725    65\n",
              "  8368     30\n",
              "  Name: API_Database_android.database.sqlite.SQLiteDatabase_openDatabase, Length: 8146, dtype: int64,\n",
              "  'API_Database_android.database.sqlite.SQLiteDatabase_openOrCreateDatabase': 29997     98\n",
              "  3276       2\n",
              "  47689     44\n",
              "  33600      1\n",
              "  1821      15\n",
              "          ... \n",
              "  24076     52\n",
              "  53194      2\n",
              "  22248      8\n",
              "  52811      1\n",
              "  29993    136\n",
              "  Name: API_Database_android.database.sqlite.SQLiteDatabase_openOrCreateDatabase, Length: 639, dtype: int64,\n",
              "  'API_Database_android.database.sqlite.SQLiteDatabase_query': 26413     1\n",
              "  42268     8\n",
              "  20753     1\n",
              "  24474     1\n",
              "  3748      1\n",
              "           ..\n",
              "  35902     1\n",
              "  1819      1\n",
              "  17428     1\n",
              "  8368     30\n",
              "  23587     7\n",
              "  Name: API_Database_android.database.sqlite.SQLiteDatabase_query, Length: 6988, dtype: int64,\n",
              "  'API_Database_android.database.sqlite.SQLiteDatabase_queryWithFactory': 26413     1\n",
              "  42268     8\n",
              "  20753     1\n",
              "  24474     1\n",
              "  3748      1\n",
              "           ..\n",
              "  35902     1\n",
              "  1819      1\n",
              "  17428     1\n",
              "  8368     30\n",
              "  23587     7\n",
              "  Name: API_Database_android.database.sqlite.SQLiteDatabase_queryWithFactory, Length: 6988, dtype: int64,\n",
              "  'API_Database_android.database.sqlite.SQLiteDatabase_rawQuery': 10388     14\n",
              "  41076     16\n",
              "  9502     100\n",
              "  25728     99\n",
              "  4839      40\n",
              "          ... \n",
              "  17428      5\n",
              "  36808     15\n",
              "  29324     16\n",
              "  39104    135\n",
              "  21725    134\n",
              "  Name: API_Database_android.database.sqlite.SQLiteDatabase_rawQuery, Length: 10584, dtype: int64,\n",
              "  'API_Database_android.database.sqlite.SQLiteDatabase_rawQueryWithFactory': 23784    229\n",
              "  9502     100\n",
              "  25728    149\n",
              "  4839      40\n",
              "  29407     83\n",
              "          ... \n",
              "  2810      66\n",
              "  39104    135\n",
              "  21725    134\n",
              "  8368      30\n",
              "  29313     76\n",
              "  Name: API_Database_android.database.sqlite.SQLiteDatabase_rawQueryWithFactory, Length: 7623, dtype: int64,\n",
              "  'API_Database_android.database.sqlite.SQLiteDatabase_update': 42268     6\n",
              "  29997    23\n",
              "  23784     3\n",
              "  25728     1\n",
              "  29407    11\n",
              "           ..\n",
              "  19579     3\n",
              "  29993    13\n",
              "  46240    10\n",
              "  23587     3\n",
              "  29313    10\n",
              "  Name: API_Database_android.database.sqlite.SQLiteDatabase_update, Length: 3629, dtype: int64,\n",
              "  'API_Database_android.database.sqlite.SQLiteDatabase_updateWithOnConflict': 42268     6\n",
              "  29997    23\n",
              "  23784     3\n",
              "  25728     1\n",
              "  29407    11\n",
              "           ..\n",
              "  19579     3\n",
              "  29993    13\n",
              "  46240    10\n",
              "  23587     3\n",
              "  29313    10\n",
              "  Name: API_Database_android.database.sqlite.SQLiteDatabase_updateWithOnConflict, Length: 3641, dtype: int64,\n",
              "  'API_Database_android.database.sqlite.SQLiteDatabase_compileStatement': 41076      8\n",
              "  29997    149\n",
              "  9502      36\n",
              "  25728     14\n",
              "  4839      17\n",
              "          ... \n",
              "  2810      29\n",
              "  29324      8\n",
              "  39104     66\n",
              "  21725     65\n",
              "  8368      30\n",
              "  Name: API_Database_android.database.sqlite.SQLiteDatabase_compileStatement, Length: 8051, dtype: int64,\n",
              "  'API_IPC_android.content.ContextWrapper_sendBroadcast': 20753     2\n",
              "  24474     2\n",
              "  41076     1\n",
              "  35311     5\n",
              "  29997    32\n",
              "           ..\n",
              "  17428     3\n",
              "  39104    20\n",
              "  8368      8\n",
              "  23749    19\n",
              "  34536     5\n",
              "  Name: API_IPC_android.content.ContextWrapper_sendBroadcast, Length: 9594, dtype: int64,\n",
              "  'API_IPC_android.content.ContextWrapper_sendStickyBroadcast': 24820     3\n",
              "  29062     5\n",
              "  10101    13\n",
              "  1697      2\n",
              "  7264      2\n",
              "  9177      7\n",
              "  Name: API_IPC_android.content.ContextWrapper_sendStickyBroadcast, dtype: int64,\n",
              "  'API_IPC_android.content.ContextWrapper_startActivity': 28416    132\n",
              "  8206       4\n",
              "  3455       7\n",
              "  586        4\n",
              "  42853      1\n",
              "          ... \n",
              "  15852      1\n",
              "  22575      2\n",
              "  13095      1\n",
              "  49211    144\n",
              "  16439      2\n",
              "  Name: API_IPC_android.content.ContextWrapper_startActivity, Length: 3278, dtype: int64,\n",
              "  'API_IPC_android.content.ContextWrapper_startService': 36609    30\n",
              "  3455     39\n",
              "  25728    24\n",
              "  1618     29\n",
              "  11990    28\n",
              "           ..\n",
              "  22575    35\n",
              "  8436     44\n",
              "  8368     28\n",
              "  12273    24\n",
              "  34536    23\n",
              "  Name: API_IPC_android.content.ContextWrapper_startService, Length: 5290, dtype: int64,\n",
              "  'API_IPC_android.content.ContextWrapper_stopService': 3748     1\n",
              "  1618     1\n",
              "  29407    8\n",
              "  27282    1\n",
              "  46763    5\n",
              "          ..\n",
              "  29495    5\n",
              "  32734    5\n",
              "  44575    5\n",
              "  46240    7\n",
              "  29313    7\n",
              "  Name: API_IPC_android.content.ContextWrapper_stopService, Length: 2146, dtype: int64,\n",
              "  'API_IPC_android.content.ContextWrapper_registerReceiver': 11029    145\n",
              "  4839     153\n",
              "  26680    202\n",
              "  39196    230\n",
              "  40866    192\n",
              "          ... \n",
              "  22575    136\n",
              "  2810     162\n",
              "  39104    209\n",
              "  8436     175\n",
              "  21725    180\n",
              "  Name: API_IPC_android.content.ContextWrapper_registerReceiver, Length: 5503, dtype: int64,\n",
              "  'API_Binder_android.app.ContextImpl_registerReceiver': 11029    170\n",
              "  13082    157\n",
              "  24474    156\n",
              "  4839     153\n",
              "  26680    192\n",
              "          ... \n",
              "  17428    156\n",
              "  39104    208\n",
              "  8436     354\n",
              "  21725    165\n",
              "  34536    184\n",
              "  Name: API_Binder_android.app.ContextImpl_registerReceiver, Length: 6240, dtype: int64,\n",
              "  'API_Binder_android.app.ActivityThread_handleReceiver': 36609    15\n",
              "  12993    11\n",
              "  29997    19\n",
              "  25728    25\n",
              "  1618     21\n",
              "           ..\n",
              "  36363    21\n",
              "  32779    22\n",
              "  15852    13\n",
              "  39104    21\n",
              "  8368     47\n",
              "  Name: API_Binder_android.app.ActivityThread_handleReceiver, Length: 3866, dtype: int64,\n",
              "  'API_Binder_android.app.Activity_startActivity': 26162    36\n",
              "  13082    92\n",
              "  20753    40\n",
              "  24474    38\n",
              "  29997    22\n",
              "           ..\n",
              "  8436     90\n",
              "  49601    42\n",
              "  12273    34\n",
              "  31639    32\n",
              "  34536    42\n",
              "  Name: API_Binder_android.app.Activity_startActivity, Length: 6237, dtype: int64,\n",
              "  'API_Crypto_javax.crypto.spec.SecretKeySpec_$init': 10388    261\n",
              "  11029    255\n",
              "  42268     11\n",
              "  4839     116\n",
              "  1618     270\n",
              "          ... \n",
              "  31225     12\n",
              "  29324     56\n",
              "  39104    507\n",
              "  21725     76\n",
              "  29313     45\n",
              "  Name: API_Crypto_javax.crypto.spec.SecretKeySpec_$init, Length: 9276, dtype: int64,\n",
              "  'API_Crypto_javax.crypto.Cipher_doFinal': 10388    261\n",
              "  11029    255\n",
              "  4839     114\n",
              "  1618     109\n",
              "  29407     45\n",
              "          ... \n",
              "  6884     142\n",
              "  29324     56\n",
              "  39104    527\n",
              "  21725     76\n",
              "  29313     45\n",
              "  Name: API_Crypto_javax.crypto.Cipher_doFinal, Length: 8750, dtype: int64,\n",
              "  'API_Crypto-Hash_java.security.MessageDigest_digest': 11029    303\n",
              "  35311    960\n",
              "  16231    725\n",
              "  11698    240\n",
              "  39196    381\n",
              "          ... \n",
              "  5851     440\n",
              "  18505    170\n",
              "  15852    489\n",
              "  39104    370\n",
              "  21725    347\n",
              "  Name: API_Crypto-Hash_java.security.MessageDigest_digest, Length: 6322, dtype: int64,\n",
              "  'API_Crypto-Hash_java.security.MessageDigest_update': 11029     367\n",
              "  35311     480\n",
              "  16231     366\n",
              "  38591     768\n",
              "  6826      379\n",
              "           ... \n",
              "  50626    1190\n",
              "  35745     250\n",
              "  5851      246\n",
              "  15852     250\n",
              "  23587     631\n",
              "  Name: API_Crypto-Hash_java.security.MessageDigest_update, Length: 4294, dtype: int64,\n",
              "  'API_DeviceInfo_android.telephony.TelephonyManager_getDeviceId': 20753     71\n",
              "  24474     82\n",
              "  21901     74\n",
              "  16231     68\n",
              "  39196    219\n",
              "          ... \n",
              "  29324     70\n",
              "  39104    180\n",
              "  8436     215\n",
              "  21725    178\n",
              "  34536     92\n",
              "  Name: API_DeviceInfo_android.telephony.TelephonyManager_getDeviceId, Length: 5723, dtype: int64,\n",
              "  'API_DeviceInfo_android.telephony.TelephonyManager_getSubscriberId': 42268     46\n",
              "  20753     72\n",
              "  24474     81\n",
              "  9502      80\n",
              "  3455      38\n",
              "          ... \n",
              "  29324     53\n",
              "  39104    176\n",
              "  8436      99\n",
              "  21725    150\n",
              "  34536     98\n",
              "  Name: API_DeviceInfo_android.telephony.TelephonyManager_getSubscriberId, Length: 7805, dtype: int64,\n",
              "  'API_DeviceInfo_android.telephony.TelephonyManager_getLine1Number': 42268     6\n",
              "  20753     2\n",
              "  24474     2\n",
              "  35311     2\n",
              "  28416    12\n",
              "           ..\n",
              "  2810      4\n",
              "  17428     2\n",
              "  39104    40\n",
              "  34536     2\n",
              "  46265    34\n",
              "  Name: API_DeviceInfo_android.telephony.TelephonyManager_getLine1Number, Length: 7748, dtype: int64,\n",
              "  'API_DeviceInfo_android.telephony.TelephonyManager_getNetworkOperator': 11029    12\n",
              "  42268    16\n",
              "  52402     5\n",
              "  586       3\n",
              "  4839     11\n",
              "           ..\n",
              "  15852    16\n",
              "  2810      2\n",
              "  31225     4\n",
              "  36808     1\n",
              "  23587     7\n",
              "  Name: API_DeviceInfo_android.telephony.TelephonyManager_getNetworkOperator, Length: 6114, dtype: int64,\n",
              "  'API_DeviceInfo_android.telephony.TelephonyManager_getNetworkOperatorName': 586      36\n",
              "  4839      7\n",
              "  1618     60\n",
              "  6782     24\n",
              "  11698    12\n",
              "           ..\n",
              "  29911    14\n",
              "  21725    70\n",
              "  8368      8\n",
              "  36008     8\n",
              "  46265    34\n",
              "  Name: API_DeviceInfo_android.telephony.TelephonyManager_getNetworkOperatorName, Length: 7046, dtype: int64,\n",
              "  'API_DeviceInfo_android.telephony.TelephonyManager_getSimOperatorName': 586      18\n",
              "  27282     2\n",
              "  6213      4\n",
              "  3276      1\n",
              "  16344     3\n",
              "           ..\n",
              "  15437    12\n",
              "  29993     4\n",
              "  11997    27\n",
              "  30618     2\n",
              "  8368      4\n",
              "  Name: API_DeviceInfo_android.telephony.TelephonyManager_getSimOperatorName, Length: 2232, dtype: int64,\n",
              "  'API_DeviceInfo_android.net.wifi.WifiInfo_getMacAddress': 42268    11\n",
              "  8206     13\n",
              "  9502     24\n",
              "  4839     10\n",
              "  6782     12\n",
              "           ..\n",
              "  15852    85\n",
              "  6884      8\n",
              "  2810     11\n",
              "  39104    19\n",
              "  21725    27\n",
              "  Name: API_DeviceInfo_android.net.wifi.WifiInfo_getMacAddress, Length: 5343, dtype: int64,\n",
              "  'API_DeviceInfo_android.net.wifi.WifiInfo_getBSSID': 29997    10\n",
              "  27282     4\n",
              "  8064     13\n",
              "  37908     1\n",
              "  22167     8\n",
              "           ..\n",
              "  12222    14\n",
              "  11578    16\n",
              "  22248     7\n",
              "  47635     2\n",
              "  15852    16\n",
              "  Name: API_DeviceInfo_android.net.wifi.WifiInfo_getBSSID, Length: 1160, dtype: int64,\n",
              "  'API_DeviceInfo_android.net.wifi.WifiInfo_getIpAddress': 9502     18\n",
              "  20279     2\n",
              "  22861     8\n",
              "  21461     5\n",
              "  8531      1\n",
              "           ..\n",
              "  25046     1\n",
              "  11174     1\n",
              "  26130     4\n",
              "  33875     2\n",
              "  15852    20\n",
              "  Name: API_DeviceInfo_android.net.wifi.WifiInfo_getIpAddress, Length: 605, dtype: int64,\n",
              "  'API_DeviceInfo_android.net.wifi.WifiInfo_getNetworkId': 20279     2\n",
              "  22861     8\n",
              "  21461     5\n",
              "  35736     4\n",
              "  19377     4\n",
              "           ..\n",
              "  21988     2\n",
              "  39441     5\n",
              "  40925     1\n",
              "  39468     8\n",
              "  15852    16\n",
              "  Name: API_DeviceInfo_android.net.wifi.WifiInfo_getNetworkId, Length: 240, dtype: int64,\n",
              "  'API_DeviceInfo_android.telephony.TelephonyManager_getSimCountryIso': 29997     2\n",
              "  52402     5\n",
              "  6782     13\n",
              "  38591    11\n",
              "  3276      1\n",
              "           ..\n",
              "  19579     7\n",
              "  29993     4\n",
              "  30618     2\n",
              "  8368      4\n",
              "  23587     7\n",
              "  Name: API_DeviceInfo_android.telephony.TelephonyManager_getSimCountryIso, Length: 1994, dtype: int64,\n",
              "  'API_DeviceInfo_android.telephony.TelephonyManager_getSimSerialNumber': 42268    10\n",
              "  35311     2\n",
              "  9502     36\n",
              "  3455     38\n",
              "  52402    10\n",
              "           ..\n",
              "  1819      2\n",
              "  2810      4\n",
              "  17428     2\n",
              "  8368      8\n",
              "  34536     4\n",
              "  Name: API_DeviceInfo_android.telephony.TelephonyManager_getSimSerialNumber, Length: 6700, dtype: int64,\n",
              "  'API_DeviceInfo_android.telephony.TelephonyManager_getNetworkCountryIso': 13082    23\n",
              "  586      22\n",
              "  4839     22\n",
              "  26680    12\n",
              "  39196    20\n",
              "           ..\n",
              "  31225    15\n",
              "  39104    18\n",
              "  21725    15\n",
              "  46265    17\n",
              "  23587    20\n",
              "  Name: API_DeviceInfo_android.telephony.TelephonyManager_getNetworkCountryIso, Length: 6176, dtype: int64,\n",
              "  'API_DeviceInfo_android.telephony.TelephonyManager_getDeviceSoftwareVersion': 16344     6\n",
              "  34082    36\n",
              "  15795    54\n",
              "  16319     8\n",
              "  11026    64\n",
              "           ..\n",
              "  46512     2\n",
              "  47972    24\n",
              "  33083     4\n",
              "  30618     4\n",
              "  8368      8\n",
              "  Name: API_DeviceInfo_android.telephony.TelephonyManager_getDeviceSoftwareVersion, Length: 357, dtype: int64,\n",
              "  'API_DeviceInfo_android.os.Debug_isDebuggerConnected': 25728     1\n",
              "  38591     2\n",
              "  26022     1\n",
              "  25544     1\n",
              "  9034      4\n",
              "           ..\n",
              "  5958     17\n",
              "  3715      3\n",
              "  28042     1\n",
              "  2235      3\n",
              "  29993     2\n",
              "  Name: API_DeviceInfo_android.os.Debug_isDebuggerConnected, Length: 1151, dtype: int64,\n",
              "  'API_Network_java.net.URL_openConnection': 35311    196\n",
              "  29997     22\n",
              "  8206      26\n",
              "  16231    284\n",
              "  39196     70\n",
              "          ... \n",
              "  39151     22\n",
              "  15852    172\n",
              "  39104     62\n",
              "  21725     21\n",
              "  36008     22\n",
              "  Name: API_Network_java.net.URL_openConnection, Length: 4967, dtype: int64,\n",
              "  'API_Network_com.android.okhttp.internal.huc.HttpURLConnectionImpl_getInputStream': 8206      9\n",
              "  39007     6\n",
              "  16231    80\n",
              "  39196    19\n",
              "  12152     7\n",
              "           ..\n",
              "  19299     7\n",
              "  15852    60\n",
              "  39104    19\n",
              "  21572     7\n",
              "  36008     7\n",
              "  Name: API_Network_com.android.okhttp.internal.huc.HttpURLConnectionImpl_getInputStream, Length: 5144, dtype: int64,\n",
              "  'API_DexClassLoader_dalvik.system.BaseDexClassLoader_findResource': 42268      4\n",
              "  3748      28\n",
              "  23784    178\n",
              "  28416      6\n",
              "  8206      40\n",
              "          ... \n",
              "  5851      35\n",
              "  46240      6\n",
              "  15852     10\n",
              "  23587     28\n",
              "  29313      3\n",
              "  Name: API_DexClassLoader_dalvik.system.BaseDexClassLoader_findResource, Length: 8691, dtype: int64,\n",
              "  'API_DexClassLoader_dalvik.system.BaseDexClassLoader_findResources': 43147     1\n",
              "  43409     3\n",
              "  51908     1\n",
              "  49123     3\n",
              "  29800     1\n",
              "           ..\n",
              "  19084     5\n",
              "  26348     8\n",
              "  42850     3\n",
              "  51239     1\n",
              "  7732     14\n",
              "  Name: API_DexClassLoader_dalvik.system.BaseDexClassLoader_findResources, Length: 673, dtype: int64,\n",
              "  'API_DexClassLoader_dalvik.system.BaseDexClassLoader_findLibrary': 20753    18\n",
              "  24474    19\n",
              "  4839     22\n",
              "  26680    20\n",
              "  39196    65\n",
              "           ..\n",
              "  17428    19\n",
              "  39104    56\n",
              "  8436     47\n",
              "  21725    30\n",
              "  34536    21\n",
              "  Name: API_DexClassLoader_dalvik.system.BaseDexClassLoader_findLibrary, Length: 8283, dtype: int64,\n",
              "  'API_DexClassLoader_dalvik.system.DexFile_loadDex': 50541     2\n",
              "  4972      2\n",
              "  11654     2\n",
              "  15582    10\n",
              "  218      10\n",
              "           ..\n",
              "  50101    10\n",
              "  11295     5\n",
              "  7831      2\n",
              "  15437     8\n",
              "  12273     6\n",
              "  Name: API_DexClassLoader_dalvik.system.DexFile_loadDex, Length: 438, dtype: int64,\n",
              "  'API_DexClassLoader_dalvik.system.DexFile_loadClass': 50541      28\n",
              "  15582    1255\n",
              "  218       917\n",
              "  34263      50\n",
              "  15388    1261\n",
              "           ... \n",
              "  50627    1255\n",
              "  7010      140\n",
              "  50360     140\n",
              "  50101    1078\n",
              "  15437     712\n",
              "  Name: API_DexClassLoader_dalvik.system.DexFile_loadClass, Length: 213, dtype: int64,\n",
              "  'API_DexClassLoader_dalvik.system.DexClassLoader_$init': 10388    18\n",
              "  11029     5\n",
              "  36609     9\n",
              "  42268     3\n",
              "  20753    20\n",
              "           ..\n",
              "  31225     1\n",
              "  17428    22\n",
              "  8436     50\n",
              "  8368     39\n",
              "  34536    24\n",
              "  Name: API_DexClassLoader_dalvik.system.DexClassLoader_$init, Length: 9648, dtype: int64,\n",
              "  'API_Base64_android.util.Base64_decode': 10388     228\n",
              "  11029     532\n",
              "  12993       6\n",
              "  20753    2317\n",
              "  24474    2392\n",
              "           ... \n",
              "  22575    3446\n",
              "  17428    2505\n",
              "  39104      40\n",
              "  8436     4973\n",
              "  34536    2971\n",
              "  Name: API_Base64_android.util.Base64_decode, Length: 8390, dtype: int64,\n",
              "  'API_Base64_android.util.Base64_encode': 10388    132\n",
              "  11029     22\n",
              "  42268      5\n",
              "  13082     23\n",
              "  41076      6\n",
              "          ... \n",
              "  29324      6\n",
              "  39104     73\n",
              "  8436      50\n",
              "  21725     39\n",
              "  23587      7\n",
              "  Name: API_Base64_android.util.Base64_encode, Length: 9504, dtype: int64,\n",
              "  'API_Base64_android.util.Base64_encodeToString': 10388    132\n",
              "  11029     22\n",
              "  42268      5\n",
              "  13082     23\n",
              "  41076      6\n",
              "          ... \n",
              "  29324      6\n",
              "  39104     73\n",
              "  8436      50\n",
              "  21725     39\n",
              "  23587      7\n",
              "  Name: API_Base64_android.util.Base64_encodeToString, Length: 8977, dtype: int64,\n",
              "  'API_SystemManager_android.app.ApplicationPackageManager_setComponentEnabledSetting': 42501      1\n",
              "  28416      1\n",
              "  42438      1\n",
              "  42853      4\n",
              "  42846      4\n",
              "          ... \n",
              "  50394      1\n",
              "  13       198\n",
              "  33149      1\n",
              "  13095     47\n",
              "  42697      1\n",
              "  Name: API_SystemManager_android.app.ApplicationPackageManager_setComponentEnabledSetting, Length: 1933, dtype: int64,\n",
              "  'API_SystemManager_android.app.NotificationManager_notify': 27282     38\n",
              "  33464      4\n",
              "  34391      2\n",
              "  30731      6\n",
              "  16063      2\n",
              "          ... \n",
              "  8265       4\n",
              "  10335    194\n",
              "  50394      8\n",
              "  50626      2\n",
              "  29993     12\n",
              "  Name: API_SystemManager_android.app.NotificationManager_notify, Length: 593, dtype: int64,\n",
              "  'API_SystemManager_android.telephony.TelephonyManager_listen': 42268    6\n",
              "  29997    5\n",
              "  27282    4\n",
              "  47689    1\n",
              "  51256    5\n",
              "          ..\n",
              "  22248    1\n",
              "  32135    2\n",
              "  51308    4\n",
              "  11997    1\n",
              "  19841    2\n",
              "  Name: API_SystemManager_android.telephony.TelephonyManager_listen, Length: 1458, dtype: int64,\n",
              "  'API_SystemManager_android.content.BroadcastReceiver_abortBroadcast': 49830    1\n",
              "  48272    1\n",
              "  49921    1\n",
              "  49853    1\n",
              "  49258    3\n",
              "          ..\n",
              "  50036    1\n",
              "  32135    5\n",
              "  49181    1\n",
              "  49925    1\n",
              "  49743    1\n",
              "  Name: API_SystemManager_android.content.BroadcastReceiver_abortBroadcast, Length: 916, dtype: int64,\n",
              "  'API_SMS_android.telephony.SmsManager_sendTextMessage': 26162     2\n",
              "  42501     2\n",
              "  42438     1\n",
              "  14994    25\n",
              "  27351     2\n",
              "           ..\n",
              "  20645     7\n",
              "  26462     4\n",
              "  45032     2\n",
              "  18505     1\n",
              "  42697     2\n",
              "  Name: API_SMS_android.telephony.SmsManager_sendTextMessage, Length: 2194, dtype: int64,\n",
              "  'API_SMS_android.telephony.SmsManager_sendMultipartTextMessage': 42501     2\n",
              "  42438     2\n",
              "  43409     1\n",
              "  41619     3\n",
              "  43791     2\n",
              "           ..\n",
              "  42746     2\n",
              "  43287    13\n",
              "  43075     2\n",
              "  42090     2\n",
              "  42697     2\n",
              "  Name: API_SMS_android.telephony.SmsManager_sendMultipartTextMessage, Length: 448, dtype: int64,\n",
              "  'API_DeviceData_android.content.ContentResolver_query': 11029     64\n",
              "  42501      9\n",
              "  29997      8\n",
              "  23784    433\n",
              "  87         2\n",
              "          ... \n",
              "  15852      2\n",
              "  1819       4\n",
              "  31225      8\n",
              "  17428      4\n",
              "  29313    152\n",
              "  Name: API_DeviceData_android.content.ContentResolver_query, Length: 9080, dtype: int64,\n",
              "  'API_DeviceData_android.content.ContentResolver_registerContentObserver': 42268     60\n",
              "  23784    229\n",
              "  25728     65\n",
              "  4839      82\n",
              "  26680    200\n",
              "          ... \n",
              "  6884     260\n",
              "  2810     186\n",
              "  13095     64\n",
              "  10214     60\n",
              "  29313     98\n",
              "  Name: API_DeviceData_android.content.ContentResolver_registerContentObserver, Length: 6742, dtype: int64,\n",
              "  'API_DeviceData_android.content.ContentResolver_insert': 23784    1\n",
              "  586      6\n",
              "  25728    2\n",
              "  29407    3\n",
              "  6610     1\n",
              "          ..\n",
              "  32135    5\n",
              "  32734    2\n",
              "  44575    1\n",
              "  46240    2\n",
              "  29313    2\n",
              "  Name: API_DeviceData_android.content.ContentResolver_insert, Length: 2091, dtype: int64,\n",
              "  'API_DeviceData_android.content.ContentResolver_delete': 586      3\n",
              "  25728    1\n",
              "  29407    4\n",
              "  46763    2\n",
              "  44242    2\n",
              "          ..\n",
              "  29495    2\n",
              "  32734    2\n",
              "  44575    2\n",
              "  46240    4\n",
              "  29313    4\n",
              "  Name: API_DeviceData_android.content.ContentResolver_delete, Length: 1942, dtype: int64,\n",
              "  'API_DeviceData_android.accounts.AccountManager_getAccountsByType': 586       4\n",
              "  6782     14\n",
              "  38591    27\n",
              "  24866    16\n",
              "  34391    20\n",
              "           ..\n",
              "  34032    14\n",
              "  13254     5\n",
              "  28042    38\n",
              "  50626    10\n",
              "  11997    11\n",
              "  Name: API_DeviceData_android.accounts.AccountManager_getAccountsByType, Length: 611, dtype: int64,\n",
              "  'API_DeviceData_android.accounts.AccountManager_getAccounts': 31231    17\n",
              "  9156      9\n",
              "  6851      1\n",
              "  3049      1\n",
              "  2640      3\n",
              "           ..\n",
              "  4443      2\n",
              "  5440      1\n",
              "  13442     4\n",
              "  11997     2\n",
              "  46265    17\n",
              "  Name: API_DeviceData_android.accounts.AccountManager_getAccounts, Length: 647, dtype: int64,\n",
              "  'API_DeviceData_android.location.Location_getLatitude': 47689    23\n",
              "  46334    23\n",
              "  44588    23\n",
              "  48026    23\n",
              "  13438     2\n",
              "  30283     4\n",
              "  13456     2\n",
              "  26475     2\n",
              "  44610     4\n",
              "  18180    20\n",
              "  10908    20\n",
              "  28155     2\n",
              "  13302     1\n",
              "  46588    23\n",
              "  48138    23\n",
              "  45827    23\n",
              "  33991     2\n",
              "  47178    19\n",
              "  28318     2\n",
              "  5833      1\n",
              "  38607    17\n",
              "  44503    17\n",
              "  47680    23\n",
              "  44815    23\n",
              "  43945    23\n",
              "  45081    23\n",
              "  3314      1\n",
              "  46715    23\n",
              "  25646     3\n",
              "  33609     1\n",
              "  26985     4\n",
              "  45952    23\n",
              "  46070    23\n",
              "  25736     2\n",
              "  44974    23\n",
              "  44259    23\n",
              "  45874    23\n",
              "  45916    23\n",
              "  43885    17\n",
              "  Name: API_DeviceData_android.location.Location_getLatitude, dtype: int64,\n",
              "  'API_DeviceData_android.location.Location_getLongitude': 47689     4\n",
              "  46334     4\n",
              "  44588     4\n",
              "  48026     4\n",
              "  13438     2\n",
              "  30283     4\n",
              "  13456     2\n",
              "  26475     2\n",
              "  44610     4\n",
              "  18180    20\n",
              "  10908    20\n",
              "  28155     2\n",
              "  13302     1\n",
              "  46588     4\n",
              "  48138     4\n",
              "  45827     4\n",
              "  33991     2\n",
              "  47178     2\n",
              "  28318     2\n",
              "  5833      2\n",
              "  38607    17\n",
              "  44503     1\n",
              "  47680     4\n",
              "  44815     4\n",
              "  43945     4\n",
              "  45081     4\n",
              "  3314      2\n",
              "  46715     4\n",
              "  25646     3\n",
              "  33609     1\n",
              "  26985     4\n",
              "  45952     4\n",
              "  46070     4\n",
              "  25736     2\n",
              "  44974     4\n",
              "  44259     4\n",
              "  45874     4\n",
              "  45916     4\n",
              "  43885     1\n",
              "  Name: API_DeviceData_android.location.Location_getLongitude, dtype: int64,\n",
              "  'API_DeviceData_android.media.AudioRecord_startRecording': 16344      3\n",
              "  3249       1\n",
              "  5524       2\n",
              "  31346      7\n",
              "  17256      3\n",
              "  33602      1\n",
              "  7743       3\n",
              "  32158    335\n",
              "  4263       3\n",
              "  8879       1\n",
              "  27660      2\n",
              "  47686      5\n",
              "  31716      2\n",
              "  12967      1\n",
              "  8005       1\n",
              "  12200      5\n",
              "  44547      1\n",
              "  3202       1\n",
              "  Name: API_DeviceData_android.media.AudioRecord_startRecording, dtype: int64,\n",
              "  'API_DeviceData_android.media.MediaRecorder_start': 12956    13\n",
              "  31790    10\n",
              "  31392     1\n",
              "  3696      4\n",
              "  13344    10\n",
              "  12272     1\n",
              "  3831      1\n",
              "  9882      2\n",
              "  47236     1\n",
              "  12953     1\n",
              "  27558     1\n",
              "  4365      1\n",
              "  3894      1\n",
              "  32977     3\n",
              "  348       1\n",
              "  24827     1\n",
              "  706       1\n",
              "  33151    12\n",
              "  33369     1\n",
              "  30740     4\n",
              "  31911     1\n",
              "  3344      1\n",
              "  33405    10\n",
              "  46757     1\n",
              "  26468     1\n",
              "  25062     1\n",
              "  Name: API_DeviceData_android.media.MediaRecorder_start, dtype: int64,\n",
              "  'API_DeviceData_android.os.SystemProperties_get': 9502     101\n",
              "  39196    143\n",
              "  40866    141\n",
              "  17851    102\n",
              "  21095    112\n",
              "          ... \n",
              "  5851      80\n",
              "  9745      80\n",
              "  39104    123\n",
              "  8436      87\n",
              "  21725    116\n",
              "  Name: API_DeviceData_android.os.SystemProperties_get, Length: 3487, dtype: int64,\n",
              "  'API_DeviceData_android.app.ApplicationPackageManager_getInstalledPackages': 26413     1\n",
              "  20753    36\n",
              "  24474    38\n",
              "  35311     2\n",
              "  29997     3\n",
              "           ..\n",
              "  39104    20\n",
              "  29911     1\n",
              "  8436     88\n",
              "  8368      4\n",
              "  34536    43\n",
              "  Name: API_DeviceData_android.app.ApplicationPackageManager_getInstalledPackages, Length: 8458, dtype: int64,\n",
              "  'API__sessions': 8302     29\n",
              "  36086    36\n",
              "  35943    43\n",
              "  52761    33\n",
              "  9316     29\n",
              "           ..\n",
              "  22875    29\n",
              "  9745     49\n",
              "  1819     31\n",
              "  22575    34\n",
              "  8436     50\n",
              "  Name: API__sessions, Length: 1093, dtype: int64,\n",
              "  'Network_TotalReceivedBytes': 42268       38072\n",
              "  52402    44229021\n",
              "  586        150139\n",
              "  25728       39463\n",
              "  1618       111870\n",
              "             ...   \n",
              "  11997       58063\n",
              "  15852      174315\n",
              "  31225       44846\n",
              "  8368      1022390\n",
              "  23587       71339\n",
              "  Name: Network_TotalReceivedBytes, Length: 7745, dtype: int64,\n",
              "  'Network_TotalReceivedPackets': 9502       736\n",
              "  52402    32675\n",
              "  16231     1574\n",
              "  12152     1152\n",
              "  38591     1111\n",
              "           ...  \n",
              "  19579      404\n",
              "  29993      206\n",
              "  11997      417\n",
              "  15852     1018\n",
              "  8368       821\n",
              "  Name: Network_TotalReceivedPackets, Length: 6223, dtype: int64,\n",
              "  'Network_TotalTransmittedBytes': 9502      49958\n",
              "  52402    687875\n",
              "  16231    439189\n",
              "  39196     47300\n",
              "  12152     99208\n",
              "            ...  \n",
              "  21504     68359\n",
              "  5577     119363\n",
              "  11997     71492\n",
              "  15852    328813\n",
              "  8368      45015\n",
              "  Name: Network_TotalTransmittedBytes, Length: 4773, dtype: int64,\n",
              "  'Network_TotalTransmittedPackets': 9502       756\n",
              "  52402    17073\n",
              "  25728      379\n",
              "  16231     1849\n",
              "  39196      480\n",
              "           ...  \n",
              "  11997      500\n",
              "  5851       314\n",
              "  15852     1243\n",
              "  39104      374\n",
              "  8368       918\n",
              "  Name: Network_TotalTransmittedPackets, Length: 6378, dtype: int64,\n",
              "  'Battery_wakelock': 29407     8\n",
              "  47462     8\n",
              "  46763    10\n",
              "  2494      8\n",
              "  44242    10\n",
              "           ..\n",
              "  29495     8\n",
              "  32734     8\n",
              "  44575    10\n",
              "  46240    10\n",
              "  29313     8\n",
              "  Name: Battery_wakelock, Length: 1669, dtype: int64,\n",
              "  'Battery_service': 20753    3\n",
              "  1618     4\n",
              "  16231    3\n",
              "  17624    3\n",
              "  16344    3\n",
              "          ..\n",
              "  1819     3\n",
              "  22575    4\n",
              "  8436     3\n",
              "  8368     3\n",
              "  34536    3\n",
              "  Name: Battery_service, Length: 2997, dtype: int64,\n",
              "  'Logcat_info': 13082     6444\n",
              "  35311     9748\n",
              "  9502      6617\n",
              "  20228     8449\n",
              "  37908     8185\n",
              "           ...  \n",
              "  7732      8128\n",
              "  29335     7482\n",
              "  19579    12536\n",
              "  1819     16341\n",
              "  13371    10316\n",
              "  Name: Logcat_info, Length: 1640, dtype: int64,\n",
              "  'Logcat_error': 26413     7564\n",
              "  8302     12559\n",
              "  9316      7230\n",
              "  17591    14275\n",
              "  12774     8180\n",
              "           ...  \n",
              "  34032     6318\n",
              "  13688     7783\n",
              "  52128     7090\n",
              "  51003     7553\n",
              "  26028     7674\n",
              "  Name: Logcat_error, Length: 1598, dtype: int64,\n",
              "  'Logcat_warning': 39007    12223\n",
              "  42853     6160\n",
              "  42846     7700\n",
              "  37908     7541\n",
              "  13384     9633\n",
              "           ...  \n",
              "  53194     6985\n",
              "  11462     7875\n",
              "  17124    10431\n",
              "  49181     6656\n",
              "  4200      6678\n",
              "  Name: Logcat_warning, Length: 1496, dtype: int64,\n",
              "  'Logcat_debug': 46189     6256\n",
              "  23784     6994\n",
              "  37931    10687\n",
              "  39550     7735\n",
              "  43628     6265\n",
              "           ...  \n",
              "  22875     7051\n",
              "  17010     8142\n",
              "  20748     8440\n",
              "  17428     6955\n",
              "  49601     6838\n",
              "  Name: Logcat_debug, Length: 1573, dtype: int64,\n",
              "  'Logcat_verbose': 14188     9775\n",
              "  25799     6230\n",
              "  52761    10554\n",
              "  8348      7600\n",
              "  1628      6599\n",
              "           ...  \n",
              "  33083     7278\n",
              "  42444     6950\n",
              "  30618     6321\n",
              "  9745     10001\n",
              "  36008     6419\n",
              "  Name: Logcat_verbose, Length: 1556, dtype: int64,\n",
              "  'Logcat_total': 39007    18506\n",
              "  8302     19493\n",
              "  37908    18795\n",
              "  52761    19136\n",
              "  8348     19544\n",
              "           ...  \n",
              "  20645    20106\n",
              "  19579    21145\n",
              "  9745     21098\n",
              "  1819     28789\n",
              "  49601    19461\n",
              "  Name: Logcat_total, Length: 1598, dtype: int64,\n",
              "  'Process_total': 13082    205\n",
              "  27167    213\n",
              "  34580    200\n",
              "  24843    218\n",
              "  11306    201\n",
              "          ... \n",
              "  30158    199\n",
              "  10055    199\n",
              "  5158     200\n",
              "  12032    199\n",
              "  8436     201\n",
              "  Name: Process_total, Length: 217, dtype: int64})"
            ]
          },
          "execution_count": 146,
          "metadata": {},
          "output_type": "execute_result"
        }
      ],
      "source": [
        "baseline_pipeline.preprocessing.get_outliers_df(plot=False)"
      ]
    },
    {
      "cell_type": "markdown",
      "metadata": {},
      "source": [
        "### Bound Checking"
      ]
    },
    {
      "cell_type": "code",
      "execution_count": 148,
      "metadata": {},
      "outputs": [
        {
          "data": {
            "text/html": [
              "<div>\n",
              "<style scoped>\n",
              "    .dataframe tbody tr th:only-of-type {\n",
              "        vertical-align: middle;\n",
              "    }\n",
              "\n",
              "    .dataframe tbody tr th {\n",
              "        vertical-align: top;\n",
              "    }\n",
              "\n",
              "    .dataframe thead th {\n",
              "        text-align: right;\n",
              "    }\n",
              "</style>\n",
              "<table border=\"1\" class=\"dataframe\">\n",
              "  <thead>\n",
              "    <tr style=\"text-align: right;\">\n",
              "      <th></th>\n",
              "      <th>Memory_PssTotal</th>\n",
              "      <th>Memory_PssClean</th>\n",
              "      <th>Memory_SharedDirty</th>\n",
              "      <th>Memory_PrivateDirty</th>\n",
              "      <th>Memory_SharedClean</th>\n",
              "      <th>Memory_PrivateClean</th>\n",
              "      <th>Memory_SwapPssDirty</th>\n",
              "      <th>Memory_HeapSize</th>\n",
              "      <th>Memory_HeapAlloc</th>\n",
              "      <th>Memory_HeapFree</th>\n",
              "      <th>...</th>\n",
              "      <th>Network_TotalTransmittedPackets</th>\n",
              "      <th>Battery_wakelock</th>\n",
              "      <th>Battery_service</th>\n",
              "      <th>Logcat_info</th>\n",
              "      <th>Logcat_error</th>\n",
              "      <th>Logcat_warning</th>\n",
              "      <th>Logcat_debug</th>\n",
              "      <th>Logcat_verbose</th>\n",
              "      <th>Logcat_total</th>\n",
              "      <th>Process_total</th>\n",
              "    </tr>\n",
              "  </thead>\n",
              "  <tbody>\n",
              "    <tr>\n",
              "      <th>48143</th>\n",
              "      <td>35115</td>\n",
              "      <td>2936</td>\n",
              "      <td>12944</td>\n",
              "      <td>25560</td>\n",
              "      <td>83552</td>\n",
              "      <td>3072</td>\n",
              "      <td>0</td>\n",
              "      <td>9086</td>\n",
              "      <td>5558</td>\n",
              "      <td>3527</td>\n",
              "      <td>...</td>\n",
              "      <td>0</td>\n",
              "      <td>3</td>\n",
              "      <td>0</td>\n",
              "      <td>4372</td>\n",
              "      <td>2820</td>\n",
              "      <td>1369</td>\n",
              "      <td>1567</td>\n",
              "      <td>4737</td>\n",
              "      <td>14865</td>\n",
              "      <td>188</td>\n",
              "    </tr>\n",
              "    <tr>\n",
              "      <th>10388</th>\n",
              "      <td>71418</td>\n",
              "      <td>11352</td>\n",
              "      <td>8960</td>\n",
              "      <td>46700</td>\n",
              "      <td>84844</td>\n",
              "      <td>11468</td>\n",
              "      <td>0</td>\n",
              "      <td>15178</td>\n",
              "      <td>11581</td>\n",
              "      <td>3596</td>\n",
              "      <td>...</td>\n",
              "      <td>0</td>\n",
              "      <td>2</td>\n",
              "      <td>2</td>\n",
              "      <td>693</td>\n",
              "      <td>99</td>\n",
              "      <td>2863</td>\n",
              "      <td>1702</td>\n",
              "      <td>2804</td>\n",
              "      <td>8161</td>\n",
              "      <td>191</td>\n",
              "    </tr>\n",
              "    <tr>\n",
              "      <th>11029</th>\n",
              "      <td>120450</td>\n",
              "      <td>30872</td>\n",
              "      <td>10704</td>\n",
              "      <td>71532</td>\n",
              "      <td>132144</td>\n",
              "      <td>31660</td>\n",
              "      <td>0</td>\n",
              "      <td>37109</td>\n",
              "      <td>30762</td>\n",
              "      <td>6346</td>\n",
              "      <td>...</td>\n",
              "      <td>123</td>\n",
              "      <td>2</td>\n",
              "      <td>1</td>\n",
              "      <td>2422</td>\n",
              "      <td>2959</td>\n",
              "      <td>925</td>\n",
              "      <td>98</td>\n",
              "      <td>3416</td>\n",
              "      <td>9820</td>\n",
              "      <td>196</td>\n",
              "    </tr>\n",
              "    <tr>\n",
              "      <th>36609</th>\n",
              "      <td>42669</td>\n",
              "      <td>4156</td>\n",
              "      <td>12544</td>\n",
              "      <td>29872</td>\n",
              "      <td>91184</td>\n",
              "      <td>4172</td>\n",
              "      <td>0</td>\n",
              "      <td>13283</td>\n",
              "      <td>10668</td>\n",
              "      <td>2614</td>\n",
              "      <td>...</td>\n",
              "      <td>86</td>\n",
              "      <td>5</td>\n",
              "      <td>2</td>\n",
              "      <td>2323</td>\n",
              "      <td>149</td>\n",
              "      <td>783</td>\n",
              "      <td>1954</td>\n",
              "      <td>2908</td>\n",
              "      <td>8117</td>\n",
              "      <td>192</td>\n",
              "    </tr>\n",
              "    <tr>\n",
              "      <th>26413</th>\n",
              "      <td>65679</td>\n",
              "      <td>3256</td>\n",
              "      <td>10792</td>\n",
              "      <td>52684</td>\n",
              "      <td>101276</td>\n",
              "      <td>6004</td>\n",
              "      <td>0</td>\n",
              "      <td>32054</td>\n",
              "      <td>24837</td>\n",
              "      <td>7216</td>\n",
              "      <td>...</td>\n",
              "      <td>27</td>\n",
              "      <td>3</td>\n",
              "      <td>0</td>\n",
              "      <td>2271</td>\n",
              "      <td>7564</td>\n",
              "      <td>626</td>\n",
              "      <td>1826</td>\n",
              "      <td>139</td>\n",
              "      <td>12426</td>\n",
              "      <td>192</td>\n",
              "    </tr>\n",
              "  </tbody>\n",
              "</table>\n",
              "<p>5 rows × 141 columns</p>\n",
              "</div>"
            ],
            "text/plain": [
              "       Memory_PssTotal  Memory_PssClean  Memory_SharedDirty  \\\n",
              "48143            35115             2936               12944   \n",
              "10388            71418            11352                8960   \n",
              "11029           120450            30872               10704   \n",
              "36609            42669             4156               12544   \n",
              "26413            65679             3256               10792   \n",
              "\n",
              "       Memory_PrivateDirty  Memory_SharedClean  Memory_PrivateClean  \\\n",
              "48143                25560               83552                 3072   \n",
              "10388                46700               84844                11468   \n",
              "11029                71532              132144                31660   \n",
              "36609                29872               91184                 4172   \n",
              "26413                52684              101276                 6004   \n",
              "\n",
              "       Memory_SwapPssDirty  Memory_HeapSize  Memory_HeapAlloc  \\\n",
              "48143                    0             9086              5558   \n",
              "10388                    0            15178             11581   \n",
              "11029                    0            37109             30762   \n",
              "36609                    0            13283             10668   \n",
              "26413                    0            32054             24837   \n",
              "\n",
              "       Memory_HeapFree  ...  Network_TotalTransmittedPackets  \\\n",
              "48143             3527  ...                                0   \n",
              "10388             3596  ...                                0   \n",
              "11029             6346  ...                              123   \n",
              "36609             2614  ...                               86   \n",
              "26413             7216  ...                               27   \n",
              "\n",
              "       Battery_wakelock  Battery_service  Logcat_info  Logcat_error  \\\n",
              "48143                 3                0         4372          2820   \n",
              "10388                 2                2          693            99   \n",
              "11029                 2                1         2422          2959   \n",
              "36609                 5                2         2323           149   \n",
              "26413                 3                0         2271          7564   \n",
              "\n",
              "       Logcat_warning  Logcat_debug  Logcat_verbose  Logcat_total  \\\n",
              "48143            1369          1567            4737         14865   \n",
              "10388            2863          1702            2804          8161   \n",
              "11029             925            98            3416          9820   \n",
              "36609             783          1954            2908          8117   \n",
              "26413             626          1826             139         12426   \n",
              "\n",
              "       Process_total  \n",
              "48143            188  \n",
              "10388            191  \n",
              "11029            196  \n",
              "36609            192  \n",
              "26413            192  \n",
              "\n",
              "[5 rows x 141 columns]"
            ]
          },
          "execution_count": 148,
          "metadata": {},
          "output_type": "execute_result"
        }
      ],
      "source": []
    },
    {
      "cell_type": "code",
      "execution_count": 98,
      "metadata": {},
      "outputs": [],
      "source": [
        "baseline_pipeline.preprocessing.bound_checking(columnsToCheck=[\"Location_getLatitude\", \"Location_getLongitude\"], bounds=[(-90, 90), (-180, 180)])"
      ]
    },
    {
      "cell_type": "markdown",
      "metadata": {},
      "source": [
        "### Data Imputing"
      ]
    },
    {
      "cell_type": "markdown",
      "metadata": {},
      "source": [
        "Since, as seen on EDA and at the beggining of preprocessing, there are no missing values on the dataset, there is no real need to perform imputation because we have no missing data to fill or create."
      ]
    },
    {
      "cell_type": "markdown",
      "metadata": {},
      "source": [
        "### Feature Scaling"
      ]
    },
    {
      "cell_type": "markdown",
      "metadata": {},
      "source": [
        "**NOTE**: For neural networks, which might need values in specific intervals, maybe it's more interesting to use Standarization instead for Robust Scaling since Standarization won't have outliers."
      ]
    },
    {
      "cell_type": "markdown",
      "metadata": {},
      "source": [
        "For scaling data, we will work only with the training set to avoid data leakage."
      ]
    },
    {
      "cell_type": "code",
      "execution_count": 48,
      "metadata": {},
      "outputs": [
        {
          "data": {
            "text/html": [
              "<div>\n",
              "<style scoped>\n",
              "    .dataframe tbody tr th:only-of-type {\n",
              "        vertical-align: middle;\n",
              "    }\n",
              "\n",
              "    .dataframe tbody tr th {\n",
              "        vertical-align: top;\n",
              "    }\n",
              "\n",
              "    .dataframe thead th {\n",
              "        text-align: right;\n",
              "    }\n",
              "</style>\n",
              "<table border=\"1\" class=\"dataframe\">\n",
              "  <thead>\n",
              "    <tr style=\"text-align: right;\">\n",
              "      <th></th>\n",
              "      <th>Memory_PssTotal</th>\n",
              "      <th>Memory_PssClean</th>\n",
              "      <th>Memory_SharedDirty</th>\n",
              "      <th>Memory_PrivateDirty</th>\n",
              "      <th>Memory_SharedClean</th>\n",
              "      <th>Memory_PrivateClean</th>\n",
              "      <th>Memory_SwapPssDirty</th>\n",
              "      <th>Memory_HeapSize</th>\n",
              "      <th>Memory_HeapAlloc</th>\n",
              "      <th>Memory_HeapFree</th>\n",
              "      <th>...</th>\n",
              "      <th>Network_TotalTransmittedPackets</th>\n",
              "      <th>Battery_wakelock</th>\n",
              "      <th>Battery_service</th>\n",
              "      <th>Logcat_info</th>\n",
              "      <th>Logcat_error</th>\n",
              "      <th>Logcat_warning</th>\n",
              "      <th>Logcat_debug</th>\n",
              "      <th>Logcat_verbose</th>\n",
              "      <th>Logcat_total</th>\n",
              "      <th>Process_total</th>\n",
              "    </tr>\n",
              "  </thead>\n",
              "  <tbody>\n",
              "    <tr>\n",
              "      <th>48143</th>\n",
              "      <td>35115</td>\n",
              "      <td>2936</td>\n",
              "      <td>12944</td>\n",
              "      <td>25560</td>\n",
              "      <td>83552</td>\n",
              "      <td>3072</td>\n",
              "      <td>0</td>\n",
              "      <td>9086</td>\n",
              "      <td>5558</td>\n",
              "      <td>3527</td>\n",
              "      <td>...</td>\n",
              "      <td>0</td>\n",
              "      <td>3</td>\n",
              "      <td>0</td>\n",
              "      <td>4372</td>\n",
              "      <td>2820</td>\n",
              "      <td>1369</td>\n",
              "      <td>1567</td>\n",
              "      <td>4737</td>\n",
              "      <td>14865</td>\n",
              "      <td>188</td>\n",
              "    </tr>\n",
              "    <tr>\n",
              "      <th>10388</th>\n",
              "      <td>71418</td>\n",
              "      <td>11352</td>\n",
              "      <td>8960</td>\n",
              "      <td>46700</td>\n",
              "      <td>84844</td>\n",
              "      <td>11468</td>\n",
              "      <td>0</td>\n",
              "      <td>15178</td>\n",
              "      <td>11581</td>\n",
              "      <td>3596</td>\n",
              "      <td>...</td>\n",
              "      <td>0</td>\n",
              "      <td>2</td>\n",
              "      <td>2</td>\n",
              "      <td>693</td>\n",
              "      <td>99</td>\n",
              "      <td>2863</td>\n",
              "      <td>1702</td>\n",
              "      <td>2804</td>\n",
              "      <td>8161</td>\n",
              "      <td>191</td>\n",
              "    </tr>\n",
              "    <tr>\n",
              "      <th>11029</th>\n",
              "      <td>120450</td>\n",
              "      <td>30872</td>\n",
              "      <td>10704</td>\n",
              "      <td>71532</td>\n",
              "      <td>132144</td>\n",
              "      <td>31660</td>\n",
              "      <td>0</td>\n",
              "      <td>37109</td>\n",
              "      <td>30762</td>\n",
              "      <td>6346</td>\n",
              "      <td>...</td>\n",
              "      <td>123</td>\n",
              "      <td>2</td>\n",
              "      <td>1</td>\n",
              "      <td>2422</td>\n",
              "      <td>2959</td>\n",
              "      <td>925</td>\n",
              "      <td>98</td>\n",
              "      <td>3416</td>\n",
              "      <td>9820</td>\n",
              "      <td>196</td>\n",
              "    </tr>\n",
              "    <tr>\n",
              "      <th>36609</th>\n",
              "      <td>42669</td>\n",
              "      <td>4156</td>\n",
              "      <td>12544</td>\n",
              "      <td>29872</td>\n",
              "      <td>91184</td>\n",
              "      <td>4172</td>\n",
              "      <td>0</td>\n",
              "      <td>13283</td>\n",
              "      <td>10668</td>\n",
              "      <td>2614</td>\n",
              "      <td>...</td>\n",
              "      <td>86</td>\n",
              "      <td>5</td>\n",
              "      <td>2</td>\n",
              "      <td>2323</td>\n",
              "      <td>149</td>\n",
              "      <td>783</td>\n",
              "      <td>1954</td>\n",
              "      <td>2908</td>\n",
              "      <td>8117</td>\n",
              "      <td>192</td>\n",
              "    </tr>\n",
              "    <tr>\n",
              "      <th>26413</th>\n",
              "      <td>65679</td>\n",
              "      <td>3256</td>\n",
              "      <td>10792</td>\n",
              "      <td>52684</td>\n",
              "      <td>101276</td>\n",
              "      <td>6004</td>\n",
              "      <td>0</td>\n",
              "      <td>32054</td>\n",
              "      <td>24837</td>\n",
              "      <td>7216</td>\n",
              "      <td>...</td>\n",
              "      <td>27</td>\n",
              "      <td>3</td>\n",
              "      <td>0</td>\n",
              "      <td>2271</td>\n",
              "      <td>7564</td>\n",
              "      <td>626</td>\n",
              "      <td>1826</td>\n",
              "      <td>139</td>\n",
              "      <td>12426</td>\n",
              "      <td>192</td>\n",
              "    </tr>\n",
              "  </tbody>\n",
              "</table>\n",
              "<p>5 rows × 141 columns</p>\n",
              "</div>"
            ],
            "text/plain": [
              "       Memory_PssTotal  Memory_PssClean  Memory_SharedDirty  \\\n",
              "48143            35115             2936               12944   \n",
              "10388            71418            11352                8960   \n",
              "11029           120450            30872               10704   \n",
              "36609            42669             4156               12544   \n",
              "26413            65679             3256               10792   \n",
              "\n",
              "       Memory_PrivateDirty  Memory_SharedClean  Memory_PrivateClean  \\\n",
              "48143                25560               83552                 3072   \n",
              "10388                46700               84844                11468   \n",
              "11029                71532              132144                31660   \n",
              "36609                29872               91184                 4172   \n",
              "26413                52684              101276                 6004   \n",
              "\n",
              "       Memory_SwapPssDirty  Memory_HeapSize  Memory_HeapAlloc  \\\n",
              "48143                    0             9086              5558   \n",
              "10388                    0            15178             11581   \n",
              "11029                    0            37109             30762   \n",
              "36609                    0            13283             10668   \n",
              "26413                    0            32054             24837   \n",
              "\n",
              "       Memory_HeapFree  ...  Network_TotalTransmittedPackets  \\\n",
              "48143             3527  ...                                0   \n",
              "10388             3596  ...                                0   \n",
              "11029             6346  ...                              123   \n",
              "36609             2614  ...                               86   \n",
              "26413             7216  ...                               27   \n",
              "\n",
              "       Battery_wakelock  Battery_service  Logcat_info  Logcat_error  \\\n",
              "48143                 3                0         4372          2820   \n",
              "10388                 2                2          693            99   \n",
              "11029                 2                1         2422          2959   \n",
              "36609                 5                2         2323           149   \n",
              "26413                 3                0         2271          7564   \n",
              "\n",
              "       Logcat_warning  Logcat_debug  Logcat_verbose  Logcat_total  \\\n",
              "48143            1369          1567            4737         14865   \n",
              "10388            2863          1702            2804          8161   \n",
              "11029             925            98            3416          9820   \n",
              "36609             783          1954            2908          8117   \n",
              "26413             626          1826             139         12426   \n",
              "\n",
              "       Process_total  \n",
              "48143            188  \n",
              "10388            191  \n",
              "11029            196  \n",
              "36609            192  \n",
              "26413            192  \n",
              "\n",
              "[5 rows x 141 columns]"
            ]
          },
          "execution_count": 48,
          "metadata": {},
          "output_type": "execute_result"
        }
      ],
      "source": [
        "baseline_pipeline.dataset.X_train.head()"
      ]
    },
    {
      "cell_type": "code",
      "execution_count": 50,
      "metadata": {},
      "outputs": [
        {
          "data": {
            "text/plain": [
              "'Succesfully scaled 141 features, to check the results run: \\n baseline_pipeline.dataset.X_train.head()'"
            ]
          },
          "execution_count": 50,
          "metadata": {},
          "output_type": "execute_result"
        }
      ],
      "source": [
        "baseline_pipeline.preprocessing.scale_features(scaler=\"robust\", columnsToScale=default_pipeline.dataset.X_train.select_dtypes(include=[\"number\"]).columns)"
      ]
    },
    {
      "cell_type": "code",
      "execution_count": 51,
      "metadata": {},
      "outputs": [
        {
          "data": {
            "text/html": [
              "<div>\n",
              "<style scoped>\n",
              "    .dataframe tbody tr th:only-of-type {\n",
              "        vertical-align: middle;\n",
              "    }\n",
              "\n",
              "    .dataframe tbody tr th {\n",
              "        vertical-align: top;\n",
              "    }\n",
              "\n",
              "    .dataframe thead th {\n",
              "        text-align: right;\n",
              "    }\n",
              "</style>\n",
              "<table border=\"1\" class=\"dataframe\">\n",
              "  <thead>\n",
              "    <tr style=\"text-align: right;\">\n",
              "      <th></th>\n",
              "      <th>Memory_PssTotal</th>\n",
              "      <th>Memory_PssClean</th>\n",
              "      <th>Memory_SharedDirty</th>\n",
              "      <th>Memory_PrivateDirty</th>\n",
              "      <th>Memory_SharedClean</th>\n",
              "      <th>Memory_PrivateClean</th>\n",
              "      <th>Memory_SwapPssDirty</th>\n",
              "      <th>Memory_HeapSize</th>\n",
              "      <th>Memory_HeapAlloc</th>\n",
              "      <th>Memory_HeapFree</th>\n",
              "      <th>...</th>\n",
              "      <th>Network_TotalTransmittedPackets</th>\n",
              "      <th>Battery_wakelock</th>\n",
              "      <th>Battery_service</th>\n",
              "      <th>Logcat_info</th>\n",
              "      <th>Logcat_error</th>\n",
              "      <th>Logcat_warning</th>\n",
              "      <th>Logcat_debug</th>\n",
              "      <th>Logcat_verbose</th>\n",
              "      <th>Logcat_total</th>\n",
              "      <th>Process_total</th>\n",
              "    </tr>\n",
              "  </thead>\n",
              "  <tbody>\n",
              "    <tr>\n",
              "      <th>48143</th>\n",
              "      <td>-0.572982</td>\n",
              "      <td>-0.212739</td>\n",
              "      <td>3.662252</td>\n",
              "      <td>-0.680374</td>\n",
              "      <td>-0.269575</td>\n",
              "      <td>-0.304846</td>\n",
              "      <td>0.0</td>\n",
              "      <td>-0.744642</td>\n",
              "      <td>-0.903544</td>\n",
              "      <td>-0.190928</td>\n",
              "      <td>...</td>\n",
              "      <td>-0.168675</td>\n",
              "      <td>0.0</td>\n",
              "      <td>0.0</td>\n",
              "      <td>1.229024</td>\n",
              "      <td>0.414508</td>\n",
              "      <td>-0.328646</td>\n",
              "      <td>-0.232606</td>\n",
              "      <td>1.436909</td>\n",
              "      <td>1.088923</td>\n",
              "      <td>-0.50</td>\n",
              "    </tr>\n",
              "    <tr>\n",
              "      <th>10388</th>\n",
              "      <td>0.223136</td>\n",
              "      <td>0.310774</td>\n",
              "      <td>-2.933775</td>\n",
              "      <td>0.225135</td>\n",
              "      <td>-0.211834</td>\n",
              "      <td>0.196228</td>\n",
              "      <td>0.0</td>\n",
              "      <td>-0.345350</td>\n",
              "      <td>-0.408902</td>\n",
              "      <td>-0.166667</td>\n",
              "      <td>...</td>\n",
              "      <td>-0.168675</td>\n",
              "      <td>-0.5</td>\n",
              "      <td>2.0</td>\n",
              "      <td>-0.712401</td>\n",
              "      <td>-0.995337</td>\n",
              "      <td>0.449479</td>\n",
              "      <td>-0.162513</td>\n",
              "      <td>0.420610</td>\n",
              "      <td>-0.788685</td>\n",
              "      <td>0.25</td>\n",
              "    </tr>\n",
              "    <tr>\n",
              "      <th>11029</th>\n",
              "      <td>1.298399</td>\n",
              "      <td>1.525006</td>\n",
              "      <td>-0.046358</td>\n",
              "      <td>1.288786</td>\n",
              "      <td>1.902038</td>\n",
              "      <td>1.401289</td>\n",
              "      <td>0.0</td>\n",
              "      <td>1.092089</td>\n",
              "      <td>1.166345</td>\n",
              "      <td>0.800281</td>\n",
              "      <td>...</td>\n",
              "      <td>0.819277</td>\n",
              "      <td>-0.5</td>\n",
              "      <td>1.0</td>\n",
              "      <td>0.200000</td>\n",
              "      <td>0.486528</td>\n",
              "      <td>-0.559896</td>\n",
              "      <td>-0.995327</td>\n",
              "      <td>0.742376</td>\n",
              "      <td>-0.324044</td>\n",
              "      <td>1.50</td>\n",
              "    </tr>\n",
              "    <tr>\n",
              "      <th>36609</th>\n",
              "      <td>-0.407325</td>\n",
              "      <td>-0.136850</td>\n",
              "      <td>3.000000</td>\n",
              "      <td>-0.495674</td>\n",
              "      <td>0.071505</td>\n",
              "      <td>-0.239198</td>\n",
              "      <td>0.0</td>\n",
              "      <td>-0.469555</td>\n",
              "      <td>-0.483883</td>\n",
              "      <td>-0.511955</td>\n",
              "      <td>...</td>\n",
              "      <td>0.522088</td>\n",
              "      <td>1.0</td>\n",
              "      <td>2.0</td>\n",
              "      <td>0.147757</td>\n",
              "      <td>-0.969430</td>\n",
              "      <td>-0.633854</td>\n",
              "      <td>-0.031672</td>\n",
              "      <td>0.475289</td>\n",
              "      <td>-0.801008</td>\n",
              "      <td>0.50</td>\n",
              "    </tr>\n",
              "    <tr>\n",
              "      <th>26413</th>\n",
              "      <td>0.097281</td>\n",
              "      <td>-0.192834</td>\n",
              "      <td>0.099338</td>\n",
              "      <td>0.481453</td>\n",
              "      <td>0.522524</td>\n",
              "      <td>-0.129864</td>\n",
              "      <td>0.0</td>\n",
              "      <td>0.760766</td>\n",
              "      <td>0.679752</td>\n",
              "      <td>1.106188</td>\n",
              "      <td>...</td>\n",
              "      <td>0.048193</td>\n",
              "      <td>0.0</td>\n",
              "      <td>0.0</td>\n",
              "      <td>0.120317</td>\n",
              "      <td>2.872539</td>\n",
              "      <td>-0.715625</td>\n",
              "      <td>-0.098131</td>\n",
              "      <td>-0.980547</td>\n",
              "      <td>0.405826</td>\n",
              "      <td>0.50</td>\n",
              "    </tr>\n",
              "  </tbody>\n",
              "</table>\n",
              "<p>5 rows × 141 columns</p>\n",
              "</div>"
            ],
            "text/plain": [
              "       Memory_PssTotal  Memory_PssClean  Memory_SharedDirty  \\\n",
              "48143        -0.572982        -0.212739            3.662252   \n",
              "10388         0.223136         0.310774           -2.933775   \n",
              "11029         1.298399         1.525006           -0.046358   \n",
              "36609        -0.407325        -0.136850            3.000000   \n",
              "26413         0.097281        -0.192834            0.099338   \n",
              "\n",
              "       Memory_PrivateDirty  Memory_SharedClean  Memory_PrivateClean  \\\n",
              "48143            -0.680374           -0.269575            -0.304846   \n",
              "10388             0.225135           -0.211834             0.196228   \n",
              "11029             1.288786            1.902038             1.401289   \n",
              "36609            -0.495674            0.071505            -0.239198   \n",
              "26413             0.481453            0.522524            -0.129864   \n",
              "\n",
              "       Memory_SwapPssDirty  Memory_HeapSize  Memory_HeapAlloc  \\\n",
              "48143                  0.0        -0.744642         -0.903544   \n",
              "10388                  0.0        -0.345350         -0.408902   \n",
              "11029                  0.0         1.092089          1.166345   \n",
              "36609                  0.0        -0.469555         -0.483883   \n",
              "26413                  0.0         0.760766          0.679752   \n",
              "\n",
              "       Memory_HeapFree  ...  Network_TotalTransmittedPackets  \\\n",
              "48143        -0.190928  ...                        -0.168675   \n",
              "10388        -0.166667  ...                        -0.168675   \n",
              "11029         0.800281  ...                         0.819277   \n",
              "36609        -0.511955  ...                         0.522088   \n",
              "26413         1.106188  ...                         0.048193   \n",
              "\n",
              "       Battery_wakelock  Battery_service  Logcat_info  Logcat_error  \\\n",
              "48143               0.0              0.0     1.229024      0.414508   \n",
              "10388              -0.5              2.0    -0.712401     -0.995337   \n",
              "11029              -0.5              1.0     0.200000      0.486528   \n",
              "36609               1.0              2.0     0.147757     -0.969430   \n",
              "26413               0.0              0.0     0.120317      2.872539   \n",
              "\n",
              "       Logcat_warning  Logcat_debug  Logcat_verbose  Logcat_total  \\\n",
              "48143       -0.328646     -0.232606        1.436909      1.088923   \n",
              "10388        0.449479     -0.162513        0.420610     -0.788685   \n",
              "11029       -0.559896     -0.995327        0.742376     -0.324044   \n",
              "36609       -0.633854     -0.031672        0.475289     -0.801008   \n",
              "26413       -0.715625     -0.098131       -0.980547      0.405826   \n",
              "\n",
              "       Process_total  \n",
              "48143          -0.50  \n",
              "10388           0.25  \n",
              "11029           1.50  \n",
              "36609           0.50  \n",
              "26413           0.50  \n",
              "\n",
              "[5 rows x 141 columns]"
            ]
          },
          "execution_count": 51,
          "metadata": {},
          "output_type": "execute_result"
        }
      ],
      "source": [
        "baseline_pipeline.dataset.X_train.head()"
      ]
    },
    {
      "cell_type": "code",
      "execution_count": 45,
      "metadata": {},
      "outputs": [],
      "source": [
        "# preprocessor.X_train_without_reboot.describe().T[['min', 'max']]"
      ]
    },
    {
      "cell_type": "markdown",
      "metadata": {},
      "source": [
        "Secondly, we're gonna check for kurtosis and skewness. If skewness is high we might need to consider standardizing."
      ]
    },
    {
      "cell_type": "code",
      "execution_count": 46,
      "metadata": {},
      "outputs": [],
      "source": [
        "# print(f\"\\nSkewness:\\n----------------\\n{preprocessor.X_train_without_reboot.skew()}\")\n",
        "# print(f\"\\nKurtosis:\\n----------------\\n{preprocessor.X_train_without_reboot.kurt()}\")"
      ]
    },
    {
      "cell_type": "markdown",
      "metadata": {},
      "source": [
        "Since there is a very large number of fields, we need to avoid looking at the distribution and information about each feature. For this, we decided to create an automation that decides the appropriate scaling method -if necessary- for each feature.\n",
        "\n",
        "This function `determine_scaling_method` takes into account outlier detection and skewness and based on that it decides to use a **robust scaler**, **normalize** or **none**.\n",
        "\n",
        "**Note**: we use robust scaler rather than a standard scaler because robust scales with the median and IQR, which is less sensitive to outliers than standardizing is -computed with $\\mu$ and $\\sigma$. It will turn the median to 0 and turn the values in a field in values between -1 and 1 with some outliers."
      ]
    },
    {
      "cell_type": "markdown",
      "metadata": {},
      "source": [
        "Normalization Formula:\n",
        " \n",
        "\n",
        "Robust Scaler Formula:\n",
        " \n",
        "Where:\n",
        "\n",
        "IQR (Interquartile Range) = Q3 - Q1"
      ]
    },
    {
      "cell_type": "code",
      "execution_count": 47,
      "metadata": {},
      "outputs": [],
      "source": [
        "# preprocessor.prepare_scaling()"
      ]
    },
    {
      "cell_type": "code",
      "execution_count": 48,
      "metadata": {},
      "outputs": [],
      "source": [
        "# X_train_scaled = preprocessor.apply_scaling()\n",
        "\n",
        "# \"\\nRobust complete! The training data is now ready for modeling.\""
      ]
    },
    {
      "cell_type": "code",
      "execution_count": 49,
      "metadata": {},
      "outputs": [],
      "source": [
        "# X_train_scaled"
      ]
    },
    {
      "cell_type": "markdown",
      "metadata": {},
      "source": [
        "The histograms show how `RobustScaler` compresses extreme values and brings the bulk of the data closer to a common scale. Despite the presence of outliers, the core distribution becomes more uniform and comparable across features — ideal for many ML models."
      ]
    },
    {
      "cell_type": "markdown",
      "metadata": {},
      "source": [
        "This section below shall be properly written. It is set now for early debugging"
      ]
    },
    {
      "cell_type": "markdown",
      "metadata": {},
      "source": [
        "### Class Imbalance"
      ]
    },
    {
      "cell_type": "code",
      "execution_count": 52,
      "metadata": {},
      "outputs": [
        {
          "name": "stderr",
          "output_type": "stream",
          "text": [
            "/Users/juanalonso-allende/Desktop/ml-final-project/.venv/lib/python3.11/site-packages/sklearn/base.py:474: FutureWarning: `BaseEstimator._validate_data` is deprecated in 1.6 and will be removed in 1.7. Use `sklearn.utils.validation.validate_data` instead. This function becomes public and is part of the scikit-learn developer API.\n",
            "  warnings.warn(\n"
          ]
        },
        {
          "data": {
            "text/plain": [
              "'Succesfully balanced the classes in the dataset. There was a 0.016056063159762265 to 1 ratio before balancing, now it is 1 to 1'"
            ]
          },
          "execution_count": 52,
          "metadata": {},
          "output_type": "execute_result"
        }
      ],
      "source": [
        "baseline_pipeline.preprocessing.class_imbalance()"
      ]
    },
    {
      "cell_type": "markdown",
      "metadata": {},
      "source": [
        "## !> Pipeline example\n",
        "Let us show an example of the pipeline divergence. We will create a divergence for the baseline pipeline. We will exempt it from being scaled. This specific example is not meant to be kept, but rather show the purpose of the corresponding functions."
      ]
    },
    {
      "cell_type": "code",
      "execution_count": 50,
      "metadata": {},
      "outputs": [],
      "source": [
        "baseline_pipeline = pipeline_manager.create_pipeline_divergence(category=\"baseline\", pipelineName=\"logistic\")"
      ]
    },
    {
      "cell_type": "code",
      "execution_count": null,
      "metadata": {},
      "outputs": [],
      "source": [
        "default_pipeline.dataset.X_train.describe()"
      ]
    },
    {
      "cell_type": "code",
      "execution_count": 52,
      "metadata": {},
      "outputs": [],
      "source": [
        "default_pipeline.preprocessing.scale_features(scaler=\"robust\",\n",
        "                                      columnsToScale=default_pipeline.dataset.X_train.select_dtypes(include=[\"number\"]).columns)"
      ]
    },
    {
      "cell_type": "code",
      "execution_count": null,
      "metadata": {},
      "outputs": [],
      "source": [
        "default_pipeline.dataset.X_train.describe()"
      ]
    },
    {
      "cell_type": "code",
      "execution_count": null,
      "metadata": {},
      "outputs": [],
      "source": [
        "default_pipeline.dataset.X_train.describe()"
      ]
    },
    {
      "cell_type": "code",
      "execution_count": null,
      "metadata": {},
      "outputs": [],
      "source": [
        "# This is not updated (as expected)\n",
        "baseline_pipeline.dataset.X_train.describe()"
      ]
    },
    {
      "cell_type": "markdown",
      "metadata": {},
      "source": [
        "### Outliers "
      ]
    },
    {
      "cell_type": "code",
      "execution_count": 56,
      "metadata": {},
      "outputs": [],
      "source": [
        "#models_pipeline.preprocessing.get_outliers_df(plot=True)"
      ]
    },
    {
      "cell_type": "markdown",
      "metadata": {},
      "source": [
        "<hr>"
      ]
    },
    {
      "cell_type": "markdown",
      "metadata": {},
      "source": [
        "# 4. FEATURE ANALYSIS"
      ]
    },
    {
      "cell_type": "markdown",
      "metadata": {},
      "source": [
        "Here we will take adjust the features that compose the learning inputs to our model. The correctness of this section is pivotal for proper learning by the model\n",
        "\n",
        "\n",
        "## FEATURE ENGINEERING\n",
        "- Domain-specific features\n",
        "- Binning\n",
        "- Interaction terms\n"
      ]
    },
    {
      "cell_type": "code",
      "execution_count": 57,
      "metadata": {},
      "outputs": [],
      "source": [
        "featuresToEncode = [\"Reboot\"]"
      ]
    },
    {
      "cell_type": "code",
      "execution_count": null,
      "metadata": {},
      "outputs": [],
      "source": [
        "encoded_maps_perPipeline = pipeline_manager.all_pipelines_execute(methodName=\"feature_analysis.feature_transformation.get_categorical_features_encoded\", verbose=True, features=featuresToEncode, encode_y=True)"
      ]
    },
    {
      "cell_type": "markdown",
      "metadata": {},
      "source": [
        "Lets visualize the results of the encoding..."
      ]
    },
    {
      "cell_type": "code",
      "execution_count": null,
      "metadata": {},
      "outputs": [],
      "source": [
        "default_pipeline.dataset.X_train"
      ]
    },
    {
      "cell_type": "code",
      "execution_count": null,
      "metadata": {},
      "outputs": [],
      "source": [
        "default_pipeline.dataset.y_train"
      ]
    },
    {
      "cell_type": "code",
      "execution_count": null,
      "metadata": {},
      "outputs": [],
      "source": [
        "baseline_pipeline.dataset.X_train"
      ]
    },
    {
      "cell_type": "code",
      "execution_count": null,
      "metadata": {},
      "outputs": [],
      "source": [
        "baseline_pipeline.dataset.y_train"
      ]
    },
    {
      "cell_type": "markdown",
      "metadata": {},
      "source": [
        "## FEATURE SELECTION\n",
        "- Analyze correlation and low-variances\n"
      ]
    },
    {
      "cell_type": "markdown",
      "metadata": {},
      "source": [
        "## Feature selection \n",
        "As explained before, we now proceed to carefully reduce the present high-dimensionality. High-dimensionality increases the chances of the model overfitting (capturing noise from irrelevant features; increasing variance and reducing bias), as well as introducing a significant computational overhead. We match this high-dimensionality with a highly filtering models_pipeline of feature selection.\n",
        "The most extensive cut comes given at the first level, with the mutual information threshold-based cut. This metric captures the level of uncertainity between the feature and the target variable (cnt). In marked contrast with pearson coefficeint (correlation), it is able to model non-linear and linea relationships altoghther. \n",
        "This feature-selectin models_pipeline is compromised of five (3 as of the final models_pipeline) cuts:\n",
        " - mutual information\n",
        " - low variance\n",
        " - multicolinearity analysis\n",
        " - PCA\n",
        " - Boruta and/or Lasso\n",
        "\n",
        "The different thresholds for each of this cuts have been altered over the different models_pipeline iterations. Specifically, in the bias-variance tradeoff (to be elaborated in further detail later), I increased all the thresholds in order to avoid por performance.\n",
        "\n",
        "#### Feature to target variable mutual information"
      ]
    },
    {
      "cell_type": "code",
      "execution_count": 63,
      "metadata": {},
      "outputs": [],
      "source": [
        "# models_pipeline.feature_analysis.feature_selection.manual_feature_selection.fit(type=\"MutualInformation\", threshold=.2, delete_features=True, plot=True)"
      ]
    },
    {
      "cell_type": "markdown",
      "metadata": {},
      "source": [
        "#### Eliminating low-variances features\n",
        "Features with low variances provide little new information for the model to learn from, thus they could introduce statistical noise. Due to this reason, they should be elimanted from the dataset. The reason why we don't focus on high-variance is because this symbolizes outliers, which have been dealt with before in data preporcesing.\n",
        "This function call eliminate low-variance (based on threshold) and all cosntant variables (regardless of threshold)"
      ]
    },
    {
      "cell_type": "markdown",
      "metadata": {},
      "source": [
        "We will start off this analysis eliminating univariate features (i.e: the featuers with constant values)"
      ]
    },
    {
      "cell_type": "code",
      "execution_count": 64,
      "metadata": {},
      "outputs": [],
      "source": [
        "# default_pipeline.feature_analysis.feature_selection.manual_feature_selection.fit(type=\"LowVariances\", \n",
        "#                                                                          threshold=0.5, \n",
        "#                                                                          delete_features=True, \n",
        "#                                                                          plot=True)"
      ]
    },
    {
      "cell_type": "markdown",
      "metadata": {},
      "source": [
        "As explained in scikit-learn's in (1.13.1 Feature selection)[https://scikit-learn.org/stable/modules/feature_selection.html], the variance threshold must be selected carefully. Too low may delete few variables, and too may be too restrictive, deleting more variables than it should."
      ]
    },
    {
      "cell_type": "markdown",
      "metadata": {},
      "source": [
        "#### Eliminating highly correlated feature \n",
        "Highly correlated variables (multicolinearity) are problem for models because they introduce a redundancy (features that contain significantly related similar information are not bringing much new insight into the model's input) to the model that can introduce significant variance. This is due to the fact that small changes in the data may make the coefficeints of the highly correlated variables **swing** more than it should\n",
        "\n",
        "A note on the shape of this heatmap: due to the high amount of features, and the redundancy to measure the correlation between features (where corr(A,B) = corr(B,A)) we set 'np.triu(np.ones_like(corr, dtype=bool))' in the utilities functions in order to show only new non-redudant correlations between features, thus the right triangle shape.\n",
        "Well, thats a lot to digest! We can see some solid red (high positive correlation) and medium-solid blue (some high negative correlation). \n",
        "Lets use a non-visual methodology to confirm our initial hypothesis. We will use variance inflaction factor (VIF) along with checking manually.\n",
        "A brief explanation on VIF. \n",
        "Formula: \n",
        "$$\n",
        "VIF_i = \\frac{1}{1 - R_i^2}\n",
        "$$\n",
        "You regress (i.e: do linear regression) on the ith feature as target variable, and all other features as predictors. You then compute the coefficient of determination as a way to measure how well the predictors fit the target variable. VIF values ranges from [1, inf], where lower bound signifies little multicolinearity (R^2 = 0), and upper bound occurs when R^2=1 (perfect multicolineairty). 5 is considered a standard threshold for VIF as it symbolized an 80% R^2.\n",
        "Once you ve obtained the results of VIF, you need to delete the variable with the highest VIF, and recompute VIF until there is no multicolinearity. For example, say there are three features that are 4 features, 3 of them being linear combinations of each other. You would delete the variables with VIF until there is no VIF (when only one of those linear combinations remains). You cant delete all n-1 variables where n are the amount of variables with exceeding (with respect to the chosen threshold), because you may be deleting one that has high VIF due to another feature.\n",
        "\n",
        "A relevant note on why one-hot-encoding must be done dropping the first one:\n",
        "If we were to not remove one of the labels of one hot encoding, you would be able to predict which level of the categorical variable based on all other ones (there is only degree of freedom for categories levels; they are a linear combination). You would essentially see inf VIF in that area and delete it in this section. \n",
        "The VIF has to be computed every time we delete a feature due to high multicolinearity. Lets do that"
      ]
    },
    {
      "cell_type": "code",
      "execution_count": 65,
      "metadata": {},
      "outputs": [],
      "source": [
        "#models_pipeline.feature_analysis.feature_selection.manual_feature_selection.fit(type=\"VIF\", threshold=10, delete_features=True, plot=False)"
      ]
    },
    {
      "cell_type": "markdown",
      "metadata": {},
      "source": [
        "### PCA\n",
        "PCA can still bring some more value to feature selection. It will take into account interaction effects by itself and find the principals that capture as much variance as we specify. Thus, its inclusion in the feature selection models_pipeline.\n",
        "It has been excldued due to underperformance."
      ]
    },
    {
      "cell_type": "code",
      "execution_count": 66,
      "metadata": {},
      "outputs": [],
      "source": [
        "#models_pipeline.feature_analysis.feature_selection.manual_feature_selection.fit(type=\"PCA\", threshold=.95, delete_features=False, plot=False)"
      ]
    },
    {
      "cell_type": "markdown",
      "metadata": {},
      "source": [
        "### 1.3 Automatic Feature Selection\n",
        "#### L1 regularization\n",
        "Because of L1 regularization being able to set weights 0, we can briefly train our logistic regression model with such regulartization and see which features it uses. The reason why it sets 0 to insignificant feature is because the objective function is not only the MSE but added a component of the wieght magnitude (which is trying to minimize)"
      ]
    },
    {
      "cell_type": "code",
      "execution_count": 67,
      "metadata": {},
      "outputs": [],
      "source": [
        "# excluded_features, predictive_features, coefficients = models_pipeline.feature_analysis.feature_selection.automatic_feature_selection.fit(type=\"L1\",\n",
        "#                                                                                                                                     max_iter=1000, \n",
        "#                                                                                                                                     print_results=True, delete_features=False)\n",
        "# excluded_features, len(excluded_features)"
      ]
    },
    {
      "cell_type": "markdown",
      "metadata": {},
      "source": [
        "#### BORUTA\n",
        "Boruta is a more powerful feature selection method (thus we use it as a reference for variable deletion). It is more powerful that L1 becuase it compares the importance of features to shuffled versions, ensuring robust feature selection\n"
      ]
    },
    {
      "cell_type": "code",
      "execution_count": 68,
      "metadata": {},
      "outputs": [],
      "source": [
        "# excluded_features, predictive_features = models_pipeline.feature_analysis.feature_selection.automatic_feature_selection.fit(type=\"Boruta\", max_iter=10, print_results=True, delete_features=False)\n",
        "# excluded_features, len(excluded_features)"
      ]
    },
    {
      "cell_type": "markdown",
      "metadata": {},
      "source": [
        "Awesome, lets move onto the actual modelling part!"
      ]
    },
    {
      "cell_type": "markdown",
      "metadata": {},
      "source": [
        "<hr>"
      ]
    },
    {
      "cell_type": "markdown",
      "metadata": {},
      "source": [
        "# MODELLING"
      ]
    },
    {
      "cell_type": "markdown",
      "metadata": {},
      "source": [
        "## Fitting the model"
      ]
    },
    {
      "cell_type": "markdown",
      "metadata": {},
      "source": [
        "QUESTIONS FOR THIS SECTION\n",
        "- Can the ROC curve be used for multiclass?\n",
        "- Can a unsupervised learning algorithm (e.g: KNN) be used for this problem even tough its nature is to be supervised?\n",
        "- Does val to train deltas are meaningful here?"
      ]
    },
    {
      "cell_type": "markdown",
      "metadata": {},
      "source": [
        "TO BE DONE FOR THIS SECTION\n",
        "- Multiple models as classifiers\n",
        "- Learn more about each alogrithms' paremters\n",
        "- Can KNN be used here?"
      ]
    },
    {
      "cell_type": "markdown",
      "metadata": {},
      "source": [
        "## Random Forest & Decision Trees\n",
        "Instead of the originally planned logistic regression, we will be using an ensembled model first: random forest (collection of week decision trees). This model is not only likely to outperform the original choice because its nature to handle multiclass better, but also does this several orders of magnitude faster. We will add its not ensembled version too, along with gradient boosted machine\n",
        "Note we are not using not-by-default multiclass classifiers (e.g: logistic regressions, svms)\n",
        "\n",
        "## Non-optimized fitting\n",
        "We first fit all these models with the default paramterers. This is done to constrat more starkly the difference between pre and post tuning."
      ]
    },
    {
      "cell_type": "code",
      "execution_count": 69,
      "metadata": {},
      "outputs": [],
      "source": [
        "# Ensembled models\n",
        "gradientBoostingModel = GradientBoostingClassifier()\n",
        "randomForestModel = RandomForestClassifier()\n",
        "\n",
        "# Tree-based models\n",
        "decisionTreeModel = DecisionTreeClassifier()\n",
        "\n",
        "# Linear models\n",
        "supportVectorModel = SVC()\n",
        "\n",
        "# Baseline\n",
        "logisticRegressionModel = LogisticRegression()"
      ]
    },
    {
      "cell_type": "markdown",
      "metadata": {},
      "source": [
        "#### MODEL PERFORMANCE, HYPOTHESIS\n",
        "- Trees (e.g: random forest, decision trees):\n",
        "  - Time to fit:\n",
        "    - Ensemble models (random forest) take more time to train due to the fact that they are larger and heavier than their non-ensembled version. \n",
        "  - Correctness:\n",
        "     - High\n",
        "- Binary-classifiers by default models (e.g: SMV, logistic regression)\n",
        "  - Time to fit:\n",
        "    - compute C models for all C number of classes. Each trained to detect a single class, then when we make predictions, we select the ones that has the highest probability in its predictions (\"the most confident in its prediction\"). This strategy is called One-vs-Rest, note however, a single logistic regression may be used if we used the softmax objective function (instead of log-odds) (it still heavy computationally, tough). They will be sloder than ensemble models\n",
        "  - Correctness:\n",
        "     - Very low if the problem is non-linear which it is for the SVM and logistic regression"
      ]
    },
    {
      "cell_type": "code",
      "execution_count": null,
      "metadata": {},
      "outputs": [],
      "source": [
        "pipeline_manager.pipelines"
      ]
    },
    {
      "cell_type": "markdown",
      "metadata": {},
      "source": [
        "Pipelines always need to diverge from training onwards. Otherwise they will have each other results (which does not follow the isolation pattern we have programmed this with)"
      ]
    },
    {
      "cell_type": "code",
      "execution_count": 71,
      "metadata": {},
      "outputs": [],
      "source": [
        "ensembled_pipeline = pipeline_manager.create_pipeline_divergence(category=\"models\", pipelineName=\"ensembled\")\n",
        "linear_pipeline = pipeline_manager.create_pipeline_divergence(category=\"models\", pipelineName=\"linear\")"
      ]
    },
    {
      "cell_type": "code",
      "execution_count": null,
      "metadata": {},
      "outputs": [],
      "source": [
        "pipeline_manager.pipelines"
      ]
    },
    {
      "cell_type": "code",
      "execution_count": 73,
      "metadata": {},
      "outputs": [],
      "source": [
        "# Ensembled models\n",
        "ensembled_pipeline.model_selection.add_model(\"Gradient Boosting\", gradientBoostingModel)\n",
        "ensembled_pipeline.model_selection.add_model(\"Random Forest\", randomForestModel)\n",
        "\n",
        "# Tree-based models\n",
        "tree_pipeline.model_selection.add_model(\"Decision Tree\", decisionTreeModel)\n",
        "\n",
        "# Linear models\n",
        "linear_pipeline.model_selection.add_model(\"SVM\", supportVectorModel) \n",
        "\n",
        "# Baseline\n",
        "baseline_pipeline.model_selection.add_model(\"Logistic Regression\", logisticRegressionModel)\n"
      ]
    },
    {
      "cell_type": "markdown",
      "metadata": {},
      "source": [
        "While we debug, lets exlclude some models we dont need for now (they are very slow to train)"
      ]
    },
    {
      "cell_type": "code",
      "execution_count": 74,
      "metadata": {},
      "outputs": [],
      "source": [
        "# Ensembled models\n",
        "ensembled_pipeline.model_selection.models_to_exclude = [\"Gradient Boosting\"]\n",
        "\n",
        "# Tree-based models\n",
        "tree_pipeline.model_selection.models_to_exclude = []\n",
        "\n",
        "# Linear models\n",
        "linear_pipeline.model_selection.models_to_exclude = [\"SVM\"]\n",
        "\n",
        "# Baseline\n",
        "baseline_pipeline.model_selection.models_to_exclude = [\"Logistic Regression\"]\n"
      ]
    },
    {
      "cell_type": "code",
      "execution_count": null,
      "metadata": {},
      "outputs": [],
      "source": [
        "pipeline_manager.all_pipelines_execute(methodName=\"model_selection.fit_models\", current_phase=\"pre\")"
      ]
    },
    {
      "cell_type": "markdown",
      "metadata": {},
      "source": [
        "Let's make sure the predictions vary between holdout sets"
      ]
    },
    {
      "cell_type": "markdown",
      "metadata": {},
      "source": [
        "<i> the aforeshown diagram was originally done with the sole intention to debug an error that made predictions be the same across sets. Insights may not be much meaningful after correctio, but it is worth keeping until the end of the notebook development </i>\n",
        "\n",
        "### PREDICTIONS RESULTS \n",
        "Before we get into the actual results, lets elaborate briefly on all the metrics that we are using to asses our classifiers:\n",
        "\n",
        "- Accuracy => total correctly predicted elemetnts (sigma over the moments we predicted x_i and it was actually x_i / number_of_samples)\n",
        "$$\n",
        "\\text{Accuracy} = \\frac{\\sum_{i} \\mathbf{1}(\\hat{y}_i = y_i)}{N}\n",
        "$$\n",
        "- Precision => out of how many predicted for that class were actually from that class (predicted for class x when it was x/ predicted for class x when it was x + predicted for class x when it was NOT x)\n",
        "$$\n",
        "\\text{Precision}_x = \\frac{\\text{TP}_x}{\\text{TP}_x + \\text{FP}_x}\n",
        "$$\n",
        "- Recall => out of all cases that were positive how many got predicted correctly?\n",
        "$$\n",
        "\\text{Recall}_x = \\frac{\\text{TP}_x}{\\text{TP}_x + \\text{FN}_x}\n",
        "$$\n",
        "- F1-score => harmonic mean of precision and recall (balances both metrics, heavily penalize spreadness between ratios that are being averaged out)\n",
        "$$\n",
        "\\text{F1}_x = 2 \\times \\frac{\\text{Precision}_x \\times \\text{Recall}_x}{\\text{Precision}_x + \\text{Recall}_x}\n",
        "$$\n",
        "- Support => number of actual occurences of class in the dataset\n",
        "- macro avg => averages given metric across all classes\n",
        "$$\n",
        "\\text{Macro Avg} = \\frac{1}{C} \\sum_{i=1}^{C} M_i\n",
        "$$\n",
        "- weighted avg => averages with weights per class occurence (considers frequency of class in average computation)\n",
        "$$\n",
        "\\text{Weighted Avg} = \\sum_{i=1}^{C} \\frac{\\text{Support}_i}{\\text{Total Instances}} \\times M_i\n",
        "$$"
      ]
    },
    {
      "cell_type": "code",
      "execution_count": 76,
      "metadata": {},
      "outputs": [],
      "source": [
        "comments = \"wiLL THIS work?\""
      ]
    },
    {
      "cell_type": "code",
      "execution_count": null,
      "metadata": {},
      "outputs": [],
      "source": [
        "model_results = pipeline_manager.all_pipelines_execute(methodName=\"model_selection.evaluate_models\", comments=comments, current_phase=\"pre\")"
      ]
    },
    {
      "cell_type": "markdown",
      "metadata": {},
      "source": [
        "## Performance Evaluation (pre-tuning)\n",
        "Below are shown all the metrics we can compare our plots to:"
      ]
    },
    {
      "cell_type": "code",
      "execution_count": null,
      "metadata": {},
      "outputs": [],
      "source": [
        "model_results[\"models\"][\"ensembled\"].columns"
      ]
    },
    {
      "cell_type": "code",
      "execution_count": null,
      "metadata": {},
      "outputs": [],
      "source": [
        "pipeline_manager.pipelines_analysis.plot_results_metrics(\n",
        "                                                         metrics=[\"accuracy_val\", \"precision_val\", \"recall_val\", \"f1-score_val\", \"timeToFit\", \"timeToPredict\"], \n",
        "                                                         phase=\"pre\")"
      ]
    },
    {
      "cell_type": "markdown",
      "metadata": {},
      "source": [
        "## Feature importances (pre-tuning)"
      ]
    },
    {
      "cell_type": "code",
      "execution_count": null,
      "metadata": {},
      "outputs": [],
      "source": [
        "importances_dfs = pipeline_manager.pipelines_analysis.pot_feature_importance(phase=\"pre\")\n",
        "importances_dfs"
      ]
    },
    {
      "cell_type": "markdown",
      "metadata": {},
      "source": [
        "## Residual analysis (pre-tuning)\n",
        "Gotta add the mappers naming to the plot\n",
        "\n",
        "\n",
        "This contains the confusion matrices (weighted and not weighted). \n",
        "It also returns the specific elements that were erroneously classified and does cluster analysis"
      ]
    },
    {
      "cell_type": "markdown",
      "metadata": {},
      "source": [
        "### Confusion Matrix"
      ]
    },
    {
      "cell_type": "code",
      "execution_count": null,
      "metadata": {},
      "outputs": [],
      "source": [
        "pipeline_manager.pipelines_analysis.plot_confusion_matrix(phase=\"pre\")"
      ]
    },
    {
      "cell_type": "markdown",
      "metadata": {},
      "source": [
        "PLOTS:\n",
        "- Early signs of overfitting\n",
        "- Plot errors "
      ]
    },
    {
      "cell_type": "markdown",
      "metadata": {},
      "source": [
        "# Hyperparameter Optimization"
      ]
    }
  ],
  "metadata": {
    "colab": {
      "collapsed_sections": [
        "28_glozSPDm7",
        "LDW_CStuioNs",
        "Uv7LWIIU5X5i",
        "eaHsU58AdvlN",
        "vtG27WXGd3_R",
        "vR3xQcHnLUsk",
        "tJI5MrERTBNz",
        "VDydAnW3alRu",
        "Pi1pwj-9q_v5"
      ],
      "provenance": []
    },
    "kernelspec": {
      "display_name": ".venv",
      "language": "python",
      "name": "python3"
    },
    "language_info": {
      "codemirror_mode": {
        "name": "ipython",
        "version": 3
      },
      "file_extension": ".py",
      "mimetype": "text/x-python",
      "name": "python",
      "nbconvert_exporter": "python",
      "pygments_lexer": "ipython3",
      "version": "3.11.5"
    }
  },
  "nbformat": 4,
  "nbformat_minor": 0
}
