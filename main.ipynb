{
  "cells": [
    {
      "cell_type": "markdown",
      "metadata": {},
      "source": [
        "<h1> DYNAMIC MALWARE CLASSIFICATION</h1>"
      ]
    },
    {
      "cell_type": "markdown",
      "metadata": {},
      "source": [
        "Supervised, classification, multi-class"
      ]
    },
    {
      "cell_type": "markdown",
      "metadata": {
        "id": "szqv1Y9Edzc5"
      },
      "source": [
        "# 0. Basic Set-Up and General info"
      ]
    },
    {
      "cell_type": "markdown",
      "metadata": {},
      "source": [
        "Note: there are a lot of non-used imports (to be removed at the end)"
      ]
    },
    {
      "cell_type": "code",
      "execution_count": 1,
      "metadata": {},
      "outputs": [],
      "source": [
        "import pandas as pd\n",
        "import numpy as np\n",
        "import matplotlib.pyplot as plt\n",
        "from matplotlib.ticker import MultipleLocator\n",
        "import seaborn as sns\n",
        "from scipy import stats\n",
        "\n",
        "import copy"
      ]
    },
    {
      "cell_type": "code",
      "execution_count": 2,
      "metadata": {},
      "outputs": [],
      "source": [
        "from sklearn.tree import DecisionTreeClassifier\n",
        "from sklearn.ensemble import GradientBoostingClassifier\n",
        "from sklearn.linear_model import LogisticRegression\n",
        "from sklearn.ensemble import RandomForestClassifier\n",
        "from sklearn.linear_model import LogisticRegression\n",
        "from sklearn.svm import SVC\n"
      ]
    },
    {
      "cell_type": "code",
      "execution_count": 3,
      "metadata": {},
      "outputs": [],
      "source": [
        "from imblearn.over_sampling import SMOTENC\n",
        "from boruta import BorutaPy\n"
      ]
    },
    {
      "cell_type": "code",
      "execution_count": 4,
      "metadata": {},
      "outputs": [],
      "source": [
        "import importlib\n",
        "\n",
        "# Import your modules initially\n",
        "import library.pipeline\n",
        "\n",
        "# Reload the modules in case they were updated\n",
        "importlib.reload(library.pipeline)\n",
        "\n",
        "# Now you can import specific classes/functions\n",
        "from library.pipeline.pipeline import Pipeline\n",
        "from library.pipeline.pipeline_manager import PipelineManager"
      ]
    },
    {
      "cell_type": "markdown",
      "metadata": {},
      "source": [
        "## Documentation Standarization\n",
        "Follow the following guidelines to make sure our document is consistent and easier to undestand\n",
        "- All constant should be writte in full capitall letters (e.g: MY_CONSTANT). Notebook-level constants should be written in the cell assigned to it (see below)\n",
        "- Every new major section (EDA, Feature engineering) should be written with '# My title'#\n",
        "- Subsequent sections should use '##', '###' or '####' hierarchacically\n",
        "- At the beginning of each major section write a content index with the content included in that section (see 'feature engineering' section as an example)\n",
        "- Please write paragraphs before and after each cell explain what u are about to do and the conclusions, correspondingly. Do not assume they are too obvious.\n",
        "- Avoid excessive ChatGPT-originated comments\n",
        "- Avoid writing more than 20 lines per code cell (exceptions for subroutines, which should be written in utilitied_functions.py)\n",
        "- Ideally, add a \"Questions\" and \"Things to be done\" section in each major sections where u write about futher iterations u want to do (while sharing in with the rest)\n"
      ]
    },
    {
      "cell_type": "markdown",
      "metadata": {},
      "source": [
        "## Set-up"
      ]
    },
    {
      "cell_type": "code",
      "execution_count": 5,
      "metadata": {},
      "outputs": [],
      "source": [
        "dataset_path =\"./dataset/dynamic_dataset.csv\"\n",
        "results_path = \"results/results.csv\""
      ]
    },
    {
      "cell_type": "code",
      "execution_count": 6,
      "metadata": {},
      "outputs": [],
      "source": [
        "metrics_to_evaluate = [\"accuracy\", \"precision\", \"recall\", \"f1-score\"]"
      ]
    },
    {
      "cell_type": "markdown",
      "metadata": {},
      "source": [
        "We start off with a pipeline for all the models. Then at some moment, whenever we think the pipelines will diverge, we remove the by-object-refrence (that we will create in the next cell), and create a new copy with our modifications ready."
      ]
    },
    {
      "cell_type": "code",
      "execution_count": 7,
      "metadata": {},
      "outputs": [],
      "source": [
        "default_pipeline = ensembled_pipeline = tree_pipeline = supportVectorsMachine_pipeline = baseline_pipeline = naiveBayes_pipeline = stacking_pipeline = feedForwardNN_pipeline = example = Pipeline(\n",
        "                        dataset_path=dataset_path, \n",
        "                        results_path=results_path,\n",
        "                        model_type=\"classification\")"
      ]
    },
    {
      "cell_type": "code",
      "execution_count": 8,
      "metadata": {},
      "outputs": [],
      "source": [
        "pipelines = {\n",
        "            \"not-baseline\": {\n",
        "                  \"ensembled\": ensembled_pipeline,\n",
        "                  \"tree-based\": tree_pipeline,\n",
        "                  \"linear\": supportVectorsMachine_pipeline,\n",
        "                  \"naive-bayes\": naiveBayes_pipeline,\n",
        "                  \"feedForwardNN\": feedForwardNN_pipeline,\n",
        "                  \"stacking\": stacking_pipeline,\n",
        "                  }, \n",
        "            \"baseline\": {\n",
        "                  \"baselines\": baseline_pipeline, \n",
        "                  \"example\":  example               \n",
        "            }\n",
        "}\n",
        "pipeline_manager = PipelineManager(pipelines)"
      ]
    },
    {
      "cell_type": "markdown",
      "metadata": {},
      "source": [
        "Here I show an example of how we will be working with by-object-reference."
      ]
    },
    {
      "cell_type": "code",
      "execution_count": 9,
      "metadata": {},
      "outputs": [],
      "source": [
        "baseline_pipeline.dataset.example_attribute = \"1\""
      ]
    },
    {
      "cell_type": "code",
      "execution_count": 10,
      "metadata": {},
      "outputs": [
        {
          "data": {
            "text/plain": [
              "'1'"
            ]
          },
          "execution_count": 10,
          "metadata": {},
          "output_type": "execute_result"
        }
      ],
      "source": [
        "default_pipeline.dataset.example_attribute"
      ]
    },
    {
      "cell_type": "markdown",
      "metadata": {},
      "source": [
        "However, if we do a (deep) copy:\n",
        "Note that the difference between a deep and a shallow copy is that the former copies all the objects that are inside the class. We need that.\n",
        "We will overwrite the prior attribute and show is this is not propagated to the other results anymore"
      ]
    },
    {
      "cell_type": "code",
      "execution_count": 11,
      "metadata": {},
      "outputs": [],
      "source": [
        "new_pipeline = copy.deepcopy(default_pipeline)\n",
        "new_pipeline.dataset.example_attribute = \"2\""
      ]
    },
    {
      "cell_type": "code",
      "execution_count": 12,
      "metadata": {},
      "outputs": [
        {
          "data": {
            "text/plain": [
              "'1'"
            ]
          },
          "execution_count": 12,
          "metadata": {},
          "output_type": "execute_result"
        }
      ],
      "source": [
        "default_pipeline.dataset.example_attribute"
      ]
    },
    {
      "cell_type": "markdown",
      "metadata": {},
      "source": [
        "It may also be of interest for you to propagate the same method's invokation to all the pipelines within the pipeline manager. For instance, after a divergence in, lets say, feature scaling, you may need to fit all the models in the corresponding pipelines. You would want to avoid reduntandly calling the same method with the same parameters for all the Pipeline class instances. In order to do so, we present an example that avoids such annoyance"
      ]
    },
    {
      "cell_type": "code",
      "execution_count": 13,
      "metadata": {},
      "outputs": [
        {
          "name": "stdout",
          "output_type": "stream",
          "text": [
            "Pipeline example in category baseline has diverged\n",
            " Pipeline schema is now: {'not-baseline': {'ensembled': <library.pipeline.pipeline.Pipeline object at 0x13522fe10>, 'tree-based': <library.pipeline.pipeline.Pipeline object at 0x13522fe10>, 'linear': <library.pipeline.pipeline.Pipeline object at 0x13522fe10>, 'naive-bayes': <library.pipeline.pipeline.Pipeline object at 0x13522fe10>, 'feedForwardNN': <library.pipeline.pipeline.Pipeline object at 0x13522fe10>, 'stacking': <library.pipeline.pipeline.Pipeline object at 0x13522fe10>}, 'baseline': {'baselines': <library.pipeline.pipeline.Pipeline object at 0x13522fe10>, 'example': <library.pipeline.pipeline.Pipeline object at 0x134d40790>}}\n"
          ]
        },
        {
          "data": {
            "text/plain": [
              "<library.pipeline.pipeline.Pipeline at 0x134d40790>"
            ]
          },
          "execution_count": 13,
          "metadata": {},
          "output_type": "execute_result"
        }
      ],
      "source": [
        "pipeline_manager.create_pipeline_divergence(category=\"baseline\", pipelineName=\"example\", print_results=True)"
      ]
    },
    {
      "cell_type": "code",
      "execution_count": 14,
      "metadata": {},
      "outputs": [
        {
          "name": "stdout",
          "output_type": "stream",
          "text": [
            "Whats goooddd from 4918153488. You are at automatic feature selection!\n"
          ]
        }
      ],
      "source": [
        "pipeline_manager.pipelines[\"baseline\"][\"example\"].feature_analysis.feature_selection.automatic_feature_selection.speak(\"Whats goooddd\")"
      ]
    },
    {
      "cell_type": "code",
      "execution_count": 15,
      "metadata": {},
      "outputs": [
        {
          "name": "stdout",
          "output_type": "stream",
          "text": [
            "Hello, world! from 5186453008\n",
            "Hello, world! from 5181278096\n"
          ]
        },
        {
          "data": {
            "text/plain": [
              "{'not-baseline': {'ensembled': None}, 'baseline': {'example': None}}"
            ]
          },
          "execution_count": 15,
          "metadata": {},
          "output_type": "execute_result"
        }
      ],
      "source": [
        "pipeline_manager.all_pipelines_execute(methodName=\"speak\", message=\"Hello, world!\")"
      ]
    },
    {
      "cell_type": "markdown",
      "metadata": {},
      "source": [
        "A method present deeper down the class:\n",
        "\n",
        "Instead of doing:\n",
        "'pipeline_manager.pipelines[\"baseline\"][\"logistic\"].feature_analysis.feature_selection.automatic_feature_selection.speak(\"Whats goooddd\") for all objects'\n",
        "\n",
        "we can do:"
      ]
    },
    {
      "cell_type": "code",
      "execution_count": 16,
      "metadata": {},
      "outputs": [
        {
          "name": "stdout",
          "output_type": "stream",
          "text": [
            "Whats good from 5186493392. You are at automatic feature selection!\n",
            "Whats good from 4918153488. You are at automatic feature selection!\n"
          ]
        },
        {
          "data": {
            "text/plain": [
              "{'not-baseline': {'ensembled': None}, 'baseline': {'example': None}}"
            ]
          },
          "execution_count": 16,
          "metadata": {},
          "output_type": "execute_result"
        }
      ],
      "source": [
        "pipeline_manager.all_pipelines_execute(methodName=\"feature_analysis.feature_selection.automatic_feature_selection.speak\", message=\"Whats good\")"
      ]
    },
    {
      "cell_type": "code",
      "execution_count": 17,
      "metadata": {},
      "outputs": [],
      "source": [
        "# lets delete the example obj\n",
        "del new_pipeline \n",
        "del pipeline_manager.pipelines[\"baseline\"][\"example\"]"
      ]
    },
    {
      "cell_type": "code",
      "execution_count": 18,
      "metadata": {},
      "outputs": [
        {
          "data": {
            "text/plain": [
              "{'not-baseline': {'ensembled': <library.pipeline.pipeline.Pipeline at 0x13522fe10>,\n",
              "  'tree-based': <library.pipeline.pipeline.Pipeline at 0x13522fe10>,\n",
              "  'linear': <library.pipeline.pipeline.Pipeline at 0x13522fe10>,\n",
              "  'naive-bayes': <library.pipeline.pipeline.Pipeline at 0x13522fe10>,\n",
              "  'feedForwardNN': <library.pipeline.pipeline.Pipeline at 0x13522fe10>,\n",
              "  'stacking': <library.pipeline.pipeline.Pipeline at 0x13522fe10>},\n",
              " 'baseline': {'baselines': <library.pipeline.pipeline.Pipeline at 0x13522fe10>}}"
            ]
          },
          "execution_count": 18,
          "metadata": {},
          "output_type": "execute_result"
        }
      ],
      "source": [
        "pipeline_manager.pipelines"
      ]
    },
    {
      "cell_type": "markdown",
      "metadata": {},
      "source": [
        "<hr>"
      ]
    },
    {
      "cell_type": "markdown",
      "metadata": {},
      "source": [
        "# Start Of The Pipeline"
      ]
    },
    {
      "cell_type": "code",
      "execution_count": 19,
      "metadata": {
        "colab": {
          "base_uri": "https://localhost:8080/",
          "height": 256
        },
        "id": "F0L2m8yFXhJ9",
        "outputId": "c94d1d43-6998-486d-d0ea-8b643d64efa6"
      },
      "outputs": [
        {
          "data": {
            "text/html": [
              "<div>\n",
              "<style scoped>\n",
              "    .dataframe tbody tr th:only-of-type {\n",
              "        vertical-align: middle;\n",
              "    }\n",
              "\n",
              "    .dataframe tbody tr th {\n",
              "        vertical-align: top;\n",
              "    }\n",
              "\n",
              "    .dataframe thead th {\n",
              "        text-align: right;\n",
              "    }\n",
              "</style>\n",
              "<table border=\"1\" class=\"dataframe\">\n",
              "  <thead>\n",
              "    <tr style=\"text-align: right;\">\n",
              "      <th></th>\n",
              "      <th>Memory_PssTotal</th>\n",
              "      <th>Memory_PssClean</th>\n",
              "      <th>Memory_SharedDirty</th>\n",
              "      <th>Memory_PrivateDirty</th>\n",
              "      <th>Memory_SharedClean</th>\n",
              "      <th>Memory_PrivateClean</th>\n",
              "      <th>Memory_SwapPssDirty</th>\n",
              "      <th>Memory_HeapSize</th>\n",
              "      <th>Memory_HeapAlloc</th>\n",
              "      <th>Memory_HeapFree</th>\n",
              "      <th>...</th>\n",
              "      <th>Logcat_error</th>\n",
              "      <th>Logcat_warning</th>\n",
              "      <th>Logcat_debug</th>\n",
              "      <th>Logcat_verbose</th>\n",
              "      <th>Logcat_total</th>\n",
              "      <th>Process_total</th>\n",
              "      <th>Hash</th>\n",
              "      <th>Category</th>\n",
              "      <th>Family</th>\n",
              "      <th>reboot</th>\n",
              "    </tr>\n",
              "  </thead>\n",
              "  <tbody>\n",
              "    <tr>\n",
              "      <th>0</th>\n",
              "      <td>31053</td>\n",
              "      <td>2448</td>\n",
              "      <td>14044</td>\n",
              "      <td>23472</td>\n",
              "      <td>74824</td>\n",
              "      <td>2452</td>\n",
              "      <td>0</td>\n",
              "      <td>8919</td>\n",
              "      <td>4786</td>\n",
              "      <td>4132</td>\n",
              "      <td>...</td>\n",
              "      <td>1635</td>\n",
              "      <td>2351</td>\n",
              "      <td>3285</td>\n",
              "      <td>1551</td>\n",
              "      <td>11221</td>\n",
              "      <td>193</td>\n",
              "      <td>f460abb8f2e4e3fb689966ddaea6d6babbd1738bb691c7...</td>\n",
              "      <td>Trojan_SMS</td>\n",
              "      <td>opfake</td>\n",
              "      <td>before</td>\n",
              "    </tr>\n",
              "    <tr>\n",
              "      <th>1</th>\n",
              "      <td>107787</td>\n",
              "      <td>21976</td>\n",
              "      <td>11852</td>\n",
              "      <td>74548</td>\n",
              "      <td>69052</td>\n",
              "      <td>23152</td>\n",
              "      <td>0</td>\n",
              "      <td>25341</td>\n",
              "      <td>20965</td>\n",
              "      <td>4375</td>\n",
              "      <td>...</td>\n",
              "      <td>1816</td>\n",
              "      <td>826</td>\n",
              "      <td>1544</td>\n",
              "      <td>2045</td>\n",
              "      <td>8457</td>\n",
              "      <td>189</td>\n",
              "      <td>556c238536d837007e647543eaf3ea95ae9aaf1c1a52d0...</td>\n",
              "      <td>Trojan_SMS</td>\n",
              "      <td>opfake</td>\n",
              "      <td>before</td>\n",
              "    </tr>\n",
              "    <tr>\n",
              "      <th>2</th>\n",
              "      <td>86584</td>\n",
              "      <td>18460</td>\n",
              "      <td>12284</td>\n",
              "      <td>59992</td>\n",
              "      <td>91548</td>\n",
              "      <td>19376</td>\n",
              "      <td>0</td>\n",
              "      <td>24500</td>\n",
              "      <td>21378</td>\n",
              "      <td>3121</td>\n",
              "      <td>...</td>\n",
              "      <td>2244</td>\n",
              "      <td>3406</td>\n",
              "      <td>1565</td>\n",
              "      <td>2819</td>\n",
              "      <td>10780</td>\n",
              "      <td>195</td>\n",
              "      <td>398322f94b5bfa2a9e7b3756a4cf409764595003280c48...</td>\n",
              "      <td>Trojan_SMS</td>\n",
              "      <td>fakeinst</td>\n",
              "      <td>before</td>\n",
              "    </tr>\n",
              "    <tr>\n",
              "      <th>3</th>\n",
              "      <td>41248</td>\n",
              "      <td>924</td>\n",
              "      <td>10328</td>\n",
              "      <td>36280</td>\n",
              "      <td>55768</td>\n",
              "      <td>928</td>\n",
              "      <td>0</td>\n",
              "      <td>10082</td>\n",
              "      <td>7281</td>\n",
              "      <td>2800</td>\n",
              "      <td>...</td>\n",
              "      <td>974</td>\n",
              "      <td>4134</td>\n",
              "      <td>3138</td>\n",
              "      <td>1556</td>\n",
              "      <td>11739</td>\n",
              "      <td>191</td>\n",
              "      <td>4a9c14872b2c66165599a969a1a8654bb6887d7a18ab6d...</td>\n",
              "      <td>Trojan_SMS</td>\n",
              "      <td>fakeinst</td>\n",
              "      <td>before</td>\n",
              "    </tr>\n",
              "    <tr>\n",
              "      <th>4</th>\n",
              "      <td>38621</td>\n",
              "      <td>5080</td>\n",
              "      <td>12392</td>\n",
              "      <td>27388</td>\n",
              "      <td>71048</td>\n",
              "      <td>5088</td>\n",
              "      <td>0</td>\n",
              "      <td>9077</td>\n",
              "      <td>5750</td>\n",
              "      <td>3326</td>\n",
              "      <td>...</td>\n",
              "      <td>936</td>\n",
              "      <td>2298</td>\n",
              "      <td>3752</td>\n",
              "      <td>1992</td>\n",
              "      <td>10488</td>\n",
              "      <td>188</td>\n",
              "      <td>6b37b9b9c170727f706b69731e64da4bbca2638b4237a7...</td>\n",
              "      <td>Trojan_SMS</td>\n",
              "      <td>fakeinst</td>\n",
              "      <td>before</td>\n",
              "    </tr>\n",
              "  </tbody>\n",
              "</table>\n",
              "<p>5 rows × 145 columns</p>\n",
              "</div>"
            ],
            "text/plain": [
              "   Memory_PssTotal  Memory_PssClean  Memory_SharedDirty  Memory_PrivateDirty  \\\n",
              "0            31053             2448               14044                23472   \n",
              "1           107787            21976               11852                74548   \n",
              "2            86584            18460               12284                59992   \n",
              "3            41248              924               10328                36280   \n",
              "4            38621             5080               12392                27388   \n",
              "\n",
              "   Memory_SharedClean  Memory_PrivateClean  Memory_SwapPssDirty  \\\n",
              "0               74824                 2452                    0   \n",
              "1               69052                23152                    0   \n",
              "2               91548                19376                    0   \n",
              "3               55768                  928                    0   \n",
              "4               71048                 5088                    0   \n",
              "\n",
              "   Memory_HeapSize  Memory_HeapAlloc  Memory_HeapFree  ...  Logcat_error  \\\n",
              "0             8919              4786             4132  ...          1635   \n",
              "1            25341             20965             4375  ...          1816   \n",
              "2            24500             21378             3121  ...          2244   \n",
              "3            10082              7281             2800  ...           974   \n",
              "4             9077              5750             3326  ...           936   \n",
              "\n",
              "   Logcat_warning  Logcat_debug  Logcat_verbose  Logcat_total  Process_total  \\\n",
              "0            2351          3285            1551         11221            193   \n",
              "1             826          1544            2045          8457            189   \n",
              "2            3406          1565            2819         10780            195   \n",
              "3            4134          3138            1556         11739            191   \n",
              "4            2298          3752            1992         10488            188   \n",
              "\n",
              "                                                Hash    Category    Family  \\\n",
              "0  f460abb8f2e4e3fb689966ddaea6d6babbd1738bb691c7...  Trojan_SMS    opfake   \n",
              "1  556c238536d837007e647543eaf3ea95ae9aaf1c1a52d0...  Trojan_SMS    opfake   \n",
              "2  398322f94b5bfa2a9e7b3756a4cf409764595003280c48...  Trojan_SMS  fakeinst   \n",
              "3  4a9c14872b2c66165599a969a1a8654bb6887d7a18ab6d...  Trojan_SMS  fakeinst   \n",
              "4  6b37b9b9c170727f706b69731e64da4bbca2638b4237a7...  Trojan_SMS  fakeinst   \n",
              "\n",
              "   reboot  \n",
              "0  before  \n",
              "1  before  \n",
              "2  before  \n",
              "3  before  \n",
              "4  before  \n",
              "\n",
              "[5 rows x 145 columns]"
            ]
          },
          "execution_count": 19,
          "metadata": {},
          "output_type": "execute_result"
        }
      ],
      "source": [
        "default_pipeline.dataset.df.head()"
      ]
    },
    {
      "cell_type": "code",
      "execution_count": 20,
      "metadata": {},
      "outputs": [
        {
          "data": {
            "text/plain": [
              "0        0\n",
              "1        0\n",
              "2        0\n",
              "3        0\n",
              "4        0\n",
              "        ..\n",
              "53434    0\n",
              "53435    0\n",
              "53436    0\n",
              "53437    0\n",
              "53438    0\n",
              "Name: API_DeviceData_android.location.Location_getLatitude, Length: 53439, dtype: int64"
            ]
          },
          "execution_count": 20,
          "metadata": {},
          "output_type": "execute_result"
        }
      ],
      "source": [
        "default_pipeline.dataset.df[\"API_DeviceData_android.location.Location_getLatitude\"]"
      ]
    },
    {
      "cell_type": "code",
      "execution_count": 21,
      "metadata": {},
      "outputs": [],
      "source": [
        "default_pipeline.dataset.df.rename(columns={\"reboot\": \"Reboot\"}, inplace=True) # consistency with other features' names\n",
        "default_pipeline.dataset.df.drop(columns=[\"Family\", \"Hash\"], inplace=True) # We have decided to use only category as target variable; Hash is temporary while im debugging (it will be deleted in EDA)"
      ]
    },
    {
      "cell_type": "markdown",
      "metadata": {},
      "source": [
        "### Description of our features"
      ]
    },
    {
      "cell_type": "markdown",
      "metadata": {},
      "source": [
        "For each of our entries in the dataset we have a feature describing the state of the (operating) system under which the malware was running. Here is an intial description for each of them.\n",
        "Please access this document for a complete problem context description: https://docs.google.com/document/d/1yH9gvnJVSH9GLv9ATQ5JQWA2z8Jy4umxxRfMF-y2fiU/edit?usp=sharing"
      ]
    },
    {
      "cell_type": "markdown",
      "metadata": {},
      "source": [
        "# 1. EDA"
      ]
    },
    {
      "cell_type": "markdown",
      "metadata": {},
      "source": [
        "This section below shall be deleted"
      ]
    },
    {
      "cell_type": "markdown",
      "metadata": {},
      "source": [
        "In this section, we conduct an Exploratory Data Analysis (EDA) on the dynamic malware dataset to gain initial insights into the structure, distribution, and quality of the data prior to modeling. The dataset includes behavioral features extracted from Android applications, along with labels indicating their respective malware categories. Understanding the composition of the dataset, such as class imbalance, feature correlations, and the presence of outliers, is crucial to ensure robust preprocessing, informed feature engineering, and  the success of machine learning classifiers.\n"
      ]
    },
    {
      "cell_type": "markdown",
      "metadata": {},
      "source": [
        "### SUGGESTIONS FOR IMPROVEMENTS\n",
        "- Cluster analysis"
      ]
    },
    {
      "cell_type": "markdown",
      "metadata": {},
      "source": [
        "## Data Type Distribution"
      ]
    },
    {
      "cell_type": "code",
      "execution_count": 22,
      "metadata": {},
      "outputs": [],
      "source": [
        "# # Get the data types of each column\n",
        "# data_types = dataset.df.dtypes\n",
        "\n",
        "# # Count the frequency of each data type\n",
        "# type_counts = data_types.value_counts()\n",
        "\n",
        "# # Plotting the frequency of data types\n",
        "# type_counts.plot(kind='bar', color='skyblue')\n",
        "\n",
        "# # Add title and labels\n",
        "# plt.title('Frequency of Data Types in DataFrame')\n",
        "# plt.xlabel('Data Type')\n",
        "# plt.ylabel('Frequency')"
      ]
    },
    {
      "cell_type": "markdown",
      "metadata": {},
      "source": [
        "We can see that most columns are numerical. Lets gets to see which are the variables that are of type object."
      ]
    },
    {
      "cell_type": "code",
      "execution_count": 23,
      "metadata": {},
      "outputs": [],
      "source": [
        "# df_onlyCols = dataset.df.select_dtypes(include=[\"object\"]).columns\n",
        "# df_onlyCols"
      ]
    },
    {
      "cell_type": "markdown",
      "metadata": {},
      "source": [
        "## Summary Statistics Overview"
      ]
    },
    {
      "cell_type": "markdown",
      "metadata": {
        "id": "28_glozSPDm7"
      },
      "source": [
        "## Histograms\n"
      ]
    },
    {
      "cell_type": "code",
      "execution_count": 24,
      "metadata": {
        "colab": {
          "base_uri": "https://localhost:8080/",
          "height": 1000
        },
        "id": "WVSB5cgoYRDr",
        "outputId": "6da84feb-1032-4185-b3e6-de73e05279df"
      },
      "outputs": [
        {
          "data": {
            "text/plain": [
              "'# Select only numerical features\\nnumerical_cols = dataset.df.select_dtypes(include=[np.number]).columns\\n\\n# Define number of rows and columns for subplots\\nnum_features = len(numerical_cols)\\ncols = 4  # Number of columns per row\\nrows = math.ceil(num_features / cols)  # Calculate required rows\\n\\n# Create subplots\\nfig, axes = plt.subplots(rows, cols, figsize=(16, rows * 4))\\naxes = axes.flatten()  # Flatten to easily iterate\\n\\n# Plot histograms\\nfor i, col in enumerate(numerical_cols):\\n    sns.histplot(df[col], bins=30, kde=True, ax=axes[i])  # kde=True for smooth curve\\n    axes[i].set_title(col)\\n\\n# Remove empty subplots\\nfor i in range(num_features, len(axes)):\\n    fig.delaxes(axes[i])\\n\\nplt.tight_layout()\\nplt.show()'"
            ]
          },
          "execution_count": 24,
          "metadata": {},
          "output_type": "execute_result"
        }
      ],
      "source": [
        "\"\"\"# Select only numerical features\n",
        "numerical_cols = dataset.df.select_dtypes(include=[np.number]).columns\n",
        "\n",
        "# Define number of rows and columns for subplots\n",
        "num_features = len(numerical_cols)\n",
        "cols = 4  # Number of columns per row\n",
        "rows = math.ceil(num_features / cols)  # Calculate required rows\n",
        "\n",
        "# Create subplots\n",
        "fig, axes = plt.subplots(rows, cols, figsize=(16, rows * 4))\n",
        "axes = axes.flatten()  # Flatten to easily iterate\n",
        "\n",
        "# Plot histograms\n",
        "for i, col in enumerate(numerical_cols):\n",
        "    sns.histplot(df[col], bins=30, kde=True, ax=axes[i])  # kde=True for smooth curve\n",
        "    axes[i].set_title(col)\n",
        "\n",
        "# Remove empty subplots\n",
        "for i in range(num_features, len(axes)):\n",
        "    fig.delaxes(axes[i])\n",
        "\n",
        "plt.tight_layout()\n",
        "plt.show()\"\"\""
      ]
    },
    {
      "cell_type": "markdown",
      "metadata": {},
      "source": [
        "We can see most distributions tend to be right-skewed and only a small portion follows a normal distribution. This right-skewness will be dealt in feature-engineering."
      ]
    },
    {
      "cell_type": "code",
      "execution_count": 25,
      "metadata": {
        "colab": {
          "base_uri": "https://localhost:8080/",
          "height": 1000
        },
        "id": "YDO2OqktbPDN",
        "outputId": "59795112-1aaf-4e5d-99fb-999c1b58b662"
      },
      "outputs": [
        {
          "data": {
            "text/plain": [
              "'# Select only numerical features\\nnumerical_cols = dataset.df.select_dtypes(include=[np.number]).columns\\n\\n# Define number of rows and columns for subplots\\nnum_features = len(numerical_cols)\\ncols = 4  # Number of columns per row\\nrows = math.ceil(num_features / cols)  # Calculate required rows\\n\\n# Create subplots\\nfig, axes = plt.subplots(rows, cols, figsize=(16, rows * 4))\\naxes = axes.flatten()  # Flatten to easily iterate\\n\\n# Plot boxplots\\nfor i, col in enumerate(numerical_cols):\\n    sns.boxplot(x=dataset.df[col], ax=axes[i])  # Boxplot for each feature\\n    axes[i].set_title(col)\\n\\n# Remove empty subplots\\nfor i in range(num_features, len(axes)):\\n    fig.delaxes(axes[i])\\n\\nplt.tight_layout()\\nplt.show()'"
            ]
          },
          "execution_count": 25,
          "metadata": {},
          "output_type": "execute_result"
        }
      ],
      "source": [
        "\"\"\"# Select only numerical features\n",
        "numerical_cols = dataset.df.select_dtypes(include=[np.number]).columns\n",
        "\n",
        "# Define number of rows and columns for subplots\n",
        "num_features = len(numerical_cols)\n",
        "cols = 4  # Number of columns per row\n",
        "rows = math.ceil(num_features / cols)  # Calculate required rows\n",
        "\n",
        "# Create subplots\n",
        "fig, axes = plt.subplots(rows, cols, figsize=(16, rows * 4))\n",
        "axes = axes.flatten()  # Flatten to easily iterate\n",
        "\n",
        "# Plot boxplots\n",
        "for i, col in enumerate(numerical_cols):\n",
        "    sns.boxplot(x=dataset.df[col], ax=axes[i])  # Boxplot for each feature\n",
        "    axes[i].set_title(col)\n",
        "\n",
        "# Remove empty subplots\n",
        "for i in range(num_features, len(axes)):\n",
        "    fig.delaxes(axes[i])\n",
        "\n",
        "plt.tight_layout()\n",
        "plt.show()\"\"\""
      ]
    },
    {
      "cell_type": "markdown",
      "metadata": {
        "id": "LDW_CStuioNs"
      },
      "source": [
        "## Numerical Features"
      ]
    },
    {
      "cell_type": "markdown",
      "metadata": {
        "id": "EnC_-AYbitFA"
      },
      "source": [
        "Seemed to be grouped by prefixes: Memory, Network, Battery, Logcat, Process y API.\n",
        "\n",
        "According to dataset authors to capture how various malware families and categories behave at runtime, the analysis relies on six distinct sets of features obtained after executing each sample within a controlled emulated environment. These feature groups offer a comprehensive view of the malware's dynamic activity.\n",
        "\n",
        "This categories appear before the first _ in every feature label and are defined as:\n",
        "\n",
        "\n",
        "\"Memory: Memory features define activities performed by malware by utilizing memory.\n",
        "\n",
        "API: Application Programming Interface (API) features delineate the communication between two applications.\n",
        "\n",
        "Network: Network features describe the data transmitted and received between other devices in the network. It indicates foreground and background network usage.\n",
        "\n",
        "Battery: Battery features describe the access to battery wakelock and services by malware.\n",
        "\n",
        "Logcat: Logcat features write log messages corresponding to a function performed by malware.\n",
        "\n",
        "Process: Process features count the interaction of malware with total number of processes.\"\n",
        "\n"
      ]
    },
    {
      "cell_type": "code",
      "execution_count": 26,
      "metadata": {
        "colab": {
          "base_uri": "https://localhost:8080/"
        },
        "id": "raKBvgK5ircs",
        "outputId": "6109fdf7-3a42-4496-a39b-f34bfe204c1b"
      },
      "outputs": [
        {
          "data": {
            "text/plain": [
              "'numeric_cols = dataset.df.select_dtypes(include=\\'number\\').columns\\n\\n# Grouping based on the first prefix before \"_\"\\nprefix_groups = defaultdict(list)\\n\\nfor col in numeric_cols:\\n    prefix = col.split(\"_\")[0]  # Get the first word before the underscore\\n    prefix_groups[prefix].append(col)\\n\\nfor prefix, columns in prefix_groups.items():\\n    print(f\"\\n {prefix} ({len(columns)} features):\")\\n    for col in columns:\\n        print(f\"  - {col}\")'"
            ]
          },
          "execution_count": 26,
          "metadata": {},
          "output_type": "execute_result"
        }
      ],
      "source": [
        "\"\"\"numeric_cols = dataset.df.select_dtypes(include='number').columns\n",
        "\n",
        "# Grouping based on the first prefix before \"_\"\n",
        "prefix_groups = defaultdict(list)\n",
        "\n",
        "for col in numeric_cols:\n",
        "    prefix = col.split(\"_\")[0]  # Get the first word before the underscore\n",
        "    prefix_groups[prefix].append(col)\n",
        "\n",
        "for prefix, columns in prefix_groups.items():\n",
        "    print(f\"\\n {prefix} ({len(columns)} features):\")\n",
        "    for col in columns:\n",
        "        print(f\"  - {col}\")\"\"\""
      ]
    },
    {
      "cell_type": "markdown",
      "metadata": {
        "id": "Uv7LWIIU5X5i"
      },
      "source": [
        "## Categorical Features"
      ]
    },
    {
      "cell_type": "code",
      "execution_count": 27,
      "metadata": {
        "colab": {
          "base_uri": "https://localhost:8080/",
          "height": 175
        },
        "id": "gA-v2L6x5ImZ",
        "outputId": "e7b19c28-c316-4b5a-eec7-90ee38c6dd0b"
      },
      "outputs": [
        {
          "data": {
            "text/plain": [
              "'#Statistical summary for categorical features\\ndataset.df.describe(include=[\"object\", \"category\", \"bool\"])'"
            ]
          },
          "execution_count": 27,
          "metadata": {},
          "output_type": "execute_result"
        }
      ],
      "source": [
        "\"\"\"#Statistical summary for categorical features\n",
        "dataset.df.describe(include=[\"object\", \"category\", \"bool\"])\"\"\""
      ]
    },
    {
      "cell_type": "code",
      "execution_count": 28,
      "metadata": {
        "colab": {
          "base_uri": "https://localhost:8080/"
        },
        "id": "qJbNriVFrRYE",
        "outputId": "2935f3d0-a88b-4bd4-8b98-f4c76a641092"
      },
      "outputs": [
        {
          "data": {
            "text/plain": [
              "\"print(dataset.df[['Hash', 'Category', 'Family']].head())\""
            ]
          },
          "execution_count": 28,
          "metadata": {},
          "output_type": "execute_result"
        }
      ],
      "source": [
        "\"\"\"print(dataset.df[['Hash', 'Category', 'Family']].head())\"\"\""
      ]
    },
    {
      "cell_type": "markdown",
      "metadata": {
        "id": "BBWBDyuc4q47"
      },
      "source": [
        "Hash: unique identifier that represents each malware sample. <<<>>>THIS IS PROBABLY WRONG<<<>>>\n",
        "\n",
        "Category: general classification of the malware sample based on its behavior.\n",
        "\n",
        "Family: more fine-grained grouping of malware based on its codebase or origin"
      ]
    },
    {
      "cell_type": "markdown",
      "metadata": {
        "id": "DC5leffBsW5W"
      },
      "source": [
        "For hash, it will first be checked if the same malware before and after reboot contains the same hash value."
      ]
    },
    {
      "cell_type": "code",
      "execution_count": 29,
      "metadata": {
        "colab": {
          "base_uri": "https://localhost:8080/"
        },
        "id": "_ep2R1vwzRyy",
        "outputId": "3048de1d-c0cd-437d-9044-68a3ed1c3fc3"
      },
      "outputs": [
        {
          "data": {
            "text/plain": [
              "'# Count how many times each hash appears in \\'before\\' and \\'after\\'\\nhash_reboot_counts =dataset.df.groupby([\\'Hash\\', \\'reboot\\']).size().unstack(fill_value=0)\\n\\n# Hashes in both with exactly one in each\\nhashes_with_one_each = hash_reboot_counts[\\n    (hash_reboot_counts[\\'before\\'] == 1) & (hash_reboot_counts[\\'after\\'] == 1)\\n].index\\n\\n# Hashes in both but with extra rows\\nhashes_in_both_but_not_clean = hash_reboot_counts[\\n    (hash_reboot_counts[\\'before\\'] > 0) &\\n    (hash_reboot_counts[\\'after\\'] > 0) &\\n    ~((hash_reboot_counts[\\'before\\'] == 1) & (hash_reboot_counts[\\'after\\'] == 1))\\n].index\\n\\n# Total unique hashes\\ntotal_unique_hashes = dataset.df[\\'Hash\\'].nunique()\\n\\n# Hashes in only one reboot condition\\nhashes_in_one_condition = hash_reboot_counts[\\n    (hash_reboot_counts[\\'before\\'] == 0) | (hash_reboot_counts[\\'after\\'] == 0)\\n]\\n\\n# Only once in one reboot condition\\nonly_once_in_one = hashes_in_one_condition[\\n    (hashes_in_one_condition[\\'before\\'] == 1) | (hashes_in_one_condition[\\'after\\'] == 1)\\n]\\n\\n# More than once in one reboot condition\\nmore_than_once_in_one = hashes_in_one_condition[\\n    ((hashes_in_one_condition[\\'before\\'] > 1) & (hashes_in_one_condition[\\'after\\'] == 0)) |\\n    ((hashes_in_one_condition[\\'after\\'] > 1) & (hashes_in_one_condition[\\'before\\'] == 0))\\n]\\n\\n# Split those into counts\\nmore_than_once_in_before = more_than_once_in_one[more_than_once_in_one[\\'before\\'] > 1]\\nmore_than_once_in_after = more_than_once_in_one[more_than_once_in_one[\\'after\\'] > 1]\\n\\n# --- PRINT RESULTS ---\\nprint(f\"Hashes with EXACTLY one row in BOTH before and after: {len(hashes_with_one_each)}\")\\nprint(f\"Hashes in BOTH, BUT with extra rows: {len(hashes_in_both_but_not_clean)}\")\\n\\nprint(f\"\\nHashes in ONLY ONE reboot condition:\")\\nprint(f\"• Appearing ONLY ONCE: {len(only_once_in_one)}\")\\nprint(f\"• Appearing MORE THAN ONCE: {len(more_than_once_in_one)}\")\\nprint(f\"   - More than once in BEFORE: {len(more_than_once_in_before)}\")\\nprint(f\"   - More than once in AFTER: {len(more_than_once_in_after)}\")\\n\\nprint(f\"\\nTotal breakdown:\")\\nprint(f\"• In BOTH (any): {len(hashes_with_one_each) + len(hashes_in_both_but_not_clean)}\")\\nprint(f\"• In ONLY ONE reboot: {len(hashes_in_one_condition)}\")\\nprint(f\"• TOTAL unique hashes: {total_unique_hashes}\")\\n'"
            ]
          },
          "execution_count": 29,
          "metadata": {},
          "output_type": "execute_result"
        }
      ],
      "source": [
        "\"\"\"# Count how many times each hash appears in 'before' and 'after'\n",
        "hash_reboot_counts =dataset.df.groupby(['Hash', 'reboot']).size().unstack(fill_value=0)\n",
        "\n",
        "# Hashes in both with exactly one in each\n",
        "hashes_with_one_each = hash_reboot_counts[\n",
        "    (hash_reboot_counts['before'] == 1) & (hash_reboot_counts['after'] == 1)\n",
        "].index\n",
        "\n",
        "# Hashes in both but with extra rows\n",
        "hashes_in_both_but_not_clean = hash_reboot_counts[\n",
        "    (hash_reboot_counts['before'] > 0) &\n",
        "    (hash_reboot_counts['after'] > 0) &\n",
        "    ~((hash_reboot_counts['before'] == 1) & (hash_reboot_counts['after'] == 1))\n",
        "].index\n",
        "\n",
        "# Total unique hashes\n",
        "total_unique_hashes = dataset.df['Hash'].nunique()\n",
        "\n",
        "# Hashes in only one reboot condition\n",
        "hashes_in_one_condition = hash_reboot_counts[\n",
        "    (hash_reboot_counts['before'] == 0) | (hash_reboot_counts['after'] == 0)\n",
        "]\n",
        "\n",
        "# Only once in one reboot condition\n",
        "only_once_in_one = hashes_in_one_condition[\n",
        "    (hashes_in_one_condition['before'] == 1) | (hashes_in_one_condition['after'] == 1)\n",
        "]\n",
        "\n",
        "# More than once in one reboot condition\n",
        "more_than_once_in_one = hashes_in_one_condition[\n",
        "    ((hashes_in_one_condition['before'] > 1) & (hashes_in_one_condition['after'] == 0)) |\n",
        "    ((hashes_in_one_condition['after'] > 1) & (hashes_in_one_condition['before'] == 0))\n",
        "]\n",
        "\n",
        "# Split those into counts\n",
        "more_than_once_in_before = more_than_once_in_one[more_than_once_in_one['before'] > 1]\n",
        "more_than_once_in_after = more_than_once_in_one[more_than_once_in_one['after'] > 1]\n",
        "\n",
        "# --- PRINT RESULTS ---\n",
        "print(f\"Hashes with EXACTLY one row in BOTH before and after: {len(hashes_with_one_each)}\")\n",
        "print(f\"Hashes in BOTH, BUT with extra rows: {len(hashes_in_both_but_not_clean)}\")\n",
        "\n",
        "print(f\"\\nHashes in ONLY ONE reboot condition:\")\n",
        "print(f\"• Appearing ONLY ONCE: {len(only_once_in_one)}\")\n",
        "print(f\"• Appearing MORE THAN ONCE: {len(more_than_once_in_one)}\")\n",
        "print(f\"   - More than once in BEFORE: {len(more_than_once_in_before)}\")\n",
        "print(f\"   - More than once in AFTER: {len(more_than_once_in_after)}\")\n",
        "\n",
        "print(f\"\\nTotal breakdown:\")\n",
        "print(f\"• In BOTH (any): {len(hashes_with_one_each) + len(hashes_in_both_but_not_clean)}\")\n",
        "print(f\"• In ONLY ONE reboot: {len(hashes_in_one_condition)}\")\n",
        "print(f\"• TOTAL unique hashes: {total_unique_hashes}\")\n",
        "\"\"\""
      ]
    },
    {
      "cell_type": "markdown",
      "metadata": {
        "id": "i2IGnd2izsOY"
      },
      "source": [
        "A total of 19,169 hashes appear exactly once in both before and after conditions. These are highly reliable for paired  comparisons, ideal for understanding how reboot affects malware behavior.\n",
        "\n",
        "\n",
        "There are 158 hashes that appear in both reboot states but not exactly once in each. These extra instances may come from inconsistencies in data capture like multiple logs for the same sample and should be checked.\n",
        "\n",
        "A significant portion of samples appear only in one reboot condition. This is consistent with limitations described in the original dataset paper, where some malware samples failed to execute after the reboot. However, what is curious is that some still have been logged more than once.\n"
      ]
    },
    {
      "cell_type": "code",
      "execution_count": 30,
      "metadata": {
        "colab": {
          "base_uri": "https://localhost:8080/",
          "height": 89
        },
        "id": "NzJxov9LLOGu",
        "outputId": "a0691e50-f676-4ef2-e150-166b1e96a5ff"
      },
      "outputs": [
        {
          "data": {
            "text/plain": [
              "\"dataset.df.drop(columns=['Hash'], inplace=True)\\n'''\\nThe Hash column is a high-cardinality feature, containing unique values for a high number of rows in the dataset.\\nIt serves as an identifier for each malware sample. Including this column in modeling\\nwould not only offer no predictive value but could also lead to overfitting or cause issues with algorithms that are\\nsensitive to high-cardinality categorical features.\\n <<<>>> J.N: may be better to focus the argumentation on ID not being useful rather than high-cardinality per se. Also write the \\n  argumentation in a text cell not in this type of comments. <<<>>>\\n'''\""
            ]
          },
          "execution_count": 30,
          "metadata": {},
          "output_type": "execute_result"
        }
      ],
      "source": [
        "\"\"\"dataset.df.drop(columns=['Hash'], inplace=True)\n",
        "'''\n",
        "The Hash column is a high-cardinality feature, containing unique values for a high number of rows in the dataset.\n",
        "It serves as an identifier for each malware sample. Including this column in modeling\n",
        "would not only offer no predictive value but could also lead to overfitting or cause issues with algorithms that are\n",
        "sensitive to high-cardinality categorical features.\n",
        " <<<>>> J.N: may be better to focus the argumentation on ID not being useful rather than high-cardinality per se. Also write the \n",
        "  argumentation in a text cell not in this type of comments. <<<>>>\n",
        "'''\"\"\""
      ]
    },
    {
      "cell_type": "markdown",
      "metadata": {
        "id": "1kZUupRE1vx5"
      },
      "source": [
        "This research will be using both Category and Family as the target variables for classification."
      ]
    },
    {
      "cell_type": "markdown",
      "metadata": {
        "id": "eaHsU58AdvlN"
      },
      "source": [
        "## Reboot Analysis"
      ]
    },
    {
      "cell_type": "code",
      "execution_count": 31,
      "metadata": {
        "colab": {
          "base_uri": "https://localhost:8080/"
        },
        "id": "5ymeBe4fKdNi",
        "outputId": "ce478b18-ff6a-4720-f19c-e5ecabfbbbbb"
      },
      "outputs": [
        {
          "data": {
            "text/plain": [
              "'print(dataset.df[\"reboot\"].value_counts())'"
            ]
          },
          "execution_count": 31,
          "metadata": {},
          "output_type": "execute_result"
        }
      ],
      "source": [
        "\"\"\"print(dataset.df[\"reboot\"].value_counts())\"\"\""
      ]
    },
    {
      "cell_type": "markdown",
      "metadata": {
        "id": "BV8hkdL2SHVe"
      },
      "source": [
        "The imbalance observed in the dataset, with 28,380 samples collected before reboot and only 25,059 after reboot, is explained by limitations found during the dynamic analysis. The authors of the dataset note that \"there was no entry point in some Android malware samples and some Android malware samples stopped abruptly.\" This means that certain malware applications either failed to launch or terminated unexpectedly during execution, preventing the collection of dynamic behavior data, particularly after the reboot phase.\n",
        "\n",
        "Additionally, the study highlights another critical limitation: \"the dynamic analysis is performed in an emulator. Some malware samples are able to detect the emulated environment and are not executed.\" This behavior reflects common anti-analysis techniques used by sophisticated malware, which can detect when they are running in a sandbox or emulator and intentionally suspend their malicious actions.\n",
        "\n",
        "\n"
      ]
    },
    {
      "cell_type": "markdown",
      "metadata": {},
      "source": [
        "<<<>>>THIS ANALYSIS IS SUPER GOOD (you can delete this comment)<<<>>>"
      ]
    },
    {
      "cell_type": "markdown",
      "metadata": {
        "id": "YuIT6CKgeqcZ"
      },
      "source": [
        "The displayed features are the top 10  most affected by reboot showing a clear reboot-sensitive behavior."
      ]
    },
    {
      "cell_type": "code",
      "execution_count": 32,
      "metadata": {
        "colab": {
          "base_uri": "https://localhost:8080/",
          "height": 627
        },
        "id": "i9p8S9woa19A",
        "outputId": "7c14fef2-103d-40a4-85e0-50c138fdb448"
      },
      "outputs": [
        {
          "data": {
            "text/plain": [
              "'#Category distribution across reboot\\nplt.figure(figsize=(12, 6))\\nsns.countplot(data=dataset.df, x=\\'Category\\', hue=\\'reboot\\')\\nplt.title(\"Malware Categories by Reboot Condition\")\\nplt.xticks(rotation=45)\\nplt.tight_layout()\\nplt.show()'"
            ]
          },
          "execution_count": 32,
          "metadata": {},
          "output_type": "execute_result"
        }
      ],
      "source": [
        "\"\"\"#Category distribution across reboot\n",
        "plt.figure(figsize=(12, 6))\n",
        "sns.countplot(data=dataset.df, x='Category', hue='reboot')\n",
        "plt.title(\"Malware Categories by Reboot Condition\")\n",
        "plt.xticks(rotation=45)\n",
        "plt.tight_layout()\n",
        "plt.show()\"\"\"\n"
      ]
    },
    {
      "cell_type": "markdown",
      "metadata": {
        "id": "pWwaTM_JeoWk"
      },
      "source": [
        "To identify which numeric features are most influenced by the reboot condition, the dataset will be grouped by the reboot variable, separating entries collected before and after the device reboot. Within each group, the mean of every numeric feature will be computed, allowing for the comparison of average behavior across both states.\n",
        "\n",
        "A new column labeled 'diff' was then added, representing the difference between the mean values after and before the reboot for each feature. A positive value indicates that the feature increased after reboot, while a negative value shows it decreased."
      ]
    },
    {
      "cell_type": "code",
      "execution_count": 33,
      "metadata": {
        "colab": {
          "base_uri": "https://localhost:8080/",
          "height": 363
        },
        "id": "jG1RQO7AcIWG",
        "outputId": "00489ed7-d243-4fae-d577-849381abbca2"
      },
      "outputs": [
        {
          "data": {
            "text/plain": [
              "\"reboot_means = dataset.df.groupby('reboot').mean(numeric_only=True).T\\nreboot_means['diff'] = reboot_means['after'] - reboot_means['before']\\nreboot_means_sorted = reboot_means.sort_values(by='diff', ascending=False)\\n\\nreboot_means_sorted.head(10)\""
            ]
          },
          "execution_count": 33,
          "metadata": {},
          "output_type": "execute_result"
        }
      ],
      "source": [
        "\"\"\"reboot_means = dataset.df.groupby('reboot').mean(numeric_only=True).T\n",
        "reboot_means['diff'] = reboot_means['after'] - reboot_means['before']\n",
        "reboot_means_sorted = reboot_means.sort_values(by='diff', ascending=False)\n",
        "\n",
        "reboot_means_sorted.head(10)\"\"\""
      ]
    },
    {
      "cell_type": "markdown",
      "metadata": {
        "id": "-7cm_Z81fWqq"
      },
      "source": [
        "The results reveal that several features show clear shifts after reboot. Specially, network-related features such as Network_TotalReceivedBytes and Network_TotalTransmittedBytes demonstrate significant increases, suggesting that some malware types intensify data transmission once the device has rebooted. Memory features like Memory_SharedClean, Memory_HeapSize, and Memory_HeapAlloc also show increased values after reboot, indicating greater memory use or altered memory management after reboot.\n",
        "This shows that the reboot condition plays an important role in runtime behavior and should be treated as an important factor in exploratory analysis and modeling."
      ]
    },
    {
      "cell_type": "markdown",
      "metadata": {},
      "source": [
        "## Family"
      ]
    },
    {
      "cell_type": "code",
      "execution_count": 34,
      "metadata": {},
      "outputs": [
        {
          "data": {
            "text/plain": [
              "'#How many categories each family belongs to\\ndataset.df.groupby(\"Family\")[\"Category\"].nunique().sort_values(ascending=False)'"
            ]
          },
          "execution_count": 34,
          "metadata": {},
          "output_type": "execute_result"
        }
      ],
      "source": [
        "\"\"\"#How many categories each family belongs to\n",
        "dataset.df.groupby(\"Family\")[\"Category\"].nunique().sort_values(ascending=False)\"\"\""
      ]
    },
    {
      "cell_type": "markdown",
      "metadata": {},
      "source": [
        "Almost every family is either unknown or unique\n"
      ]
    },
    {
      "cell_type": "code",
      "execution_count": 35,
      "metadata": {},
      "outputs": [],
      "source": [
        "# <<<Error: NameError: name 'family_to_category' is not defined>>> (this Irina's code; copied from Argentinan guy's notebook)\n",
        "# multi_cat_families = family_to_category[family_to_category > 1]\n",
        "# print(f\"Number of families mapping to multiple categories: {len(multi_cat_families)}\")\n",
        "# print(multi_cat_families)"
      ]
    },
    {
      "cell_type": "markdown",
      "metadata": {},
      "source": [
        "There is only one Family that maps to multiple categories, and is the placeholder unknown.\n",
        "\n",
        "The following code displays how many samples with unknown family labels belong to each malware category."
      ]
    },
    {
      "cell_type": "code",
      "execution_count": 36,
      "metadata": {},
      "outputs": [
        {
          "data": {
            "text/plain": [
              "'dataset.df[dataset.df[\"Family\"] == \"<unknown>\"][\"Category\"].value_counts()'"
            ]
          },
          "execution_count": 36,
          "metadata": {},
          "output_type": "execute_result"
        }
      ],
      "source": [
        "\"\"\"dataset.df[dataset.df[\"Family\"] == \"<unknown>\"][\"Category\"].value_counts()\"\"\""
      ]
    },
    {
      "cell_type": "code",
      "execution_count": 37,
      "metadata": {},
      "outputs": [
        {
          "data": {
            "text/plain": [
              "'# Step 1: Count unique families per category\\nfamily_amount = dataset.df.groupby(\"Category\")[\"Family\"].nunique()\\n\\n# Step 2: Total number of instances per category\\ntotal_per_category = dataset.df[\"Category\"].value_counts()\\n\\n# Step 3: Count how many of those are <unknown> per category\\nunknown_amount = dataset.df[dataset.df[\"Family\"] == \"<unknown>\"][\"Category\"].value_counts()\\n\\n# Step 4: Combine all stats into a summary table\\nsummary_df = pd.DataFrame({\\n    \"Family_amount\": family_amount,\\n    \"Total_category\": total_per_category,\\n    \"Unknown_amount\": unknown_amount\\n}).fillna(0).astype({\"Unknown_amount\": int})\\n\\n# Step 5: Calculate percentage of unknowns per category\\nsummary_df[\"%_Unknown\"] = (summary_df[\"Unknown_amount\"] / summary_df[\"Total_category\"] * 100).round(2)\\n\\n# Reorder columns for readability\\nsummary_df = summary_df[[\"Family_amount\", \"Total_category\", \"Unknown_amount\", \"%_Unknown\"]]\\n\\n# Display the summary\\nprint(summary_df)'"
            ]
          },
          "execution_count": 37,
          "metadata": {},
          "output_type": "execute_result"
        }
      ],
      "source": [
        "\"\"\"# Step 1: Count unique families per category\n",
        "family_amount = dataset.df.groupby(\"Category\")[\"Family\"].nunique()\n",
        "\n",
        "# Step 2: Total number of instances per category\n",
        "total_per_category = dataset.df[\"Category\"].value_counts()\n",
        "\n",
        "# Step 3: Count how many of those are <unknown> per category\n",
        "unknown_amount = dataset.df[dataset.df[\"Family\"] == \"<unknown>\"][\"Category\"].value_counts()\n",
        "\n",
        "# Step 4: Combine all stats into a summary table\n",
        "summary_df = pd.DataFrame({\n",
        "    \"Family_amount\": family_amount,\n",
        "    \"Total_category\": total_per_category,\n",
        "    \"Unknown_amount\": unknown_amount\n",
        "}).fillna(0).astype({\"Unknown_amount\": int})\n",
        "\n",
        "# Step 5: Calculate percentage of unknowns per category\n",
        "summary_df[\"%_Unknown\"] = (summary_df[\"Unknown_amount\"] / summary_df[\"Total_category\"] * 100).round(2)\n",
        "\n",
        "# Reorder columns for readability\n",
        "summary_df = summary_df[[\"Family_amount\", \"Total_category\", \"Unknown_amount\", \"%_Unknown\"]]\n",
        "\n",
        "# Display the summary\n",
        "print(summary_df)\"\"\""
      ]
    },
    {
      "cell_type": "code",
      "execution_count": 38,
      "metadata": {},
      "outputs": [
        {
          "data": {
            "text/plain": [
              "'unknown_count = (dataset.df[\"Family\"] == \"<unknown>\").sum()\\nprint(f\"Number of rows with Family == \\'<unknown>\\': {unknown_count}\")'"
            ]
          },
          "execution_count": 38,
          "metadata": {},
          "output_type": "execute_result"
        }
      ],
      "source": [
        "\"\"\"unknown_count = (dataset.df[\"Family\"] == \"<unknown>\").sum()\n",
        "print(f\"Number of rows with Family == '<unknown>': {unknown_count}\")\"\"\"\n"
      ]
    },
    {
      "cell_type": "markdown",
      "metadata": {},
      "source": [
        "Based on the analysis of family distribution across categories:\n",
        "\n",
        "The Adware category stands out with zero instances labeled as <unknown> and a balanced distribution across 43 families. This makes it a strong candidate for modeling.\n",
        "\n",
        "In contrast, Zero_Day and No_Category The categories Zero_Day and No_Category exhibit extremely high family dispersion, with 2576 and 335 unique families. These values are significantly higher than all other categories, which generally have fewer than 50 families each.\n",
        "\n",
        "\n",
        "This suggests they function more as placeholder labels. In particular, Zero_Day likely serves as a catch-all label for unknown or uncategorized threats, making it ambiguous. In cybersecurity, this term is refered to a new unknown vulnerability, not yet classified in terms of malware behavior, this is why samples are varied. They do not seem to represent a consistent type. On the other hand, No_Category explicitly denotes a lack of category. So, including these instances would only bring noise to the training process, preventing the model from learning meaningful patterns.\n",
        "Therefore, they are excluded from the final dataset to preserve the quality and consistency of the classification task.\n",
        "\n",
        "\n",
        "Additionally, categories like FileInfector show a high percentage of <unknown> families (6.85%) despite having a small total count, raising concerns about label quality. Most other categories maintain a relatively stable level of unknowns (around 3–5%), indicating that the presence of <unknown> is manageable."
      ]
    },
    {
      "cell_type": "markdown",
      "metadata": {},
      "source": [
        "<hr>"
      ]
    },
    {
      "cell_type": "markdown",
      "metadata": {},
      "source": [
        "# 2. DATA SPLITTING\n",
        "### TO BE DONE\n",
        "- Statistical analysis of this\n",
        "- Make sure they follow the same distributions"
      ]
    },
    {
      "cell_type": "markdown",
      "metadata": {},
      "source": [
        "### Data Splitting: Category as target variable\n",
        "Originally, we will focus only on category\n",
        "\n",
        "Lets first get the X and y extracted from our dataset"
      ]
    },
    {
      "cell_type": "markdown",
      "metadata": {},
      "source": [
        "Also object!\n",
        "Lets get back to the splitting!"
      ]
    },
    {
      "cell_type": "markdown",
      "metadata": {},
      "source": [
        "Before, we split the dataset lets observe the SE of accuracy variation based on our choice of split. \n",
        "Brief explanation: we can model accuracy via a Binomial distribution. We know each event in a binomial distribution can be modelled through a bernoulli distribution, where the outcome represents the probability predicting the correct class or not. We make the assumption that each classification error is independent from each other. For:\n",
        "$$\n",
        "\\text{Bin} \\sim (n, p)\n",
        "$$\n",
        " let us assume that the parameter of this distribution is p = .85 and n is given by the choice of sample split for the test set. The SE of the sample proportion can be modeled via: \n",
        "$$\n",
        "\\text{SE}_{\\hat{p}} = \\sqrt{\\frac{p(1 - p)}{n}}\n",
        "\n",
        "$$"
      ]
    },
    {
      "cell_type": "markdown",
      "metadata": {},
      "source": [
        "Before we continue to assess all possible choices of split based on a variant n, also note that that choice of evenly distributed split (e.g: 10% for each hold-out set) between hold-out sets is arbitrary. Proper choice is that which guarantees an equivalent distribution at each hold-out sets, which may not neccesarily be the equivalent split. This brings a new choice of tradeoff between certainity of prediction accuracy (higher test size, smaller validaiton set) but possibly less space for proper hyperparemter optimization or the inverse (higher validation size, smaller set set). As with other tradeoffs, the priority for a given option is rooted in the model's application (which may come derived from a client/employer). For our case, we dont favor either option of the tradeoof, thus we will keep the even hold-out distribution.\n",
        "\n",
        "Finally, also note that that choice of evenly distributed split between hold-out sets is arbitrary. Proper choice is that which guarantees an equivalent distribution at each hold-out sets, which may not neccesarily be the equivalent split. This brings a new choice of tradeoff between certainity of prediction accuracy (higher test size, smaller validaiton set) but possibly less space for proper hyperparemter optimization or the inverse (higher validation size, smaller set set). As with other tradeoffs, the priority for a given option is rooted in the model's application (which may come derived from a client/employer). For our case, we dont favor either option of the tradeoof, thus we will keep the even hold-out distribution.\n"
      ]
    },
    {
      "cell_type": "code",
      "execution_count": 39,
      "metadata": {},
      "outputs": [
        {
          "name": "stderr",
          "output_type": "stream",
          "text": [
            "/Users/juanalonso-allende/Desktop/ml-final-project/library/phases/dataset/split/strategies/noTimeSeries.py:112: RuntimeWarning: divide by zero encountered in scalar divide\n",
            "  differenceToPriorSE_percentage = (currentSE - priorSE) /  priorSE\n"
          ]
        },
        {
          "data": {
            "image/png": "[encoded data removed]",
            "text/plain": [
              "<Figure size 640x480 with 2 Axes>"
            ]
          },
          "metadata": {},
          "output_type": "display_data"
        },
        {
          "data": {
            "text/html": [
              "<div>\n",
              "<style scoped>\n",
              "    .dataframe tbody tr th:only-of-type {\n",
              "        vertical-align: middle;\n",
              "    }\n",
              "\n",
              "    .dataframe tbody tr th {\n",
              "        vertical-align: top;\n",
              "    }\n",
              "\n",
              "    .dataframe thead th {\n",
              "        text-align: right;\n",
              "    }\n",
              "</style>\n",
              "<table border=\"1\" class=\"dataframe\">\n",
              "  <thead>\n",
              "    <tr style=\"text-align: right;\">\n",
              "      <th></th>\n",
              "      <th>train_size (%)</th>\n",
              "      <th>train_size_count</th>\n",
              "      <th>validation_size (%)</th>\n",
              "      <th>validation_size_count</th>\n",
              "      <th>test_size (%)</th>\n",
              "      <th>test_size_coount</th>\n",
              "      <th>currentSE</th>\n",
              "      <th>differenceToPriorSE</th>\n",
              "      <th>differenceToPriorSE (%)</th>\n",
              "    </tr>\n",
              "  </thead>\n",
              "  <tbody>\n",
              "    <tr>\n",
              "      <th>0</th>\n",
              "      <td>0.95</td>\n",
              "      <td>50767.0</td>\n",
              "      <td>0.025</td>\n",
              "      <td>1336.0</td>\n",
              "      <td>0.025</td>\n",
              "      <td>1336.0</td>\n",
              "      <td>0.009769</td>\n",
              "      <td>0.009769</td>\n",
              "      <td>inf</td>\n",
              "    </tr>\n",
              "    <tr>\n",
              "      <th>1</th>\n",
              "      <td>0.90</td>\n",
              "      <td>48095.0</td>\n",
              "      <td>0.050</td>\n",
              "      <td>2672.0</td>\n",
              "      <td>0.050</td>\n",
              "      <td>2672.0</td>\n",
              "      <td>0.006908</td>\n",
              "      <td>-0.002861</td>\n",
              "      <td>-0.292893</td>\n",
              "    </tr>\n",
              "    <tr>\n",
              "      <th>2</th>\n",
              "      <td>0.85</td>\n",
              "      <td>45423.0</td>\n",
              "      <td>0.075</td>\n",
              "      <td>4008.0</td>\n",
              "      <td>0.075</td>\n",
              "      <td>4008.0</td>\n",
              "      <td>0.005640</td>\n",
              "      <td>-0.001268</td>\n",
              "      <td>-0.183503</td>\n",
              "    </tr>\n",
              "    <tr>\n",
              "      <th>3</th>\n",
              "      <td>0.80</td>\n",
              "      <td>42751.0</td>\n",
              "      <td>0.100</td>\n",
              "      <td>5344.0</td>\n",
              "      <td>0.100</td>\n",
              "      <td>5344.0</td>\n",
              "      <td>0.004885</td>\n",
              "      <td>-0.000756</td>\n",
              "      <td>-0.133975</td>\n",
              "    </tr>\n",
              "    <tr>\n",
              "      <th>4</th>\n",
              "      <td>0.75</td>\n",
              "      <td>40079.0</td>\n",
              "      <td>0.125</td>\n",
              "      <td>6680.0</td>\n",
              "      <td>0.125</td>\n",
              "      <td>6680.0</td>\n",
              "      <td>0.004369</td>\n",
              "      <td>-0.000516</td>\n",
              "      <td>-0.105573</td>\n",
              "    </tr>\n",
              "    <tr>\n",
              "      <th>5</th>\n",
              "      <td>0.70</td>\n",
              "      <td>37407.0</td>\n",
              "      <td>0.150</td>\n",
              "      <td>8016.0</td>\n",
              "      <td>0.150</td>\n",
              "      <td>8016.0</td>\n",
              "      <td>0.003988</td>\n",
              "      <td>-0.000381</td>\n",
              "      <td>-0.087129</td>\n",
              "    </tr>\n",
              "    <tr>\n",
              "      <th>6</th>\n",
              "      <td>0.65</td>\n",
              "      <td>34735.0</td>\n",
              "      <td>0.175</td>\n",
              "      <td>9352.0</td>\n",
              "      <td>0.175</td>\n",
              "      <td>9352.0</td>\n",
              "      <td>0.003692</td>\n",
              "      <td>-0.000296</td>\n",
              "      <td>-0.074180</td>\n",
              "    </tr>\n",
              "    <tr>\n",
              "      <th>7</th>\n",
              "      <td>0.60</td>\n",
              "      <td>32063.0</td>\n",
              "      <td>0.200</td>\n",
              "      <td>10688.0</td>\n",
              "      <td>0.200</td>\n",
              "      <td>10688.0</td>\n",
              "      <td>0.003454</td>\n",
              "      <td>-0.000238</td>\n",
              "      <td>-0.064586</td>\n",
              "    </tr>\n",
              "    <tr>\n",
              "      <th>8</th>\n",
              "      <td>0.55</td>\n",
              "      <td>29391.0</td>\n",
              "      <td>0.225</td>\n",
              "      <td>12024.0</td>\n",
              "      <td>0.225</td>\n",
              "      <td>12024.0</td>\n",
              "      <td>0.003256</td>\n",
              "      <td>-0.000198</td>\n",
              "      <td>-0.057191</td>\n",
              "    </tr>\n",
              "    <tr>\n",
              "      <th>9</th>\n",
              "      <td>0.50</td>\n",
              "      <td>26720.0</td>\n",
              "      <td>0.250</td>\n",
              "      <td>13360.0</td>\n",
              "      <td>0.250</td>\n",
              "      <td>13360.0</td>\n",
              "      <td>0.003089</td>\n",
              "      <td>-0.000167</td>\n",
              "      <td>-0.051317</td>\n",
              "    </tr>\n",
              "  </tbody>\n",
              "</table>\n",
              "</div>"
            ],
            "text/plain": [
              "   train_size (%)  train_size_count  validation_size (%)  \\\n",
              "0            0.95           50767.0                0.025   \n",
              "1            0.90           48095.0                0.050   \n",
              "2            0.85           45423.0                0.075   \n",
              "3            0.80           42751.0                0.100   \n",
              "4            0.75           40079.0                0.125   \n",
              "5            0.70           37407.0                0.150   \n",
              "6            0.65           34735.0                0.175   \n",
              "7            0.60           32063.0                0.200   \n",
              "8            0.55           29391.0                0.225   \n",
              "9            0.50           26720.0                0.250   \n",
              "\n",
              "   validation_size_count  test_size (%)  test_size_coount  currentSE  \\\n",
              "0                 1336.0          0.025            1336.0   0.009769   \n",
              "1                 2672.0          0.050            2672.0   0.006908   \n",
              "2                 4008.0          0.075            4008.0   0.005640   \n",
              "3                 5344.0          0.100            5344.0   0.004885   \n",
              "4                 6680.0          0.125            6680.0   0.004369   \n",
              "5                 8016.0          0.150            8016.0   0.003988   \n",
              "6                 9352.0          0.175            9352.0   0.003692   \n",
              "7                10688.0          0.200           10688.0   0.003454   \n",
              "8                12024.0          0.225           12024.0   0.003256   \n",
              "9                13360.0          0.250           13360.0   0.003089   \n",
              "\n",
              "   differenceToPriorSE  differenceToPriorSE (%)  \n",
              "0             0.009769                      inf  \n",
              "1            -0.002861                -0.292893  \n",
              "2            -0.001268                -0.183503  \n",
              "3            -0.000756                -0.133975  \n",
              "4            -0.000516                -0.105573  \n",
              "5            -0.000381                -0.087129  \n",
              "6            -0.000296                -0.074180  \n",
              "7            -0.000238                -0.064586  \n",
              "8            -0.000198                -0.057191  \n",
              "9            -0.000167                -0.051317  "
            ]
          },
          "execution_count": 39,
          "metadata": {},
          "output_type": "execute_result"
        }
      ],
      "source": [
        "default_pipeline.dataset.split.asses_split_classifier(p=.85, step=.05, plot=True)"
      ]
    },
    {
      "cell_type": "markdown",
      "metadata": {},
      "source": [
        "[We can see a diminishing-returns class graph](https://en.wikipedia.org/wiki/Knee_of_a_curve). The more we decline the training set percentage the slower and more steadier the current SE varies as well as the difference to prior SE, in percentage. We can see that the knee in the curve is between 80 and 90 training set percentage. This represents the area where when you start going below the lower bound, no **significant** improve appears. Given the fact that our criteria for choice of split percentage is to keep as much training possible while increasing hold-out sets size only if the decrease in SE is significant **we are going to select 80% for the training set**."
      ]
    },
    {
      "cell_type": "code",
      "execution_count": 40,
      "metadata": {},
      "outputs": [],
      "source": [
        "default_pipeline.dataset.split.split_data(y_column=\"Category\",\n",
        "                                   train_size=.8, \n",
        "                                   validation_size=.1,\n",
        "                                   test_size=.1, \n",
        "                                   plot_distribution=False)"
      ]
    },
    {
      "cell_type": "code",
      "execution_count": 41,
      "metadata": {},
      "outputs": [
        {
          "data": {
            "text/plain": [
              "((42751, 142), (5344, 142), (5344, 142), (42751,), (5344,), (5344,))"
            ]
          },
          "execution_count": 41,
          "metadata": {},
          "output_type": "execute_result"
        }
      ],
      "source": [
        "default_pipeline.dataset.X_train.shape, default_pipeline.dataset.X_val.shape, default_pipeline.dataset.X_test.shape, default_pipeline.dataset.y_train.shape, default_pipeline.dataset.y_val.shape, default_pipeline.dataset.y_test.shape"
      ]
    },
    {
      "cell_type": "markdown",
      "metadata": {},
      "source": [
        "<hr>"
      ]
    },
    {
      "cell_type": "markdown",
      "metadata": {},
      "source": [
        "# 3. DATA PREPROCESSING"
      ]
    },
    {
      "cell_type": "markdown",
      "metadata": {},
      "source": [
        "Making pipeline divergences..."
      ]
    },
    {
      "cell_type": "code",
      "execution_count": 42,
      "metadata": {},
      "outputs": [
        {
          "name": "stdout",
          "output_type": "stream",
          "text": [
            "Pipeline baselines in category baseline has diverged\n",
            " Pipeline schema is now: {'not-baseline': {'ensembled': <library.pipeline.pipeline.Pipeline object at 0x13522fe10>, 'tree-based': <library.pipeline.pipeline.Pipeline object at 0x13522fe10>, 'linear': <library.pipeline.pipeline.Pipeline object at 0x13522fe10>, 'naive-bayes': <library.pipeline.pipeline.Pipeline object at 0x13522fe10>, 'feedForwardNN': <library.pipeline.pipeline.Pipeline object at 0x13522fe10>, 'stacking': <library.pipeline.pipeline.Pipeline object at 0x13522fe10>}, 'baseline': {'baselines': <library.pipeline.pipeline.Pipeline object at 0x1553b06d0>}}\n",
            "Pipeline tree-based in category not-baseline has diverged\n",
            " Pipeline schema is now: {'not-baseline': {'ensembled': <library.pipeline.pipeline.Pipeline object at 0x13522fe10>, 'tree-based': <library.pipeline.pipeline.Pipeline object at 0x154850790>, 'linear': <library.pipeline.pipeline.Pipeline object at 0x13522fe10>, 'naive-bayes': <library.pipeline.pipeline.Pipeline object at 0x13522fe10>, 'feedForwardNN': <library.pipeline.pipeline.Pipeline object at 0x13522fe10>, 'stacking': <library.pipeline.pipeline.Pipeline object at 0x13522fe10>}, 'baseline': {'baselines': <library.pipeline.pipeline.Pipeline object at 0x1553b06d0>}}\n",
            "Pipeline linear in category not-baseline has diverged\n",
            " Pipeline schema is now: {'not-baseline': {'ensembled': <library.pipeline.pipeline.Pipeline object at 0x13522fe10>, 'tree-based': <library.pipeline.pipeline.Pipeline object at 0x154850790>, 'linear': <library.pipeline.pipeline.Pipeline object at 0x1548ca590>, 'naive-bayes': <library.pipeline.pipeline.Pipeline object at 0x13522fe10>, 'feedForwardNN': <library.pipeline.pipeline.Pipeline object at 0x13522fe10>, 'stacking': <library.pipeline.pipeline.Pipeline object at 0x13522fe10>}, 'baseline': {'baselines': <library.pipeline.pipeline.Pipeline object at 0x1553b06d0>}}\n",
            "Pipeline naive-bayes in category not-baseline has diverged\n",
            " Pipeline schema is now: {'not-baseline': {'ensembled': <library.pipeline.pipeline.Pipeline object at 0x13522fe10>, 'tree-based': <library.pipeline.pipeline.Pipeline object at 0x154850790>, 'linear': <library.pipeline.pipeline.Pipeline object at 0x1548ca590>, 'naive-bayes': <library.pipeline.pipeline.Pipeline object at 0x1548d9590>, 'feedForwardNN': <library.pipeline.pipeline.Pipeline object at 0x13522fe10>, 'stacking': <library.pipeline.pipeline.Pipeline object at 0x13522fe10>}, 'baseline': {'baselines': <library.pipeline.pipeline.Pipeline object at 0x1553b06d0>}}\n",
            "Pipeline ensembled in category not-baseline has diverged\n",
            " Pipeline schema is now: {'not-baseline': {'ensembled': <library.pipeline.pipeline.Pipeline object at 0x1548dc750>, 'tree-based': <library.pipeline.pipeline.Pipeline object at 0x154850790>, 'linear': <library.pipeline.pipeline.Pipeline object at 0x1548ca590>, 'naive-bayes': <library.pipeline.pipeline.Pipeline object at 0x1548d9590>, 'feedForwardNN': <library.pipeline.pipeline.Pipeline object at 0x13522fe10>, 'stacking': <library.pipeline.pipeline.Pipeline object at 0x13522fe10>}, 'baseline': {'baselines': <library.pipeline.pipeline.Pipeline object at 0x1553b06d0>}}\n",
            "Pipeline ensembled in category not-baseline has diverged\n",
            " Pipeline schema is now: {'not-baseline': {'ensembled': <library.pipeline.pipeline.Pipeline object at 0x1548d94d0>, 'tree-based': <library.pipeline.pipeline.Pipeline object at 0x154850790>, 'linear': <library.pipeline.pipeline.Pipeline object at 0x1548ca590>, 'naive-bayes': <library.pipeline.pipeline.Pipeline object at 0x1548d9590>, 'feedForwardNN': <library.pipeline.pipeline.Pipeline object at 0x13522fe10>, 'stacking': <library.pipeline.pipeline.Pipeline object at 0x13522fe10>}, 'baseline': {'baselines': <library.pipeline.pipeline.Pipeline object at 0x1553b06d0>}}\n"
          ]
        }
      ],
      "source": [
        "baseline_pipeline = pipeline_manager.create_pipeline_divergence(category=\"baseline\", pipelineName=\"baselines\", print_results=True)\n",
        "tree_pipeline = pipeline_manager.create_pipeline_divergence(category=\"not-baseline\", pipelineName=\"tree-based\", print_results=True)\n",
        "supportVectorsMachine_pipeline = pipeline_manager.create_pipeline_divergence(category=\"not-baseline\", pipelineName=\"linear\", print_results=True)\n",
        "naiveBayes_pipeline = pipeline_manager.create_pipeline_divergence(category=\"not-baseline\", pipelineName=\"naive-bayes\", print_results=True)\n",
        "ensembled_pipeline = pipeline_manager.create_pipeline_divergence(category=\"not-baseline\", pipelineName=\"ensembled\", print_results=True)\n",
        "feedForwardNN_pipeline = pipeline_manager.create_pipeline_divergence(category=\"not-baseline\", pipelineName=\"ensembled\", print_results=True)"
      ]
    },
    {
      "cell_type": "markdown",
      "metadata": {},
      "source": [
        "### Duplicate and Missing Value Analysis"
      ]
    },
    {
      "cell_type": "markdown",
      "metadata": {},
      "source": [
        "**Quantifying Missingness**\n",
        "\n",
        "Our goal is to understand the structure (i.e., the potential patterns) of how the data is missing in our training features because two features missing values may indicate bias or reduce model performance, and we may be able to assure ourselves, that it is not too critical based on the type of missingness or its distribution.\n",
        "\n",
        "\n",
        "We will begin by calculating the percentage of missing values per column; this is done as: \n",
        "$$\n",
        "\\text{Missing\\_Percentage}_j = \\frac{1}{n} \\sum_{i=1}^{n} \\mathbb{1}(x_{ij} = \\text{NaN}) \\times 100\n",
        "$$\n",
        "\n",
        "where:\n",
        "- $x_{ij}$ is the value of the row  $i$ and the column $j$\n",
        "- $n$ is the total number of rows\n",
        "- $\\mathbb{1}$ is the indicator function that returns 1 is the value is NaN and 0 if it is not.\n",
        "\n",
        "\n",
        "\n",
        "This provides a fair comparison of the features, and sets aside concerns with dataset sizes. Once we can sort these percentages we can focus our assistance by features with the most serious issues first.\n",
        "\n",
        "\n",
        "To support this summary we will also produce a heatmap to present the distribution of the missing values across our rows and columns, which will allow us to see possibly interactions and/or patterns - for example, do certain samples (or groups of features) fail together, which you couldn't see in simple statistics; and we favor this type of representation vs. just using summary tables, as this will also expose some structural issues likely related to acquisition processes (or conditional logic) that may be visible in the dataset."
      ]
    },
    {
      "cell_type": "code",
      "execution_count": 43,
      "metadata": {},
      "outputs": [
        {
          "name": "stdout",
          "output_type": "stream",
          "text": [
            "No missing values found in the dataset, no need to plot\n"
          ]
        }
      ],
      "source": [
        "placeholders = [np.nan, -999, \"N/A\", \"missing\", \"\", -np.inf, \"NA\", \"ND\", \"Null\", \"null\", \"NaN\", \"nan\", \"none\", \"None\", \"missing\", -float('inf'), \"-inf\"]\n",
        "baseline_pipeline.preprocessing.uncomplete_data_obj.get_missing_values(placeholders=placeholders, plot=True)"
      ]
    },
    {
      "cell_type": "markdown",
      "metadata": {},
      "source": [
        "If we had missing values, a useful method to handle them would be **KNN (k-nearest neighbors)** imputation, which estimates values based on similar samples to preserve the original distribution. However, it's computationally expensive with $O(n^2)$ complexity. A faster alternative is **imputing with the mean or median** --$O(n)$--, though this reduces variance. Since we have no missing values, imputation isn't necessary."
      ]
    },
    {
      "cell_type": "markdown",
      "metadata": {},
      "source": [
        "We need to check missing values for all pipelines. However, we will get no missing nor duplicates in every pipeline given that the dataset is the same.\n",
        "\n",
        "In the case that there were missing values, we would probably go with the following:\n",
        "- Tree-based: Trees handle missing values reasonably well, but we could impute with the median to avoid introducing bias.\n",
        "\n",
        "- Linear (SVM): Requires complete data, so KNN might be the best implementation here.\n",
        "\n",
        "- Naive Bayes: Performs poorly with missing data; we'd use KNN as well to ensure no missing data, but also accuracy.\n",
        "\n",
        "- Ensembled: These combine several models, so consistent imputation (likely median for numeric, mode for categorical) is important to avoid skewing individual learners. KNN could also work for this.\n",
        "\n",
        "- Baseline: Simple imputation (mean or median) would suffice here, as performance is not the focus but rather establishing a reference.\n",
        "\n",
        "- FNNs: Requires complete and numerically stable input, as missing values can break backpropagation and lead to NaNs in training. The most common approach is mean or median imputation for numerical features, and mode or one-hot encoding for categorical ones. "
      ]
    },
    {
      "cell_type": "code",
      "execution_count": 44,
      "metadata": {},
      "outputs": [
        {
          "name": "stdout",
          "output_type": "stream",
          "text": [
            "No missing values found in the dataset\n",
            "No missing values found in the dataset\n",
            "No missing values found in the dataset\n",
            "No missing values found in the dataset\n",
            "No missing values found in the dataset\n"
          ]
        }
      ],
      "source": [
        "tree_pipeline.preprocessing.uncomplete_data_obj.get_missing_values(placeholders=placeholders)\n",
        "supportVectorsMachine_pipeline.preprocessing.uncomplete_data_obj.get_missing_values(placeholders=placeholders)\n",
        "naiveBayes_pipeline.preprocessing.uncomplete_data_obj.get_missing_values(placeholders=placeholders)\n",
        "ensembled_pipeline.preprocessing.uncomplete_data_obj.get_missing_values(placeholders=placeholders)\n",
        "feedForwardNN_pipeline.preprocessing.uncomplete_data_obj.get_missing_values(placeholders=placeholders)"
      ]
    },
    {
      "cell_type": "code",
      "execution_count": 45,
      "metadata": {},
      "outputs": [],
      "source": [
        "# pipeline_manager.all_pipelines_execute(\n",
        "#     methodName=\"preprocessing..uncomplete_data_obj.get_missing_values\",\n",
        "#     verbose=True\n",
        "    \n",
        "# )\n",
        "\n",
        "# pipeline_manager.all_pipelines_execute(methodName=\"feature_analysis.feature_transformation.get_categorical_features_encoded\", verbose=True, features=featuresToEncode, encode_y=True)"
      ]
    },
    {
      "cell_type": "markdown",
      "metadata": {},
      "source": [
        "We want to assess if there were any duplicates in the training data, especially in the cases where duplicate records would lead to a biasing of the model, before the modelling occurs. First, we'll look for duplicate rows in the feature matrix $X$ train, where the same unique input is being repeated multiple times, that could lead the model to learn the unique patterns stronger or potentially put more weight on those records than other unique inputs. \n",
        "\n",
        "Next, we'll check for duplicates in the joint matrix [ $X$ train ∣ $y$ train], with the target variable as well. This exercise allows us to explicitly identify duplicate observations, i.e., where the input and output are both repeated, and may potentially indicate some unintentional data leak and/or potentially some issues in generating the dataset. We intend not to keep deductions at this point and keep this analysis exploratory, as to leave the modeller with the option of how and when to edit it at all.\n",
        "\n",
        "This method serves to provide more credibility than looking to the dataset as an entirety and helps to identify the unique duplicated records (which might not be problem) and then the unique duplicated observations (which might be a more serious matter)."
      ]
    },
    {
      "cell_type": "code",
      "execution_count": 46,
      "metadata": {},
      "outputs": [
        {
          "name": "stdout",
          "output_type": "stream",
          "text": [
            "No duplicates found in the dataset, no need to plot\n"
          ]
        },
        {
          "data": {
            "text/plain": [
              "'There are 0 duplicates in the dataset'"
            ]
          },
          "execution_count": 46,
          "metadata": {},
          "output_type": "execute_result"
        }
      ],
      "source": [
        "baseline_pipeline.preprocessing.uncomplete_data_obj.analyze_duplicates(plot=True)"
      ]
    },
    {
      "cell_type": "code",
      "execution_count": 47,
      "metadata": {},
      "outputs": [
        {
          "name": "stdout",
          "output_type": "stream",
          "text": [
            "No duplicates found in the dataset, no need to plot\n",
            "No duplicates found in the dataset, no need to plot\n",
            "No duplicates found in the dataset, no need to plot\n",
            "No duplicates found in the dataset, no need to plot\n"
          ]
        },
        {
          "data": {
            "text/plain": [
              "'There are 0 duplicates in the dataset'"
            ]
          },
          "execution_count": 47,
          "metadata": {},
          "output_type": "execute_result"
        }
      ],
      "source": [
        "tree_pipeline.preprocessing.uncomplete_data_obj.analyze_duplicates(plot=True)\n",
        "supportVectorsMachine_pipeline.preprocessing.uncomplete_data_obj.analyze_duplicates(plot=True)\n",
        "naiveBayes_pipeline.preprocessing.uncomplete_data_obj.analyze_duplicates(plot=True)\n",
        "stacking_pipeline.preprocessing.uncomplete_data_obj.analyze_duplicates(plot=True)"
      ]
    },
    {
      "cell_type": "markdown",
      "metadata": {},
      "source": [
        "Nothing is plotted because no duplicates exist."
      ]
    },
    {
      "cell_type": "code",
      "execution_count": 48,
      "metadata": {},
      "outputs": [
        {
          "data": {
            "text/plain": [
              "'No duplicates found in the dataset'"
            ]
          },
          "execution_count": 48,
          "metadata": {},
          "output_type": "execute_result"
        }
      ],
      "source": [
        "baseline_pipeline.preprocessing.uncomplete_data_obj.remove_duplicates()"
      ]
    },
    {
      "cell_type": "code",
      "execution_count": 49,
      "metadata": {},
      "outputs": [
        {
          "data": {
            "text/plain": [
              "'No duplicates found in the dataset'"
            ]
          },
          "execution_count": 49,
          "metadata": {},
          "output_type": "execute_result"
        }
      ],
      "source": [
        "tree_pipeline.preprocessing.uncomplete_data_obj.remove_duplicates()\n",
        "supportVectorsMachine_pipeline.preprocessing.uncomplete_data_obj.remove_duplicates()\n",
        "naiveBayes_pipeline.preprocessing.uncomplete_data_obj.remove_duplicates()\n",
        "stacking_pipeline.preprocessing.uncomplete_data_obj.remove_duplicates()"
      ]
    },
    {
      "cell_type": "markdown",
      "metadata": {},
      "source": [
        "This is mandatory for all pipelines to ensure there are no duplicates."
      ]
    },
    {
      "cell_type": "markdown",
      "metadata": {},
      "source": [
        "### Outlier Detection"
      ]
    },
    {
      "cell_type": "markdown",
      "metadata": {},
      "source": [
        "To improve the quality of the data, we detect and remove extreme outliers from the training set.\n",
        "Outliers can distort model training, especially for models sensitive to scale or distance.\n",
        "We detect them using the Interquartile Range (IQR) method and remove the affected rows.\n",
        "This step makes the dataset cleaner, helps models converge better, and improves generalization without being influenced by extreme noise.\n",
        "\n",
        "However, we have to be very careful with values specially in the lower range because there are a lot of 0 values."
      ]
    },
    {
      "cell_type": "markdown",
      "metadata": {},
      "source": [
        "**Candidate Detectors**\n",
        "\n",
        "| Category | Method | Formula / Principle | Pros | Cons |\n",
        "|----------|--------|---------------------|------|------|\n",
        "| **Univariate** | **IQR rule** | $x < Q_1 - 1.5\\,\\mathrm{IQR}$ or $x > Q_3 + 1.5\\,\\mathrm{IQR}$ | Robust to skew; O(n) | Ignores correlation; per-feature only |\n",
        "| | **Percentile clipping** | $x > P_{99}$ → clip to $P_{99}$ | Fast; preserves distribution shape | Capping, not removing; univariate only |\n",
        "| | **Winsorization** |  | Prevents leakage and preserves df size | Risk towards the lower range of the dataset and losing valuable information |\n",
        "| **Multivariate** | **Mahalanobis** | $D^2=(\\mathbf x-\\boldsymbol\\mu)^\\top\\Sigma^{-1}(\\mathbf x-\\boldsymbol\\mu)$ | Captures covariance | Needs Σ⁻¹; sensitive to MNAR |\n",
        "| | **Isolation Forest** | Random splits → path length | Non-parametric; high-dim | Hyper-params; O(n log n) |\n",
        "| | Local Outlier Factor (LOF) | Density ratio vs k-NN | Detects local anomalies | High cost; choice of *k* |\n",
        "| **Density-based** | DBSCAN reachability | ε-neighbourhood | Finds clusters + noise | ε, minPts tuning |\n",
        "| **Ensemble-robust** | Robust Covariance (MinCovDet) | DetMCD; breakdown 0.5 | Good for elliptic | O(n²) |\n"
      ]
    },
    {
      "cell_type": "markdown",
      "metadata": {},
      "source": [
        "We choose **99th percentile clipping** because it's fast and doesn't imply any risk of losing valuable data from the lower bound of values."
      ]
    },
    {
      "cell_type": "markdown",
      "metadata": {},
      "source": [
        "The function will do two different things depending on the pipeline:\n",
        "\n",
        "If `pipeline == \"iqr\"`, remove rows.\n",
        "\n",
        "If `pipeline == \"percentile\"`, cap values from the 99th percentile."
      ]
    },
    {
      "cell_type": "markdown",
      "metadata": {},
      "source": [
        "For the baseline model pipeline, we don't really need outlier detection since it's just a basic version of the pipeline. However, we'll implement it either way."
      ]
    },
    {
      "cell_type": "code",
      "execution_count": 50,
      "metadata": {},
      "outputs": [
        {
          "data": {
            "text/plain": [
              "'Baseline: There are 126 features with outliers out of 141 numerical features (89.36%)'"
            ]
          },
          "execution_count": 50,
          "metadata": {},
          "output_type": "execute_result"
        }
      ],
      "source": [
        "f\"Baseline: {baseline_pipeline.preprocessing.outliers_bounds_obj.get_outliers_df(detection_type='percentile', plot=False)}\"\n",
        "#baseline_pipeline.preprocessing.outliers_bounds_obj.smart_outlier_handler()"
      ]
    },
    {
      "cell_type": "markdown",
      "metadata": {},
      "source": [
        "The `smart_outlier_handler` function dynamically assigns outlier handling strategies tailored to different feature families, offering flexibility and domain-aware preprocessing. However, the current implementation risks significant data loss by dropping rows with high outlier values, especially when applied across many features. \n",
        "\n",
        "While winsorization is a safer alternative that preserves rows by capping extreme values, standard symmetric capping can inadvertently distort important patterns—particularly at the lower bound, where zeros often carry meaningful information (e.g., absence of usage, activity, or allocation). \n",
        "\n"
      ]
    },
    {
      "cell_type": "markdown",
      "metadata": {},
      "source": [
        "For the lineal model pipeline (SVMs), we detect the outliers and either remove or cap extreme values before applying scaling. Linear models are sensitive to outliers because they rely on absolute magnitudes that's why for this pipeline it's essential to get it right but also not lose information in the lower bound of values.."
      ]
    },
    {
      "cell_type": "markdown",
      "metadata": {},
      "source": [
        "For a tree-based pipeline we don't really need to handle outliers since trees are robust to outliers. However, we're gonna handle the 1st and 99th percentiles to avoid distortion"
      ]
    },
    {
      "cell_type": "markdown",
      "metadata": {},
      "source": [
        "For the ensembled pipeline, we will take the same approach as tree-based: capping if extreme outliers severely skew feature distributions."
      ]
    },
    {
      "cell_type": "code",
      "execution_count": 51,
      "metadata": {},
      "outputs": [
        {
          "name": "stdout",
          "output_type": "stream",
          "text": [
            "Tree: There are 126 features with outliers out of 141 numerical features (89.36%)\n",
            "SVMs: There are 126 features with outliers out of 141 numerical features (89.36%)\n",
            "Naive Bayes: There are 126 features with outliers out of 141 numerical features (89.36%)\n",
            "Ensembled: There are 126 features with outliers out of 141 numerical features (89.36%)\n",
            "FNNs: There are 126 features with outliers out of 141 numerical features (89.36%)\n"
          ]
        }
      ],
      "source": [
        "print(f\"Tree: {tree_pipeline.preprocessing.outliers_bounds_obj.get_outliers_df(detection_type='percentile', plot=False)}\")\n",
        "print(f\"SVMs: {supportVectorsMachine_pipeline.preprocessing.outliers_bounds_obj.get_outliers_df(detection_type='percentile', plot=False)}\")\n",
        "print(f\"Naive Bayes: {naiveBayes_pipeline.preprocessing.outliers_bounds_obj.get_outliers_df(detection_type='percentile', plot=False)}\")\n",
        "print(f\"Ensembled: {ensembled_pipeline.preprocessing.outliers_bounds_obj.get_outliers_df(detection_type='percentile', plot=False)}\")\n",
        "print(f\"FNNs: {feedForwardNN_pipeline.preprocessing.outliers_bounds_obj.get_outliers_df(detection_type='percentile', plot=False)}\")"
      ]
    },
    {
      "cell_type": "markdown",
      "metadata": {},
      "source": [
        "### Bound Checking"
      ]
    },
    {
      "cell_type": "markdown",
      "metadata": {},
      "source": [
        "To ensure data quality, we check that selected features stay within expected bounds. If the amount of values that are out of bounds is less than 0.5% of the data, then we will automathically delete those values inside of the `bound_checking()` function.\n",
        "\n",
        "In addition, based on the nature of the dataset, we have created a dict with minimum values and an educated guess for maximum values of each individual feature or family of features."
      ]
    },
    {
      "cell_type": "code",
      "execution_count": 52,
      "metadata": {},
      "outputs": [
        {
          "name": "stdout",
          "output_type": "stream",
          "text": [
            "\n",
            "--- 1. Checking column 'Memory_PssClean'\n",
            "✅ All values in column 'Memory_PssClean' are within bounds [0, 150000]\n",
            "\n",
            "--- 2. Checking column 'Memory_SharedDirty'\n",
            "Found 1 values outside bounds [0, 200000]\n",
            "Percentage: 0.0019% of data\n",
            "→ Less than 0.5%. Deleting these rows...\n",
            "\n",
            "--- 3. Checking column 'Memory_PrivateDirty'\n",
            "Found 76 values outside bounds [0, 300000]\n",
            "Percentage: 0.1422% of data\n",
            "→ Less than 0.5%. Deleting these rows...\n",
            "\n",
            "--- 4. Checking column 'Memory_SwapPssDirty'\n",
            "✅ All values in column 'Memory_SwapPssDirty' are within bounds [0, 50000]\n",
            "\n",
            "--- 5. Checking column 'Memory_HeapAlloc'\n",
            "Found 4 values outside bounds [0, 200000]\n",
            "Percentage: 0.0075% of data\n",
            "→ Less than 0.5%. Deleting these rows...\n",
            "\n",
            "--- 6. Checking column 'Memory_HeapFree'\n",
            "✅ All values in column 'Memory_HeapFree' are within bounds [0, 200000]\n",
            "\n",
            "--- 7. Checking column 'Memory_Views'\n",
            "Found 7 values outside bounds [0, 5000]\n",
            "Percentage: 0.0131% of data\n",
            "→ Less than 0.5%. Deleting these rows...\n",
            "\n",
            "--- 8. Checking column 'Memory_ViewRootImpl'\n",
            "Found 4 values outside bounds [0, 100]\n",
            "Percentage: 0.0075% of data\n",
            "→ Less than 0.5%. Deleting these rows...\n",
            "\n",
            "--- 9. Checking column 'Memory_Activities'\n",
            "✅ All values in column 'Memory_Activities' are within bounds [0, 100]\n",
            "\n",
            "--- 10. Checking column 'Memory_LocalBinders'\n",
            "✅ All values in column 'Memory_LocalBinders' are within bounds [0, 1000]\n",
            "\n",
            "--- 11. Checking column 'Memory_ParcelCount'\n",
            "✅ All values in column 'Memory_ParcelCount' are within bounds [0, 2000]\n",
            "\n",
            "--- 12. Checking column 'API_Process_android.os.Process_start'\n",
            "✅ All values in column 'API_Process_android.os.Process_start' are within bounds [0, 1000]\n",
            "\n",
            "--- 13. Checking column 'API_Process_android.os.Process_killProcess'\n",
            "✅ All values in column 'API_Process_android.os.Process_killProcess' are within bounds [0, 1000]\n",
            "\n",
            "--- 14. Checking column 'API_Command_java.lang.Runtime_exec'\n",
            "Found 11 values outside bounds [0, 1000]\n",
            "Percentage: 0.0206% of data\n",
            "→ Less than 0.5%. Deleting these rows...\n",
            "\n",
            "--- 15. Checking column 'API_JavaNativeInterface_java.lang.Runtime_loadLibrary'\n",
            "✅ All values in column 'API_JavaNativeInterface_java.lang.Runtime_loadLibrary' are within bounds [0, 1000]\n",
            "\n",
            "--- 16. Checking column 'API_WebView_android.webkit.WebView_loadUrl'\n",
            "Found 10 values outside bounds [0, 1000]\n",
            "Percentage: 0.0187% of data\n",
            "→ Less than 0.5%. Deleting these rows...\n",
            "\n",
            "--- 17. Checking column 'API_Database_android.database.sqlite.SQLiteDatabase_query'\n",
            "Found 4 values outside bounds [0, 1000]\n",
            "Percentage: 0.0075% of data\n",
            "→ Less than 0.5%. Deleting these rows...\n",
            "\n",
            "--- 18. Checking column 'API_DeviceInfo_android.telephony.TelephonyManager_getDeviceId'\n",
            "Found 13 values outside bounds [0, 1000]\n",
            "Percentage: 0.0244% of data\n",
            "→ Less than 0.5%. Deleting these rows...\n",
            "\n",
            "--- 19. Checking column 'Network_TotalReceivedBytes'\n",
            "✅ All values in column 'Network_TotalReceivedBytes' are within bounds [0, 5000000000]\n",
            "\n",
            "--- 20. Checking column 'Network_TotalTransmittedBytes'\n",
            "✅ All values in column 'Network_TotalTransmittedBytes' are within bounds [0, 5000000000]\n",
            "\n",
            "--- 21. Checking column 'Network_TotalReceivedPackets'\n",
            "✅ All values in column 'Network_TotalReceivedPackets' are within bounds [0, 2000000]\n",
            "\n",
            "--- 22. Checking column 'Network_TotalTransmittedPackets'\n",
            "✅ All values in column 'Network_TotalTransmittedPackets' are within bounds [0, 2000000]\n",
            "\n",
            "--- 23. Checking column 'Battery_wakelock'\n",
            "✅ All values in column 'Battery_wakelock' are within bounds [0, 10000]\n",
            "\n",
            "--- 24. Checking column 'Process_total'\n",
            "✅ All values in column 'Process_total' are within bounds [0, 500]\n",
            "\n",
            "--- 25. Checking column 'Logcat_verbose'\n",
            "Found 5 values outside bounds [0, 50000]\n",
            "Percentage: 0.0094% of data\n",
            "→ Less than 0.5%. Deleting these rows...\n",
            "\n",
            "--- 26. Checking column 'Logcat_debug'\n",
            "Found 13 values outside bounds [0, 30000]\n",
            "Percentage: 0.0244% of data\n",
            "→ Less than 0.5%. Deleting these rows...\n",
            "\n",
            "--- 27. Checking column 'Logcat_info'\n",
            "Found 26 values outside bounds [0, 20000]\n",
            "Percentage: 0.0488% of data\n",
            "→ Less than 0.5%. Deleting these rows...\n",
            "\n",
            "--- 28. Checking column 'Logcat_warning'\n",
            "Found 378 values outside bounds [0, 10000]\n",
            "Percentage: 0.7097% of data\n",
            "→ More than 0.5%. Keeping them for manual review.\n",
            "\n",
            "--- 29. Checking column 'Logcat_error'\n",
            "Found 2884 values outside bounds [0, 5000]\n",
            "Percentage: 5.4144% of data\n",
            "→ More than 0.5%. Keeping them for manual review.\n"
          ]
        }
      ],
      "source": [
        "baseline_pipeline.preprocessing.outliers_bounds_obj.bound_checking()"
      ]
    },
    {
      "cell_type": "code",
      "execution_count": 53,
      "metadata": {},
      "outputs": [
        {
          "name": "stdout",
          "output_type": "stream",
          "text": [
            "\n",
            "--- 1. Checking column 'Memory_PssClean'\n",
            "✅ All values in column 'Memory_PssClean' are within bounds [0, 150000]\n",
            "\n",
            "--- 2. Checking column 'Memory_SharedDirty'\n",
            "Found 1 values outside bounds [0, 200000]\n",
            "Percentage: 0.0019% of data\n",
            "→ Less than 0.5%. Deleting these rows...\n",
            "\n",
            "--- 3. Checking column 'Memory_PrivateDirty'\n",
            "Found 76 values outside bounds [0, 300000]\n",
            "Percentage: 0.1422% of data\n",
            "→ Less than 0.5%. Deleting these rows...\n",
            "\n",
            "--- 4. Checking column 'Memory_SwapPssDirty'\n",
            "✅ All values in column 'Memory_SwapPssDirty' are within bounds [0, 50000]\n",
            "\n",
            "--- 5. Checking column 'Memory_HeapAlloc'\n",
            "Found 4 values outside bounds [0, 200000]\n",
            "Percentage: 0.0075% of data\n",
            "→ Less than 0.5%. Deleting these rows...\n",
            "\n",
            "--- 6. Checking column 'Memory_HeapFree'\n",
            "✅ All values in column 'Memory_HeapFree' are within bounds [0, 200000]\n",
            "\n",
            "--- 7. Checking column 'Memory_Views'\n",
            "Found 7 values outside bounds [0, 5000]\n",
            "Percentage: 0.0131% of data\n",
            "→ Less than 0.5%. Deleting these rows...\n",
            "\n",
            "--- 8. Checking column 'Memory_ViewRootImpl'\n",
            "Found 4 values outside bounds [0, 100]\n",
            "Percentage: 0.0075% of data\n",
            "→ Less than 0.5%. Deleting these rows...\n",
            "\n",
            "--- 9. Checking column 'Memory_Activities'\n",
            "✅ All values in column 'Memory_Activities' are within bounds [0, 100]\n",
            "\n",
            "--- 10. Checking column 'Memory_LocalBinders'\n",
            "✅ All values in column 'Memory_LocalBinders' are within bounds [0, 1000]\n",
            "\n",
            "--- 11. Checking column 'Memory_ParcelCount'\n",
            "✅ All values in column 'Memory_ParcelCount' are within bounds [0, 2000]\n",
            "\n",
            "--- 12. Checking column 'API_Process_android.os.Process_start'\n",
            "✅ All values in column 'API_Process_android.os.Process_start' are within bounds [0, 1000]\n",
            "\n",
            "--- 13. Checking column 'API_Process_android.os.Process_killProcess'\n",
            "✅ All values in column 'API_Process_android.os.Process_killProcess' are within bounds [0, 1000]\n",
            "\n",
            "--- 14. Checking column 'API_Command_java.lang.Runtime_exec'\n",
            "Found 11 values outside bounds [0, 1000]\n",
            "Percentage: 0.0206% of data\n",
            "→ Less than 0.5%. Deleting these rows...\n",
            "\n",
            "--- 15. Checking column 'API_JavaNativeInterface_java.lang.Runtime_loadLibrary'\n",
            "✅ All values in column 'API_JavaNativeInterface_java.lang.Runtime_loadLibrary' are within bounds [0, 1000]\n",
            "\n",
            "--- 16. Checking column 'API_WebView_android.webkit.WebView_loadUrl'\n",
            "Found 10 values outside bounds [0, 1000]\n",
            "Percentage: 0.0187% of data\n",
            "→ Less than 0.5%. Deleting these rows...\n",
            "\n",
            "--- 17. Checking column 'API_Database_android.database.sqlite.SQLiteDatabase_query'\n",
            "Found 4 values outside bounds [0, 1000]\n",
            "Percentage: 0.0075% of data\n",
            "→ Less than 0.5%. Deleting these rows...\n",
            "\n",
            "--- 18. Checking column 'API_DeviceInfo_android.telephony.TelephonyManager_getDeviceId'\n",
            "Found 13 values outside bounds [0, 1000]\n",
            "Percentage: 0.0244% of data\n",
            "→ Less than 0.5%. Deleting these rows...\n",
            "\n",
            "--- 19. Checking column 'Network_TotalReceivedBytes'\n",
            "✅ All values in column 'Network_TotalReceivedBytes' are within bounds [0, 5000000000]\n",
            "\n",
            "--- 20. Checking column 'Network_TotalTransmittedBytes'\n",
            "✅ All values in column 'Network_TotalTransmittedBytes' are within bounds [0, 5000000000]\n",
            "\n",
            "--- 21. Checking column 'Network_TotalReceivedPackets'\n",
            "✅ All values in column 'Network_TotalReceivedPackets' are within bounds [0, 2000000]\n",
            "\n",
            "--- 22. Checking column 'Network_TotalTransmittedPackets'\n",
            "✅ All values in column 'Network_TotalTransmittedPackets' are within bounds [0, 2000000]\n",
            "\n",
            "--- 23. Checking column 'Battery_wakelock'\n",
            "✅ All values in column 'Battery_wakelock' are within bounds [0, 10000]\n",
            "\n",
            "--- 24. Checking column 'Process_total'\n",
            "✅ All values in column 'Process_total' are within bounds [0, 500]\n",
            "\n",
            "--- 25. Checking column 'Logcat_verbose'\n",
            "Found 5 values outside bounds [0, 50000]\n",
            "Percentage: 0.0094% of data\n",
            "→ Less than 0.5%. Deleting these rows...\n",
            "\n",
            "--- 26. Checking column 'Logcat_debug'\n",
            "Found 13 values outside bounds [0, 30000]\n",
            "Percentage: 0.0244% of data\n",
            "→ Less than 0.5%. Deleting these rows...\n",
            "\n",
            "--- 27. Checking column 'Logcat_info'\n",
            "Found 26 values outside bounds [0, 20000]\n",
            "Percentage: 0.0488% of data\n",
            "→ Less than 0.5%. Deleting these rows...\n",
            "\n",
            "--- 28. Checking column 'Logcat_warning'\n",
            "Found 378 values outside bounds [0, 10000]\n",
            "Percentage: 0.7097% of data\n",
            "→ More than 0.5%. Keeping them for manual review.\n",
            "\n",
            "--- 29. Checking column 'Logcat_error'\n",
            "Found 2884 values outside bounds [0, 5000]\n",
            "Percentage: 5.4144% of data\n",
            "→ More than 0.5%. Keeping them for manual review.\n",
            "\n",
            "--- 1. Checking column 'Memory_PssClean'\n",
            "✅ All values in column 'Memory_PssClean' are within bounds [0, 150000]\n",
            "\n",
            "--- 2. Checking column 'Memory_SharedDirty'\n",
            "Found 1 values outside bounds [0, 200000]\n",
            "Percentage: 0.0019% of data\n",
            "→ Less than 0.5%. Deleting these rows...\n",
            "\n",
            "--- 3. Checking column 'Memory_PrivateDirty'\n",
            "Found 76 values outside bounds [0, 300000]\n",
            "Percentage: 0.1422% of data\n",
            "→ Less than 0.5%. Deleting these rows...\n",
            "\n",
            "--- 4. Checking column 'Memory_SwapPssDirty'\n",
            "✅ All values in column 'Memory_SwapPssDirty' are within bounds [0, 50000]\n",
            "\n",
            "--- 5. Checking column 'Memory_HeapAlloc'\n",
            "Found 4 values outside bounds [0, 200000]\n",
            "Percentage: 0.0075% of data\n",
            "→ Less than 0.5%. Deleting these rows...\n",
            "\n",
            "--- 6. Checking column 'Memory_HeapFree'\n",
            "✅ All values in column 'Memory_HeapFree' are within bounds [0, 200000]\n",
            "\n",
            "--- 7. Checking column 'Memory_Views'\n",
            "Found 7 values outside bounds [0, 5000]\n",
            "Percentage: 0.0131% of data\n",
            "→ Less than 0.5%. Deleting these rows...\n",
            "\n",
            "--- 8. Checking column 'Memory_ViewRootImpl'\n",
            "Found 4 values outside bounds [0, 100]\n",
            "Percentage: 0.0075% of data\n",
            "→ Less than 0.5%. Deleting these rows...\n",
            "\n",
            "--- 9. Checking column 'Memory_Activities'\n",
            "✅ All values in column 'Memory_Activities' are within bounds [0, 100]\n",
            "\n",
            "--- 10. Checking column 'Memory_LocalBinders'\n",
            "✅ All values in column 'Memory_LocalBinders' are within bounds [0, 1000]\n",
            "\n",
            "--- 11. Checking column 'Memory_ParcelCount'\n",
            "✅ All values in column 'Memory_ParcelCount' are within bounds [0, 2000]\n",
            "\n",
            "--- 12. Checking column 'API_Process_android.os.Process_start'\n",
            "✅ All values in column 'API_Process_android.os.Process_start' are within bounds [0, 1000]\n",
            "\n",
            "--- 13. Checking column 'API_Process_android.os.Process_killProcess'\n",
            "✅ All values in column 'API_Process_android.os.Process_killProcess' are within bounds [0, 1000]\n",
            "\n",
            "--- 14. Checking column 'API_Command_java.lang.Runtime_exec'\n",
            "Found 11 values outside bounds [0, 1000]\n",
            "Percentage: 0.0206% of data\n",
            "→ Less than 0.5%. Deleting these rows...\n",
            "\n",
            "--- 15. Checking column 'API_JavaNativeInterface_java.lang.Runtime_loadLibrary'\n",
            "✅ All values in column 'API_JavaNativeInterface_java.lang.Runtime_loadLibrary' are within bounds [0, 1000]\n",
            "\n",
            "--- 16. Checking column 'API_WebView_android.webkit.WebView_loadUrl'\n",
            "Found 10 values outside bounds [0, 1000]\n",
            "Percentage: 0.0187% of data\n",
            "→ Less than 0.5%. Deleting these rows...\n",
            "\n",
            "--- 17. Checking column 'API_Database_android.database.sqlite.SQLiteDatabase_query'\n",
            "Found 4 values outside bounds [0, 1000]\n",
            "Percentage: 0.0075% of data\n",
            "→ Less than 0.5%. Deleting these rows...\n",
            "\n",
            "--- 18. Checking column 'API_DeviceInfo_android.telephony.TelephonyManager_getDeviceId'\n",
            "Found 13 values outside bounds [0, 1000]\n",
            "Percentage: 0.0244% of data\n",
            "→ Less than 0.5%. Deleting these rows...\n",
            "\n",
            "--- 19. Checking column 'Network_TotalReceivedBytes'\n",
            "✅ All values in column 'Network_TotalReceivedBytes' are within bounds [0, 5000000000]\n",
            "\n",
            "--- 20. Checking column 'Network_TotalTransmittedBytes'\n",
            "✅ All values in column 'Network_TotalTransmittedBytes' are within bounds [0, 5000000000]\n",
            "\n",
            "--- 21. Checking column 'Network_TotalReceivedPackets'\n",
            "✅ All values in column 'Network_TotalReceivedPackets' are within bounds [0, 2000000]\n",
            "\n",
            "--- 22. Checking column 'Network_TotalTransmittedPackets'\n",
            "✅ All values in column 'Network_TotalTransmittedPackets' are within bounds [0, 2000000]\n",
            "\n",
            "--- 23. Checking column 'Battery_wakelock'\n",
            "✅ All values in column 'Battery_wakelock' are within bounds [0, 10000]\n",
            "\n",
            "--- 24. Checking column 'Process_total'\n",
            "✅ All values in column 'Process_total' are within bounds [0, 500]\n",
            "\n",
            "--- 25. Checking column 'Logcat_verbose'\n",
            "Found 5 values outside bounds [0, 50000]\n",
            "Percentage: 0.0094% of data\n",
            "→ Less than 0.5%. Deleting these rows...\n",
            "\n",
            "--- 26. Checking column 'Logcat_debug'\n",
            "Found 13 values outside bounds [0, 30000]\n",
            "Percentage: 0.0244% of data\n",
            "→ Less than 0.5%. Deleting these rows...\n",
            "\n",
            "--- 27. Checking column 'Logcat_info'\n",
            "Found 26 values outside bounds [0, 20000]\n",
            "Percentage: 0.0488% of data\n",
            "→ Less than 0.5%. Deleting these rows...\n",
            "\n",
            "--- 28. Checking column 'Logcat_warning'\n",
            "Found 378 values outside bounds [0, 10000]\n",
            "Percentage: 0.7097% of data\n",
            "→ More than 0.5%. Keeping them for manual review.\n",
            "\n",
            "--- 29. Checking column 'Logcat_error'\n",
            "Found 2884 values outside bounds [0, 5000]\n",
            "Percentage: 5.4144% of data\n",
            "→ More than 0.5%. Keeping them for manual review.\n",
            "\n",
            "--- 1. Checking column 'Memory_PssClean'\n",
            "✅ All values in column 'Memory_PssClean' are within bounds [0, 150000]\n",
            "\n",
            "--- 2. Checking column 'Memory_SharedDirty'\n",
            "Found 1 values outside bounds [0, 200000]\n",
            "Percentage: 0.0019% of data\n",
            "→ Less than 0.5%. Deleting these rows...\n",
            "\n",
            "--- 3. Checking column 'Memory_PrivateDirty'\n",
            "Found 76 values outside bounds [0, 300000]\n",
            "Percentage: 0.1422% of data\n",
            "→ Less than 0.5%. Deleting these rows...\n",
            "\n",
            "--- 4. Checking column 'Memory_SwapPssDirty'\n",
            "✅ All values in column 'Memory_SwapPssDirty' are within bounds [0, 50000]\n",
            "\n",
            "--- 5. Checking column 'Memory_HeapAlloc'\n",
            "Found 4 values outside bounds [0, 200000]\n",
            "Percentage: 0.0075% of data\n",
            "→ Less than 0.5%. Deleting these rows...\n",
            "\n",
            "--- 6. Checking column 'Memory_HeapFree'\n",
            "✅ All values in column 'Memory_HeapFree' are within bounds [0, 200000]\n",
            "\n",
            "--- 7. Checking column 'Memory_Views'\n",
            "Found 7 values outside bounds [0, 5000]\n",
            "Percentage: 0.0131% of data\n",
            "→ Less than 0.5%. Deleting these rows...\n",
            "\n",
            "--- 8. Checking column 'Memory_ViewRootImpl'\n",
            "Found 4 values outside bounds [0, 100]\n",
            "Percentage: 0.0075% of data\n",
            "→ Less than 0.5%. Deleting these rows...\n",
            "\n",
            "--- 9. Checking column 'Memory_Activities'\n",
            "✅ All values in column 'Memory_Activities' are within bounds [0, 100]\n",
            "\n",
            "--- 10. Checking column 'Memory_LocalBinders'\n",
            "✅ All values in column 'Memory_LocalBinders' are within bounds [0, 1000]\n",
            "\n",
            "--- 11. Checking column 'Memory_ParcelCount'\n",
            "✅ All values in column 'Memory_ParcelCount' are within bounds [0, 2000]\n",
            "\n",
            "--- 12. Checking column 'API_Process_android.os.Process_start'\n",
            "✅ All values in column 'API_Process_android.os.Process_start' are within bounds [0, 1000]\n",
            "\n",
            "--- 13. Checking column 'API_Process_android.os.Process_killProcess'\n",
            "✅ All values in column 'API_Process_android.os.Process_killProcess' are within bounds [0, 1000]\n",
            "\n",
            "--- 14. Checking column 'API_Command_java.lang.Runtime_exec'\n",
            "Found 11 values outside bounds [0, 1000]\n",
            "Percentage: 0.0206% of data\n",
            "→ Less than 0.5%. Deleting these rows...\n",
            "\n",
            "--- 15. Checking column 'API_JavaNativeInterface_java.lang.Runtime_loadLibrary'\n",
            "✅ All values in column 'API_JavaNativeInterface_java.lang.Runtime_loadLibrary' are within bounds [0, 1000]\n",
            "\n",
            "--- 16. Checking column 'API_WebView_android.webkit.WebView_loadUrl'\n",
            "Found 10 values outside bounds [0, 1000]\n",
            "Percentage: 0.0187% of data\n",
            "→ Less than 0.5%. Deleting these rows...\n",
            "\n",
            "--- 17. Checking column 'API_Database_android.database.sqlite.SQLiteDatabase_query'\n",
            "Found 4 values outside bounds [0, 1000]\n",
            "Percentage: 0.0075% of data\n",
            "→ Less than 0.5%. Deleting these rows...\n",
            "\n",
            "--- 18. Checking column 'API_DeviceInfo_android.telephony.TelephonyManager_getDeviceId'\n",
            "Found 13 values outside bounds [0, 1000]\n",
            "Percentage: 0.0244% of data\n",
            "→ Less than 0.5%. Deleting these rows...\n",
            "\n",
            "--- 19. Checking column 'Network_TotalReceivedBytes'\n",
            "✅ All values in column 'Network_TotalReceivedBytes' are within bounds [0, 5000000000]\n",
            "\n",
            "--- 20. Checking column 'Network_TotalTransmittedBytes'\n",
            "✅ All values in column 'Network_TotalTransmittedBytes' are within bounds [0, 5000000000]\n",
            "\n",
            "--- 21. Checking column 'Network_TotalReceivedPackets'\n",
            "✅ All values in column 'Network_TotalReceivedPackets' are within bounds [0, 2000000]\n",
            "\n",
            "--- 22. Checking column 'Network_TotalTransmittedPackets'\n",
            "✅ All values in column 'Network_TotalTransmittedPackets' are within bounds [0, 2000000]\n",
            "\n",
            "--- 23. Checking column 'Battery_wakelock'\n",
            "✅ All values in column 'Battery_wakelock' are within bounds [0, 10000]\n",
            "\n",
            "--- 24. Checking column 'Process_total'\n",
            "✅ All values in column 'Process_total' are within bounds [0, 500]\n",
            "\n",
            "--- 25. Checking column 'Logcat_verbose'\n",
            "Found 5 values outside bounds [0, 50000]\n",
            "Percentage: 0.0094% of data\n",
            "→ Less than 0.5%. Deleting these rows...\n",
            "\n",
            "--- 26. Checking column 'Logcat_debug'\n",
            "Found 13 values outside bounds [0, 30000]\n",
            "Percentage: 0.0244% of data\n",
            "→ Less than 0.5%. Deleting these rows...\n",
            "\n",
            "--- 27. Checking column 'Logcat_info'\n",
            "Found 26 values outside bounds [0, 20000]\n",
            "Percentage: 0.0488% of data\n",
            "→ Less than 0.5%. Deleting these rows...\n",
            "\n",
            "--- 28. Checking column 'Logcat_warning'\n",
            "Found 378 values outside bounds [0, 10000]\n",
            "Percentage: 0.7097% of data\n",
            "→ More than 0.5%. Keeping them for manual review.\n",
            "\n",
            "--- 29. Checking column 'Logcat_error'\n",
            "Found 2884 values outside bounds [0, 5000]\n",
            "Percentage: 5.4144% of data\n",
            "→ More than 0.5%. Keeping them for manual review.\n",
            "\n",
            "--- 1. Checking column 'Memory_PssClean'\n",
            "✅ All values in column 'Memory_PssClean' are within bounds [0, 150000]\n",
            "\n",
            "--- 2. Checking column 'Memory_SharedDirty'\n",
            "Found 1 values outside bounds [0, 200000]\n",
            "Percentage: 0.0019% of data\n",
            "→ Less than 0.5%. Deleting these rows...\n",
            "\n",
            "--- 3. Checking column 'Memory_PrivateDirty'\n",
            "Found 76 values outside bounds [0, 300000]\n",
            "Percentage: 0.1422% of data\n",
            "→ Less than 0.5%. Deleting these rows...\n",
            "\n",
            "--- 4. Checking column 'Memory_SwapPssDirty'\n",
            "✅ All values in column 'Memory_SwapPssDirty' are within bounds [0, 50000]\n",
            "\n",
            "--- 5. Checking column 'Memory_HeapAlloc'\n",
            "Found 4 values outside bounds [0, 200000]\n",
            "Percentage: 0.0075% of data\n",
            "→ Less than 0.5%. Deleting these rows...\n",
            "\n",
            "--- 6. Checking column 'Memory_HeapFree'\n",
            "✅ All values in column 'Memory_HeapFree' are within bounds [0, 200000]\n",
            "\n",
            "--- 7. Checking column 'Memory_Views'\n",
            "Found 7 values outside bounds [0, 5000]\n",
            "Percentage: 0.0131% of data\n",
            "→ Less than 0.5%. Deleting these rows...\n",
            "\n",
            "--- 8. Checking column 'Memory_ViewRootImpl'\n",
            "Found 4 values outside bounds [0, 100]\n",
            "Percentage: 0.0075% of data\n",
            "→ Less than 0.5%. Deleting these rows...\n",
            "\n",
            "--- 9. Checking column 'Memory_Activities'\n",
            "✅ All values in column 'Memory_Activities' are within bounds [0, 100]\n",
            "\n",
            "--- 10. Checking column 'Memory_LocalBinders'\n",
            "✅ All values in column 'Memory_LocalBinders' are within bounds [0, 1000]\n",
            "\n",
            "--- 11. Checking column 'Memory_ParcelCount'\n",
            "✅ All values in column 'Memory_ParcelCount' are within bounds [0, 2000]\n",
            "\n",
            "--- 12. Checking column 'API_Process_android.os.Process_start'\n",
            "✅ All values in column 'API_Process_android.os.Process_start' are within bounds [0, 1000]\n",
            "\n",
            "--- 13. Checking column 'API_Process_android.os.Process_killProcess'\n",
            "✅ All values in column 'API_Process_android.os.Process_killProcess' are within bounds [0, 1000]\n",
            "\n",
            "--- 14. Checking column 'API_Command_java.lang.Runtime_exec'\n",
            "Found 11 values outside bounds [0, 1000]\n",
            "Percentage: 0.0206% of data\n",
            "→ Less than 0.5%. Deleting these rows...\n",
            "\n",
            "--- 15. Checking column 'API_JavaNativeInterface_java.lang.Runtime_loadLibrary'\n",
            "✅ All values in column 'API_JavaNativeInterface_java.lang.Runtime_loadLibrary' are within bounds [0, 1000]\n",
            "\n",
            "--- 16. Checking column 'API_WebView_android.webkit.WebView_loadUrl'\n",
            "Found 10 values outside bounds [0, 1000]\n",
            "Percentage: 0.0187% of data\n",
            "→ Less than 0.5%. Deleting these rows...\n",
            "\n",
            "--- 17. Checking column 'API_Database_android.database.sqlite.SQLiteDatabase_query'\n",
            "Found 4 values outside bounds [0, 1000]\n",
            "Percentage: 0.0075% of data\n",
            "→ Less than 0.5%. Deleting these rows...\n",
            "\n",
            "--- 18. Checking column 'API_DeviceInfo_android.telephony.TelephonyManager_getDeviceId'\n",
            "Found 13 values outside bounds [0, 1000]\n",
            "Percentage: 0.0244% of data\n",
            "→ Less than 0.5%. Deleting these rows...\n",
            "\n",
            "--- 19. Checking column 'Network_TotalReceivedBytes'\n",
            "✅ All values in column 'Network_TotalReceivedBytes' are within bounds [0, 5000000000]\n",
            "\n",
            "--- 20. Checking column 'Network_TotalTransmittedBytes'\n",
            "✅ All values in column 'Network_TotalTransmittedBytes' are within bounds [0, 5000000000]\n",
            "\n",
            "--- 21. Checking column 'Network_TotalReceivedPackets'\n",
            "✅ All values in column 'Network_TotalReceivedPackets' are within bounds [0, 2000000]\n",
            "\n",
            "--- 22. Checking column 'Network_TotalTransmittedPackets'\n",
            "✅ All values in column 'Network_TotalTransmittedPackets' are within bounds [0, 2000000]\n",
            "\n",
            "--- 23. Checking column 'Battery_wakelock'\n",
            "✅ All values in column 'Battery_wakelock' are within bounds [0, 10000]\n",
            "\n",
            "--- 24. Checking column 'Process_total'\n",
            "✅ All values in column 'Process_total' are within bounds [0, 500]\n",
            "\n",
            "--- 25. Checking column 'Logcat_verbose'\n",
            "Found 5 values outside bounds [0, 50000]\n",
            "Percentage: 0.0094% of data\n",
            "→ Less than 0.5%. Deleting these rows...\n",
            "\n",
            "--- 26. Checking column 'Logcat_debug'\n",
            "Found 13 values outside bounds [0, 30000]\n",
            "Percentage: 0.0244% of data\n",
            "→ Less than 0.5%. Deleting these rows...\n",
            "\n",
            "--- 27. Checking column 'Logcat_info'\n",
            "Found 26 values outside bounds [0, 20000]\n",
            "Percentage: 0.0488% of data\n",
            "→ Less than 0.5%. Deleting these rows...\n",
            "\n",
            "--- 28. Checking column 'Logcat_warning'\n",
            "Found 378 values outside bounds [0, 10000]\n",
            "Percentage: 0.7097% of data\n",
            "→ More than 0.5%. Keeping them for manual review.\n",
            "\n",
            "--- 29. Checking column 'Logcat_error'\n",
            "Found 2884 values outside bounds [0, 5000]\n",
            "Percentage: 5.4144% of data\n",
            "→ More than 0.5%. Keeping them for manual review.\n"
          ]
        }
      ],
      "source": [
        "tree_pipeline.preprocessing.outliers_bounds_obj.bound_checking()\n",
        "supportVectorsMachine_pipeline.preprocessing.outliers_bounds_obj.bound_checking()\n",
        "naiveBayes_pipeline.preprocessing.outliers_bounds_obj.bound_checking()\n",
        "ensembled_pipeline.preprocessing.outliers_bounds_obj.bound_checking()"
      ]
    },
    {
      "cell_type": "markdown",
      "metadata": {},
      "source": [
        "**This step is mandatory for all pipelines.** If a latitude or longitude falls outside these bounds, it cannot physically exist.\n",
        "This is not a modeling problem — it’s a data error."
      ]
    },
    {
      "cell_type": "markdown",
      "metadata": {},
      "source": [
        "### Feature Scaling"
      ]
    },
    {
      "cell_type": "markdown",
      "metadata": {},
      "source": [
        "To address feature scaling:\n",
        "\n",
        "- For the baseline pipeline, we do not apply any feature scaling; we train on the raw feature values to establish a control benchmark, allowing us to objectively measure the performance gains (or losses) afforded by each scaling strategy in subsequent experiments.\n",
        "\n",
        "- Tree-based models do not require feature scaling. This is because decision trees split data based on thresholds (e.g., “is feature X > 4.5?”), which makes them invariant to the magnitude or distribution of feature values. Since ensemble methods like Random Forests and Gradient Boosting are composed of tree-based estimators, they also do not benefit from scaling.\n",
        "\n",
        "- Gaussian Naive Bayes assumes normally distributed features but does not strictly require scaling. However, standardization can help improve performance by better aligning feature distributions with the model's assumptions. Therefore, we apply standardization in this case as a light enhancement.\n",
        "\n",
        "- For Feedforward Neural Networks (FNNs), standardization is generally the preferred approach, as it centers features around zero and ensures unit variance, which accelerates convergence and improves stability. However, because FNNs are sensitive to outliers which can significantly distort gradients, RobustScaler is more appropriate when the data contains outliers, as it scales based on the median and interquartile range. **HOWEVER**... if this proves to not work, an alternative could be to go back to StandardScaler given that the NNs might need values in specific intervals that could be affected by the outlier handling from the RobustScaler. We will decide on a final method after testing.\n",
        "\n",
        "For a similar reason to FNNs, we will also apply RobustScaler to SVMs.\n",
        "\n",
        "With this in mind, this process will be mandatory for all pipelines except Tree-Based and Ensembled pipeline."
      ]
    },
    {
      "cell_type": "markdown",
      "metadata": {},
      "source": [
        "For scaling data, we will work only with the training set to avoid data leakage."
      ]
    },
    {
      "cell_type": "code",
      "execution_count": 54,
      "metadata": {},
      "outputs": [
        {
          "data": {
            "text/html": [
              "<div>\n",
              "<style scoped>\n",
              "    .dataframe tbody tr th:only-of-type {\n",
              "        vertical-align: middle;\n",
              "    }\n",
              "\n",
              "    .dataframe tbody tr th {\n",
              "        vertical-align: top;\n",
              "    }\n",
              "\n",
              "    .dataframe thead th {\n",
              "        text-align: right;\n",
              "    }\n",
              "</style>\n",
              "<table border=\"1\" class=\"dataframe\">\n",
              "  <thead>\n",
              "    <tr style=\"text-align: right;\">\n",
              "      <th></th>\n",
              "      <th>Memory_PssTotal</th>\n",
              "      <th>Memory_PssClean</th>\n",
              "      <th>Memory_SharedDirty</th>\n",
              "      <th>Memory_PrivateDirty</th>\n",
              "      <th>Memory_SharedClean</th>\n",
              "      <th>Memory_PrivateClean</th>\n",
              "      <th>Memory_SwapPssDirty</th>\n",
              "      <th>Memory_HeapSize</th>\n",
              "      <th>Memory_HeapAlloc</th>\n",
              "      <th>Memory_HeapFree</th>\n",
              "      <th>...</th>\n",
              "      <th>Battery_wakelock</th>\n",
              "      <th>Battery_service</th>\n",
              "      <th>Logcat_info</th>\n",
              "      <th>Logcat_error</th>\n",
              "      <th>Logcat_warning</th>\n",
              "      <th>Logcat_debug</th>\n",
              "      <th>Logcat_verbose</th>\n",
              "      <th>Logcat_total</th>\n",
              "      <th>Process_total</th>\n",
              "      <th>Reboot</th>\n",
              "    </tr>\n",
              "  </thead>\n",
              "  <tbody>\n",
              "    <tr>\n",
              "      <th>0</th>\n",
              "      <td>35115</td>\n",
              "      <td>2936</td>\n",
              "      <td>12944</td>\n",
              "      <td>25560</td>\n",
              "      <td>83552</td>\n",
              "      <td>3072</td>\n",
              "      <td>0</td>\n",
              "      <td>9086</td>\n",
              "      <td>5558</td>\n",
              "      <td>3527.0</td>\n",
              "      <td>...</td>\n",
              "      <td>3</td>\n",
              "      <td>0</td>\n",
              "      <td>4372.0</td>\n",
              "      <td>2820.0</td>\n",
              "      <td>1369</td>\n",
              "      <td>1567</td>\n",
              "      <td>4737.0</td>\n",
              "      <td>14865</td>\n",
              "      <td>188</td>\n",
              "      <td>before</td>\n",
              "    </tr>\n",
              "    <tr>\n",
              "      <th>1</th>\n",
              "      <td>71418</td>\n",
              "      <td>11352</td>\n",
              "      <td>8960</td>\n",
              "      <td>46700</td>\n",
              "      <td>84844</td>\n",
              "      <td>11468</td>\n",
              "      <td>0</td>\n",
              "      <td>15178</td>\n",
              "      <td>11581</td>\n",
              "      <td>3596.0</td>\n",
              "      <td>...</td>\n",
              "      <td>2</td>\n",
              "      <td>2</td>\n",
              "      <td>693.0</td>\n",
              "      <td>99.0</td>\n",
              "      <td>2863</td>\n",
              "      <td>1702</td>\n",
              "      <td>2804.0</td>\n",
              "      <td>8161</td>\n",
              "      <td>191</td>\n",
              "      <td>after</td>\n",
              "    </tr>\n",
              "    <tr>\n",
              "      <th>2</th>\n",
              "      <td>120450</td>\n",
              "      <td>30872</td>\n",
              "      <td>10704</td>\n",
              "      <td>71532</td>\n",
              "      <td>129328</td>\n",
              "      <td>31660</td>\n",
              "      <td>0</td>\n",
              "      <td>37109</td>\n",
              "      <td>30762</td>\n",
              "      <td>6346.0</td>\n",
              "      <td>...</td>\n",
              "      <td>2</td>\n",
              "      <td>1</td>\n",
              "      <td>2422.0</td>\n",
              "      <td>2959.0</td>\n",
              "      <td>925</td>\n",
              "      <td>98</td>\n",
              "      <td>3416.0</td>\n",
              "      <td>9820</td>\n",
              "      <td>196</td>\n",
              "      <td>after</td>\n",
              "    </tr>\n",
              "    <tr>\n",
              "      <th>3</th>\n",
              "      <td>42669</td>\n",
              "      <td>4156</td>\n",
              "      <td>12544</td>\n",
              "      <td>29872</td>\n",
              "      <td>91184</td>\n",
              "      <td>4172</td>\n",
              "      <td>0</td>\n",
              "      <td>13283</td>\n",
              "      <td>10668</td>\n",
              "      <td>2614.0</td>\n",
              "      <td>...</td>\n",
              "      <td>5</td>\n",
              "      <td>2</td>\n",
              "      <td>2323.0</td>\n",
              "      <td>149.0</td>\n",
              "      <td>783</td>\n",
              "      <td>1954</td>\n",
              "      <td>2908.0</td>\n",
              "      <td>8117</td>\n",
              "      <td>192</td>\n",
              "      <td>after</td>\n",
              "    </tr>\n",
              "    <tr>\n",
              "      <th>4</th>\n",
              "      <td>65679</td>\n",
              "      <td>3256</td>\n",
              "      <td>10792</td>\n",
              "      <td>52684</td>\n",
              "      <td>101276</td>\n",
              "      <td>6004</td>\n",
              "      <td>0</td>\n",
              "      <td>32054</td>\n",
              "      <td>24837</td>\n",
              "      <td>7216.0</td>\n",
              "      <td>...</td>\n",
              "      <td>3</td>\n",
              "      <td>0</td>\n",
              "      <td>2271.0</td>\n",
              "      <td>7564.0</td>\n",
              "      <td>626</td>\n",
              "      <td>1826</td>\n",
              "      <td>139.0</td>\n",
              "      <td>12426</td>\n",
              "      <td>192</td>\n",
              "      <td>after</td>\n",
              "    </tr>\n",
              "  </tbody>\n",
              "</table>\n",
              "<p>5 rows × 142 columns</p>\n",
              "</div>"
            ],
            "text/plain": [
              "   Memory_PssTotal  Memory_PssClean  Memory_SharedDirty  Memory_PrivateDirty  \\\n",
              "0            35115             2936               12944                25560   \n",
              "1            71418            11352                8960                46700   \n",
              "2           120450            30872               10704                71532   \n",
              "3            42669             4156               12544                29872   \n",
              "4            65679             3256               10792                52684   \n",
              "\n",
              "   Memory_SharedClean  Memory_PrivateClean  Memory_SwapPssDirty  \\\n",
              "0               83552                 3072                    0   \n",
              "1               84844                11468                    0   \n",
              "2              129328                31660                    0   \n",
              "3               91184                 4172                    0   \n",
              "4              101276                 6004                    0   \n",
              "\n",
              "   Memory_HeapSize  Memory_HeapAlloc  Memory_HeapFree  ...  Battery_wakelock  \\\n",
              "0             9086              5558           3527.0  ...                 3   \n",
              "1            15178             11581           3596.0  ...                 2   \n",
              "2            37109             30762           6346.0  ...                 2   \n",
              "3            13283             10668           2614.0  ...                 5   \n",
              "4            32054             24837           7216.0  ...                 3   \n",
              "\n",
              "   Battery_service  Logcat_info  Logcat_error  Logcat_warning  Logcat_debug  \\\n",
              "0                0       4372.0        2820.0            1369          1567   \n",
              "1                2        693.0          99.0            2863          1702   \n",
              "2                1       2422.0        2959.0             925            98   \n",
              "3                2       2323.0         149.0             783          1954   \n",
              "4                0       2271.0        7564.0             626          1826   \n",
              "\n",
              "   Logcat_verbose  Logcat_total  Process_total  Reboot  \n",
              "0          4737.0         14865            188  before  \n",
              "1          2804.0          8161            191   after  \n",
              "2          3416.0          9820            196   after  \n",
              "3          2908.0          8117            192   after  \n",
              "4           139.0         12426            192   after  \n",
              "\n",
              "[5 rows x 142 columns]"
            ]
          },
          "execution_count": 54,
          "metadata": {},
          "output_type": "execute_result"
        }
      ],
      "source": [
        "baseline_pipeline.dataset.X_train.head()"
      ]
    },
    {
      "cell_type": "markdown",
      "metadata": {},
      "source": [
        "In the function created, if we decide to plot and check distributions before and after scaling, the function will select the first 10 features and plot them to avoid plotting all features."
      ]
    },
    {
      "cell_type": "code",
      "execution_count": 55,
      "metadata": {},
      "outputs": [
        {
          "data": {
            "image/png": "[encoded data removed]",
            "text/plain": [
              "<Figure size 1200x400 with 2 Axes>"
            ]
          },
          "metadata": {},
          "output_type": "display_data"
        },
        {
          "data": {
            "image/png": "[encoded data removed]",
            "text/plain": [
              "<Figure size 1200x400 with 2 Axes>"
            ]
          },
          "metadata": {},
          "output_type": "display_data"
        },
        {
          "data": {
            "image/png": "[encoded data removed]",
            "text/plain": [
              "<Figure size 1200x400 with 2 Axes>"
            ]
          },
          "metadata": {},
          "output_type": "display_data"
        },
        {
          "data": {
            "image/png": "[encoded data removed]",
            "text/plain": [
              "<Figure size 1200x400 with 2 Axes>"
            ]
          },
          "metadata": {},
          "output_type": "display_data"
        },
        {
          "data": {
            "image/png": "[encoded data removed]",
            "text/plain": [
              "<Figure size 1200x400 with 2 Axes>"
            ]
          },
          "metadata": {},
          "output_type": "display_data"
        },
        {
          "data": {
            "text/plain": [
              "'Successfully scaled 141 features. Plotted distributions for the first 5 features.\\nTo check the results run:\\n your_pipeline.dataset.X_train.head()'"
            ]
          },
          "execution_count": 55,
          "metadata": {},
          "output_type": "execute_result"
        }
      ],
      "source": [
        "baseline_pipeline.preprocessing.feature_scaling_obj.scale_features(scaler=\"robust\", columnsToScale=baseline_pipeline.dataset.X_train.select_dtypes(include=[\"number\"]).columns, plot=True)"
      ]
    },
    {
      "cell_type": "markdown",
      "metadata": {},
      "source": [
        "The histograms show how `RobustScaler` compresses extreme values and brings the bulk of the data closer to a common scale. Despite the presence of outliers, the core distribution becomes more uniform and comparable across features — ideal for many ML models."
      ]
    },
    {
      "cell_type": "code",
      "execution_count": 56,
      "metadata": {},
      "outputs": [
        {
          "name": "stdout",
          "output_type": "stream",
          "text": [
            "SVMs: Successfully scaled 141 features. Plotted distributions for the first 5 features.\n",
            "To check the results run:\n",
            " your_pipeline.dataset.X_train.head()\n",
            "Naive Bayes: Successfully scaled 141 features. Plotted distributions for the first 5 features.\n",
            "To check the results run:\n",
            " your_pipeline.dataset.X_train.head()\n",
            "FNNs: Successfully scaled 141 features. Plotted distributions for the first 5 features.\n",
            "To check the results run:\n",
            " your_pipeline.dataset.X_train.head()\n"
          ]
        }
      ],
      "source": [
        "print(f\"SVMs: {supportVectorsMachine_pipeline.preprocessing.feature_scaling_obj.scale_features(scaler='robust', columnsToScale=default_pipeline.dataset.X_train.select_dtypes(include=['number']).columns)}\")\n",
        "print(f\"Naive Bayes: {naiveBayes_pipeline.preprocessing.feature_scaling_obj.scale_features(scaler='standard', columnsToScale=default_pipeline.dataset.X_train.select_dtypes(include=['number']).columns)}\")\n",
        "print(f\"FNNs: {feedForwardNN_pipeline.preprocessing.feature_scaling_obj.scale_features(scaler='robust', columnsToScale=default_pipeline.dataset.X_train.select_dtypes(include=['number']).columns)}\")"
      ]
    },
    {
      "cell_type": "code",
      "execution_count": 57,
      "metadata": {},
      "outputs": [
        {
          "data": {
            "text/html": [
              "<div>\n",
              "<style scoped>\n",
              "    .dataframe tbody tr th:only-of-type {\n",
              "        vertical-align: middle;\n",
              "    }\n",
              "\n",
              "    .dataframe tbody tr th {\n",
              "        vertical-align: top;\n",
              "    }\n",
              "\n",
              "    .dataframe thead th {\n",
              "        text-align: right;\n",
              "    }\n",
              "</style>\n",
              "<table border=\"1\" class=\"dataframe\">\n",
              "  <thead>\n",
              "    <tr style=\"text-align: right;\">\n",
              "      <th></th>\n",
              "      <th>Memory_PssTotal</th>\n",
              "      <th>Memory_PssClean</th>\n",
              "      <th>Memory_SharedDirty</th>\n",
              "      <th>Memory_PrivateDirty</th>\n",
              "      <th>Memory_SharedClean</th>\n",
              "      <th>Memory_PrivateClean</th>\n",
              "      <th>Memory_SwapPssDirty</th>\n",
              "      <th>Memory_HeapSize</th>\n",
              "      <th>Memory_HeapAlloc</th>\n",
              "      <th>Memory_HeapFree</th>\n",
              "      <th>...</th>\n",
              "      <th>Battery_wakelock</th>\n",
              "      <th>Battery_service</th>\n",
              "      <th>Logcat_info</th>\n",
              "      <th>Logcat_error</th>\n",
              "      <th>Logcat_warning</th>\n",
              "      <th>Logcat_debug</th>\n",
              "      <th>Logcat_verbose</th>\n",
              "      <th>Logcat_total</th>\n",
              "      <th>Process_total</th>\n",
              "      <th>Reboot</th>\n",
              "    </tr>\n",
              "  </thead>\n",
              "  <tbody>\n",
              "    <tr>\n",
              "      <th>0</th>\n",
              "      <td>-0.572982</td>\n",
              "      <td>-0.212739</td>\n",
              "      <td>3.662252</td>\n",
              "      <td>-0.680374</td>\n",
              "      <td>-0.269575</td>\n",
              "      <td>-0.304846</td>\n",
              "      <td>0.0</td>\n",
              "      <td>-0.744642</td>\n",
              "      <td>-0.903544</td>\n",
              "      <td>-0.190928</td>\n",
              "      <td>...</td>\n",
              "      <td>0.0</td>\n",
              "      <td>0.0</td>\n",
              "      <td>1.229024</td>\n",
              "      <td>0.414508</td>\n",
              "      <td>-0.328646</td>\n",
              "      <td>-0.232606</td>\n",
              "      <td>1.436909</td>\n",
              "      <td>1.088923</td>\n",
              "      <td>-0.50</td>\n",
              "      <td>before</td>\n",
              "    </tr>\n",
              "    <tr>\n",
              "      <th>1</th>\n",
              "      <td>0.223136</td>\n",
              "      <td>0.310774</td>\n",
              "      <td>-2.933775</td>\n",
              "      <td>0.225135</td>\n",
              "      <td>-0.211834</td>\n",
              "      <td>0.196228</td>\n",
              "      <td>0.0</td>\n",
              "      <td>-0.345350</td>\n",
              "      <td>-0.408902</td>\n",
              "      <td>-0.166667</td>\n",
              "      <td>...</td>\n",
              "      <td>-0.5</td>\n",
              "      <td>2.0</td>\n",
              "      <td>-0.712401</td>\n",
              "      <td>-0.995337</td>\n",
              "      <td>0.449479</td>\n",
              "      <td>-0.162513</td>\n",
              "      <td>0.420610</td>\n",
              "      <td>-0.788685</td>\n",
              "      <td>0.25</td>\n",
              "      <td>after</td>\n",
              "    </tr>\n",
              "    <tr>\n",
              "      <th>2</th>\n",
              "      <td>1.298399</td>\n",
              "      <td>1.525006</td>\n",
              "      <td>-0.046358</td>\n",
              "      <td>1.288786</td>\n",
              "      <td>1.776189</td>\n",
              "      <td>1.401289</td>\n",
              "      <td>0.0</td>\n",
              "      <td>1.092089</td>\n",
              "      <td>1.166345</td>\n",
              "      <td>0.800281</td>\n",
              "      <td>...</td>\n",
              "      <td>-0.5</td>\n",
              "      <td>1.0</td>\n",
              "      <td>0.200000</td>\n",
              "      <td>0.486528</td>\n",
              "      <td>-0.559896</td>\n",
              "      <td>-0.995327</td>\n",
              "      <td>0.742376</td>\n",
              "      <td>-0.324044</td>\n",
              "      <td>1.50</td>\n",
              "      <td>after</td>\n",
              "    </tr>\n",
              "    <tr>\n",
              "      <th>3</th>\n",
              "      <td>-0.407325</td>\n",
              "      <td>-0.136850</td>\n",
              "      <td>3.000000</td>\n",
              "      <td>-0.495674</td>\n",
              "      <td>0.071505</td>\n",
              "      <td>-0.239198</td>\n",
              "      <td>0.0</td>\n",
              "      <td>-0.469555</td>\n",
              "      <td>-0.483883</td>\n",
              "      <td>-0.511955</td>\n",
              "      <td>...</td>\n",
              "      <td>1.0</td>\n",
              "      <td>2.0</td>\n",
              "      <td>0.147757</td>\n",
              "      <td>-0.969430</td>\n",
              "      <td>-0.633854</td>\n",
              "      <td>-0.031672</td>\n",
              "      <td>0.475289</td>\n",
              "      <td>-0.801008</td>\n",
              "      <td>0.50</td>\n",
              "      <td>after</td>\n",
              "    </tr>\n",
              "    <tr>\n",
              "      <th>4</th>\n",
              "      <td>0.097281</td>\n",
              "      <td>-0.192834</td>\n",
              "      <td>0.099338</td>\n",
              "      <td>0.481453</td>\n",
              "      <td>0.522524</td>\n",
              "      <td>-0.129864</td>\n",
              "      <td>0.0</td>\n",
              "      <td>0.760766</td>\n",
              "      <td>0.679752</td>\n",
              "      <td>1.106188</td>\n",
              "      <td>...</td>\n",
              "      <td>0.0</td>\n",
              "      <td>0.0</td>\n",
              "      <td>0.120317</td>\n",
              "      <td>2.872539</td>\n",
              "      <td>-0.715625</td>\n",
              "      <td>-0.098131</td>\n",
              "      <td>-0.980547</td>\n",
              "      <td>0.405826</td>\n",
              "      <td>0.50</td>\n",
              "      <td>after</td>\n",
              "    </tr>\n",
              "  </tbody>\n",
              "</table>\n",
              "<p>5 rows × 142 columns</p>\n",
              "</div>"
            ],
            "text/plain": [
              "   Memory_PssTotal  Memory_PssClean  Memory_SharedDirty  Memory_PrivateDirty  \\\n",
              "0        -0.572982        -0.212739            3.662252            -0.680374   \n",
              "1         0.223136         0.310774           -2.933775             0.225135   \n",
              "2         1.298399         1.525006           -0.046358             1.288786   \n",
              "3        -0.407325        -0.136850            3.000000            -0.495674   \n",
              "4         0.097281        -0.192834            0.099338             0.481453   \n",
              "\n",
              "   Memory_SharedClean  Memory_PrivateClean  Memory_SwapPssDirty  \\\n",
              "0           -0.269575            -0.304846                  0.0   \n",
              "1           -0.211834             0.196228                  0.0   \n",
              "2            1.776189             1.401289                  0.0   \n",
              "3            0.071505            -0.239198                  0.0   \n",
              "4            0.522524            -0.129864                  0.0   \n",
              "\n",
              "   Memory_HeapSize  Memory_HeapAlloc  Memory_HeapFree  ...  Battery_wakelock  \\\n",
              "0        -0.744642         -0.903544        -0.190928  ...               0.0   \n",
              "1        -0.345350         -0.408902        -0.166667  ...              -0.5   \n",
              "2         1.092089          1.166345         0.800281  ...              -0.5   \n",
              "3        -0.469555         -0.483883        -0.511955  ...               1.0   \n",
              "4         0.760766          0.679752         1.106188  ...               0.0   \n",
              "\n",
              "   Battery_service  Logcat_info  Logcat_error  Logcat_warning  Logcat_debug  \\\n",
              "0              0.0     1.229024      0.414508       -0.328646     -0.232606   \n",
              "1              2.0    -0.712401     -0.995337        0.449479     -0.162513   \n",
              "2              1.0     0.200000      0.486528       -0.559896     -0.995327   \n",
              "3              2.0     0.147757     -0.969430       -0.633854     -0.031672   \n",
              "4              0.0     0.120317      2.872539       -0.715625     -0.098131   \n",
              "\n",
              "   Logcat_verbose  Logcat_total  Process_total  Reboot  \n",
              "0        1.436909      1.088923          -0.50  before  \n",
              "1        0.420610     -0.788685           0.25   after  \n",
              "2        0.742376     -0.324044           1.50   after  \n",
              "3        0.475289     -0.801008           0.50   after  \n",
              "4       -0.980547      0.405826           0.50   after  \n",
              "\n",
              "[5 rows x 142 columns]"
            ]
          },
          "execution_count": 57,
          "metadata": {},
          "output_type": "execute_result"
        }
      ],
      "source": [
        "baseline_pipeline.dataset.X_train.head()"
      ]
    },
    {
      "cell_type": "markdown",
      "metadata": {},
      "source": [
        "Since there is a very large number of fields, we need to avoid looking at the distribution and information about each feature. For this, we decided to create an automation that decides the appropriate scaling method -if necessary- for each feature.\n",
        "\n",
        "This function `determine_scaling_method` takes into account outlier detection and skewness and based on that it decides to use a **robust scaler**, **normalize** or **none**.\n",
        "\n",
        "**Note**: we use robust scaler rather than a standard scaler because robust scales with the median and IQR, which is less sensitive to outliers than standardizing is -computed with $\\mu$ and $\\sigma$. It will turn the median to 0 and turn the values in a field in values between -1 and 1 with some outliers."
      ]
    },
    {
      "cell_type": "markdown",
      "metadata": {},
      "source": [
        "Normalization Formula:\n",
        " \n",
        "$$x' = \\frac{x - \\min(x)}{\\max(x) - \\min(x)}$$\n",
        "\n",
        "Robust Scaler Formula:\n",
        "\n",
        "$$x' = \\frac{x - \\text{median}(x)}{\\text{IQR}(x)}$$\n",
        " \n",
        "Where:\n",
        "\n",
        "$IQR(x)$ (Interquartile Range) $= Q3 - Q1$"
      ]
    },
    {
      "cell_type": "markdown",
      "metadata": {},
      "source": [
        "### Class Imbalance"
      ]
    },
    {
      "cell_type": "markdown",
      "metadata": {},
      "source": [
        "It's very important to check the distribution of the target variable before training any model. If there is a large class imbalance, the models could easily become biased towards the majority classes or get too little representation in the minority classes, particularly in precision and recall.\n",
        "\n",
        "To illustrate this mathematically, we would calculate the relative frequency of each class: \n",
        "\n",
        "$$\n",
        "P(y = c_i) = \\frac{\\text{Number of samples in class} c_i}{\\text{Total number of samples}}\n",
        "$$\n",
        "\n",
        "The probability distribution tells us if the dataset appears to be biased towards one or more of the classes. We actually used raw counts, but we will use normalized frequencies, so the analysis can remain interpretable regardless of the size of the dataset.\n",
        "\n",
        "To illustrate this, we have a bar chart that depicts this distribution. Bar charts provide an easier way to visualize distribution imbalance compared to tabular summaries or piecharts, especially if the discrepancies are smaller. At this stage of the analysis, we haven't undertaken any class balancing strategy; our goal is to diagnose whether there is any imbalance, and to give direction to the next step and consideration of resampling or adjusting class weights."
      ]
    },
    {
      "cell_type": "markdown",
      "metadata": {},
      "source": [
        "SMOTE is probably gonna be the best move in this case. We won't use methods like SMOTE NC since, as showed on EDA, we only have categorical variables and SMOTE NC is optimal for datasets with a wide mix of numerical and categorical variables. "
      ]
    },
    {
      "cell_type": "markdown",
      "metadata": {},
      "source": [
        "To address class imbalance:\n",
        "\n",
        "- For the baseline pipeline, we do not apply any resampling or class‐weight adjustments; we train on the raw class distribution to establish a control benchmark, allowing us to objectively measure the uplift provided by each subsequent imbalance mitigation strategy.\n",
        "\n",
        "- We apply SMOTE for models like SVMs, where generating synthetic examples helps improve decision boundaries.\n",
        "\n",
        "- For tree-based models, which are naturally more robust to imbalance, we do not apply SMOTE. Instead, we handle imbalance directly in the model by setting `class_weight='balanced'` when creating the classifier.\n",
        "\n",
        "- For Naive Bayes models, we avoid SMOTE and instead adjust class priors, as synthetic oversampling would violate their probabilistic assumptions.\n",
        "\n",
        "- For ensemble and stacking methods, the approach depends on the base models: SMOTE is applied if the base learners are sensitive to class imbalance, and class weighting is used otherwise.\n",
        "Thus, SMOTE is applied selectively through a function, and when not appropriate, imbalance is handled directly within the model definition.\n",
        "\n",
        "- For Feedforward Neural Networks (FNNs), we **will not apply SMOTE**, as it would unnecessarily increase training time on a large dataset. Instead, we address class imbalance by using a **weighted loss function** later in the pipeline. This will allows the model to account for class distribution during training without generating synthetic samples. Neural networks are very good at adjusting to sample-level importance when guided by loss weights during backpropagation. Their training dynamically adapts to these weights."
      ]
    },
    {
      "cell_type": "code",
      "execution_count": 58,
      "metadata": {},
      "outputs": [
        {
          "data": {
            "image/png": "[encoded data removed]",
            "text/plain": [
              "<Figure size 600x400 with 1 Axes>"
            ]
          },
          "metadata": {},
          "output_type": "display_data"
        },
        {
          "name": "stderr",
          "output_type": "stream",
          "text": [
            "/Users/juanalonso-allende/Desktop/ml-final-project/.venv/lib/python3.11/site-packages/sklearn/base.py:474: FutureWarning: `BaseEstimator._validate_data` is deprecated in 1.6 and will be removed in 1.7. Use `sklearn.utils.validation.validate_data` instead. This function becomes public and is part of the scikit-learn developer API.\n",
            "  warnings.warn(\n"
          ]
        },
        {
          "data": {
            "image/png": "[encoded data removed]",
            "text/plain": [
              "<Figure size 600x400 with 1 Axes>"
            ]
          },
          "metadata": {},
          "output_type": "display_data"
        },
        {
          "data": {
            "text/plain": [
              "'Successfully balanced classes via SMOTE. Started with a 0.02:1 ratio; now 1:1.'"
            ]
          },
          "execution_count": 58,
          "metadata": {},
          "output_type": "execute_result"
        }
      ],
      "source": [
        "supportVectorsMachine_pipeline.preprocessing.class_imbalance_obj.class_imbalance(plot=True)"
      ]
    },
    {
      "cell_type": "markdown",
      "metadata": {},
      "source": [
        "SMOTE was only applied to SVMs."
      ]
    },
    {
      "cell_type": "markdown",
      "metadata": {},
      "source": [
        "## !> Pipeline example\n",
        "Let us show an example of the pipeline divergence. We will create a divergence for the baseline pipeline. We will exempt it from being scaled. This specific example is not meant to be kept, but rather show the purpose of the corresponding functions."
      ]
    },
    {
      "cell_type": "code",
      "execution_count": 50,
      "metadata": {},
      "outputs": [],
      "source": [
        "baseline_pipeline = pipeline_manager.create_pipeline_divergence(category=\"baseline\", pipelineName=\"logistic\")"
      ]
    },
    {
      "cell_type": "code",
      "execution_count": null,
      "metadata": {},
      "outputs": [],
      "source": [
        "default_pipeline.dataset.X_train.describe()"
      ]
    },
    {
      "cell_type": "code",
      "execution_count": 52,
      "metadata": {},
      "outputs": [],
      "source": [
        "default_pipeline.preprocessing.scale_features(scaler=\"robust\",\n",
        "                                      columnsToScale=default_pipeline.dataset.X_train.select_dtypes(include=[\"number\"]).columns)"
      ]
    },
    {
      "cell_type": "code",
      "execution_count": null,
      "metadata": {},
      "outputs": [],
      "source": [
        "default_pipeline.dataset.X_train.describe()"
      ]
    },
    {
      "cell_type": "code",
      "execution_count": null,
      "metadata": {},
      "outputs": [],
      "source": [
        "default_pipeline.dataset.X_train.describe()"
      ]
    },
    {
      "cell_type": "code",
      "execution_count": null,
      "metadata": {},
      "outputs": [],
      "source": [
        "# This is not updated (as expected)\n",
        "baseline_pipeline.dataset.X_train.describe()"
      ]
    },
    {
      "cell_type": "markdown",
      "metadata": {},
      "source": [
        "<hr>"
      ]
    },
    {
      "cell_type": "markdown",
      "metadata": {},
      "source": [
        "# 4. FEATURE ANALYSIS"
      ]
    },
    {
      "cell_type": "markdown",
      "metadata": {},
      "source": [
        "Here we will take adjust the features that compose the learning inputs to our model. The correctness of this section is pivotal for proper learning by the model\n",
        "\n",
        "\n",
        "## FEATURE ENGINEERING\n",
        "- Domain-specific features\n",
        "- Binning\n",
        "- Interaction terms\n"
      ]
    },
    {
      "cell_type": "code",
      "execution_count": 57,
      "metadata": {},
      "outputs": [],
      "source": [
        "featuresToEncode = [\"Reboot\"]"
      ]
    },
    {
      "cell_type": "code",
      "execution_count": null,
      "metadata": {},
      "outputs": [],
      "source": [
        "encoded_maps_perPipeline = pipeline_manager.all_pipelines_execute(methodName=\"feature_analysis.feature_transformation.get_categorical_features_encoded\", verbose=True, features=featuresToEncode, encode_y=True)"
      ]
    },
    {
      "cell_type": "markdown",
      "metadata": {},
      "source": [
        "Lets visualize the results of the encoding..."
      ]
    },
    {
      "cell_type": "code",
      "execution_count": null,
      "metadata": {},
      "outputs": [],
      "source": [
        "default_pipeline.dataset.X_train"
      ]
    },
    {
      "cell_type": "code",
      "execution_count": null,
      "metadata": {},
      "outputs": [],
      "source": [
        "default_pipeline.dataset.y_train"
      ]
    },
    {
      "cell_type": "code",
      "execution_count": null,
      "metadata": {},
      "outputs": [],
      "source": [
        "baseline_pipeline.dataset.X_train"
      ]
    },
    {
      "cell_type": "code",
      "execution_count": null,
      "metadata": {},
      "outputs": [],
      "source": [
        "baseline_pipeline.dataset.y_train"
      ]
    },
    {
      "cell_type": "markdown",
      "metadata": {},
      "source": [
        "## FEATURE SELECTION\n",
        "- Analyze correlation and low-variances\n"
      ]
    },
    {
      "cell_type": "markdown",
      "metadata": {},
      "source": [
        "## Feature selection \n",
        "As explained before, we now proceed to carefully reduce the present high-dimensionality. High-dimensionality increases the chances of the model overfitting (capturing noise from irrelevant features; increasing variance and reducing bias), as well as introducing a significant computational overhead. We match this high-dimensionality with a highly filtering models_pipeline of feature selection.\n",
        "The most extensive cut comes given at the first level, with the mutual information threshold-based cut. This metric captures the level of uncertainity between the feature and the target variable (cnt). In marked contrast with pearson coefficeint (correlation), it is able to model non-linear and linea relationships altoghther. \n",
        "This feature-selectin models_pipeline is compromised of five (3 as of the final models_pipeline) cuts:\n",
        " - mutual information\n",
        " - low variance\n",
        " - multicolinearity analysis\n",
        " - PCA\n",
        " - Boruta and/or Lasso\n",
        "\n",
        "The different thresholds for each of this cuts have been altered over the different models_pipeline iterations. Specifically, in the bias-variance tradeoff (to be elaborated in further detail later), I increased all the thresholds in order to avoid por performance.\n",
        "\n",
        "#### Feature to target variable mutual information"
      ]
    },
    {
      "cell_type": "code",
      "execution_count": 63,
      "metadata": {},
      "outputs": [],
      "source": [
        "# models_pipeline.feature_analysis.feature_selection.manual_feature_selection.fit(type=\"MutualInformation\", threshold=.2, delete_features=True, plot=True)"
      ]
    },
    {
      "cell_type": "markdown",
      "metadata": {},
      "source": [
        "#### Eliminating low-variances features\n",
        "Features with low variances provide little new information for the model to learn from, thus they could introduce statistical noise. Due to this reason, they should be elimanted from the dataset. The reason why we don't focus on high-variance is because this symbolizes outliers, which have been dealt with before in data preporcesing.\n",
        "This function call eliminate low-variance (based on threshold) and all cosntant variables (regardless of threshold)"
      ]
    },
    {
      "cell_type": "markdown",
      "metadata": {},
      "source": [
        "We will start off this analysis eliminating univariate features (i.e: the featuers with constant values)"
      ]
    },
    {
      "cell_type": "code",
      "execution_count": 64,
      "metadata": {},
      "outputs": [],
      "source": [
        "# default_pipeline.feature_analysis.feature_selection.manual_feature_selection.fit(type=\"LowVariances\", \n",
        "#                                                                          threshold=0.5, \n",
        "#                                                                          delete_features=True, \n",
        "#                                                                          plot=True)"
      ]
    },
    {
      "cell_type": "markdown",
      "metadata": {},
      "source": [
        "As explained in scikit-learn's in (1.13.1 Feature selection)[https://scikit-learn.org/stable/modules/feature_selection.html], the variance threshold must be selected carefully. Too low may delete few variables, and too may be too restrictive, deleting more variables than it should."
      ]
    },
    {
      "cell_type": "markdown",
      "metadata": {},
      "source": [
        "#### Eliminating highly correlated feature \n",
        "Highly correlated variables (multicolinearity) are problem for models because they introduce a redundancy (features that contain significantly related similar information are not bringing much new insight into the model's input) to the model that can introduce significant variance. This is due to the fact that small changes in the data may make the coefficeints of the highly correlated variables **swing** more than it should\n",
        "\n",
        "A note on the shape of this heatmap: due to the high amount of features, and the redundancy to measure the correlation between features (where corr(A,B) = corr(B,A)) we set 'np.triu(np.ones_like(corr, dtype=bool))' in the utilities functions in order to show only new non-redudant correlations between features, thus the right triangle shape.\n",
        "Well, thats a lot to digest! We can see some solid red (high positive correlation) and medium-solid blue (some high negative correlation). \n",
        "Lets use a non-visual methodology to confirm our initial hypothesis. We will use variance inflaction factor (VIF) along with checking manually.\n",
        "A brief explanation on VIF. \n",
        "Formula: \n",
        "$$\n",
        "VIF_i = \\frac{1}{1 - R_i^2}\n",
        "$$\n",
        "You regress (i.e: do linear regression) on the ith feature as target variable, and all other features as predictors. You then compute the coefficient of determination as a way to measure how well the predictors fit the target variable. VIF values ranges from [1, inf], where lower bound signifies little multicolinearity (R^2 = 0), and upper bound occurs when R^2=1 (perfect multicolineairty). 5 is considered a standard threshold for VIF as it symbolized an 80% R^2.\n",
        "Once you ve obtained the results of VIF, you need to delete the variable with the highest VIF, and recompute VIF until there is no multicolinearity. For example, say there are three features that are 4 features, 3 of them being linear combinations of each other. You would delete the variables with VIF until there is no VIF (when only one of those linear combinations remains). You cant delete all n-1 variables where n are the amount of variables with exceeding (with respect to the chosen threshold), because you may be deleting one that has high VIF due to another feature.\n",
        "\n",
        "A relevant note on why one-hot-encoding must be done dropping the first one:\n",
        "If we were to not remove one of the labels of one hot encoding, you would be able to predict which level of the categorical variable based on all other ones (there is only degree of freedom for categories levels; they are a linear combination). You would essentially see inf VIF in that area and delete it in this section. \n",
        "The VIF has to be computed every time we delete a feature due to high multicolinearity. Lets do that"
      ]
    },
    {
      "cell_type": "code",
      "execution_count": 65,
      "metadata": {},
      "outputs": [],
      "source": [
        "#models_pipeline.feature_analysis.feature_selection.manual_feature_selection.fit(type=\"VIF\", threshold=10, delete_features=True, plot=False)"
      ]
    },
    {
      "cell_type": "markdown",
      "metadata": {},
      "source": [
        "### PCA\n",
        "PCA can still bring some more value to feature selection. It will take into account interaction effects by itself and find the principals that capture as much variance as we specify. Thus, its inclusion in the feature selection models_pipeline.\n",
        "It has been excldued due to underperformance."
      ]
    },
    {
      "cell_type": "code",
      "execution_count": 66,
      "metadata": {},
      "outputs": [],
      "source": [
        "#models_pipeline.feature_analysis.feature_selection.manual_feature_selection.fit(type=\"PCA\", threshold=.95, delete_features=False, plot=False)"
      ]
    },
    {
      "cell_type": "markdown",
      "metadata": {},
      "source": [
        "### 1.3 Automatic Feature Selection\n",
        "#### L1 regularization\n",
        "Because of L1 regularization being able to set weights 0, we can briefly train our logistic regression model with such regulartization and see which features it uses. The reason why it sets 0 to insignificant feature is because the objective function is not only the MSE but added a component of the wieght magnitude (which is trying to minimize)"
      ]
    },
    {
      "cell_type": "code",
      "execution_count": 67,
      "metadata": {},
      "outputs": [],
      "source": [
        "# excluded_features, predictive_features, coefficients = models_pipeline.feature_analysis.feature_selection.automatic_feature_selection.fit(type=\"L1\",\n",
        "#                                                                                                                                     max_iter=1000, \n",
        "#                                                                                                                                     print_results=True, delete_features=False)\n",
        "# excluded_features, len(excluded_features)"
      ]
    },
    {
      "cell_type": "markdown",
      "metadata": {},
      "source": [
        "#### BORUTA\n",
        "Boruta is a more powerful feature selection method (thus we use it as a reference for variable deletion). It is more powerful that L1 becuase it compares the importance of features to shuffled versions, ensuring robust feature selection\n"
      ]
    },
    {
      "cell_type": "code",
      "execution_count": 68,
      "metadata": {},
      "outputs": [],
      "source": [
        "# excluded_features, predictive_features = models_pipeline.feature_analysis.feature_selection.automatic_feature_selection.fit(type=\"Boruta\", max_iter=10, print_results=True, delete_features=False)\n",
        "# excluded_features, len(excluded_features)"
      ]
    },
    {
      "cell_type": "markdown",
      "metadata": {},
      "source": [
        "Awesome, lets move onto the actual modelling part!"
      ]
    },
    {
      "cell_type": "markdown",
      "metadata": {},
      "source": [
        "<hr>"
      ]
    },
    {
      "cell_type": "markdown",
      "metadata": {},
      "source": [
        "# MODELLING"
      ]
    },
    {
      "cell_type": "markdown",
      "metadata": {},
      "source": [
        "## Fitting the model"
      ]
    },
    {
      "cell_type": "markdown",
      "metadata": {},
      "source": [
        "QUESTIONS FOR THIS SECTION\n",
        "- Can the ROC curve be used for multiclass?\n",
        "- Can a unsupervised learning algorithm (e.g: KNN) be used for this problem even tough its nature is to be supervised?\n",
        "- Does val to train deltas are meaningful here?"
      ]
    },
    {
      "cell_type": "markdown",
      "metadata": {},
      "source": [
        "TO BE DONE FOR THIS SECTION\n",
        "- Multiple models as classifiers\n",
        "- Learn more about each alogrithms' paremters\n",
        "- Can KNN be used here?"
      ]
    },
    {
      "cell_type": "markdown",
      "metadata": {},
      "source": [
        "## Random Forest & Decision Trees\n",
        "Instead of the originally planned logistic regression, we will be using an ensembled model first: random forest (collection of week decision trees). This model is not only likely to outperform the original choice because its nature to handle multiclass better, but also does this several orders of magnitude faster. We will add its not ensembled version too, along with gradient boosted machine\n",
        "Note we are not using not-by-default multiclass classifiers (e.g: logistic regressions, svms)\n",
        "\n",
        "## Non-optimized fitting\n",
        "We first fit all these models with the default paramterers. This is done to constrat more starkly the difference between pre and post tuning."
      ]
    },
    {
      "cell_type": "code",
      "execution_count": 69,
      "metadata": {},
      "outputs": [],
      "source": [
        "# Ensembled models\n",
        "gradientBoostingModel = GradientBoostingClassifier()\n",
        "randomForestModel = RandomForestClassifier()\n",
        "\n",
        "# Tree-based models\n",
        "decisionTreeModel = DecisionTreeClassifier()\n",
        "\n",
        "# Linear models\n",
        "supportVectorModel = SVC()\n",
        "\n",
        "# Baseline\n",
        "logisticRegressionModel = LogisticRegression()"
      ]
    },
    {
      "cell_type": "markdown",
      "metadata": {},
      "source": [
        "#### MODEL PERFORMANCE, HYPOTHESIS\n",
        "- Trees (e.g: random forest, decision trees):\n",
        "  - Time to fit:\n",
        "    - Ensemble models (random forest) take more time to train due to the fact that they are larger and heavier than their non-ensembled version. \n",
        "  - Correctness:\n",
        "     - High\n",
        "- Binary-classifiers by default models (e.g: SMV, logistic regression)\n",
        "  - Time to fit:\n",
        "    - compute C models for all C number of classes. Each trained to detect a single class, then when we make predictions, we select the ones that has the highest probability in its predictions (\"the most confident in its prediction\"). This strategy is called One-vs-Rest, note however, a single logistic regression may be used if we used the softmax objective function (instead of log-odds) (it still heavy computationally, tough). They will be sloder than ensemble models\n",
        "  - Correctness:\n",
        "     - Very low if the problem is non-linear which it is for the SVM and logistic regression"
      ]
    },
    {
      "cell_type": "code",
      "execution_count": null,
      "metadata": {},
      "outputs": [],
      "source": [
        "pipeline_manager.pipelines"
      ]
    },
    {
      "cell_type": "markdown",
      "metadata": {},
      "source": [
        "Pipelines always need to diverge from training onwards. Otherwise they will have each other results (which does not follow the isolation pattern we have programmed this with)"
      ]
    },
    {
      "cell_type": "code",
      "execution_count": 71,
      "metadata": {},
      "outputs": [],
      "source": [
        "ensembled_pipeline = pipeline_manager.create_pipeline_divergence(category=\"models\", pipelineName=\"ensembled\")\n",
        "linear_pipeline = pipeline_manager.create_pipeline_divergence(category=\"models\", pipelineName=\"linear\")"
      ]
    },
    {
      "cell_type": "code",
      "execution_count": null,
      "metadata": {},
      "outputs": [],
      "source": [
        "pipeline_manager.pipelines"
      ]
    },
    {
      "cell_type": "code",
      "execution_count": 73,
      "metadata": {},
      "outputs": [],
      "source": [
        "# Ensembled models\n",
        "ensembled_pipeline.model_selection.add_model(\"Gradient Boosting\", gradientBoostingModel)\n",
        "ensembled_pipeline.model_selection.add_model(\"Random Forest\", randomForestModel)\n",
        "\n",
        "# Tree-based models\n",
        "tree_pipeline.model_selection.add_model(\"Decision Tree\", decisionTreeModel)\n",
        "\n",
        "# Linear models\n",
        "linear_pipeline.model_selection.add_model(\"SVM\", supportVectorModel) \n",
        "\n",
        "# Baseline\n",
        "baseline_pipeline.model_selection.add_model(\"Logistic Regression\", logisticRegressionModel)\n"
      ]
    },
    {
      "cell_type": "markdown",
      "metadata": {},
      "source": [
        "While we debug, lets exlclude some models we dont need for now (they are very slow to train)"
      ]
    },
    {
      "cell_type": "code",
      "execution_count": 74,
      "metadata": {},
      "outputs": [],
      "source": [
        "# Ensembled models\n",
        "ensembled_pipeline.model_selection.models_to_exclude = [\"Gradient Boosting\"]\n",
        "\n",
        "# Tree-based models\n",
        "tree_pipeline.model_selection.models_to_exclude = []\n",
        "\n",
        "# Linear models\n",
        "linear_pipeline.model_selection.models_to_exclude = [\"SVM\"]\n",
        "\n",
        "# Baseline\n",
        "baseline_pipeline.model_selection.models_to_exclude = [\"Logistic Regression\"]\n"
      ]
    },
    {
      "cell_type": "code",
      "execution_count": null,
      "metadata": {},
      "outputs": [],
      "source": [
        "pipeline_manager.all_pipelines_execute(methodName=\"model_selection.fit_models\", current_phase=\"pre\")"
      ]
    },
    {
      "cell_type": "markdown",
      "metadata": {},
      "source": [
        "Let's make sure the predictions vary between holdout sets"
      ]
    },
    {
      "cell_type": "markdown",
      "metadata": {},
      "source": [
        "<i> the aforeshown diagram was originally done with the sole intention to debug an error that made predictions be the same across sets. Insights may not be much meaningful after correctio, but it is worth keeping until the end of the notebook development </i>\n",
        "\n",
        "### PREDICTIONS RESULTS \n",
        "Before we get into the actual results, lets elaborate briefly on all the metrics that we are using to asses our classifiers:\n",
        "\n",
        "- Accuracy => total correctly predicted elemetnts (sigma over the moments we predicted x_i and it was actually x_i / number_of_samples)\n",
        "$$\n",
        "\\text{Accuracy} = \\frac{\\sum_{i} \\mathbf{1}(\\hat{y}_i = y_i)}{N}\n",
        "$$\n",
        "- Precision => out of how many predicted for that class were actually from that class (predicted for class x when it was x/ predicted for class x when it was x + predicted for class x when it was NOT x)\n",
        "$$\n",
        "\\text{Precision}_x = \\frac{\\text{TP}_x}{\\text{TP}_x + \\text{FP}_x}\n",
        "$$\n",
        "- Recall => out of all cases that were positive how many got predicted correctly?\n",
        "$$\n",
        "\\text{Recall}_x = \\frac{\\text{TP}_x}{\\text{TP}_x + \\text{FN}_x}\n",
        "$$\n",
        "- F1-score => harmonic mean of precision and recall (balances both metrics, heavily penalize spreadness between ratios that are being averaged out)\n",
        "$$\n",
        "\\text{F1}_x = 2 \\times \\frac{\\text{Precision}_x \\times \\text{Recall}_x}{\\text{Precision}_x + \\text{Recall}_x}\n",
        "$$\n",
        "- Support => number of actual occurences of class in the dataset\n",
        "- macro avg => averages given metric across all classes\n",
        "$$\n",
        "\\text{Macro Avg} = \\frac{1}{C} \\sum_{i=1}^{C} M_i\n",
        "$$\n",
        "- weighted avg => averages with weights per class occurence (considers frequency of class in average computation)\n",
        "$$\n",
        "\\text{Weighted Avg} = \\sum_{i=1}^{C} \\frac{\\text{Support}_i}{\\text{Total Instances}} \\times M_i\n",
        "$$"
      ]
    },
    {
      "cell_type": "code",
      "execution_count": 76,
      "metadata": {},
      "outputs": [],
      "source": [
        "comments = \"wiLL THIS work?\""
      ]
    },
    {
      "cell_type": "code",
      "execution_count": null,
      "metadata": {},
      "outputs": [],
      "source": [
        "model_results = pipeline_manager.all_pipelines_execute(methodName=\"model_selection.evaluate_models\", comments=comments, current_phase=\"pre\")"
      ]
    },
    {
      "cell_type": "markdown",
      "metadata": {},
      "source": [
        "## Performance Evaluation (pre-tuning)\n",
        "Below are shown all the metrics we can compare our plots to:"
      ]
    },
    {
      "cell_type": "code",
      "execution_count": null,
      "metadata": {},
      "outputs": [],
      "source": [
        "model_results[\"models\"][\"ensembled\"].columns"
      ]
    },
    {
      "cell_type": "code",
      "execution_count": null,
      "metadata": {},
      "outputs": [],
      "source": [
        "pipeline_manager.pipelines_analysis.plot_results_metrics(\n",
        "                                                         metrics=[\"accuracy_val\", \"precision_val\", \"recall_val\", \"f1-score_val\", \"timeToFit\", \"timeToPredict\"], \n",
        "                                                         phase=\"pre\")"
      ]
    },
    {
      "cell_type": "markdown",
      "metadata": {},
      "source": [
        "## Feature importances (pre-tuning)"
      ]
    },
    {
      "cell_type": "code",
      "execution_count": null,
      "metadata": {},
      "outputs": [],
      "source": [
        "importances_dfs = pipeline_manager.pipelines_analysis.pot_feature_importance(phase=\"pre\")\n",
        "importances_dfs"
      ]
    },
    {
      "cell_type": "markdown",
      "metadata": {},
      "source": [
        "## Residual analysis (pre-tuning)\n",
        "Gotta add the mappers naming to the plot\n",
        "\n",
        "\n",
        "This contains the confusion matrices (weighted and not weighted). \n",
        "It also returns the specific elements that were erroneously classified and does cluster analysis"
      ]
    },
    {
      "cell_type": "markdown",
      "metadata": {},
      "source": [
        "### Confusion Matrix"
      ]
    },
    {
      "cell_type": "code",
      "execution_count": null,
      "metadata": {},
      "outputs": [],
      "source": [
        "pipeline_manager.pipelines_analysis.plot_confusion_matrix(phase=\"pre\")"
      ]
    },
    {
      "cell_type": "markdown",
      "metadata": {},
      "source": [
        "PLOTS:\n",
        "- Early signs of overfitting\n",
        "- Plot errors "
      ]
    },
    {
      "cell_type": "markdown",
      "metadata": {},
      "source": [
        "# Hyperparameter Optimization"
      ]
    }
  ],
  "metadata": {
    "colab": {
      "collapsed_sections": [
        "28_glozSPDm7",
        "LDW_CStuioNs",
        "Uv7LWIIU5X5i",
        "eaHsU58AdvlN",
        "vtG27WXGd3_R",
        "vR3xQcHnLUsk",
        "tJI5MrERTBNz",
        "VDydAnW3alRu",
        "Pi1pwj-9q_v5"
      ],
      "provenance": []
    },
    "kernelspec": {
      "display_name": ".venv",
      "language": "python",
      "name": "python3"
    },
    "language_info": {
      "codemirror_mode": {
        "name": "ipython",
        "version": 3
      },
      "file_extension": ".py",
      "mimetype": "text/x-python",
      "name": "python",
      "nbconvert_exporter": "python",
      "pygments_lexer": "ipython3",
      "version": "3.11.5"
    }
  },
  "nbformat": 4,
  "nbformat_minor": 0
}
