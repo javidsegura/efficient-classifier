{
  "cells": [
    {
      "cell_type": "markdown",
      "metadata": {},
      "source": [
        "<h1> DYNAMIC MALWARE CLASSIFICATION</h1>"
      ]
    },
    {
      "cell_type": "markdown",
      "metadata": {},
      "source": [
        "Supervised, classification, multi-class"
      ]
    },
    {
      "cell_type": "markdown",
      "metadata": {},
      "source": [
        "### CONTENT INDEX\n",
        "\n",
        "1. SET-UP\n",
        "  - Report\n",
        "2. EDA\n",
        "  - Data types\n",
        "  - Descriptive statistics\n",
        "    - Plots, summary statistics \n",
        "  - Relationships between variables \n",
        "  - other...\n",
        "  - Conclusion \n",
        "3. DATA SPLITTING\n",
        "\t- Encoding\n",
        "4. Data preprocessing\n",
        "\t- Feature scaling\n",
        "\t- Duplicate data anlayis\n",
        "  - Missing data analysis\n",
        "  - Outlier detection analysis\n",
        "  - Data imputing\n",
        "  - Class imbalance\n",
        "5. FEATURE ANALYSIS\n",
        "  - Feature engineering\n",
        "  - Feature selection\n",
        "6. MODELLING\n",
        "  - Non-optimized training\n",
        "  - Optimized training\n",
        "  - Conclusions mkdelling "
      ]
    },
    {
      "cell_type": "markdown",
      "metadata": {
        "id": "szqv1Y9Edzc5"
      },
      "source": [
        "# 0. Basic Set-Up and General info"
      ]
    },
    {
      "cell_type": "markdown",
      "metadata": {},
      "source": [
        "Note: there are a lot of non-used imports (to be removed at the end)"
      ]
    },
    {
      "cell_type": "code",
      "execution_count": 18,
      "metadata": {},
      "outputs": [],
      "source": [
        "from collections import defaultdict\n",
        "import math\n",
        "import time\n",
        "\n",
        "import pandas as pd\n",
        "import numpy as np\n",
        "import matplotlib.pyplot as plt\n",
        "from matplotlib.ticker import MultipleLocator\n",
        "import seaborn as sns\n",
        "from scipy import stats"
      ]
    },
    {
      "cell_type": "code",
      "execution_count": 4,
      "metadata": {},
      "outputs": [],
      "source": [
        "from utilities_functions import *"
      ]
    },
    {
      "cell_type": "markdown",
      "metadata": {},
      "source": [
        "If u make a change to utilities_function u may need to restart the kernel to use the latest versions. This is too tedious. There must be another way."
      ]
    },
    {
      "cell_type": "code",
      "execution_count": 3,
      "metadata": {},
      "outputs": [],
      "source": [
        "from sklearn.feature_selection import f_classif\n",
        "from sklearn.preprocessing import LabelEncoder\n",
        "from sklearn.model_selection import train_test_split\n",
        "from sklearn.preprocessing import LabelEncoder\n",
        "from sklearn.tree import DecisionTreeClassifier\n",
        "from sklearn.linear_model import LogisticRegression, SGDClassifier\n",
        "from sklearn.ensemble import (RandomForestClassifier, AdaBoostClassifier,\n",
        "                              BaggingClassifier)\n",
        "from sklearn.neighbors import KNeighborsClassifier\n",
        "from sklearn.model_selection import StratifiedKFold\n",
        "from sklearn.metrics import accuracy_score, classification_report, confusion_matrix, f1_score\n",
        "from sklearn.impute import KNNImputer\n",
        "from sklearn.preprocessing import StandardScaler, MinMaxScaler\n",
        "from sklearn.linear_model import LogisticRegression\n",
        "from sklearn.ensemble import RandomForestClassifier\n",
        "from sklearn.linear_model import LogisticRegression\n",
        "from sklearn.model_selection import train_test_split\n",
        "from sklearn.svm import SVC\n",
        "from sklearn.metrics import accuracy_score\n",
        "from sklearn.metrics import roc_curve\n",
        "from sklearn.metrics import roc_auc_score\n",
        "from sklearn.metrics import confusion_matrix\n",
        "from sklearn.model_selection import GridSearchCV\n",
        "\n",
        "from statsmodels.stats.outliers_influence import variance_inflation_factor\n"
      ]
    },
    {
      "cell_type": "code",
      "execution_count": 5,
      "metadata": {},
      "outputs": [],
      "source": [
        "from imblearn.over_sampling import SMOTENC\n",
        "from boruta import BorutaPy\n",
        "from statsmodels.stats.outliers_influence import variance_inflation_factor"
      ]
    },
    {
      "cell_type": "markdown",
      "metadata": {},
      "source": [
        "## Documentation Standarization\n",
        "Follow the following guidelines to make sure our document is consistent and easier to undestand\n",
        "- All constant should be writte in full capitall letters (e.g: MY_CONSTANT). Notebook-level constants should be written in the cell assigned to it (see below)\n",
        "- Every new major section (EDA, Feature engineering) should be written with '# My title'#\n",
        "- Subsequent sections should use '##', '###' or '####' hierarchacically\n",
        "- At the beginning of each major section write a content index with the content included in that section (see 'feature engineering' section as an example)\n",
        "- Please write paragraphs before and after each cell explain what u are about to do and the conclusions, correspondingly. Do not assume they are too obvious.\n",
        "- Avoid excessive ChatGPT-originated comments\n",
        "- Avoid writing more than 20 lines per code cell (exceptions for subroutines, which should be written in utilitied_functions.py)\n",
        "- Ideally, add a \"Questions\" and \"Things to be done\" section in each major sections where u write about futher iterations u want to do (while sharing in with the rest)\n"
      ]
    },
    {
      "cell_type": "markdown",
      "metadata": {},
      "source": [
        "## Set-up"
      ]
    },
    {
      "cell_type": "code",
      "execution_count": 2,
      "metadata": {},
      "outputs": [],
      "source": [
        "file_path =\"./dataset/dynamic_dataset.csv\"\n",
        "df = pd.read_csv(file_path)"
      ]
    },
    {
      "cell_type": "code",
      "execution_count": 14,
      "metadata": {
        "colab": {
          "base_uri": "https://localhost:8080/",
          "height": 256
        },
        "id": "F0L2m8yFXhJ9",
        "outputId": "c94d1d43-6998-486d-d0ea-8b643d64efa6"
      },
      "outputs": [
        {
          "data": {
            "text/html": [
              "<div>\n",
              "<style scoped>\n",
              "    .dataframe tbody tr th:only-of-type {\n",
              "        vertical-align: middle;\n",
              "    }\n",
              "\n",
              "    .dataframe tbody tr th {\n",
              "        vertical-align: top;\n",
              "    }\n",
              "\n",
              "    .dataframe thead th {\n",
              "        text-align: right;\n",
              "    }\n",
              "</style>\n",
              "<table border=\"1\" class=\"dataframe\">\n",
              "  <thead>\n",
              "    <tr style=\"text-align: right;\">\n",
              "      <th></th>\n",
              "      <th>Memory_PssTotal</th>\n",
              "      <th>Memory_PssClean</th>\n",
              "      <th>Memory_SharedDirty</th>\n",
              "      <th>Memory_PrivateDirty</th>\n",
              "      <th>Memory_SharedClean</th>\n",
              "      <th>Memory_PrivateClean</th>\n",
              "      <th>Memory_SwapPssDirty</th>\n",
              "      <th>Memory_HeapSize</th>\n",
              "      <th>Memory_HeapAlloc</th>\n",
              "      <th>Memory_HeapFree</th>\n",
              "      <th>...</th>\n",
              "      <th>Logcat_info</th>\n",
              "      <th>Logcat_error</th>\n",
              "      <th>Logcat_warning</th>\n",
              "      <th>Logcat_debug</th>\n",
              "      <th>Logcat_verbose</th>\n",
              "      <th>Logcat_total</th>\n",
              "      <th>Process_total</th>\n",
              "      <th>Hash</th>\n",
              "      <th>Category</th>\n",
              "      <th>Reboot</th>\n",
              "    </tr>\n",
              "  </thead>\n",
              "  <tbody>\n",
              "    <tr>\n",
              "      <th>0</th>\n",
              "      <td>31053</td>\n",
              "      <td>2448</td>\n",
              "      <td>14044</td>\n",
              "      <td>23472</td>\n",
              "      <td>74824</td>\n",
              "      <td>2452</td>\n",
              "      <td>0</td>\n",
              "      <td>8919</td>\n",
              "      <td>4786</td>\n",
              "      <td>4132</td>\n",
              "      <td>...</td>\n",
              "      <td>2399</td>\n",
              "      <td>1635</td>\n",
              "      <td>2351</td>\n",
              "      <td>3285</td>\n",
              "      <td>1551</td>\n",
              "      <td>11221</td>\n",
              "      <td>193</td>\n",
              "      <td>f460abb8f2e4e3fb689966ddaea6d6babbd1738bb691c7...</td>\n",
              "      <td>Trojan_SMS</td>\n",
              "      <td>before</td>\n",
              "    </tr>\n",
              "    <tr>\n",
              "      <th>1</th>\n",
              "      <td>107787</td>\n",
              "      <td>21976</td>\n",
              "      <td>11852</td>\n",
              "      <td>74548</td>\n",
              "      <td>69052</td>\n",
              "      <td>23152</td>\n",
              "      <td>0</td>\n",
              "      <td>25341</td>\n",
              "      <td>20965</td>\n",
              "      <td>4375</td>\n",
              "      <td>...</td>\n",
              "      <td>2226</td>\n",
              "      <td>1816</td>\n",
              "      <td>826</td>\n",
              "      <td>1544</td>\n",
              "      <td>2045</td>\n",
              "      <td>8457</td>\n",
              "      <td>189</td>\n",
              "      <td>556c238536d837007e647543eaf3ea95ae9aaf1c1a52d0...</td>\n",
              "      <td>Trojan_SMS</td>\n",
              "      <td>before</td>\n",
              "    </tr>\n",
              "    <tr>\n",
              "      <th>2</th>\n",
              "      <td>86584</td>\n",
              "      <td>18460</td>\n",
              "      <td>12284</td>\n",
              "      <td>59992</td>\n",
              "      <td>91548</td>\n",
              "      <td>19376</td>\n",
              "      <td>0</td>\n",
              "      <td>24500</td>\n",
              "      <td>21378</td>\n",
              "      <td>3121</td>\n",
              "      <td>...</td>\n",
              "      <td>746</td>\n",
              "      <td>2244</td>\n",
              "      <td>3406</td>\n",
              "      <td>1565</td>\n",
              "      <td>2819</td>\n",
              "      <td>10780</td>\n",
              "      <td>195</td>\n",
              "      <td>398322f94b5bfa2a9e7b3756a4cf409764595003280c48...</td>\n",
              "      <td>Trojan_SMS</td>\n",
              "      <td>before</td>\n",
              "    </tr>\n",
              "    <tr>\n",
              "      <th>3</th>\n",
              "      <td>41248</td>\n",
              "      <td>924</td>\n",
              "      <td>10328</td>\n",
              "      <td>36280</td>\n",
              "      <td>55768</td>\n",
              "      <td>928</td>\n",
              "      <td>0</td>\n",
              "      <td>10082</td>\n",
              "      <td>7281</td>\n",
              "      <td>2800</td>\n",
              "      <td>...</td>\n",
              "      <td>1937</td>\n",
              "      <td>974</td>\n",
              "      <td>4134</td>\n",
              "      <td>3138</td>\n",
              "      <td>1556</td>\n",
              "      <td>11739</td>\n",
              "      <td>191</td>\n",
              "      <td>4a9c14872b2c66165599a969a1a8654bb6887d7a18ab6d...</td>\n",
              "      <td>Trojan_SMS</td>\n",
              "      <td>before</td>\n",
              "    </tr>\n",
              "    <tr>\n",
              "      <th>4</th>\n",
              "      <td>38621</td>\n",
              "      <td>5080</td>\n",
              "      <td>12392</td>\n",
              "      <td>27388</td>\n",
              "      <td>71048</td>\n",
              "      <td>5088</td>\n",
              "      <td>0</td>\n",
              "      <td>9077</td>\n",
              "      <td>5750</td>\n",
              "      <td>3326</td>\n",
              "      <td>...</td>\n",
              "      <td>1510</td>\n",
              "      <td>936</td>\n",
              "      <td>2298</td>\n",
              "      <td>3752</td>\n",
              "      <td>1992</td>\n",
              "      <td>10488</td>\n",
              "      <td>188</td>\n",
              "      <td>6b37b9b9c170727f706b69731e64da4bbca2638b4237a7...</td>\n",
              "      <td>Trojan_SMS</td>\n",
              "      <td>before</td>\n",
              "    </tr>\n",
              "  </tbody>\n",
              "</table>\n",
              "<p>5 rows × 144 columns</p>\n",
              "</div>"
            ],
            "text/plain": [
              "   Memory_PssTotal  Memory_PssClean  Memory_SharedDirty  Memory_PrivateDirty  \\\n",
              "0            31053             2448               14044                23472   \n",
              "1           107787            21976               11852                74548   \n",
              "2            86584            18460               12284                59992   \n",
              "3            41248              924               10328                36280   \n",
              "4            38621             5080               12392                27388   \n",
              "\n",
              "   Memory_SharedClean  Memory_PrivateClean  Memory_SwapPssDirty  \\\n",
              "0               74824                 2452                    0   \n",
              "1               69052                23152                    0   \n",
              "2               91548                19376                    0   \n",
              "3               55768                  928                    0   \n",
              "4               71048                 5088                    0   \n",
              "\n",
              "   Memory_HeapSize  Memory_HeapAlloc  Memory_HeapFree  ...  Logcat_info  \\\n",
              "0             8919              4786             4132  ...         2399   \n",
              "1            25341             20965             4375  ...         2226   \n",
              "2            24500             21378             3121  ...          746   \n",
              "3            10082              7281             2800  ...         1937   \n",
              "4             9077              5750             3326  ...         1510   \n",
              "\n",
              "   Logcat_error  Logcat_warning  Logcat_debug  Logcat_verbose  Logcat_total  \\\n",
              "0          1635            2351          3285            1551         11221   \n",
              "1          1816             826          1544            2045          8457   \n",
              "2          2244            3406          1565            2819         10780   \n",
              "3           974            4134          3138            1556         11739   \n",
              "4           936            2298          3752            1992         10488   \n",
              "\n",
              "   Process_total                                               Hash  \\\n",
              "0            193  f460abb8f2e4e3fb689966ddaea6d6babbd1738bb691c7...   \n",
              "1            189  556c238536d837007e647543eaf3ea95ae9aaf1c1a52d0...   \n",
              "2            195  398322f94b5bfa2a9e7b3756a4cf409764595003280c48...   \n",
              "3            191  4a9c14872b2c66165599a969a1a8654bb6887d7a18ab6d...   \n",
              "4            188  6b37b9b9c170727f706b69731e64da4bbca2638b4237a7...   \n",
              "\n",
              "     Category  Reboot  \n",
              "0  Trojan_SMS  before  \n",
              "1  Trojan_SMS  before  \n",
              "2  Trojan_SMS  before  \n",
              "3  Trojan_SMS  before  \n",
              "4  Trojan_SMS  before  \n",
              "\n",
              "[5 rows x 144 columns]"
            ]
          },
          "execution_count": 14,
          "metadata": {},
          "output_type": "execute_result"
        }
      ],
      "source": [
        "df.head()"
      ]
    },
    {
      "cell_type": "code",
      "execution_count": 13,
      "metadata": {},
      "outputs": [],
      "source": [
        "df.rename(columns={\"reboot\": \"Reboot\"}, inplace=True) # consistency with other features' names\n",
        "df.drop(columns=[\"Family\"], inplace=True) # We have decided to use only category as target variable"
      ]
    },
    {
      "cell_type": "code",
      "execution_count": null,
      "metadata": {
        "colab": {
          "base_uri": "https://localhost:8080/"
        },
        "id": "0TspwPmuXrwg",
        "outputId": "ba126ff5-a264-4606-8b04-9716dc7a0ddf"
      },
      "outputs": [],
      "source": [
        "print(f\"Dataset contains {df.shape[0]} rows and {df.shape[1]} columns.\")\n",
        "print(\"\\nColumn Names:\")\n",
        "print(df.columns.tolist())\n",
        "print(\"\\nData Types:\")\n",
        "print(df.dtypes.value_counts())"
      ]
    },
    {
      "cell_type": "markdown",
      "metadata": {},
      "source": [
        "### Notebook-level constants"
      ]
    },
    {
      "cell_type": "code",
      "execution_count": 7,
      "metadata": {},
      "outputs": [],
      "source": [
        "RANDOM_STATE = 99\n",
        "ONLY_NUMERICAL_COLUMNS = df.select_dtypes(include='number')"
      ]
    },
    {
      "cell_type": "markdown",
      "metadata": {},
      "source": [
        "### Description of our features"
      ]
    },
    {
      "cell_type": "markdown",
      "metadata": {},
      "source": [
        "For each of our entries in the dataset we have a feature describing the state of the (operating) system under which the malware was running. Here is an intial description for each of them.\n",
        "Please access this document for a complete problem context description: https://docs.google.com/document/d/1yH9gvnJVSH9GLv9ATQ5JQWA2z8Jy4umxxRfMF-y2fiU/edit?usp=sharing"
      ]
    },
    {
      "cell_type": "markdown",
      "metadata": {},
      "source": [
        "# 1. EDA"
      ]
    },
    {
      "cell_type": "markdown",
      "metadata": {},
      "source": [
        "In this section, we conduct an Exploratory Data Analysis (EDA) on the dynamic malware dataset to gain initial insights into the structure, distribution, and quality of the data prior to modeling. The dataset includes behavioral features extracted from Android applications, along with labels indicating their respective malware categories. Understanding the composition of the dataset, such as class imbalance, feature correlations, and the presence of outliers, is crucial to ensure robust preprocessing, informed feature engineering, and  the success of machine learning classifiers.\n"
      ]
    },
    {
      "cell_type": "markdown",
      "metadata": {},
      "source": [
        "### SUGGESTIONS FOR IMPROVEMENTS\n",
        "- Cluster analysis"
      ]
    },
    {
      "cell_type": "markdown",
      "metadata": {},
      "source": [
        "## Data Type Distribution"
      ]
    },
    {
      "cell_type": "code",
      "execution_count": null,
      "metadata": {},
      "outputs": [],
      "source": [
        "# Get the data type distribution\n",
        "dtype_counts = df.dtypes.value_counts()\n",
        "dtype_counts"
      ]
    },
    {
      "cell_type": "markdown",
      "metadata": {},
      "source": [
        "We can see that most columns are numerical. Lets gets to see which are the variables that are of type object."
      ]
    },
    {
      "cell_type": "code",
      "execution_count": null,
      "metadata": {},
      "outputs": [],
      "source": [
        "df_onlyCols = df.select_dtypes(include=[\"object\"]).columns\n",
        "df_onlyCols"
      ]
    },
    {
      "cell_type": "markdown",
      "metadata": {},
      "source": [
        "## Summary Statistics Overview"
      ]
    },
    {
      "cell_type": "markdown",
      "metadata": {
        "id": "28_glozSPDm7"
      },
      "source": [
        "## Histograms\n"
      ]
    },
    {
      "cell_type": "code",
      "execution_count": null,
      "metadata": {
        "colab": {
          "base_uri": "https://localhost:8080/",
          "height": 1000
        },
        "id": "WVSB5cgoYRDr",
        "outputId": "6da84feb-1032-4185-b3e6-de73e05279df"
      },
      "outputs": [],
      "source": [
        "# Select only numerical features\n",
        "numerical_cols = df.select_dtypes(include=[np.number]).columns\n",
        "\n",
        "# Define number of rows and columns for subplots\n",
        "num_features = len(numerical_cols)\n",
        "cols = 4  # Number of columns per row\n",
        "rows = math.ceil(num_features / cols)  # Calculate required rows\n",
        "\n",
        "# Create subplots\n",
        "fig, axes = plt.subplots(rows, cols, figsize=(16, rows * 4))\n",
        "axes = axes.flatten()  # Flatten to easily iterate\n",
        "\n",
        "# Plot histograms\n",
        "for i, col in enumerate(numerical_cols):\n",
        "    sns.histplot(df[col], bins=30, kde=True, ax=axes[i])  # kde=True for smooth curve\n",
        "    axes[i].set_title(col)\n",
        "\n",
        "# Remove empty subplots\n",
        "for i in range(num_features, len(axes)):\n",
        "    fig.delaxes(axes[i])\n",
        "\n",
        "plt.tight_layout()\n",
        "plt.show()"
      ]
    },
    {
      "cell_type": "markdown",
      "metadata": {},
      "source": [
        "We can see most distributions tend to be right-skewed and only a small portion follows a normal distribution. This right-skewness will be dealt in feature-engineering."
      ]
    },
    {
      "cell_type": "code",
      "execution_count": null,
      "metadata": {
        "colab": {
          "base_uri": "https://localhost:8080/",
          "height": 1000
        },
        "id": "YDO2OqktbPDN",
        "outputId": "59795112-1aaf-4e5d-99fb-999c1b58b662"
      },
      "outputs": [],
      "source": [
        "# Select only numerical features\n",
        "numerical_cols = df.select_dtypes(include=[np.number]).columns\n",
        "\n",
        "# Define number of rows and columns for subplots\n",
        "num_features = len(numerical_cols)\n",
        "cols = 4  # Number of columns per row\n",
        "rows = math.ceil(num_features / cols)  # Calculate required rows\n",
        "\n",
        "# Create subplots\n",
        "fig, axes = plt.subplots(rows, cols, figsize=(16, rows * 4))\n",
        "axes = axes.flatten()  # Flatten to easily iterate\n",
        "\n",
        "# Plot boxplots\n",
        "for i, col in enumerate(numerical_cols):\n",
        "    sns.boxplot(x=df[col], ax=axes[i])  # Boxplot for each feature\n",
        "    axes[i].set_title(col)\n",
        "\n",
        "# Remove empty subplots\n",
        "for i in range(num_features, len(axes)):\n",
        "    fig.delaxes(axes[i])\n",
        "\n",
        "plt.tight_layout()\n",
        "plt.show()"
      ]
    },
    {
      "cell_type": "markdown",
      "metadata": {
        "id": "LDW_CStuioNs"
      },
      "source": [
        "## Numerical Features"
      ]
    },
    {
      "cell_type": "markdown",
      "metadata": {
        "id": "EnC_-AYbitFA"
      },
      "source": [
        "Seemed to be grouped by prefixes: Memory, Network, Battery, Logcat, Process y API.\n",
        "\n",
        "According to dataset authors to capture how various malware families and categories behave at runtime, the analysis relies on six distinct sets of features obtained after executing each sample within a controlled emulated environment. These feature groups offer a comprehensive view of the malware's dynamic activity.\n",
        "\n",
        "This categories appear before the first _ in every feature label and are defined as:\n",
        "\n",
        "\n",
        "\"Memory: Memory features define activities performed by malware by utilizing memory.\n",
        "\n",
        "API: Application Programming Interface (API) features delineate the communication between two applications.\n",
        "\n",
        "Network: Network features describe the data transmitted and received between other devices in the network. It indicates foreground and background network usage.\n",
        "\n",
        "Battery: Battery features describe the access to battery wakelock and services by malware.\n",
        "\n",
        "Logcat: Logcat features write log messages corresponding to a function performed by malware.\n",
        "\n",
        "Process: Process features count the interaction of malware with total number of processes.\"\n",
        "\n"
      ]
    },
    {
      "cell_type": "code",
      "execution_count": null,
      "metadata": {
        "colab": {
          "base_uri": "https://localhost:8080/"
        },
        "id": "raKBvgK5ircs",
        "outputId": "6109fdf7-3a42-4496-a39b-f34bfe204c1b"
      },
      "outputs": [],
      "source": [
        "numeric_cols = df.select_dtypes(include='number').columns\n",
        "\n",
        "# Grouping based on the first prefix before \"_\"\n",
        "prefix_groups = defaultdict(list)\n",
        "\n",
        "for col in numeric_cols:\n",
        "    prefix = col.split(\"_\")[0]  # Get the first word before the underscore\n",
        "    prefix_groups[prefix].append(col)\n",
        "\n",
        "for prefix, columns in prefix_groups.items():\n",
        "    print(f\"\\n {prefix} ({len(columns)} features):\")\n",
        "    for col in columns:\n",
        "        print(f\"  - {col}\")"
      ]
    },
    {
      "cell_type": "markdown",
      "metadata": {
        "id": "Uv7LWIIU5X5i"
      },
      "source": [
        "## Categorical Features"
      ]
    },
    {
      "cell_type": "code",
      "execution_count": null,
      "metadata": {
        "colab": {
          "base_uri": "https://localhost:8080/",
          "height": 175
        },
        "id": "gA-v2L6x5ImZ",
        "outputId": "e7b19c28-c316-4b5a-eec7-90ee38c6dd0b"
      },
      "outputs": [],
      "source": [
        "#Statistical summary for categorical features\n",
        "df.describe(include=[\"object\", \"category\", \"bool\"])"
      ]
    },
    {
      "cell_type": "code",
      "execution_count": null,
      "metadata": {
        "colab": {
          "base_uri": "https://localhost:8080/"
        },
        "id": "qJbNriVFrRYE",
        "outputId": "2935f3d0-a88b-4bd4-8b98-f4c76a641092"
      },
      "outputs": [],
      "source": [
        "print(df[['Hash', 'Category', 'Family']].head())"
      ]
    },
    {
      "cell_type": "markdown",
      "metadata": {
        "id": "BBWBDyuc4q47"
      },
      "source": [
        "Hash: unique identifier that represents each malware sample. <<<>>>THIS IS PROBABLY WRONG<<<>>>\n",
        "\n",
        "Category: general classification of the malware sample based on its behavior.\n",
        "\n",
        "Family: more fine-grained grouping of malware based on its codebase or origin"
      ]
    },
    {
      "cell_type": "markdown",
      "metadata": {
        "id": "DC5leffBsW5W"
      },
      "source": [
        "For hash, it will first be checked if the same malware before and after reboot contains the same hash value."
      ]
    },
    {
      "cell_type": "code",
      "execution_count": null,
      "metadata": {
        "colab": {
          "base_uri": "https://localhost:8080/"
        },
        "id": "_ep2R1vwzRyy",
        "outputId": "3048de1d-c0cd-437d-9044-68a3ed1c3fc3"
      },
      "outputs": [],
      "source": [
        "# Count how many times each hash appears in 'before' and 'after'\n",
        "hash_reboot_counts = df.groupby(['Hash', 'reboot']).size().unstack(fill_value=0)\n",
        "\n",
        "# Hashes in both with exactly one in each\n",
        "hashes_with_one_each = hash_reboot_counts[\n",
        "    (hash_reboot_counts['before'] == 1) & (hash_reboot_counts['after'] == 1)\n",
        "].index\n",
        "\n",
        "# Hashes in both but with extra rows\n",
        "hashes_in_both_but_not_clean = hash_reboot_counts[\n",
        "    (hash_reboot_counts['before'] > 0) &\n",
        "    (hash_reboot_counts['after'] > 0) &\n",
        "    ~((hash_reboot_counts['before'] == 1) & (hash_reboot_counts['after'] == 1))\n",
        "].index\n",
        "\n",
        "# Total unique hashes\n",
        "total_unique_hashes = df['Hash'].nunique()\n",
        "\n",
        "# Hashes in only one reboot condition\n",
        "hashes_in_one_condition = hash_reboot_counts[\n",
        "    (hash_reboot_counts['before'] == 0) | (hash_reboot_counts['after'] == 0)\n",
        "]\n",
        "\n",
        "# Only once in one reboot condition\n",
        "only_once_in_one = hashes_in_one_condition[\n",
        "    (hashes_in_one_condition['before'] == 1) | (hashes_in_one_condition['after'] == 1)\n",
        "]\n",
        "\n",
        "# More than once in one reboot condition\n",
        "more_than_once_in_one = hashes_in_one_condition[\n",
        "    ((hashes_in_one_condition['before'] > 1) & (hashes_in_one_condition['after'] == 0)) |\n",
        "    ((hashes_in_one_condition['after'] > 1) & (hashes_in_one_condition['before'] == 0))\n",
        "]\n",
        "\n",
        "# Split those into counts\n",
        "more_than_once_in_before = more_than_once_in_one[more_than_once_in_one['before'] > 1]\n",
        "more_than_once_in_after = more_than_once_in_one[more_than_once_in_one['after'] > 1]\n",
        "\n",
        "# --- PRINT RESULTS ---\n",
        "print(f\"Hashes with EXACTLY one row in BOTH before and after: {len(hashes_with_one_each)}\")\n",
        "print(f\"Hashes in BOTH, BUT with extra rows: {len(hashes_in_both_but_not_clean)}\")\n",
        "\n",
        "print(f\"\\nHashes in ONLY ONE reboot condition:\")\n",
        "print(f\"• Appearing ONLY ONCE: {len(only_once_in_one)}\")\n",
        "print(f\"• Appearing MORE THAN ONCE: {len(more_than_once_in_one)}\")\n",
        "print(f\"   - More than once in BEFORE: {len(more_than_once_in_before)}\")\n",
        "print(f\"   - More than once in AFTER: {len(more_than_once_in_after)}\")\n",
        "\n",
        "print(f\"\\nTotal breakdown:\")\n",
        "print(f\"• In BOTH (any): {len(hashes_with_one_each) + len(hashes_in_both_but_not_clean)}\")\n",
        "print(f\"• In ONLY ONE reboot: {len(hashes_in_one_condition)}\")\n",
        "print(f\"• TOTAL unique hashes: {total_unique_hashes}\")\n"
      ]
    },
    {
      "cell_type": "markdown",
      "metadata": {
        "id": "i2IGnd2izsOY"
      },
      "source": [
        "A total of 19,169 hashes appear exactly once in both before and after conditions. These are highly reliable for paired  comparisons, ideal for understanding how reboot affects malware behavior.\n",
        "\n",
        "\n",
        "There are 158 hashes that appear in both reboot states but not exactly once in each. These extra instances may come from inconsistencies in data capture like multiple logs for the same sample and should be checked.\n",
        "\n",
        "A significant portion of samples appear only in one reboot condition. This is consistent with limitations described in the original dataset paper, where some malware samples failed to execute after the reboot. However, what is curious is that some still have been logged more than once.\n"
      ]
    },
    {
      "cell_type": "code",
      "execution_count": null,
      "metadata": {
        "colab": {
          "base_uri": "https://localhost:8080/",
          "height": 89
        },
        "id": "NzJxov9LLOGu",
        "outputId": "a0691e50-f676-4ef2-e150-166b1e96a5ff"
      },
      "outputs": [],
      "source": [
        "df = df.drop(columns=['Hash'])\n",
        "'''\n",
        "The Hash column is a high-cardinality feature, containing unique values for a high number of rows in the dataset.\n",
        "It serves as an identifier for each malware sample. Including this column in modeling\n",
        "would not only offer no predictive value but could also lead to overfitting or cause issues with algorithms that are\n",
        "sensitive to high-cardinality categorical features.\n",
        " <<<>>> J.N: may be better to focus the argumentation on ID not being useful rather than high-cardinality per se. Also write the \n",
        "  argumentation in a text cell not in this type of comments. <<<>>>\n",
        "'''"
      ]
    },
    {
      "cell_type": "markdown",
      "metadata": {
        "id": "1kZUupRE1vx5"
      },
      "source": [
        "This research will be using both Category and Family as the target variables for classification."
      ]
    },
    {
      "cell_type": "markdown",
      "metadata": {
        "id": "eaHsU58AdvlN"
      },
      "source": [
        "## Reboot Analysis"
      ]
    },
    {
      "cell_type": "code",
      "execution_count": null,
      "metadata": {
        "colab": {
          "base_uri": "https://localhost:8080/"
        },
        "id": "5ymeBe4fKdNi",
        "outputId": "ce478b18-ff6a-4720-f19c-e5ecabfbbbbb"
      },
      "outputs": [],
      "source": [
        "print(df[\"reboot\"].value_counts())"
      ]
    },
    {
      "cell_type": "markdown",
      "metadata": {
        "id": "BV8hkdL2SHVe"
      },
      "source": [
        "The imbalance observed in the dataset, with 28,380 samples collected before reboot and only 25,059 after reboot, is explained by limitations found during the dynamic analysis. The authors of the dataset note that \"there was no entry point in some Android malware samples and some Android malware samples stopped abruptly.\" This means that certain malware applications either failed to launch or terminated unexpectedly during execution, preventing the collection of dynamic behavior data, particularly after the reboot phase.\n",
        "\n",
        "Additionally, the study highlights another critical limitation: \"the dynamic analysis is performed in an emulator. Some malware samples are able to detect the emulated environment and are not executed.\" This behavior reflects common anti-analysis techniques used by sophisticated malware, which can detect when they are running in a sandbox or emulator and intentionally suspend their malicious actions.\n",
        "\n",
        "\n"
      ]
    },
    {
      "cell_type": "markdown",
      "metadata": {},
      "source": [
        "<<<>>>THIS ANALYSIS IS SUPER GOOD (you can delete this comment)<<<>>>"
      ]
    },
    {
      "cell_type": "markdown",
      "metadata": {
        "id": "YuIT6CKgeqcZ"
      },
      "source": [
        "The displayed features are the top 10  most affected by reboot showing a clear reboot-sensitive behavior."
      ]
    },
    {
      "cell_type": "code",
      "execution_count": null,
      "metadata": {
        "colab": {
          "base_uri": "https://localhost:8080/",
          "height": 627
        },
        "id": "i9p8S9woa19A",
        "outputId": "7c14fef2-103d-40a4-85e0-50c138fdb448"
      },
      "outputs": [],
      "source": [
        "#Category distribution across reboot\n",
        "plt.figure(figsize=(12, 6))\n",
        "sns.countplot(data=df, x='Category', hue='reboot')\n",
        "plt.title(\"Malware Categories by Reboot Condition\")\n",
        "plt.xticks(rotation=45)\n",
        "plt.tight_layout()\n",
        "plt.show()\n"
      ]
    },
    {
      "cell_type": "markdown",
      "metadata": {
        "id": "pWwaTM_JeoWk"
      },
      "source": [
        "To identify which numeric features are most influenced by the reboot condition, the dataset will be grouped by the reboot variable, separating entries collected before and after the device reboot. Within each group, the mean of every numeric feature will be computed, allowing for the comparison of average behavior across both states.\n",
        "\n",
        "A new column labeled 'diff' was then added, representing the difference between the mean values after and before the reboot for each feature. A positive value indicates that the feature increased after reboot, while a negative value shows it decreased."
      ]
    },
    {
      "cell_type": "code",
      "execution_count": null,
      "metadata": {
        "colab": {
          "base_uri": "https://localhost:8080/",
          "height": 363
        },
        "id": "jG1RQO7AcIWG",
        "outputId": "00489ed7-d243-4fae-d577-849381abbca2"
      },
      "outputs": [],
      "source": [
        "reboot_means = df.groupby('reboot').mean(numeric_only=True).T\n",
        "reboot_means['diff'] = reboot_means['after'] - reboot_means['before']\n",
        "reboot_means_sorted = reboot_means.sort_values(by='diff', ascending=False)\n",
        "\n",
        "reboot_means_sorted.head(10)"
      ]
    },
    {
      "cell_type": "markdown",
      "metadata": {
        "id": "-7cm_Z81fWqq"
      },
      "source": [
        "The results reveal that several features show clear shifts after reboot. Specially, network-related features such as Network_TotalReceivedBytes and Network_TotalTransmittedBytes demonstrate significant increases, suggesting that some malware types intensify data transmission once the device has rebooted. Memory features like Memory_SharedClean, Memory_HeapSize, and Memory_HeapAlloc also show increased values after reboot, indicating greater memory use or altered memory management after reboot.\n",
        "This shows that the reboot condition plays an important role in runtime behavior and should be treated as an important factor in exploratory analysis and modeling."
      ]
    },
    {
      "cell_type": "markdown",
      "metadata": {},
      "source": [
        "## Family"
      ]
    },
    {
      "cell_type": "code",
      "execution_count": null,
      "metadata": {},
      "outputs": [],
      "source": [
        "#How many categories each family belongs to\n",
        "df.groupby(\"Family\")[\"Category\"].nunique().sort_values(ascending=False)"
      ]
    },
    {
      "cell_type": "markdown",
      "metadata": {},
      "source": [
        "Almost every family is either unknown or unique\n"
      ]
    },
    {
      "cell_type": "code",
      "execution_count": 378,
      "metadata": {},
      "outputs": [],
      "source": [
        "# <<<Error: NameError: name 'family_to_category' is not defined>>> (this Irina's code; copied from Argentinan guy's notebook)\n",
        "# multi_cat_families = family_to_category[family_to_category > 1]\n",
        "# print(f\"Number of families mapping to multiple categories: {len(multi_cat_families)}\")\n",
        "# print(multi_cat_families)"
      ]
    },
    {
      "cell_type": "markdown",
      "metadata": {},
      "source": [
        "There is only one Family that maps to multiple categories, and is the placeholder unknown.\n",
        "\n",
        "The following code displays how many samples with unknown family labels belong to each malware category."
      ]
    },
    {
      "cell_type": "code",
      "execution_count": null,
      "metadata": {},
      "outputs": [],
      "source": [
        "df[df[\"Family\"] == \"<unknown>\"][\"Category\"].value_counts()"
      ]
    },
    {
      "cell_type": "code",
      "execution_count": null,
      "metadata": {},
      "outputs": [],
      "source": [
        "# Step 1: Count unique families per category\n",
        "family_amount = df.groupby(\"Category\")[\"Family\"].nunique()\n",
        "\n",
        "# Step 2: Total number of instances per category\n",
        "total_per_category = df[\"Category\"].value_counts()\n",
        "\n",
        "# Step 3: Count how many of those are <unknown> per category\n",
        "unknown_amount = df[df[\"Family\"] == \"<unknown>\"][\"Category\"].value_counts()\n",
        "\n",
        "# Step 4: Combine all stats into a summary table\n",
        "summary_df = pd.DataFrame({\n",
        "    \"Family_amount\": family_amount,\n",
        "    \"Total_category\": total_per_category,\n",
        "    \"Unknown_amount\": unknown_amount\n",
        "}).fillna(0).astype({\"Unknown_amount\": int})\n",
        "\n",
        "# Step 5: Calculate percentage of unknowns per category\n",
        "summary_df[\"%_Unknown\"] = (summary_df[\"Unknown_amount\"] / summary_df[\"Total_category\"] * 100).round(2)\n",
        "\n",
        "# Reorder columns for readability\n",
        "summary_df = summary_df[[\"Family_amount\", \"Total_category\", \"Unknown_amount\", \"%_Unknown\"]]\n",
        "\n",
        "# Display the summary\n",
        "print(summary_df)"
      ]
    },
    {
      "cell_type": "code",
      "execution_count": null,
      "metadata": {},
      "outputs": [],
      "source": [
        "unknown_count = (df[\"Family\"] == \"<unknown>\").sum()\n",
        "print(f\"Number of rows with Family == '<unknown>': {unknown_count}\")\n"
      ]
    },
    {
      "cell_type": "markdown",
      "metadata": {},
      "source": [
        "Based on the analysis of family distribution across categories:\n",
        "\n",
        "The Adware category stands out with zero instances labeled as <unknown> and a balanced distribution across 43 families. This makes it a strong candidate for modeling.\n",
        "\n",
        "In contrast, Zero_Day and No_Category The categories Zero_Day and No_Category exhibit extremely high family dispersion, with 2576 and 335 unique families. These values are significantly higher than all other categories, which generally have fewer than 50 families each.\n",
        "\n",
        "\n",
        "This suggests they function more as placeholder labels. In particular, Zero_Day likely serves as a catch-all label for unknown or uncategorized threats, making it ambiguous. In cybersecurity, this term is refered to a new unknown vulnerability, not yet classified in terms of malware behavior, this is why samples are varied. They do not seem to represent a consistent type. On the other hand, No_Category explicitly denotes a lack of category. So, including these instances would only bring noise to the training process, preventing the model from learning meaningful patterns.\n",
        "Therefore, they are excluded from the final dataset to preserve the quality and consistency of the classification task.\n",
        "\n",
        "\n",
        "Additionally, categories like FileInfector show a high percentage of <unknown> families (6.85%) despite having a small total count, raising concerns about label quality. Most other categories maintain a relatively stable level of unknowns (around 3–5%), indicating that the presence of <unknown> is manageable."
      ]
    },
    {
      "cell_type": "markdown",
      "metadata": {},
      "source": [
        "# DATA SPLITTING\n",
        "### TO BE DONE\n",
        "- Statistical analysis of this\n",
        "- Make sure they follow the same distributions"
      ]
    },
    {
      "cell_type": "markdown",
      "metadata": {},
      "source": [
        "### Data Splitting: Category as target variable\n",
        "Originally, we will focus only on category\n",
        "\n",
        "Lets first get the X and y extracted from our dataset"
      ]
    },
    {
      "cell_type": "code",
      "execution_count": 15,
      "metadata": {},
      "outputs": [],
      "source": [
        "X_category, y_category = get_X_y(df, \"Category\")"
      ]
    },
    {
      "cell_type": "markdown",
      "metadata": {},
      "source": [
        "Before we continue with the split, lets advance some for the time we get to the encoding process. \n",
        "We are gonna check how many categorical variables are present in each matrix"
      ]
    },
    {
      "cell_type": "code",
      "execution_count": null,
      "metadata": {},
      "outputs": [],
      "source": [
        "X_category.select_dtypes(include=[\"object\"])"
      ]
    },
    {
      "cell_type": "code",
      "execution_count": null,
      "metadata": {},
      "outputs": [],
      "source": [
        "y_category"
      ]
    },
    {
      "cell_type": "markdown",
      "metadata": {},
      "source": [
        "Also object!\n",
        "Lets get back to the splitting!"
      ]
    },
    {
      "cell_type": "markdown",
      "metadata": {},
      "source": [
        "Before, we split the dataset lets observe the SE of accuracy variation based on our choice of split. \n",
        "Brief explanation: we can model accuracy via a Binomial distribution. We know each event in a binomial distribution can be modelled through a bernoulli distribution, where the outcome represents the probability predicting the correct class or not. We make the assumption that each classification error is independent from each other. For:\n",
        "$$\n",
        "\\text{Bin} \\sim (n, p)\n",
        "$$\n",
        " let us assume that the parameter of this distribution is p = .85 and n is given by the choice of sample split for the test set. The SE of the sample proportion can be modeled via: \n",
        "$$\n",
        "\\text{SE}_{\\hat{p}} = \\sqrt{\\frac{p(1 - p)}{n}}\n",
        "\n",
        "$$"
      ]
    },
    {
      "cell_type": "markdown",
      "metadata": {},
      "source": [
        "Before we continue to assess all possible choices of split based on a variant n, also note that that choice of evenly distributed split (e.g: 10% for each hold-out set) between hold-out sets is arbitrary. Proper choice is that which guarantees an equivalent distribution at each hold-out sets, which may not neccesarily be the equivalent split. This brings a new choice of tradeoff between certainity of prediction accuracy (higher test size, smaller validaiton set) but possibly less space for proper hyperparemter optimization or the inverse (higher validation size, smaller set set). As with other tradeoffs, the priority for a given option is rooted in the model's application (which may come derived from a client/employer). For our case, we dont favor either option of the tradeoof, thus we will keep the even hold-out distribution.\n",
        "\n",
        "Finally, also note that that choice of evenly distributed split between hold-out sets is arbitrary. Proper choice is that which guarantees an equivalent distribution at each hold-out sets, which may not neccesarily be the equivalent split. This brings a new choice of tradeoff between certainity of prediction accuracy (higher test size, smaller validaiton set) but possibly less space for proper hyperparemter optimization or the inverse (higher validation size, smaller set set). As with other tradeoffs, the priority for a given option is rooted in the model's application (which may come derived from a client/employer). For our case, we dont favor either option of the tradeoof, thus we will keep the even hold-out distribution.\n"
      ]
    },
    {
      "cell_type": "code",
      "execution_count": 8,
      "metadata": {},
      "outputs": [
        {
          "name": "stderr",
          "output_type": "stream",
          "text": [
            "/Users/javierdominguezsegura/Academics/College/Courses/2nd year/ML/finalProject/ml-final-project/utilities_functions.py:67: RuntimeWarning: divide by zero encountered in scalar divide\n",
            "  differenceToPriorSE_percentage = (currentSE - priorSE) /  priorSE\n"
          ]
        },
        {
          "data": {
            "text/html": [
              "<div>\n",
              "<style scoped>\n",
              "    .dataframe tbody tr th:only-of-type {\n",
              "        vertical-align: middle;\n",
              "    }\n",
              "\n",
              "    .dataframe tbody tr th {\n",
              "        vertical-align: top;\n",
              "    }\n",
              "\n",
              "    .dataframe thead th {\n",
              "        text-align: right;\n",
              "    }\n",
              "</style>\n",
              "<table border=\"1\" class=\"dataframe\">\n",
              "  <thead>\n",
              "    <tr style=\"text-align: right;\">\n",
              "      <th></th>\n",
              "      <th>train_size (%)</th>\n",
              "      <th>train_size_count</th>\n",
              "      <th>validation_size (%)</th>\n",
              "      <th>validation_size_count</th>\n",
              "      <th>test_size (%)</th>\n",
              "      <th>test_size_coount</th>\n",
              "      <th>currentSE</th>\n",
              "      <th>differenceToPriorSE</th>\n",
              "      <th>differenceToPriorSE (%)</th>\n",
              "    </tr>\n",
              "  </thead>\n",
              "  <tbody>\n",
              "    <tr>\n",
              "      <th>0</th>\n",
              "      <td>0.95</td>\n",
              "      <td>50767.0</td>\n",
              "      <td>0.025</td>\n",
              "      <td>1336.0</td>\n",
              "      <td>0.025</td>\n",
              "      <td>1336.0</td>\n",
              "      <td>0.009769</td>\n",
              "      <td>0.009769</td>\n",
              "      <td>inf</td>\n",
              "    </tr>\n",
              "    <tr>\n",
              "      <th>1</th>\n",
              "      <td>0.90</td>\n",
              "      <td>48095.0</td>\n",
              "      <td>0.050</td>\n",
              "      <td>2672.0</td>\n",
              "      <td>0.050</td>\n",
              "      <td>2672.0</td>\n",
              "      <td>0.006908</td>\n",
              "      <td>-0.002861</td>\n",
              "      <td>-0.292893</td>\n",
              "    </tr>\n",
              "    <tr>\n",
              "      <th>2</th>\n",
              "      <td>0.85</td>\n",
              "      <td>45423.0</td>\n",
              "      <td>0.075</td>\n",
              "      <td>4008.0</td>\n",
              "      <td>0.075</td>\n",
              "      <td>4008.0</td>\n",
              "      <td>0.005640</td>\n",
              "      <td>-0.001268</td>\n",
              "      <td>-0.183503</td>\n",
              "    </tr>\n",
              "    <tr>\n",
              "      <th>3</th>\n",
              "      <td>0.80</td>\n",
              "      <td>42751.0</td>\n",
              "      <td>0.100</td>\n",
              "      <td>5344.0</td>\n",
              "      <td>0.100</td>\n",
              "      <td>5344.0</td>\n",
              "      <td>0.004885</td>\n",
              "      <td>-0.000756</td>\n",
              "      <td>-0.133975</td>\n",
              "    </tr>\n",
              "    <tr>\n",
              "      <th>4</th>\n",
              "      <td>0.75</td>\n",
              "      <td>40079.0</td>\n",
              "      <td>0.125</td>\n",
              "      <td>6680.0</td>\n",
              "      <td>0.125</td>\n",
              "      <td>6680.0</td>\n",
              "      <td>0.004369</td>\n",
              "      <td>-0.000516</td>\n",
              "      <td>-0.105573</td>\n",
              "    </tr>\n",
              "    <tr>\n",
              "      <th>5</th>\n",
              "      <td>0.70</td>\n",
              "      <td>37407.0</td>\n",
              "      <td>0.150</td>\n",
              "      <td>8016.0</td>\n",
              "      <td>0.150</td>\n",
              "      <td>8016.0</td>\n",
              "      <td>0.003988</td>\n",
              "      <td>-0.000381</td>\n",
              "      <td>-0.087129</td>\n",
              "    </tr>\n",
              "    <tr>\n",
              "      <th>6</th>\n",
              "      <td>0.65</td>\n",
              "      <td>34735.0</td>\n",
              "      <td>0.175</td>\n",
              "      <td>9352.0</td>\n",
              "      <td>0.175</td>\n",
              "      <td>9352.0</td>\n",
              "      <td>0.003692</td>\n",
              "      <td>-0.000296</td>\n",
              "      <td>-0.074180</td>\n",
              "    </tr>\n",
              "    <tr>\n",
              "      <th>7</th>\n",
              "      <td>0.60</td>\n",
              "      <td>32063.0</td>\n",
              "      <td>0.200</td>\n",
              "      <td>10688.0</td>\n",
              "      <td>0.200</td>\n",
              "      <td>10688.0</td>\n",
              "      <td>0.003454</td>\n",
              "      <td>-0.000238</td>\n",
              "      <td>-0.064586</td>\n",
              "    </tr>\n",
              "    <tr>\n",
              "      <th>8</th>\n",
              "      <td>0.55</td>\n",
              "      <td>29391.0</td>\n",
              "      <td>0.225</td>\n",
              "      <td>12024.0</td>\n",
              "      <td>0.225</td>\n",
              "      <td>12024.0</td>\n",
              "      <td>0.003256</td>\n",
              "      <td>-0.000198</td>\n",
              "      <td>-0.057191</td>\n",
              "    </tr>\n",
              "    <tr>\n",
              "      <th>9</th>\n",
              "      <td>0.50</td>\n",
              "      <td>26720.0</td>\n",
              "      <td>0.250</td>\n",
              "      <td>13360.0</td>\n",
              "      <td>0.250</td>\n",
              "      <td>13360.0</td>\n",
              "      <td>0.003089</td>\n",
              "      <td>-0.000167</td>\n",
              "      <td>-0.051317</td>\n",
              "    </tr>\n",
              "  </tbody>\n",
              "</table>\n",
              "</div>"
            ],
            "text/plain": [
              "   train_size (%)  train_size_count  validation_size (%)  \\\n",
              "0            0.95           50767.0                0.025   \n",
              "1            0.90           48095.0                0.050   \n",
              "2            0.85           45423.0                0.075   \n",
              "3            0.80           42751.0                0.100   \n",
              "4            0.75           40079.0                0.125   \n",
              "5            0.70           37407.0                0.150   \n",
              "6            0.65           34735.0                0.175   \n",
              "7            0.60           32063.0                0.200   \n",
              "8            0.55           29391.0                0.225   \n",
              "9            0.50           26720.0                0.250   \n",
              "\n",
              "   validation_size_count  test_size (%)  test_size_coount  currentSE  \\\n",
              "0                 1336.0          0.025            1336.0   0.009769   \n",
              "1                 2672.0          0.050            2672.0   0.006908   \n",
              "2                 4008.0          0.075            4008.0   0.005640   \n",
              "3                 5344.0          0.100            5344.0   0.004885   \n",
              "4                 6680.0          0.125            6680.0   0.004369   \n",
              "5                 8016.0          0.150            8016.0   0.003988   \n",
              "6                 9352.0          0.175            9352.0   0.003692   \n",
              "7                10688.0          0.200           10688.0   0.003454   \n",
              "8                12024.0          0.225           12024.0   0.003256   \n",
              "9                13360.0          0.250           13360.0   0.003089   \n",
              "\n",
              "   differenceToPriorSE  differenceToPriorSE (%)  \n",
              "0             0.009769                      inf  \n",
              "1            -0.002861                -0.292893  \n",
              "2            -0.001268                -0.183503  \n",
              "3            -0.000756                -0.133975  \n",
              "4            -0.000516                -0.105573  \n",
              "5            -0.000381                -0.087129  \n",
              "6            -0.000296                -0.074180  \n",
              "7            -0.000238                -0.064586  \n",
              "8            -0.000198                -0.057191  \n",
              "9            -0.000167                -0.051317  "
            ]
          },
          "execution_count": 8,
          "metadata": {},
          "output_type": "execute_result"
        }
      ],
      "source": [
        "df_split_assesment = asses_split(df, p=.85, step=.05)\n",
        "df_split_assesment"
      ]
    },
    {
      "cell_type": "markdown",
      "metadata": {},
      "source": [
        "Lets plots this in order to get a better image of this insights:"
      ]
    },
    {
      "cell_type": "code",
      "execution_count": 20,
      "metadata": {},
      "outputs": [
        {
          "data": {
            "image/png": "[encoded data removed]",
            "text/plain": [
              "<Figure size 640x480 with 2 Axes>"
            ]
          },
          "metadata": {},
          "output_type": "display_data"
        }
      ],
      "source": [
        "fig, ax1 = plt.subplots()\n",
        "\n",
        "color = 'tab:blue'\n",
        "ax1.set_xlabel('Training Set Percentage')\n",
        "ax1.set_ylabel('Current SE', color=color)\n",
        "ax1.plot(df_split_assesment[\"train_size (%)\"], df_split_assesment[\"currentSE\"], marker='o', color=color)\n",
        "ax1.tick_params(axis='y', labelcolor=color)\n",
        "\n",
        "ax1.xaxis.set_major_locator(MultipleLocator(0.05))\n",
        "\n",
        "\n",
        "ax2 = ax1.twinx()  \n",
        "color = 'tab:red'\n",
        "ax2.set_ylabel('Difference to Prior SE (%)', color=color)\n",
        "ax2.plot(df_split_assesment[\"train_size (%)\"][1:],  df_split_assesment[\"differenceToPriorSE (%)\"][1:], marker='x', linestyle='--', color=color)\n",
        "ax2.tick_params(axis='y', labelcolor=color)\n",
        "\n",
        "\n",
        "plt.title('Holdout Split Trade-Off: Training Set vs SE')\n",
        "plt.show()"
      ]
    },
    {
      "cell_type": "markdown",
      "metadata": {},
      "source": [
        "We can see a diminishing-returns class graph. The more we decline the training set percentage the slower and more steadier the current SE varies as well as the difference to prior SE, in percentage. We can see that the knee in the curve is between 80 and 90 training set percentage. This represents the area where when you start going below the lower bound, no **significant** improve appears. Given the fact that our criteria for choice of split percentage is to keep as much training possible while increasing hold-out sets size only if the decrease in SE is significant **we are going to select 80% for the training set**."
      ]
    },
    {
      "cell_type": "code",
      "execution_count": 20,
      "metadata": {},
      "outputs": [
        {
          "data": {
            "text/plain": [
              "((40079, 143), (6680, 143), (6680, 143), (40079,), (6680,), (6680,))"
            ]
          },
          "execution_count": 20,
          "metadata": {},
          "output_type": "execute_result"
        }
      ],
      "source": [
        "X_category_train, X_category_val, X_category_test, y_category_train, y_category_val, y_category_test = get_split_data(X_category, y_category, train_size=0.8, validation_size=0.1, test_size=0.1, random_state=99)\n",
        "\n",
        "X_category_train.shape, X_category_val.shape, X_category_test.shape, y_category_train.shape, y_category_val.shape, y_category_test.shape"
      ]
    },
    {
      "cell_type": "markdown",
      "metadata": {},
      "source": [
        "## FEATURE ENCODING\n",
        "\n",
        "#### Encoding the X matrices (one-hot encoder)\n",
        "Lets fit the X encoder for the object column (reboot)"
      ]
    },
    {
      "cell_type": "code",
      "execution_count": 11,
      "metadata": {},
      "outputs": [],
      "source": [
        "X_category_train_encoded, X_category_val_encoded, X_category_test_encoded = get_X_sets_encoded(X_category_train, X_category_val, X_category_test)"
      ]
    },
    {
      "cell_type": "markdown",
      "metadata": {},
      "source": [
        "Lets visualize the results of the encoding..."
      ]
    },
    {
      "cell_type": "code",
      "execution_count": null,
      "metadata": {},
      "outputs": [],
      "source": [
        "X_category_train_encoded"
      ]
    },
    {
      "cell_type": "code",
      "execution_count": null,
      "metadata": {},
      "outputs": [],
      "source": [
        "X_category_val_encoded"
      ]
    },
    {
      "cell_type": "code",
      "execution_count": null,
      "metadata": {},
      "outputs": [],
      "source": [
        "X_category_test_encoded"
      ]
    },
    {
      "cell_type": "markdown",
      "metadata": {},
      "source": [
        "Awesome, the X matrices are all set now. Lets finally encode the target variable (which we saw in the split process is of dtype: object)\n",
        "#### Encoding y column vector (labeller encoding) \n",
        "We know our models needs the target variable to be numerical. Lets transform this series object then!\n",
        "We will fit the encoder in the training set, and extend it to the other sets"
      ]
    },
    {
      "cell_type": "code",
      "execution_count": 12,
      "metadata": {},
      "outputs": [],
      "source": [
        "y_category_train_encoded, y_category_val_encoded, y_category_test_encoded, encoding_map = get_y_sets_encoded(y_category_train, y_category_val, y_category_test)"
      ]
    },
    {
      "cell_type": "code",
      "execution_count": null,
      "metadata": {},
      "outputs": [],
      "source": [
        "encoding_map"
      ]
    },
    {
      "cell_type": "markdown",
      "metadata": {},
      "source": [
        "One more time, let's visualize the results"
      ]
    },
    {
      "cell_type": "code",
      "execution_count": null,
      "metadata": {},
      "outputs": [],
      "source": [
        "y_category_train_encoded, \"-\"*30,  y_category_val_encoded, \"-\"*30, y_category_test_encoded, "
      ]
    },
    {
      "cell_type": "markdown",
      "metadata": {},
      "source": [
        "<hr>"
      ]
    },
    {
      "cell_type": "markdown",
      "metadata": {},
      "source": [
        "# DATA PREPROCESSING"
      ]
    },
    {
      "cell_type": "markdown",
      "metadata": {},
      "source": [
        "### Feature Scaling\n",
        "We would usually use normalization when we're dealing with some sort of Gaussian Distribution and, on the other hand, would use standarization if we're dealing with some kind of normal distribution. We're going to figure out the distributions of the fields to determine which of the 2 is more appropriate.\n",
        "\n",
        "First, we're going to test for scale. If we see a lot of difference between scales, we'll go for normalization.\n",
        "\n"
      ]
    },
    {
      "cell_type": "code",
      "execution_count": null,
      "metadata": {},
      "outputs": [],
      "source": [
        "X_category_train_encoded.describe().T[['min', 'max']]\n"
      ]
    },
    {
      "cell_type": "markdown",
      "metadata": {},
      "source": [
        "Secondly, we're gonna check for kurtosis and skewness. If skewness is high we might need to consider standardizing."
      ]
    },
    {
      "cell_type": "code",
      "execution_count": null,
      "metadata": {},
      "outputs": [],
      "source": [
        "# Get skewness and kurtosis\n",
        "print(f\"\\nSkewness:\\n----------------\\n{X_category_train_encoded.skew()}\")\n",
        "print(f\"\\nKurtosis:\\n----------------\\n{X_category_train_encoded.kurt()}\")"
      ]
    },
    {
      "cell_type": "code",
      "execution_count": null,
      "metadata": {},
      "outputs": [],
      "source": [
        "print(f\"\\nStandard Deviation:\\n----------------\\n{X_category_train_encoded.std()}\")"
      ]
    },
    {
      "cell_type": "markdown",
      "metadata": {},
      "source": [
        "From all the tests, we see many features are heavily skewed and contain outliers. For that reason, we will use RobustScaler, which scales features using the median and IQR, making it more resilient to outliers than other methods."
      ]
    },
    {
      "cell_type": "code",
      "execution_count": 44,
      "metadata": {},
      "outputs": [],
      "source": [
        "from sklearn.preprocessing import RobustScaler\n",
        "\n",
        "scaler = RobustScaler()\n",
        "X_category_train_encoded_scaled = scaler.fit_transform(X_category_train_encoded)\n",
        "X_category_val_encoded_scaled = scaler.transform(X_category_val_encoded)\n",
        "X_category_test_encoded_scaled = scaler.transform(X_category_test_encoded)"
      ]
    },
    {
      "cell_type": "markdown",
      "metadata": {},
      "source": [
        "<hr>"
      ]
    },
    {
      "cell_type": "markdown",
      "metadata": {},
      "source": [
        "# FEATURE ANALYSIS"
      ]
    },
    {
      "cell_type": "markdown",
      "metadata": {},
      "source": [
        "Here we will take adjust the features that compose the learning inputs to our model. The correctness of this section is pivotal for proper learning by the model\n",
        "\n",
        "INDEX OF THIS SECTION:\n",
        "- Feature engineering\n",
        "- Feature selection\n",
        "\n",
        "QUESTIONS FOR THIS SUBECTION\n",
        "\n",
        "\n",
        "## FEATURE ENGINEERING\n",
        "- Domain-specific features\n",
        "- Binning\n",
        "- Interaction terms\n",
        "\n",
        "NOTE: This requires further understanding of the concepts around our problem's context. This will be deferred for a second iteration."
      ]
    },
    {
      "cell_type": "markdown",
      "metadata": {},
      "source": [
        "## FEATURE SELECTION\n",
        "- Analyze correlation and low-variances\n"
      ]
    },
    {
      "cell_type": "markdown",
      "metadata": {},
      "source": [
        "#### 1.1) Eliminating low-variances features\n",
        "We will start off feature selection by analyzing the variables that have low variances. Features with low variances provide little new information for the model to learn from, thus they could introduce statistical noise. Due to this reason, they should be elimanted from the dataset. The reason why we don't focus on high-variance is because this symbolizes outliers, which have been dealt with before in data preporcesing."
      ]
    },
    {
      "cell_type": "markdown",
      "metadata": {},
      "source": [
        "We will start off this analysis eliminating univariate features (i.e: the featuers with constant values)"
      ]
    },
    {
      "cell_type": "code",
      "execution_count": null,
      "metadata": {},
      "outputs": [],
      "source": [
        "original_number_of_features = df.shape[1]\n",
        "zero_variance_features = ONLY_NUMERICAL_COLUMNS.std() == 0\n",
        "if zero_variance_features.any():\n",
        "    print(\"Zero-variance features found:\")\n",
        "    print(zero_variance_features[zero_variance_features].index)\n",
        "    df.drop(columns=zero_variance_features[zero_variance_features].index, inplace=True)\n",
        "    print(f\"Removed {original_number_of_features - df.shape[1]} features with zero variance\")\n",
        "    ONLY_NUMERICAL_COLUMNS = df.select_dtypes(include='number') #updating global variable\n",
        "else:\n",
        "    print(\"No zero-variance features found.\")"
      ]
    },
    {
      "cell_type": "markdown",
      "metadata": {},
      "source": [
        "Lets focus on features with too few variance"
      ]
    },
    {
      "cell_type": "code",
      "execution_count": null,
      "metadata": {},
      "outputs": [],
      "source": [
        "standard_deviations = ONLY_NUMERICAL_COLUMNS.std()\n",
        "plt.figure(figsize=(12, 8))\n",
        "plt.hist(standard_deviations, bins=30, edgecolor='black')\n",
        "plt.title('Distribution of Standard Deviations for Numeric Features')\n",
        "plt.xlabel('Standard Deviation')\n",
        "plt.ylabel('Frequency')\n",
        "plt.show()"
      ]
    },
    {
      "cell_type": "markdown",
      "metadata": {},
      "source": [
        "As explained in scikit-learn's in (1.13.1 Feature selection)[https://scikit-learn.org/stable/modules/feature_selection.html], the variance threshold must be selected carefully. Too low may delete few variables, and too may be too restrictive, deleting more variables than it should."
      ]
    },
    {
      "cell_type": "code",
      "execution_count": null,
      "metadata": {},
      "outputs": [],
      "source": [
        "STD_THRESHOLD = .4"
      ]
    },
    {
      "cell_type": "code",
      "execution_count": null,
      "metadata": {},
      "outputs": [],
      "source": [
        "cols_to_keep = standard_deviations[(standard_deviations < STD_THRESHOLD)].index\n",
        "print(f\"Removed {len(standard_deviations) - len(cols_to_keep)} features with low variance\")\n",
        "\n",
        "df = df[cols_to_keep]\n",
        "df.shape\n"
      ]
    },
    {
      "cell_type": "markdown",
      "metadata": {
        "id": "Pi1pwj-9q_v5"
      },
      "source": [
        "#### 1.2) Eliminating highly correlated feature\n",
        "Highly correlated variables (multicolinearity) are problem for models because they introduce a redundancy (features that contain significantly related similar information are not bringing much new insight into the model's input) to the model that can introduce significant variance. This is due to the fact that small changes in the data may make the coefficeints of the highly correlated variables **swing** more than it should"
      ]
    },
    {
      "cell_type": "code",
      "execution_count": null,
      "metadata": {},
      "outputs": [],
      "source": [
        "compute_correlation_matrix((17, 15), ONLY_NUMERICAL_COLUMNS)"
      ]
    },
    {
      "cell_type": "markdown",
      "metadata": {},
      "source": [
        "A note on the shape of this heatmap: due to the high amount of features, and the redundancy to measure the correlation between features (where corr(A,B) = corr(B,A)) we set 'np.triu(np.ones_like(corr, dtype=bool))' in the utilities functions in order to show only new non-redudant correlations between features, thus the right triangle shape."
      ]
    },
    {
      "cell_type": "markdown",
      "metadata": {},
      "source": [
        "Well, thats a lot to digest! We can see some solid red (high positive correlation) and medium-solid blue (some high negative correlation). \n",
        "Lets use a non-visual methodology to confirm our initial hypothesis. We will use variance inflaction factor (VIF) along with checking manually.\n",
        "A brief explanation on VIF. \n",
        "Formula: \n",
        "\n"
      ]
    },
    {
      "cell_type": "markdown",
      "metadata": {},
      "source": [
        "$$\n",
        "VIF_i = \\frac{1}{1 - R_i^2}\n",
        "$$\n"
      ]
    },
    {
      "cell_type": "markdown",
      "metadata": {},
      "source": [
        "You regress (i.e: do linear regression) on the ith feature as target variable, and all other features as predictors. You then compute the coefficient of determination as a way to measure how well the predictors fit the target variable. VIF values ranges from [1, inf], where lower bound signifies little multicolinearity (R^2 = 0), and upper bound occurs when R^2=1 (perfect multicolineairty). 5 is considered a standard threshold for VIF as it symbolized an 80% R^2.\n",
        "Once you ve obtained the results of VIF, you need to delete the variable with the highest VIF, and recompute VIF until there is no multicolinearity. For example, say there are three features that are 4 features, 3 of them being linear combinations of each other. You would delete the variables with VIF until there is no VIF (when only one of those linear combinations remains). You cant delete all n-1 variables where n are the amount of variables with exceeding (with respect to the chosen threshold), because you may be deleting one that has high VIF due to another feature.\n",
        "\n",
        "A relevant note on why one-hot-encoding must be done dropping the first one:\n",
        "If we were to not remove one of the labels of one hot encoding, you would be able to predict which level of the categorical variable based on all other ones (there is only degree of freedom for categories levels; they are a linear combination). You would essentially see inf VIF in that area and delete it in this section. \n",
        "The VIF has to be computed every time we delete a feature due to high multicolinearity. Lets do that"
      ]
    },
    {
      "cell_type": "code",
      "execution_count": 17,
      "metadata": {},
      "outputs": [],
      "source": [
        "number_of_features = ONLY_NUMERICAL_COLUMNS.shape[1]"
      ]
    },
    {
      "cell_type": "code",
      "execution_count": null,
      "metadata": {},
      "outputs": [],
      "source": [
        "ONLY_NUMERICAL_COLUMNS"
      ]
    },
    {
      "cell_type": "code",
      "execution_count": 18,
      "metadata": {},
      "outputs": [],
      "source": [
        "def calculate_vif(df):\n",
        "    vif_data = pd.DataFrame()\n",
        "    vif_data[\"Feature\"] = df.columns\n",
        "    vif_data[\"VIF\"] = [variance_inflation_factor(df.values, i) for i in range(len(df.columns))]\n",
        "    return vif_data\n",
        "\n",
        "# Iteratively remove features with high VIF (threshold = 10)\n",
        "def remove_high_vif_features(df, threshold=8):\n",
        "    number_of_iterations = 0\n",
        "    while True:\n",
        "        number_of_iterations += 1\n",
        "        vif_data = calculate_vif(df)\n",
        "        print(f\"VIF computed for iteration {number_of_iterations}:\")\n",
        "        max_vif = vif_data[\"VIF\"].max()\n",
        "        if max_vif < threshold:\n",
        "            break\n",
        "        feature_to_drop = vif_data.loc[vif_data[\"VIF\"].idxmax(), \"Feature\"]\n",
        "        df.drop(columns=[feature_to_drop], inplace=True)\n",
        "        print(f\"Dropped: {feature_to_drop}\")\n",
        "    return df"
      ]
    },
    {
      "cell_type": "code",
      "execution_count": null,
      "metadata": {},
      "outputs": [],
      "source": [
        "# Note, running this cell will take a while\n",
        "remove_high_vif_features(ONLY_NUMERICAL_COLUMNS, 10)\n",
        "ONLY_NUMERICAL_COLUMNS = df.select_dtypes(include='number')"
      ]
    },
    {
      "cell_type": "code",
      "execution_count": null,
      "metadata": {},
      "outputs": [],
      "source": [
        "ONLY_NUMERICAL_COLUMNS = df.select_dtypes(include='number')\n",
        "print(f\"Removed {df.shape[1] - number_of_features} features\")"
      ]
    },
    {
      "cell_type": "markdown",
      "metadata": {},
      "source": [
        "Lets compute the correlation matrix one more time post-deletion"
      ]
    },
    {
      "cell_type": "code",
      "execution_count": null,
      "metadata": {},
      "outputs": [],
      "source": [
        "compute_correlation_matrix((17, 15), ONLY_NUMERICAL_COLUMNS)"
      ]
    },
    {
      "cell_type": "markdown",
      "metadata": {},
      "source": [
        "### 1.3 Automatic Feature Selection\n",
        "#### L1 regularization\n",
        "Because of L1 regularization being able to set weights 0, we can briefly train our logistic regression model with such regulartization and see which features it uses. The reason why it sets 0 to insignificant feature is because the objective function is not only the MSE but added a component of the wieght magnitude (which is trying to minimize)"
      ]
    },
    {
      "cell_type": "code",
      "execution_count": null,
      "metadata": {},
      "outputs": [],
      "source": [
        "model = LogisticRegression(penalty='l1', solver='liblinear', max_iter=100)\n",
        "# Train logistic regression model with L1 penalty\n",
        "model.fit(X_category_train_encoded, y_category_train_encoded)\n",
        "\n",
        "# Get the coefficients of the trained model\n",
        "coefficients = model.coef_\n",
        "coefficients"
      ]
    },
    {
      "cell_type": "code",
      "execution_count": null,
      "metadata": {},
      "outputs": [],
      "source": [
        "predictivePowerVariables = set()\n",
        "for i in range(len(coefficients[0])):\n",
        "      if abs(coefficients[0][i]) > 0:\n",
        "            predictivePowerVariables.add(X_category_train_encoded.columns[i])\n",
        "excludedVariables = set(X_category_train_encoded.columns) - predictivePowerVariables\n",
        "predictivePowerVariables, \"-\"*30, f\"Number of predictive power variables: {len(predictivePowerVariables)}\", \"-\"*30, excludedVariables, \"-\"*30, f\"Number of excluded variables: {len(excludedVariables)}\""
      ]
    },
    {
      "cell_type": "markdown",
      "metadata": {},
      "source": [
        "#### BORUTA\n",
        "Brief explanation: (to be done)\n",
        "Sources: [https://scikit-learn.org/stable/modules/feature_selection.html#:~:text=1.13.4.2.%20Tree%2Dbased%20feature%20selection,-%23] (Tree-based feature selection)\n"
      ]
    },
    {
      "cell_type": "code",
      "execution_count": null,
      "metadata": {},
      "outputs": [],
      "source": [
        "rf = RandomForestClassifier(\n",
        "    n_estimators=100,    \n",
        "    n_jobs=-1, # multithreading\n",
        "    class_weight='balanced',\n",
        "    random_state=RANDOM_STATE\n",
        ")\n",
        "boruta_selector = BorutaPy(\n",
        "    rf,\n",
        "    n_estimators='auto',\n",
        "    verbose=2,\n",
        "    random_state=RANDOM_STATE,\n",
        "    max_iter=10\n",
        ")"
      ]
    },
    {
      "cell_type": "code",
      "execution_count": null,
      "metadata": {},
      "outputs": [],
      "source": [
        "# Fit Boruta on your training data.\n",
        "boruta_selector.fit(X_category_train_encoded.values, y_category_train_encoded.values)\n",
        "selected_mask = boruta_selector.support_"
      ]
    },
    {
      "cell_type": "code",
      "execution_count": null,
      "metadata": {},
      "outputs": [],
      "source": [
        "selected_features = set(X_category_train_encoded.columns[selected_mask])\n",
        "excludedVariables = set(X_category_train_encoded.columns) - selected_features\n",
        "selected_features, \"-\"*30, f\"Number of predictive power variables: {len(selected_features)}\", \"-\"*30, excludedVariables, \"-\"*30, f\"Number of excluded variables: {len(excludedVariables)}\""
      ]
    },
    {
      "cell_type": "code",
      "execution_count": null,
      "metadata": {},
      "outputs": [],
      "source": [
        "eliminate_variables_from_set([X_category_train_encoded, X_category_val_encoded, X_category_test_encoded],\n",
        "                              listOfVariables=excludedVariables)"
      ]
    },
    {
      "cell_type": "markdown",
      "metadata": {},
      "source": [
        "Boruta said that only 61 variables were important, if that were the case the current dimensions for each set would have that nubmer"
      ]
    },
    {
      "cell_type": "code",
      "execution_count": null,
      "metadata": {},
      "outputs": [],
      "source": [
        "X_category_train_encoded.shape, X_category_val_encoded.shape, X_category_test_encoded.shape"
      ]
    },
    {
      "cell_type": "markdown",
      "metadata": {},
      "source": [
        "Awesome, lets move on!"
      ]
    },
    {
      "cell_type": "markdown",
      "metadata": {},
      "source": [
        "<hr>"
      ]
    },
    {
      "cell_type": "markdown",
      "metadata": {},
      "source": [
        "# MODELLING"
      ]
    },
    {
      "cell_type": "markdown",
      "metadata": {},
      "source": [
        "- QUESTION ON THIS SECTION\n",
        "   - How can statistical measurement help on the split?\n",
        "- To be done\n",
        "   -  as"
      ]
    },
    {
      "cell_type": "markdown",
      "metadata": {},
      "source": [
        "## Fitting the model"
      ]
    },
    {
      "cell_type": "markdown",
      "metadata": {},
      "source": [
        "QUESTIONS FOR THIS SECTION\n",
        "- Can the ROC curve be used for multiclass?\n",
        "- Can a unsupervised learning algorithm (e.g: KNN) be used for this problem even tough its nature is to be supervised?"
      ]
    },
    {
      "cell_type": "markdown",
      "metadata": {},
      "source": [
        "TO BE DONE FOR THIS SECTION\n",
        "- Multiple models as classifiers\n",
        "- Learn more about each alogrithms' paremters\n",
        "- Can KNN be used here?"
      ]
    },
    {
      "cell_type": "markdown",
      "metadata": {},
      "source": [
        "## Random Forest & Decision Trees\n",
        "Instead of the originally planned logistic regression, we will be using an ensembled model first: random forest (collection of week decision trees). This model is not only likely to outperform the original choice because its nature to handle multiclass better, but also does this several orders of magnitude faster. We will add its not ensembled version too, along with gradient boosted machine\n",
        "Note we are not using not-by-default multiclass classifiers (e.g: logistic regressions, svms)"
      ]
    },
    {
      "cell_type": "markdown",
      "metadata": {},
      "source": [
        "## Non-optimized fitting"
      ]
    },
    {
      "cell_type": "code",
      "execution_count": 18,
      "metadata": {},
      "outputs": [],
      "source": [
        "randomForestModel = RandomForestClassifier(random_state=RANDOM_STATE, \n",
        "                             n_estimators=100,\n",
        "                             max_depth=None,\n",
        "                             min_samples_split=2, \n",
        "                             min_samples_leaf=1)\n",
        "\n",
        "decisionTreeModel = DecisionTreeClassifier(\n",
        "                                          random_state=RANDOM_STATE)\n",
        "\n",
        "supportVectorModel = SVC(random_state=RANDOM_STATE,\n",
        "             kernel='rbf',\n",
        "             decision_function_shape='ovr',\n",
        "             class_weight='balanced')\n",
        "\n",
        "logisticRegressionModel = LogisticRegression(penalty='l2', \n",
        "                                             solver='sag',\n",
        "                                             max_iter=100000,\n",
        "                                             class_weight='balanced')"
      ]
    },
    {
      "cell_type": "markdown",
      "metadata": {},
      "source": [
        "#### MODEL PERFORMANCE, HYPOTHESIS\n",
        "- Trees (e.g: random forest, decision trees):\n",
        "  - Time to fit:\n",
        "    - Ensemble models (random forest) take more time to train due to the fact that they are larger and heavier than their non-ensembled version. \n",
        "  - Correctness:\n",
        "     - High\n",
        "- Binary-classifiers by default models (e.g: SMV, logistic regression)\n",
        "  - Time to fit:\n",
        "    - compute C models for all C number of classes. Each trained to detect a single class, then when we make predictions, we select the ones that has the highest probability in its predictions (\"the most confident in its prediction\"). This strategy is called One-vs-Rest, note however, a single logistic regression may be used if we used the softmax objective function (instead of log-odds) (it still heavy computationally, tough). They will be sloder than ensemble models\n",
        "  - Correctness:\n",
        "     - Very low if the problem is non-linear which it is for the SVM and logistic regression"
      ]
    },
    {
      "cell_type": "code",
      "execution_count": 22,
      "metadata": {},
      "outputs": [],
      "source": [
        "listOfModels = {\n",
        "      \"Random Forest\": randomForestModel,\n",
        "      \"Decision Tree\": decisionTreeModel,\n",
        "      \"SVM\": supportVectorModel,\n",
        "      \"Logistic Regression\": logisticRegressionModel\n",
        "}\n",
        "\n",
        "models = {}\n",
        "for modelName, model in listOfModels.items():\n",
        "      models[modelName] = {\n",
        "            \"model\": model,\n",
        "            \"val_predictions\": \"\",\n",
        "            \"test_predictions\": \"\",\n",
        "            \"timeToFit\": \"\",\n",
        "            \"timeToMakePredictions\": \"\"\n",
        "      }"
      ]
    },
    {
      "cell_type": "markdown",
      "metadata": {},
      "source": [
        "Lets fit the models"
      ]
    },
    {
      "cell_type": "code",
      "execution_count": null,
      "metadata": {},
      "outputs": [],
      "source": [
        "models = fit_models(models, X_category_train_encoded, y_category_train_encoded, X_category_val_encoded, X_category_test_encoded)"
      ]
    },
    {
      "cell_type": "markdown",
      "metadata": {},
      "source": [
        "Let's make sure the predictions vary between holdout sets"
      ]
    },
    {
      "cell_type": "code",
      "execution_count": null,
      "metadata": {},
      "outputs": [],
      "source": [
        "num_classifiers = len(models)\n",
        "fig, axes = plt.subplots(num_classifiers, 1, figsize=(8, 5*num_classifiers))\n",
        "\n",
        "if num_classifiers == 1:\n",
        "    axes = [axes]\n",
        "\n",
        "for ax, (classifierName, classifier) in zip(axes, models.items()):\n",
        "    ax.hist(classifier[\"test_predictions\"], bins=30, edgecolor='black', alpha=0.5, label='Test Predictions')\n",
        "    ax.hist(classifier[\"val_predictions\"], bins=30, edgecolor='black', alpha=0.5, label='Validation Predictions')\n",
        "    \n",
        "    ax.set_title(f'{classifierName} - Distribution of Predicted Labels')\n",
        "    ax.set_xlabel('Predicted Label')\n",
        "    ax.set_ylabel('Frequency')\n",
        "    ax.legend()\n",
        "\n",
        "plt.tight_layout()\n",
        "plt.show()\n"
      ]
    },
    {
      "cell_type": "markdown",
      "metadata": {},
      "source": [
        "<i> the aforeshown diagram was originally done with the sole intention to debug an error that made predictions be the same across sets. Insights may not be much meaningful after correctio, but it is worth keeping until the end of the notebook development </i>"
      ]
    },
    {
      "cell_type": "markdown",
      "metadata": {},
      "source": [
        "### PREDICTIONS RESULTS \n",
        "Before we get into the actual results, lets elaborate briefly on all the metrics that we are using to asses our classifiers:\n"
      ]
    },
    {
      "cell_type": "markdown",
      "metadata": {},
      "source": [
        "- Accuracy => total correctly predicted elemetnts (sigma over the moments we predicted x_i and it was actually x_i / number_of_samples)\n",
        "$$\n",
        "\\text{Accuracy} = \\frac{\\sum_{i} \\mathbf{1}(\\hat{y}_i = y_i)}{N}\n",
        "$$\n",
        "- Precision => out of how many predicted for that class were actually from that class (predicted for class x when it was x/ predicted for class x when it was x + predicted for class x when it was NOT x)\n",
        "$$\n",
        "\\text{Precision}_x = \\frac{\\text{TP}_x}{\\text{TP}_x + \\text{FP}_x}\n",
        "$$\n",
        "- Recall => out of all cases that were positive how many got predicted correctly?\n",
        "$$\n",
        "\\text{Recall}_x = \\frac{\\text{TP}_x}{\\text{TP}_x + \\text{FN}_x}\n",
        "$$\n",
        "- F1-score => harmonic mean of precision and recall (balances both metrics, heavily penalize spreadness between ratios that are being averaged out)\n",
        "$$\n",
        "\\text{F1}_x = 2 \\times \\frac{\\text{Precision}_x \\times \\text{Recall}_x}{\\text{Precision}_x + \\text{Recall}_x}\n",
        "$$\n",
        "- Support => number of actual occurences of class in the dataset\n",
        "- macro avg => averages given metric across all classes\n",
        "$$\n",
        "\\text{Macro Avg} = \\frac{1}{C} \\sum_{i=1}^{C} M_i\n",
        "$$\n",
        "- weighted avg => averages with weights per class occurence (considers frequency of class in average computation)\n",
        "$$\n",
        "\\text{Weighted Avg} = \\sum_{i=1}^{C} \\frac{\\text{Support}_i}{\\text{Total Instances}} \\times M_i\n",
        "$$"
      ]
    },
    {
      "cell_type": "code",
      "execution_count": null,
      "metadata": {},
      "outputs": [],
      "source": [
        "for classifierName, classifier in models.items():\n",
        "      print(f\"Predictions for {classifierName}\")\n",
        "      print(f\"\\t => VALIDATION ASSESMENT:\")\n",
        "      val_class_report, val_confusion_matrix = evaluate_classifier(y_category_val_encoded, \n",
        "                                                                           classifier[\"val_predictions\"], \n",
        "                                                                           display_results=True, \n",
        "                                                                           plot_confusion_matrix=True)\n",
        "      print(f\"\\t => TEST ASSESMENT:\")\n",
        "      test_class_report, test_confusion_matrix = evaluate_classifier(y_category_test_encoded, \n",
        "                                                                           classifier[\"test_predictions\"], \n",
        "                                                                           display_results=True, \n",
        "                                                                           plot_confusion_matrix=True)\n",
        "      print(\"- - -\"*100)"
      ]
    },
    {
      "cell_type": "markdown",
      "metadata": {},
      "source": [
        "## Hyperparameter optimization"
      ]
    },
    {
      "cell_type": "markdown",
      "metadata": {},
      "source": [
        "Note 1: the following cells took 11mins to run in an M2\n",
        "Note 2: grid-search is not a good choice for optimization (enough for an early iteration, tough). We need to get smarter using more advanced techniques (e.g: OPTUNA)"
      ]
    },
    {
      "cell_type": "code",
      "execution_count": null,
      "metadata": {},
      "outputs": [],
      "source": [
        "# Hyperparameter tuning with GridSearchCV\n",
        "param_grid = {\n",
        "    'n_estimators': [50, 100, 200],\n",
        "    'max_depth': [None, 10, 20],\n",
        "    'min_samples_split': [2, 5, 10],\n",
        "    'min_samples_leaf': [1, 2, 4]\n",
        "}\n",
        "\n",
        "grid_search = GridSearchCV(RandomForestClassifier(random_state=RANDOM_STATE), param_grid, cv=5, scoring='f1_weighted', n_jobs=-1)\n",
        "grid_search.fit(X_category_train_encoded, y_category_train_encoded)\n",
        "\n",
        "# Best model\n",
        "best_model = grid_search.best_estimator_\n",
        "print(f\"Best Parameters: {grid_search.best_params_}\")"
      ]
    },
    {
      "cell_type": "code",
      "execution_count": 27,
      "metadata": {},
      "outputs": [],
      "source": [
        "best_model.fit(X_category_train_encoded, y_category_train_encoded)\n",
        "y_val_pred = best_model.predict(X_category_val_encoded)\n",
        "y_test_pred = best_model.predict(X_category_test_encoded)\n"
      ]
    },
    {
      "cell_type": "code",
      "execution_count": null,
      "metadata": {},
      "outputs": [],
      "source": [
        "evaluate_classifier(y_category_val_encoded, y_val_pred, display_results=True, plot_confusion_matrix=True)\n",
        "evaluate_classifier(y_category_test_encoded, y_test_pred, display_results=True, plot_confusion_matrix=True)"
      ]
    },
    {
      "cell_type": "markdown",
      "metadata": {},
      "source": [
        "## NOTEBOOK, AREAS FOR IMPROVEMENTS\n",
        "- Introducing as many ML algorithms for non-predictive tasks: \n",
        "  - Data imputing with KNN \n",
        "  - Cluster analysis to better understand the features \n",
        "  - Doing PCA for features (after correlation analysis) \n",
        "\n",
        "- Distilled models\n",
        "- DevOPs pipeline design\n",
        "- Deeper statistical approach to data preprocessing and EDA\n",
        "- Using CCE and BCE (deep learning multi-class metrics) used for shallow learning "
      ]
    },
    {
      "cell_type": "code",
      "execution_count": null,
      "metadata": {},
      "outputs": [],
      "source": []
    }
  ],
  "metadata": {
    "colab": {
      "collapsed_sections": [
        "28_glozSPDm7",
        "LDW_CStuioNs",
        "Uv7LWIIU5X5i",
        "eaHsU58AdvlN",
        "vtG27WXGd3_R",
        "vR3xQcHnLUsk",
        "tJI5MrERTBNz",
        "VDydAnW3alRu",
        "Pi1pwj-9q_v5"
      ],
      "provenance": []
    },
    "kernelspec": {
      "display_name": ".venv",
      "language": "python",
      "name": "python3"
    },
    "language_info": {
      "codemirror_mode": {
        "name": "ipython",
        "version": 3
      },
      "file_extension": ".py",
      "mimetype": "text/x-python",
      "name": "python",
      "nbconvert_exporter": "python",
      "pygments_lexer": "ipython3",
      "version": "3.11.10"
    }
  },
  "nbformat": 4,
  "nbformat_minor": 0
}
