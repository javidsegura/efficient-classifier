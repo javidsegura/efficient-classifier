{
  "cells": [
    {
      "cell_type": "markdown",
      "metadata": {},
      "source": [
        "<h1> DYNAMIC MALWARE CLASSIFICATION</h1>"
      ]
    },
    {
      "cell_type": "markdown",
      "metadata": {},
      "source": [
        "Supervised, classification, multi-class"
      ]
    },
    {
      "cell_type": "markdown",
      "metadata": {},
      "source": [
        "### CONTENT INDEX\n",
        "\n",
        "1. SET-UP\n",
        "  - Report\n",
        "2. EDA\n",
        "  - Data types\n",
        "  - Descriptive statistics\n",
        "    - Plots, summary statistics \n",
        "  - Relationships between variables \n",
        "  - other...\n",
        "  - Conclusion \n",
        "3. DATA SPLITTING\n",
        "4. Data preprocessing\n",
        "  - Feature scaling\n",
        "\t- Duplicate data anlayis\n",
        "  - Missing data analysis\n",
        "  - Outlier detection analysis\n",
        "  - Data imputing\n",
        "  - Class imbalance\n",
        "5. FEATURE ANALYSIS\n",
        "  - Feature engineering\n",
        "  - Feature trasnformation\n",
        "    - Encoding\n",
        "  - Feature selection\n",
        "6. MODELLING\n",
        "  - Non-optimized training\n",
        "  - Optimized training\n",
        "  - Conclusions mkdelling "
      ]
    },
    {
      "cell_type": "markdown",
      "metadata": {
        "id": "szqv1Y9Edzc5"
      },
      "source": [
        "# 0. Basic Set-Up and General info"
      ]
    },
    {
      "cell_type": "markdown",
      "metadata": {},
      "source": [
        "Note: there are a lot of non-used imports (to be removed at the end)"
      ]
    },
    {
      "cell_type": "code",
      "execution_count": 1,
      "metadata": {},
      "outputs": [],
      "source": [
        "from collections import defaultdict\n",
        "import math\n",
        "import time\n",
        "\n",
        "import pandas as pd\n",
        "import numpy as np\n",
        "import matplotlib.pyplot as plt\n",
        "from matplotlib.ticker import MultipleLocator\n",
        "import seaborn as sns\n",
        "from scipy import stats"
      ]
    },
    {
      "cell_type": "markdown",
      "metadata": {},
      "source": [
        "If u make a change to utilities_function u may need to restart the kernel to use the latest versions. This is too tedious. There must be another way."
      ]
    },
    {
      "cell_type": "code",
      "execution_count": 2,
      "metadata": {},
      "outputs": [],
      "source": [
        "from sklearn.feature_selection import f_classif\n",
        "from sklearn.preprocessing import LabelEncoder\n",
        "from sklearn.model_selection import train_test_split\n",
        "from sklearn.preprocessing import LabelEncoder\n",
        "from sklearn.tree import DecisionTreeClassifier\n",
        "from sklearn.linear_model import LogisticRegression, SGDClassifier\n",
        "from sklearn.ensemble import (RandomForestClassifier, AdaBoostClassifier,\n",
        "                              BaggingClassifier)\n",
        "from sklearn.neighbors import KNeighborsClassifier\n",
        "from sklearn.model_selection import StratifiedKFold\n",
        "from sklearn.metrics import accuracy_score, classification_report, confusion_matrix, f1_score\n",
        "from sklearn.impute import KNNImputer\n",
        "from sklearn.preprocessing import StandardScaler, MinMaxScaler\n",
        "from sklearn.linear_model import LogisticRegression\n",
        "from sklearn.ensemble import RandomForestClassifier\n",
        "from sklearn.linear_model import LogisticRegression\n",
        "from sklearn.model_selection import train_test_split\n",
        "from sklearn.svm import SVC\n",
        "from sklearn.metrics import accuracy_score\n",
        "from sklearn.metrics import roc_curve\n",
        "from sklearn.metrics import roc_auc_score\n",
        "from sklearn.metrics import confusion_matrix\n",
        "from sklearn.model_selection import GridSearchCV\n",
        "\n",
        "from statsmodels.stats.outliers_influence import variance_inflation_factor"
      ]
    },
    {
      "cell_type": "code",
      "execution_count": 3,
      "metadata": {},
      "outputs": [],
      "source": [
        "from imblearn.over_sampling import SMOTENC\n",
        "from boruta import BorutaPy\n",
        "from statsmodels.stats.outliers_influence import variance_inflation_factor"
      ]
    },
    {
      "cell_type": "code",
      "execution_count": 4,
      "metadata": {},
      "outputs": [],
      "source": [
        "import importlib\n",
        "\n",
        "# Import your modules initially\n",
        "import library.dataset\n",
        "import library.modelling.shallow.regressor\n",
        "\n",
        "# Reload the modules in case they were updated\n",
        "importlib.reload(library.dataset)\n",
        "importlib.reload(library.modelling.shallow.regressor)\n",
        "\n",
        "# Now you can import specific classes/functions\n",
        "from library.dataset import Dataset \n",
        "from library.modelling.shallow.classifier import ClassifierAssesment\n",
        "from library.plots import Plots\n",
        "from library.preprocessing import Preprocessing"
      ]
    },
    {
      "cell_type": "markdown",
      "metadata": {},
      "source": [
        "## Documentation Standarization\n",
        "Follow the following guidelines to make sure our document is consistent and easier to undestand\n",
        "- All constant should be writte in full capitall letters (e.g: MY_CONSTANT). Notebook-level constants should be written in the cell assigned to it (see below)\n",
        "- Every new major section (EDA, Feature engineering) should be written with '# My title'#\n",
        "- Subsequent sections should use '##', '###' or '####' hierarchacically\n",
        "- At the beginning of each major section write a content index with the content included in that section (see 'feature engineering' section as an example)\n",
        "- Please write paragraphs before and after each cell explain what u are about to do and the conclusions, correspondingly. Do not assume they are too obvious.\n",
        "- Avoid excessive ChatGPT-originated comments\n",
        "- Avoid writing more than 20 lines per code cell (exceptions for subroutines, which should be written in utilitied_functions.py)\n",
        "- Ideally, add a \"Questions\" and \"Things to be done\" section in each major sections where u write about futher iterations u want to do (while sharing in with the rest)\n"
      ]
    },
    {
      "cell_type": "markdown",
      "metadata": {},
      "source": [
        "## Set-up"
      ]
    },
    {
      "cell_type": "code",
      "execution_count": 5,
      "metadata": {},
      "outputs": [],
      "source": [
        "file_path =\"./dataset/dynamic_dataset.csv\"\n",
        "results_path = \"results/results.csv\""
      ]
    },
    {
      "cell_type": "code",
      "execution_count": 6,
      "metadata": {},
      "outputs": [],
      "source": [
        "results_columns = [\"modelName\", \"accuracy\", \"precision\", \"recall\", \"f1\", \"features_used\", \"timeStamp\", \"hyperParameters\",  # this parameter are not specified when saving \n",
        "                   \"isHyperParameterOptimizationDone\",\"comments\", \"isEDADone\", \"isDataPreprocessingDone\", \n",
        "                   \"isFeatureEngineeringDone\"]\n",
        "columns_to_check_duplicates = [\"modelName\", \"features_used\", \"isHyperParameterOptimizationDone\", \"hyperParameters\",\n",
        "                                \"isEDADone\", \"isDataPreprocessingDone\", \"isFeatureEngineeringDone\"]"
      ]
    },
    {
      "cell_type": "code",
      "execution_count": 7,
      "metadata": {},
      "outputs": [],
      "source": [
        "# Initializing all the libraries' classes\n",
        "dataset = Dataset(file_path)\n",
        "plots = Plots(dataset)\n",
        "preprocessor = Preprocessing(dataset)\n",
        "modelAssesment = ClassifierAssesment(dataset, results_path, results_columns, columns_to_check_duplicates)"
      ]
    },
    {
      "cell_type": "code",
      "execution_count": 8,
      "metadata": {
        "colab": {
          "base_uri": "https://localhost:8080/",
          "height": 256
        },
        "id": "F0L2m8yFXhJ9",
        "outputId": "c94d1d43-6998-486d-d0ea-8b643d64efa6"
      },
      "outputs": [
        {
          "data": {
            "text/html": [
              "<div>\n",
              "<style scoped>\n",
              "    .dataframe tbody tr th:only-of-type {\n",
              "        vertical-align: middle;\n",
              "    }\n",
              "\n",
              "    .dataframe tbody tr th {\n",
              "        vertical-align: top;\n",
              "    }\n",
              "\n",
              "    .dataframe thead th {\n",
              "        text-align: right;\n",
              "    }\n",
              "</style>\n",
              "<table border=\"1\" class=\"dataframe\">\n",
              "  <thead>\n",
              "    <tr style=\"text-align: right;\">\n",
              "      <th></th>\n",
              "      <th>Memory_PssTotal</th>\n",
              "      <th>Memory_PssClean</th>\n",
              "      <th>Memory_SharedDirty</th>\n",
              "      <th>Memory_PrivateDirty</th>\n",
              "      <th>Memory_SharedClean</th>\n",
              "      <th>Memory_PrivateClean</th>\n",
              "      <th>Memory_SwapPssDirty</th>\n",
              "      <th>Memory_HeapSize</th>\n",
              "      <th>Memory_HeapAlloc</th>\n",
              "      <th>Memory_HeapFree</th>\n",
              "      <th>...</th>\n",
              "      <th>Logcat_error</th>\n",
              "      <th>Logcat_warning</th>\n",
              "      <th>Logcat_debug</th>\n",
              "      <th>Logcat_verbose</th>\n",
              "      <th>Logcat_total</th>\n",
              "      <th>Process_total</th>\n",
              "      <th>Hash</th>\n",
              "      <th>Category</th>\n",
              "      <th>Family</th>\n",
              "      <th>reboot</th>\n",
              "    </tr>\n",
              "  </thead>\n",
              "  <tbody>\n",
              "    <tr>\n",
              "      <th>0</th>\n",
              "      <td>31053</td>\n",
              "      <td>2448</td>\n",
              "      <td>14044</td>\n",
              "      <td>23472</td>\n",
              "      <td>74824</td>\n",
              "      <td>2452</td>\n",
              "      <td>0</td>\n",
              "      <td>8919</td>\n",
              "      <td>4786</td>\n",
              "      <td>4132</td>\n",
              "      <td>...</td>\n",
              "      <td>1635</td>\n",
              "      <td>2351</td>\n",
              "      <td>3285</td>\n",
              "      <td>1551</td>\n",
              "      <td>11221</td>\n",
              "      <td>193</td>\n",
              "      <td>f460abb8f2e4e3fb689966ddaea6d6babbd1738bb691c7...</td>\n",
              "      <td>Trojan_SMS</td>\n",
              "      <td>opfake</td>\n",
              "      <td>before</td>\n",
              "    </tr>\n",
              "    <tr>\n",
              "      <th>1</th>\n",
              "      <td>107787</td>\n",
              "      <td>21976</td>\n",
              "      <td>11852</td>\n",
              "      <td>74548</td>\n",
              "      <td>69052</td>\n",
              "      <td>23152</td>\n",
              "      <td>0</td>\n",
              "      <td>25341</td>\n",
              "      <td>20965</td>\n",
              "      <td>4375</td>\n",
              "      <td>...</td>\n",
              "      <td>1816</td>\n",
              "      <td>826</td>\n",
              "      <td>1544</td>\n",
              "      <td>2045</td>\n",
              "      <td>8457</td>\n",
              "      <td>189</td>\n",
              "      <td>556c238536d837007e647543eaf3ea95ae9aaf1c1a52d0...</td>\n",
              "      <td>Trojan_SMS</td>\n",
              "      <td>opfake</td>\n",
              "      <td>before</td>\n",
              "    </tr>\n",
              "    <tr>\n",
              "      <th>2</th>\n",
              "      <td>86584</td>\n",
              "      <td>18460</td>\n",
              "      <td>12284</td>\n",
              "      <td>59992</td>\n",
              "      <td>91548</td>\n",
              "      <td>19376</td>\n",
              "      <td>0</td>\n",
              "      <td>24500</td>\n",
              "      <td>21378</td>\n",
              "      <td>3121</td>\n",
              "      <td>...</td>\n",
              "      <td>2244</td>\n",
              "      <td>3406</td>\n",
              "      <td>1565</td>\n",
              "      <td>2819</td>\n",
              "      <td>10780</td>\n",
              "      <td>195</td>\n",
              "      <td>398322f94b5bfa2a9e7b3756a4cf409764595003280c48...</td>\n",
              "      <td>Trojan_SMS</td>\n",
              "      <td>fakeinst</td>\n",
              "      <td>before</td>\n",
              "    </tr>\n",
              "    <tr>\n",
              "      <th>3</th>\n",
              "      <td>41248</td>\n",
              "      <td>924</td>\n",
              "      <td>10328</td>\n",
              "      <td>36280</td>\n",
              "      <td>55768</td>\n",
              "      <td>928</td>\n",
              "      <td>0</td>\n",
              "      <td>10082</td>\n",
              "      <td>7281</td>\n",
              "      <td>2800</td>\n",
              "      <td>...</td>\n",
              "      <td>974</td>\n",
              "      <td>4134</td>\n",
              "      <td>3138</td>\n",
              "      <td>1556</td>\n",
              "      <td>11739</td>\n",
              "      <td>191</td>\n",
              "      <td>4a9c14872b2c66165599a969a1a8654bb6887d7a18ab6d...</td>\n",
              "      <td>Trojan_SMS</td>\n",
              "      <td>fakeinst</td>\n",
              "      <td>before</td>\n",
              "    </tr>\n",
              "    <tr>\n",
              "      <th>4</th>\n",
              "      <td>38621</td>\n",
              "      <td>5080</td>\n",
              "      <td>12392</td>\n",
              "      <td>27388</td>\n",
              "      <td>71048</td>\n",
              "      <td>5088</td>\n",
              "      <td>0</td>\n",
              "      <td>9077</td>\n",
              "      <td>5750</td>\n",
              "      <td>3326</td>\n",
              "      <td>...</td>\n",
              "      <td>936</td>\n",
              "      <td>2298</td>\n",
              "      <td>3752</td>\n",
              "      <td>1992</td>\n",
              "      <td>10488</td>\n",
              "      <td>188</td>\n",
              "      <td>6b37b9b9c170727f706b69731e64da4bbca2638b4237a7...</td>\n",
              "      <td>Trojan_SMS</td>\n",
              "      <td>fakeinst</td>\n",
              "      <td>before</td>\n",
              "    </tr>\n",
              "  </tbody>\n",
              "</table>\n",
              "<p>5 rows × 145 columns</p>\n",
              "</div>"
            ],
            "text/plain": [
              "   Memory_PssTotal  Memory_PssClean  Memory_SharedDirty  Memory_PrivateDirty  \\\n",
              "0            31053             2448               14044                23472   \n",
              "1           107787            21976               11852                74548   \n",
              "2            86584            18460               12284                59992   \n",
              "3            41248              924               10328                36280   \n",
              "4            38621             5080               12392                27388   \n",
              "\n",
              "   Memory_SharedClean  Memory_PrivateClean  Memory_SwapPssDirty  \\\n",
              "0               74824                 2452                    0   \n",
              "1               69052                23152                    0   \n",
              "2               91548                19376                    0   \n",
              "3               55768                  928                    0   \n",
              "4               71048                 5088                    0   \n",
              "\n",
              "   Memory_HeapSize  Memory_HeapAlloc  Memory_HeapFree  ...  Logcat_error  \\\n",
              "0             8919              4786             4132  ...          1635   \n",
              "1            25341             20965             4375  ...          1816   \n",
              "2            24500             21378             3121  ...          2244   \n",
              "3            10082              7281             2800  ...           974   \n",
              "4             9077              5750             3326  ...           936   \n",
              "\n",
              "   Logcat_warning  Logcat_debug  Logcat_verbose  Logcat_total  Process_total  \\\n",
              "0            2351          3285            1551         11221            193   \n",
              "1             826          1544            2045          8457            189   \n",
              "2            3406          1565            2819         10780            195   \n",
              "3            4134          3138            1556         11739            191   \n",
              "4            2298          3752            1992         10488            188   \n",
              "\n",
              "                                                Hash    Category    Family  \\\n",
              "0  f460abb8f2e4e3fb689966ddaea6d6babbd1738bb691c7...  Trojan_SMS    opfake   \n",
              "1  556c238536d837007e647543eaf3ea95ae9aaf1c1a52d0...  Trojan_SMS    opfake   \n",
              "2  398322f94b5bfa2a9e7b3756a4cf409764595003280c48...  Trojan_SMS  fakeinst   \n",
              "3  4a9c14872b2c66165599a969a1a8654bb6887d7a18ab6d...  Trojan_SMS  fakeinst   \n",
              "4  6b37b9b9c170727f706b69731e64da4bbca2638b4237a7...  Trojan_SMS  fakeinst   \n",
              "\n",
              "   reboot  \n",
              "0  before  \n",
              "1  before  \n",
              "2  before  \n",
              "3  before  \n",
              "4  before  \n",
              "\n",
              "[5 rows x 145 columns]"
            ]
          },
          "execution_count": 8,
          "metadata": {},
          "output_type": "execute_result"
        }
      ],
      "source": [
        "dataset.df.head()"
      ]
    },
    {
      "cell_type": "code",
      "execution_count": 9,
      "metadata": {},
      "outputs": [],
      "source": [
        "dataset.df.rename(columns={\"reboot\": \"Reboot\"}, inplace=True) # consistency with other features' names\n",
        "dataset.df.drop(columns=[\"Family\", \"Hash\"], inplace=True) # We have decided to use only category as target variable; Hash is temporary while im debugging (it will be deleted in EDA)"
      ]
    },
    {
      "cell_type": "code",
      "execution_count": 10,
      "metadata": {
        "colab": {
          "base_uri": "https://localhost:8080/"
        },
        "id": "0TspwPmuXrwg",
        "outputId": "ba126ff5-a264-4606-8b04-9716dc7a0ddf"
      },
      "outputs": [
        {
          "data": {
            "text/plain": [
              "{'number of rows': 53439,\n",
              " 'number of columns': 143,\n",
              " 'column names': ['Memory_PssTotal',\n",
              "  'Memory_PssClean',\n",
              "  'Memory_SharedDirty',\n",
              "  'Memory_PrivateDirty',\n",
              "  'Memory_SharedClean',\n",
              "  'Memory_PrivateClean',\n",
              "  'Memory_SwapPssDirty',\n",
              "  'Memory_HeapSize',\n",
              "  'Memory_HeapAlloc',\n",
              "  'Memory_HeapFree',\n",
              "  'Memory_Views',\n",
              "  'Memory_ViewRootImpl',\n",
              "  'Memory_AppContexts',\n",
              "  'Memory_Activities',\n",
              "  'Memory_Assets',\n",
              "  'Memory_AssetManagers',\n",
              "  'Memory_LocalBinders',\n",
              "  'Memory_ProxyBinders',\n",
              "  'Memory_ParcelMemory',\n",
              "  'Memory_ParcelCount',\n",
              "  'Memory_DeathRecipients',\n",
              "  'Memory_OpenSSLSockets',\n",
              "  'Memory_WebViews',\n",
              "  'API_Process_android.os.Process_start',\n",
              "  'API_Process_android.app.ActivityManager_killBackgroundProcesses',\n",
              "  'API_Process_android.os.Process_killProcess',\n",
              "  'API_Command_java.lang.Runtime_exec',\n",
              "  'API_Command_java.lang.ProcessBuilder_start',\n",
              "  'API_JavaNativeInterface_java.lang.Runtime_loadLibrary',\n",
              "  'API_JavaNativeInterface_java.lang.Runtime_load',\n",
              "  'API_WebView_android.webkit.WebView_loadUrl',\n",
              "  'API_WebView_android.webkit.WebView_loadData',\n",
              "  'API_WebView_android.webkit.WebView_loadDataWithBaseURL',\n",
              "  'API_WebView_android.webkit.WebView_addJavascriptInterface',\n",
              "  'API_WebView_android.webkit.WebView_evaluateJavascript',\n",
              "  'API_WebView_android.webkit.WebView_postUrl',\n",
              "  'API_WebView_android.webkit.WebView_postWebMessage',\n",
              "  'API_WebView_android.webkit.WebView_savePassword',\n",
              "  'API_WebView_android.webkit.WebView_setHttpAuthUsernamePassword',\n",
              "  'API_WebView_android.webkit.WebView_getHttpAuthUsernamePassword',\n",
              "  'API_WebView_android.webkit.WebView_setWebContentsDebuggingEnabled',\n",
              "  'API_FileIO_libcore.io.IoBridge_open',\n",
              "  'API_FileIO_android.content.ContextWrapper_openFileInput',\n",
              "  'API_FileIO_android.content.ContextWrapper_openFileOutput',\n",
              "  'API_FileIO_android.content.ContextWrapper_deleteFile',\n",
              "  'API_Database_android.content.ContextWrapper_openOrCreateDatabase',\n",
              "  'API_Database_android.content.ContextWrapper_databaseList',\n",
              "  'API_Database_android.content.ContextWrapper_deleteDatabase',\n",
              "  'API_Database_android.database.sqlite.SQLiteDatabase_execSQL',\n",
              "  'API_Database_android.database.sqlite.SQLiteDatabase_deleteDatabase',\n",
              "  'API_Database_android.database.sqlite.SQLiteDatabase_getPath',\n",
              "  'API_Database_android.database.sqlite.SQLiteDatabase_insert',\n",
              "  'API_Database_android.database.sqlite.SQLiteDatabase_insertOrThrow',\n",
              "  'API_Database_android.database.sqlite.SQLiteDatabase_insertWithOnConflict',\n",
              "  'API_Database_android.database.sqlite.SQLiteDatabase_openDatabase',\n",
              "  'API_Database_android.database.sqlite.SQLiteDatabase_openOrCreateDatabase',\n",
              "  'API_Database_android.database.sqlite.SQLiteDatabase_query',\n",
              "  'API_Database_android.database.sqlite.SQLiteDatabase_queryWithFactory',\n",
              "  'API_Database_android.database.sqlite.SQLiteDatabase_rawQuery',\n",
              "  'API_Database_android.database.sqlite.SQLiteDatabase_rawQueryWithFactory',\n",
              "  'API_Database_android.database.sqlite.SQLiteDatabase_update',\n",
              "  'API_Database_android.database.sqlite.SQLiteDatabase_updateWithOnConflict',\n",
              "  'API_Database_android.database.sqlite.SQLiteDatabase_compileStatement',\n",
              "  'API_Database_android.database.sqlite.SQLiteDatabase_create',\n",
              "  'API_IPC_android.content.ContextWrapper_sendBroadcast',\n",
              "  'API_IPC_android.content.ContextWrapper_sendStickyBroadcast',\n",
              "  'API_IPC_android.content.ContextWrapper_startActivity',\n",
              "  'API_IPC_android.content.ContextWrapper_startService',\n",
              "  'API_IPC_android.content.ContextWrapper_stopService',\n",
              "  'API_IPC_android.content.ContextWrapper_registerReceiver',\n",
              "  'API_Binder_android.app.ContextImpl_registerReceiver',\n",
              "  'API_Binder_android.app.ActivityThread_handleReceiver',\n",
              "  'API_Binder_android.app.Activity_startActivity',\n",
              "  'API_Crypto_javax.crypto.spec.SecretKeySpec_$init',\n",
              "  'API_Crypto_javax.crypto.Cipher_doFinal',\n",
              "  'API_Crypto-Hash_java.security.MessageDigest_digest',\n",
              "  'API_Crypto-Hash_java.security.MessageDigest_update',\n",
              "  'API_DeviceInfo_android.telephony.TelephonyManager_getDeviceId',\n",
              "  'API_DeviceInfo_android.telephony.TelephonyManager_getSubscriberId',\n",
              "  'API_DeviceInfo_android.telephony.TelephonyManager_getLine1Number',\n",
              "  'API_DeviceInfo_android.telephony.TelephonyManager_getNetworkOperator',\n",
              "  'API_DeviceInfo_android.telephony.TelephonyManager_getNetworkOperatorName',\n",
              "  'API_DeviceInfo_android.telephony.TelephonyManager_getSimOperatorName',\n",
              "  'API_DeviceInfo_android.net.wifi.WifiInfo_getMacAddress',\n",
              "  'API_DeviceInfo_android.net.wifi.WifiInfo_getBSSID',\n",
              "  'API_DeviceInfo_android.net.wifi.WifiInfo_getIpAddress',\n",
              "  'API_DeviceInfo_android.net.wifi.WifiInfo_getNetworkId',\n",
              "  'API_DeviceInfo_android.telephony.TelephonyManager_getSimCountryIso',\n",
              "  'API_DeviceInfo_android.telephony.TelephonyManager_getSimSerialNumber',\n",
              "  'API_DeviceInfo_android.telephony.TelephonyManager_getNetworkCountryIso',\n",
              "  'API_DeviceInfo_android.telephony.TelephonyManager_getDeviceSoftwareVersion',\n",
              "  'API_DeviceInfo_android.os.Debug_isDebuggerConnected',\n",
              "  'API_DeviceInfo_android.content.pm.PackageManager_getInstallerPackageName',\n",
              "  'API_DeviceInfo_android.content.pm.PackageManager_getInstalledApplications',\n",
              "  'API_DeviceInfo_android.content.pm.PackageManager_getInstalledModules',\n",
              "  'API_DeviceInfo_android.content.pm.PackageManager_getInstalledPackages',\n",
              "  'API_Network_java.net.URL_openConnection',\n",
              "  'API_Network_org.apache.http.impl.client.AbstractHttpClient_execute',\n",
              "  'API_Network_com.android.okhttp.internal.huc.HttpURLConnectionImpl_getInputStream',\n",
              "  'API_Network_com.android.okhttp.internal.http.HttpURLConnectionImpl_getInputStream',\n",
              "  'API_DexClassLoader_dalvik.system.BaseDexClassLoader_findResource',\n",
              "  'API_DexClassLoader_dalvik.system.BaseDexClassLoader_findResources',\n",
              "  'API_DexClassLoader_dalvik.system.BaseDexClassLoader_findLibrary',\n",
              "  'API_DexClassLoader_dalvik.system.DexFile_loadDex',\n",
              "  'API_DexClassLoader_dalvik.system.DexFile_loadClass',\n",
              "  'API_DexClassLoader_dalvik.system.DexClassLoader_$init',\n",
              "  'API_Base64_android.util.Base64_decode',\n",
              "  'API_Base64_android.util.Base64_encode',\n",
              "  'API_Base64_android.util.Base64_encodeToString',\n",
              "  'API_SystemManager_android.app.ApplicationPackageManager_setComponentEnabledSetting',\n",
              "  'API_SystemManager_android.app.NotificationManager_notify',\n",
              "  'API_SystemManager_android.telephony.TelephonyManager_listen',\n",
              "  'API_SystemManager_android.content.BroadcastReceiver_abortBroadcast',\n",
              "  'API_SMS_android.telephony.SmsManager_sendTextMessage',\n",
              "  'API_SMS_android.telephony.SmsManager_sendMultipartTextMessage',\n",
              "  'API_DeviceData_android.content.ContentResolver_query',\n",
              "  'API_DeviceData_android.content.ContentResolver_registerContentObserver',\n",
              "  'API_DeviceData_android.content.ContentResolver_insert',\n",
              "  'API_DeviceData_android.content.ContentResolver_delete',\n",
              "  'API_DeviceData_android.accounts.AccountManager_getAccountsByType',\n",
              "  'API_DeviceData_android.accounts.AccountManager_getAccounts',\n",
              "  'API_DeviceData_android.location.Location_getLatitude',\n",
              "  'API_DeviceData_android.location.Location_getLongitude',\n",
              "  'API_DeviceData_android.media.AudioRecord_startRecording',\n",
              "  'API_DeviceData_android.media.MediaRecorder_start',\n",
              "  'API_DeviceData_android.os.SystemProperties_get',\n",
              "  'API_DeviceData_android.app.ApplicationPackageManager_getInstalledPackages',\n",
              "  'API__sessions',\n",
              "  'Network_TotalReceivedBytes',\n",
              "  'Network_TotalReceivedPackets',\n",
              "  'Network_TotalTransmittedBytes',\n",
              "  'Network_TotalTransmittedPackets',\n",
              "  'Battery_wakelock',\n",
              "  'Battery_service',\n",
              "  'Logcat_info',\n",
              "  'Logcat_error',\n",
              "  'Logcat_warning',\n",
              "  'Logcat_debug',\n",
              "  'Logcat_verbose',\n",
              "  'Logcat_total',\n",
              "  'Process_total',\n",
              "  'Category',\n",
              "  'Reboot'],\n",
              " 'column data types': {'Memory_PssTotal': dtype('int64'),\n",
              "  'Memory_PssClean': dtype('int64'),\n",
              "  'Memory_SharedDirty': dtype('int64'),\n",
              "  'Memory_PrivateDirty': dtype('int64'),\n",
              "  'Memory_SharedClean': dtype('int64'),\n",
              "  'Memory_PrivateClean': dtype('int64'),\n",
              "  'Memory_SwapPssDirty': dtype('int64'),\n",
              "  'Memory_HeapSize': dtype('int64'),\n",
              "  'Memory_HeapAlloc': dtype('int64'),\n",
              "  'Memory_HeapFree': dtype('int64'),\n",
              "  'Memory_Views': dtype('int64'),\n",
              "  'Memory_ViewRootImpl': dtype('int64'),\n",
              "  'Memory_AppContexts': dtype('int64'),\n",
              "  'Memory_Activities': dtype('int64'),\n",
              "  'Memory_Assets': dtype('int64'),\n",
              "  'Memory_AssetManagers': dtype('int64'),\n",
              "  'Memory_LocalBinders': dtype('int64'),\n",
              "  'Memory_ProxyBinders': dtype('int64'),\n",
              "  'Memory_ParcelMemory': dtype('int64'),\n",
              "  'Memory_ParcelCount': dtype('int64'),\n",
              "  'Memory_DeathRecipients': dtype('int64'),\n",
              "  'Memory_OpenSSLSockets': dtype('int64'),\n",
              "  'Memory_WebViews': dtype('int64'),\n",
              "  'API_Process_android.os.Process_start': dtype('int64'),\n",
              "  'API_Process_android.app.ActivityManager_killBackgroundProcesses': dtype('int64'),\n",
              "  'API_Process_android.os.Process_killProcess': dtype('int64'),\n",
              "  'API_Command_java.lang.Runtime_exec': dtype('int64'),\n",
              "  'API_Command_java.lang.ProcessBuilder_start': dtype('int64'),\n",
              "  'API_JavaNativeInterface_java.lang.Runtime_loadLibrary': dtype('int64'),\n",
              "  'API_JavaNativeInterface_java.lang.Runtime_load': dtype('int64'),\n",
              "  'API_WebView_android.webkit.WebView_loadUrl': dtype('int64'),\n",
              "  'API_WebView_android.webkit.WebView_loadData': dtype('int64'),\n",
              "  'API_WebView_android.webkit.WebView_loadDataWithBaseURL': dtype('int64'),\n",
              "  'API_WebView_android.webkit.WebView_addJavascriptInterface': dtype('int64'),\n",
              "  'API_WebView_android.webkit.WebView_evaluateJavascript': dtype('int64'),\n",
              "  'API_WebView_android.webkit.WebView_postUrl': dtype('int64'),\n",
              "  'API_WebView_android.webkit.WebView_postWebMessage': dtype('int64'),\n",
              "  'API_WebView_android.webkit.WebView_savePassword': dtype('int64'),\n",
              "  'API_WebView_android.webkit.WebView_setHttpAuthUsernamePassword': dtype('int64'),\n",
              "  'API_WebView_android.webkit.WebView_getHttpAuthUsernamePassword': dtype('int64'),\n",
              "  'API_WebView_android.webkit.WebView_setWebContentsDebuggingEnabled': dtype('int64'),\n",
              "  'API_FileIO_libcore.io.IoBridge_open': dtype('int64'),\n",
              "  'API_FileIO_android.content.ContextWrapper_openFileInput': dtype('int64'),\n",
              "  'API_FileIO_android.content.ContextWrapper_openFileOutput': dtype('int64'),\n",
              "  'API_FileIO_android.content.ContextWrapper_deleteFile': dtype('int64'),\n",
              "  'API_Database_android.content.ContextWrapper_openOrCreateDatabase': dtype('int64'),\n",
              "  'API_Database_android.content.ContextWrapper_databaseList': dtype('int64'),\n",
              "  'API_Database_android.content.ContextWrapper_deleteDatabase': dtype('int64'),\n",
              "  'API_Database_android.database.sqlite.SQLiteDatabase_execSQL': dtype('int64'),\n",
              "  'API_Database_android.database.sqlite.SQLiteDatabase_deleteDatabase': dtype('int64'),\n",
              "  'API_Database_android.database.sqlite.SQLiteDatabase_getPath': dtype('int64'),\n",
              "  'API_Database_android.database.sqlite.SQLiteDatabase_insert': dtype('int64'),\n",
              "  'API_Database_android.database.sqlite.SQLiteDatabase_insertOrThrow': dtype('int64'),\n",
              "  'API_Database_android.database.sqlite.SQLiteDatabase_insertWithOnConflict': dtype('int64'),\n",
              "  'API_Database_android.database.sqlite.SQLiteDatabase_openDatabase': dtype('int64'),\n",
              "  'API_Database_android.database.sqlite.SQLiteDatabase_openOrCreateDatabase': dtype('int64'),\n",
              "  'API_Database_android.database.sqlite.SQLiteDatabase_query': dtype('int64'),\n",
              "  'API_Database_android.database.sqlite.SQLiteDatabase_queryWithFactory': dtype('int64'),\n",
              "  'API_Database_android.database.sqlite.SQLiteDatabase_rawQuery': dtype('int64'),\n",
              "  'API_Database_android.database.sqlite.SQLiteDatabase_rawQueryWithFactory': dtype('int64'),\n",
              "  'API_Database_android.database.sqlite.SQLiteDatabase_update': dtype('int64'),\n",
              "  'API_Database_android.database.sqlite.SQLiteDatabase_updateWithOnConflict': dtype('int64'),\n",
              "  'API_Database_android.database.sqlite.SQLiteDatabase_compileStatement': dtype('int64'),\n",
              "  'API_Database_android.database.sqlite.SQLiteDatabase_create': dtype('int64'),\n",
              "  'API_IPC_android.content.ContextWrapper_sendBroadcast': dtype('int64'),\n",
              "  'API_IPC_android.content.ContextWrapper_sendStickyBroadcast': dtype('int64'),\n",
              "  'API_IPC_android.content.ContextWrapper_startActivity': dtype('int64'),\n",
              "  'API_IPC_android.content.ContextWrapper_startService': dtype('int64'),\n",
              "  'API_IPC_android.content.ContextWrapper_stopService': dtype('int64'),\n",
              "  'API_IPC_android.content.ContextWrapper_registerReceiver': dtype('int64'),\n",
              "  'API_Binder_android.app.ContextImpl_registerReceiver': dtype('int64'),\n",
              "  'API_Binder_android.app.ActivityThread_handleReceiver': dtype('int64'),\n",
              "  'API_Binder_android.app.Activity_startActivity': dtype('int64'),\n",
              "  'API_Crypto_javax.crypto.spec.SecretKeySpec_$init': dtype('int64'),\n",
              "  'API_Crypto_javax.crypto.Cipher_doFinal': dtype('int64'),\n",
              "  'API_Crypto-Hash_java.security.MessageDigest_digest': dtype('int64'),\n",
              "  'API_Crypto-Hash_java.security.MessageDigest_update': dtype('int64'),\n",
              "  'API_DeviceInfo_android.telephony.TelephonyManager_getDeviceId': dtype('int64'),\n",
              "  'API_DeviceInfo_android.telephony.TelephonyManager_getSubscriberId': dtype('int64'),\n",
              "  'API_DeviceInfo_android.telephony.TelephonyManager_getLine1Number': dtype('int64'),\n",
              "  'API_DeviceInfo_android.telephony.TelephonyManager_getNetworkOperator': dtype('int64'),\n",
              "  'API_DeviceInfo_android.telephony.TelephonyManager_getNetworkOperatorName': dtype('int64'),\n",
              "  'API_DeviceInfo_android.telephony.TelephonyManager_getSimOperatorName': dtype('int64'),\n",
              "  'API_DeviceInfo_android.net.wifi.WifiInfo_getMacAddress': dtype('int64'),\n",
              "  'API_DeviceInfo_android.net.wifi.WifiInfo_getBSSID': dtype('int64'),\n",
              "  'API_DeviceInfo_android.net.wifi.WifiInfo_getIpAddress': dtype('int64'),\n",
              "  'API_DeviceInfo_android.net.wifi.WifiInfo_getNetworkId': dtype('int64'),\n",
              "  'API_DeviceInfo_android.telephony.TelephonyManager_getSimCountryIso': dtype('int64'),\n",
              "  'API_DeviceInfo_android.telephony.TelephonyManager_getSimSerialNumber': dtype('int64'),\n",
              "  'API_DeviceInfo_android.telephony.TelephonyManager_getNetworkCountryIso': dtype('int64'),\n",
              "  'API_DeviceInfo_android.telephony.TelephonyManager_getDeviceSoftwareVersion': dtype('int64'),\n",
              "  'API_DeviceInfo_android.os.Debug_isDebuggerConnected': dtype('int64'),\n",
              "  'API_DeviceInfo_android.content.pm.PackageManager_getInstallerPackageName': dtype('int64'),\n",
              "  'API_DeviceInfo_android.content.pm.PackageManager_getInstalledApplications': dtype('int64'),\n",
              "  'API_DeviceInfo_android.content.pm.PackageManager_getInstalledModules': dtype('int64'),\n",
              "  'API_DeviceInfo_android.content.pm.PackageManager_getInstalledPackages': dtype('int64'),\n",
              "  'API_Network_java.net.URL_openConnection': dtype('int64'),\n",
              "  'API_Network_org.apache.http.impl.client.AbstractHttpClient_execute': dtype('int64'),\n",
              "  'API_Network_com.android.okhttp.internal.huc.HttpURLConnectionImpl_getInputStream': dtype('int64'),\n",
              "  'API_Network_com.android.okhttp.internal.http.HttpURLConnectionImpl_getInputStream': dtype('int64'),\n",
              "  'API_DexClassLoader_dalvik.system.BaseDexClassLoader_findResource': dtype('int64'),\n",
              "  'API_DexClassLoader_dalvik.system.BaseDexClassLoader_findResources': dtype('int64'),\n",
              "  'API_DexClassLoader_dalvik.system.BaseDexClassLoader_findLibrary': dtype('int64'),\n",
              "  'API_DexClassLoader_dalvik.system.DexFile_loadDex': dtype('int64'),\n",
              "  'API_DexClassLoader_dalvik.system.DexFile_loadClass': dtype('int64'),\n",
              "  'API_DexClassLoader_dalvik.system.DexClassLoader_$init': dtype('int64'),\n",
              "  'API_Base64_android.util.Base64_decode': dtype('int64'),\n",
              "  'API_Base64_android.util.Base64_encode': dtype('int64'),\n",
              "  'API_Base64_android.util.Base64_encodeToString': dtype('int64'),\n",
              "  'API_SystemManager_android.app.ApplicationPackageManager_setComponentEnabledSetting': dtype('int64'),\n",
              "  'API_SystemManager_android.app.NotificationManager_notify': dtype('int64'),\n",
              "  'API_SystemManager_android.telephony.TelephonyManager_listen': dtype('int64'),\n",
              "  'API_SystemManager_android.content.BroadcastReceiver_abortBroadcast': dtype('int64'),\n",
              "  'API_SMS_android.telephony.SmsManager_sendTextMessage': dtype('int64'),\n",
              "  'API_SMS_android.telephony.SmsManager_sendMultipartTextMessage': dtype('int64'),\n",
              "  'API_DeviceData_android.content.ContentResolver_query': dtype('int64'),\n",
              "  'API_DeviceData_android.content.ContentResolver_registerContentObserver': dtype('int64'),\n",
              "  'API_DeviceData_android.content.ContentResolver_insert': dtype('int64'),\n",
              "  'API_DeviceData_android.content.ContentResolver_delete': dtype('int64'),\n",
              "  'API_DeviceData_android.accounts.AccountManager_getAccountsByType': dtype('int64'),\n",
              "  'API_DeviceData_android.accounts.AccountManager_getAccounts': dtype('int64'),\n",
              "  'API_DeviceData_android.location.Location_getLatitude': dtype('int64'),\n",
              "  'API_DeviceData_android.location.Location_getLongitude': dtype('int64'),\n",
              "  'API_DeviceData_android.media.AudioRecord_startRecording': dtype('int64'),\n",
              "  'API_DeviceData_android.media.MediaRecorder_start': dtype('int64'),\n",
              "  'API_DeviceData_android.os.SystemProperties_get': dtype('int64'),\n",
              "  'API_DeviceData_android.app.ApplicationPackageManager_getInstalledPackages': dtype('int64'),\n",
              "  'API__sessions': dtype('int64'),\n",
              "  'Network_TotalReceivedBytes': dtype('int64'),\n",
              "  'Network_TotalReceivedPackets': dtype('int64'),\n",
              "  'Network_TotalTransmittedBytes': dtype('int64'),\n",
              "  'Network_TotalTransmittedPackets': dtype('int64'),\n",
              "  'Battery_wakelock': dtype('int64'),\n",
              "  'Battery_service': dtype('int64'),\n",
              "  'Logcat_info': dtype('int64'),\n",
              "  'Logcat_error': dtype('int64'),\n",
              "  'Logcat_warning': dtype('int64'),\n",
              "  'Logcat_debug': dtype('int64'),\n",
              "  'Logcat_verbose': dtype('int64'),\n",
              "  'Logcat_total': dtype('int64'),\n",
              "  'Process_total': dtype('int64'),\n",
              "  'Category': dtype('O'),\n",
              "  'Reboot': dtype('O')},\n",
              " 'number of missing values': {'Memory_PssTotal': 0,\n",
              "  'Memory_PssClean': 0,\n",
              "  'Memory_SharedDirty': 0,\n",
              "  'Memory_PrivateDirty': 0,\n",
              "  'Memory_SharedClean': 0,\n",
              "  'Memory_PrivateClean': 0,\n",
              "  'Memory_SwapPssDirty': 0,\n",
              "  'Memory_HeapSize': 0,\n",
              "  'Memory_HeapAlloc': 0,\n",
              "  'Memory_HeapFree': 0,\n",
              "  'Memory_Views': 0,\n",
              "  'Memory_ViewRootImpl': 0,\n",
              "  'Memory_AppContexts': 0,\n",
              "  'Memory_Activities': 0,\n",
              "  'Memory_Assets': 0,\n",
              "  'Memory_AssetManagers': 0,\n",
              "  'Memory_LocalBinders': 0,\n",
              "  'Memory_ProxyBinders': 0,\n",
              "  'Memory_ParcelMemory': 0,\n",
              "  'Memory_ParcelCount': 0,\n",
              "  'Memory_DeathRecipients': 0,\n",
              "  'Memory_OpenSSLSockets': 0,\n",
              "  'Memory_WebViews': 0,\n",
              "  'API_Process_android.os.Process_start': 0,\n",
              "  'API_Process_android.app.ActivityManager_killBackgroundProcesses': 0,\n",
              "  'API_Process_android.os.Process_killProcess': 0,\n",
              "  'API_Command_java.lang.Runtime_exec': 0,\n",
              "  'API_Command_java.lang.ProcessBuilder_start': 0,\n",
              "  'API_JavaNativeInterface_java.lang.Runtime_loadLibrary': 0,\n",
              "  'API_JavaNativeInterface_java.lang.Runtime_load': 0,\n",
              "  'API_WebView_android.webkit.WebView_loadUrl': 0,\n",
              "  'API_WebView_android.webkit.WebView_loadData': 0,\n",
              "  'API_WebView_android.webkit.WebView_loadDataWithBaseURL': 0,\n",
              "  'API_WebView_android.webkit.WebView_addJavascriptInterface': 0,\n",
              "  'API_WebView_android.webkit.WebView_evaluateJavascript': 0,\n",
              "  'API_WebView_android.webkit.WebView_postUrl': 0,\n",
              "  'API_WebView_android.webkit.WebView_postWebMessage': 0,\n",
              "  'API_WebView_android.webkit.WebView_savePassword': 0,\n",
              "  'API_WebView_android.webkit.WebView_setHttpAuthUsernamePassword': 0,\n",
              "  'API_WebView_android.webkit.WebView_getHttpAuthUsernamePassword': 0,\n",
              "  'API_WebView_android.webkit.WebView_setWebContentsDebuggingEnabled': 0,\n",
              "  'API_FileIO_libcore.io.IoBridge_open': 0,\n",
              "  'API_FileIO_android.content.ContextWrapper_openFileInput': 0,\n",
              "  'API_FileIO_android.content.ContextWrapper_openFileOutput': 0,\n",
              "  'API_FileIO_android.content.ContextWrapper_deleteFile': 0,\n",
              "  'API_Database_android.content.ContextWrapper_openOrCreateDatabase': 0,\n",
              "  'API_Database_android.content.ContextWrapper_databaseList': 0,\n",
              "  'API_Database_android.content.ContextWrapper_deleteDatabase': 0,\n",
              "  'API_Database_android.database.sqlite.SQLiteDatabase_execSQL': 0,\n",
              "  'API_Database_android.database.sqlite.SQLiteDatabase_deleteDatabase': 0,\n",
              "  'API_Database_android.database.sqlite.SQLiteDatabase_getPath': 0,\n",
              "  'API_Database_android.database.sqlite.SQLiteDatabase_insert': 0,\n",
              "  'API_Database_android.database.sqlite.SQLiteDatabase_insertOrThrow': 0,\n",
              "  'API_Database_android.database.sqlite.SQLiteDatabase_insertWithOnConflict': 0,\n",
              "  'API_Database_android.database.sqlite.SQLiteDatabase_openDatabase': 0,\n",
              "  'API_Database_android.database.sqlite.SQLiteDatabase_openOrCreateDatabase': 0,\n",
              "  'API_Database_android.database.sqlite.SQLiteDatabase_query': 0,\n",
              "  'API_Database_android.database.sqlite.SQLiteDatabase_queryWithFactory': 0,\n",
              "  'API_Database_android.database.sqlite.SQLiteDatabase_rawQuery': 0,\n",
              "  'API_Database_android.database.sqlite.SQLiteDatabase_rawQueryWithFactory': 0,\n",
              "  'API_Database_android.database.sqlite.SQLiteDatabase_update': 0,\n",
              "  'API_Database_android.database.sqlite.SQLiteDatabase_updateWithOnConflict': 0,\n",
              "  'API_Database_android.database.sqlite.SQLiteDatabase_compileStatement': 0,\n",
              "  'API_Database_android.database.sqlite.SQLiteDatabase_create': 0,\n",
              "  'API_IPC_android.content.ContextWrapper_sendBroadcast': 0,\n",
              "  'API_IPC_android.content.ContextWrapper_sendStickyBroadcast': 0,\n",
              "  'API_IPC_android.content.ContextWrapper_startActivity': 0,\n",
              "  'API_IPC_android.content.ContextWrapper_startService': 0,\n",
              "  'API_IPC_android.content.ContextWrapper_stopService': 0,\n",
              "  'API_IPC_android.content.ContextWrapper_registerReceiver': 0,\n",
              "  'API_Binder_android.app.ContextImpl_registerReceiver': 0,\n",
              "  'API_Binder_android.app.ActivityThread_handleReceiver': 0,\n",
              "  'API_Binder_android.app.Activity_startActivity': 0,\n",
              "  'API_Crypto_javax.crypto.spec.SecretKeySpec_$init': 0,\n",
              "  'API_Crypto_javax.crypto.Cipher_doFinal': 0,\n",
              "  'API_Crypto-Hash_java.security.MessageDigest_digest': 0,\n",
              "  'API_Crypto-Hash_java.security.MessageDigest_update': 0,\n",
              "  'API_DeviceInfo_android.telephony.TelephonyManager_getDeviceId': 0,\n",
              "  'API_DeviceInfo_android.telephony.TelephonyManager_getSubscriberId': 0,\n",
              "  'API_DeviceInfo_android.telephony.TelephonyManager_getLine1Number': 0,\n",
              "  'API_DeviceInfo_android.telephony.TelephonyManager_getNetworkOperator': 0,\n",
              "  'API_DeviceInfo_android.telephony.TelephonyManager_getNetworkOperatorName': 0,\n",
              "  'API_DeviceInfo_android.telephony.TelephonyManager_getSimOperatorName': 0,\n",
              "  'API_DeviceInfo_android.net.wifi.WifiInfo_getMacAddress': 0,\n",
              "  'API_DeviceInfo_android.net.wifi.WifiInfo_getBSSID': 0,\n",
              "  'API_DeviceInfo_android.net.wifi.WifiInfo_getIpAddress': 0,\n",
              "  'API_DeviceInfo_android.net.wifi.WifiInfo_getNetworkId': 0,\n",
              "  'API_DeviceInfo_android.telephony.TelephonyManager_getSimCountryIso': 0,\n",
              "  'API_DeviceInfo_android.telephony.TelephonyManager_getSimSerialNumber': 0,\n",
              "  'API_DeviceInfo_android.telephony.TelephonyManager_getNetworkCountryIso': 0,\n",
              "  'API_DeviceInfo_android.telephony.TelephonyManager_getDeviceSoftwareVersion': 0,\n",
              "  'API_DeviceInfo_android.os.Debug_isDebuggerConnected': 0,\n",
              "  'API_DeviceInfo_android.content.pm.PackageManager_getInstallerPackageName': 0,\n",
              "  'API_DeviceInfo_android.content.pm.PackageManager_getInstalledApplications': 0,\n",
              "  'API_DeviceInfo_android.content.pm.PackageManager_getInstalledModules': 0,\n",
              "  'API_DeviceInfo_android.content.pm.PackageManager_getInstalledPackages': 0,\n",
              "  'API_Network_java.net.URL_openConnection': 0,\n",
              "  'API_Network_org.apache.http.impl.client.AbstractHttpClient_execute': 0,\n",
              "  'API_Network_com.android.okhttp.internal.huc.HttpURLConnectionImpl_getInputStream': 0,\n",
              "  'API_Network_com.android.okhttp.internal.http.HttpURLConnectionImpl_getInputStream': 0,\n",
              "  'API_DexClassLoader_dalvik.system.BaseDexClassLoader_findResource': 0,\n",
              "  'API_DexClassLoader_dalvik.system.BaseDexClassLoader_findResources': 0,\n",
              "  'API_DexClassLoader_dalvik.system.BaseDexClassLoader_findLibrary': 0,\n",
              "  'API_DexClassLoader_dalvik.system.DexFile_loadDex': 0,\n",
              "  'API_DexClassLoader_dalvik.system.DexFile_loadClass': 0,\n",
              "  'API_DexClassLoader_dalvik.system.DexClassLoader_$init': 0,\n",
              "  'API_Base64_android.util.Base64_decode': 0,\n",
              "  'API_Base64_android.util.Base64_encode': 0,\n",
              "  'API_Base64_android.util.Base64_encodeToString': 0,\n",
              "  'API_SystemManager_android.app.ApplicationPackageManager_setComponentEnabledSetting': 0,\n",
              "  'API_SystemManager_android.app.NotificationManager_notify': 0,\n",
              "  'API_SystemManager_android.telephony.TelephonyManager_listen': 0,\n",
              "  'API_SystemManager_android.content.BroadcastReceiver_abortBroadcast': 0,\n",
              "  'API_SMS_android.telephony.SmsManager_sendTextMessage': 0,\n",
              "  'API_SMS_android.telephony.SmsManager_sendMultipartTextMessage': 0,\n",
              "  'API_DeviceData_android.content.ContentResolver_query': 0,\n",
              "  'API_DeviceData_android.content.ContentResolver_registerContentObserver': 0,\n",
              "  'API_DeviceData_android.content.ContentResolver_insert': 0,\n",
              "  'API_DeviceData_android.content.ContentResolver_delete': 0,\n",
              "  'API_DeviceData_android.accounts.AccountManager_getAccountsByType': 0,\n",
              "  'API_DeviceData_android.accounts.AccountManager_getAccounts': 0,\n",
              "  'API_DeviceData_android.location.Location_getLatitude': 0,\n",
              "  'API_DeviceData_android.location.Location_getLongitude': 0,\n",
              "  'API_DeviceData_android.media.AudioRecord_startRecording': 0,\n",
              "  'API_DeviceData_android.media.MediaRecorder_start': 0,\n",
              "  'API_DeviceData_android.os.SystemProperties_get': 0,\n",
              "  'API_DeviceData_android.app.ApplicationPackageManager_getInstalledPackages': 0,\n",
              "  'API__sessions': 0,\n",
              "  'Network_TotalReceivedBytes': 0,\n",
              "  'Network_TotalReceivedPackets': 0,\n",
              "  'Network_TotalTransmittedBytes': 0,\n",
              "  'Network_TotalTransmittedPackets': 0,\n",
              "  'Battery_wakelock': 0,\n",
              "  'Battery_service': 0,\n",
              "  'Logcat_info': 0,\n",
              "  'Logcat_error': 0,\n",
              "  'Logcat_warning': 0,\n",
              "  'Logcat_debug': 0,\n",
              "  'Logcat_verbose': 0,\n",
              "  'Logcat_total': 0,\n",
              "  'Process_total': 0,\n",
              "  'Category': 0,\n",
              "  'Reboot': 0}}"
            ]
          },
          "execution_count": 10,
          "metadata": {},
          "output_type": "execute_result"
        }
      ],
      "source": [
        "dataset.get_basic_info(print_info=False)"
      ]
    },
    {
      "cell_type": "markdown",
      "metadata": {},
      "source": [
        "### Notebook-level constants"
      ]
    },
    {
      "cell_type": "code",
      "execution_count": 11,
      "metadata": {},
      "outputs": [],
      "source": [
        "ONLY_NUMERICAL_COLUMNS = dataset.df.select_dtypes(include='number')\n",
        "RANDOM_STATE = 99"
      ]
    },
    {
      "cell_type": "markdown",
      "metadata": {},
      "source": [
        "### Description of our features"
      ]
    },
    {
      "cell_type": "markdown",
      "metadata": {},
      "source": [
        "For each of our entries in the dataset we have a feature describing the state of the (operating) system under which the malware was running. Here is an intial description for each of them.\n",
        "Please access this document for a complete problem context description: https://docs.google.com/document/d/1yH9gvnJVSH9GLv9ATQ5JQWA2z8Jy4umxxRfMF-y2fiU/edit?usp=sharing"
      ]
    },
    {
      "cell_type": "markdown",
      "metadata": {},
      "source": [
        "# 1. EDA"
      ]
    },
    {
      "cell_type": "markdown",
      "metadata": {},
      "source": [
        "In this section, we conduct an Exploratory Data Analysis (EDA) on the dynamic malware dataset to gain initial insights into the structure, distribution, and quality of the data prior to modeling. The dataset includes behavioral features extracted from Android applications, along with labels indicating their respective malware categories. Understanding the composition of the dataset, such as class imbalance, feature correlations, and the presence of outliers, is crucial to ensure robust preprocessing, informed feature engineering, and  the success of machine learning classifiers.\n"
      ]
    },
    {
      "cell_type": "markdown",
      "metadata": {},
      "source": [
        "### SUGGESTIONS FOR IMPROVEMENTS\n",
        "- Cluster analysis"
      ]
    },
    {
      "cell_type": "markdown",
      "metadata": {},
      "source": [
        "## Data Type Distribution"
      ]
    },
    {
      "cell_type": "code",
      "execution_count": 12,
      "metadata": {},
      "outputs": [],
      "source": [
        "# # Get the data types of each column\n",
        "# data_types = dataset.df.dtypes\n",
        "\n",
        "# # Count the frequency of each data type\n",
        "# type_counts = data_types.value_counts()\n",
        "\n",
        "# # Plotting the frequency of data types\n",
        "# type_counts.plot(kind='bar', color='skyblue')\n",
        "\n",
        "# # Add title and labels\n",
        "# plt.title('Frequency of Data Types in DataFrame')\n",
        "# plt.xlabel('Data Type')\n",
        "# plt.ylabel('Frequency')"
      ]
    },
    {
      "cell_type": "markdown",
      "metadata": {},
      "source": [
        "We can see that most columns are numerical. Lets gets to see which are the variables that are of type object."
      ]
    },
    {
      "cell_type": "code",
      "execution_count": 13,
      "metadata": {},
      "outputs": [],
      "source": [
        "# df_onlyCols = dataset.df.select_dtypes(include=[\"object\"]).columns\n",
        "# df_onlyCols"
      ]
    },
    {
      "cell_type": "markdown",
      "metadata": {},
      "source": [
        "## Summary Statistics Overview"
      ]
    },
    {
      "cell_type": "markdown",
      "metadata": {
        "id": "28_glozSPDm7"
      },
      "source": [
        "## Histograms\n"
      ]
    },
    {
      "cell_type": "code",
      "execution_count": 14,
      "metadata": {
        "colab": {
          "base_uri": "https://localhost:8080/",
          "height": 1000
        },
        "id": "WVSB5cgoYRDr",
        "outputId": "6da84feb-1032-4185-b3e6-de73e05279df"
      },
      "outputs": [
        {
          "data": {
            "text/plain": [
              "'# Select only numerical features\\nnumerical_cols = dataset.df.select_dtypes(include=[np.number]).columns\\n\\n# Define number of rows and columns for subplots\\nnum_features = len(numerical_cols)\\ncols = 4  # Number of columns per row\\nrows = math.ceil(num_features / cols)  # Calculate required rows\\n\\n# Create subplots\\nfig, axes = plt.subplots(rows, cols, figsize=(16, rows * 4))\\naxes = axes.flatten()  # Flatten to easily iterate\\n\\n# Plot histograms\\nfor i, col in enumerate(numerical_cols):\\n    sns.histplot(df[col], bins=30, kde=True, ax=axes[i])  # kde=True for smooth curve\\n    axes[i].set_title(col)\\n\\n# Remove empty subplots\\nfor i in range(num_features, len(axes)):\\n    fig.delaxes(axes[i])\\n\\nplt.tight_layout()\\nplt.show()'"
            ]
          },
          "execution_count": 14,
          "metadata": {},
          "output_type": "execute_result"
        }
      ],
      "source": [
        "\"\"\"# Select only numerical features\n",
        "numerical_cols = dataset.df.select_dtypes(include=[np.number]).columns\n",
        "\n",
        "# Define number of rows and columns for subplots\n",
        "num_features = len(numerical_cols)\n",
        "cols = 4  # Number of columns per row\n",
        "rows = math.ceil(num_features / cols)  # Calculate required rows\n",
        "\n",
        "# Create subplots\n",
        "fig, axes = plt.subplots(rows, cols, figsize=(16, rows * 4))\n",
        "axes = axes.flatten()  # Flatten to easily iterate\n",
        "\n",
        "# Plot histograms\n",
        "for i, col in enumerate(numerical_cols):\n",
        "    sns.histplot(df[col], bins=30, kde=True, ax=axes[i])  # kde=True for smooth curve\n",
        "    axes[i].set_title(col)\n",
        "\n",
        "# Remove empty subplots\n",
        "for i in range(num_features, len(axes)):\n",
        "    fig.delaxes(axes[i])\n",
        "\n",
        "plt.tight_layout()\n",
        "plt.show()\"\"\""
      ]
    },
    {
      "cell_type": "markdown",
      "metadata": {},
      "source": [
        "We can see most distributions tend to be right-skewed and only a small portion follows a normal distribution. This right-skewness will be dealt in feature-engineering."
      ]
    },
    {
      "cell_type": "code",
      "execution_count": 15,
      "metadata": {
        "colab": {
          "base_uri": "https://localhost:8080/",
          "height": 1000
        },
        "id": "YDO2OqktbPDN",
        "outputId": "59795112-1aaf-4e5d-99fb-999c1b58b662"
      },
      "outputs": [
        {
          "data": {
            "text/plain": [
              "'# Select only numerical features\\nnumerical_cols = dataset.df.select_dtypes(include=[np.number]).columns\\n\\n# Define number of rows and columns for subplots\\nnum_features = len(numerical_cols)\\ncols = 4  # Number of columns per row\\nrows = math.ceil(num_features / cols)  # Calculate required rows\\n\\n# Create subplots\\nfig, axes = plt.subplots(rows, cols, figsize=(16, rows * 4))\\naxes = axes.flatten()  # Flatten to easily iterate\\n\\n# Plot boxplots\\nfor i, col in enumerate(numerical_cols):\\n    sns.boxplot(x=dataset.df[col], ax=axes[i])  # Boxplot for each feature\\n    axes[i].set_title(col)\\n\\n# Remove empty subplots\\nfor i in range(num_features, len(axes)):\\n    fig.delaxes(axes[i])\\n\\nplt.tight_layout()\\nplt.show()'"
            ]
          },
          "execution_count": 15,
          "metadata": {},
          "output_type": "execute_result"
        }
      ],
      "source": [
        "\"\"\"# Select only numerical features\n",
        "numerical_cols = dataset.df.select_dtypes(include=[np.number]).columns\n",
        "\n",
        "# Define number of rows and columns for subplots\n",
        "num_features = len(numerical_cols)\n",
        "cols = 4  # Number of columns per row\n",
        "rows = math.ceil(num_features / cols)  # Calculate required rows\n",
        "\n",
        "# Create subplots\n",
        "fig, axes = plt.subplots(rows, cols, figsize=(16, rows * 4))\n",
        "axes = axes.flatten()  # Flatten to easily iterate\n",
        "\n",
        "# Plot boxplots\n",
        "for i, col in enumerate(numerical_cols):\n",
        "    sns.boxplot(x=dataset.df[col], ax=axes[i])  # Boxplot for each feature\n",
        "    axes[i].set_title(col)\n",
        "\n",
        "# Remove empty subplots\n",
        "for i in range(num_features, len(axes)):\n",
        "    fig.delaxes(axes[i])\n",
        "\n",
        "plt.tight_layout()\n",
        "plt.show()\"\"\""
      ]
    },
    {
      "cell_type": "markdown",
      "metadata": {
        "id": "LDW_CStuioNs"
      },
      "source": [
        "## Numerical Features"
      ]
    },
    {
      "cell_type": "markdown",
      "metadata": {
        "id": "EnC_-AYbitFA"
      },
      "source": [
        "Seemed to be grouped by prefixes: Memory, Network, Battery, Logcat, Process y API.\n",
        "\n",
        "According to dataset authors to capture how various malware families and categories behave at runtime, the analysis relies on six distinct sets of features obtained after executing each sample within a controlled emulated environment. These feature groups offer a comprehensive view of the malware's dynamic activity.\n",
        "\n",
        "This categories appear before the first _ in every feature label and are defined as:\n",
        "\n",
        "\n",
        "\"Memory: Memory features define activities performed by malware by utilizing memory.\n",
        "\n",
        "API: Application Programming Interface (API) features delineate the communication between two applications.\n",
        "\n",
        "Network: Network features describe the data transmitted and received between other devices in the network. It indicates foreground and background network usage.\n",
        "\n",
        "Battery: Battery features describe the access to battery wakelock and services by malware.\n",
        "\n",
        "Logcat: Logcat features write log messages corresponding to a function performed by malware.\n",
        "\n",
        "Process: Process features count the interaction of malware with total number of processes.\"\n",
        "\n"
      ]
    },
    {
      "cell_type": "code",
      "execution_count": 16,
      "metadata": {
        "colab": {
          "base_uri": "https://localhost:8080/"
        },
        "id": "raKBvgK5ircs",
        "outputId": "6109fdf7-3a42-4496-a39b-f34bfe204c1b"
      },
      "outputs": [
        {
          "data": {
            "text/plain": [
              "'numeric_cols = dataset.df.select_dtypes(include=\\'number\\').columns\\n\\n# Grouping based on the first prefix before \"_\"\\nprefix_groups = defaultdict(list)\\n\\nfor col in numeric_cols:\\n    prefix = col.split(\"_\")[0]  # Get the first word before the underscore\\n    prefix_groups[prefix].append(col)\\n\\nfor prefix, columns in prefix_groups.items():\\n    print(f\"\\n {prefix} ({len(columns)} features):\")\\n    for col in columns:\\n        print(f\"  - {col}\")'"
            ]
          },
          "execution_count": 16,
          "metadata": {},
          "output_type": "execute_result"
        }
      ],
      "source": [
        "\"\"\"numeric_cols = dataset.df.select_dtypes(include='number').columns\n",
        "\n",
        "# Grouping based on the first prefix before \"_\"\n",
        "prefix_groups = defaultdict(list)\n",
        "\n",
        "for col in numeric_cols:\n",
        "    prefix = col.split(\"_\")[0]  # Get the first word before the underscore\n",
        "    prefix_groups[prefix].append(col)\n",
        "\n",
        "for prefix, columns in prefix_groups.items():\n",
        "    print(f\"\\n {prefix} ({len(columns)} features):\")\n",
        "    for col in columns:\n",
        "        print(f\"  - {col}\")\"\"\""
      ]
    },
    {
      "cell_type": "markdown",
      "metadata": {
        "id": "Uv7LWIIU5X5i"
      },
      "source": [
        "## Categorical Features"
      ]
    },
    {
      "cell_type": "code",
      "execution_count": 17,
      "metadata": {
        "colab": {
          "base_uri": "https://localhost:8080/",
          "height": 175
        },
        "id": "gA-v2L6x5ImZ",
        "outputId": "e7b19c28-c316-4b5a-eec7-90ee38c6dd0b"
      },
      "outputs": [
        {
          "data": {
            "text/plain": [
              "'#Statistical summary for categorical features\\ndataset.df.describe(include=[\"object\", \"category\", \"bool\"])'"
            ]
          },
          "execution_count": 17,
          "metadata": {},
          "output_type": "execute_result"
        }
      ],
      "source": [
        "\"\"\"#Statistical summary for categorical features\n",
        "dataset.df.describe(include=[\"object\", \"category\", \"bool\"])\"\"\""
      ]
    },
    {
      "cell_type": "code",
      "execution_count": 18,
      "metadata": {
        "colab": {
          "base_uri": "https://localhost:8080/"
        },
        "id": "qJbNriVFrRYE",
        "outputId": "2935f3d0-a88b-4bd4-8b98-f4c76a641092"
      },
      "outputs": [
        {
          "data": {
            "text/plain": [
              "\"print(dataset.df[['Hash', 'Category', 'Family']].head())\""
            ]
          },
          "execution_count": 18,
          "metadata": {},
          "output_type": "execute_result"
        }
      ],
      "source": [
        "\"\"\"print(dataset.df[['Hash', 'Category', 'Family']].head())\"\"\""
      ]
    },
    {
      "cell_type": "markdown",
      "metadata": {
        "id": "BBWBDyuc4q47"
      },
      "source": [
        "Hash: unique identifier that represents each malware sample. <<<>>>THIS IS PROBABLY WRONG<<<>>>\n",
        "\n",
        "Category: general classification of the malware sample based on its behavior.\n",
        "\n",
        "Family: more fine-grained grouping of malware based on its codebase or origin"
      ]
    },
    {
      "cell_type": "markdown",
      "metadata": {
        "id": "DC5leffBsW5W"
      },
      "source": [
        "For hash, it will first be checked if the same malware before and after reboot contains the same hash value."
      ]
    },
    {
      "cell_type": "code",
      "execution_count": 19,
      "metadata": {
        "colab": {
          "base_uri": "https://localhost:8080/"
        },
        "id": "_ep2R1vwzRyy",
        "outputId": "3048de1d-c0cd-437d-9044-68a3ed1c3fc3"
      },
      "outputs": [
        {
          "data": {
            "text/plain": [
              "'# Count how many times each hash appears in \\'before\\' and \\'after\\'\\nhash_reboot_counts =dataset.df.groupby([\\'Hash\\', \\'reboot\\']).size().unstack(fill_value=0)\\n\\n# Hashes in both with exactly one in each\\nhashes_with_one_each = hash_reboot_counts[\\n    (hash_reboot_counts[\\'before\\'] == 1) & (hash_reboot_counts[\\'after\\'] == 1)\\n].index\\n\\n# Hashes in both but with extra rows\\nhashes_in_both_but_not_clean = hash_reboot_counts[\\n    (hash_reboot_counts[\\'before\\'] > 0) &\\n    (hash_reboot_counts[\\'after\\'] > 0) &\\n    ~((hash_reboot_counts[\\'before\\'] == 1) & (hash_reboot_counts[\\'after\\'] == 1))\\n].index\\n\\n# Total unique hashes\\ntotal_unique_hashes = dataset.df[\\'Hash\\'].nunique()\\n\\n# Hashes in only one reboot condition\\nhashes_in_one_condition = hash_reboot_counts[\\n    (hash_reboot_counts[\\'before\\'] == 0) | (hash_reboot_counts[\\'after\\'] == 0)\\n]\\n\\n# Only once in one reboot condition\\nonly_once_in_one = hashes_in_one_condition[\\n    (hashes_in_one_condition[\\'before\\'] == 1) | (hashes_in_one_condition[\\'after\\'] == 1)\\n]\\n\\n# More than once in one reboot condition\\nmore_than_once_in_one = hashes_in_one_condition[\\n    ((hashes_in_one_condition[\\'before\\'] > 1) & (hashes_in_one_condition[\\'after\\'] == 0)) |\\n    ((hashes_in_one_condition[\\'after\\'] > 1) & (hashes_in_one_condition[\\'before\\'] == 0))\\n]\\n\\n# Split those into counts\\nmore_than_once_in_before = more_than_once_in_one[more_than_once_in_one[\\'before\\'] > 1]\\nmore_than_once_in_after = more_than_once_in_one[more_than_once_in_one[\\'after\\'] > 1]\\n\\n# --- PRINT RESULTS ---\\nprint(f\"Hashes with EXACTLY one row in BOTH before and after: {len(hashes_with_one_each)}\")\\nprint(f\"Hashes in BOTH, BUT with extra rows: {len(hashes_in_both_but_not_clean)}\")\\n\\nprint(f\"\\nHashes in ONLY ONE reboot condition:\")\\nprint(f\"• Appearing ONLY ONCE: {len(only_once_in_one)}\")\\nprint(f\"• Appearing MORE THAN ONCE: {len(more_than_once_in_one)}\")\\nprint(f\"   - More than once in BEFORE: {len(more_than_once_in_before)}\")\\nprint(f\"   - More than once in AFTER: {len(more_than_once_in_after)}\")\\n\\nprint(f\"\\nTotal breakdown:\")\\nprint(f\"• In BOTH (any): {len(hashes_with_one_each) + len(hashes_in_both_but_not_clean)}\")\\nprint(f\"• In ONLY ONE reboot: {len(hashes_in_one_condition)}\")\\nprint(f\"• TOTAL unique hashes: {total_unique_hashes}\")\\n'"
            ]
          },
          "execution_count": 19,
          "metadata": {},
          "output_type": "execute_result"
        }
      ],
      "source": [
        "\"\"\"# Count how many times each hash appears in 'before' and 'after'\n",
        "hash_reboot_counts =dataset.df.groupby(['Hash', 'reboot']).size().unstack(fill_value=0)\n",
        "\n",
        "# Hashes in both with exactly one in each\n",
        "hashes_with_one_each = hash_reboot_counts[\n",
        "    (hash_reboot_counts['before'] == 1) & (hash_reboot_counts['after'] == 1)\n",
        "].index\n",
        "\n",
        "# Hashes in both but with extra rows\n",
        "hashes_in_both_but_not_clean = hash_reboot_counts[\n",
        "    (hash_reboot_counts['before'] > 0) &\n",
        "    (hash_reboot_counts['after'] > 0) &\n",
        "    ~((hash_reboot_counts['before'] == 1) & (hash_reboot_counts['after'] == 1))\n",
        "].index\n",
        "\n",
        "# Total unique hashes\n",
        "total_unique_hashes = dataset.df['Hash'].nunique()\n",
        "\n",
        "# Hashes in only one reboot condition\n",
        "hashes_in_one_condition = hash_reboot_counts[\n",
        "    (hash_reboot_counts['before'] == 0) | (hash_reboot_counts['after'] == 0)\n",
        "]\n",
        "\n",
        "# Only once in one reboot condition\n",
        "only_once_in_one = hashes_in_one_condition[\n",
        "    (hashes_in_one_condition['before'] == 1) | (hashes_in_one_condition['after'] == 1)\n",
        "]\n",
        "\n",
        "# More than once in one reboot condition\n",
        "more_than_once_in_one = hashes_in_one_condition[\n",
        "    ((hashes_in_one_condition['before'] > 1) & (hashes_in_one_condition['after'] == 0)) |\n",
        "    ((hashes_in_one_condition['after'] > 1) & (hashes_in_one_condition['before'] == 0))\n",
        "]\n",
        "\n",
        "# Split those into counts\n",
        "more_than_once_in_before = more_than_once_in_one[more_than_once_in_one['before'] > 1]\n",
        "more_than_once_in_after = more_than_once_in_one[more_than_once_in_one['after'] > 1]\n",
        "\n",
        "# --- PRINT RESULTS ---\n",
        "print(f\"Hashes with EXACTLY one row in BOTH before and after: {len(hashes_with_one_each)}\")\n",
        "print(f\"Hashes in BOTH, BUT with extra rows: {len(hashes_in_both_but_not_clean)}\")\n",
        "\n",
        "print(f\"\\nHashes in ONLY ONE reboot condition:\")\n",
        "print(f\"• Appearing ONLY ONCE: {len(only_once_in_one)}\")\n",
        "print(f\"• Appearing MORE THAN ONCE: {len(more_than_once_in_one)}\")\n",
        "print(f\"   - More than once in BEFORE: {len(more_than_once_in_before)}\")\n",
        "print(f\"   - More than once in AFTER: {len(more_than_once_in_after)}\")\n",
        "\n",
        "print(f\"\\nTotal breakdown:\")\n",
        "print(f\"• In BOTH (any): {len(hashes_with_one_each) + len(hashes_in_both_but_not_clean)}\")\n",
        "print(f\"• In ONLY ONE reboot: {len(hashes_in_one_condition)}\")\n",
        "print(f\"• TOTAL unique hashes: {total_unique_hashes}\")\n",
        "\"\"\""
      ]
    },
    {
      "cell_type": "markdown",
      "metadata": {
        "id": "i2IGnd2izsOY"
      },
      "source": [
        "A total of 19,169 hashes appear exactly once in both before and after conditions. These are highly reliable for paired  comparisons, ideal for understanding how reboot affects malware behavior.\n",
        "\n",
        "\n",
        "There are 158 hashes that appear in both reboot states but not exactly once in each. These extra instances may come from inconsistencies in data capture like multiple logs for the same sample and should be checked.\n",
        "\n",
        "A significant portion of samples appear only in one reboot condition. This is consistent with limitations described in the original dataset paper, where some malware samples failed to execute after the reboot. However, what is curious is that some still have been logged more than once.\n"
      ]
    },
    {
      "cell_type": "code",
      "execution_count": 20,
      "metadata": {
        "colab": {
          "base_uri": "https://localhost:8080/",
          "height": 89
        },
        "id": "NzJxov9LLOGu",
        "outputId": "a0691e50-f676-4ef2-e150-166b1e96a5ff"
      },
      "outputs": [
        {
          "data": {
            "text/plain": [
              "\"dataset.df.drop(columns=['Hash'], inplace=True)\\n'''\\nThe Hash column is a high-cardinality feature, containing unique values for a high number of rows in the dataset.\\nIt serves as an identifier for each malware sample. Including this column in modeling\\nwould not only offer no predictive value but could also lead to overfitting or cause issues with algorithms that are\\nsensitive to high-cardinality categorical features.\\n <<<>>> J.N: may be better to focus the argumentation on ID not being useful rather than high-cardinality per se. Also write the \\n  argumentation in a text cell not in this type of comments. <<<>>>\\n'''\""
            ]
          },
          "execution_count": 20,
          "metadata": {},
          "output_type": "execute_result"
        }
      ],
      "source": [
        "\"\"\"dataset.df.drop(columns=['Hash'], inplace=True)\n",
        "'''\n",
        "The Hash column is a high-cardinality feature, containing unique values for a high number of rows in the dataset.\n",
        "It serves as an identifier for each malware sample. Including this column in modeling\n",
        "would not only offer no predictive value but could also lead to overfitting or cause issues with algorithms that are\n",
        "sensitive to high-cardinality categorical features.\n",
        " <<<>>> J.N: may be better to focus the argumentation on ID not being useful rather than high-cardinality per se. Also write the \n",
        "  argumentation in a text cell not in this type of comments. <<<>>>\n",
        "'''\"\"\""
      ]
    },
    {
      "cell_type": "markdown",
      "metadata": {
        "id": "1kZUupRE1vx5"
      },
      "source": [
        "This research will be using both Category and Family as the target variables for classification."
      ]
    },
    {
      "cell_type": "markdown",
      "metadata": {
        "id": "eaHsU58AdvlN"
      },
      "source": [
        "## Reboot Analysis"
      ]
    },
    {
      "cell_type": "code",
      "execution_count": 21,
      "metadata": {
        "colab": {
          "base_uri": "https://localhost:8080/"
        },
        "id": "5ymeBe4fKdNi",
        "outputId": "ce478b18-ff6a-4720-f19c-e5ecabfbbbbb"
      },
      "outputs": [
        {
          "data": {
            "text/plain": [
              "'print(dataset.df[\"reboot\"].value_counts())'"
            ]
          },
          "execution_count": 21,
          "metadata": {},
          "output_type": "execute_result"
        }
      ],
      "source": [
        "\"\"\"print(dataset.df[\"reboot\"].value_counts())\"\"\""
      ]
    },
    {
      "cell_type": "markdown",
      "metadata": {
        "id": "BV8hkdL2SHVe"
      },
      "source": [
        "The imbalance observed in the dataset, with 28,380 samples collected before reboot and only 25,059 after reboot, is explained by limitations found during the dynamic analysis. The authors of the dataset note that \"there was no entry point in some Android malware samples and some Android malware samples stopped abruptly.\" This means that certain malware applications either failed to launch or terminated unexpectedly during execution, preventing the collection of dynamic behavior data, particularly after the reboot phase.\n",
        "\n",
        "Additionally, the study highlights another critical limitation: \"the dynamic analysis is performed in an emulator. Some malware samples are able to detect the emulated environment and are not executed.\" This behavior reflects common anti-analysis techniques used by sophisticated malware, which can detect when they are running in a sandbox or emulator and intentionally suspend their malicious actions.\n",
        "\n",
        "\n"
      ]
    },
    {
      "cell_type": "markdown",
      "metadata": {},
      "source": [
        "<<<>>>THIS ANALYSIS IS SUPER GOOD (you can delete this comment)<<<>>>"
      ]
    },
    {
      "cell_type": "markdown",
      "metadata": {
        "id": "YuIT6CKgeqcZ"
      },
      "source": [
        "The displayed features are the top 10  most affected by reboot showing a clear reboot-sensitive behavior."
      ]
    },
    {
      "cell_type": "code",
      "execution_count": 22,
      "metadata": {
        "colab": {
          "base_uri": "https://localhost:8080/",
          "height": 627
        },
        "id": "i9p8S9woa19A",
        "outputId": "7c14fef2-103d-40a4-85e0-50c138fdb448"
      },
      "outputs": [
        {
          "data": {
            "text/plain": [
              "'#Category distribution across reboot\\nplt.figure(figsize=(12, 6))\\nsns.countplot(data=dataset.df, x=\\'Category\\', hue=\\'reboot\\')\\nplt.title(\"Malware Categories by Reboot Condition\")\\nplt.xticks(rotation=45)\\nplt.tight_layout()\\nplt.show()'"
            ]
          },
          "execution_count": 22,
          "metadata": {},
          "output_type": "execute_result"
        }
      ],
      "source": [
        "\"\"\"#Category distribution across reboot\n",
        "plt.figure(figsize=(12, 6))\n",
        "sns.countplot(data=dataset.df, x='Category', hue='reboot')\n",
        "plt.title(\"Malware Categories by Reboot Condition\")\n",
        "plt.xticks(rotation=45)\n",
        "plt.tight_layout()\n",
        "plt.show()\"\"\"\n"
      ]
    },
    {
      "cell_type": "markdown",
      "metadata": {
        "id": "pWwaTM_JeoWk"
      },
      "source": [
        "To identify which numeric features are most influenced by the reboot condition, the dataset will be grouped by the reboot variable, separating entries collected before and after the device reboot. Within each group, the mean of every numeric feature will be computed, allowing for the comparison of average behavior across both states.\n",
        "\n",
        "A new column labeled 'diff' was then added, representing the difference between the mean values after and before the reboot for each feature. A positive value indicates that the feature increased after reboot, while a negative value shows it decreased."
      ]
    },
    {
      "cell_type": "code",
      "execution_count": 23,
      "metadata": {
        "colab": {
          "base_uri": "https://localhost:8080/",
          "height": 363
        },
        "id": "jG1RQO7AcIWG",
        "outputId": "00489ed7-d243-4fae-d577-849381abbca2"
      },
      "outputs": [
        {
          "data": {
            "text/plain": [
              "\"reboot_means = dataset.df.groupby('reboot').mean(numeric_only=True).T\\nreboot_means['diff'] = reboot_means['after'] - reboot_means['before']\\nreboot_means_sorted = reboot_means.sort_values(by='diff', ascending=False)\\n\\nreboot_means_sorted.head(10)\""
            ]
          },
          "execution_count": 23,
          "metadata": {},
          "output_type": "execute_result"
        }
      ],
      "source": [
        "\"\"\"reboot_means = dataset.df.groupby('reboot').mean(numeric_only=True).T\n",
        "reboot_means['diff'] = reboot_means['after'] - reboot_means['before']\n",
        "reboot_means_sorted = reboot_means.sort_values(by='diff', ascending=False)\n",
        "\n",
        "reboot_means_sorted.head(10)\"\"\""
      ]
    },
    {
      "cell_type": "markdown",
      "metadata": {
        "id": "-7cm_Z81fWqq"
      },
      "source": [
        "The results reveal that several features show clear shifts after reboot. Specially, network-related features such as Network_TotalReceivedBytes and Network_TotalTransmittedBytes demonstrate significant increases, suggesting that some malware types intensify data transmission once the device has rebooted. Memory features like Memory_SharedClean, Memory_HeapSize, and Memory_HeapAlloc also show increased values after reboot, indicating greater memory use or altered memory management after reboot.\n",
        "This shows that the reboot condition plays an important role in runtime behavior and should be treated as an important factor in exploratory analysis and modeling."
      ]
    },
    {
      "cell_type": "markdown",
      "metadata": {},
      "source": [
        "## Family"
      ]
    },
    {
      "cell_type": "code",
      "execution_count": 24,
      "metadata": {},
      "outputs": [
        {
          "data": {
            "text/plain": [
              "'#How many categories each family belongs to\\ndataset.df.groupby(\"Family\")[\"Category\"].nunique().sort_values(ascending=False)'"
            ]
          },
          "execution_count": 24,
          "metadata": {},
          "output_type": "execute_result"
        }
      ],
      "source": [
        "\"\"\"#How many categories each family belongs to\n",
        "dataset.df.groupby(\"Family\")[\"Category\"].nunique().sort_values(ascending=False)\"\"\""
      ]
    },
    {
      "cell_type": "markdown",
      "metadata": {},
      "source": [
        "Almost every family is either unknown or unique\n"
      ]
    },
    {
      "cell_type": "code",
      "execution_count": 25,
      "metadata": {},
      "outputs": [],
      "source": [
        "# <<<Error: NameError: name 'family_to_category' is not defined>>> (this Irina's code; copied from Argentinan guy's notebook)\n",
        "# multi_cat_families = family_to_category[family_to_category > 1]\n",
        "# print(f\"Number of families mapping to multiple categories: {len(multi_cat_families)}\")\n",
        "# print(multi_cat_families)"
      ]
    },
    {
      "cell_type": "markdown",
      "metadata": {},
      "source": [
        "There is only one Family that maps to multiple categories, and is the placeholder unknown.\n",
        "\n",
        "The following code displays how many samples with unknown family labels belong to each malware category."
      ]
    },
    {
      "cell_type": "code",
      "execution_count": 26,
      "metadata": {},
      "outputs": [
        {
          "data": {
            "text/plain": [
              "'dataset.df[dataset.df[\"Family\"] == \"<unknown>\"][\"Category\"].value_counts()'"
            ]
          },
          "execution_count": 26,
          "metadata": {},
          "output_type": "execute_result"
        }
      ],
      "source": [
        "\"\"\"dataset.df[dataset.df[\"Family\"] == \"<unknown>\"][\"Category\"].value_counts()\"\"\""
      ]
    },
    {
      "cell_type": "code",
      "execution_count": 27,
      "metadata": {},
      "outputs": [
        {
          "data": {
            "text/plain": [
              "'# Step 1: Count unique families per category\\nfamily_amount = dataset.df.groupby(\"Category\")[\"Family\"].nunique()\\n\\n# Step 2: Total number of instances per category\\ntotal_per_category = dataset.df[\"Category\"].value_counts()\\n\\n# Step 3: Count how many of those are <unknown> per category\\nunknown_amount = dataset.df[dataset.df[\"Family\"] == \"<unknown>\"][\"Category\"].value_counts()\\n\\n# Step 4: Combine all stats into a summary table\\nsummary_df = pd.DataFrame({\\n    \"Family_amount\": family_amount,\\n    \"Total_category\": total_per_category,\\n    \"Unknown_amount\": unknown_amount\\n}).fillna(0).astype({\"Unknown_amount\": int})\\n\\n# Step 5: Calculate percentage of unknowns per category\\nsummary_df[\"%_Unknown\"] = (summary_df[\"Unknown_amount\"] / summary_df[\"Total_category\"] * 100).round(2)\\n\\n# Reorder columns for readability\\nsummary_df = summary_df[[\"Family_amount\", \"Total_category\", \"Unknown_amount\", \"%_Unknown\"]]\\n\\n# Display the summary\\nprint(summary_df)'"
            ]
          },
          "execution_count": 27,
          "metadata": {},
          "output_type": "execute_result"
        }
      ],
      "source": [
        "\"\"\"# Step 1: Count unique families per category\n",
        "family_amount = dataset.df.groupby(\"Category\")[\"Family\"].nunique()\n",
        "\n",
        "# Step 2: Total number of instances per category\n",
        "total_per_category = dataset.df[\"Category\"].value_counts()\n",
        "\n",
        "# Step 3: Count how many of those are <unknown> per category\n",
        "unknown_amount = dataset.df[dataset.df[\"Family\"] == \"<unknown>\"][\"Category\"].value_counts()\n",
        "\n",
        "# Step 4: Combine all stats into a summary table\n",
        "summary_df = pd.DataFrame({\n",
        "    \"Family_amount\": family_amount,\n",
        "    \"Total_category\": total_per_category,\n",
        "    \"Unknown_amount\": unknown_amount\n",
        "}).fillna(0).astype({\"Unknown_amount\": int})\n",
        "\n",
        "# Step 5: Calculate percentage of unknowns per category\n",
        "summary_df[\"%_Unknown\"] = (summary_df[\"Unknown_amount\"] / summary_df[\"Total_category\"] * 100).round(2)\n",
        "\n",
        "# Reorder columns for readability\n",
        "summary_df = summary_df[[\"Family_amount\", \"Total_category\", \"Unknown_amount\", \"%_Unknown\"]]\n",
        "\n",
        "# Display the summary\n",
        "print(summary_df)\"\"\""
      ]
    },
    {
      "cell_type": "code",
      "execution_count": 28,
      "metadata": {},
      "outputs": [
        {
          "data": {
            "text/plain": [
              "'unknown_count = (dataset.df[\"Family\"] == \"<unknown>\").sum()\\nprint(f\"Number of rows with Family == \\'<unknown>\\': {unknown_count}\")'"
            ]
          },
          "execution_count": 28,
          "metadata": {},
          "output_type": "execute_result"
        }
      ],
      "source": [
        "\"\"\"unknown_count = (dataset.df[\"Family\"] == \"<unknown>\").sum()\n",
        "print(f\"Number of rows with Family == '<unknown>': {unknown_count}\")\"\"\"\n"
      ]
    },
    {
      "cell_type": "markdown",
      "metadata": {},
      "source": [
        "Based on the analysis of family distribution across categories:\n",
        "\n",
        "The Adware category stands out with zero instances labeled as <unknown> and a balanced distribution across 43 families. This makes it a strong candidate for modeling.\n",
        "\n",
        "In contrast, Zero_Day and No_Category The categories Zero_Day and No_Category exhibit extremely high family dispersion, with 2576 and 335 unique families. These values are significantly higher than all other categories, which generally have fewer than 50 families each.\n",
        "\n",
        "\n",
        "This suggests they function more as placeholder labels. In particular, Zero_Day likely serves as a catch-all label for unknown or uncategorized threats, making it ambiguous. In cybersecurity, this term is refered to a new unknown vulnerability, not yet classified in terms of malware behavior, this is why samples are varied. They do not seem to represent a consistent type. On the other hand, No_Category explicitly denotes a lack of category. So, including these instances would only bring noise to the training process, preventing the model from learning meaningful patterns.\n",
        "Therefore, they are excluded from the final dataset to preserve the quality and consistency of the classification task.\n",
        "\n",
        "\n",
        "Additionally, categories like FileInfector show a high percentage of <unknown> families (6.85%) despite having a small total count, raising concerns about label quality. Most other categories maintain a relatively stable level of unknowns (around 3–5%), indicating that the presence of <unknown> is manageable."
      ]
    },
    {
      "cell_type": "markdown",
      "metadata": {},
      "source": [
        "# 2. DATA SPLITTING\n",
        "### TO BE DONE\n",
        "- Statistical analysis of this\n",
        "- Make sure they follow the same distributions"
      ]
    },
    {
      "cell_type": "markdown",
      "metadata": {},
      "source": [
        "### Data Splitting: Category as target variable\n",
        "Originally, we will focus only on category\n",
        "\n",
        "Lets first get the X and y extracted from our dataset"
      ]
    },
    {
      "cell_type": "markdown",
      "metadata": {},
      "source": [
        "Also object!\n",
        "Lets get back to the splitting!"
      ]
    },
    {
      "cell_type": "markdown",
      "metadata": {},
      "source": [
        "Before, we split the dataset lets observe the SE of accuracy variation based on our choice of split. \n",
        "Brief explanation: we can model accuracy via a Binomial distribution. We know each event in a binomial distribution can be modelled through a bernoulli distribution, where the outcome represents the probability predicting the correct class or not. We make the assumption that each classification error is independent from each other. For:\n",
        "$$\n",
        "\\text{Bin} \\sim (n, p)\n",
        "$$\n",
        " let us assume that the parameter of this distribution is p = .85 and n is given by the choice of sample split for the test set. The SE of the sample proportion can be modeled via: \n",
        "$$\n",
        "\\text{SE}_{\\hat{p}} = \\sqrt{\\frac{p(1 - p)}{n}}\n",
        "\n",
        "$$"
      ]
    },
    {
      "cell_type": "markdown",
      "metadata": {},
      "source": [
        "Before we continue to assess all possible choices of split based on a variant n, also note that that choice of evenly distributed split (e.g: 10% for each hold-out set) between hold-out sets is arbitrary. Proper choice is that which guarantees an equivalent distribution at each hold-out sets, which may not neccesarily be the equivalent split. This brings a new choice of tradeoff between certainity of prediction accuracy (higher test size, smaller validaiton set) but possibly less space for proper hyperparemter optimization or the inverse (higher validation size, smaller set set). As with other tradeoffs, the priority for a given option is rooted in the model's application (which may come derived from a client/employer). For our case, we dont favor either option of the tradeoof, thus we will keep the even hold-out distribution.\n",
        "\n",
        "Finally, also note that that choice of evenly distributed split between hold-out sets is arbitrary. Proper choice is that which guarantees an equivalent distribution at each hold-out sets, which may not neccesarily be the equivalent split. This brings a new choice of tradeoff between certainity of prediction accuracy (higher test size, smaller validaiton set) but possibly less space for proper hyperparemter optimization or the inverse (higher validation size, smaller set set). As with other tradeoffs, the priority for a given option is rooted in the model's application (which may come derived from a client/employer). For our case, we dont favor either option of the tradeoof, thus we will keep the even hold-out distribution.\n"
      ]
    },
    {
      "cell_type": "code",
      "execution_count": 29,
      "metadata": {},
      "outputs": [
        {
          "name": "stderr",
          "output_type": "stream",
          "text": [
            "/Users/juanalonso-allende/Desktop/ml-final-project/library/dataset.py:95: RuntimeWarning: divide by zero encountered in scalar divide\n",
            "  differenceToPriorSE_percentage = (currentSE - priorSE) /  priorSE\n"
          ]
        },
        {
          "data": {
            "image/png": "[encoded data removed]",
            "text/plain": [
              "<Figure size 640x480 with 2 Axes>"
            ]
          },
          "metadata": {},
          "output_type": "display_data"
        },
        {
          "data": {
            "text/html": [
              "<div>\n",
              "<style scoped>\n",
              "    .dataframe tbody tr th:only-of-type {\n",
              "        vertical-align: middle;\n",
              "    }\n",
              "\n",
              "    .dataframe tbody tr th {\n",
              "        vertical-align: top;\n",
              "    }\n",
              "\n",
              "    .dataframe thead th {\n",
              "        text-align: right;\n",
              "    }\n",
              "</style>\n",
              "<table border=\"1\" class=\"dataframe\">\n",
              "  <thead>\n",
              "    <tr style=\"text-align: right;\">\n",
              "      <th></th>\n",
              "      <th>train_size (%)</th>\n",
              "      <th>train_size_count</th>\n",
              "      <th>validation_size (%)</th>\n",
              "      <th>validation_size_count</th>\n",
              "      <th>test_size (%)</th>\n",
              "      <th>test_size_coount</th>\n",
              "      <th>currentSE</th>\n",
              "      <th>differenceToPriorSE</th>\n",
              "      <th>differenceToPriorSE (%)</th>\n",
              "    </tr>\n",
              "  </thead>\n",
              "  <tbody>\n",
              "    <tr>\n",
              "      <th>0</th>\n",
              "      <td>0.95</td>\n",
              "      <td>50767.0</td>\n",
              "      <td>0.025</td>\n",
              "      <td>1336.0</td>\n",
              "      <td>0.025</td>\n",
              "      <td>1336.0</td>\n",
              "      <td>0.009769</td>\n",
              "      <td>0.009769</td>\n",
              "      <td>inf</td>\n",
              "    </tr>\n",
              "    <tr>\n",
              "      <th>1</th>\n",
              "      <td>0.90</td>\n",
              "      <td>48095.0</td>\n",
              "      <td>0.050</td>\n",
              "      <td>2672.0</td>\n",
              "      <td>0.050</td>\n",
              "      <td>2672.0</td>\n",
              "      <td>0.006908</td>\n",
              "      <td>-0.002861</td>\n",
              "      <td>-0.292893</td>\n",
              "    </tr>\n",
              "    <tr>\n",
              "      <th>2</th>\n",
              "      <td>0.85</td>\n",
              "      <td>45423.0</td>\n",
              "      <td>0.075</td>\n",
              "      <td>4008.0</td>\n",
              "      <td>0.075</td>\n",
              "      <td>4008.0</td>\n",
              "      <td>0.005640</td>\n",
              "      <td>-0.001268</td>\n",
              "      <td>-0.183503</td>\n",
              "    </tr>\n",
              "    <tr>\n",
              "      <th>3</th>\n",
              "      <td>0.80</td>\n",
              "      <td>42751.0</td>\n",
              "      <td>0.100</td>\n",
              "      <td>5344.0</td>\n",
              "      <td>0.100</td>\n",
              "      <td>5344.0</td>\n",
              "      <td>0.004885</td>\n",
              "      <td>-0.000756</td>\n",
              "      <td>-0.133975</td>\n",
              "    </tr>\n",
              "    <tr>\n",
              "      <th>4</th>\n",
              "      <td>0.75</td>\n",
              "      <td>40079.0</td>\n",
              "      <td>0.125</td>\n",
              "      <td>6680.0</td>\n",
              "      <td>0.125</td>\n",
              "      <td>6680.0</td>\n",
              "      <td>0.004369</td>\n",
              "      <td>-0.000516</td>\n",
              "      <td>-0.105573</td>\n",
              "    </tr>\n",
              "    <tr>\n",
              "      <th>5</th>\n",
              "      <td>0.70</td>\n",
              "      <td>37407.0</td>\n",
              "      <td>0.150</td>\n",
              "      <td>8016.0</td>\n",
              "      <td>0.150</td>\n",
              "      <td>8016.0</td>\n",
              "      <td>0.003988</td>\n",
              "      <td>-0.000381</td>\n",
              "      <td>-0.087129</td>\n",
              "    </tr>\n",
              "    <tr>\n",
              "      <th>6</th>\n",
              "      <td>0.65</td>\n",
              "      <td>34735.0</td>\n",
              "      <td>0.175</td>\n",
              "      <td>9352.0</td>\n",
              "      <td>0.175</td>\n",
              "      <td>9352.0</td>\n",
              "      <td>0.003692</td>\n",
              "      <td>-0.000296</td>\n",
              "      <td>-0.074180</td>\n",
              "    </tr>\n",
              "    <tr>\n",
              "      <th>7</th>\n",
              "      <td>0.60</td>\n",
              "      <td>32063.0</td>\n",
              "      <td>0.200</td>\n",
              "      <td>10688.0</td>\n",
              "      <td>0.200</td>\n",
              "      <td>10688.0</td>\n",
              "      <td>0.003454</td>\n",
              "      <td>-0.000238</td>\n",
              "      <td>-0.064586</td>\n",
              "    </tr>\n",
              "    <tr>\n",
              "      <th>8</th>\n",
              "      <td>0.55</td>\n",
              "      <td>29391.0</td>\n",
              "      <td>0.225</td>\n",
              "      <td>12024.0</td>\n",
              "      <td>0.225</td>\n",
              "      <td>12024.0</td>\n",
              "      <td>0.003256</td>\n",
              "      <td>-0.000198</td>\n",
              "      <td>-0.057191</td>\n",
              "    </tr>\n",
              "    <tr>\n",
              "      <th>9</th>\n",
              "      <td>0.50</td>\n",
              "      <td>26720.0</td>\n",
              "      <td>0.250</td>\n",
              "      <td>13360.0</td>\n",
              "      <td>0.250</td>\n",
              "      <td>13360.0</td>\n",
              "      <td>0.003089</td>\n",
              "      <td>-0.000167</td>\n",
              "      <td>-0.051317</td>\n",
              "    </tr>\n",
              "  </tbody>\n",
              "</table>\n",
              "</div>"
            ],
            "text/plain": [
              "   train_size (%)  train_size_count  validation_size (%)  \\\n",
              "0            0.95           50767.0                0.025   \n",
              "1            0.90           48095.0                0.050   \n",
              "2            0.85           45423.0                0.075   \n",
              "3            0.80           42751.0                0.100   \n",
              "4            0.75           40079.0                0.125   \n",
              "5            0.70           37407.0                0.150   \n",
              "6            0.65           34735.0                0.175   \n",
              "7            0.60           32063.0                0.200   \n",
              "8            0.55           29391.0                0.225   \n",
              "9            0.50           26720.0                0.250   \n",
              "\n",
              "   validation_size_count  test_size (%)  test_size_coount  currentSE  \\\n",
              "0                 1336.0          0.025            1336.0   0.009769   \n",
              "1                 2672.0          0.050            2672.0   0.006908   \n",
              "2                 4008.0          0.075            4008.0   0.005640   \n",
              "3                 5344.0          0.100            5344.0   0.004885   \n",
              "4                 6680.0          0.125            6680.0   0.004369   \n",
              "5                 8016.0          0.150            8016.0   0.003988   \n",
              "6                 9352.0          0.175            9352.0   0.003692   \n",
              "7                10688.0          0.200           10688.0   0.003454   \n",
              "8                12024.0          0.225           12024.0   0.003256   \n",
              "9                13360.0          0.250           13360.0   0.003089   \n",
              "\n",
              "   differenceToPriorSE  differenceToPriorSE (%)  \n",
              "0             0.009769                      inf  \n",
              "1            -0.002861                -0.292893  \n",
              "2            -0.001268                -0.183503  \n",
              "3            -0.000756                -0.133975  \n",
              "4            -0.000516                -0.105573  \n",
              "5            -0.000381                -0.087129  \n",
              "6            -0.000296                -0.074180  \n",
              "7            -0.000238                -0.064586  \n",
              "8            -0.000198                -0.057191  \n",
              "9            -0.000167                -0.051317  "
            ]
          },
          "execution_count": 29,
          "metadata": {},
          "output_type": "execute_result"
        }
      ],
      "source": [
        "dataset.asses_split_classifier(p=.85, step=.05, plot=True)"
      ]
    },
    {
      "cell_type": "markdown",
      "metadata": {},
      "source": [
        "[We can see a diminishing-returns class graph](https://en.wikipedia.org/wiki/Knee_of_a_curve). The more we decline the training set percentage the slower and more steadier the current SE varies as well as the difference to prior SE, in percentage. We can see that the knee in the curve is between 80 and 90 training set percentage. This represents the area where when you start going below the lower bound, no **significant** improve appears. Given the fact that our criteria for choice of split percentage is to keep as much training possible while increasing hold-out sets size only if the decrease in SE is significant **we are going to select 80% for the training set**."
      ]
    },
    {
      "cell_type": "code",
      "execution_count": 30,
      "metadata": {},
      "outputs": [
        {
          "data": {
            "text/plain": [
              "(       Memory_PssTotal  Memory_PssClean  Memory_SharedDirty  \\\n",
              " 48143            35115             2936               12944   \n",
              " 10388            71418            11352                8960   \n",
              " 11029           120450            30872               10704   \n",
              " 36609            42669             4156               12544   \n",
              " 26413            65679             3256               10792   \n",
              " ...                ...              ...                 ...   \n",
              " 42697            35571              208               11060   \n",
              " 36008            52445             5196               12452   \n",
              " 46265            37220             3464               12612   \n",
              " 23587           113947            39996               10852   \n",
              " 29313            79501             5476               10600   \n",
              " \n",
              "        Memory_PrivateDirty  Memory_SharedClean  Memory_PrivateClean  \\\n",
              " 48143                25560               83552                 3072   \n",
              " 10388                46700               84844                11468   \n",
              " 11029                71532              132144                31660   \n",
              " 36609                29872               91184                 4172   \n",
              " 26413                52684              101276                 6004   \n",
              " ...                    ...                 ...                  ...   \n",
              " 42697                32352               56960                  212   \n",
              " 36008                36008               98696                 7208   \n",
              " 46265                27708               82884                 3488   \n",
              " 23587                60764               99972                41624   \n",
              " 29313                66556               94636                 5580   \n",
              " \n",
              "        Memory_SwapPssDirty  Memory_HeapSize  Memory_HeapAlloc  \\\n",
              " 48143                    0             9086              5558   \n",
              " 10388                    0            15178             11581   \n",
              " 11029                    0            37109             30762   \n",
              " 36609                    0            13283             10668   \n",
              " 26413                    0            32054             24837   \n",
              " ...                    ...              ...               ...   \n",
              " 42697                    0             9027              5661   \n",
              " 36008                    0            17994             15059   \n",
              " 46265                    0            10049              7028   \n",
              " 23587                    0            43932             31028   \n",
              " 29313                    0            27634             20688   \n",
              " \n",
              "        Memory_HeapFree  ...  Battery_wakelock  Battery_service  Logcat_info  \\\n",
              " 48143             3527  ...                 3                0         4372   \n",
              " 10388             3596  ...                 2                2          693   \n",
              " 11029             6346  ...                 2                1         2422   \n",
              " 36609             2614  ...                 5                2         2323   \n",
              " 26413             7216  ...                 3                0         2271   \n",
              " ...                ...  ...               ...              ...          ...   \n",
              " 42697             3365  ...                 3                1         1801   \n",
              " 36008             2934  ...                 3                0          113   \n",
              " 46265             3020  ...                 5                1         3582   \n",
              " 23587            12903  ...                 5                0          926   \n",
              " 29313             6945  ...                 8                1          820   \n",
              " \n",
              "        Logcat_error  Logcat_warning  Logcat_debug  Logcat_verbose  \\\n",
              " 48143          2820            1369          1567            4737   \n",
              " 10388            99            2863          1702            2804   \n",
              " 11029          2959             925            98            3416   \n",
              " 36609           149             783          1954            2908   \n",
              " 26413          7564             626          1826             139   \n",
              " ...             ...             ...           ...             ...   \n",
              " 42697          1512            1660          1308             404   \n",
              " 36008          2628             802          2621            6419   \n",
              " 46265          4443            1225          1391            2992   \n",
              " 23587          3027            1510          1908            5238   \n",
              " 29313           106            2003          3506            2601   \n",
              " \n",
              "        Logcat_total  Process_total  Reboot  \n",
              " 48143         14865            188  before  \n",
              " 10388          8161            191   after  \n",
              " 11029          9820            196   after  \n",
              " 36609          8117            192   after  \n",
              " 26413         12426            192   after  \n",
              " ...             ...            ...     ...  \n",
              " 42697          6685            189  before  \n",
              " 36008         12583            193   after  \n",
              " 46265         13633            189  before  \n",
              " 23587         12609            187  before  \n",
              " 29313          9036            191   after  \n",
              " \n",
              " [42751 rows x 142 columns],\n",
              "        Memory_PssTotal  Memory_PssClean  Memory_SharedDirty  \\\n",
              " 18288            89260            35468               10708   \n",
              " 40648            48666            12528               10656   \n",
              " 8718             46730             5972               12100   \n",
              " 5961             52168             5372               12236   \n",
              " 32688            92303            25632               10584   \n",
              " ...                ...              ...                 ...   \n",
              " 20920            56561             1940               10620   \n",
              " 33656           114597            13464               11176   \n",
              " 32607           117458            37848               10640   \n",
              " 8923            101636            42696               11792   \n",
              " 38099            51156             5052               11076   \n",
              " \n",
              "        Memory_PrivateDirty  Memory_SharedClean  Memory_PrivateClean  \\\n",
              " 18288                43912              101788                37024   \n",
              " 40648                26508               71024                12660   \n",
              " 8718                 32660               93356                 6100   \n",
              " 5961                 33636               89756                 7224   \n",
              " 32688                58220               89048                26916   \n",
              " ...                    ...                 ...                  ...   \n",
              " 20920                44556               95240                 4684   \n",
              " 33656                88344               83848                17952   \n",
              " 32607                62936              112004                44524   \n",
              " 8923                 45016               99032                44444   \n",
              " 38099                37104               89148                 7908   \n",
              " \n",
              "        Memory_SwapPssDirty  Memory_HeapSize  Memory_HeapAlloc  \\\n",
              " 18288                    0            13438             10484   \n",
              " 40648                    0             7571              4444   \n",
              " 8718                     0            21473             17870   \n",
              " 5961                     0            17434             14267   \n",
              " 32688                    0            31904             24735   \n",
              " ...                    ...              ...               ...   \n",
              " 20920                    0            19531             16995   \n",
              " 33656                    0            33963             26513   \n",
              " 32607                    0            43343             37854   \n",
              " 8923                     0            26615             22085   \n",
              " 38099                    0            19344             16648   \n",
              " \n",
              "        Memory_HeapFree  ...  Battery_wakelock  Battery_service  Logcat_info  \\\n",
              " 18288             2953  ...                 4                1         1260   \n",
              " 40648             3126  ...                 3                2         3730   \n",
              " 8718              3602  ...                 8                1         1363   \n",
              " 5961              3166  ...                 3                1         4297   \n",
              " 32688             7168  ...                 2                0         1442   \n",
              " ...                ...  ...               ...              ...          ...   \n",
              " 20920             2535  ...                 5                3          705   \n",
              " 33656             7449  ...                 4                0         2736   \n",
              " 32607             5488  ...                 3                0         5119   \n",
              " 8923              4529  ...                 4                2         2489   \n",
              " 38099             2695  ...                 2                0         3312   \n",
              " \n",
              "        Logcat_error  Logcat_warning  Logcat_debug  Logcat_verbose  \\\n",
              " 18288          1890            3822          4762            3532   \n",
              " 40648          2898             113           970            3147   \n",
              " 8718            465            2332           138            1468   \n",
              " 5961           1748            3056          2978            1014   \n",
              " 32688          1665             734           110            2522   \n",
              " ...             ...             ...           ...             ...   \n",
              " 20920          1833            2840          1516            4116   \n",
              " 33656          2081            2651           633            1692   \n",
              " 32607           269             743          3890            2460   \n",
              " 8923            902             237          3404            2364   \n",
              " 38099          1138             414          3637            1974   \n",
              " \n",
              "        Logcat_total  Process_total  Reboot  \n",
              " 18288         15266            191  before  \n",
              " 40648         10858            191   after  \n",
              " 8718           5766            190   after  \n",
              " 5961          13093            191  before  \n",
              " 32688          6473            192   after  \n",
              " ...             ...            ...     ...  \n",
              " 20920         11010            187  before  \n",
              " 33656          9793            194  before  \n",
              " 32607         12481            193   after  \n",
              " 8923           9396            194   after  \n",
              " 38099         10475            193   after  \n",
              " \n",
              " [5344 rows x 142 columns],\n",
              "        Memory_PssTotal  Memory_PssClean  Memory_SharedDirty  \\\n",
              " 28550           142029             9644               10804   \n",
              " 43091            35900                0               11228   \n",
              " 8287            120639            32164               10724   \n",
              " 47969            32216             3552               12936   \n",
              " 29839            80737             2556               11012   \n",
              " ...                ...              ...                 ...   \n",
              " 53065            56160             8456               12012   \n",
              " 49176            40409             1268               11204   \n",
              " 30395            71344             4576               10624   \n",
              " 4491             39970             1692               10688   \n",
              " 2304             66112            26888               10180   \n",
              " \n",
              "        Memory_PrivateDirty  Memory_SharedClean  Memory_PrivateClean  \\\n",
              " 28550               123028               67116                10220   \n",
              " 43091                33240               52236                    4   \n",
              " 8287                 79364              102076                33536   \n",
              " 47969                23972               66432                 3564   \n",
              " 29839                64316               90308                10252   \n",
              " ...                    ...                 ...                  ...   \n",
              " 53065                34720               96740                11544   \n",
              " 49176                35692               62172                 1272   \n",
              " 30395                57848              107704                 4616   \n",
              " 4491                 29372               88400                 3964   \n",
              " 2304                 26108               58108                27336   \n",
              " \n",
              "        Memory_SwapPssDirty  Memory_HeapSize  Memory_HeapAlloc  \\\n",
              " 28550                    0            40778             30782   \n",
              " 43091                    0             9026              5604   \n",
              " 8287                     0            37049             29643   \n",
              " 47969                    0             7897              4791   \n",
              " 29839                    0            47900             36743   \n",
              " ...                    ...              ...               ...   \n",
              " 53065                    0            11466              8843   \n",
              " 49176                    0             7921              5985   \n",
              " 30395                    0            24922             19530   \n",
              " 4491                     0            12228              9262   \n",
              " 2304                     0             8796              6031   \n",
              " \n",
              "        Memory_HeapFree  ...  Battery_wakelock  Battery_service  Logcat_info  \\\n",
              " 28550             9995  ...                 4                0         1854   \n",
              " 43091             3421  ...                 3                1          753   \n",
              " 8287              7405  ...                 2                0          115   \n",
              " 47969             3105  ...                 3                0         2657   \n",
              " 29839            11156  ...                 2                1          626   \n",
              " ...                ...  ...               ...              ...          ...   \n",
              " 53065             2622  ...                 6                1         2503   \n",
              " 49176             1935  ...                 3                0         1529   \n",
              " 30395             5391  ...                 8                1         3398   \n",
              " 4491              2965  ...                 6                0         1560   \n",
              " 2304              2764  ...                 4                1         1070   \n",
              " \n",
              "        Logcat_error  Logcat_warning  Logcat_debug  Logcat_verbose  \\\n",
              " 28550          1162            1512          1975            2807   \n",
              " 43091          1673            2602          1541            3550   \n",
              " 8287           2370            3863          1387            1691   \n",
              " 47969          1561            4380          3265            1415   \n",
              " 29839          2142            2488           195            4399   \n",
              " ...             ...             ...           ...             ...   \n",
              " 53065          1609           10482           956            3464   \n",
              " 49176           937            3319          1538            2902   \n",
              " 30395          1916             734           106            2481   \n",
              " 4491           2403             932          2394            2423   \n",
              " 2304          10940            1514          3870            3745   \n",
              " \n",
              "        Logcat_total  Process_total  Reboot  \n",
              " 28550          9310            189  before  \n",
              " 43091         10119            191  before  \n",
              " 8287           9426            193   after  \n",
              " 47969         13278            188  before  \n",
              " 29839          9850            193   after  \n",
              " ...             ...            ...     ...  \n",
              " 53065         19014            188  before  \n",
              " 49176         10225            189  before  \n",
              " 30395          8635            192   after  \n",
              " 4491           9712            186  before  \n",
              " 2304          21139            188  before  \n",
              " \n",
              " [5344 rows x 142 columns],\n",
              " 48143        Trojan\n",
              " 10388        Adware\n",
              " 11029        Adware\n",
              " 36609      Riskware\n",
              " 26413      Zero_Day\n",
              "             ...    \n",
              " 42697    Trojan_Spy\n",
              " 36008      Riskware\n",
              " 46265        Trojan\n",
              " 23587      Riskware\n",
              " 29313        Trojan\n",
              " Name: Category, Length: 42751, dtype: object,\n",
              " 18288       Riskware\n",
              " 40648       Riskware\n",
              " 8718          Adware\n",
              " 5961          Adware\n",
              " 32688         Trojan\n",
              "             ...     \n",
              " 20920       Riskware\n",
              " 33656    No_Category\n",
              " 32607         Trojan\n",
              " 8923          Adware\n",
              " 38099       Riskware\n",
              " Name: Category, Length: 5344, dtype: object,\n",
              " 28550      Zero_Day\n",
              " 43091    Trojan_Spy\n",
              " 8287         Adware\n",
              " 47969        Trojan\n",
              " 29839        Trojan\n",
              "             ...    \n",
              " 53065           PUA\n",
              " 49176    Ransomware\n",
              " 30395        Trojan\n",
              " 4491         Adware\n",
              " 2304         Adware\n",
              " Name: Category, Length: 5344, dtype: object)"
            ]
          },
          "execution_count": 30,
          "metadata": {},
          "output_type": "execute_result"
        }
      ],
      "source": [
        "dataset.split_data(y_column=\"Category\", train_size=.8, validation_size=.1, test_size=.1)"
      ]
    },
    {
      "cell_type": "code",
      "execution_count": 31,
      "metadata": {},
      "outputs": [
        {
          "data": {
            "text/plain": [
              "((42751, 142), (5344, 142), (5344, 142), (42751,), (5344,), (5344,))"
            ]
          },
          "execution_count": 31,
          "metadata": {},
          "output_type": "execute_result"
        }
      ],
      "source": [
        "dataset.X_train.shape, dataset.X_validation.shape, dataset.X_test.shape, dataset.y_train.shape, dataset.y_validation.shape, dataset.y_test.shape"
      ]
    },
    {
      "cell_type": "markdown",
      "metadata": {},
      "source": [
        "<hr>"
      ]
    },
    {
      "cell_type": "markdown",
      "metadata": {},
      "source": [
        "# 3. DATA PREPROCESSING"
      ]
    },
    {
      "cell_type": "markdown",
      "metadata": {},
      "source": [
        "### Feature Scaling"
      ]
    },
    {
      "cell_type": "markdown",
      "metadata": {},
      "source": [
        "We will work only with the training set to avoid data leakage."
      ]
    },
    {
      "cell_type": "code",
      "execution_count": 32,
      "metadata": {},
      "outputs": [
        {
          "data": {
            "text/html": [
              "<div>\n",
              "<style scoped>\n",
              "    .dataframe tbody tr th:only-of-type {\n",
              "        vertical-align: middle;\n",
              "    }\n",
              "\n",
              "    .dataframe tbody tr th {\n",
              "        vertical-align: top;\n",
              "    }\n",
              "\n",
              "    .dataframe thead th {\n",
              "        text-align: right;\n",
              "    }\n",
              "</style>\n",
              "<table border=\"1\" class=\"dataframe\">\n",
              "  <thead>\n",
              "    <tr style=\"text-align: right;\">\n",
              "      <th></th>\n",
              "      <th>Memory_PssTotal</th>\n",
              "      <th>Memory_PssClean</th>\n",
              "      <th>Memory_SharedDirty</th>\n",
              "      <th>Memory_PrivateDirty</th>\n",
              "      <th>Memory_SharedClean</th>\n",
              "      <th>Memory_PrivateClean</th>\n",
              "      <th>Memory_SwapPssDirty</th>\n",
              "      <th>Memory_HeapSize</th>\n",
              "      <th>Memory_HeapAlloc</th>\n",
              "      <th>Memory_HeapFree</th>\n",
              "      <th>...</th>\n",
              "      <th>Battery_wakelock</th>\n",
              "      <th>Battery_service</th>\n",
              "      <th>Logcat_info</th>\n",
              "      <th>Logcat_error</th>\n",
              "      <th>Logcat_warning</th>\n",
              "      <th>Logcat_debug</th>\n",
              "      <th>Logcat_verbose</th>\n",
              "      <th>Logcat_total</th>\n",
              "      <th>Process_total</th>\n",
              "      <th>Reboot</th>\n",
              "    </tr>\n",
              "  </thead>\n",
              "  <tbody>\n",
              "    <tr>\n",
              "      <th>48143</th>\n",
              "      <td>35115</td>\n",
              "      <td>2936</td>\n",
              "      <td>12944</td>\n",
              "      <td>25560</td>\n",
              "      <td>83552</td>\n",
              "      <td>3072</td>\n",
              "      <td>0</td>\n",
              "      <td>9086</td>\n",
              "      <td>5558</td>\n",
              "      <td>3527</td>\n",
              "      <td>...</td>\n",
              "      <td>3</td>\n",
              "      <td>0</td>\n",
              "      <td>4372</td>\n",
              "      <td>2820</td>\n",
              "      <td>1369</td>\n",
              "      <td>1567</td>\n",
              "      <td>4737</td>\n",
              "      <td>14865</td>\n",
              "      <td>188</td>\n",
              "      <td>before</td>\n",
              "    </tr>\n",
              "    <tr>\n",
              "      <th>10388</th>\n",
              "      <td>71418</td>\n",
              "      <td>11352</td>\n",
              "      <td>8960</td>\n",
              "      <td>46700</td>\n",
              "      <td>84844</td>\n",
              "      <td>11468</td>\n",
              "      <td>0</td>\n",
              "      <td>15178</td>\n",
              "      <td>11581</td>\n",
              "      <td>3596</td>\n",
              "      <td>...</td>\n",
              "      <td>2</td>\n",
              "      <td>2</td>\n",
              "      <td>693</td>\n",
              "      <td>99</td>\n",
              "      <td>2863</td>\n",
              "      <td>1702</td>\n",
              "      <td>2804</td>\n",
              "      <td>8161</td>\n",
              "      <td>191</td>\n",
              "      <td>after</td>\n",
              "    </tr>\n",
              "    <tr>\n",
              "      <th>11029</th>\n",
              "      <td>120450</td>\n",
              "      <td>30872</td>\n",
              "      <td>10704</td>\n",
              "      <td>71532</td>\n",
              "      <td>132144</td>\n",
              "      <td>31660</td>\n",
              "      <td>0</td>\n",
              "      <td>37109</td>\n",
              "      <td>30762</td>\n",
              "      <td>6346</td>\n",
              "      <td>...</td>\n",
              "      <td>2</td>\n",
              "      <td>1</td>\n",
              "      <td>2422</td>\n",
              "      <td>2959</td>\n",
              "      <td>925</td>\n",
              "      <td>98</td>\n",
              "      <td>3416</td>\n",
              "      <td>9820</td>\n",
              "      <td>196</td>\n",
              "      <td>after</td>\n",
              "    </tr>\n",
              "    <tr>\n",
              "      <th>36609</th>\n",
              "      <td>42669</td>\n",
              "      <td>4156</td>\n",
              "      <td>12544</td>\n",
              "      <td>29872</td>\n",
              "      <td>91184</td>\n",
              "      <td>4172</td>\n",
              "      <td>0</td>\n",
              "      <td>13283</td>\n",
              "      <td>10668</td>\n",
              "      <td>2614</td>\n",
              "      <td>...</td>\n",
              "      <td>5</td>\n",
              "      <td>2</td>\n",
              "      <td>2323</td>\n",
              "      <td>149</td>\n",
              "      <td>783</td>\n",
              "      <td>1954</td>\n",
              "      <td>2908</td>\n",
              "      <td>8117</td>\n",
              "      <td>192</td>\n",
              "      <td>after</td>\n",
              "    </tr>\n",
              "    <tr>\n",
              "      <th>26413</th>\n",
              "      <td>65679</td>\n",
              "      <td>3256</td>\n",
              "      <td>10792</td>\n",
              "      <td>52684</td>\n",
              "      <td>101276</td>\n",
              "      <td>6004</td>\n",
              "      <td>0</td>\n",
              "      <td>32054</td>\n",
              "      <td>24837</td>\n",
              "      <td>7216</td>\n",
              "      <td>...</td>\n",
              "      <td>3</td>\n",
              "      <td>0</td>\n",
              "      <td>2271</td>\n",
              "      <td>7564</td>\n",
              "      <td>626</td>\n",
              "      <td>1826</td>\n",
              "      <td>139</td>\n",
              "      <td>12426</td>\n",
              "      <td>192</td>\n",
              "      <td>after</td>\n",
              "    </tr>\n",
              "    <tr>\n",
              "      <th>...</th>\n",
              "      <td>...</td>\n",
              "      <td>...</td>\n",
              "      <td>...</td>\n",
              "      <td>...</td>\n",
              "      <td>...</td>\n",
              "      <td>...</td>\n",
              "      <td>...</td>\n",
              "      <td>...</td>\n",
              "      <td>...</td>\n",
              "      <td>...</td>\n",
              "      <td>...</td>\n",
              "      <td>...</td>\n",
              "      <td>...</td>\n",
              "      <td>...</td>\n",
              "      <td>...</td>\n",
              "      <td>...</td>\n",
              "      <td>...</td>\n",
              "      <td>...</td>\n",
              "      <td>...</td>\n",
              "      <td>...</td>\n",
              "      <td>...</td>\n",
              "    </tr>\n",
              "    <tr>\n",
              "      <th>42697</th>\n",
              "      <td>35571</td>\n",
              "      <td>208</td>\n",
              "      <td>11060</td>\n",
              "      <td>32352</td>\n",
              "      <td>56960</td>\n",
              "      <td>212</td>\n",
              "      <td>0</td>\n",
              "      <td>9027</td>\n",
              "      <td>5661</td>\n",
              "      <td>3365</td>\n",
              "      <td>...</td>\n",
              "      <td>3</td>\n",
              "      <td>1</td>\n",
              "      <td>1801</td>\n",
              "      <td>1512</td>\n",
              "      <td>1660</td>\n",
              "      <td>1308</td>\n",
              "      <td>404</td>\n",
              "      <td>6685</td>\n",
              "      <td>189</td>\n",
              "      <td>before</td>\n",
              "    </tr>\n",
              "    <tr>\n",
              "      <th>36008</th>\n",
              "      <td>52445</td>\n",
              "      <td>5196</td>\n",
              "      <td>12452</td>\n",
              "      <td>36008</td>\n",
              "      <td>98696</td>\n",
              "      <td>7208</td>\n",
              "      <td>0</td>\n",
              "      <td>17994</td>\n",
              "      <td>15059</td>\n",
              "      <td>2934</td>\n",
              "      <td>...</td>\n",
              "      <td>3</td>\n",
              "      <td>0</td>\n",
              "      <td>113</td>\n",
              "      <td>2628</td>\n",
              "      <td>802</td>\n",
              "      <td>2621</td>\n",
              "      <td>6419</td>\n",
              "      <td>12583</td>\n",
              "      <td>193</td>\n",
              "      <td>after</td>\n",
              "    </tr>\n",
              "    <tr>\n",
              "      <th>46265</th>\n",
              "      <td>37220</td>\n",
              "      <td>3464</td>\n",
              "      <td>12612</td>\n",
              "      <td>27708</td>\n",
              "      <td>82884</td>\n",
              "      <td>3488</td>\n",
              "      <td>0</td>\n",
              "      <td>10049</td>\n",
              "      <td>7028</td>\n",
              "      <td>3020</td>\n",
              "      <td>...</td>\n",
              "      <td>5</td>\n",
              "      <td>1</td>\n",
              "      <td>3582</td>\n",
              "      <td>4443</td>\n",
              "      <td>1225</td>\n",
              "      <td>1391</td>\n",
              "      <td>2992</td>\n",
              "      <td>13633</td>\n",
              "      <td>189</td>\n",
              "      <td>before</td>\n",
              "    </tr>\n",
              "    <tr>\n",
              "      <th>23587</th>\n",
              "      <td>113947</td>\n",
              "      <td>39996</td>\n",
              "      <td>10852</td>\n",
              "      <td>60764</td>\n",
              "      <td>99972</td>\n",
              "      <td>41624</td>\n",
              "      <td>0</td>\n",
              "      <td>43932</td>\n",
              "      <td>31028</td>\n",
              "      <td>12903</td>\n",
              "      <td>...</td>\n",
              "      <td>5</td>\n",
              "      <td>0</td>\n",
              "      <td>926</td>\n",
              "      <td>3027</td>\n",
              "      <td>1510</td>\n",
              "      <td>1908</td>\n",
              "      <td>5238</td>\n",
              "      <td>12609</td>\n",
              "      <td>187</td>\n",
              "      <td>before</td>\n",
              "    </tr>\n",
              "    <tr>\n",
              "      <th>29313</th>\n",
              "      <td>79501</td>\n",
              "      <td>5476</td>\n",
              "      <td>10600</td>\n",
              "      <td>66556</td>\n",
              "      <td>94636</td>\n",
              "      <td>5580</td>\n",
              "      <td>0</td>\n",
              "      <td>27634</td>\n",
              "      <td>20688</td>\n",
              "      <td>6945</td>\n",
              "      <td>...</td>\n",
              "      <td>8</td>\n",
              "      <td>1</td>\n",
              "      <td>820</td>\n",
              "      <td>106</td>\n",
              "      <td>2003</td>\n",
              "      <td>3506</td>\n",
              "      <td>2601</td>\n",
              "      <td>9036</td>\n",
              "      <td>191</td>\n",
              "      <td>after</td>\n",
              "    </tr>\n",
              "  </tbody>\n",
              "</table>\n",
              "<p>42751 rows × 142 columns</p>\n",
              "</div>"
            ],
            "text/plain": [
              "       Memory_PssTotal  Memory_PssClean  Memory_SharedDirty  \\\n",
              "48143            35115             2936               12944   \n",
              "10388            71418            11352                8960   \n",
              "11029           120450            30872               10704   \n",
              "36609            42669             4156               12544   \n",
              "26413            65679             3256               10792   \n",
              "...                ...              ...                 ...   \n",
              "42697            35571              208               11060   \n",
              "36008            52445             5196               12452   \n",
              "46265            37220             3464               12612   \n",
              "23587           113947            39996               10852   \n",
              "29313            79501             5476               10600   \n",
              "\n",
              "       Memory_PrivateDirty  Memory_SharedClean  Memory_PrivateClean  \\\n",
              "48143                25560               83552                 3072   \n",
              "10388                46700               84844                11468   \n",
              "11029                71532              132144                31660   \n",
              "36609                29872               91184                 4172   \n",
              "26413                52684              101276                 6004   \n",
              "...                    ...                 ...                  ...   \n",
              "42697                32352               56960                  212   \n",
              "36008                36008               98696                 7208   \n",
              "46265                27708               82884                 3488   \n",
              "23587                60764               99972                41624   \n",
              "29313                66556               94636                 5580   \n",
              "\n",
              "       Memory_SwapPssDirty  Memory_HeapSize  Memory_HeapAlloc  \\\n",
              "48143                    0             9086              5558   \n",
              "10388                    0            15178             11581   \n",
              "11029                    0            37109             30762   \n",
              "36609                    0            13283             10668   \n",
              "26413                    0            32054             24837   \n",
              "...                    ...              ...               ...   \n",
              "42697                    0             9027              5661   \n",
              "36008                    0            17994             15059   \n",
              "46265                    0            10049              7028   \n",
              "23587                    0            43932             31028   \n",
              "29313                    0            27634             20688   \n",
              "\n",
              "       Memory_HeapFree  ...  Battery_wakelock  Battery_service  Logcat_info  \\\n",
              "48143             3527  ...                 3                0         4372   \n",
              "10388             3596  ...                 2                2          693   \n",
              "11029             6346  ...                 2                1         2422   \n",
              "36609             2614  ...                 5                2         2323   \n",
              "26413             7216  ...                 3                0         2271   \n",
              "...                ...  ...               ...              ...          ...   \n",
              "42697             3365  ...                 3                1         1801   \n",
              "36008             2934  ...                 3                0          113   \n",
              "46265             3020  ...                 5                1         3582   \n",
              "23587            12903  ...                 5                0          926   \n",
              "29313             6945  ...                 8                1          820   \n",
              "\n",
              "       Logcat_error  Logcat_warning  Logcat_debug  Logcat_verbose  \\\n",
              "48143          2820            1369          1567            4737   \n",
              "10388            99            2863          1702            2804   \n",
              "11029          2959             925            98            3416   \n",
              "36609           149             783          1954            2908   \n",
              "26413          7564             626          1826             139   \n",
              "...             ...             ...           ...             ...   \n",
              "42697          1512            1660          1308             404   \n",
              "36008          2628             802          2621            6419   \n",
              "46265          4443            1225          1391            2992   \n",
              "23587          3027            1510          1908            5238   \n",
              "29313           106            2003          3506            2601   \n",
              "\n",
              "       Logcat_total  Process_total  Reboot  \n",
              "48143         14865            188  before  \n",
              "10388          8161            191   after  \n",
              "11029          9820            196   after  \n",
              "36609          8117            192   after  \n",
              "26413         12426            192   after  \n",
              "...             ...            ...     ...  \n",
              "42697          6685            189  before  \n",
              "36008         12583            193   after  \n",
              "46265         13633            189  before  \n",
              "23587         12609            187  before  \n",
              "29313          9036            191   after  \n",
              "\n",
              "[42751 rows x 142 columns]"
            ]
          },
          "execution_count": 32,
          "metadata": {},
          "output_type": "execute_result"
        }
      ],
      "source": [
        "dataset.X_train"
      ]
    },
    {
      "cell_type": "markdown",
      "metadata": {},
      "source": [
        "We eliminate the field `Reboot_before` since it is boolean."
      ]
    },
    {
      "cell_type": "code",
      "execution_count": 33,
      "metadata": {},
      "outputs": [
        {
          "data": {
            "text/html": [
              "<div>\n",
              "<style scoped>\n",
              "    .dataframe tbody tr th:only-of-type {\n",
              "        vertical-align: middle;\n",
              "    }\n",
              "\n",
              "    .dataframe tbody tr th {\n",
              "        vertical-align: top;\n",
              "    }\n",
              "\n",
              "    .dataframe thead th {\n",
              "        text-align: right;\n",
              "    }\n",
              "</style>\n",
              "<table border=\"1\" class=\"dataframe\">\n",
              "  <thead>\n",
              "    <tr style=\"text-align: right;\">\n",
              "      <th></th>\n",
              "      <th>Memory_PssTotal</th>\n",
              "      <th>Memory_PssClean</th>\n",
              "      <th>Memory_SharedDirty</th>\n",
              "      <th>Memory_PrivateDirty</th>\n",
              "      <th>Memory_SharedClean</th>\n",
              "      <th>Memory_PrivateClean</th>\n",
              "      <th>Memory_SwapPssDirty</th>\n",
              "      <th>Memory_HeapSize</th>\n",
              "      <th>Memory_HeapAlloc</th>\n",
              "      <th>Memory_HeapFree</th>\n",
              "      <th>...</th>\n",
              "      <th>Network_TotalTransmittedPackets</th>\n",
              "      <th>Battery_wakelock</th>\n",
              "      <th>Battery_service</th>\n",
              "      <th>Logcat_info</th>\n",
              "      <th>Logcat_error</th>\n",
              "      <th>Logcat_warning</th>\n",
              "      <th>Logcat_debug</th>\n",
              "      <th>Logcat_verbose</th>\n",
              "      <th>Logcat_total</th>\n",
              "      <th>Process_total</th>\n",
              "    </tr>\n",
              "  </thead>\n",
              "  <tbody>\n",
              "    <tr>\n",
              "      <th>48143</th>\n",
              "      <td>35115</td>\n",
              "      <td>2936</td>\n",
              "      <td>12944</td>\n",
              "      <td>25560</td>\n",
              "      <td>83552</td>\n",
              "      <td>3072</td>\n",
              "      <td>0</td>\n",
              "      <td>9086</td>\n",
              "      <td>5558</td>\n",
              "      <td>3527</td>\n",
              "      <td>...</td>\n",
              "      <td>0</td>\n",
              "      <td>3</td>\n",
              "      <td>0</td>\n",
              "      <td>4372</td>\n",
              "      <td>2820</td>\n",
              "      <td>1369</td>\n",
              "      <td>1567</td>\n",
              "      <td>4737</td>\n",
              "      <td>14865</td>\n",
              "      <td>188</td>\n",
              "    </tr>\n",
              "    <tr>\n",
              "      <th>10388</th>\n",
              "      <td>71418</td>\n",
              "      <td>11352</td>\n",
              "      <td>8960</td>\n",
              "      <td>46700</td>\n",
              "      <td>84844</td>\n",
              "      <td>11468</td>\n",
              "      <td>0</td>\n",
              "      <td>15178</td>\n",
              "      <td>11581</td>\n",
              "      <td>3596</td>\n",
              "      <td>...</td>\n",
              "      <td>0</td>\n",
              "      <td>2</td>\n",
              "      <td>2</td>\n",
              "      <td>693</td>\n",
              "      <td>99</td>\n",
              "      <td>2863</td>\n",
              "      <td>1702</td>\n",
              "      <td>2804</td>\n",
              "      <td>8161</td>\n",
              "      <td>191</td>\n",
              "    </tr>\n",
              "    <tr>\n",
              "      <th>11029</th>\n",
              "      <td>120450</td>\n",
              "      <td>30872</td>\n",
              "      <td>10704</td>\n",
              "      <td>71532</td>\n",
              "      <td>132144</td>\n",
              "      <td>31660</td>\n",
              "      <td>0</td>\n",
              "      <td>37109</td>\n",
              "      <td>30762</td>\n",
              "      <td>6346</td>\n",
              "      <td>...</td>\n",
              "      <td>123</td>\n",
              "      <td>2</td>\n",
              "      <td>1</td>\n",
              "      <td>2422</td>\n",
              "      <td>2959</td>\n",
              "      <td>925</td>\n",
              "      <td>98</td>\n",
              "      <td>3416</td>\n",
              "      <td>9820</td>\n",
              "      <td>196</td>\n",
              "    </tr>\n",
              "    <tr>\n",
              "      <th>36609</th>\n",
              "      <td>42669</td>\n",
              "      <td>4156</td>\n",
              "      <td>12544</td>\n",
              "      <td>29872</td>\n",
              "      <td>91184</td>\n",
              "      <td>4172</td>\n",
              "      <td>0</td>\n",
              "      <td>13283</td>\n",
              "      <td>10668</td>\n",
              "      <td>2614</td>\n",
              "      <td>...</td>\n",
              "      <td>86</td>\n",
              "      <td>5</td>\n",
              "      <td>2</td>\n",
              "      <td>2323</td>\n",
              "      <td>149</td>\n",
              "      <td>783</td>\n",
              "      <td>1954</td>\n",
              "      <td>2908</td>\n",
              "      <td>8117</td>\n",
              "      <td>192</td>\n",
              "    </tr>\n",
              "    <tr>\n",
              "      <th>26413</th>\n",
              "      <td>65679</td>\n",
              "      <td>3256</td>\n",
              "      <td>10792</td>\n",
              "      <td>52684</td>\n",
              "      <td>101276</td>\n",
              "      <td>6004</td>\n",
              "      <td>0</td>\n",
              "      <td>32054</td>\n",
              "      <td>24837</td>\n",
              "      <td>7216</td>\n",
              "      <td>...</td>\n",
              "      <td>27</td>\n",
              "      <td>3</td>\n",
              "      <td>0</td>\n",
              "      <td>2271</td>\n",
              "      <td>7564</td>\n",
              "      <td>626</td>\n",
              "      <td>1826</td>\n",
              "      <td>139</td>\n",
              "      <td>12426</td>\n",
              "      <td>192</td>\n",
              "    </tr>\n",
              "    <tr>\n",
              "      <th>...</th>\n",
              "      <td>...</td>\n",
              "      <td>...</td>\n",
              "      <td>...</td>\n",
              "      <td>...</td>\n",
              "      <td>...</td>\n",
              "      <td>...</td>\n",
              "      <td>...</td>\n",
              "      <td>...</td>\n",
              "      <td>...</td>\n",
              "      <td>...</td>\n",
              "      <td>...</td>\n",
              "      <td>...</td>\n",
              "      <td>...</td>\n",
              "      <td>...</td>\n",
              "      <td>...</td>\n",
              "      <td>...</td>\n",
              "      <td>...</td>\n",
              "      <td>...</td>\n",
              "      <td>...</td>\n",
              "      <td>...</td>\n",
              "      <td>...</td>\n",
              "    </tr>\n",
              "    <tr>\n",
              "      <th>42697</th>\n",
              "      <td>35571</td>\n",
              "      <td>208</td>\n",
              "      <td>11060</td>\n",
              "      <td>32352</td>\n",
              "      <td>56960</td>\n",
              "      <td>212</td>\n",
              "      <td>0</td>\n",
              "      <td>9027</td>\n",
              "      <td>5661</td>\n",
              "      <td>3365</td>\n",
              "      <td>...</td>\n",
              "      <td>0</td>\n",
              "      <td>3</td>\n",
              "      <td>1</td>\n",
              "      <td>1801</td>\n",
              "      <td>1512</td>\n",
              "      <td>1660</td>\n",
              "      <td>1308</td>\n",
              "      <td>404</td>\n",
              "      <td>6685</td>\n",
              "      <td>189</td>\n",
              "    </tr>\n",
              "    <tr>\n",
              "      <th>36008</th>\n",
              "      <td>52445</td>\n",
              "      <td>5196</td>\n",
              "      <td>12452</td>\n",
              "      <td>36008</td>\n",
              "      <td>98696</td>\n",
              "      <td>7208</td>\n",
              "      <td>0</td>\n",
              "      <td>17994</td>\n",
              "      <td>15059</td>\n",
              "      <td>2934</td>\n",
              "      <td>...</td>\n",
              "      <td>129</td>\n",
              "      <td>3</td>\n",
              "      <td>0</td>\n",
              "      <td>113</td>\n",
              "      <td>2628</td>\n",
              "      <td>802</td>\n",
              "      <td>2621</td>\n",
              "      <td>6419</td>\n",
              "      <td>12583</td>\n",
              "      <td>193</td>\n",
              "    </tr>\n",
              "    <tr>\n",
              "      <th>46265</th>\n",
              "      <td>37220</td>\n",
              "      <td>3464</td>\n",
              "      <td>12612</td>\n",
              "      <td>27708</td>\n",
              "      <td>82884</td>\n",
              "      <td>3488</td>\n",
              "      <td>0</td>\n",
              "      <td>10049</td>\n",
              "      <td>7028</td>\n",
              "      <td>3020</td>\n",
              "      <td>...</td>\n",
              "      <td>0</td>\n",
              "      <td>5</td>\n",
              "      <td>1</td>\n",
              "      <td>3582</td>\n",
              "      <td>4443</td>\n",
              "      <td>1225</td>\n",
              "      <td>1391</td>\n",
              "      <td>2992</td>\n",
              "      <td>13633</td>\n",
              "      <td>189</td>\n",
              "    </tr>\n",
              "    <tr>\n",
              "      <th>23587</th>\n",
              "      <td>113947</td>\n",
              "      <td>39996</td>\n",
              "      <td>10852</td>\n",
              "      <td>60764</td>\n",
              "      <td>99972</td>\n",
              "      <td>41624</td>\n",
              "      <td>0</td>\n",
              "      <td>43932</td>\n",
              "      <td>31028</td>\n",
              "      <td>12903</td>\n",
              "      <td>...</td>\n",
              "      <td>37</td>\n",
              "      <td>5</td>\n",
              "      <td>0</td>\n",
              "      <td>926</td>\n",
              "      <td>3027</td>\n",
              "      <td>1510</td>\n",
              "      <td>1908</td>\n",
              "      <td>5238</td>\n",
              "      <td>12609</td>\n",
              "      <td>187</td>\n",
              "    </tr>\n",
              "    <tr>\n",
              "      <th>29313</th>\n",
              "      <td>79501</td>\n",
              "      <td>5476</td>\n",
              "      <td>10600</td>\n",
              "      <td>66556</td>\n",
              "      <td>94636</td>\n",
              "      <td>5580</td>\n",
              "      <td>0</td>\n",
              "      <td>27634</td>\n",
              "      <td>20688</td>\n",
              "      <td>6945</td>\n",
              "      <td>...</td>\n",
              "      <td>40</td>\n",
              "      <td>8</td>\n",
              "      <td>1</td>\n",
              "      <td>820</td>\n",
              "      <td>106</td>\n",
              "      <td>2003</td>\n",
              "      <td>3506</td>\n",
              "      <td>2601</td>\n",
              "      <td>9036</td>\n",
              "      <td>191</td>\n",
              "    </tr>\n",
              "  </tbody>\n",
              "</table>\n",
              "<p>42751 rows × 141 columns</p>\n",
              "</div>"
            ],
            "text/plain": [
              "       Memory_PssTotal  Memory_PssClean  Memory_SharedDirty  \\\n",
              "48143            35115             2936               12944   \n",
              "10388            71418            11352                8960   \n",
              "11029           120450            30872               10704   \n",
              "36609            42669             4156               12544   \n",
              "26413            65679             3256               10792   \n",
              "...                ...              ...                 ...   \n",
              "42697            35571              208               11060   \n",
              "36008            52445             5196               12452   \n",
              "46265            37220             3464               12612   \n",
              "23587           113947            39996               10852   \n",
              "29313            79501             5476               10600   \n",
              "\n",
              "       Memory_PrivateDirty  Memory_SharedClean  Memory_PrivateClean  \\\n",
              "48143                25560               83552                 3072   \n",
              "10388                46700               84844                11468   \n",
              "11029                71532              132144                31660   \n",
              "36609                29872               91184                 4172   \n",
              "26413                52684              101276                 6004   \n",
              "...                    ...                 ...                  ...   \n",
              "42697                32352               56960                  212   \n",
              "36008                36008               98696                 7208   \n",
              "46265                27708               82884                 3488   \n",
              "23587                60764               99972                41624   \n",
              "29313                66556               94636                 5580   \n",
              "\n",
              "       Memory_SwapPssDirty  Memory_HeapSize  Memory_HeapAlloc  \\\n",
              "48143                    0             9086              5558   \n",
              "10388                    0            15178             11581   \n",
              "11029                    0            37109             30762   \n",
              "36609                    0            13283             10668   \n",
              "26413                    0            32054             24837   \n",
              "...                    ...              ...               ...   \n",
              "42697                    0             9027              5661   \n",
              "36008                    0            17994             15059   \n",
              "46265                    0            10049              7028   \n",
              "23587                    0            43932             31028   \n",
              "29313                    0            27634             20688   \n",
              "\n",
              "       Memory_HeapFree  ...  Network_TotalTransmittedPackets  \\\n",
              "48143             3527  ...                                0   \n",
              "10388             3596  ...                                0   \n",
              "11029             6346  ...                              123   \n",
              "36609             2614  ...                               86   \n",
              "26413             7216  ...                               27   \n",
              "...                ...  ...                              ...   \n",
              "42697             3365  ...                                0   \n",
              "36008             2934  ...                              129   \n",
              "46265             3020  ...                                0   \n",
              "23587            12903  ...                               37   \n",
              "29313             6945  ...                               40   \n",
              "\n",
              "       Battery_wakelock  Battery_service  Logcat_info  Logcat_error  \\\n",
              "48143                 3                0         4372          2820   \n",
              "10388                 2                2          693            99   \n",
              "11029                 2                1         2422          2959   \n",
              "36609                 5                2         2323           149   \n",
              "26413                 3                0         2271          7564   \n",
              "...                 ...              ...          ...           ...   \n",
              "42697                 3                1         1801          1512   \n",
              "36008                 3                0          113          2628   \n",
              "46265                 5                1         3582          4443   \n",
              "23587                 5                0          926          3027   \n",
              "29313                 8                1          820           106   \n",
              "\n",
              "       Logcat_warning  Logcat_debug  Logcat_verbose  Logcat_total  \\\n",
              "48143            1369          1567            4737         14865   \n",
              "10388            2863          1702            2804          8161   \n",
              "11029             925            98            3416          9820   \n",
              "36609             783          1954            2908          8117   \n",
              "26413             626          1826             139         12426   \n",
              "...               ...           ...             ...           ...   \n",
              "42697            1660          1308             404          6685   \n",
              "36008             802          2621            6419         12583   \n",
              "46265            1225          1391            2992         13633   \n",
              "23587            1510          1908            5238         12609   \n",
              "29313            2003          3506            2601          9036   \n",
              "\n",
              "       Process_total  \n",
              "48143            188  \n",
              "10388            191  \n",
              "11029            196  \n",
              "36609            192  \n",
              "26413            192  \n",
              "...              ...  \n",
              "42697            189  \n",
              "36008            193  \n",
              "46265            189  \n",
              "23587            187  \n",
              "29313            191  \n",
              "\n",
              "[42751 rows x 141 columns]"
            ]
          },
          "execution_count": 33,
          "metadata": {},
          "output_type": "execute_result"
        }
      ],
      "source": [
        "preprocessor.remove_reboot_column()\n",
        "preprocessor.X_train_without_reboot"
      ]
    },
    {
      "cell_type": "code",
      "execution_count": 34,
      "metadata": {},
      "outputs": [
        {
          "data": {
            "text/html": [
              "<div>\n",
              "<style scoped>\n",
              "    .dataframe tbody tr th:only-of-type {\n",
              "        vertical-align: middle;\n",
              "    }\n",
              "\n",
              "    .dataframe tbody tr th {\n",
              "        vertical-align: top;\n",
              "    }\n",
              "\n",
              "    .dataframe thead th {\n",
              "        text-align: right;\n",
              "    }\n",
              "</style>\n",
              "<table border=\"1\" class=\"dataframe\">\n",
              "  <thead>\n",
              "    <tr style=\"text-align: right;\">\n",
              "      <th></th>\n",
              "      <th>min</th>\n",
              "      <th>max</th>\n",
              "    </tr>\n",
              "  </thead>\n",
              "  <tbody>\n",
              "    <tr>\n",
              "      <th>Memory_PssTotal</th>\n",
              "      <td>4808.0</td>\n",
              "      <td>819456.0</td>\n",
              "    </tr>\n",
              "    <tr>\n",
              "      <th>Memory_PssClean</th>\n",
              "      <td>0.0</td>\n",
              "      <td>106360.0</td>\n",
              "    </tr>\n",
              "    <tr>\n",
              "      <th>Memory_SharedDirty</th>\n",
              "      <td>7036.0</td>\n",
              "      <td>40416.0</td>\n",
              "    </tr>\n",
              "    <tr>\n",
              "      <th>Memory_PrivateDirty</th>\n",
              "      <td>12.0</td>\n",
              "      <td>809032.0</td>\n",
              "    </tr>\n",
              "    <tr>\n",
              "      <th>Memory_SharedClean</th>\n",
              "      <td>4268.0</td>\n",
              "      <td>183600.0</td>\n",
              "    </tr>\n",
              "    <tr>\n",
              "      <th>...</th>\n",
              "      <td>...</td>\n",
              "      <td>...</td>\n",
              "    </tr>\n",
              "    <tr>\n",
              "      <th>Logcat_warning</th>\n",
              "      <td>36.0</td>\n",
              "      <td>142010.0</td>\n",
              "    </tr>\n",
              "    <tr>\n",
              "      <th>Logcat_debug</th>\n",
              "      <td>45.0</td>\n",
              "      <td>89456.0</td>\n",
              "    </tr>\n",
              "    <tr>\n",
              "      <th>Logcat_verbose</th>\n",
              "      <td>33.0</td>\n",
              "      <td>102860.0</td>\n",
              "    </tr>\n",
              "    <tr>\n",
              "      <th>Logcat_total</th>\n",
              "      <td>3121.0</td>\n",
              "      <td>2067038.0</td>\n",
              "    </tr>\n",
              "    <tr>\n",
              "      <th>Process_total</th>\n",
              "      <td>172.0</td>\n",
              "      <td>221.0</td>\n",
              "    </tr>\n",
              "  </tbody>\n",
              "</table>\n",
              "<p>141 rows × 2 columns</p>\n",
              "</div>"
            ],
            "text/plain": [
              "                        min        max\n",
              "Memory_PssTotal      4808.0   819456.0\n",
              "Memory_PssClean         0.0   106360.0\n",
              "Memory_SharedDirty   7036.0    40416.0\n",
              "Memory_PrivateDirty    12.0   809032.0\n",
              "Memory_SharedClean   4268.0   183600.0\n",
              "...                     ...        ...\n",
              "Logcat_warning         36.0   142010.0\n",
              "Logcat_debug           45.0    89456.0\n",
              "Logcat_verbose         33.0   102860.0\n",
              "Logcat_total         3121.0  2067038.0\n",
              "Process_total         172.0      221.0\n",
              "\n",
              "[141 rows x 2 columns]"
            ]
          },
          "execution_count": 34,
          "metadata": {},
          "output_type": "execute_result"
        }
      ],
      "source": [
        "preprocessor.X_train_without_reboot.describe().T[['min', 'max']]"
      ]
    },
    {
      "cell_type": "markdown",
      "metadata": {},
      "source": [
        "Secondly, we're gonna check for kurtosis and skewness. If skewness is high we might need to consider standardizing."
      ]
    },
    {
      "cell_type": "code",
      "execution_count": 35,
      "metadata": {},
      "outputs": [
        {
          "name": "stdout",
          "output_type": "stream",
          "text": [
            "\n",
            "Skewness:\n",
            "----------------\n",
            "Memory_PssTotal          3.333710\n",
            "Memory_PssClean          1.180268\n",
            "Memory_SharedDirty       2.849618\n",
            "Memory_PrivateDirty      5.885056\n",
            "Memory_SharedClean      -0.108211\n",
            "                          ...    \n",
            "Logcat_warning          17.096061\n",
            "Logcat_debug             9.452555\n",
            "Logcat_verbose          10.164429\n",
            "Logcat_total           153.531025\n",
            "Process_total            0.451092\n",
            "Length: 141, dtype: float64\n",
            "\n",
            "Kurtosis:\n",
            "----------------\n",
            "Memory_PssTotal           34.434660\n",
            "Memory_PssClean            0.129070\n",
            "Memory_SharedDirty        64.948246\n",
            "Memory_PrivateDirty       79.786758\n",
            "Memory_SharedClean         0.580186\n",
            "                           ...     \n",
            "Logcat_warning           701.492798\n",
            "Logcat_debug             295.773396\n",
            "Logcat_verbose           374.035578\n",
            "Logcat_total           28370.636585\n",
            "Process_total              2.999676\n",
            "Length: 141, dtype: float64\n"
          ]
        }
      ],
      "source": [
        "print(f\"\\nSkewness:\\n----------------\\n{preprocessor.X_train_without_reboot.skew()}\")\n",
        "print(f\"\\nKurtosis:\\n----------------\\n{preprocessor.X_train_without_reboot.kurt()}\")"
      ]
    },
    {
      "cell_type": "markdown",
      "metadata": {},
      "source": [
        "Since there is a very large number of fields, we need to avoid looking at the distribution and information about each feature. For this, we decided to create an automation that decides the appropriate scaling method -if necessary- for each feature.\n",
        "\n",
        "This function `determine_scaling_method` takes into account outlier detection and skewness and based on that it decides to use a **robust scaler**, **normalize** or **none**.\n",
        "\n",
        "**Note**: we use robust scaler rather than a standard scaler because robust scales with the median and IQR, which is less sensitive to outliers than standardizing is -computed with $\\mu$ and $\\sigma$. It will turn the median to 0 and turn the values in a field in values between -1 and 1 with some outliers."
      ]
    },
    {
      "cell_type": "markdown",
      "metadata": {},
      "source": [
        "Normalization Formula:\n",
        " \n",
        "\n",
        "Robust Scaler Formula:\n",
        " \n",
        "Where:\n",
        "\n",
        "IQR (Interquartile Range) = Q3 - Q1"
      ]
    },
    {
      "cell_type": "code",
      "execution_count": 36,
      "metadata": {},
      "outputs": [
        {
          "name": "stdout",
          "output_type": "stream",
          "text": [
            "\n",
            "Examples of standardized features:\n"
          ]
        },
        {
          "data": {
            "image/png": "[encoded data removed]",
            "text/plain": [
              "<Figure size 1200x1200 with 8 Axes>"
            ]
          },
          "metadata": {},
          "output_type": "display_data"
        },
        {
          "data": {
            "text/plain": [
              "'\\nRobust complete! The training data is now ready for modeling.'"
            ]
          },
          "execution_count": 36,
          "metadata": {},
          "output_type": "execute_result"
        }
      ],
      "source": [
        "X_train_scaled = preprocessor.apply_scaling()\n",
        "\n",
        "\"\\nRobust complete! The training data is now ready for modeling.\""
      ]
    },
    {
      "cell_type": "code",
      "execution_count": 38,
      "metadata": {},
      "outputs": [
        {
          "data": {
            "text/html": [
              "<div>\n",
              "<style scoped>\n",
              "    .dataframe tbody tr th:only-of-type {\n",
              "        vertical-align: middle;\n",
              "    }\n",
              "\n",
              "    .dataframe tbody tr th {\n",
              "        vertical-align: top;\n",
              "    }\n",
              "\n",
              "    .dataframe thead th {\n",
              "        text-align: right;\n",
              "    }\n",
              "</style>\n",
              "<table border=\"1\" class=\"dataframe\">\n",
              "  <thead>\n",
              "    <tr style=\"text-align: right;\">\n",
              "      <th></th>\n",
              "      <th>Memory_PssTotal</th>\n",
              "      <th>Memory_PssClean</th>\n",
              "      <th>Memory_SharedDirty</th>\n",
              "      <th>Memory_PrivateDirty</th>\n",
              "      <th>Memory_SharedClean</th>\n",
              "      <th>Memory_PrivateClean</th>\n",
              "      <th>Memory_SwapPssDirty</th>\n",
              "      <th>Memory_HeapSize</th>\n",
              "      <th>Memory_HeapAlloc</th>\n",
              "      <th>Memory_HeapFree</th>\n",
              "      <th>...</th>\n",
              "      <th>Battery_wakelock</th>\n",
              "      <th>Battery_service</th>\n",
              "      <th>Logcat_info</th>\n",
              "      <th>Logcat_error</th>\n",
              "      <th>Logcat_warning</th>\n",
              "      <th>Logcat_debug</th>\n",
              "      <th>Logcat_verbose</th>\n",
              "      <th>Logcat_total</th>\n",
              "      <th>Process_total</th>\n",
              "      <th>Reboot</th>\n",
              "    </tr>\n",
              "  </thead>\n",
              "  <tbody>\n",
              "    <tr>\n",
              "      <th>48143</th>\n",
              "      <td>-0.572982</td>\n",
              "      <td>-0.212739</td>\n",
              "      <td>3.662252</td>\n",
              "      <td>-0.680374</td>\n",
              "      <td>-0.269575</td>\n",
              "      <td>-0.304846</td>\n",
              "      <td>0</td>\n",
              "      <td>-0.744642</td>\n",
              "      <td>-0.903544</td>\n",
              "      <td>-0.190928</td>\n",
              "      <td>...</td>\n",
              "      <td>0.0</td>\n",
              "      <td>0.0</td>\n",
              "      <td>1.229024</td>\n",
              "      <td>0.414508</td>\n",
              "      <td>-0.328646</td>\n",
              "      <td>-0.232606</td>\n",
              "      <td>1.436909</td>\n",
              "      <td>1.088923</td>\n",
              "      <td>-0.50</td>\n",
              "      <td>before</td>\n",
              "    </tr>\n",
              "    <tr>\n",
              "      <th>10388</th>\n",
              "      <td>0.223136</td>\n",
              "      <td>0.310774</td>\n",
              "      <td>-2.933775</td>\n",
              "      <td>0.225135</td>\n",
              "      <td>-0.211834</td>\n",
              "      <td>0.196228</td>\n",
              "      <td>0</td>\n",
              "      <td>-0.345350</td>\n",
              "      <td>-0.408902</td>\n",
              "      <td>-0.166667</td>\n",
              "      <td>...</td>\n",
              "      <td>-0.5</td>\n",
              "      <td>2.0</td>\n",
              "      <td>-0.712401</td>\n",
              "      <td>-0.995337</td>\n",
              "      <td>0.449479</td>\n",
              "      <td>-0.162513</td>\n",
              "      <td>0.420610</td>\n",
              "      <td>-0.788685</td>\n",
              "      <td>0.25</td>\n",
              "      <td>after</td>\n",
              "    </tr>\n",
              "    <tr>\n",
              "      <th>11029</th>\n",
              "      <td>1.298399</td>\n",
              "      <td>1.525006</td>\n",
              "      <td>-0.046358</td>\n",
              "      <td>1.288786</td>\n",
              "      <td>1.902038</td>\n",
              "      <td>1.401289</td>\n",
              "      <td>0</td>\n",
              "      <td>1.092089</td>\n",
              "      <td>1.166345</td>\n",
              "      <td>0.800281</td>\n",
              "      <td>...</td>\n",
              "      <td>-0.5</td>\n",
              "      <td>1.0</td>\n",
              "      <td>0.200000</td>\n",
              "      <td>0.486528</td>\n",
              "      <td>-0.559896</td>\n",
              "      <td>-0.995327</td>\n",
              "      <td>0.742376</td>\n",
              "      <td>-0.324044</td>\n",
              "      <td>1.50</td>\n",
              "      <td>after</td>\n",
              "    </tr>\n",
              "    <tr>\n",
              "      <th>36609</th>\n",
              "      <td>-0.407325</td>\n",
              "      <td>-0.136850</td>\n",
              "      <td>3.000000</td>\n",
              "      <td>-0.495674</td>\n",
              "      <td>0.071505</td>\n",
              "      <td>-0.239198</td>\n",
              "      <td>0</td>\n",
              "      <td>-0.469555</td>\n",
              "      <td>-0.483883</td>\n",
              "      <td>-0.511955</td>\n",
              "      <td>...</td>\n",
              "      <td>1.0</td>\n",
              "      <td>2.0</td>\n",
              "      <td>0.147757</td>\n",
              "      <td>-0.969430</td>\n",
              "      <td>-0.633854</td>\n",
              "      <td>-0.031672</td>\n",
              "      <td>0.475289</td>\n",
              "      <td>-0.801008</td>\n",
              "      <td>0.50</td>\n",
              "      <td>after</td>\n",
              "    </tr>\n",
              "    <tr>\n",
              "      <th>26413</th>\n",
              "      <td>0.097281</td>\n",
              "      <td>-0.192834</td>\n",
              "      <td>0.099338</td>\n",
              "      <td>0.481453</td>\n",
              "      <td>0.522524</td>\n",
              "      <td>-0.129864</td>\n",
              "      <td>0</td>\n",
              "      <td>0.760766</td>\n",
              "      <td>0.679752</td>\n",
              "      <td>1.106188</td>\n",
              "      <td>...</td>\n",
              "      <td>0.0</td>\n",
              "      <td>0.0</td>\n",
              "      <td>0.120317</td>\n",
              "      <td>2.872539</td>\n",
              "      <td>-0.715625</td>\n",
              "      <td>-0.098131</td>\n",
              "      <td>-0.980547</td>\n",
              "      <td>0.405826</td>\n",
              "      <td>0.50</td>\n",
              "      <td>after</td>\n",
              "    </tr>\n",
              "    <tr>\n",
              "      <th>...</th>\n",
              "      <td>...</td>\n",
              "      <td>...</td>\n",
              "      <td>...</td>\n",
              "      <td>...</td>\n",
              "      <td>...</td>\n",
              "      <td>...</td>\n",
              "      <td>...</td>\n",
              "      <td>...</td>\n",
              "      <td>...</td>\n",
              "      <td>...</td>\n",
              "      <td>...</td>\n",
              "      <td>...</td>\n",
              "      <td>...</td>\n",
              "      <td>...</td>\n",
              "      <td>...</td>\n",
              "      <td>...</td>\n",
              "      <td>...</td>\n",
              "      <td>...</td>\n",
              "      <td>...</td>\n",
              "      <td>...</td>\n",
              "      <td>...</td>\n",
              "    </tr>\n",
              "    <tr>\n",
              "      <th>42697</th>\n",
              "      <td>-0.562982</td>\n",
              "      <td>-0.382433</td>\n",
              "      <td>0.543046</td>\n",
              "      <td>-0.389446</td>\n",
              "      <td>-1.457991</td>\n",
              "      <td>-0.475531</td>\n",
              "      <td>0</td>\n",
              "      <td>-0.748509</td>\n",
              "      <td>-0.895085</td>\n",
              "      <td>-0.247890</td>\n",
              "      <td>...</td>\n",
              "      <td>0.0</td>\n",
              "      <td>1.0</td>\n",
              "      <td>-0.127704</td>\n",
              "      <td>-0.263212</td>\n",
              "      <td>-0.177083</td>\n",
              "      <td>-0.367082</td>\n",
              "      <td>-0.841220</td>\n",
              "      <td>-1.202073</td>\n",
              "      <td>-0.25</td>\n",
              "      <td>before</td>\n",
              "    </tr>\n",
              "    <tr>\n",
              "      <th>36008</th>\n",
              "      <td>-0.192939</td>\n",
              "      <td>-0.072157</td>\n",
              "      <td>2.847682</td>\n",
              "      <td>-0.232845</td>\n",
              "      <td>0.407222</td>\n",
              "      <td>-0.058009</td>\n",
              "      <td>0</td>\n",
              "      <td>-0.160779</td>\n",
              "      <td>-0.123270</td>\n",
              "      <td>-0.399437</td>\n",
              "      <td>...</td>\n",
              "      <td>0.0</td>\n",
              "      <td>0.0</td>\n",
              "      <td>-1.018470</td>\n",
              "      <td>0.315026</td>\n",
              "      <td>-0.623958</td>\n",
              "      <td>0.314642</td>\n",
              "      <td>2.321241</td>\n",
              "      <td>0.449797</td>\n",
              "      <td>0.75</td>\n",
              "      <td>after</td>\n",
              "    </tr>\n",
              "    <tr>\n",
              "      <th>46265</th>\n",
              "      <td>-0.526820</td>\n",
              "      <td>-0.179895</td>\n",
              "      <td>3.112583</td>\n",
              "      <td>-0.588366</td>\n",
              "      <td>-0.299428</td>\n",
              "      <td>-0.280019</td>\n",
              "      <td>0</td>\n",
              "      <td>-0.681523</td>\n",
              "      <td>-0.782819</td>\n",
              "      <td>-0.369198</td>\n",
              "      <td>...</td>\n",
              "      <td>1.0</td>\n",
              "      <td>1.0</td>\n",
              "      <td>0.812137</td>\n",
              "      <td>1.255440</td>\n",
              "      <td>-0.403646</td>\n",
              "      <td>-0.323988</td>\n",
              "      <td>0.519453</td>\n",
              "      <td>0.743873</td>\n",
              "      <td>-0.25</td>\n",
              "      <td>before</td>\n",
              "    </tr>\n",
              "    <tr>\n",
              "      <th>23587</th>\n",
              "      <td>1.155789</td>\n",
              "      <td>2.092560</td>\n",
              "      <td>0.198675</td>\n",
              "      <td>0.827551</td>\n",
              "      <td>0.464247</td>\n",
              "      <td>1.995942</td>\n",
              "      <td>0</td>\n",
              "      <td>1.539293</td>\n",
              "      <td>1.188190</td>\n",
              "      <td>3.105837</td>\n",
              "      <td>...</td>\n",
              "      <td>1.0</td>\n",
              "      <td>0.0</td>\n",
              "      <td>-0.589446</td>\n",
              "      <td>0.521762</td>\n",
              "      <td>-0.255208</td>\n",
              "      <td>-0.055556</td>\n",
              "      <td>1.700315</td>\n",
              "      <td>0.457079</td>\n",
              "      <td>-0.75</td>\n",
              "      <td>before</td>\n",
              "    </tr>\n",
              "    <tr>\n",
              "      <th>29313</th>\n",
              "      <td>0.400395</td>\n",
              "      <td>-0.054740</td>\n",
              "      <td>-0.218543</td>\n",
              "      <td>1.075645</td>\n",
              "      <td>0.225778</td>\n",
              "      <td>-0.155168</td>\n",
              "      <td>0</td>\n",
              "      <td>0.471062</td>\n",
              "      <td>0.339014</td>\n",
              "      <td>1.010900</td>\n",
              "      <td>...</td>\n",
              "      <td>2.5</td>\n",
              "      <td>1.0</td>\n",
              "      <td>-0.645383</td>\n",
              "      <td>-0.991710</td>\n",
              "      <td>0.001563</td>\n",
              "      <td>0.774143</td>\n",
              "      <td>0.313880</td>\n",
              "      <td>-0.543621</td>\n",
              "      <td>0.25</td>\n",
              "      <td>after</td>\n",
              "    </tr>\n",
              "  </tbody>\n",
              "</table>\n",
              "<p>42751 rows × 142 columns</p>\n",
              "</div>"
            ],
            "text/plain": [
              "       Memory_PssTotal  Memory_PssClean  Memory_SharedDirty  \\\n",
              "48143        -0.572982        -0.212739            3.662252   \n",
              "10388         0.223136         0.310774           -2.933775   \n",
              "11029         1.298399         1.525006           -0.046358   \n",
              "36609        -0.407325        -0.136850            3.000000   \n",
              "26413         0.097281        -0.192834            0.099338   \n",
              "...                ...              ...                 ...   \n",
              "42697        -0.562982        -0.382433            0.543046   \n",
              "36008        -0.192939        -0.072157            2.847682   \n",
              "46265        -0.526820        -0.179895            3.112583   \n",
              "23587         1.155789         2.092560            0.198675   \n",
              "29313         0.400395        -0.054740           -0.218543   \n",
              "\n",
              "       Memory_PrivateDirty  Memory_SharedClean  Memory_PrivateClean  \\\n",
              "48143            -0.680374           -0.269575            -0.304846   \n",
              "10388             0.225135           -0.211834             0.196228   \n",
              "11029             1.288786            1.902038             1.401289   \n",
              "36609            -0.495674            0.071505            -0.239198   \n",
              "26413             0.481453            0.522524            -0.129864   \n",
              "...                    ...                 ...                  ...   \n",
              "42697            -0.389446           -1.457991            -0.475531   \n",
              "36008            -0.232845            0.407222            -0.058009   \n",
              "46265            -0.588366           -0.299428            -0.280019   \n",
              "23587             0.827551            0.464247             1.995942   \n",
              "29313             1.075645            0.225778            -0.155168   \n",
              "\n",
              "       Memory_SwapPssDirty  Memory_HeapSize  Memory_HeapAlloc  \\\n",
              "48143                    0        -0.744642         -0.903544   \n",
              "10388                    0        -0.345350         -0.408902   \n",
              "11029                    0         1.092089          1.166345   \n",
              "36609                    0        -0.469555         -0.483883   \n",
              "26413                    0         0.760766          0.679752   \n",
              "...                    ...              ...               ...   \n",
              "42697                    0        -0.748509         -0.895085   \n",
              "36008                    0        -0.160779         -0.123270   \n",
              "46265                    0        -0.681523         -0.782819   \n",
              "23587                    0         1.539293          1.188190   \n",
              "29313                    0         0.471062          0.339014   \n",
              "\n",
              "       Memory_HeapFree  ...  Battery_wakelock  Battery_service  Logcat_info  \\\n",
              "48143        -0.190928  ...               0.0              0.0     1.229024   \n",
              "10388        -0.166667  ...              -0.5              2.0    -0.712401   \n",
              "11029         0.800281  ...              -0.5              1.0     0.200000   \n",
              "36609        -0.511955  ...               1.0              2.0     0.147757   \n",
              "26413         1.106188  ...               0.0              0.0     0.120317   \n",
              "...                ...  ...               ...              ...          ...   \n",
              "42697        -0.247890  ...               0.0              1.0    -0.127704   \n",
              "36008        -0.399437  ...               0.0              0.0    -1.018470   \n",
              "46265        -0.369198  ...               1.0              1.0     0.812137   \n",
              "23587         3.105837  ...               1.0              0.0    -0.589446   \n",
              "29313         1.010900  ...               2.5              1.0    -0.645383   \n",
              "\n",
              "       Logcat_error  Logcat_warning  Logcat_debug  Logcat_verbose  \\\n",
              "48143      0.414508       -0.328646     -0.232606        1.436909   \n",
              "10388     -0.995337        0.449479     -0.162513        0.420610   \n",
              "11029      0.486528       -0.559896     -0.995327        0.742376   \n",
              "36609     -0.969430       -0.633854     -0.031672        0.475289   \n",
              "26413      2.872539       -0.715625     -0.098131       -0.980547   \n",
              "...             ...             ...           ...             ...   \n",
              "42697     -0.263212       -0.177083     -0.367082       -0.841220   \n",
              "36008      0.315026       -0.623958      0.314642        2.321241   \n",
              "46265      1.255440       -0.403646     -0.323988        0.519453   \n",
              "23587      0.521762       -0.255208     -0.055556        1.700315   \n",
              "29313     -0.991710        0.001563      0.774143        0.313880   \n",
              "\n",
              "       Logcat_total  Process_total  Reboot  \n",
              "48143      1.088923          -0.50  before  \n",
              "10388     -0.788685           0.25   after  \n",
              "11029     -0.324044           1.50   after  \n",
              "36609     -0.801008           0.50   after  \n",
              "26413      0.405826           0.50   after  \n",
              "...             ...            ...     ...  \n",
              "42697     -1.202073          -0.25  before  \n",
              "36008      0.449797           0.75   after  \n",
              "46265      0.743873          -0.25  before  \n",
              "23587      0.457079          -0.75  before  \n",
              "29313     -0.543621           0.25   after  \n",
              "\n",
              "[42751 rows x 142 columns]"
            ]
          },
          "execution_count": 38,
          "metadata": {},
          "output_type": "execute_result"
        }
      ],
      "source": [
        "X_train_scaled"
      ]
    },
    {
      "cell_type": "markdown",
      "metadata": {},
      "source": [
        "The histograms show how `RobustScaler` compresses extreme values and brings the bulk of the data closer to a common scale. Despite the presence of outliers, the core distribution becomes more uniform and comparable across features — ideal for many ML models."
      ]
    },
    {
      "cell_type": "markdown",
      "metadata": {},
      "source": [
        "<hr>"
      ]
    },
    {
      "cell_type": "markdown",
      "metadata": {},
      "source": [
        "# 4. FEATURE ANALYSIS"
      ]
    },
    {
      "cell_type": "markdown",
      "metadata": {},
      "source": [
        "Here we will take adjust the features that compose the learning inputs to our model. The correctness of this section is pivotal for proper learning by the model\n",
        "\n",
        "INDEX OF THIS SECTION:\n",
        "- Feature engineering\n",
        "- Feature selection\n",
        "\n",
        "QUESTIONS FOR THIS SUBECTION\n",
        "\n",
        "\n",
        "## FEATURE ENGINEERING\n",
        "- Domain-specific features\n",
        "- Binning\n",
        "- Interaction terms\n",
        "\n",
        "NOTE: This requires further understanding of the concepts around our problem's context. This will be deferred for a second iteration."
      ]
    },
    {
      "cell_type": "markdown",
      "metadata": {},
      "source": [
        "## FEATURE TRANSFORMATION\n",
        "### FEATURE ENCODING\n",
        "\n",
        "#### Encoding the X matrices (one-hot encoder)\n",
        "Lets fit the X encoder for the object column (reboot)\n",
        "#### Encoding y column vector (labeller encoding) \n",
        "We know our models needs the target variable to be numerical. Lets transform this series object then!\n",
        "We will fit the encoder in the training set, and extend it to the other sets"
      ]
    },
    {
      "cell_type": "code",
      "execution_count": null,
      "metadata": {},
      "outputs": [],
      "source": [
        "dataset.get_categorical_features_encoded(features=[\"Reboot\"], encode_y=True)"
      ]
    },
    {
      "cell_type": "markdown",
      "metadata": {},
      "source": [
        "Lets visualize the results of the encoding...\n",
        "### Features"
      ]
    },
    {
      "cell_type": "code",
      "execution_count": null,
      "metadata": {},
      "outputs": [],
      "source": [
        "dataset.X_train_encoded"
      ]
    },
    {
      "cell_type": "code",
      "execution_count": null,
      "metadata": {},
      "outputs": [],
      "source": [
        "dataset.X_val_encoded"
      ]
    },
    {
      "cell_type": "code",
      "execution_count": null,
      "metadata": {},
      "outputs": [],
      "source": [
        "dataset.X_test_encoded"
      ]
    },
    {
      "cell_type": "markdown",
      "metadata": {},
      "source": [
        "### Target variable"
      ]
    },
    {
      "cell_type": "code",
      "execution_count": null,
      "metadata": {},
      "outputs": [],
      "source": [
        "dataset.y_train_encoded,  \"-\"*30, dataset.y_val_encoded,  \"-\"*30,  dataset.y_test_encoded,  \"-\"*30, dataset.encoding_map"
      ]
    },
    {
      "cell_type": "markdown",
      "metadata": {},
      "source": [
        "## FEATURE SELECTION\n",
        "- Analyze correlation and low-variances\n"
      ]
    },
    {
      "cell_type": "markdown",
      "metadata": {},
      "source": [
        "#### 1.1) Eliminating low-variances features\n",
        "We will start off feature selection by analyzing the variables that have low variances. Features with low variances provide little new information for the model to learn from, thus they could introduce statistical noise. Due to this reason, they should be elimanted from the dataset. The reason why we don't focus on high-variance is because this symbolizes outliers, which have been dealt with before in data preporcesing."
      ]
    },
    {
      "cell_type": "markdown",
      "metadata": {},
      "source": [
        "We will start off this analysis eliminating univariate features (i.e: the featuers with constant values)"
      ]
    },
    {
      "cell_type": "code",
      "execution_count": 37,
      "metadata": {},
      "outputs": [],
      "source": [
        "# original_number_of_features = dataset.df.shape[1]\n",
        "# zero_variance_features = ONLY_NUMERICAL_COLUMNS.std() == 0\n",
        "# if zero_variance_features.any():\n",
        "#     print(\"Zero-variance features found:\")\n",
        "#     print(zero_variance_features[zero_variance_features].index)\n",
        "#     dataset.df.drop(columns=zero_variance_features[zero_variance_features].index, inplace=True)\n",
        "#     print(f\"Removed {original_number_of_features - dataset.df.shape[1]} features with zero variance\")\n",
        "#     ONLY_NUMERICAL_COLUMNS = dataset.df.select_dtypes(include='number') #updating global variable\n",
        "# else:\n",
        "#     print(\"No zero-variance features found.\")"
      ]
    },
    {
      "cell_type": "markdown",
      "metadata": {},
      "source": [
        "Lets focus on features with too few variance"
      ]
    },
    {
      "cell_type": "code",
      "execution_count": 38,
      "metadata": {},
      "outputs": [],
      "source": [
        "# standard_deviations = ONLY_NUMERICAL_COLUMNS.std()\n",
        "# plt.figure(figsize=(12, 8))\n",
        "# plt.hist(standard_deviations, bins=30, edgecolor='black')\n",
        "# plt.title('Distribution of Standard Deviations for Numeric Features')\n",
        "# plt.xlabel('Standard Deviation')\n",
        "# plt.ylabel('Frequency')\n",
        "# plt.show()"
      ]
    },
    {
      "cell_type": "markdown",
      "metadata": {},
      "source": [
        "As explained in scikit-learn's in (1.13.1 Feature selection)[https://scikit-learn.org/stable/modules/feature_selection.html], the variance threshold must be selected carefully. Too low may delete few variables, and too may be too restrictive, deleting more variables than it should."
      ]
    },
    {
      "cell_type": "code",
      "execution_count": 39,
      "metadata": {},
      "outputs": [],
      "source": [
        "# STD_THRESHOLD = .4"
      ]
    },
    {
      "cell_type": "code",
      "execution_count": 40,
      "metadata": {},
      "outputs": [],
      "source": [
        "# cols_to_keep = standard_deviations[(standard_deviations < STD_THRESHOLD)].index\n",
        "# print(f\"Removed {len(standard_deviations) - len(cols_to_keep)} features with low variance\")\n",
        "\n",
        "# df = dataset.df[cols_to_keep]\n",
        "# df.shape\n"
      ]
    },
    {
      "cell_type": "markdown",
      "metadata": {
        "id": "Pi1pwj-9q_v5"
      },
      "source": [
        "#### 1.2) Eliminating highly correlated feature -- WAITING TO INTEGRATE IN LIBRARY AFTER DATA PREPROECSSING IS DONE\n",
        "Highly correlated variables (multicolinearity) are problem for models because they introduce a redundancy (features that contain significantly related similar information are not bringing much new insight into the model's input) to the model that can introduce significant variance. This is due to the fact that small changes in the data may make the coefficeints of the highly correlated variables **swing** more than it should"
      ]
    },
    {
      "cell_type": "code",
      "execution_count": 41,
      "metadata": {},
      "outputs": [],
      "source": [
        "#plots.plot_correlation_matrix(size=\"l\")"
      ]
    },
    {
      "cell_type": "markdown",
      "metadata": {},
      "source": [
        "A note on the shape of this heatmap: due to the high amount of features, and the redundancy to measure the correlation between features (where corr(A,B) = corr(B,A)) we set 'np.triu(np.ones_like(corr, dtype=bool))' in the utilities functions in order to show only new non-redudant correlations between features, thus the right triangle shape."
      ]
    },
    {
      "cell_type": "markdown",
      "metadata": {},
      "source": [
        "Well, thats a lot to digest! We can see some solid red (high positive correlation) and medium-solid blue (some high negative correlation). \n",
        "Lets use a non-visual methodology to confirm our initial hypothesis. We will use variance inflaction factor (VIF) along with checking manually.\n",
        "A brief explanation on VIF. \n",
        "Formula: \n",
        "\n"
      ]
    },
    {
      "cell_type": "markdown",
      "metadata": {},
      "source": [
        "$$\n",
        "VIF_i = \\frac{1}{1 - R_i^2}\n",
        "$$\n"
      ]
    },
    {
      "cell_type": "markdown",
      "metadata": {},
      "source": [
        "You regress (i.e: do linear regression) on the ith feature as target variable, and all other features as predictors. You then compute the coefficient of determination as a way to measure how well the predictors fit the target variable. VIF values ranges from [1, inf], where lower bound signifies little multicolinearity (R^2 = 0), and upper bound occurs when R^2=1 (perfect multicolineairty). 5 is considered a standard threshold for VIF as it symbolized an 80% R^2.\n",
        "Once you ve obtained the results of VIF, you need to delete the variable with the highest VIF, and recompute VIF until there is no multicolinearity. For example, say there are three features that are 4 features, 3 of them being linear combinations of each other. You would delete the variables with VIF until there is no VIF (when only one of those linear combinations remains). You cant delete all n-1 variables where n are the amount of variables with exceeding (with respect to the chosen threshold), because you may be deleting one that has high VIF due to another feature.\n",
        "\n",
        "A relevant note on why one-hot-encoding must be done dropping the first one:\n",
        "If we were to not remove one of the labels of one hot encoding, you would be able to predict which level of the categorical variable based on all other ones (there is only degree of freedom for categories levels; they are a linear combination). You would essentially see inf VIF in that area and delete it in this section. \n",
        "The VIF has to be computed every time we delete a feature due to high multicolinearity. Lets do that"
      ]
    },
    {
      "cell_type": "code",
      "execution_count": 42,
      "metadata": {},
      "outputs": [],
      "source": [
        "number_of_features = ONLY_NUMERICAL_COLUMNS.shape[1]"
      ]
    },
    {
      "cell_type": "code",
      "execution_count": null,
      "metadata": {},
      "outputs": [],
      "source": [
        "ONLY_NUMERICAL_COLUMNS"
      ]
    },
    {
      "cell_type": "code",
      "execution_count": 44,
      "metadata": {},
      "outputs": [],
      "source": [
        "def calculate_vif(df):\n",
        "    vif_data = pd.DataFrame()\n",
        "    vif_data[\"Feature\"] = df.columns\n",
        "    vif_data[\"VIF\"] = [variance_inflation_factor(df.values, i) for i in range(len(df.columns))]\n",
        "    return vif_data\n",
        "\n",
        "# Iteratively remove features with high VIF (threshold = 10)\n",
        "def remove_high_vif_features(df, threshold=8):\n",
        "    number_of_iterations = 0\n",
        "    while True:\n",
        "        number_of_iterations += 1\n",
        "        vif_data = calculate_vif(df)\n",
        "        print(f\"VIF computed for iteration {number_of_iterations}:\")\n",
        "        max_vif = vif_data[\"VIF\"].max()\n",
        "        if max_vif < threshold:\n",
        "            break\n",
        "        feature_to_drop = vif_data.loc[vif_data[\"VIF\"].idxmax(), \"Feature\"]\n",
        "        df.drop(columns=[feature_to_drop], inplace=True)\n",
        "        print(f\"Dropped: {feature_to_drop}\")\n",
        "    return df"
      ]
    },
    {
      "cell_type": "code",
      "execution_count": 45,
      "metadata": {},
      "outputs": [],
      "source": [
        "# Note, running this cell will take a while\n",
        "#remove_high_vif_features(ONLY_NUMERICAL_COLUMNS, 10)\n",
        "ONLY_NUMERICAL_COLUMNS = dataset.df.select_dtypes(include='number')"
      ]
    },
    {
      "cell_type": "code",
      "execution_count": null,
      "metadata": {},
      "outputs": [],
      "source": [
        "ONLY_NUMERICAL_COLUMNS = dataset.df.select_dtypes(include='number')\n",
        "print(f\"Removed {dataset.df.shape[1] - number_of_features} features\")"
      ]
    },
    {
      "cell_type": "markdown",
      "metadata": {},
      "source": [
        "Lets compute the correlation matrix one more time post-deletion"
      ]
    },
    {
      "cell_type": "code",
      "execution_count": 47,
      "metadata": {},
      "outputs": [],
      "source": [
        "#plots.plot_correlation_matrix(size=\"l\")"
      ]
    },
    {
      "cell_type": "markdown",
      "metadata": {},
      "source": [
        "### 1.3 Automatic Feature Selection\n",
        "#### L1 regularization\n",
        "Because of L1 regularization being able to set weights 0, we can briefly train our logistic regression model with such regulartization and see which features it uses. The reason why it sets 0 to insignificant feature is because the objective function is not only the MSE but added a component of the wieght magnitude (which is trying to minimize)"
      ]
    },
    {
      "cell_type": "code",
      "execution_count": 48,
      "metadata": {},
      "outputs": [],
      "source": [
        "model = LogisticRegression(penalty='l1', solver='liblinear', max_iter=1)\n",
        "#ModelAssesment.automatic_feature_selection_l1(model)"
      ]
    },
    {
      "cell_type": "markdown",
      "metadata": {},
      "source": [
        "#### BORUTA\n",
        "Brief explanation: (to be done)\n",
        "Sources: (Tree-based feature selection)[https://scikit-learn.org/stable/modules/feature_selection.html#:~:text=1.13.4.2.%20Tree%2Dbased%20feature%20selection,-%23]\n"
      ]
    },
    {
      "cell_type": "code",
      "execution_count": 49,
      "metadata": {},
      "outputs": [],
      "source": [
        "rf = RandomForestClassifier(\n",
        "    n_estimators=100,    \n",
        "    n_jobs=-1, # multithreading\n",
        "    class_weight='balanced',\n",
        "    random_state=RANDOM_STATE\n",
        ")\n",
        "boruta_selector = BorutaPy(\n",
        "    rf,\n",
        "    n_estimators='auto',\n",
        "    verbose=2,\n",
        "    random_state=RANDOM_STATE,\n",
        "    max_iter=10\n",
        ")"
      ]
    },
    {
      "cell_type": "code",
      "execution_count": 50,
      "metadata": {},
      "outputs": [],
      "source": [
        "#predictivePowerFeatures, excludedFeatures = ModelAssesment.automatic_feature_selection_boruta(boruta_selector)"
      ]
    },
    {
      "cell_type": "code",
      "execution_count": 51,
      "metadata": {},
      "outputs": [],
      "source": [
        "#dataset.eliminate_features_from_all_sets(excludedFeatures)"
      ]
    },
    {
      "cell_type": "markdown",
      "metadata": {},
      "source": [
        "Boruta said that only 61 variables were important, if that were the case the current dimensions for each set would have that nubmer"
      ]
    },
    {
      "cell_type": "code",
      "execution_count": null,
      "metadata": {},
      "outputs": [],
      "source": [
        "dataset.X_train_encoded.shape, dataset.X_val_encoded.shape, dataset.X_test_encoded.shape"
      ]
    },
    {
      "cell_type": "markdown",
      "metadata": {},
      "source": [
        "Awesome, lets move on!"
      ]
    },
    {
      "cell_type": "markdown",
      "metadata": {},
      "source": [
        "<hr>"
      ]
    },
    {
      "cell_type": "markdown",
      "metadata": {},
      "source": [
        "# MODELLING"
      ]
    },
    {
      "cell_type": "markdown",
      "metadata": {},
      "source": [
        "- QUESTION ON THIS SECTION\n",
        "   - How can statistical measurement help on the split?\n",
        "- To be done\n",
        "   -  as"
      ]
    },
    {
      "cell_type": "markdown",
      "metadata": {},
      "source": [
        "## Fitting the model"
      ]
    },
    {
      "cell_type": "markdown",
      "metadata": {},
      "source": [
        "QUESTIONS FOR THIS SECTION\n",
        "- Can the ROC curve be used for multiclass?\n",
        "- Can a unsupervised learning algorithm (e.g: KNN) be used for this problem even tough its nature is to be supervised?"
      ]
    },
    {
      "cell_type": "markdown",
      "metadata": {},
      "source": [
        "TO BE DONE FOR THIS SECTION\n",
        "- Multiple models as classifiers\n",
        "- Learn more about each alogrithms' paremters\n",
        "- Can KNN be used here?"
      ]
    },
    {
      "cell_type": "markdown",
      "metadata": {},
      "source": [
        "## Random Forest & Decision Trees\n",
        "Instead of the originally planned logistic regression, we will be using an ensembled model first: random forest (collection of week decision trees). This model is not only likely to outperform the original choice because its nature to handle multiclass better, but also does this several orders of magnitude faster. We will add its not ensembled version too, along with gradient boosted machine\n",
        "Note we are not using not-by-default multiclass classifiers (e.g: logistic regressions, svms)"
      ]
    },
    {
      "cell_type": "markdown",
      "metadata": {},
      "source": [
        "## Non-optimized fitting"
      ]
    },
    {
      "cell_type": "code",
      "execution_count": 53,
      "metadata": {},
      "outputs": [],
      "source": [
        "randomForestModel = RandomForestClassifier(random_state=RANDOM_STATE, \n",
        "                             n_estimators=100,\n",
        "                             max_depth=None,\n",
        "                             min_samples_split=2, \n",
        "                             min_samples_leaf=1)\n",
        "\n",
        "decisionTreeModel = DecisionTreeClassifier(\n",
        "                                          random_state=RANDOM_STATE)\n",
        "\n",
        "supportVectorModel = SVC(random_state=RANDOM_STATE,\n",
        "             kernel='rbf',\n",
        "             decision_function_shape='ovr',\n",
        "             class_weight='balanced')\n",
        "\n",
        "logisticRegressionModel = LogisticRegression(penalty='l2', \n",
        "                                             solver='sag',\n",
        "                                             max_iter=1000,\n",
        "                                             class_weight='balanced')"
      ]
    },
    {
      "cell_type": "markdown",
      "metadata": {},
      "source": [
        "#### MODEL PERFORMANCE, HYPOTHESIS\n",
        "- Trees (e.g: random forest, decision trees):\n",
        "  - Time to fit:\n",
        "    - Ensemble models (random forest) take more time to train due to the fact that they are larger and heavier than their non-ensembled version. \n",
        "  - Correctness:\n",
        "     - High\n",
        "- Binary-classifiers by default models (e.g: SMV, logistic regression)\n",
        "  - Time to fit:\n",
        "    - compute C models for all C number of classes. Each trained to detect a single class, then when we make predictions, we select the ones that has the highest probability in its predictions (\"the most confident in its prediction\"). This strategy is called One-vs-Rest, note however, a single logistic regression may be used if we used the softmax objective function (instead of log-odds) (it still heavy computationally, tough). They will be sloder than ensemble models\n",
        "  - Correctness:\n",
        "     - Very low if the problem is non-linear which it is for the SVM and logistic regression"
      ]
    },
    {
      "cell_type": "code",
      "execution_count": null,
      "metadata": {},
      "outputs": [],
      "source": [
        "modelAssesment.add_model(\"Random Forest\", randomForestModel)\n",
        "modelAssesment.add_model(\"Decision Tree\", decisionTreeModel)\n",
        "modelAssesment.add_model(\"SVM\", supportVectorModel)\n",
        "modelAssesment.add_model(\"Logistic Regression\", logisticRegressionModel)\n"
      ]
    },
    {
      "cell_type": "markdown",
      "metadata": {},
      "source": [
        "Lets fit the models"
      ]
    },
    {
      "cell_type": "code",
      "execution_count": null,
      "metadata": {},
      "outputs": [],
      "source": [
        "modelAssesment.fit_models(print_results=True, modelsToExclude=[\"Logistic Regression\", \"SVM\"]) # exlcluding these models cause they are too slow to fit locally"
      ]
    },
    {
      "cell_type": "markdown",
      "metadata": {},
      "source": [
        "Let's make sure the predictions vary between holdout sets"
      ]
    },
    {
      "cell_type": "code",
      "execution_count": 56,
      "metadata": {},
      "outputs": [],
      "source": [
        "#modelAssesment.constrast_sets_predictions()"
      ]
    },
    {
      "cell_type": "markdown",
      "metadata": {},
      "source": [
        "<i> the aforeshown diagram was originally done with the sole intention to debug an error that made predictions be the same across sets. Insights may not be much meaningful after correctio, but it is worth keeping until the end of the notebook development </i>\n",
        "\n",
        "### PREDICTIONS RESULTS \n",
        "Before we get into the actual results, lets elaborate briefly on all the metrics that we are using to asses our classifiers:\n",
        "\n",
        "- Accuracy => total correctly predicted elemetnts (sigma over the moments we predicted x_i and it was actually x_i / number_of_samples)\n",
        "$$\n",
        "\\text{Accuracy} = \\frac{\\sum_{i} \\mathbf{1}(\\hat{y}_i = y_i)}{N}\n",
        "$$\n",
        "- Precision => out of how many predicted for that class were actually from that class (predicted for class x when it was x/ predicted for class x when it was x + predicted for class x when it was NOT x)\n",
        "$$\n",
        "\\text{Precision}_x = \\frac{\\text{TP}_x}{\\text{TP}_x + \\text{FP}_x}\n",
        "$$\n",
        "- Recall => out of all cases that were positive how many got predicted correctly?\n",
        "$$\n",
        "\\text{Recall}_x = \\frac{\\text{TP}_x}{\\text{TP}_x + \\text{FN}_x}\n",
        "$$\n",
        "- F1-score => harmonic mean of precision and recall (balances both metrics, heavily penalize spreadness between ratios that are being averaged out)\n",
        "$$\n",
        "\\text{F1}_x = 2 \\times \\frac{\\text{Precision}_x \\times \\text{Recall}_x}{\\text{Precision}_x + \\text{Recall}_x}\n",
        "$$\n",
        "- Support => number of actual occurences of class in the dataset\n",
        "- macro avg => averages given metric across all classes\n",
        "$$\n",
        "\\text{Macro Avg} = \\frac{1}{C} \\sum_{i=1}^{C} M_i\n",
        "$$\n",
        "- weighted avg => averages with weights per class occurence (considers frequency of class in average computation)\n",
        "$$\n",
        "\\text{Weighted Avg} = \\sum_{i=1}^{C} \\frac{\\text{Support}_i}{\\text{Total Instances}} \\times M_i\n",
        "$$"
      ]
    },
    {
      "cell_type": "code",
      "execution_count": null,
      "metadata": {},
      "outputs": [],
      "source": [
        "modelAssesment.evaluate_classifiers(plot=True,\n",
        "                                   save_results=True,\n",
        "                                   dataToWrite={\n",
        "                                         \"isEDADone\": False,\n",
        "                                         \"isDataPreprocessingDone\": False,\n",
        "                                         \"isFeatureEngineeringDone\": False,\n",
        "                                         \"isHyperParameterOptimizationDone\": False,\n",
        "                                         \"comments\": \"First model fitting\"\n",
        "                                   })"
      ]
    },
    {
      "cell_type": "markdown",
      "metadata": {},
      "source": [
        "Observed the updated object with all the correct attributes"
      ]
    },
    {
      "cell_type": "code",
      "execution_count": null,
      "metadata": {},
      "outputs": [],
      "source": [
        "modelAssesment.models"
      ]
    },
    {
      "cell_type": "markdown",
      "metadata": {},
      "source": [
        "## Hyperparameter optimization"
      ]
    },
    {
      "cell_type": "markdown",
      "metadata": {},
      "source": [
        "Note 1: the following cells took 11mins to run in an M2\n",
        "Note 2: grid-search is not a good choice for optimization (enough for an early iteration, tough). We need to get smarter using more advanced techniques (e.g: OPTUNA)"
      ]
    },
    {
      "cell_type": "code",
      "execution_count": null,
      "metadata": {},
      "outputs": [],
      "source": [
        "# Hyperparameter tuning with GridSearchCV\n",
        "param_grid = {\n",
        "    'n_estimators': [50, 100, 200],\n",
        "    'max_depth': [None, 10, 20],\n",
        "    'min_samples_split': [2, 5, 10],\n",
        "    'min_samples_leaf': [1, 2, 4]\n",
        "}\n",
        "\n",
        "grid_search = GridSearchCV(RandomForestClassifier(random_state=RANDOM_STATE), param_grid, cv=5, scoring='f1_weighted', n_jobs=-1)\n",
        "grid_search.fit(dataset.X_category_train_encoded, dataset.y_category_train_encoded)\n",
        "\n",
        "# Best model\n",
        "best_model = grid_search.best_estimator_\n",
        "print(f\"Best Parameters: {grid_search.best_params_}\")"
      ]
    },
    {
      "cell_type": "code",
      "execution_count": 27,
      "metadata": {},
      "outputs": [],
      "source": [
        "best_model.fit(dataset.X_category_train_encoded, dataset.y_category_train_encoded)\n",
        "y_val_pred = best_model.predict(dataset.X_category_val_encoded)\n",
        "y_test_pred = best_model.predict(dataset.X_category_test_encoded)\n"
      ]
    },
    {
      "cell_type": "markdown",
      "metadata": {},
      "source": [
        "## NOTEBOOK, AREAS FOR IMPROVEMENTS\n",
        "- Introducing as many ML algorithms for non-predictive tasks: \n",
        "  - Data imputing with KNN \n",
        "  - Cluster analysis to better understand the features \n",
        "  - Doing PCA for features (after correlation analysis) \n",
        "\n",
        "- Distilled models\n",
        "- DevOPs pipeline design\n",
        "- Deeper statistical approach to data preprocessing and EDA\n",
        "- Using CCE and BCE (deep learning multi-class metrics) used for shallow learning "
      ]
    },
    {
      "cell_type": "code",
      "execution_count": null,
      "metadata": {},
      "outputs": [],
      "source": []
    }
  ],
  "metadata": {
    "colab": {
      "collapsed_sections": [
        "28_glozSPDm7",
        "LDW_CStuioNs",
        "Uv7LWIIU5X5i",
        "eaHsU58AdvlN",
        "vtG27WXGd3_R",
        "vR3xQcHnLUsk",
        "tJI5MrERTBNz",
        "VDydAnW3alRu",
        "Pi1pwj-9q_v5"
      ],
      "provenance": []
    },
    "kernelspec": {
      "display_name": ".venv",
      "language": "python",
      "name": "python3"
    },
    "language_info": {
      "codemirror_mode": {
        "name": "ipython",
        "version": 3
      },
      "file_extension": ".py",
      "mimetype": "text/x-python",
      "name": "python",
      "nbconvert_exporter": "python",
      "pygments_lexer": "ipython3",
      "version": "3.11.10"
    }
  },
  "nbformat": 4,
  "nbformat_minor": 0
}
