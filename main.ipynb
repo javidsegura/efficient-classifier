{
  "cells": [
    {
      "cell_type": "markdown",
      "metadata": {},
      "source": [
        "<h1> DYNAMIC MALWARE CLASSIFICATION</h1>"
      ]
    },
    {
      "cell_type": "markdown",
      "metadata": {},
      "source": [
        "Supervised, classification, multi-class"
      ]
    },
    {
      "cell_type": "markdown",
      "metadata": {
        "id": "szqv1Y9Edzc5"
      },
      "source": [
        "# 0. Basic Set-Up and General info"
      ]
    },
    {
      "cell_type": "markdown",
      "metadata": {},
      "source": [
        "Note: there are a lot of non-used imports (to be removed at the end)"
      ]
    },
    {
      "cell_type": "code",
      "execution_count": 1,
      "metadata": {},
      "outputs": [],
      "source": [
        "from collections import defaultdict\n",
        "import math\n",
        "import time\n",
        "\n",
        "import pandas as pd\n",
        "import numpy as np\n",
        "import matplotlib.pyplot as plt\n",
        "import seaborn as sns\n",
        "from scipy import stats\n"
      ]
    },
    {
      "cell_type": "code",
      "execution_count": 2,
      "metadata": {},
      "outputs": [],
      "source": [
        "from utilities_functions import *"
      ]
    },
    {
      "cell_type": "markdown",
      "metadata": {},
      "source": [
        "If u make a change to utilities_function u may need to restart the kernel to use the latest versions. This is too tedious. There must be another way."
      ]
    },
    {
      "cell_type": "code",
      "execution_count": 3,
      "metadata": {},
      "outputs": [],
      "source": [
        "from sklearn.feature_selection import f_classif\n",
        "from sklearn.preprocessing import LabelEncoder\n",
        "from sklearn.model_selection import train_test_split\n",
        "from sklearn.preprocessing import LabelEncoder\n",
        "from sklearn.tree import DecisionTreeClassifier\n",
        "from sklearn.linear_model import LogisticRegression, SGDClassifier\n",
        "from sklearn.ensemble import (RandomForestClassifier, AdaBoostClassifier,\n",
        "                              BaggingClassifier)\n",
        "from sklearn.neighbors import KNeighborsClassifier\n",
        "from sklearn.model_selection import StratifiedKFold\n",
        "from sklearn.metrics import accuracy_score, classification_report, confusion_matrix, f1_score\n",
        "from sklearn.impute import KNNImputer\n",
        "from sklearn.preprocessing import StandardScaler, MinMaxScaler\n",
        "from sklearn.linear_model import LogisticRegression\n",
        "from sklearn.ensemble import RandomForestClassifier\n",
        "from sklearn.linear_model import LogisticRegression\n",
        "from sklearn.model_selection import train_test_split\n",
        "from sklearn.svm import SVC\n",
        "from sklearn.metrics import accuracy_score\n",
        "from sklearn.metrics import roc_curve\n",
        "from sklearn.metrics import roc_auc_score\n",
        "from sklearn.metrics import confusion_matrix\n",
        "from sklearn.model_selection import GridSearchCV\n",
        "\n",
        "from statsmodels.stats.outliers_influence import variance_inflation_factor\n"
      ]
    },
    {
      "cell_type": "code",
      "execution_count": 4,
      "metadata": {},
      "outputs": [],
      "source": [
        "from imblearn.over_sampling import SMOTENC\n",
        "from boruta import BorutaPy\n",
        "from statsmodels.stats.outliers_influence import variance_inflation_factor"
      ]
    },
    {
      "cell_type": "markdown",
      "metadata": {},
      "source": [
        "## Documentation Standarization\n",
        "Follow the following guidelines to make sure our document is consistent and easier to undestand\n",
        "- All constant should be writte in full capitall letters (e.g: MY_CONSTANT). Notebook-level constants should be written in the cell assigned to it (see below)\n",
        "- Every new major section (EDA, Feature engineering) should be written with '# My title'#\n",
        "- Subsequent sections should use '##', '###' or '####' hierarchacically\n",
        "- At the beginning of each major section write a content index with the content included in that section (see 'feature engineering' section as an example)\n",
        "- Please write paragraphs before and after each cell explain what u are about to do and the conclusions, correspondingly. Do not assume they are too obvious.\n",
        "- Avoid excessive ChatGPT-originated comments\n",
        "- Avoid writing more than 20 lines per code cell (exceptions for subroutines, which should be written in utilitied_functions.py)\n",
        "- Ideally, add a \"Questions\" and \"Things to be done\" section in each major sections where u write about futher iterations u want to do (while sharing in with the rest)\n"
      ]
    },
    {
      "cell_type": "markdown",
      "metadata": {},
      "source": [
        "## Set-up"
      ]
    },
    {
      "cell_type": "code",
      "execution_count": 5,
      "metadata": {},
      "outputs": [],
      "source": [
        "file_path =\"./dataset/dynamic_dataset.csv\"\n",
        "df = pd.read_csv(file_path)"
      ]
    },
    {
      "cell_type": "code",
      "execution_count": 6,
      "metadata": {
        "colab": {
          "base_uri": "https://localhost:8080/",
          "height": 256
        },
        "id": "F0L2m8yFXhJ9",
        "outputId": "c94d1d43-6998-486d-d0ea-8b643d64efa6"
      },
      "outputs": [
        {
          "data": {
            "text/html": [
              "<div>\n",
              "<style scoped>\n",
              "    .dataframe tbody tr th:only-of-type {\n",
              "        vertical-align: middle;\n",
              "    }\n",
              "\n",
              "    .dataframe tbody tr th {\n",
              "        vertical-align: top;\n",
              "    }\n",
              "\n",
              "    .dataframe thead th {\n",
              "        text-align: right;\n",
              "    }\n",
              "</style>\n",
              "<table border=\"1\" class=\"dataframe\">\n",
              "  <thead>\n",
              "    <tr style=\"text-align: right;\">\n",
              "      <th></th>\n",
              "      <th>Memory_PssTotal</th>\n",
              "      <th>Memory_PssClean</th>\n",
              "      <th>Memory_SharedDirty</th>\n",
              "      <th>Memory_PrivateDirty</th>\n",
              "      <th>Memory_SharedClean</th>\n",
              "      <th>Memory_PrivateClean</th>\n",
              "      <th>Memory_SwapPssDirty</th>\n",
              "      <th>Memory_HeapSize</th>\n",
              "      <th>Memory_HeapAlloc</th>\n",
              "      <th>Memory_HeapFree</th>\n",
              "      <th>...</th>\n",
              "      <th>Logcat_error</th>\n",
              "      <th>Logcat_warning</th>\n",
              "      <th>Logcat_debug</th>\n",
              "      <th>Logcat_verbose</th>\n",
              "      <th>Logcat_total</th>\n",
              "      <th>Process_total</th>\n",
              "      <th>Hash</th>\n",
              "      <th>Category</th>\n",
              "      <th>Family</th>\n",
              "      <th>reboot</th>\n",
              "    </tr>\n",
              "  </thead>\n",
              "  <tbody>\n",
              "    <tr>\n",
              "      <th>0</th>\n",
              "      <td>31053</td>\n",
              "      <td>2448</td>\n",
              "      <td>14044</td>\n",
              "      <td>23472</td>\n",
              "      <td>74824</td>\n",
              "      <td>2452</td>\n",
              "      <td>0</td>\n",
              "      <td>8919</td>\n",
              "      <td>4786</td>\n",
              "      <td>4132</td>\n",
              "      <td>...</td>\n",
              "      <td>1635</td>\n",
              "      <td>2351</td>\n",
              "      <td>3285</td>\n",
              "      <td>1551</td>\n",
              "      <td>11221</td>\n",
              "      <td>193</td>\n",
              "      <td>f460abb8f2e4e3fb689966ddaea6d6babbd1738bb691c7...</td>\n",
              "      <td>Trojan_SMS</td>\n",
              "      <td>opfake</td>\n",
              "      <td>before</td>\n",
              "    </tr>\n",
              "    <tr>\n",
              "      <th>1</th>\n",
              "      <td>107787</td>\n",
              "      <td>21976</td>\n",
              "      <td>11852</td>\n",
              "      <td>74548</td>\n",
              "      <td>69052</td>\n",
              "      <td>23152</td>\n",
              "      <td>0</td>\n",
              "      <td>25341</td>\n",
              "      <td>20965</td>\n",
              "      <td>4375</td>\n",
              "      <td>...</td>\n",
              "      <td>1816</td>\n",
              "      <td>826</td>\n",
              "      <td>1544</td>\n",
              "      <td>2045</td>\n",
              "      <td>8457</td>\n",
              "      <td>189</td>\n",
              "      <td>556c238536d837007e647543eaf3ea95ae9aaf1c1a52d0...</td>\n",
              "      <td>Trojan_SMS</td>\n",
              "      <td>opfake</td>\n",
              "      <td>before</td>\n",
              "    </tr>\n",
              "    <tr>\n",
              "      <th>2</th>\n",
              "      <td>86584</td>\n",
              "      <td>18460</td>\n",
              "      <td>12284</td>\n",
              "      <td>59992</td>\n",
              "      <td>91548</td>\n",
              "      <td>19376</td>\n",
              "      <td>0</td>\n",
              "      <td>24500</td>\n",
              "      <td>21378</td>\n",
              "      <td>3121</td>\n",
              "      <td>...</td>\n",
              "      <td>2244</td>\n",
              "      <td>3406</td>\n",
              "      <td>1565</td>\n",
              "      <td>2819</td>\n",
              "      <td>10780</td>\n",
              "      <td>195</td>\n",
              "      <td>398322f94b5bfa2a9e7b3756a4cf409764595003280c48...</td>\n",
              "      <td>Trojan_SMS</td>\n",
              "      <td>fakeinst</td>\n",
              "      <td>before</td>\n",
              "    </tr>\n",
              "    <tr>\n",
              "      <th>3</th>\n",
              "      <td>41248</td>\n",
              "      <td>924</td>\n",
              "      <td>10328</td>\n",
              "      <td>36280</td>\n",
              "      <td>55768</td>\n",
              "      <td>928</td>\n",
              "      <td>0</td>\n",
              "      <td>10082</td>\n",
              "      <td>7281</td>\n",
              "      <td>2800</td>\n",
              "      <td>...</td>\n",
              "      <td>974</td>\n",
              "      <td>4134</td>\n",
              "      <td>3138</td>\n",
              "      <td>1556</td>\n",
              "      <td>11739</td>\n",
              "      <td>191</td>\n",
              "      <td>4a9c14872b2c66165599a969a1a8654bb6887d7a18ab6d...</td>\n",
              "      <td>Trojan_SMS</td>\n",
              "      <td>fakeinst</td>\n",
              "      <td>before</td>\n",
              "    </tr>\n",
              "    <tr>\n",
              "      <th>4</th>\n",
              "      <td>38621</td>\n",
              "      <td>5080</td>\n",
              "      <td>12392</td>\n",
              "      <td>27388</td>\n",
              "      <td>71048</td>\n",
              "      <td>5088</td>\n",
              "      <td>0</td>\n",
              "      <td>9077</td>\n",
              "      <td>5750</td>\n",
              "      <td>3326</td>\n",
              "      <td>...</td>\n",
              "      <td>936</td>\n",
              "      <td>2298</td>\n",
              "      <td>3752</td>\n",
              "      <td>1992</td>\n",
              "      <td>10488</td>\n",
              "      <td>188</td>\n",
              "      <td>6b37b9b9c170727f706b69731e64da4bbca2638b4237a7...</td>\n",
              "      <td>Trojan_SMS</td>\n",
              "      <td>fakeinst</td>\n",
              "      <td>before</td>\n",
              "    </tr>\n",
              "  </tbody>\n",
              "</table>\n",
              "<p>5 rows × 145 columns</p>\n",
              "</div>"
            ],
            "text/plain": [
              "   Memory_PssTotal  Memory_PssClean  Memory_SharedDirty  Memory_PrivateDirty  \\\n",
              "0            31053             2448               14044                23472   \n",
              "1           107787            21976               11852                74548   \n",
              "2            86584            18460               12284                59992   \n",
              "3            41248              924               10328                36280   \n",
              "4            38621             5080               12392                27388   \n",
              "\n",
              "   Memory_SharedClean  Memory_PrivateClean  Memory_SwapPssDirty  \\\n",
              "0               74824                 2452                    0   \n",
              "1               69052                23152                    0   \n",
              "2               91548                19376                    0   \n",
              "3               55768                  928                    0   \n",
              "4               71048                 5088                    0   \n",
              "\n",
              "   Memory_HeapSize  Memory_HeapAlloc  Memory_HeapFree  ...  Logcat_error  \\\n",
              "0             8919              4786             4132  ...          1635   \n",
              "1            25341             20965             4375  ...          1816   \n",
              "2            24500             21378             3121  ...          2244   \n",
              "3            10082              7281             2800  ...           974   \n",
              "4             9077              5750             3326  ...           936   \n",
              "\n",
              "   Logcat_warning  Logcat_debug  Logcat_verbose  Logcat_total  Process_total  \\\n",
              "0            2351          3285            1551         11221            193   \n",
              "1             826          1544            2045          8457            189   \n",
              "2            3406          1565            2819         10780            195   \n",
              "3            4134          3138            1556         11739            191   \n",
              "4            2298          3752            1992         10488            188   \n",
              "\n",
              "                                                Hash    Category    Family  \\\n",
              "0  f460abb8f2e4e3fb689966ddaea6d6babbd1738bb691c7...  Trojan_SMS    opfake   \n",
              "1  556c238536d837007e647543eaf3ea95ae9aaf1c1a52d0...  Trojan_SMS    opfake   \n",
              "2  398322f94b5bfa2a9e7b3756a4cf409764595003280c48...  Trojan_SMS  fakeinst   \n",
              "3  4a9c14872b2c66165599a969a1a8654bb6887d7a18ab6d...  Trojan_SMS  fakeinst   \n",
              "4  6b37b9b9c170727f706b69731e64da4bbca2638b4237a7...  Trojan_SMS  fakeinst   \n",
              "\n",
              "   reboot  \n",
              "0  before  \n",
              "1  before  \n",
              "2  before  \n",
              "3  before  \n",
              "4  before  \n",
              "\n",
              "[5 rows x 145 columns]"
            ]
          },
          "execution_count": 6,
          "metadata": {},
          "output_type": "execute_result"
        }
      ],
      "source": [
        "df.head()"
      ]
    },
    {
      "cell_type": "code",
      "execution_count": 7,
      "metadata": {},
      "outputs": [],
      "source": [
        "df.rename(columns={\"reboot\": \"Reboot\"}, inplace=True) # consistency with other features' names"
      ]
    },
    {
      "cell_type": "code",
      "execution_count": 8,
      "metadata": {
        "colab": {
          "base_uri": "https://localhost:8080/"
        },
        "id": "0TspwPmuXrwg",
        "outputId": "ba126ff5-a264-4606-8b04-9716dc7a0ddf"
      },
      "outputs": [
        {
          "name": "stdout",
          "output_type": "stream",
          "text": [
            "Dataset contains 53439 rows and 145 columns.\n",
            "\n",
            "Column Names:\n",
            "['Memory_PssTotal', 'Memory_PssClean', 'Memory_SharedDirty', 'Memory_PrivateDirty', 'Memory_SharedClean', 'Memory_PrivateClean', 'Memory_SwapPssDirty', 'Memory_HeapSize', 'Memory_HeapAlloc', 'Memory_HeapFree', 'Memory_Views', 'Memory_ViewRootImpl', 'Memory_AppContexts', 'Memory_Activities', 'Memory_Assets', 'Memory_AssetManagers', 'Memory_LocalBinders', 'Memory_ProxyBinders', 'Memory_ParcelMemory', 'Memory_ParcelCount', 'Memory_DeathRecipients', 'Memory_OpenSSLSockets', 'Memory_WebViews', 'API_Process_android.os.Process_start', 'API_Process_android.app.ActivityManager_killBackgroundProcesses', 'API_Process_android.os.Process_killProcess', 'API_Command_java.lang.Runtime_exec', 'API_Command_java.lang.ProcessBuilder_start', 'API_JavaNativeInterface_java.lang.Runtime_loadLibrary', 'API_JavaNativeInterface_java.lang.Runtime_load', 'API_WebView_android.webkit.WebView_loadUrl', 'API_WebView_android.webkit.WebView_loadData', 'API_WebView_android.webkit.WebView_loadDataWithBaseURL', 'API_WebView_android.webkit.WebView_addJavascriptInterface', 'API_WebView_android.webkit.WebView_evaluateJavascript', 'API_WebView_android.webkit.WebView_postUrl', 'API_WebView_android.webkit.WebView_postWebMessage', 'API_WebView_android.webkit.WebView_savePassword', 'API_WebView_android.webkit.WebView_setHttpAuthUsernamePassword', 'API_WebView_android.webkit.WebView_getHttpAuthUsernamePassword', 'API_WebView_android.webkit.WebView_setWebContentsDebuggingEnabled', 'API_FileIO_libcore.io.IoBridge_open', 'API_FileIO_android.content.ContextWrapper_openFileInput', 'API_FileIO_android.content.ContextWrapper_openFileOutput', 'API_FileIO_android.content.ContextWrapper_deleteFile', 'API_Database_android.content.ContextWrapper_openOrCreateDatabase', 'API_Database_android.content.ContextWrapper_databaseList', 'API_Database_android.content.ContextWrapper_deleteDatabase', 'API_Database_android.database.sqlite.SQLiteDatabase_execSQL', 'API_Database_android.database.sqlite.SQLiteDatabase_deleteDatabase', 'API_Database_android.database.sqlite.SQLiteDatabase_getPath', 'API_Database_android.database.sqlite.SQLiteDatabase_insert', 'API_Database_android.database.sqlite.SQLiteDatabase_insertOrThrow', 'API_Database_android.database.sqlite.SQLiteDatabase_insertWithOnConflict', 'API_Database_android.database.sqlite.SQLiteDatabase_openDatabase', 'API_Database_android.database.sqlite.SQLiteDatabase_openOrCreateDatabase', 'API_Database_android.database.sqlite.SQLiteDatabase_query', 'API_Database_android.database.sqlite.SQLiteDatabase_queryWithFactory', 'API_Database_android.database.sqlite.SQLiteDatabase_rawQuery', 'API_Database_android.database.sqlite.SQLiteDatabase_rawQueryWithFactory', 'API_Database_android.database.sqlite.SQLiteDatabase_update', 'API_Database_android.database.sqlite.SQLiteDatabase_updateWithOnConflict', 'API_Database_android.database.sqlite.SQLiteDatabase_compileStatement', 'API_Database_android.database.sqlite.SQLiteDatabase_create', 'API_IPC_android.content.ContextWrapper_sendBroadcast', 'API_IPC_android.content.ContextWrapper_sendStickyBroadcast', 'API_IPC_android.content.ContextWrapper_startActivity', 'API_IPC_android.content.ContextWrapper_startService', 'API_IPC_android.content.ContextWrapper_stopService', 'API_IPC_android.content.ContextWrapper_registerReceiver', 'API_Binder_android.app.ContextImpl_registerReceiver', 'API_Binder_android.app.ActivityThread_handleReceiver', 'API_Binder_android.app.Activity_startActivity', 'API_Crypto_javax.crypto.spec.SecretKeySpec_$init', 'API_Crypto_javax.crypto.Cipher_doFinal', 'API_Crypto-Hash_java.security.MessageDigest_digest', 'API_Crypto-Hash_java.security.MessageDigest_update', 'API_DeviceInfo_android.telephony.TelephonyManager_getDeviceId', 'API_DeviceInfo_android.telephony.TelephonyManager_getSubscriberId', 'API_DeviceInfo_android.telephony.TelephonyManager_getLine1Number', 'API_DeviceInfo_android.telephony.TelephonyManager_getNetworkOperator', 'API_DeviceInfo_android.telephony.TelephonyManager_getNetworkOperatorName', 'API_DeviceInfo_android.telephony.TelephonyManager_getSimOperatorName', 'API_DeviceInfo_android.net.wifi.WifiInfo_getMacAddress', 'API_DeviceInfo_android.net.wifi.WifiInfo_getBSSID', 'API_DeviceInfo_android.net.wifi.WifiInfo_getIpAddress', 'API_DeviceInfo_android.net.wifi.WifiInfo_getNetworkId', 'API_DeviceInfo_android.telephony.TelephonyManager_getSimCountryIso', 'API_DeviceInfo_android.telephony.TelephonyManager_getSimSerialNumber', 'API_DeviceInfo_android.telephony.TelephonyManager_getNetworkCountryIso', 'API_DeviceInfo_android.telephony.TelephonyManager_getDeviceSoftwareVersion', 'API_DeviceInfo_android.os.Debug_isDebuggerConnected', 'API_DeviceInfo_android.content.pm.PackageManager_getInstallerPackageName', 'API_DeviceInfo_android.content.pm.PackageManager_getInstalledApplications', 'API_DeviceInfo_android.content.pm.PackageManager_getInstalledModules', 'API_DeviceInfo_android.content.pm.PackageManager_getInstalledPackages', 'API_Network_java.net.URL_openConnection', 'API_Network_org.apache.http.impl.client.AbstractHttpClient_execute', 'API_Network_com.android.okhttp.internal.huc.HttpURLConnectionImpl_getInputStream', 'API_Network_com.android.okhttp.internal.http.HttpURLConnectionImpl_getInputStream', 'API_DexClassLoader_dalvik.system.BaseDexClassLoader_findResource', 'API_DexClassLoader_dalvik.system.BaseDexClassLoader_findResources', 'API_DexClassLoader_dalvik.system.BaseDexClassLoader_findLibrary', 'API_DexClassLoader_dalvik.system.DexFile_loadDex', 'API_DexClassLoader_dalvik.system.DexFile_loadClass', 'API_DexClassLoader_dalvik.system.DexClassLoader_$init', 'API_Base64_android.util.Base64_decode', 'API_Base64_android.util.Base64_encode', 'API_Base64_android.util.Base64_encodeToString', 'API_SystemManager_android.app.ApplicationPackageManager_setComponentEnabledSetting', 'API_SystemManager_android.app.NotificationManager_notify', 'API_SystemManager_android.telephony.TelephonyManager_listen', 'API_SystemManager_android.content.BroadcastReceiver_abortBroadcast', 'API_SMS_android.telephony.SmsManager_sendTextMessage', 'API_SMS_android.telephony.SmsManager_sendMultipartTextMessage', 'API_DeviceData_android.content.ContentResolver_query', 'API_DeviceData_android.content.ContentResolver_registerContentObserver', 'API_DeviceData_android.content.ContentResolver_insert', 'API_DeviceData_android.content.ContentResolver_delete', 'API_DeviceData_android.accounts.AccountManager_getAccountsByType', 'API_DeviceData_android.accounts.AccountManager_getAccounts', 'API_DeviceData_android.location.Location_getLatitude', 'API_DeviceData_android.location.Location_getLongitude', 'API_DeviceData_android.media.AudioRecord_startRecording', 'API_DeviceData_android.media.MediaRecorder_start', 'API_DeviceData_android.os.SystemProperties_get', 'API_DeviceData_android.app.ApplicationPackageManager_getInstalledPackages', 'API__sessions', 'Network_TotalReceivedBytes', 'Network_TotalReceivedPackets', 'Network_TotalTransmittedBytes', 'Network_TotalTransmittedPackets', 'Battery_wakelock', 'Battery_service', 'Logcat_info', 'Logcat_error', 'Logcat_warning', 'Logcat_debug', 'Logcat_verbose', 'Logcat_total', 'Process_total', 'Hash', 'Category', 'Family', 'Reboot']\n",
            "\n",
            "Data Types:\n",
            "int64     141\n",
            "object      4\n",
            "Name: count, dtype: int64\n"
          ]
        }
      ],
      "source": [
        "print(f\"Dataset contains {df.shape[0]} rows and {df.shape[1]} columns.\")\n",
        "print(\"\\nColumn Names:\")\n",
        "print(df.columns.tolist())\n",
        "print(\"\\nData Types:\")\n",
        "print(df.dtypes.value_counts())"
      ]
    },
    {
      "cell_type": "markdown",
      "metadata": {},
      "source": [
        "### Notebook-level constants"
      ]
    },
    {
      "cell_type": "code",
      "execution_count": 9,
      "metadata": {},
      "outputs": [],
      "source": [
        "RANDOM_STATE = 99\n",
        "ONLY_NUMERICAL_COLUMNS = df.select_dtypes(include='number')\n"
      ]
    },
    {
      "cell_type": "markdown",
      "metadata": {},
      "source": [
        "### Description of our features"
      ]
    },
    {
      "cell_type": "markdown",
      "metadata": {},
      "source": [
        "For each of our entries in the dataset we have a feature describing the state of the (operating) system under which the malware was running. Here is an intial description for each of them.\n",
        "Please access this document for a complete problem context description: https://docs.google.com/document/d/1yH9gvnJVSH9GLv9ATQ5JQWA2z8Jy4umxxRfMF-y2fiU/edit?usp=sharing"
      ]
    },
    {
      "cell_type": "markdown",
      "metadata": {},
      "source": [
        "# 1. EDA"
      ]
    },
    {
      "cell_type": "markdown",
      "metadata": {},
      "source": [
        "In this section, we conduct an Exploratory Data Analysis (EDA) on the dynamic malware dataset to gain initial insights into the structure, distribution, and quality of the data prior to modeling. The dataset includes behavioral features extracted from Android applications, along with labels indicating their respective malware categories. Understanding the composition of the dataset, such as class imbalance, feature correlations, and the presence of outliers, is crucial to ensure robust preprocessing, informed feature engineering, and  the success of machine learning classifiers.\n"
      ]
    },
    {
      "cell_type": "markdown",
      "metadata": {},
      "source": [
        "### SUGGESTIONS FOR IMPROVEMENTS\n",
        "- Cluster analysis"
      ]
    },
    {
      "cell_type": "markdown",
      "metadata": {},
      "source": [
        "## Data Type Distribution"
      ]
    },
    {
      "cell_type": "code",
      "execution_count": null,
      "metadata": {},
      "outputs": [],
      "source": [
        "# Get the data type distribution\n",
        "dtype_counts = df.dtypes.value_counts()\n",
        "dtype_counts"
      ]
    },
    {
      "cell_type": "markdown",
      "metadata": {},
      "source": [
        "We can see that most columns are numerical. Lets gets to see which are the variables that are of type object."
      ]
    },
    {
      "cell_type": "code",
      "execution_count": null,
      "metadata": {},
      "outputs": [],
      "source": [
        "df_onlyCols = df.select_dtypes(include=[\"object\"]).columns\n",
        "df_onlyCols"
      ]
    },
    {
      "cell_type": "markdown",
      "metadata": {},
      "source": [
        "## Summary Statistics Overview"
      ]
    },
    {
      "cell_type": "markdown",
      "metadata": {
        "id": "28_glozSPDm7"
      },
      "source": [
        "## Histograms\n"
      ]
    },
    {
      "cell_type": "code",
      "execution_count": null,
      "metadata": {
        "colab": {
          "base_uri": "https://localhost:8080/",
          "height": 1000
        },
        "id": "WVSB5cgoYRDr",
        "outputId": "6da84feb-1032-4185-b3e6-de73e05279df"
      },
      "outputs": [],
      "source": [
        "# Select only numerical features\n",
        "numerical_cols = df.select_dtypes(include=[np.number]).columns\n",
        "\n",
        "# Define number of rows and columns for subplots\n",
        "num_features = len(numerical_cols)\n",
        "cols = 4  # Number of columns per row\n",
        "rows = math.ceil(num_features / cols)  # Calculate required rows\n",
        "\n",
        "# Create subplots\n",
        "fig, axes = plt.subplots(rows, cols, figsize=(16, rows * 4))\n",
        "axes = axes.flatten()  # Flatten to easily iterate\n",
        "\n",
        "# Plot histograms\n",
        "for i, col in enumerate(numerical_cols):\n",
        "    sns.histplot(df[col], bins=30, kde=True, ax=axes[i])  # kde=True for smooth curve\n",
        "    axes[i].set_title(col)\n",
        "\n",
        "# Remove empty subplots\n",
        "for i in range(num_features, len(axes)):\n",
        "    fig.delaxes(axes[i])\n",
        "\n",
        "plt.tight_layout()\n",
        "plt.show()"
      ]
    },
    {
      "cell_type": "markdown",
      "metadata": {},
      "source": [
        "We can see most distributions tend to be right-skewed and only a small portion follows a normal distribution. This right-skewness will be dealt in feature-engineering."
      ]
    },
    {
      "cell_type": "code",
      "execution_count": null,
      "metadata": {
        "colab": {
          "base_uri": "https://localhost:8080/",
          "height": 1000
        },
        "id": "YDO2OqktbPDN",
        "outputId": "59795112-1aaf-4e5d-99fb-999c1b58b662"
      },
      "outputs": [],
      "source": [
        "# Select only numerical features\n",
        "numerical_cols = df.select_dtypes(include=[np.number]).columns\n",
        "\n",
        "# Define number of rows and columns for subplots\n",
        "num_features = len(numerical_cols)\n",
        "cols = 4  # Number of columns per row\n",
        "rows = math.ceil(num_features / cols)  # Calculate required rows\n",
        "\n",
        "# Create subplots\n",
        "fig, axes = plt.subplots(rows, cols, figsize=(16, rows * 4))\n",
        "axes = axes.flatten()  # Flatten to easily iterate\n",
        "\n",
        "# Plot boxplots\n",
        "for i, col in enumerate(numerical_cols):\n",
        "    sns.boxplot(x=df[col], ax=axes[i])  # Boxplot for each feature\n",
        "    axes[i].set_title(col)\n",
        "\n",
        "# Remove empty subplots\n",
        "for i in range(num_features, len(axes)):\n",
        "    fig.delaxes(axes[i])\n",
        "\n",
        "plt.tight_layout()\n",
        "plt.show()"
      ]
    },
    {
      "cell_type": "markdown",
      "metadata": {
        "id": "LDW_CStuioNs"
      },
      "source": [
        "## Numerical Features"
      ]
    },
    {
      "cell_type": "markdown",
      "metadata": {
        "id": "EnC_-AYbitFA"
      },
      "source": [
        "Seemed to be grouped by prefixes: Memory, Network, Battery, Logcat, Process y API.\n",
        "\n",
        "According to dataset authors to capture how various malware families and categories behave at runtime, the analysis relies on six distinct sets of features obtained after executing each sample within a controlled emulated environment. These feature groups offer a comprehensive view of the malware's dynamic activity.\n",
        "\n",
        "This categories appear before the first _ in every feature label and are defined as:\n",
        "\n",
        "\n",
        "\"Memory: Memory features define activities performed by malware by utilizing memory.\n",
        "\n",
        "API: Application Programming Interface (API) features delineate the communication between two applications.\n",
        "\n",
        "Network: Network features describe the data transmitted and received between other devices in the network. It indicates foreground and background network usage.\n",
        "\n",
        "Battery: Battery features describe the access to battery wakelock and services by malware.\n",
        "\n",
        "Logcat: Logcat features write log messages corresponding to a function performed by malware.\n",
        "\n",
        "Process: Process features count the interaction of malware with total number of processes.\"\n",
        "\n"
      ]
    },
    {
      "cell_type": "code",
      "execution_count": null,
      "metadata": {
        "colab": {
          "base_uri": "https://localhost:8080/"
        },
        "id": "raKBvgK5ircs",
        "outputId": "6109fdf7-3a42-4496-a39b-f34bfe204c1b"
      },
      "outputs": [],
      "source": [
        "numeric_cols = df.select_dtypes(include='number').columns\n",
        "\n",
        "# Grouping based on the first prefix before \"_\"\n",
        "prefix_groups = defaultdict(list)\n",
        "\n",
        "for col in numeric_cols:\n",
        "    prefix = col.split(\"_\")[0]  # Get the first word before the underscore\n",
        "    prefix_groups[prefix].append(col)\n",
        "\n",
        "for prefix, columns in prefix_groups.items():\n",
        "    print(f\"\\n {prefix} ({len(columns)} features):\")\n",
        "    for col in columns:\n",
        "        print(f\"  - {col}\")"
      ]
    },
    {
      "cell_type": "markdown",
      "metadata": {
        "id": "Uv7LWIIU5X5i"
      },
      "source": [
        "## Categorical Features"
      ]
    },
    {
      "cell_type": "code",
      "execution_count": null,
      "metadata": {
        "colab": {
          "base_uri": "https://localhost:8080/",
          "height": 175
        },
        "id": "gA-v2L6x5ImZ",
        "outputId": "e7b19c28-c316-4b5a-eec7-90ee38c6dd0b"
      },
      "outputs": [],
      "source": [
        "#Statistical summary for categorical features\n",
        "df.describe(include=[\"object\", \"category\", \"bool\"])"
      ]
    },
    {
      "cell_type": "code",
      "execution_count": null,
      "metadata": {
        "colab": {
          "base_uri": "https://localhost:8080/"
        },
        "id": "qJbNriVFrRYE",
        "outputId": "2935f3d0-a88b-4bd4-8b98-f4c76a641092"
      },
      "outputs": [],
      "source": [
        "print(df[['Hash', 'Category', 'Family']].head())"
      ]
    },
    {
      "cell_type": "markdown",
      "metadata": {
        "id": "BBWBDyuc4q47"
      },
      "source": [
        "Hash: unique identifier that represents each malware sample. <<<>>>THIS IS PROBABLY WRONG<<<>>>\n",
        "\n",
        "Category: general classification of the malware sample based on its behavior.\n",
        "\n",
        "Family: more fine-grained grouping of malware based on its codebase or origin"
      ]
    },
    {
      "cell_type": "markdown",
      "metadata": {
        "id": "DC5leffBsW5W"
      },
      "source": [
        "For hash, it will first be checked if the same malware before and after reboot contains the same hash value."
      ]
    },
    {
      "cell_type": "code",
      "execution_count": null,
      "metadata": {
        "colab": {
          "base_uri": "https://localhost:8080/"
        },
        "id": "_ep2R1vwzRyy",
        "outputId": "3048de1d-c0cd-437d-9044-68a3ed1c3fc3"
      },
      "outputs": [],
      "source": [
        "# Count how many times each hash appears in 'before' and 'after'\n",
        "hash_reboot_counts = df.groupby(['Hash', 'reboot']).size().unstack(fill_value=0)\n",
        "\n",
        "# Hashes in both with exactly one in each\n",
        "hashes_with_one_each = hash_reboot_counts[\n",
        "    (hash_reboot_counts['before'] == 1) & (hash_reboot_counts['after'] == 1)\n",
        "].index\n",
        "\n",
        "# Hashes in both but with extra rows\n",
        "hashes_in_both_but_not_clean = hash_reboot_counts[\n",
        "    (hash_reboot_counts['before'] > 0) &\n",
        "    (hash_reboot_counts['after'] > 0) &\n",
        "    ~((hash_reboot_counts['before'] == 1) & (hash_reboot_counts['after'] == 1))\n",
        "].index\n",
        "\n",
        "# Total unique hashes\n",
        "total_unique_hashes = df['Hash'].nunique()\n",
        "\n",
        "# Hashes in only one reboot condition\n",
        "hashes_in_one_condition = hash_reboot_counts[\n",
        "    (hash_reboot_counts['before'] == 0) | (hash_reboot_counts['after'] == 0)\n",
        "]\n",
        "\n",
        "# Only once in one reboot condition\n",
        "only_once_in_one = hashes_in_one_condition[\n",
        "    (hashes_in_one_condition['before'] == 1) | (hashes_in_one_condition['after'] == 1)\n",
        "]\n",
        "\n",
        "# More than once in one reboot condition\n",
        "more_than_once_in_one = hashes_in_one_condition[\n",
        "    ((hashes_in_one_condition['before'] > 1) & (hashes_in_one_condition['after'] == 0)) |\n",
        "    ((hashes_in_one_condition['after'] > 1) & (hashes_in_one_condition['before'] == 0))\n",
        "]\n",
        "\n",
        "# Split those into counts\n",
        "more_than_once_in_before = more_than_once_in_one[more_than_once_in_one['before'] > 1]\n",
        "more_than_once_in_after = more_than_once_in_one[more_than_once_in_one['after'] > 1]\n",
        "\n",
        "# --- PRINT RESULTS ---\n",
        "print(f\"Hashes with EXACTLY one row in BOTH before and after: {len(hashes_with_one_each)}\")\n",
        "print(f\"Hashes in BOTH, BUT with extra rows: {len(hashes_in_both_but_not_clean)}\")\n",
        "\n",
        "print(f\"\\nHashes in ONLY ONE reboot condition:\")\n",
        "print(f\"• Appearing ONLY ONCE: {len(only_once_in_one)}\")\n",
        "print(f\"• Appearing MORE THAN ONCE: {len(more_than_once_in_one)}\")\n",
        "print(f\"   - More than once in BEFORE: {len(more_than_once_in_before)}\")\n",
        "print(f\"   - More than once in AFTER: {len(more_than_once_in_after)}\")\n",
        "\n",
        "print(f\"\\nTotal breakdown:\")\n",
        "print(f\"• In BOTH (any): {len(hashes_with_one_each) + len(hashes_in_both_but_not_clean)}\")\n",
        "print(f\"• In ONLY ONE reboot: {len(hashes_in_one_condition)}\")\n",
        "print(f\"• TOTAL unique hashes: {total_unique_hashes}\")\n"
      ]
    },
    {
      "cell_type": "markdown",
      "metadata": {
        "id": "i2IGnd2izsOY"
      },
      "source": [
        "A total of 19,169 hashes appear exactly once in both before and after conditions. These are highly reliable for paired  comparisons, ideal for understanding how reboot affects malware behavior.\n",
        "\n",
        "\n",
        "There are 158 hashes that appear in both reboot states but not exactly once in each. These extra instances may come from inconsistencies in data capture like multiple logs for the same sample and should be checked.\n",
        "\n",
        "A significant portion of samples appear only in one reboot condition. This is consistent with limitations described in the original dataset paper, where some malware samples failed to execute after the reboot. However, what is curious is that some still have been logged more than once.\n"
      ]
    },
    {
      "cell_type": "code",
      "execution_count": 27,
      "metadata": {
        "colab": {
          "base_uri": "https://localhost:8080/",
          "height": 89
        },
        "id": "NzJxov9LLOGu",
        "outputId": "a0691e50-f676-4ef2-e150-166b1e96a5ff"
      },
      "outputs": [
        {
          "data": {
            "text/plain": [
              "'\\nThe Hash column is a high-cardinality feature, containing unique values for a high number of rows in the dataset.\\nIt serves as an identifier for each malware sample. Including this column in modeling\\nwould not only offer no predictive value but could also lead to overfitting or cause issues with algorithms that are\\nsensitive to high-cardinality categorical features.\\n <<<>>> J.N: may be better to focus the argumentation on ID not being useful rather than high-cardinality per se. Also write the \\n  argumentation in a text cell not in this type of comments. <<<>>>\\n'"
            ]
          },
          "execution_count": 27,
          "metadata": {},
          "output_type": "execute_result"
        }
      ],
      "source": [
        "df = df.drop(columns=['Hash'])\n",
        "'''\n",
        "The Hash column is a high-cardinality feature, containing unique values for a high number of rows in the dataset.\n",
        "It serves as an identifier for each malware sample. Including this column in modeling\n",
        "would not only offer no predictive value but could also lead to overfitting or cause issues with algorithms that are\n",
        "sensitive to high-cardinality categorical features.\n",
        " <<<>>> J.N: may be better to focus the argumentation on ID not being useful rather than high-cardinality per se. Also write the \n",
        "  argumentation in a text cell not in this type of comments. <<<>>>\n",
        "'''"
      ]
    },
    {
      "cell_type": "markdown",
      "metadata": {
        "id": "1kZUupRE1vx5"
      },
      "source": [
        "This research will be using both Category and Family as the target variables for classification."
      ]
    },
    {
      "cell_type": "markdown",
      "metadata": {
        "id": "eaHsU58AdvlN"
      },
      "source": [
        "## Reboot Analysis"
      ]
    },
    {
      "cell_type": "code",
      "execution_count": null,
      "metadata": {
        "colab": {
          "base_uri": "https://localhost:8080/"
        },
        "id": "5ymeBe4fKdNi",
        "outputId": "ce478b18-ff6a-4720-f19c-e5ecabfbbbbb"
      },
      "outputs": [],
      "source": [
        "print(df[\"reboot\"].value_counts())"
      ]
    },
    {
      "cell_type": "markdown",
      "metadata": {
        "id": "BV8hkdL2SHVe"
      },
      "source": [
        "The imbalance observed in the dataset, with 28,380 samples collected before reboot and only 25,059 after reboot, is explained by limitations found during the dynamic analysis. The authors of the dataset note that \"there was no entry point in some Android malware samples and some Android malware samples stopped abruptly.\" This means that certain malware applications either failed to launch or terminated unexpectedly during execution, preventing the collection of dynamic behavior data, particularly after the reboot phase.\n",
        "\n",
        "Additionally, the study highlights another critical limitation: \"the dynamic analysis is performed in an emulator. Some malware samples are able to detect the emulated environment and are not executed.\" This behavior reflects common anti-analysis techniques used by sophisticated malware, which can detect when they are running in a sandbox or emulator and intentionally suspend their malicious actions.\n",
        "\n",
        "\n"
      ]
    },
    {
      "cell_type": "markdown",
      "metadata": {},
      "source": [
        "<<<>>>THIS ANALYSIS IS SUPER GOOD (you can delete this comment)<<<>>>"
      ]
    },
    {
      "cell_type": "markdown",
      "metadata": {
        "id": "YuIT6CKgeqcZ"
      },
      "source": [
        "The displayed features are the top 10  most affected by reboot showing a clear reboot-sensitive behavior."
      ]
    },
    {
      "cell_type": "code",
      "execution_count": null,
      "metadata": {
        "colab": {
          "base_uri": "https://localhost:8080/",
          "height": 627
        },
        "id": "i9p8S9woa19A",
        "outputId": "7c14fef2-103d-40a4-85e0-50c138fdb448"
      },
      "outputs": [],
      "source": [
        "#Category distribution across reboot\n",
        "plt.figure(figsize=(12, 6))\n",
        "sns.countplot(data=df, x='Category', hue='reboot')\n",
        "plt.title(\"Malware Categories by Reboot Condition\")\n",
        "plt.xticks(rotation=45)\n",
        "plt.tight_layout()\n",
        "plt.show()\n"
      ]
    },
    {
      "cell_type": "markdown",
      "metadata": {
        "id": "pWwaTM_JeoWk"
      },
      "source": [
        "To identify which numeric features are most influenced by the reboot condition, the dataset will be grouped by the reboot variable, separating entries collected before and after the device reboot. Within each group, the mean of every numeric feature will be computed, allowing for the comparison of average behavior across both states.\n",
        "\n",
        "A new column labeled 'diff' was then added, representing the difference between the mean values after and before the reboot for each feature. A positive value indicates that the feature increased after reboot, while a negative value shows it decreased."
      ]
    },
    {
      "cell_type": "code",
      "execution_count": null,
      "metadata": {
        "colab": {
          "base_uri": "https://localhost:8080/",
          "height": 363
        },
        "id": "jG1RQO7AcIWG",
        "outputId": "00489ed7-d243-4fae-d577-849381abbca2"
      },
      "outputs": [],
      "source": [
        "reboot_means = df.groupby('reboot').mean(numeric_only=True).T\n",
        "reboot_means['diff'] = reboot_means['after'] - reboot_means['before']\n",
        "reboot_means_sorted = reboot_means.sort_values(by='diff', ascending=False)\n",
        "\n",
        "reboot_means_sorted.head(10)"
      ]
    },
    {
      "cell_type": "markdown",
      "metadata": {
        "id": "-7cm_Z81fWqq"
      },
      "source": [
        "The results reveal that several features show clear shifts after reboot. Specially, network-related features such as Network_TotalReceivedBytes and Network_TotalTransmittedBytes demonstrate significant increases, suggesting that some malware types intensify data transmission once the device has rebooted. Memory features like Memory_SharedClean, Memory_HeapSize, and Memory_HeapAlloc also show increased values after reboot, indicating greater memory use or altered memory management after reboot.\n",
        "This shows that the reboot condition plays an important role in runtime behavior and should be treated as an important factor in exploratory analysis and modeling."
      ]
    },
    {
      "cell_type": "markdown",
      "metadata": {},
      "source": [
        "## Family"
      ]
    },
    {
      "cell_type": "code",
      "execution_count": null,
      "metadata": {},
      "outputs": [],
      "source": [
        "#How many categories each family belongs to\n",
        "df.groupby(\"Family\")[\"Category\"].nunique().sort_values(ascending=False)"
      ]
    },
    {
      "cell_type": "markdown",
      "metadata": {},
      "source": [
        "Almost every family is either unknown or unique\n"
      ]
    },
    {
      "cell_type": "code",
      "execution_count": 378,
      "metadata": {},
      "outputs": [],
      "source": [
        "# <<<Error: NameError: name 'family_to_category' is not defined>>> (this Irina's code; copied from Argentinan guy's notebook)\n",
        "# multi_cat_families = family_to_category[family_to_category > 1]\n",
        "# print(f\"Number of families mapping to multiple categories: {len(multi_cat_families)}\")\n",
        "# print(multi_cat_families)"
      ]
    },
    {
      "cell_type": "markdown",
      "metadata": {},
      "source": [
        "There is only one Family that maps to multiple categories, and is the placeholder unknown.\n",
        "\n",
        "The following code displays how many samples with unknown family labels belong to each malware category."
      ]
    },
    {
      "cell_type": "code",
      "execution_count": null,
      "metadata": {},
      "outputs": [],
      "source": [
        "df[df[\"Family\"] == \"<unknown>\"][\"Category\"].value_counts()"
      ]
    },
    {
      "cell_type": "code",
      "execution_count": null,
      "metadata": {},
      "outputs": [],
      "source": [
        "# Step 1: Count unique families per category\n",
        "family_amount = df.groupby(\"Category\")[\"Family\"].nunique()\n",
        "\n",
        "# Step 2: Total number of instances per category\n",
        "total_per_category = df[\"Category\"].value_counts()\n",
        "\n",
        "# Step 3: Count how many of those are <unknown> per category\n",
        "unknown_amount = df[df[\"Family\"] == \"<unknown>\"][\"Category\"].value_counts()\n",
        "\n",
        "# Step 4: Combine all stats into a summary table\n",
        "summary_df = pd.DataFrame({\n",
        "    \"Family_amount\": family_amount,\n",
        "    \"Total_category\": total_per_category,\n",
        "    \"Unknown_amount\": unknown_amount\n",
        "}).fillna(0).astype({\"Unknown_amount\": int})\n",
        "\n",
        "# Step 5: Calculate percentage of unknowns per category\n",
        "summary_df[\"%_Unknown\"] = (summary_df[\"Unknown_amount\"] / summary_df[\"Total_category\"] * 100).round(2)\n",
        "\n",
        "# Reorder columns for readability\n",
        "summary_df = summary_df[[\"Family_amount\", \"Total_category\", \"Unknown_amount\", \"%_Unknown\"]]\n",
        "\n",
        "# Display the summary\n",
        "print(summary_df)"
      ]
    },
    {
      "cell_type": "code",
      "execution_count": null,
      "metadata": {},
      "outputs": [],
      "source": [
        "unknown_count = (df[\"Family\"] == \"<unknown>\").sum()\n",
        "print(f\"Number of rows with Family == '<unknown>': {unknown_count}\")\n"
      ]
    },
    {
      "cell_type": "markdown",
      "metadata": {},
      "source": [
        "Based on the analysis of family distribution across categories:\n",
        "\n",
        "The Adware category stands out with zero instances labeled as <unknown> and a balanced distribution across 43 families. This makes it a strong candidate for modeling.\n",
        "\n",
        "In contrast, Zero_Day and No_Category The categories Zero_Day and No_Category exhibit extremely high family dispersion, with 2576 and 335 unique families. These values are significantly higher than all other categories, which generally have fewer than 50 families each.\n",
        "\n",
        "\n",
        "This suggests they function more as placeholder labels. In particular, Zero_Day likely serves as a catch-all label for unknown or uncategorized threats, making it ambiguous. In cybersecurity, this term is refered to a new unknown vulnerability, not yet classified in terms of malware behavior, this is why samples are varied. They do not seem to represent a consistent type. On the other hand, No_Category explicitly denotes a lack of category. So, including these instances would only bring noise to the training process, preventing the model from learning meaningful patterns.\n",
        "Therefore, they are excluded from the final dataset to preserve the quality and consistency of the classification task.\n",
        "\n",
        "\n",
        "Additionally, categories like FileInfector show a high percentage of <unknown> families (6.85%) despite having a small total count, raising concerns about label quality. Most other categories maintain a relatively stable level of unknowns (around 3–5%), indicating that the presence of <unknown> is manageable."
      ]
    },
    {
      "cell_type": "markdown",
      "metadata": {},
      "source": [
        "# DATA SPLITTING\n",
        "### TO BE DONE\n",
        "- Statistical analysis of this"
      ]
    },
    {
      "cell_type": "markdown",
      "metadata": {},
      "source": [
        "### Data Splitting: Category as target variable\n",
        "Originally, we will focus only on category\n",
        "\n",
        "Lets first get the X and y extracted from our dataset"
      ]
    },
    {
      "cell_type": "code",
      "execution_count": 38,
      "metadata": {},
      "outputs": [],
      "source": [
        "X_category, y_category = get_X_y(df, \"Category\", [\"Family\"])"
      ]
    },
    {
      "cell_type": "markdown",
      "metadata": {},
      "source": [
        "Before we continue with the split, lets advance some for the time we get to the encoding process. \n",
        "We are gonna check how many categorical variables are present in each matrix"
      ]
    },
    {
      "cell_type": "code",
      "execution_count": 39,
      "metadata": {},
      "outputs": [
        {
          "data": {
            "text/html": [
              "<div>\n",
              "<style scoped>\n",
              "    .dataframe tbody tr th:only-of-type {\n",
              "        vertical-align: middle;\n",
              "    }\n",
              "\n",
              "    .dataframe tbody tr th {\n",
              "        vertical-align: top;\n",
              "    }\n",
              "\n",
              "    .dataframe thead th {\n",
              "        text-align: right;\n",
              "    }\n",
              "</style>\n",
              "<table border=\"1\" class=\"dataframe\">\n",
              "  <thead>\n",
              "    <tr style=\"text-align: right;\">\n",
              "      <th></th>\n",
              "      <th>Reboot</th>\n",
              "    </tr>\n",
              "  </thead>\n",
              "  <tbody>\n",
              "    <tr>\n",
              "      <th>0</th>\n",
              "      <td>before</td>\n",
              "    </tr>\n",
              "    <tr>\n",
              "      <th>1</th>\n",
              "      <td>before</td>\n",
              "    </tr>\n",
              "    <tr>\n",
              "      <th>2</th>\n",
              "      <td>before</td>\n",
              "    </tr>\n",
              "    <tr>\n",
              "      <th>3</th>\n",
              "      <td>before</td>\n",
              "    </tr>\n",
              "    <tr>\n",
              "      <th>4</th>\n",
              "      <td>before</td>\n",
              "    </tr>\n",
              "    <tr>\n",
              "      <th>...</th>\n",
              "      <td>...</td>\n",
              "    </tr>\n",
              "    <tr>\n",
              "      <th>53434</th>\n",
              "      <td>before</td>\n",
              "    </tr>\n",
              "    <tr>\n",
              "      <th>53435</th>\n",
              "      <td>before</td>\n",
              "    </tr>\n",
              "    <tr>\n",
              "      <th>53436</th>\n",
              "      <td>before</td>\n",
              "    </tr>\n",
              "    <tr>\n",
              "      <th>53437</th>\n",
              "      <td>before</td>\n",
              "    </tr>\n",
              "    <tr>\n",
              "      <th>53438</th>\n",
              "      <td>before</td>\n",
              "    </tr>\n",
              "  </tbody>\n",
              "</table>\n",
              "<p>53439 rows × 1 columns</p>\n",
              "</div>"
            ],
            "text/plain": [
              "       Reboot\n",
              "0      before\n",
              "1      before\n",
              "2      before\n",
              "3      before\n",
              "4      before\n",
              "...       ...\n",
              "53434  before\n",
              "53435  before\n",
              "53436  before\n",
              "53437  before\n",
              "53438  before\n",
              "\n",
              "[53439 rows x 1 columns]"
            ]
          },
          "execution_count": 39,
          "metadata": {},
          "output_type": "execute_result"
        }
      ],
      "source": [
        "X_category.select_dtypes(include=[\"object\"])"
      ]
    },
    {
      "cell_type": "code",
      "execution_count": 40,
      "metadata": {},
      "outputs": [
        {
          "data": {
            "text/plain": [
              "0        Trojan_SMS\n",
              "1        Trojan_SMS\n",
              "2        Trojan_SMS\n",
              "3        Trojan_SMS\n",
              "4        Trojan_SMS\n",
              "            ...    \n",
              "53434           PUA\n",
              "53435           PUA\n",
              "53436           PUA\n",
              "53437           PUA\n",
              "53438           PUA\n",
              "Name: Category, Length: 53439, dtype: object"
            ]
          },
          "execution_count": 40,
          "metadata": {},
          "output_type": "execute_result"
        }
      ],
      "source": [
        "y_category"
      ]
    },
    {
      "cell_type": "markdown",
      "metadata": {},
      "source": [
        "Also object!\n",
        "Lets get back to the splitting!"
      ]
    },
    {
      "cell_type": "code",
      "execution_count": 41,
      "metadata": {},
      "outputs": [
        {
          "data": {
            "text/plain": [
              "((42751, 142), (5344, 142), (5344, 142), (42751,), (5344,), (5344,))"
            ]
          },
          "execution_count": 41,
          "metadata": {},
          "output_type": "execute_result"
        }
      ],
      "source": [
        "X_category_train, X_category_val, X_category_test, y_category_train, y_category_val, y_category_test = get_split_data(X_category, y_category, train_size=0.8, validation_size=0.1, test_size=0.1, random_state=99)\n",
        "\n",
        "X_category_train.shape, X_category_val.shape, X_category_test.shape, y_category_train.shape, y_category_val.shape, y_category_test.shape"
      ]
    },
    {
      "cell_type": "markdown",
      "metadata": {},
      "source": [
        "## FEATURE ENCODING\n",
        "\n",
        "#### Encoding the X matrices (one-hot encoder)\n",
        "Lets fit the X encoder for the object column (reboot)"
      ]
    },
    {
      "cell_type": "code",
      "execution_count": 42,
      "metadata": {},
      "outputs": [],
      "source": [
        "X_category_train_encoded, X_category_val_encoded, X_category_test_encoded = get_X_sets_encoded(X_category_train, X_category_val, X_category_test)"
      ]
    },
    {
      "cell_type": "markdown",
      "metadata": {},
      "source": [
        "Lets visualize the results of the encoding..."
      ]
    },
    {
      "cell_type": "code",
      "execution_count": 43,
      "metadata": {},
      "outputs": [
        {
          "data": {
            "text/html": [
              "<div>\n",
              "<style scoped>\n",
              "    .dataframe tbody tr th:only-of-type {\n",
              "        vertical-align: middle;\n",
              "    }\n",
              "\n",
              "    .dataframe tbody tr th {\n",
              "        vertical-align: top;\n",
              "    }\n",
              "\n",
              "    .dataframe thead th {\n",
              "        text-align: right;\n",
              "    }\n",
              "</style>\n",
              "<table border=\"1\" class=\"dataframe\">\n",
              "  <thead>\n",
              "    <tr style=\"text-align: right;\">\n",
              "      <th></th>\n",
              "      <th>Memory_PssTotal</th>\n",
              "      <th>Memory_PssClean</th>\n",
              "      <th>Memory_SharedDirty</th>\n",
              "      <th>Memory_PrivateDirty</th>\n",
              "      <th>Memory_SharedClean</th>\n",
              "      <th>Memory_PrivateClean</th>\n",
              "      <th>Memory_SwapPssDirty</th>\n",
              "      <th>Memory_HeapSize</th>\n",
              "      <th>Memory_HeapAlloc</th>\n",
              "      <th>Memory_HeapFree</th>\n",
              "      <th>...</th>\n",
              "      <th>Battery_wakelock</th>\n",
              "      <th>Battery_service</th>\n",
              "      <th>Logcat_info</th>\n",
              "      <th>Logcat_error</th>\n",
              "      <th>Logcat_warning</th>\n",
              "      <th>Logcat_debug</th>\n",
              "      <th>Logcat_verbose</th>\n",
              "      <th>Logcat_total</th>\n",
              "      <th>Process_total</th>\n",
              "      <th>Reboot_before</th>\n",
              "    </tr>\n",
              "  </thead>\n",
              "  <tbody>\n",
              "    <tr>\n",
              "      <th>48143</th>\n",
              "      <td>35115</td>\n",
              "      <td>2936</td>\n",
              "      <td>12944</td>\n",
              "      <td>25560</td>\n",
              "      <td>83552</td>\n",
              "      <td>3072</td>\n",
              "      <td>0</td>\n",
              "      <td>9086</td>\n",
              "      <td>5558</td>\n",
              "      <td>3527</td>\n",
              "      <td>...</td>\n",
              "      <td>3</td>\n",
              "      <td>0</td>\n",
              "      <td>4372</td>\n",
              "      <td>2820</td>\n",
              "      <td>1369</td>\n",
              "      <td>1567</td>\n",
              "      <td>4737</td>\n",
              "      <td>14865</td>\n",
              "      <td>188</td>\n",
              "      <td>1</td>\n",
              "    </tr>\n",
              "    <tr>\n",
              "      <th>10388</th>\n",
              "      <td>71418</td>\n",
              "      <td>11352</td>\n",
              "      <td>8960</td>\n",
              "      <td>46700</td>\n",
              "      <td>84844</td>\n",
              "      <td>11468</td>\n",
              "      <td>0</td>\n",
              "      <td>15178</td>\n",
              "      <td>11581</td>\n",
              "      <td>3596</td>\n",
              "      <td>...</td>\n",
              "      <td>2</td>\n",
              "      <td>2</td>\n",
              "      <td>693</td>\n",
              "      <td>99</td>\n",
              "      <td>2863</td>\n",
              "      <td>1702</td>\n",
              "      <td>2804</td>\n",
              "      <td>8161</td>\n",
              "      <td>191</td>\n",
              "      <td>0</td>\n",
              "    </tr>\n",
              "    <tr>\n",
              "      <th>11029</th>\n",
              "      <td>120450</td>\n",
              "      <td>30872</td>\n",
              "      <td>10704</td>\n",
              "      <td>71532</td>\n",
              "      <td>132144</td>\n",
              "      <td>31660</td>\n",
              "      <td>0</td>\n",
              "      <td>37109</td>\n",
              "      <td>30762</td>\n",
              "      <td>6346</td>\n",
              "      <td>...</td>\n",
              "      <td>2</td>\n",
              "      <td>1</td>\n",
              "      <td>2422</td>\n",
              "      <td>2959</td>\n",
              "      <td>925</td>\n",
              "      <td>98</td>\n",
              "      <td>3416</td>\n",
              "      <td>9820</td>\n",
              "      <td>196</td>\n",
              "      <td>0</td>\n",
              "    </tr>\n",
              "    <tr>\n",
              "      <th>36609</th>\n",
              "      <td>42669</td>\n",
              "      <td>4156</td>\n",
              "      <td>12544</td>\n",
              "      <td>29872</td>\n",
              "      <td>91184</td>\n",
              "      <td>4172</td>\n",
              "      <td>0</td>\n",
              "      <td>13283</td>\n",
              "      <td>10668</td>\n",
              "      <td>2614</td>\n",
              "      <td>...</td>\n",
              "      <td>5</td>\n",
              "      <td>2</td>\n",
              "      <td>2323</td>\n",
              "      <td>149</td>\n",
              "      <td>783</td>\n",
              "      <td>1954</td>\n",
              "      <td>2908</td>\n",
              "      <td>8117</td>\n",
              "      <td>192</td>\n",
              "      <td>0</td>\n",
              "    </tr>\n",
              "    <tr>\n",
              "      <th>26413</th>\n",
              "      <td>65679</td>\n",
              "      <td>3256</td>\n",
              "      <td>10792</td>\n",
              "      <td>52684</td>\n",
              "      <td>101276</td>\n",
              "      <td>6004</td>\n",
              "      <td>0</td>\n",
              "      <td>32054</td>\n",
              "      <td>24837</td>\n",
              "      <td>7216</td>\n",
              "      <td>...</td>\n",
              "      <td>3</td>\n",
              "      <td>0</td>\n",
              "      <td>2271</td>\n",
              "      <td>7564</td>\n",
              "      <td>626</td>\n",
              "      <td>1826</td>\n",
              "      <td>139</td>\n",
              "      <td>12426</td>\n",
              "      <td>192</td>\n",
              "      <td>0</td>\n",
              "    </tr>\n",
              "    <tr>\n",
              "      <th>...</th>\n",
              "      <td>...</td>\n",
              "      <td>...</td>\n",
              "      <td>...</td>\n",
              "      <td>...</td>\n",
              "      <td>...</td>\n",
              "      <td>...</td>\n",
              "      <td>...</td>\n",
              "      <td>...</td>\n",
              "      <td>...</td>\n",
              "      <td>...</td>\n",
              "      <td>...</td>\n",
              "      <td>...</td>\n",
              "      <td>...</td>\n",
              "      <td>...</td>\n",
              "      <td>...</td>\n",
              "      <td>...</td>\n",
              "      <td>...</td>\n",
              "      <td>...</td>\n",
              "      <td>...</td>\n",
              "      <td>...</td>\n",
              "      <td>...</td>\n",
              "    </tr>\n",
              "    <tr>\n",
              "      <th>42697</th>\n",
              "      <td>35571</td>\n",
              "      <td>208</td>\n",
              "      <td>11060</td>\n",
              "      <td>32352</td>\n",
              "      <td>56960</td>\n",
              "      <td>212</td>\n",
              "      <td>0</td>\n",
              "      <td>9027</td>\n",
              "      <td>5661</td>\n",
              "      <td>3365</td>\n",
              "      <td>...</td>\n",
              "      <td>3</td>\n",
              "      <td>1</td>\n",
              "      <td>1801</td>\n",
              "      <td>1512</td>\n",
              "      <td>1660</td>\n",
              "      <td>1308</td>\n",
              "      <td>404</td>\n",
              "      <td>6685</td>\n",
              "      <td>189</td>\n",
              "      <td>1</td>\n",
              "    </tr>\n",
              "    <tr>\n",
              "      <th>36008</th>\n",
              "      <td>52445</td>\n",
              "      <td>5196</td>\n",
              "      <td>12452</td>\n",
              "      <td>36008</td>\n",
              "      <td>98696</td>\n",
              "      <td>7208</td>\n",
              "      <td>0</td>\n",
              "      <td>17994</td>\n",
              "      <td>15059</td>\n",
              "      <td>2934</td>\n",
              "      <td>...</td>\n",
              "      <td>3</td>\n",
              "      <td>0</td>\n",
              "      <td>113</td>\n",
              "      <td>2628</td>\n",
              "      <td>802</td>\n",
              "      <td>2621</td>\n",
              "      <td>6419</td>\n",
              "      <td>12583</td>\n",
              "      <td>193</td>\n",
              "      <td>0</td>\n",
              "    </tr>\n",
              "    <tr>\n",
              "      <th>46265</th>\n",
              "      <td>37220</td>\n",
              "      <td>3464</td>\n",
              "      <td>12612</td>\n",
              "      <td>27708</td>\n",
              "      <td>82884</td>\n",
              "      <td>3488</td>\n",
              "      <td>0</td>\n",
              "      <td>10049</td>\n",
              "      <td>7028</td>\n",
              "      <td>3020</td>\n",
              "      <td>...</td>\n",
              "      <td>5</td>\n",
              "      <td>1</td>\n",
              "      <td>3582</td>\n",
              "      <td>4443</td>\n",
              "      <td>1225</td>\n",
              "      <td>1391</td>\n",
              "      <td>2992</td>\n",
              "      <td>13633</td>\n",
              "      <td>189</td>\n",
              "      <td>1</td>\n",
              "    </tr>\n",
              "    <tr>\n",
              "      <th>23587</th>\n",
              "      <td>113947</td>\n",
              "      <td>39996</td>\n",
              "      <td>10852</td>\n",
              "      <td>60764</td>\n",
              "      <td>99972</td>\n",
              "      <td>41624</td>\n",
              "      <td>0</td>\n",
              "      <td>43932</td>\n",
              "      <td>31028</td>\n",
              "      <td>12903</td>\n",
              "      <td>...</td>\n",
              "      <td>5</td>\n",
              "      <td>0</td>\n",
              "      <td>926</td>\n",
              "      <td>3027</td>\n",
              "      <td>1510</td>\n",
              "      <td>1908</td>\n",
              "      <td>5238</td>\n",
              "      <td>12609</td>\n",
              "      <td>187</td>\n",
              "      <td>1</td>\n",
              "    </tr>\n",
              "    <tr>\n",
              "      <th>29313</th>\n",
              "      <td>79501</td>\n",
              "      <td>5476</td>\n",
              "      <td>10600</td>\n",
              "      <td>66556</td>\n",
              "      <td>94636</td>\n",
              "      <td>5580</td>\n",
              "      <td>0</td>\n",
              "      <td>27634</td>\n",
              "      <td>20688</td>\n",
              "      <td>6945</td>\n",
              "      <td>...</td>\n",
              "      <td>8</td>\n",
              "      <td>1</td>\n",
              "      <td>820</td>\n",
              "      <td>106</td>\n",
              "      <td>2003</td>\n",
              "      <td>3506</td>\n",
              "      <td>2601</td>\n",
              "      <td>9036</td>\n",
              "      <td>191</td>\n",
              "      <td>0</td>\n",
              "    </tr>\n",
              "  </tbody>\n",
              "</table>\n",
              "<p>42751 rows × 142 columns</p>\n",
              "</div>"
            ],
            "text/plain": [
              "       Memory_PssTotal  Memory_PssClean  Memory_SharedDirty  \\\n",
              "48143            35115             2936               12944   \n",
              "10388            71418            11352                8960   \n",
              "11029           120450            30872               10704   \n",
              "36609            42669             4156               12544   \n",
              "26413            65679             3256               10792   \n",
              "...                ...              ...                 ...   \n",
              "42697            35571              208               11060   \n",
              "36008            52445             5196               12452   \n",
              "46265            37220             3464               12612   \n",
              "23587           113947            39996               10852   \n",
              "29313            79501             5476               10600   \n",
              "\n",
              "       Memory_PrivateDirty  Memory_SharedClean  Memory_PrivateClean  \\\n",
              "48143                25560               83552                 3072   \n",
              "10388                46700               84844                11468   \n",
              "11029                71532              132144                31660   \n",
              "36609                29872               91184                 4172   \n",
              "26413                52684              101276                 6004   \n",
              "...                    ...                 ...                  ...   \n",
              "42697                32352               56960                  212   \n",
              "36008                36008               98696                 7208   \n",
              "46265                27708               82884                 3488   \n",
              "23587                60764               99972                41624   \n",
              "29313                66556               94636                 5580   \n",
              "\n",
              "       Memory_SwapPssDirty  Memory_HeapSize  Memory_HeapAlloc  \\\n",
              "48143                    0             9086              5558   \n",
              "10388                    0            15178             11581   \n",
              "11029                    0            37109             30762   \n",
              "36609                    0            13283             10668   \n",
              "26413                    0            32054             24837   \n",
              "...                    ...              ...               ...   \n",
              "42697                    0             9027              5661   \n",
              "36008                    0            17994             15059   \n",
              "46265                    0            10049              7028   \n",
              "23587                    0            43932             31028   \n",
              "29313                    0            27634             20688   \n",
              "\n",
              "       Memory_HeapFree  ...  Battery_wakelock  Battery_service  Logcat_info  \\\n",
              "48143             3527  ...                 3                0         4372   \n",
              "10388             3596  ...                 2                2          693   \n",
              "11029             6346  ...                 2                1         2422   \n",
              "36609             2614  ...                 5                2         2323   \n",
              "26413             7216  ...                 3                0         2271   \n",
              "...                ...  ...               ...              ...          ...   \n",
              "42697             3365  ...                 3                1         1801   \n",
              "36008             2934  ...                 3                0          113   \n",
              "46265             3020  ...                 5                1         3582   \n",
              "23587            12903  ...                 5                0          926   \n",
              "29313             6945  ...                 8                1          820   \n",
              "\n",
              "       Logcat_error  Logcat_warning  Logcat_debug  Logcat_verbose  \\\n",
              "48143          2820            1369          1567            4737   \n",
              "10388            99            2863          1702            2804   \n",
              "11029          2959             925            98            3416   \n",
              "36609           149             783          1954            2908   \n",
              "26413          7564             626          1826             139   \n",
              "...             ...             ...           ...             ...   \n",
              "42697          1512            1660          1308             404   \n",
              "36008          2628             802          2621            6419   \n",
              "46265          4443            1225          1391            2992   \n",
              "23587          3027            1510          1908            5238   \n",
              "29313           106            2003          3506            2601   \n",
              "\n",
              "       Logcat_total  Process_total  Reboot_before  \n",
              "48143         14865            188              1  \n",
              "10388          8161            191              0  \n",
              "11029          9820            196              0  \n",
              "36609          8117            192              0  \n",
              "26413         12426            192              0  \n",
              "...             ...            ...            ...  \n",
              "42697          6685            189              1  \n",
              "36008         12583            193              0  \n",
              "46265         13633            189              1  \n",
              "23587         12609            187              1  \n",
              "29313          9036            191              0  \n",
              "\n",
              "[42751 rows x 142 columns]"
            ]
          },
          "execution_count": 43,
          "metadata": {},
          "output_type": "execute_result"
        }
      ],
      "source": [
        "X_category_train_encoded"
      ]
    },
    {
      "cell_type": "code",
      "execution_count": 44,
      "metadata": {},
      "outputs": [
        {
          "data": {
            "text/html": [
              "<div>\n",
              "<style scoped>\n",
              "    .dataframe tbody tr th:only-of-type {\n",
              "        vertical-align: middle;\n",
              "    }\n",
              "\n",
              "    .dataframe tbody tr th {\n",
              "        vertical-align: top;\n",
              "    }\n",
              "\n",
              "    .dataframe thead th {\n",
              "        text-align: right;\n",
              "    }\n",
              "</style>\n",
              "<table border=\"1\" class=\"dataframe\">\n",
              "  <thead>\n",
              "    <tr style=\"text-align: right;\">\n",
              "      <th></th>\n",
              "      <th>Memory_PssTotal</th>\n",
              "      <th>Memory_PssClean</th>\n",
              "      <th>Memory_SharedDirty</th>\n",
              "      <th>Memory_PrivateDirty</th>\n",
              "      <th>Memory_SharedClean</th>\n",
              "      <th>Memory_PrivateClean</th>\n",
              "      <th>Memory_SwapPssDirty</th>\n",
              "      <th>Memory_HeapSize</th>\n",
              "      <th>Memory_HeapAlloc</th>\n",
              "      <th>Memory_HeapFree</th>\n",
              "      <th>...</th>\n",
              "      <th>Battery_wakelock</th>\n",
              "      <th>Battery_service</th>\n",
              "      <th>Logcat_info</th>\n",
              "      <th>Logcat_error</th>\n",
              "      <th>Logcat_warning</th>\n",
              "      <th>Logcat_debug</th>\n",
              "      <th>Logcat_verbose</th>\n",
              "      <th>Logcat_total</th>\n",
              "      <th>Process_total</th>\n",
              "      <th>Reboot_before</th>\n",
              "    </tr>\n",
              "  </thead>\n",
              "  <tbody>\n",
              "    <tr>\n",
              "      <th>18288</th>\n",
              "      <td>89260</td>\n",
              "      <td>35468</td>\n",
              "      <td>10708</td>\n",
              "      <td>43912</td>\n",
              "      <td>101788</td>\n",
              "      <td>37024</td>\n",
              "      <td>0</td>\n",
              "      <td>13438</td>\n",
              "      <td>10484</td>\n",
              "      <td>2953</td>\n",
              "      <td>...</td>\n",
              "      <td>4</td>\n",
              "      <td>1</td>\n",
              "      <td>1260</td>\n",
              "      <td>1890</td>\n",
              "      <td>3822</td>\n",
              "      <td>4762</td>\n",
              "      <td>3532</td>\n",
              "      <td>15266</td>\n",
              "      <td>191</td>\n",
              "      <td>1</td>\n",
              "    </tr>\n",
              "    <tr>\n",
              "      <th>40648</th>\n",
              "      <td>48666</td>\n",
              "      <td>12528</td>\n",
              "      <td>10656</td>\n",
              "      <td>26508</td>\n",
              "      <td>71024</td>\n",
              "      <td>12660</td>\n",
              "      <td>0</td>\n",
              "      <td>7571</td>\n",
              "      <td>4444</td>\n",
              "      <td>3126</td>\n",
              "      <td>...</td>\n",
              "      <td>3</td>\n",
              "      <td>2</td>\n",
              "      <td>3730</td>\n",
              "      <td>2898</td>\n",
              "      <td>113</td>\n",
              "      <td>970</td>\n",
              "      <td>3147</td>\n",
              "      <td>10858</td>\n",
              "      <td>191</td>\n",
              "      <td>0</td>\n",
              "    </tr>\n",
              "    <tr>\n",
              "      <th>8718</th>\n",
              "      <td>46730</td>\n",
              "      <td>5972</td>\n",
              "      <td>12100</td>\n",
              "      <td>32660</td>\n",
              "      <td>93356</td>\n",
              "      <td>6100</td>\n",
              "      <td>0</td>\n",
              "      <td>21473</td>\n",
              "      <td>17870</td>\n",
              "      <td>3602</td>\n",
              "      <td>...</td>\n",
              "      <td>8</td>\n",
              "      <td>1</td>\n",
              "      <td>1363</td>\n",
              "      <td>465</td>\n",
              "      <td>2332</td>\n",
              "      <td>138</td>\n",
              "      <td>1468</td>\n",
              "      <td>5766</td>\n",
              "      <td>190</td>\n",
              "      <td>0</td>\n",
              "    </tr>\n",
              "    <tr>\n",
              "      <th>5961</th>\n",
              "      <td>52168</td>\n",
              "      <td>5372</td>\n",
              "      <td>12236</td>\n",
              "      <td>33636</td>\n",
              "      <td>89756</td>\n",
              "      <td>7224</td>\n",
              "      <td>0</td>\n",
              "      <td>17434</td>\n",
              "      <td>14267</td>\n",
              "      <td>3166</td>\n",
              "      <td>...</td>\n",
              "      <td>3</td>\n",
              "      <td>1</td>\n",
              "      <td>4297</td>\n",
              "      <td>1748</td>\n",
              "      <td>3056</td>\n",
              "      <td>2978</td>\n",
              "      <td>1014</td>\n",
              "      <td>13093</td>\n",
              "      <td>191</td>\n",
              "      <td>1</td>\n",
              "    </tr>\n",
              "    <tr>\n",
              "      <th>32688</th>\n",
              "      <td>92303</td>\n",
              "      <td>25632</td>\n",
              "      <td>10584</td>\n",
              "      <td>58220</td>\n",
              "      <td>89048</td>\n",
              "      <td>26916</td>\n",
              "      <td>0</td>\n",
              "      <td>31904</td>\n",
              "      <td>24735</td>\n",
              "      <td>7168</td>\n",
              "      <td>...</td>\n",
              "      <td>2</td>\n",
              "      <td>0</td>\n",
              "      <td>1442</td>\n",
              "      <td>1665</td>\n",
              "      <td>734</td>\n",
              "      <td>110</td>\n",
              "      <td>2522</td>\n",
              "      <td>6473</td>\n",
              "      <td>192</td>\n",
              "      <td>0</td>\n",
              "    </tr>\n",
              "    <tr>\n",
              "      <th>...</th>\n",
              "      <td>...</td>\n",
              "      <td>...</td>\n",
              "      <td>...</td>\n",
              "      <td>...</td>\n",
              "      <td>...</td>\n",
              "      <td>...</td>\n",
              "      <td>...</td>\n",
              "      <td>...</td>\n",
              "      <td>...</td>\n",
              "      <td>...</td>\n",
              "      <td>...</td>\n",
              "      <td>...</td>\n",
              "      <td>...</td>\n",
              "      <td>...</td>\n",
              "      <td>...</td>\n",
              "      <td>...</td>\n",
              "      <td>...</td>\n",
              "      <td>...</td>\n",
              "      <td>...</td>\n",
              "      <td>...</td>\n",
              "      <td>...</td>\n",
              "    </tr>\n",
              "    <tr>\n",
              "      <th>20920</th>\n",
              "      <td>56561</td>\n",
              "      <td>1940</td>\n",
              "      <td>10620</td>\n",
              "      <td>44556</td>\n",
              "      <td>95240</td>\n",
              "      <td>4684</td>\n",
              "      <td>0</td>\n",
              "      <td>19531</td>\n",
              "      <td>16995</td>\n",
              "      <td>2535</td>\n",
              "      <td>...</td>\n",
              "      <td>5</td>\n",
              "      <td>3</td>\n",
              "      <td>705</td>\n",
              "      <td>1833</td>\n",
              "      <td>2840</td>\n",
              "      <td>1516</td>\n",
              "      <td>4116</td>\n",
              "      <td>11010</td>\n",
              "      <td>187</td>\n",
              "      <td>1</td>\n",
              "    </tr>\n",
              "    <tr>\n",
              "      <th>33656</th>\n",
              "      <td>114597</td>\n",
              "      <td>13464</td>\n",
              "      <td>11176</td>\n",
              "      <td>88344</td>\n",
              "      <td>83848</td>\n",
              "      <td>17952</td>\n",
              "      <td>0</td>\n",
              "      <td>33963</td>\n",
              "      <td>26513</td>\n",
              "      <td>7449</td>\n",
              "      <td>...</td>\n",
              "      <td>4</td>\n",
              "      <td>0</td>\n",
              "      <td>2736</td>\n",
              "      <td>2081</td>\n",
              "      <td>2651</td>\n",
              "      <td>633</td>\n",
              "      <td>1692</td>\n",
              "      <td>9793</td>\n",
              "      <td>194</td>\n",
              "      <td>1</td>\n",
              "    </tr>\n",
              "    <tr>\n",
              "      <th>32607</th>\n",
              "      <td>117458</td>\n",
              "      <td>37848</td>\n",
              "      <td>10640</td>\n",
              "      <td>62936</td>\n",
              "      <td>112004</td>\n",
              "      <td>44524</td>\n",
              "      <td>0</td>\n",
              "      <td>43343</td>\n",
              "      <td>37854</td>\n",
              "      <td>5488</td>\n",
              "      <td>...</td>\n",
              "      <td>3</td>\n",
              "      <td>0</td>\n",
              "      <td>5119</td>\n",
              "      <td>269</td>\n",
              "      <td>743</td>\n",
              "      <td>3890</td>\n",
              "      <td>2460</td>\n",
              "      <td>12481</td>\n",
              "      <td>193</td>\n",
              "      <td>0</td>\n",
              "    </tr>\n",
              "    <tr>\n",
              "      <th>8923</th>\n",
              "      <td>101636</td>\n",
              "      <td>42696</td>\n",
              "      <td>11792</td>\n",
              "      <td>45016</td>\n",
              "      <td>99032</td>\n",
              "      <td>44444</td>\n",
              "      <td>0</td>\n",
              "      <td>26615</td>\n",
              "      <td>22085</td>\n",
              "      <td>4529</td>\n",
              "      <td>...</td>\n",
              "      <td>4</td>\n",
              "      <td>2</td>\n",
              "      <td>2489</td>\n",
              "      <td>902</td>\n",
              "      <td>237</td>\n",
              "      <td>3404</td>\n",
              "      <td>2364</td>\n",
              "      <td>9396</td>\n",
              "      <td>194</td>\n",
              "      <td>0</td>\n",
              "    </tr>\n",
              "    <tr>\n",
              "      <th>38099</th>\n",
              "      <td>51156</td>\n",
              "      <td>5052</td>\n",
              "      <td>11076</td>\n",
              "      <td>37104</td>\n",
              "      <td>89148</td>\n",
              "      <td>7908</td>\n",
              "      <td>0</td>\n",
              "      <td>19344</td>\n",
              "      <td>16648</td>\n",
              "      <td>2695</td>\n",
              "      <td>...</td>\n",
              "      <td>2</td>\n",
              "      <td>0</td>\n",
              "      <td>3312</td>\n",
              "      <td>1138</td>\n",
              "      <td>414</td>\n",
              "      <td>3637</td>\n",
              "      <td>1974</td>\n",
              "      <td>10475</td>\n",
              "      <td>193</td>\n",
              "      <td>0</td>\n",
              "    </tr>\n",
              "  </tbody>\n",
              "</table>\n",
              "<p>5344 rows × 142 columns</p>\n",
              "</div>"
            ],
            "text/plain": [
              "       Memory_PssTotal  Memory_PssClean  Memory_SharedDirty  \\\n",
              "18288            89260            35468               10708   \n",
              "40648            48666            12528               10656   \n",
              "8718             46730             5972               12100   \n",
              "5961             52168             5372               12236   \n",
              "32688            92303            25632               10584   \n",
              "...                ...              ...                 ...   \n",
              "20920            56561             1940               10620   \n",
              "33656           114597            13464               11176   \n",
              "32607           117458            37848               10640   \n",
              "8923            101636            42696               11792   \n",
              "38099            51156             5052               11076   \n",
              "\n",
              "       Memory_PrivateDirty  Memory_SharedClean  Memory_PrivateClean  \\\n",
              "18288                43912              101788                37024   \n",
              "40648                26508               71024                12660   \n",
              "8718                 32660               93356                 6100   \n",
              "5961                 33636               89756                 7224   \n",
              "32688                58220               89048                26916   \n",
              "...                    ...                 ...                  ...   \n",
              "20920                44556               95240                 4684   \n",
              "33656                88344               83848                17952   \n",
              "32607                62936              112004                44524   \n",
              "8923                 45016               99032                44444   \n",
              "38099                37104               89148                 7908   \n",
              "\n",
              "       Memory_SwapPssDirty  Memory_HeapSize  Memory_HeapAlloc  \\\n",
              "18288                    0            13438             10484   \n",
              "40648                    0             7571              4444   \n",
              "8718                     0            21473             17870   \n",
              "5961                     0            17434             14267   \n",
              "32688                    0            31904             24735   \n",
              "...                    ...              ...               ...   \n",
              "20920                    0            19531             16995   \n",
              "33656                    0            33963             26513   \n",
              "32607                    0            43343             37854   \n",
              "8923                     0            26615             22085   \n",
              "38099                    0            19344             16648   \n",
              "\n",
              "       Memory_HeapFree  ...  Battery_wakelock  Battery_service  Logcat_info  \\\n",
              "18288             2953  ...                 4                1         1260   \n",
              "40648             3126  ...                 3                2         3730   \n",
              "8718              3602  ...                 8                1         1363   \n",
              "5961              3166  ...                 3                1         4297   \n",
              "32688             7168  ...                 2                0         1442   \n",
              "...                ...  ...               ...              ...          ...   \n",
              "20920             2535  ...                 5                3          705   \n",
              "33656             7449  ...                 4                0         2736   \n",
              "32607             5488  ...                 3                0         5119   \n",
              "8923              4529  ...                 4                2         2489   \n",
              "38099             2695  ...                 2                0         3312   \n",
              "\n",
              "       Logcat_error  Logcat_warning  Logcat_debug  Logcat_verbose  \\\n",
              "18288          1890            3822          4762            3532   \n",
              "40648          2898             113           970            3147   \n",
              "8718            465            2332           138            1468   \n",
              "5961           1748            3056          2978            1014   \n",
              "32688          1665             734           110            2522   \n",
              "...             ...             ...           ...             ...   \n",
              "20920          1833            2840          1516            4116   \n",
              "33656          2081            2651           633            1692   \n",
              "32607           269             743          3890            2460   \n",
              "8923            902             237          3404            2364   \n",
              "38099          1138             414          3637            1974   \n",
              "\n",
              "       Logcat_total  Process_total  Reboot_before  \n",
              "18288         15266            191              1  \n",
              "40648         10858            191              0  \n",
              "8718           5766            190              0  \n",
              "5961          13093            191              1  \n",
              "32688          6473            192              0  \n",
              "...             ...            ...            ...  \n",
              "20920         11010            187              1  \n",
              "33656          9793            194              1  \n",
              "32607         12481            193              0  \n",
              "8923           9396            194              0  \n",
              "38099         10475            193              0  \n",
              "\n",
              "[5344 rows x 142 columns]"
            ]
          },
          "execution_count": 44,
          "metadata": {},
          "output_type": "execute_result"
        }
      ],
      "source": [
        "X_category_val_encoded"
      ]
    },
    {
      "cell_type": "code",
      "execution_count": 45,
      "metadata": {},
      "outputs": [
        {
          "data": {
            "text/html": [
              "<div>\n",
              "<style scoped>\n",
              "    .dataframe tbody tr th:only-of-type {\n",
              "        vertical-align: middle;\n",
              "    }\n",
              "\n",
              "    .dataframe tbody tr th {\n",
              "        vertical-align: top;\n",
              "    }\n",
              "\n",
              "    .dataframe thead th {\n",
              "        text-align: right;\n",
              "    }\n",
              "</style>\n",
              "<table border=\"1\" class=\"dataframe\">\n",
              "  <thead>\n",
              "    <tr style=\"text-align: right;\">\n",
              "      <th></th>\n",
              "      <th>Memory_PssTotal</th>\n",
              "      <th>Memory_PssClean</th>\n",
              "      <th>Memory_SharedDirty</th>\n",
              "      <th>Memory_PrivateDirty</th>\n",
              "      <th>Memory_SharedClean</th>\n",
              "      <th>Memory_PrivateClean</th>\n",
              "      <th>Memory_SwapPssDirty</th>\n",
              "      <th>Memory_HeapSize</th>\n",
              "      <th>Memory_HeapAlloc</th>\n",
              "      <th>Memory_HeapFree</th>\n",
              "      <th>...</th>\n",
              "      <th>Battery_wakelock</th>\n",
              "      <th>Battery_service</th>\n",
              "      <th>Logcat_info</th>\n",
              "      <th>Logcat_error</th>\n",
              "      <th>Logcat_warning</th>\n",
              "      <th>Logcat_debug</th>\n",
              "      <th>Logcat_verbose</th>\n",
              "      <th>Logcat_total</th>\n",
              "      <th>Process_total</th>\n",
              "      <th>Reboot_before</th>\n",
              "    </tr>\n",
              "  </thead>\n",
              "  <tbody>\n",
              "    <tr>\n",
              "      <th>28550</th>\n",
              "      <td>142029</td>\n",
              "      <td>9644</td>\n",
              "      <td>10804</td>\n",
              "      <td>123028</td>\n",
              "      <td>67116</td>\n",
              "      <td>10220</td>\n",
              "      <td>0</td>\n",
              "      <td>40778</td>\n",
              "      <td>30782</td>\n",
              "      <td>9995</td>\n",
              "      <td>...</td>\n",
              "      <td>4</td>\n",
              "      <td>0</td>\n",
              "      <td>1854</td>\n",
              "      <td>1162</td>\n",
              "      <td>1512</td>\n",
              "      <td>1975</td>\n",
              "      <td>2807</td>\n",
              "      <td>9310</td>\n",
              "      <td>189</td>\n",
              "      <td>1</td>\n",
              "    </tr>\n",
              "    <tr>\n",
              "      <th>43091</th>\n",
              "      <td>35900</td>\n",
              "      <td>0</td>\n",
              "      <td>11228</td>\n",
              "      <td>33240</td>\n",
              "      <td>52236</td>\n",
              "      <td>4</td>\n",
              "      <td>0</td>\n",
              "      <td>9026</td>\n",
              "      <td>5604</td>\n",
              "      <td>3421</td>\n",
              "      <td>...</td>\n",
              "      <td>3</td>\n",
              "      <td>1</td>\n",
              "      <td>753</td>\n",
              "      <td>1673</td>\n",
              "      <td>2602</td>\n",
              "      <td>1541</td>\n",
              "      <td>3550</td>\n",
              "      <td>10119</td>\n",
              "      <td>191</td>\n",
              "      <td>1</td>\n",
              "    </tr>\n",
              "    <tr>\n",
              "      <th>8287</th>\n",
              "      <td>120639</td>\n",
              "      <td>32164</td>\n",
              "      <td>10724</td>\n",
              "      <td>79364</td>\n",
              "      <td>102076</td>\n",
              "      <td>33536</td>\n",
              "      <td>0</td>\n",
              "      <td>37049</td>\n",
              "      <td>29643</td>\n",
              "      <td>7405</td>\n",
              "      <td>...</td>\n",
              "      <td>2</td>\n",
              "      <td>0</td>\n",
              "      <td>115</td>\n",
              "      <td>2370</td>\n",
              "      <td>3863</td>\n",
              "      <td>1387</td>\n",
              "      <td>1691</td>\n",
              "      <td>9426</td>\n",
              "      <td>193</td>\n",
              "      <td>0</td>\n",
              "    </tr>\n",
              "    <tr>\n",
              "      <th>47969</th>\n",
              "      <td>32216</td>\n",
              "      <td>3552</td>\n",
              "      <td>12936</td>\n",
              "      <td>23972</td>\n",
              "      <td>66432</td>\n",
              "      <td>3564</td>\n",
              "      <td>0</td>\n",
              "      <td>7897</td>\n",
              "      <td>4791</td>\n",
              "      <td>3105</td>\n",
              "      <td>...</td>\n",
              "      <td>3</td>\n",
              "      <td>0</td>\n",
              "      <td>2657</td>\n",
              "      <td>1561</td>\n",
              "      <td>4380</td>\n",
              "      <td>3265</td>\n",
              "      <td>1415</td>\n",
              "      <td>13278</td>\n",
              "      <td>188</td>\n",
              "      <td>1</td>\n",
              "    </tr>\n",
              "    <tr>\n",
              "      <th>29839</th>\n",
              "      <td>80737</td>\n",
              "      <td>2556</td>\n",
              "      <td>11012</td>\n",
              "      <td>64316</td>\n",
              "      <td>90308</td>\n",
              "      <td>10252</td>\n",
              "      <td>0</td>\n",
              "      <td>47900</td>\n",
              "      <td>36743</td>\n",
              "      <td>11156</td>\n",
              "      <td>...</td>\n",
              "      <td>2</td>\n",
              "      <td>1</td>\n",
              "      <td>626</td>\n",
              "      <td>2142</td>\n",
              "      <td>2488</td>\n",
              "      <td>195</td>\n",
              "      <td>4399</td>\n",
              "      <td>9850</td>\n",
              "      <td>193</td>\n",
              "      <td>0</td>\n",
              "    </tr>\n",
              "    <tr>\n",
              "      <th>...</th>\n",
              "      <td>...</td>\n",
              "      <td>...</td>\n",
              "      <td>...</td>\n",
              "      <td>...</td>\n",
              "      <td>...</td>\n",
              "      <td>...</td>\n",
              "      <td>...</td>\n",
              "      <td>...</td>\n",
              "      <td>...</td>\n",
              "      <td>...</td>\n",
              "      <td>...</td>\n",
              "      <td>...</td>\n",
              "      <td>...</td>\n",
              "      <td>...</td>\n",
              "      <td>...</td>\n",
              "      <td>...</td>\n",
              "      <td>...</td>\n",
              "      <td>...</td>\n",
              "      <td>...</td>\n",
              "      <td>...</td>\n",
              "      <td>...</td>\n",
              "    </tr>\n",
              "    <tr>\n",
              "      <th>53065</th>\n",
              "      <td>56160</td>\n",
              "      <td>8456</td>\n",
              "      <td>12012</td>\n",
              "      <td>34720</td>\n",
              "      <td>96740</td>\n",
              "      <td>11544</td>\n",
              "      <td>0</td>\n",
              "      <td>11466</td>\n",
              "      <td>8843</td>\n",
              "      <td>2622</td>\n",
              "      <td>...</td>\n",
              "      <td>6</td>\n",
              "      <td>1</td>\n",
              "      <td>2503</td>\n",
              "      <td>1609</td>\n",
              "      <td>10482</td>\n",
              "      <td>956</td>\n",
              "      <td>3464</td>\n",
              "      <td>19014</td>\n",
              "      <td>188</td>\n",
              "      <td>1</td>\n",
              "    </tr>\n",
              "    <tr>\n",
              "      <th>49176</th>\n",
              "      <td>40409</td>\n",
              "      <td>1268</td>\n",
              "      <td>11204</td>\n",
              "      <td>35692</td>\n",
              "      <td>62172</td>\n",
              "      <td>1272</td>\n",
              "      <td>0</td>\n",
              "      <td>7921</td>\n",
              "      <td>5985</td>\n",
              "      <td>1935</td>\n",
              "      <td>...</td>\n",
              "      <td>3</td>\n",
              "      <td>0</td>\n",
              "      <td>1529</td>\n",
              "      <td>937</td>\n",
              "      <td>3319</td>\n",
              "      <td>1538</td>\n",
              "      <td>2902</td>\n",
              "      <td>10225</td>\n",
              "      <td>189</td>\n",
              "      <td>1</td>\n",
              "    </tr>\n",
              "    <tr>\n",
              "      <th>30395</th>\n",
              "      <td>71344</td>\n",
              "      <td>4576</td>\n",
              "      <td>10624</td>\n",
              "      <td>57848</td>\n",
              "      <td>107704</td>\n",
              "      <td>4616</td>\n",
              "      <td>0</td>\n",
              "      <td>24922</td>\n",
              "      <td>19530</td>\n",
              "      <td>5391</td>\n",
              "      <td>...</td>\n",
              "      <td>8</td>\n",
              "      <td>1</td>\n",
              "      <td>3398</td>\n",
              "      <td>1916</td>\n",
              "      <td>734</td>\n",
              "      <td>106</td>\n",
              "      <td>2481</td>\n",
              "      <td>8635</td>\n",
              "      <td>192</td>\n",
              "      <td>0</td>\n",
              "    </tr>\n",
              "    <tr>\n",
              "      <th>4491</th>\n",
              "      <td>39970</td>\n",
              "      <td>1692</td>\n",
              "      <td>10688</td>\n",
              "      <td>29372</td>\n",
              "      <td>88400</td>\n",
              "      <td>3964</td>\n",
              "      <td>0</td>\n",
              "      <td>12228</td>\n",
              "      <td>9262</td>\n",
              "      <td>2965</td>\n",
              "      <td>...</td>\n",
              "      <td>6</td>\n",
              "      <td>0</td>\n",
              "      <td>1560</td>\n",
              "      <td>2403</td>\n",
              "      <td>932</td>\n",
              "      <td>2394</td>\n",
              "      <td>2423</td>\n",
              "      <td>9712</td>\n",
              "      <td>186</td>\n",
              "      <td>1</td>\n",
              "    </tr>\n",
              "    <tr>\n",
              "      <th>2304</th>\n",
              "      <td>66112</td>\n",
              "      <td>26888</td>\n",
              "      <td>10180</td>\n",
              "      <td>26108</td>\n",
              "      <td>58108</td>\n",
              "      <td>27336</td>\n",
              "      <td>0</td>\n",
              "      <td>8796</td>\n",
              "      <td>6031</td>\n",
              "      <td>2764</td>\n",
              "      <td>...</td>\n",
              "      <td>4</td>\n",
              "      <td>1</td>\n",
              "      <td>1070</td>\n",
              "      <td>10940</td>\n",
              "      <td>1514</td>\n",
              "      <td>3870</td>\n",
              "      <td>3745</td>\n",
              "      <td>21139</td>\n",
              "      <td>188</td>\n",
              "      <td>1</td>\n",
              "    </tr>\n",
              "  </tbody>\n",
              "</table>\n",
              "<p>5344 rows × 142 columns</p>\n",
              "</div>"
            ],
            "text/plain": [
              "       Memory_PssTotal  Memory_PssClean  Memory_SharedDirty  \\\n",
              "28550           142029             9644               10804   \n",
              "43091            35900                0               11228   \n",
              "8287            120639            32164               10724   \n",
              "47969            32216             3552               12936   \n",
              "29839            80737             2556               11012   \n",
              "...                ...              ...                 ...   \n",
              "53065            56160             8456               12012   \n",
              "49176            40409             1268               11204   \n",
              "30395            71344             4576               10624   \n",
              "4491             39970             1692               10688   \n",
              "2304             66112            26888               10180   \n",
              "\n",
              "       Memory_PrivateDirty  Memory_SharedClean  Memory_PrivateClean  \\\n",
              "28550               123028               67116                10220   \n",
              "43091                33240               52236                    4   \n",
              "8287                 79364              102076                33536   \n",
              "47969                23972               66432                 3564   \n",
              "29839                64316               90308                10252   \n",
              "...                    ...                 ...                  ...   \n",
              "53065                34720               96740                11544   \n",
              "49176                35692               62172                 1272   \n",
              "30395                57848              107704                 4616   \n",
              "4491                 29372               88400                 3964   \n",
              "2304                 26108               58108                27336   \n",
              "\n",
              "       Memory_SwapPssDirty  Memory_HeapSize  Memory_HeapAlloc  \\\n",
              "28550                    0            40778             30782   \n",
              "43091                    0             9026              5604   \n",
              "8287                     0            37049             29643   \n",
              "47969                    0             7897              4791   \n",
              "29839                    0            47900             36743   \n",
              "...                    ...              ...               ...   \n",
              "53065                    0            11466              8843   \n",
              "49176                    0             7921              5985   \n",
              "30395                    0            24922             19530   \n",
              "4491                     0            12228              9262   \n",
              "2304                     0             8796              6031   \n",
              "\n",
              "       Memory_HeapFree  ...  Battery_wakelock  Battery_service  Logcat_info  \\\n",
              "28550             9995  ...                 4                0         1854   \n",
              "43091             3421  ...                 3                1          753   \n",
              "8287              7405  ...                 2                0          115   \n",
              "47969             3105  ...                 3                0         2657   \n",
              "29839            11156  ...                 2                1          626   \n",
              "...                ...  ...               ...              ...          ...   \n",
              "53065             2622  ...                 6                1         2503   \n",
              "49176             1935  ...                 3                0         1529   \n",
              "30395             5391  ...                 8                1         3398   \n",
              "4491              2965  ...                 6                0         1560   \n",
              "2304              2764  ...                 4                1         1070   \n",
              "\n",
              "       Logcat_error  Logcat_warning  Logcat_debug  Logcat_verbose  \\\n",
              "28550          1162            1512          1975            2807   \n",
              "43091          1673            2602          1541            3550   \n",
              "8287           2370            3863          1387            1691   \n",
              "47969          1561            4380          3265            1415   \n",
              "29839          2142            2488           195            4399   \n",
              "...             ...             ...           ...             ...   \n",
              "53065          1609           10482           956            3464   \n",
              "49176           937            3319          1538            2902   \n",
              "30395          1916             734           106            2481   \n",
              "4491           2403             932          2394            2423   \n",
              "2304          10940            1514          3870            3745   \n",
              "\n",
              "       Logcat_total  Process_total  Reboot_before  \n",
              "28550          9310            189              1  \n",
              "43091         10119            191              1  \n",
              "8287           9426            193              0  \n",
              "47969         13278            188              1  \n",
              "29839          9850            193              0  \n",
              "...             ...            ...            ...  \n",
              "53065         19014            188              1  \n",
              "49176         10225            189              1  \n",
              "30395          8635            192              0  \n",
              "4491           9712            186              1  \n",
              "2304          21139            188              1  \n",
              "\n",
              "[5344 rows x 142 columns]"
            ]
          },
          "execution_count": 45,
          "metadata": {},
          "output_type": "execute_result"
        }
      ],
      "source": [
        "X_category_test_encoded"
      ]
    },
    {
      "cell_type": "markdown",
      "metadata": {},
      "source": [
        "Awesome, the X matrices are all set now. Lets finally encode the target variable (which we saw in the split process is of dtype: object)\n",
        "#### Encoding y matrix (labeller encoding) \n",
        "We know our models needs the target variable to be numerical. Lets transform this series object then!\n",
        "We will fit the encoder in the training set, and extend it to the other sets"
      ]
    },
    {
      "cell_type": "code",
      "execution_count": 46,
      "metadata": {},
      "outputs": [],
      "source": [
        "y_category_train_encoded, y_category_val_encoded, y_category_test_encoded = get_y_sets_encoded(y_category_train, y_category_val, y_category_test)"
      ]
    },
    {
      "cell_type": "markdown",
      "metadata": {},
      "source": [
        "One more time, let's visualize the results"
      ]
    },
    {
      "cell_type": "code",
      "execution_count": 47,
      "metadata": {},
      "outputs": [
        {
          "data": {
            "text/plain": [
              "(48143     8\n",
              " 10388     0\n",
              " 11029     0\n",
              " 36609     6\n",
              " 26413    13\n",
              "          ..\n",
              " 42697    12\n",
              " 36008     6\n",
              " 46265     8\n",
              " 23587     6\n",
              " 29313     8\n",
              " Length: 42751, dtype: int64,\n",
              " '------------------------------',\n",
              " 18288    6\n",
              " 40648    6\n",
              " 8718     0\n",
              " 5961     0\n",
              " 32688    8\n",
              "         ..\n",
              " 20920    6\n",
              " 33656    3\n",
              " 32607    8\n",
              " 8923     0\n",
              " 38099    6\n",
              " Length: 5344, dtype: int64,\n",
              " '------------------------------',\n",
              " 28550    13\n",
              " 43091    12\n",
              " 8287      0\n",
              " 47969     8\n",
              " 29839     8\n",
              "          ..\n",
              " 53065     4\n",
              " 49176     5\n",
              " 30395     8\n",
              " 4491      0\n",
              " 2304      0\n",
              " Length: 5344, dtype: int64)"
            ]
          },
          "execution_count": 47,
          "metadata": {},
          "output_type": "execute_result"
        }
      ],
      "source": [
        "y_category_train_encoded, \"-\"*30,  y_category_val_encoded, \"-\"*30, y_category_test_encoded, "
      ]
    },
    {
      "cell_type": "markdown",
      "metadata": {},
      "source": [
        "<hr>"
      ]
    },
    {
      "cell_type": "markdown",
      "metadata": {},
      "source": [
        "# DATA PREPROCESSING"
      ]
    },
    {
      "cell_type": "markdown",
      "metadata": {},
      "source": [
        "### Feature Scaling"
      ]
    },
    {
      "cell_type": "markdown",
      "metadata": {},
      "source": [
        "We will work only with the training set to avoid data leakage."
      ]
    },
    {
      "cell_type": "code",
      "execution_count": 48,
      "metadata": {},
      "outputs": [
        {
          "data": {
            "text/html": [
              "<div>\n",
              "<style scoped>\n",
              "    .dataframe tbody tr th:only-of-type {\n",
              "        vertical-align: middle;\n",
              "    }\n",
              "\n",
              "    .dataframe tbody tr th {\n",
              "        vertical-align: top;\n",
              "    }\n",
              "\n",
              "    .dataframe thead th {\n",
              "        text-align: right;\n",
              "    }\n",
              "</style>\n",
              "<table border=\"1\" class=\"dataframe\">\n",
              "  <thead>\n",
              "    <tr style=\"text-align: right;\">\n",
              "      <th></th>\n",
              "      <th>Memory_PssTotal</th>\n",
              "      <th>Memory_PssClean</th>\n",
              "      <th>Memory_SharedDirty</th>\n",
              "      <th>Memory_PrivateDirty</th>\n",
              "      <th>Memory_SharedClean</th>\n",
              "      <th>Memory_PrivateClean</th>\n",
              "      <th>Memory_SwapPssDirty</th>\n",
              "      <th>Memory_HeapSize</th>\n",
              "      <th>Memory_HeapAlloc</th>\n",
              "      <th>Memory_HeapFree</th>\n",
              "      <th>...</th>\n",
              "      <th>Battery_wakelock</th>\n",
              "      <th>Battery_service</th>\n",
              "      <th>Logcat_info</th>\n",
              "      <th>Logcat_error</th>\n",
              "      <th>Logcat_warning</th>\n",
              "      <th>Logcat_debug</th>\n",
              "      <th>Logcat_verbose</th>\n",
              "      <th>Logcat_total</th>\n",
              "      <th>Process_total</th>\n",
              "      <th>Reboot_before</th>\n",
              "    </tr>\n",
              "  </thead>\n",
              "  <tbody>\n",
              "    <tr>\n",
              "      <th>48143</th>\n",
              "      <td>35115</td>\n",
              "      <td>2936</td>\n",
              "      <td>12944</td>\n",
              "      <td>25560</td>\n",
              "      <td>83552</td>\n",
              "      <td>3072</td>\n",
              "      <td>0</td>\n",
              "      <td>9086</td>\n",
              "      <td>5558</td>\n",
              "      <td>3527</td>\n",
              "      <td>...</td>\n",
              "      <td>3</td>\n",
              "      <td>0</td>\n",
              "      <td>4372</td>\n",
              "      <td>2820</td>\n",
              "      <td>1369</td>\n",
              "      <td>1567</td>\n",
              "      <td>4737</td>\n",
              "      <td>14865</td>\n",
              "      <td>188</td>\n",
              "      <td>1</td>\n",
              "    </tr>\n",
              "    <tr>\n",
              "      <th>10388</th>\n",
              "      <td>71418</td>\n",
              "      <td>11352</td>\n",
              "      <td>8960</td>\n",
              "      <td>46700</td>\n",
              "      <td>84844</td>\n",
              "      <td>11468</td>\n",
              "      <td>0</td>\n",
              "      <td>15178</td>\n",
              "      <td>11581</td>\n",
              "      <td>3596</td>\n",
              "      <td>...</td>\n",
              "      <td>2</td>\n",
              "      <td>2</td>\n",
              "      <td>693</td>\n",
              "      <td>99</td>\n",
              "      <td>2863</td>\n",
              "      <td>1702</td>\n",
              "      <td>2804</td>\n",
              "      <td>8161</td>\n",
              "      <td>191</td>\n",
              "      <td>0</td>\n",
              "    </tr>\n",
              "    <tr>\n",
              "      <th>11029</th>\n",
              "      <td>120450</td>\n",
              "      <td>30872</td>\n",
              "      <td>10704</td>\n",
              "      <td>71532</td>\n",
              "      <td>132144</td>\n",
              "      <td>31660</td>\n",
              "      <td>0</td>\n",
              "      <td>37109</td>\n",
              "      <td>30762</td>\n",
              "      <td>6346</td>\n",
              "      <td>...</td>\n",
              "      <td>2</td>\n",
              "      <td>1</td>\n",
              "      <td>2422</td>\n",
              "      <td>2959</td>\n",
              "      <td>925</td>\n",
              "      <td>98</td>\n",
              "      <td>3416</td>\n",
              "      <td>9820</td>\n",
              "      <td>196</td>\n",
              "      <td>0</td>\n",
              "    </tr>\n",
              "    <tr>\n",
              "      <th>36609</th>\n",
              "      <td>42669</td>\n",
              "      <td>4156</td>\n",
              "      <td>12544</td>\n",
              "      <td>29872</td>\n",
              "      <td>91184</td>\n",
              "      <td>4172</td>\n",
              "      <td>0</td>\n",
              "      <td>13283</td>\n",
              "      <td>10668</td>\n",
              "      <td>2614</td>\n",
              "      <td>...</td>\n",
              "      <td>5</td>\n",
              "      <td>2</td>\n",
              "      <td>2323</td>\n",
              "      <td>149</td>\n",
              "      <td>783</td>\n",
              "      <td>1954</td>\n",
              "      <td>2908</td>\n",
              "      <td>8117</td>\n",
              "      <td>192</td>\n",
              "      <td>0</td>\n",
              "    </tr>\n",
              "    <tr>\n",
              "      <th>26413</th>\n",
              "      <td>65679</td>\n",
              "      <td>3256</td>\n",
              "      <td>10792</td>\n",
              "      <td>52684</td>\n",
              "      <td>101276</td>\n",
              "      <td>6004</td>\n",
              "      <td>0</td>\n",
              "      <td>32054</td>\n",
              "      <td>24837</td>\n",
              "      <td>7216</td>\n",
              "      <td>...</td>\n",
              "      <td>3</td>\n",
              "      <td>0</td>\n",
              "      <td>2271</td>\n",
              "      <td>7564</td>\n",
              "      <td>626</td>\n",
              "      <td>1826</td>\n",
              "      <td>139</td>\n",
              "      <td>12426</td>\n",
              "      <td>192</td>\n",
              "      <td>0</td>\n",
              "    </tr>\n",
              "    <tr>\n",
              "      <th>...</th>\n",
              "      <td>...</td>\n",
              "      <td>...</td>\n",
              "      <td>...</td>\n",
              "      <td>...</td>\n",
              "      <td>...</td>\n",
              "      <td>...</td>\n",
              "      <td>...</td>\n",
              "      <td>...</td>\n",
              "      <td>...</td>\n",
              "      <td>...</td>\n",
              "      <td>...</td>\n",
              "      <td>...</td>\n",
              "      <td>...</td>\n",
              "      <td>...</td>\n",
              "      <td>...</td>\n",
              "      <td>...</td>\n",
              "      <td>...</td>\n",
              "      <td>...</td>\n",
              "      <td>...</td>\n",
              "      <td>...</td>\n",
              "      <td>...</td>\n",
              "    </tr>\n",
              "    <tr>\n",
              "      <th>42697</th>\n",
              "      <td>35571</td>\n",
              "      <td>208</td>\n",
              "      <td>11060</td>\n",
              "      <td>32352</td>\n",
              "      <td>56960</td>\n",
              "      <td>212</td>\n",
              "      <td>0</td>\n",
              "      <td>9027</td>\n",
              "      <td>5661</td>\n",
              "      <td>3365</td>\n",
              "      <td>...</td>\n",
              "      <td>3</td>\n",
              "      <td>1</td>\n",
              "      <td>1801</td>\n",
              "      <td>1512</td>\n",
              "      <td>1660</td>\n",
              "      <td>1308</td>\n",
              "      <td>404</td>\n",
              "      <td>6685</td>\n",
              "      <td>189</td>\n",
              "      <td>1</td>\n",
              "    </tr>\n",
              "    <tr>\n",
              "      <th>36008</th>\n",
              "      <td>52445</td>\n",
              "      <td>5196</td>\n",
              "      <td>12452</td>\n",
              "      <td>36008</td>\n",
              "      <td>98696</td>\n",
              "      <td>7208</td>\n",
              "      <td>0</td>\n",
              "      <td>17994</td>\n",
              "      <td>15059</td>\n",
              "      <td>2934</td>\n",
              "      <td>...</td>\n",
              "      <td>3</td>\n",
              "      <td>0</td>\n",
              "      <td>113</td>\n",
              "      <td>2628</td>\n",
              "      <td>802</td>\n",
              "      <td>2621</td>\n",
              "      <td>6419</td>\n",
              "      <td>12583</td>\n",
              "      <td>193</td>\n",
              "      <td>0</td>\n",
              "    </tr>\n",
              "    <tr>\n",
              "      <th>46265</th>\n",
              "      <td>37220</td>\n",
              "      <td>3464</td>\n",
              "      <td>12612</td>\n",
              "      <td>27708</td>\n",
              "      <td>82884</td>\n",
              "      <td>3488</td>\n",
              "      <td>0</td>\n",
              "      <td>10049</td>\n",
              "      <td>7028</td>\n",
              "      <td>3020</td>\n",
              "      <td>...</td>\n",
              "      <td>5</td>\n",
              "      <td>1</td>\n",
              "      <td>3582</td>\n",
              "      <td>4443</td>\n",
              "      <td>1225</td>\n",
              "      <td>1391</td>\n",
              "      <td>2992</td>\n",
              "      <td>13633</td>\n",
              "      <td>189</td>\n",
              "      <td>1</td>\n",
              "    </tr>\n",
              "    <tr>\n",
              "      <th>23587</th>\n",
              "      <td>113947</td>\n",
              "      <td>39996</td>\n",
              "      <td>10852</td>\n",
              "      <td>60764</td>\n",
              "      <td>99972</td>\n",
              "      <td>41624</td>\n",
              "      <td>0</td>\n",
              "      <td>43932</td>\n",
              "      <td>31028</td>\n",
              "      <td>12903</td>\n",
              "      <td>...</td>\n",
              "      <td>5</td>\n",
              "      <td>0</td>\n",
              "      <td>926</td>\n",
              "      <td>3027</td>\n",
              "      <td>1510</td>\n",
              "      <td>1908</td>\n",
              "      <td>5238</td>\n",
              "      <td>12609</td>\n",
              "      <td>187</td>\n",
              "      <td>1</td>\n",
              "    </tr>\n",
              "    <tr>\n",
              "      <th>29313</th>\n",
              "      <td>79501</td>\n",
              "      <td>5476</td>\n",
              "      <td>10600</td>\n",
              "      <td>66556</td>\n",
              "      <td>94636</td>\n",
              "      <td>5580</td>\n",
              "      <td>0</td>\n",
              "      <td>27634</td>\n",
              "      <td>20688</td>\n",
              "      <td>6945</td>\n",
              "      <td>...</td>\n",
              "      <td>8</td>\n",
              "      <td>1</td>\n",
              "      <td>820</td>\n",
              "      <td>106</td>\n",
              "      <td>2003</td>\n",
              "      <td>3506</td>\n",
              "      <td>2601</td>\n",
              "      <td>9036</td>\n",
              "      <td>191</td>\n",
              "      <td>0</td>\n",
              "    </tr>\n",
              "  </tbody>\n",
              "</table>\n",
              "<p>42751 rows × 142 columns</p>\n",
              "</div>"
            ],
            "text/plain": [
              "       Memory_PssTotal  Memory_PssClean  Memory_SharedDirty  \\\n",
              "48143            35115             2936               12944   \n",
              "10388            71418            11352                8960   \n",
              "11029           120450            30872               10704   \n",
              "36609            42669             4156               12544   \n",
              "26413            65679             3256               10792   \n",
              "...                ...              ...                 ...   \n",
              "42697            35571              208               11060   \n",
              "36008            52445             5196               12452   \n",
              "46265            37220             3464               12612   \n",
              "23587           113947            39996               10852   \n",
              "29313            79501             5476               10600   \n",
              "\n",
              "       Memory_PrivateDirty  Memory_SharedClean  Memory_PrivateClean  \\\n",
              "48143                25560               83552                 3072   \n",
              "10388                46700               84844                11468   \n",
              "11029                71532              132144                31660   \n",
              "36609                29872               91184                 4172   \n",
              "26413                52684              101276                 6004   \n",
              "...                    ...                 ...                  ...   \n",
              "42697                32352               56960                  212   \n",
              "36008                36008               98696                 7208   \n",
              "46265                27708               82884                 3488   \n",
              "23587                60764               99972                41624   \n",
              "29313                66556               94636                 5580   \n",
              "\n",
              "       Memory_SwapPssDirty  Memory_HeapSize  Memory_HeapAlloc  \\\n",
              "48143                    0             9086              5558   \n",
              "10388                    0            15178             11581   \n",
              "11029                    0            37109             30762   \n",
              "36609                    0            13283             10668   \n",
              "26413                    0            32054             24837   \n",
              "...                    ...              ...               ...   \n",
              "42697                    0             9027              5661   \n",
              "36008                    0            17994             15059   \n",
              "46265                    0            10049              7028   \n",
              "23587                    0            43932             31028   \n",
              "29313                    0            27634             20688   \n",
              "\n",
              "       Memory_HeapFree  ...  Battery_wakelock  Battery_service  Logcat_info  \\\n",
              "48143             3527  ...                 3                0         4372   \n",
              "10388             3596  ...                 2                2          693   \n",
              "11029             6346  ...                 2                1         2422   \n",
              "36609             2614  ...                 5                2         2323   \n",
              "26413             7216  ...                 3                0         2271   \n",
              "...                ...  ...               ...              ...          ...   \n",
              "42697             3365  ...                 3                1         1801   \n",
              "36008             2934  ...                 3                0          113   \n",
              "46265             3020  ...                 5                1         3582   \n",
              "23587            12903  ...                 5                0          926   \n",
              "29313             6945  ...                 8                1          820   \n",
              "\n",
              "       Logcat_error  Logcat_warning  Logcat_debug  Logcat_verbose  \\\n",
              "48143          2820            1369          1567            4737   \n",
              "10388            99            2863          1702            2804   \n",
              "11029          2959             925            98            3416   \n",
              "36609           149             783          1954            2908   \n",
              "26413          7564             626          1826             139   \n",
              "...             ...             ...           ...             ...   \n",
              "42697          1512            1660          1308             404   \n",
              "36008          2628             802          2621            6419   \n",
              "46265          4443            1225          1391            2992   \n",
              "23587          3027            1510          1908            5238   \n",
              "29313           106            2003          3506            2601   \n",
              "\n",
              "       Logcat_total  Process_total  Reboot_before  \n",
              "48143         14865            188              1  \n",
              "10388          8161            191              0  \n",
              "11029          9820            196              0  \n",
              "36609          8117            192              0  \n",
              "26413         12426            192              0  \n",
              "...             ...            ...            ...  \n",
              "42697          6685            189              1  \n",
              "36008         12583            193              0  \n",
              "46265         13633            189              1  \n",
              "23587         12609            187              1  \n",
              "29313          9036            191              0  \n",
              "\n",
              "[42751 rows x 142 columns]"
            ]
          },
          "execution_count": 48,
          "metadata": {},
          "output_type": "execute_result"
        }
      ],
      "source": [
        "X_category_train_encoded"
      ]
    },
    {
      "cell_type": "code",
      "execution_count": 49,
      "metadata": {},
      "outputs": [
        {
          "data": {
            "text/html": [
              "<div>\n",
              "<style scoped>\n",
              "    .dataframe tbody tr th:only-of-type {\n",
              "        vertical-align: middle;\n",
              "    }\n",
              "\n",
              "    .dataframe tbody tr th {\n",
              "        vertical-align: top;\n",
              "    }\n",
              "\n",
              "    .dataframe thead th {\n",
              "        text-align: right;\n",
              "    }\n",
              "</style>\n",
              "<table border=\"1\" class=\"dataframe\">\n",
              "  <thead>\n",
              "    <tr style=\"text-align: right;\">\n",
              "      <th></th>\n",
              "      <th>min</th>\n",
              "      <th>max</th>\n",
              "    </tr>\n",
              "  </thead>\n",
              "  <tbody>\n",
              "    <tr>\n",
              "      <th>Memory_PssTotal</th>\n",
              "      <td>4808.0</td>\n",
              "      <td>819456.0</td>\n",
              "    </tr>\n",
              "    <tr>\n",
              "      <th>Memory_PssClean</th>\n",
              "      <td>0.0</td>\n",
              "      <td>106360.0</td>\n",
              "    </tr>\n",
              "    <tr>\n",
              "      <th>Memory_SharedDirty</th>\n",
              "      <td>7036.0</td>\n",
              "      <td>40416.0</td>\n",
              "    </tr>\n",
              "    <tr>\n",
              "      <th>Memory_PrivateDirty</th>\n",
              "      <td>12.0</td>\n",
              "      <td>809032.0</td>\n",
              "    </tr>\n",
              "    <tr>\n",
              "      <th>Memory_SharedClean</th>\n",
              "      <td>4268.0</td>\n",
              "      <td>183600.0</td>\n",
              "    </tr>\n",
              "    <tr>\n",
              "      <th>...</th>\n",
              "      <td>...</td>\n",
              "      <td>...</td>\n",
              "    </tr>\n",
              "    <tr>\n",
              "      <th>Logcat_debug</th>\n",
              "      <td>45.0</td>\n",
              "      <td>89456.0</td>\n",
              "    </tr>\n",
              "    <tr>\n",
              "      <th>Logcat_verbose</th>\n",
              "      <td>33.0</td>\n",
              "      <td>102860.0</td>\n",
              "    </tr>\n",
              "    <tr>\n",
              "      <th>Logcat_total</th>\n",
              "      <td>3121.0</td>\n",
              "      <td>2067038.0</td>\n",
              "    </tr>\n",
              "    <tr>\n",
              "      <th>Process_total</th>\n",
              "      <td>172.0</td>\n",
              "      <td>221.0</td>\n",
              "    </tr>\n",
              "    <tr>\n",
              "      <th>Reboot_before</th>\n",
              "      <td>0.0</td>\n",
              "      <td>1.0</td>\n",
              "    </tr>\n",
              "  </tbody>\n",
              "</table>\n",
              "<p>142 rows × 2 columns</p>\n",
              "</div>"
            ],
            "text/plain": [
              "                        min        max\n",
              "Memory_PssTotal      4808.0   819456.0\n",
              "Memory_PssClean         0.0   106360.0\n",
              "Memory_SharedDirty   7036.0    40416.0\n",
              "Memory_PrivateDirty    12.0   809032.0\n",
              "Memory_SharedClean   4268.0   183600.0\n",
              "...                     ...        ...\n",
              "Logcat_debug           45.0    89456.0\n",
              "Logcat_verbose         33.0   102860.0\n",
              "Logcat_total         3121.0  2067038.0\n",
              "Process_total         172.0      221.0\n",
              "Reboot_before           0.0        1.0\n",
              "\n",
              "[142 rows x 2 columns]"
            ]
          },
          "execution_count": 49,
          "metadata": {},
          "output_type": "execute_result"
        }
      ],
      "source": [
        "X_category_train_encoded.describe().T[['min', 'max']]"
      ]
    },
    {
      "cell_type": "markdown",
      "metadata": {},
      "source": [
        "Secondly, we're gonna check for kurtosis and skewness. If skewness is high we might need to consider standardizing."
      ]
    },
    {
      "cell_type": "code",
      "execution_count": 50,
      "metadata": {},
      "outputs": [
        {
          "name": "stdout",
          "output_type": "stream",
          "text": [
            "\n",
            "Skewness:\n",
            "----------------\n",
            "Memory_PssTotal          3.333710\n",
            "Memory_PssClean          1.180268\n",
            "Memory_SharedDirty       2.849618\n",
            "Memory_PrivateDirty      5.885056\n",
            "Memory_SharedClean      -0.108211\n",
            "                          ...    \n",
            "Logcat_debug             9.452555\n",
            "Logcat_verbose          10.164429\n",
            "Logcat_total           153.531025\n",
            "Process_total            0.451092\n",
            "Reboot_before           -0.124546\n",
            "Length: 142, dtype: float64\n",
            "\n",
            "Kurtosis:\n",
            "----------------\n",
            "Memory_PssTotal           34.434660\n",
            "Memory_PssClean            0.129070\n",
            "Memory_SharedDirty        64.948246\n",
            "Memory_PrivateDirty       79.786758\n",
            "Memory_SharedClean         0.580186\n",
            "                           ...     \n",
            "Logcat_debug             295.773396\n",
            "Logcat_verbose           374.035578\n",
            "Logcat_total           28370.636585\n",
            "Process_total              2.999676\n",
            "Reboot_before             -1.984581\n",
            "Length: 142, dtype: float64\n"
          ]
        }
      ],
      "source": [
        "# Get skewness and kurtosis\n",
        "print(f\"\\nSkewness:\\n----------------\\n{X_category_train_encoded.skew()}\")\n",
        "print(f\"\\nKurtosis:\\n----------------\\n{X_category_train_encoded.kurt()}\")"
      ]
    },
    {
      "cell_type": "markdown",
      "metadata": {},
      "source": [
        "Since there is a very large number of fields, we need to avoid looking at the distribution and information about each feature. For this, we decided to create an automation that decides the appropriate scaling method -if necessary- for each feature. \n",
        "\n",
        "This function -`determine_scaling_method`- takes into account outlier detection and skewness and based on that it decides to use a **robust scaler**, **normalize** or **none**.\n",
        "\n",
        "Note: we use **robust scaler** rather than a **standard scaler** because robust scales with the median and IQR, which is less sensitive to outliers than standardizing is -computed with $\\mu$ and $\\sigma$-."
      ]
    },
    {
      "cell_type": "code",
      "execution_count": 55,
      "metadata": {},
      "outputs": [
        {
          "name": "stdout",
          "output_type": "stream",
          "text": [
            "Scaling methods distribution:\n"
          ]
        },
        {
          "data": {
            "text/plain": [
              "robust    127\n",
              "none       15\n",
              "Name: count, dtype: int64"
            ]
          },
          "execution_count": 55,
          "metadata": {},
          "output_type": "execute_result"
        }
      ],
      "source": [
        "# Get numerical columns from training data\n",
        "numerical_cols = X_category_train_encoded.columns\n",
        "\n",
        "# Determine scaling method for each feature\n",
        "scaling_methods = {}\n",
        "for col in numerical_cols:\n",
        "    scaling_methods[col] = determine_scaling_method(X_category_train_encoded[col])\n",
        "\n",
        "# Create lists for each scaling method\n",
        "robust_cols = [col for col, method in scaling_methods.items() if method == 'robust']\n",
        "normalize_cols = [col for col, method in scaling_methods.items() if method == 'normalize']\n",
        "no_scaling_cols = [col for col, method in scaling_methods.items() if method == 'none']\n",
        "\n",
        "# Count of each scaling method\n",
        "method_counts = pd.Series(scaling_methods).value_counts()\n",
        "print(\"Scaling methods distribution:\")\n",
        "method_counts"
      ]
    },
    {
      "cell_type": "markdown",
      "metadata": {},
      "source": [
        "We see that most fields have outliers and therefore the best method for scaling is **robust**."
      ]
    },
    {
      "cell_type": "markdown",
      "metadata": {},
      "source": [
        "`RobustScaler` centers the values around the median and scales with IQR to reduce impact of outliers. `MinMaxScaler` is applied only if normalization was recommended although in this case, none were."
      ]
    },
    {
      "cell_type": "code",
      "execution_count": 53,
      "metadata": {},
      "outputs": [
        {
          "name": "stdout",
          "output_type": "stream",
          "text": [
            "\n",
            "Examples of standardized features:\n"
          ]
        },
        {
          "data": {
            "image/png": "[encoded data removed]",
            "text/plain": [
              "<Figure size 1200x1200 with 8 Axes>"
            ]
          },
          "metadata": {},
          "output_type": "display_data"
        },
        {
          "data": {
            "text/plain": [
              "'\\nRobust complete! The training data is now ready for modeling.'"
            ]
          },
          "execution_count": 53,
          "metadata": {},
          "output_type": "execute_result"
        }
      ],
      "source": [
        "from sklearn.preprocessing import StandardScaler, MinMaxScaler, RobustScaler\n",
        "\n",
        "# Apply the transformations\n",
        "scaler_robust = RobustScaler()\n",
        "scaler_minmax = MinMaxScaler()\n",
        "\n",
        "# Create a copy of the training data to avoid warnings\n",
        "X_train_scaled = X_category_train_encoded.copy()\n",
        "\n",
        "# Apply standardization\n",
        "if robust_cols:\n",
        "    X_train_scaled[robust_cols] = scaler_robust.fit_transform(X_category_train_encoded[robust_cols])\n",
        "\n",
        "# Apply normalization\n",
        "if normalize_cols:\n",
        "    X_train_scaled[normalize_cols] = scaler_minmax.fit_transform(X_category_train_encoded[normalize_cols])\n",
        "\n",
        "# Visualize scaling effects using utility function\n",
        "if robust_cols:\n",
        "    print(\"\\nExamples of standardized features:\")\n",
        "    plot_before_after_scaling(X_category_train_encoded, X_train_scaled, robust_cols)\n",
        "\n",
        "if normalize_cols:\n",
        "    print(\"\\nExamples of normalized features:\")\n",
        "    plot_before_after_scaling(X_category_train_encoded, X_train_scaled, normalize_cols)\n",
        "\n",
        "\"\\nRobust complete! The training data is now ready for modeling.\""
      ]
    },
    {
      "cell_type": "code",
      "execution_count": 54,
      "metadata": {},
      "outputs": [
        {
          "data": {
            "text/html": [
              "<div>\n",
              "<style scoped>\n",
              "    .dataframe tbody tr th:only-of-type {\n",
              "        vertical-align: middle;\n",
              "    }\n",
              "\n",
              "    .dataframe tbody tr th {\n",
              "        vertical-align: top;\n",
              "    }\n",
              "\n",
              "    .dataframe thead th {\n",
              "        text-align: right;\n",
              "    }\n",
              "</style>\n",
              "<table border=\"1\" class=\"dataframe\">\n",
              "  <thead>\n",
              "    <tr style=\"text-align: right;\">\n",
              "      <th></th>\n",
              "      <th>Memory_PssTotal</th>\n",
              "      <th>Memory_PssClean</th>\n",
              "      <th>Memory_SharedDirty</th>\n",
              "      <th>Memory_PrivateDirty</th>\n",
              "      <th>Memory_SharedClean</th>\n",
              "      <th>Memory_PrivateClean</th>\n",
              "      <th>Memory_SwapPssDirty</th>\n",
              "      <th>Memory_HeapSize</th>\n",
              "      <th>Memory_HeapAlloc</th>\n",
              "      <th>Memory_HeapFree</th>\n",
              "      <th>...</th>\n",
              "      <th>Battery_wakelock</th>\n",
              "      <th>Battery_service</th>\n",
              "      <th>Logcat_info</th>\n",
              "      <th>Logcat_error</th>\n",
              "      <th>Logcat_warning</th>\n",
              "      <th>Logcat_debug</th>\n",
              "      <th>Logcat_verbose</th>\n",
              "      <th>Logcat_total</th>\n",
              "      <th>Process_total</th>\n",
              "      <th>Reboot_before</th>\n",
              "    </tr>\n",
              "  </thead>\n",
              "  <tbody>\n",
              "    <tr>\n",
              "      <th>48143</th>\n",
              "      <td>-0.572982</td>\n",
              "      <td>-0.212739</td>\n",
              "      <td>3.662252</td>\n",
              "      <td>-0.680374</td>\n",
              "      <td>-0.269575</td>\n",
              "      <td>-0.304846</td>\n",
              "      <td>0</td>\n",
              "      <td>-0.744642</td>\n",
              "      <td>-0.903544</td>\n",
              "      <td>-0.190928</td>\n",
              "      <td>...</td>\n",
              "      <td>0.0</td>\n",
              "      <td>0.0</td>\n",
              "      <td>1.229024</td>\n",
              "      <td>0.414508</td>\n",
              "      <td>-0.328646</td>\n",
              "      <td>-0.232606</td>\n",
              "      <td>1.436909</td>\n",
              "      <td>1.088923</td>\n",
              "      <td>-0.50</td>\n",
              "      <td>0.0</td>\n",
              "    </tr>\n",
              "    <tr>\n",
              "      <th>10388</th>\n",
              "      <td>0.223136</td>\n",
              "      <td>0.310774</td>\n",
              "      <td>-2.933775</td>\n",
              "      <td>0.225135</td>\n",
              "      <td>-0.211834</td>\n",
              "      <td>0.196228</td>\n",
              "      <td>0</td>\n",
              "      <td>-0.345350</td>\n",
              "      <td>-0.408902</td>\n",
              "      <td>-0.166667</td>\n",
              "      <td>...</td>\n",
              "      <td>-0.5</td>\n",
              "      <td>2.0</td>\n",
              "      <td>-0.712401</td>\n",
              "      <td>-0.995337</td>\n",
              "      <td>0.449479</td>\n",
              "      <td>-0.162513</td>\n",
              "      <td>0.420610</td>\n",
              "      <td>-0.788685</td>\n",
              "      <td>0.25</td>\n",
              "      <td>-1.0</td>\n",
              "    </tr>\n",
              "    <tr>\n",
              "      <th>11029</th>\n",
              "      <td>1.298399</td>\n",
              "      <td>1.525006</td>\n",
              "      <td>-0.046358</td>\n",
              "      <td>1.288786</td>\n",
              "      <td>1.902038</td>\n",
              "      <td>1.401289</td>\n",
              "      <td>0</td>\n",
              "      <td>1.092089</td>\n",
              "      <td>1.166345</td>\n",
              "      <td>0.800281</td>\n",
              "      <td>...</td>\n",
              "      <td>-0.5</td>\n",
              "      <td>1.0</td>\n",
              "      <td>0.200000</td>\n",
              "      <td>0.486528</td>\n",
              "      <td>-0.559896</td>\n",
              "      <td>-0.995327</td>\n",
              "      <td>0.742376</td>\n",
              "      <td>-0.324044</td>\n",
              "      <td>1.50</td>\n",
              "      <td>-1.0</td>\n",
              "    </tr>\n",
              "    <tr>\n",
              "      <th>36609</th>\n",
              "      <td>-0.407325</td>\n",
              "      <td>-0.136850</td>\n",
              "      <td>3.000000</td>\n",
              "      <td>-0.495674</td>\n",
              "      <td>0.071505</td>\n",
              "      <td>-0.239198</td>\n",
              "      <td>0</td>\n",
              "      <td>-0.469555</td>\n",
              "      <td>-0.483883</td>\n",
              "      <td>-0.511955</td>\n",
              "      <td>...</td>\n",
              "      <td>1.0</td>\n",
              "      <td>2.0</td>\n",
              "      <td>0.147757</td>\n",
              "      <td>-0.969430</td>\n",
              "      <td>-0.633854</td>\n",
              "      <td>-0.031672</td>\n",
              "      <td>0.475289</td>\n",
              "      <td>-0.801008</td>\n",
              "      <td>0.50</td>\n",
              "      <td>-1.0</td>\n",
              "    </tr>\n",
              "    <tr>\n",
              "      <th>26413</th>\n",
              "      <td>0.097281</td>\n",
              "      <td>-0.192834</td>\n",
              "      <td>0.099338</td>\n",
              "      <td>0.481453</td>\n",
              "      <td>0.522524</td>\n",
              "      <td>-0.129864</td>\n",
              "      <td>0</td>\n",
              "      <td>0.760766</td>\n",
              "      <td>0.679752</td>\n",
              "      <td>1.106188</td>\n",
              "      <td>...</td>\n",
              "      <td>0.0</td>\n",
              "      <td>0.0</td>\n",
              "      <td>0.120317</td>\n",
              "      <td>2.872539</td>\n",
              "      <td>-0.715625</td>\n",
              "      <td>-0.098131</td>\n",
              "      <td>-0.980547</td>\n",
              "      <td>0.405826</td>\n",
              "      <td>0.50</td>\n",
              "      <td>-1.0</td>\n",
              "    </tr>\n",
              "    <tr>\n",
              "      <th>...</th>\n",
              "      <td>...</td>\n",
              "      <td>...</td>\n",
              "      <td>...</td>\n",
              "      <td>...</td>\n",
              "      <td>...</td>\n",
              "      <td>...</td>\n",
              "      <td>...</td>\n",
              "      <td>...</td>\n",
              "      <td>...</td>\n",
              "      <td>...</td>\n",
              "      <td>...</td>\n",
              "      <td>...</td>\n",
              "      <td>...</td>\n",
              "      <td>...</td>\n",
              "      <td>...</td>\n",
              "      <td>...</td>\n",
              "      <td>...</td>\n",
              "      <td>...</td>\n",
              "      <td>...</td>\n",
              "      <td>...</td>\n",
              "      <td>...</td>\n",
              "    </tr>\n",
              "    <tr>\n",
              "      <th>42697</th>\n",
              "      <td>-0.562982</td>\n",
              "      <td>-0.382433</td>\n",
              "      <td>0.543046</td>\n",
              "      <td>-0.389446</td>\n",
              "      <td>-1.457991</td>\n",
              "      <td>-0.475531</td>\n",
              "      <td>0</td>\n",
              "      <td>-0.748509</td>\n",
              "      <td>-0.895085</td>\n",
              "      <td>-0.247890</td>\n",
              "      <td>...</td>\n",
              "      <td>0.0</td>\n",
              "      <td>1.0</td>\n",
              "      <td>-0.127704</td>\n",
              "      <td>-0.263212</td>\n",
              "      <td>-0.177083</td>\n",
              "      <td>-0.367082</td>\n",
              "      <td>-0.841220</td>\n",
              "      <td>-1.202073</td>\n",
              "      <td>-0.25</td>\n",
              "      <td>0.0</td>\n",
              "    </tr>\n",
              "    <tr>\n",
              "      <th>36008</th>\n",
              "      <td>-0.192939</td>\n",
              "      <td>-0.072157</td>\n",
              "      <td>2.847682</td>\n",
              "      <td>-0.232845</td>\n",
              "      <td>0.407222</td>\n",
              "      <td>-0.058009</td>\n",
              "      <td>0</td>\n",
              "      <td>-0.160779</td>\n",
              "      <td>-0.123270</td>\n",
              "      <td>-0.399437</td>\n",
              "      <td>...</td>\n",
              "      <td>0.0</td>\n",
              "      <td>0.0</td>\n",
              "      <td>-1.018470</td>\n",
              "      <td>0.315026</td>\n",
              "      <td>-0.623958</td>\n",
              "      <td>0.314642</td>\n",
              "      <td>2.321241</td>\n",
              "      <td>0.449797</td>\n",
              "      <td>0.75</td>\n",
              "      <td>-1.0</td>\n",
              "    </tr>\n",
              "    <tr>\n",
              "      <th>46265</th>\n",
              "      <td>-0.526820</td>\n",
              "      <td>-0.179895</td>\n",
              "      <td>3.112583</td>\n",
              "      <td>-0.588366</td>\n",
              "      <td>-0.299428</td>\n",
              "      <td>-0.280019</td>\n",
              "      <td>0</td>\n",
              "      <td>-0.681523</td>\n",
              "      <td>-0.782819</td>\n",
              "      <td>-0.369198</td>\n",
              "      <td>...</td>\n",
              "      <td>1.0</td>\n",
              "      <td>1.0</td>\n",
              "      <td>0.812137</td>\n",
              "      <td>1.255440</td>\n",
              "      <td>-0.403646</td>\n",
              "      <td>-0.323988</td>\n",
              "      <td>0.519453</td>\n",
              "      <td>0.743873</td>\n",
              "      <td>-0.25</td>\n",
              "      <td>0.0</td>\n",
              "    </tr>\n",
              "    <tr>\n",
              "      <th>23587</th>\n",
              "      <td>1.155789</td>\n",
              "      <td>2.092560</td>\n",
              "      <td>0.198675</td>\n",
              "      <td>0.827551</td>\n",
              "      <td>0.464247</td>\n",
              "      <td>1.995942</td>\n",
              "      <td>0</td>\n",
              "      <td>1.539293</td>\n",
              "      <td>1.188190</td>\n",
              "      <td>3.105837</td>\n",
              "      <td>...</td>\n",
              "      <td>1.0</td>\n",
              "      <td>0.0</td>\n",
              "      <td>-0.589446</td>\n",
              "      <td>0.521762</td>\n",
              "      <td>-0.255208</td>\n",
              "      <td>-0.055556</td>\n",
              "      <td>1.700315</td>\n",
              "      <td>0.457079</td>\n",
              "      <td>-0.75</td>\n",
              "      <td>0.0</td>\n",
              "    </tr>\n",
              "    <tr>\n",
              "      <th>29313</th>\n",
              "      <td>0.400395</td>\n",
              "      <td>-0.054740</td>\n",
              "      <td>-0.218543</td>\n",
              "      <td>1.075645</td>\n",
              "      <td>0.225778</td>\n",
              "      <td>-0.155168</td>\n",
              "      <td>0</td>\n",
              "      <td>0.471062</td>\n",
              "      <td>0.339014</td>\n",
              "      <td>1.010900</td>\n",
              "      <td>...</td>\n",
              "      <td>2.5</td>\n",
              "      <td>1.0</td>\n",
              "      <td>-0.645383</td>\n",
              "      <td>-0.991710</td>\n",
              "      <td>0.001563</td>\n",
              "      <td>0.774143</td>\n",
              "      <td>0.313880</td>\n",
              "      <td>-0.543621</td>\n",
              "      <td>0.25</td>\n",
              "      <td>-1.0</td>\n",
              "    </tr>\n",
              "  </tbody>\n",
              "</table>\n",
              "<p>42751 rows × 142 columns</p>\n",
              "</div>"
            ],
            "text/plain": [
              "       Memory_PssTotal  Memory_PssClean  Memory_SharedDirty  \\\n",
              "48143        -0.572982        -0.212739            3.662252   \n",
              "10388         0.223136         0.310774           -2.933775   \n",
              "11029         1.298399         1.525006           -0.046358   \n",
              "36609        -0.407325        -0.136850            3.000000   \n",
              "26413         0.097281        -0.192834            0.099338   \n",
              "...                ...              ...                 ...   \n",
              "42697        -0.562982        -0.382433            0.543046   \n",
              "36008        -0.192939        -0.072157            2.847682   \n",
              "46265        -0.526820        -0.179895            3.112583   \n",
              "23587         1.155789         2.092560            0.198675   \n",
              "29313         0.400395        -0.054740           -0.218543   \n",
              "\n",
              "       Memory_PrivateDirty  Memory_SharedClean  Memory_PrivateClean  \\\n",
              "48143            -0.680374           -0.269575            -0.304846   \n",
              "10388             0.225135           -0.211834             0.196228   \n",
              "11029             1.288786            1.902038             1.401289   \n",
              "36609            -0.495674            0.071505            -0.239198   \n",
              "26413             0.481453            0.522524            -0.129864   \n",
              "...                    ...                 ...                  ...   \n",
              "42697            -0.389446           -1.457991            -0.475531   \n",
              "36008            -0.232845            0.407222            -0.058009   \n",
              "46265            -0.588366           -0.299428            -0.280019   \n",
              "23587             0.827551            0.464247             1.995942   \n",
              "29313             1.075645            0.225778            -0.155168   \n",
              "\n",
              "       Memory_SwapPssDirty  Memory_HeapSize  Memory_HeapAlloc  \\\n",
              "48143                    0        -0.744642         -0.903544   \n",
              "10388                    0        -0.345350         -0.408902   \n",
              "11029                    0         1.092089          1.166345   \n",
              "36609                    0        -0.469555         -0.483883   \n",
              "26413                    0         0.760766          0.679752   \n",
              "...                    ...              ...               ...   \n",
              "42697                    0        -0.748509         -0.895085   \n",
              "36008                    0        -0.160779         -0.123270   \n",
              "46265                    0        -0.681523         -0.782819   \n",
              "23587                    0         1.539293          1.188190   \n",
              "29313                    0         0.471062          0.339014   \n",
              "\n",
              "       Memory_HeapFree  ...  Battery_wakelock  Battery_service  Logcat_info  \\\n",
              "48143        -0.190928  ...               0.0              0.0     1.229024   \n",
              "10388        -0.166667  ...              -0.5              2.0    -0.712401   \n",
              "11029         0.800281  ...              -0.5              1.0     0.200000   \n",
              "36609        -0.511955  ...               1.0              2.0     0.147757   \n",
              "26413         1.106188  ...               0.0              0.0     0.120317   \n",
              "...                ...  ...               ...              ...          ...   \n",
              "42697        -0.247890  ...               0.0              1.0    -0.127704   \n",
              "36008        -0.399437  ...               0.0              0.0    -1.018470   \n",
              "46265        -0.369198  ...               1.0              1.0     0.812137   \n",
              "23587         3.105837  ...               1.0              0.0    -0.589446   \n",
              "29313         1.010900  ...               2.5              1.0    -0.645383   \n",
              "\n",
              "       Logcat_error  Logcat_warning  Logcat_debug  Logcat_verbose  \\\n",
              "48143      0.414508       -0.328646     -0.232606        1.436909   \n",
              "10388     -0.995337        0.449479     -0.162513        0.420610   \n",
              "11029      0.486528       -0.559896     -0.995327        0.742376   \n",
              "36609     -0.969430       -0.633854     -0.031672        0.475289   \n",
              "26413      2.872539       -0.715625     -0.098131       -0.980547   \n",
              "...             ...             ...           ...             ...   \n",
              "42697     -0.263212       -0.177083     -0.367082       -0.841220   \n",
              "36008      0.315026       -0.623958      0.314642        2.321241   \n",
              "46265      1.255440       -0.403646     -0.323988        0.519453   \n",
              "23587      0.521762       -0.255208     -0.055556        1.700315   \n",
              "29313     -0.991710        0.001563      0.774143        0.313880   \n",
              "\n",
              "       Logcat_total  Process_total  Reboot_before  \n",
              "48143      1.088923          -0.50            0.0  \n",
              "10388     -0.788685           0.25           -1.0  \n",
              "11029     -0.324044           1.50           -1.0  \n",
              "36609     -0.801008           0.50           -1.0  \n",
              "26413      0.405826           0.50           -1.0  \n",
              "...             ...            ...            ...  \n",
              "42697     -1.202073          -0.25            0.0  \n",
              "36008      0.449797           0.75           -1.0  \n",
              "46265      0.743873          -0.25            0.0  \n",
              "23587      0.457079          -0.75            0.0  \n",
              "29313     -0.543621           0.25           -1.0  \n",
              "\n",
              "[42751 rows x 142 columns]"
            ]
          },
          "execution_count": 54,
          "metadata": {},
          "output_type": "execute_result"
        }
      ],
      "source": [
        "X_train_scaled"
      ]
    },
    {
      "cell_type": "markdown",
      "metadata": {},
      "source": [
        "he histograms show how `RobustScaler` compresses extreme values and brings the bulk of the data closer to a common scale. Despite the presence of outliers, the core distribution becomes more uniform and comparable across features — ideal for many ML models."
      ]
    },
    {
      "cell_type": "markdown",
      "metadata": {},
      "source": [
        "# FEATURE ANALYSIS"
      ]
    },
    {
      "cell_type": "markdown",
      "metadata": {},
      "source": [
        "Here we will take adjust the features that compose the learning inputs to our model. The correctness of this section is pivotal for proper learning by the model\n",
        "\n",
        "INDEX OF THIS SECTION:\n",
        "- Feature engineering\n",
        "- Feature selection\n",
        "\n",
        "QUESTIONS FOR THIS SUBECTION\n",
        "- Where can we do binning here?\n",
        "\n",
        "## FEATURE ENGINEERING\n",
        "- Domain-specific features\n",
        "- Binning\n",
        "- Interaction terms\n",
        "NOTE: This requires further understanding of the concepts around our problem's context. This will be deferred for a second iteration."
      ]
    },
    {
      "cell_type": "code",
      "execution_count": null,
      "metadata": {},
      "outputs": [],
      "source": []
    },
    {
      "cell_type": "markdown",
      "metadata": {},
      "source": [
        "## FEATURE SELECTION\n",
        "- Analyze correlation and low-variances\n"
      ]
    },
    {
      "cell_type": "markdown",
      "metadata": {},
      "source": [
        "#### 1.1) Eliminating low-variances features\n",
        "We will start off feature selection by analyzing the variables that have low variances. Features with low variances provide little new information for the model to learn from, thus they could introduce statistical noise. Due to this reason, they should be elimanted from the dataset. The reason why we don't focus on high-variance is because this symbolizes outliers, which have been dealt with before in data preporcesing."
      ]
    },
    {
      "cell_type": "markdown",
      "metadata": {},
      "source": [
        "We will start off this analysis eliminating univariate features (i.e: the featuers with constant values)"
      ]
    },
    {
      "cell_type": "code",
      "execution_count": null,
      "metadata": {},
      "outputs": [],
      "source": [
        "original_number_of_features = df.shape[1]\n",
        "zero_variance_features = ONLY_NUMERICAL_COLUMNS.std() == 0\n",
        "if zero_variance_features.any():\n",
        "    print(\"Zero-variance features found:\")\n",
        "    print(zero_variance_features[zero_variance_features].index)\n",
        "    df.drop(columns=zero_variance_features[zero_variance_features].index, inplace=True)\n",
        "    print(f\"Removed {original_number_of_features - df.shape[1]} features with zero variance\")\n",
        "    ONLY_NUMERICAL_COLUMNS = df.select_dtypes(include='number') #updating global variable\n",
        "else:\n",
        "    print(\"No zero-variance features found.\")"
      ]
    },
    {
      "cell_type": "markdown",
      "metadata": {},
      "source": [
        "Lets focus on features with too few variance"
      ]
    },
    {
      "cell_type": "code",
      "execution_count": null,
      "metadata": {},
      "outputs": [],
      "source": [
        "standard_deviations = ONLY_NUMERICAL_COLUMNS.std()\n",
        "plt.figure(figsize=(12, 8))\n",
        "plt.hist(standard_deviations, bins=30, edgecolor='black')\n",
        "plt.title('Distribution of Standard Deviations for Numeric Features')\n",
        "plt.xlabel('Standard Deviation')\n",
        "plt.ylabel('Frequency')\n",
        "plt.show()"
      ]
    },
    {
      "cell_type": "markdown",
      "metadata": {},
      "source": [
        "As explained in scikit-learn's in (1.13.1 Feature selection)[https://scikit-learn.org/stable/modules/feature_selection.html], the variance threshold must be selected carefully. Too low may delete few variables, and too may be too restrictive, deleting more variables than it should."
      ]
    },
    {
      "cell_type": "code",
      "execution_count": null,
      "metadata": {},
      "outputs": [],
      "source": [
        "STD_THRESHOLD = .4"
      ]
    },
    {
      "cell_type": "code",
      "execution_count": null,
      "metadata": {},
      "outputs": [],
      "source": [
        "cols_to_keep = standard_deviations[(standard_deviations < STD_THRESHOLD)].index\n",
        "print(f\"Removed {len(standard_deviations) - len(cols_to_keep)} features with low variance\")\n",
        "\n",
        "df = df[cols_to_keep]\n",
        "df.shape\n"
      ]
    },
    {
      "cell_type": "markdown",
      "metadata": {
        "id": "Pi1pwj-9q_v5"
      },
      "source": [
        "#### 1.2) Eliminating highly correlated feature\n",
        "Highly correlated variables (multicolinearity) are problem for models because they introduce a redundancy (features that contain significantly related similar information are not bringing much new insight into the model's input) to the model that can introduce significant variance. This is due to the fact that small changes in the data may make the coefficeints of the highly correlated variables **swing** more than it should"
      ]
    },
    {
      "cell_type": "code",
      "execution_count": null,
      "metadata": {},
      "outputs": [],
      "source": [
        "compute_correlation_matrix((17, 15), ONLY_NUMERICAL_COLUMNS)"
      ]
    },
    {
      "cell_type": "code",
      "execution_count": 35,
      "metadata": {},
      "outputs": [],
      "source": [
        "number_of_features = ONLY_NUMERICAL_COLUMNS.shape[1]"
      ]
    },
    {
      "cell_type": "markdown",
      "metadata": {},
      "source": [
        "A note on the shape of this heatmap: due to the high amount of features, and the redundancy to measure the correlation between features (where corr(A,B) = corr(B,A)) we set 'np.triu(np.ones_like(corr, dtype=bool))' in the utilities functions in order to show only new non-redudant correlations between features, thus the right triangle shape."
      ]
    },
    {
      "cell_type": "markdown",
      "metadata": {},
      "source": [
        "Well, thats a lot to digest! We can see some solid red (high positive correlation) and medium-solid blue (some high negative correlation). \n",
        "Lets use a non-visual methodology to confirm our initial hypothesis. We will use variance inflaction factor (VIF) along with checking manually.\n",
        "A brief explanation on VIF. \n",
        "Formula: \n",
        "\n"
      ]
    },
    {
      "cell_type": "markdown",
      "metadata": {},
      "source": [
        "$$\n",
        "VIF_i = \\frac{1}{1 - R_i^2}\n",
        "$$\n"
      ]
    },
    {
      "cell_type": "markdown",
      "metadata": {},
      "source": [
        "You regress (i.e: do linear regression) on the ith feature as target variable, and all other features as predictors. You then compute the coefficient of determination as a way to measure how well the predictors fit the target variable. VIF values ranges from [1, inf], where lower bound signifies little multicolinearity (R^2 = 0), and upper bound occurs when R^2=1 (perfect multicolineairty). 5 is considered a standard threshold for VIF as it symbolized an 80% R^2.\n",
        "Once you ve obtained the results of VIF, you need to delete the variable with the highest VIF, and recompute VIF until there is no multicolinearity. For example, say there are three features that are 4 features, 3 of them being linear combinations of each other. You would delete the variables with VIF until there is no VIF (when only one of those linear combinations remains). You cant delete all n-1 variables where n are the amount of variables with exceeding (with respect to the chosen threshold), because you may be deleting one that has high VIF due to another feature.\n",
        "\n",
        "A relevant note on why one-hot-encoding must be done dropping the first one:\n",
        "If we were to not remove one of the labels of one hot encoding, you would be able to predict which level of the categorical variable based on all other ones (there is only degree of freedom for categories levels; they are a linear combination). You would essentially see inf VIF in that area and delete it in this section. \n",
        "The VIF has to be computed every time we delete a feature due to high multicolinearity. Lets do that"
      ]
    },
    {
      "cell_type": "code",
      "execution_count": 32,
      "metadata": {},
      "outputs": [],
      "source": [
        "\n",
        "# Function to calculate VIF\n",
        "def calculate_vif(df):\n",
        "    vif_data = pd.DataFrame()\n",
        "    vif_data[\"Feature\"] = df.columns\n",
        "    vif_data[\"VIF\"] = [variance_inflation_factor(df.values, i) for i in range(len(df.columns))]\n",
        "    return vif_data\n",
        "\n",
        "# Iteratively remove features with high VIF (threshold = 10)\n",
        "def remove_high_vif_features(df, threshold=8):\n",
        "    number_of_iterations = 0\n",
        "    while True:\n",
        "        number_of_iterations += 1\n",
        "        vif_data = calculate_vif(df)\n",
        "        print(f\"VIF computed for iteration {number_of_iterations}:\")\n",
        "        max_vif = vif_data[\"VIF\"].max()\n",
        "        if max_vif < threshold:\n",
        "            break\n",
        "        feature_to_drop = vif_data.loc[vif_data[\"VIF\"].idxmax(), \"Feature\"]\n",
        "        df.drop(columns=[feature_to_drop], inplace=True)\n",
        "        print(f\"Dropped: {feature_to_drop}\")\n",
        "    return df"
      ]
    },
    {
      "cell_type": "code",
      "execution_count": null,
      "metadata": {},
      "outputs": [],
      "source": [
        "# Note, running this cell will take a while\n",
        "remove_high_vif_features(ONLY_NUMERICAL_COLUMNS, 10)\n",
        "ONLY_NUMERICAL_COLUMNS = df.select_dtypes(include='number')"
      ]
    },
    {
      "cell_type": "code",
      "execution_count": null,
      "metadata": {},
      "outputs": [],
      "source": [
        "ONLY_NUMERICAL_COLUMNS = df.select_dtypes(include='number')\n",
        "print(f\"Removed {df.shape[1] - number_of_features} features\")"
      ]
    },
    {
      "cell_type": "markdown",
      "metadata": {},
      "source": [
        "Lets compute the correlation matrix one more time post-deletion"
      ]
    },
    {
      "cell_type": "code",
      "execution_count": null,
      "metadata": {},
      "outputs": [],
      "source": [
        "compute_correlation_matrix((17, 15), ONLY_NUMERICAL_COLUMNS)"
      ]
    },
    {
      "cell_type": "markdown",
      "metadata": {},
      "source": [
        "### 1.3 Automatic Feature Selection\n",
        "#### L1 regularization\n",
        "Because of L1 regularization being able to set weights 0, we can briefly train our logistic regression model with such regulartization and see which features it uses. The reason why it sets 0 to insignificant feature is because the objective function is not only the MSE but added a component of the wieght magnitude (which is trying to minimize)"
      ]
    },
    {
      "cell_type": "code",
      "execution_count": null,
      "metadata": {},
      "outputs": [],
      "source": [
        "model = LogisticRegression(penalty='l1', solver='liblinear', max_iter=10)\n",
        "# Train logistic regression model with L1 penalty\n",
        "model.fit(X_category_train_encoded, y_category_train_encoded)\n",
        "\n",
        "# Get the coefficients of the trained model\n",
        "coefficients = model.coef_\n",
        "coefficients"
      ]
    },
    {
      "cell_type": "code",
      "execution_count": null,
      "metadata": {},
      "outputs": [],
      "source": [
        "predictivePowerVariables = set()\n",
        "for i in range(len(coefficients[0])):\n",
        "      if abs(coefficients[0][i]) > 0:\n",
        "            predictivePowerVariables.add(X_category_train_encoded.columns[i])\n",
        "excludedVariables = set(X_category_train_encoded.columns) - predictivePowerVariables\n",
        "predictivePowerVariables, \"-\"*30, f\"Number of predictive power variables: {len(predictivePowerVariables)}\", \"-\"*30, excludedVariables, \"-\"*30, f\"Number of excluded variables: {len(excludedVariables)}\""
      ]
    },
    {
      "cell_type": "markdown",
      "metadata": {},
      "source": [
        "#### BORUTA\n",
        "Sources: [https://scikit-learn.org/stable/modules/feature_selection.html#:~:text=1.13.4.2.%20Tree%2Dbased%20feature%20selection,-%23] (Tree-based feature selection)\n"
      ]
    },
    {
      "cell_type": "code",
      "execution_count": null,
      "metadata": {},
      "outputs": [],
      "source": [
        "rf = RandomForestClassifier(\n",
        "    n_estimators=100,    \n",
        "    n_jobs=-1, # multithreading\n",
        "    class_weight='balanced',\n",
        "    random_state=RANDOM_STATE\n",
        ")\n",
        "boruta_selector = BorutaPy(\n",
        "    rf,\n",
        "    n_estimators='auto',\n",
        "    verbose=2,\n",
        "    random_state=RANDOM_STATE,\n",
        "    max_iter=10\n",
        ")"
      ]
    },
    {
      "cell_type": "code",
      "execution_count": null,
      "metadata": {},
      "outputs": [],
      "source": [
        "# Fit Boruta on your training data.\n",
        "boruta_selector.fit(X_category_train_encoded.values, y_category_train_encoded.values)\n",
        "selected_mask = boruta_selector.support_"
      ]
    },
    {
      "cell_type": "code",
      "execution_count": null,
      "metadata": {},
      "outputs": [],
      "source": [
        "selected_features = set(X_category_train_encoded.columns[selected_mask])\n",
        "excludedVariables = set(X_category_train_encoded.columns) - selected_features\n",
        "selected_features, \"-\"*30, f\"Number of predictive power variables: {len(selected_features)}\", \"-\"*30, excludedVariables, \"-\"*30, f\"Number of excluded variables: {len(excludedVariables)}\""
      ]
    },
    {
      "cell_type": "code",
      "execution_count": null,
      "metadata": {},
      "outputs": [],
      "source": [
        "eliminate_variables_from_set([X_category_train_encoded, X_category_val_encoded, X_category_test_encoded],\n",
        "                              listOfVariables=excludedVariables)"
      ]
    },
    {
      "cell_type": "markdown",
      "metadata": {},
      "source": [
        "Boruta said that only 61 variables were important, if that were the case the current dimensions for each set would have that nubmer"
      ]
    },
    {
      "cell_type": "code",
      "execution_count": null,
      "metadata": {},
      "outputs": [],
      "source": [
        "X_category_train_encoded.shape, X_category_val_encoded.shape, X_category_test_encoded.shape"
      ]
    },
    {
      "cell_type": "markdown",
      "metadata": {},
      "source": [
        "Awesome, lets move on!"
      ]
    },
    {
      "cell_type": "markdown",
      "metadata": {},
      "source": [
        "<hr>"
      ]
    },
    {
      "cell_type": "markdown",
      "metadata": {},
      "source": [
        "## DATA CLEANING"
      ]
    },
    {
      "cell_type": "markdown",
      "metadata": {},
      "source": [
        "INDEX FOR THIS SECTION:\n",
        "  - Handling duplicate rules\n",
        "  - Handling outliers\n",
        "  - Handling missing value \n"
      ]
    },
    {
      "cell_type": "markdown",
      "metadata": {},
      "source": [
        "QUESTIONS FOR THIS SECTION\n",
        "- Are there not more sophisticated outlier detections methods?\n",
        "- Ask matteo how to deal with handling outliers with many features"
      ]
    },
    {
      "cell_type": "markdown",
      "metadata": {},
      "source": [
        "#### Handling Duplicate Values"
      ]
    },
    {
      "cell_type": "code",
      "execution_count": null,
      "metadata": {},
      "outputs": [],
      "source": [
        "df.duplicated().sum()"
      ]
    },
    {
      "cell_type": "markdown",
      "metadata": {},
      "source": [
        "No duplicate values founds, thus, no further intervetion is requried."
      ]
    },
    {
      "cell_type": "markdown",
      "metadata": {},
      "source": [
        "#### Handling Outliers"
      ]
    },
    {
      "cell_type": "markdown",
      "metadata": {},
      "source": [
        "Now lets remove all outliers. Outliers are records that for a given feature its values is significanlty deviated from its centrality values (for our current example, we'll set the threshold as 3 * IQR)"
      ]
    },
    {
      "cell_type": "code",
      "execution_count": null,
      "metadata": {},
      "outputs": [],
      "source": [
        "df[\"API_DeviceData_android.content.ContentResolver_query\"].hist()"
      ]
    },
    {
      "cell_type": "code",
      "execution_count": null,
      "metadata": {},
      "outputs": [],
      "source": [
        "df[\"API_DeviceData_android.content.ContentResolver_query\"].describe()"
      ]
    },
    {
      "cell_type": "code",
      "execution_count": null,
      "metadata": {},
      "outputs": [],
      "source": [
        "outliers_removed_df = df.copy() # Make a copy (debuggin purporses, will be set to just df eventually)\n",
        "for col in df.select_dtypes(include='number').columns:\n",
        "      Q1 = df[col].quantile(0.25)\n",
        "      Q3 = df[col].quantile(0.75)\n",
        "      IQR = Q3 - Q1\n",
        "      lower_bound = Q1 - 3 * IQR\n",
        "      upper_bound = Q3 + 3 * IQR\n",
        "      outliers_removed_df = outliers_removed_df[(outliers_removed_df[col] >= lower_bound) & (outliers_removed_df[col] <= upper_bound)]\n",
        "print(f\"Removed {len(df) - len(outliers_removed_df)} outliers\")"
      ]
    },
    {
      "cell_type": "markdown",
      "metadata": {},
      "source": [
        "The reason why we are observing such dramatic effect on the amount of eliminated outliers is due to the fact that we are being too strict expecting all rows to have not a single feature containing an outlier in its column. This is way too restrictive. We need to find a better way. "
      ]
    },
    {
      "cell_type": "markdown",
      "metadata": {},
      "source": [
        "#### Eliminating empty values"
      ]
    },
    {
      "cell_type": "code",
      "execution_count": null,
      "metadata": {},
      "outputs": [],
      "source": [
        "df_shape_before_elimination = df.shape"
      ]
    },
    {
      "cell_type": "code",
      "execution_count": null,
      "metadata": {},
      "outputs": [],
      "source": [
        "sum(df.isna().sum().tolist())"
      ]
    },
    {
      "cell_type": "markdown",
      "metadata": {},
      "source": [
        "We dont have **null** values in our dataset but that does not mean we do not have **empty** values. The dataset provider may have encoded this empty values with inf, -1, or other non-sensical value (with respect to the treated column). These valuesa re referred as 'sentinel values'\n",
        " Let's look for such values, let us start first with columns of dtype = \"object\"."
      ]
    },
    {
      "cell_type": "markdown",
      "metadata": {},
      "source": [
        "#### Categorical variables"
      ]
    },
    {
      "cell_type": "code",
      "execution_count": null,
      "metadata": {},
      "outputs": [],
      "source": [
        "columns_object = df.select_dtypes(include=[\"object\"]).columns\n",
        "columns_object"
      ]
    },
    {
      "cell_type": "markdown",
      "metadata": {},
      "source": [
        "CATEGORY"
      ]
    },
    {
      "cell_type": "code",
      "execution_count": null,
      "metadata": {},
      "outputs": [],
      "source": [
        "df[\"Category\"].value_counts()"
      ]
    },
    {
      "cell_type": "markdown",
      "metadata": {},
      "source": [
        "No_category needs to clearly be deleted as it represents missing values in that area. Zero_Day needs also to be deleted due to its high cardinality with family variably (please, someone who read the paper explain this in better detail)"
      ]
    },
    {
      "cell_type": "code",
      "execution_count": null,
      "metadata": {},
      "outputs": [],
      "source": [
        "original_amount_rows = df.shape[0]\n",
        "df = df[(df[\"Category\"] != \"No_Category\") & (df[\"Category\"] != \"Zero_Day\")]\n",
        "new_amount_rows = df.shape[0]\n",
        "print(f\"Removed {original_amount_rows - new_amount_rows} rows with empty values for category\")"
      ]
    },
    {
      "cell_type": "markdown",
      "metadata": {},
      "source": [
        "FAMILY"
      ]
    },
    {
      "cell_type": "code",
      "execution_count": null,
      "metadata": {},
      "outputs": [],
      "source": [
        "df[\"Family\"].value_counts().to_dict()"
      ]
    },
    {
      "cell_type": "markdown",
      "metadata": {},
      "source": [
        "We can see there are some families values marked with  '<unknown>'. They shall be deleted."
      ]
    },
    {
      "cell_type": "code",
      "execution_count": null,
      "metadata": {},
      "outputs": [],
      "source": [
        "original_amount_rows = df.shape[0]\n",
        "df = df[df[\"Family\"] != \"<unknown>\"]\n",
        "new_amount_rows = df.shape[0]\n",
        "print(f\"Removed {original_amount_rows - new_amount_rows} rows with empty values for family\")"
      ]
    },
    {
      "cell_type": "markdown",
      "metadata": {},
      "source": [
        "REBOOT"
      ]
    },
    {
      "cell_type": "code",
      "execution_count": null,
      "metadata": {},
      "outputs": [],
      "source": [
        "df[\"Reboot\"].value_counts()"
      ]
    },
    {
      "cell_type": "markdown",
      "metadata": {},
      "source": [
        "Good, let's move on to numerical variables"
      ]
    },
    {
      "cell_type": "markdown",
      "metadata": {},
      "source": [
        "#### Numerical Variables"
      ]
    },
    {
      "cell_type": "markdown",
      "metadata": {},
      "source": [
        "Analyzing sentinel values for all possible numerical variables (fede's)"
      ]
    },
    {
      "cell_type": "code",
      "execution_count": null,
      "metadata": {},
      "outputs": [],
      "source": [
        "has_inf = df.isin([np.inf, -np.inf]).any().any()\n",
        "print(\"Contains inf:\", has_inf)"
      ]
    },
    {
      "cell_type": "markdown",
      "metadata": {},
      "source": [
        "The first .any() checks each column to see if any value in that column is True.\n",
        "\n",
        "The second .any() checks across all columns to see if any column contained a True."
      ]
    },
    {
      "cell_type": "markdown",
      "metadata": {},
      "source": [
        "### Removing missing values, conclusion"
      ]
    },
    {
      "cell_type": "code",
      "execution_count": null,
      "metadata": {},
      "outputs": [],
      "source": [
        "print(f\"Removed {df_shape_before_elimination - df.shape[0]} rows with empty values\")"
      ]
    },
    {
      "cell_type": "markdown",
      "metadata": {},
      "source": [
        "## Feature Scaling"
      ]
    },
    {
      "cell_type": "code",
      "execution_count": null,
      "metadata": {},
      "outputs": [],
      "source": [
        "# Function to determine if a feature needs standardization or normalization\n",
        "def determine_scaling_method(feature_series):\n",
        "    \"\"\"\n",
        "    Determine whether a feature should be standardized or normalized based on its characteristics.\n",
        "    \n",
        "    Args:\n",
        "        feature_series: Pandas Series containing the feature values\n",
        "        \n",
        "    Returns:\n",
        "        str: 'standardize', 'normalize', or 'none'\n",
        "    \"\"\"\n",
        "    # Skip if all values are the same (zero variance)\n",
        "    if feature_series.std() == 0:\n",
        "        return 'none'\n",
        "    \n",
        "    # Check for outliers using IQR method\n",
        "    Q1 = feature_series.quantile(0.25)\n",
        "    Q3 = feature_series.quantile(0.75)\n",
        "    IQR = Q3 - Q1\n",
        "    outlier_threshold = 1.5 * IQR\n",
        "    has_outliers = ((feature_series < (Q1 - outlier_threshold)) | \n",
        "                    (feature_series > (Q3 + outlier_threshold))).any()\n",
        "    \n",
        "    # Check for normality using skewness\n",
        "    skewness = abs(stats.skew(feature_series.dropna()))\n",
        "    is_skewed = skewness > 1.0  # Threshold for significant skewness\n",
        "    \n",
        "    # Decision logic\n",
        "    if has_outliers:\n",
        "        return 'standardize'  # Standardization handles outliers better\n",
        "    elif is_skewed:\n",
        "        return 'normalize'    # Normalization is better for non-normal distributions\n",
        "    else:\n",
        "        return 'standardize'  # Default to standardization for most ML algorithms\n",
        "\n",
        "# Get numerical columns (excluding one-hot encoded columns)\n",
        "numerical_cols = df.select_dtypes(include=[np.number]).columns\n",
        "\n",
        "# Determine scaling method for each feature\n",
        "scaling_methods = {}\n",
        "for col in numerical_cols:\n",
        "    scaling_methods[col] = determine_scaling_method(df[col])\n",
        "\n",
        "# Count of each scaling method\n",
        "method_counts = pd.Series(scaling_methods).value_counts()\n",
        "print(\"Scaling methods distribution:\")\n",
        "print(method_counts)\n",
        "\n",
        "# Create lists for each scaling method\n",
        "standardize_cols = [col for col, method in scaling_methods.items() if method == 'standardize']\n",
        "normalize_cols = [col for col, method in scaling_methods.items() if method == 'normalize']\n",
        "no_scaling_cols = [col for col, method in scaling_methods.items() if method == 'none']\n",
        "\n",
        "print(f\"\\nFeatures to standardize: {len(standardize_cols)}\")\n",
        "print(f\"Features to normalize: {len(normalize_cols)}\")\n",
        "print(f\"Features requiring no scaling: {len(no_scaling_cols)}\")\n",
        "\n",
        "# Apply the transformations\n",
        "scaler_standard = StandardScaler()\n",
        "scaler_minmax = MinMaxScaler()\n",
        "\n",
        "# Create a copy of the dataframe to avoid warnings\n",
        "df_scaled = df.copy()\n",
        "\n",
        "# Apply standardization\n",
        "if standardize_cols:\n",
        "    df_scaled[standardize_cols] = scaler_standard.fit_transform(df[standardize_cols])\n",
        "\n",
        "# Apply normalization\n",
        "if normalize_cols:\n",
        "    df_scaled[normalize_cols] = scaler_minmax.fit_transform(df[normalize_cols])\n",
        "\n",
        "# Visualize the effect of scaling on a few features\n",
        "def plot_before_after_scaling(original_df, scaled_df, features, n_features=4):\n",
        "    \"\"\"Plot histograms before and after scaling for selected features.\"\"\"\n",
        "    # Select a subset of features if there are too many\n",
        "    if len(features) > n_features:\n",
        "        features = np.random.choice(features, n_features, replace=False)\n",
        "    \n",
        "    fig, axes = plt.subplots(len(features), 2, figsize=(12, 3*len(features)))\n",
        "    \n",
        "    for i, feature in enumerate(features):\n",
        "        # Original distribution\n",
        "        sns.histplot(original_df[feature], kde=True, ax=axes[i, 0])\n",
        "        axes[i, 0].set_title(f'Original: {feature}')\n",
        "        \n",
        "        # Scaled distribution\n",
        "        sns.histplot(scaled_df[feature], kde=True, ax=axes[i, 1])\n",
        "        axes[i, 1].set_title(f'Scaled: {feature}')\n",
        "    \n",
        "    plt.tight_layout()\n",
        "    plt.show()\n",
        "\n",
        "# Plot examples of standardized features\n",
        "if standardize_cols:\n",
        "    print(\"\\nExamples of standardized features:\")\n",
        "    plot_before_after_scaling(df, df_scaled, standardize_cols)\n",
        "\n",
        "# Plot examples of normalized features\n",
        "if normalize_cols:\n",
        "    print(\"\\nExamples of normalized features:\")\n",
        "    plot_before_after_scaling(df, df_scaled, normalize_cols)\n",
        "\n",
        "print(\"\\nScaling complete! The dataset is now ready for modeling.\")"
      ]
    },
    {
      "cell_type": "markdown",
      "metadata": {},
      "source": [
        "THIS CONTAINS DATA LEAKAGE CAUSE UR FITTING TO ALL SETS THE SAME STANDARIZATION. THIS NEEDS TO BE CORRECTED. ALSO, IT IS NOT TOLERABLE TO WRITE THIS SORT OF CHATGPT COPY AND PASTE WITHOUT EXPLANATIONS. IT CLUTTERS THE CODEBASE."
      ]
    },
    {
      "cell_type": "markdown",
      "metadata": {},
      "source": [
        "# MODELLING"
      ]
    },
    {
      "cell_type": "markdown",
      "metadata": {},
      "source": [
        "- QUESTION ON THIS SECTION\n",
        "   - How can statistical measurement help on the split?\n",
        "- TBD (to be done)\n",
        "   -  x"
      ]
    },
    {
      "cell_type": "markdown",
      "metadata": {},
      "source": [
        "## Fitting the model"
      ]
    },
    {
      "cell_type": "markdown",
      "metadata": {},
      "source": [
        "QUESTIONS FOR THIS SECTION\n",
        "- Can the ROC curve be used for multiclass?\n",
        "- Can a unsupervised learning algorithm (e.g: KNN) be used for this problem even tough its nature is to be supervised?"
      ]
    },
    {
      "cell_type": "markdown",
      "metadata": {},
      "source": [
        "TO BE DONE FOR THIS SECTION\n",
        "- Multiple models as classifiers\n",
        "- Family as the target variable\n",
        "- Other meaningful metrics (e.g: f1) (specially for multiclass!!!)"
      ]
    },
    {
      "cell_type": "markdown",
      "metadata": {},
      "source": [
        "## Random Forest & Decision Trees\n",
        "Instead of the originally planned logistic regression, we will be using an ensembled model first: random forest (collection of week decision trees). This model is not only likely to outperform the original choice because its nature to handle multiclass better, but also does this several orders of magnitude faster. We will add its not ensembled version too, along with gradient boosted machine\n",
        "Note we are not using not-by-default multiclass classifiers (e.g: logistic regressions, svms)"
      ]
    },
    {
      "cell_type": "markdown",
      "metadata": {},
      "source": [
        "## Non-optimized fitting"
      ]
    },
    {
      "cell_type": "code",
      "execution_count": 16,
      "metadata": {},
      "outputs": [],
      "source": [
        "randomForestModel = RandomForestClassifier(random_state=RANDOM_STATE, \n",
        "                             n_estimators=100,\n",
        "                             max_depth=None,\n",
        "                             min_samples_split=2, \n",
        "                             min_samples_leaf=1)\n",
        "decisionTreeModel = DecisionTreeClassifier(random_state=RANDOM_STATE)\n",
        "svmModel = SVC(random_state=RANDOM_STATE,\n",
        "             kernel='rbf',\n",
        "             decision_function_shape='ovr',\n",
        "             class_weight='balanced')"
      ]
    },
    {
      "cell_type": "code",
      "execution_count": 20,
      "metadata": {},
      "outputs": [],
      "source": [
        "listOfModels = {\n",
        "      \"Random Forest\": randomForestModel,\n",
        "      \"Decision Tree\": decisionTreeModel,\n",
        "      \"SVM\": svmModel\n",
        "}\n",
        "\n",
        "models = {}\n",
        "for modelName, model in listOfModels.items():\n",
        "      models[modelName] = {\n",
        "            \"model\": model,\n",
        "            \"val_predictions\": \"\",\n",
        "            \"test_predictions\": \"\",\n",
        "            \"timeToFit\": \"\",\n",
        "            \"timeToMakePredictions\": \"\"\n",
        "      }"
      ]
    },
    {
      "cell_type": "markdown",
      "metadata": {},
      "source": [
        "Lets fit the models"
      ]
    },
    {
      "cell_type": "code",
      "execution_count": null,
      "metadata": {},
      "outputs": [],
      "source": [
        "for classifierName, classifier in models.items():\n",
        "      start_time = time.time()\n",
        "      print(f\"Fitting {classifierName}\")\n",
        "      classifier[\"model\"].fit(X_category_train_encoded, y_category_train_encoded)\n",
        "      end_time = time.time()\n",
        "      classifier[\"timeToFit\"] = end_time - start_time\n",
        "      print(f\"\\t => Fitted {classifierName}. Took {classifier['timeToFit']} seconds\")"
      ]
    },
    {
      "cell_type": "markdown",
      "metadata": {},
      "source": [
        "Now, lets make predictions for both sets"
      ]
    },
    {
      "cell_type": "code",
      "execution_count": null,
      "metadata": {},
      "outputs": [],
      "source": [
        "for classifierName, classifier in models.items():\n",
        "      print(f\"Predicting {classifierName}\")\n",
        "      start_time = time.time()\n",
        "      classifier[\"val_predictions\"] = classifier[\"model\"].predict(X_category_val_encoded)\n",
        "      classifier[\"test_predictions\"] = classifier[\"model\"].predict(X_category_test_encoded)\n",
        "      end_time = time.time()\n",
        "      classifier[\"timeToMakePredictions\"] = end_time - start_time\n",
        "      print(f\"\\t => Predicted {classifierName}. Took {classifier['timeToMakePredictions']} seconds\")\n"
      ]
    },
    {
      "cell_type": "markdown",
      "metadata": {},
      "source": [
        "Let's make sure the predictions vary between holdout sets"
      ]
    },
    {
      "cell_type": "code",
      "execution_count": null,
      "metadata": {},
      "outputs": [],
      "source": [
        "num_classifiers = len(models)\n",
        "fig, axes = plt.subplots(num_classifiers, 1, figsize=(8, 5*num_classifiers))\n",
        "\n",
        "if num_classifiers == 1:\n",
        "    axes = [axes]\n",
        "\n",
        "for ax, (classifierName, classifier) in zip(axes, models.items()):\n",
        "    ax.hist(classifier[\"test_predictions\"], bins=30, edgecolor='black', alpha=0.5, label='Test Predictions')\n",
        "    ax.hist(classifier[\"val_predictions\"], bins=30, edgecolor='black', alpha=0.5, label='Validation Predictions')\n",
        "    \n",
        "    ax.set_title(f'{classifierName} - Distribution of Predicted Labels')\n",
        "    ax.set_xlabel('Predicted Label')\n",
        "    ax.set_ylabel('Frequency')\n",
        "    ax.legend()\n",
        "\n",
        "plt.tight_layout()\n",
        "plt.show()\n"
      ]
    },
    {
      "cell_type": "markdown",
      "metadata": {},
      "source": [
        "<i> the aforeshown diagram was originally done with the sole intention to debug an error that made predictions be the same across sets. Insights may not be much meaningful after correctio, but it is worth keeping until the end of the notebook development </i>"
      ]
    },
    {
      "cell_type": "markdown",
      "metadata": {},
      "source": [
        "### PREDICTIONS RESULTS "
      ]
    },
    {
      "cell_type": "code",
      "execution_count": null,
      "metadata": {},
      "outputs": [],
      "source": [
        "for classifierName, classifier in models.items():\n",
        "      print(f\"Predictions for {classifierName}\")\n",
        "      print(f\"\\t => VALIDATION ASSESMENT:\")\n",
        "      val_acc, val_class_report, val_confusion_matrix = evaluate_classifier(y_category_val_encoded, classifier[\"val_predictions\"], display_results=True, plot_confusion_matrix=True)\n",
        "      print(f\"\\t => TEST ASSESMENT:\")\n",
        "      test_acc, test_class_report, test_confusion_matrix = evaluate_classifier(y_category_test_encoded, classifier[\"test_predictions\"], display_results=True, plot_confusion_matrix=True)\n",
        "      print(\"- - -\"*100)"
      ]
    },
    {
      "cell_type": "code",
      "execution_count": null,
      "metadata": {},
      "outputs": [],
      "source": [
        "model3 = SVC(random_state=RANDOM_STATE,\n",
        "             kernel='rbf',\n",
        "             decision_function_shape='ovr',\n",
        "             class_weight='balanced')\n",
        "model3.fit(X_category_train_encoded, y_category_train_encoded)\n",
        "y_val_pred = model3.predict(X_category_val_encoded)\n",
        "y_test_pred = model3.predict(X_category_test_encoded)\n",
        "evaluate_classifier(y_category_val_encoded, y_val_pred, display_results=True, plot_confusion_matrix=True)\n",
        "evaluate_classifier(y_category_test_encoded, y_test_pred, display_results=True, plot_confusion_matrix=True)\n"
      ]
    },
    {
      "cell_type": "markdown",
      "metadata": {},
      "source": [
        "## Optimizing with grid-search"
      ]
    },
    {
      "cell_type": "markdown",
      "metadata": {},
      "source": [
        "Note 1: the following cells took 11mins to run in an M2\n",
        "Note 2: grid-search is not a good choice for optimization (enough for an early iteration, tough). We need to get smarter using more advanced techniques (e.g: OPTUNA)"
      ]
    },
    {
      "cell_type": "code",
      "execution_count": null,
      "metadata": {},
      "outputs": [],
      "source": [
        "# Hyperparameter tuning with GridSearchCV\n",
        "param_grid = {\n",
        "    'n_estimators': [50, 100, 200],\n",
        "    'max_depth': [None, 10, 20],\n",
        "    'min_samples_split': [2, 5, 10],\n",
        "    'min_samples_leaf': [1, 2, 4]\n",
        "}\n",
        "\n",
        "grid_search = GridSearchCV(RandomForestClassifier(random_state=RANDOM_STATE), param_grid, cv=5, scoring='f1_weighted', n_jobs=-1)\n",
        "grid_search.fit(X_category_train_encoded, y_category_train_encoded)\n",
        "\n",
        "# Best model\n",
        "best_model = grid_search.best_estimator_\n",
        "print(f\"Best Parameters: {grid_search.best_params_}\")"
      ]
    },
    {
      "cell_type": "code",
      "execution_count": 27,
      "metadata": {},
      "outputs": [],
      "source": [
        "best_model.fit(X_category_train_encoded, y_category_train_encoded)\n",
        "y_val_pred = best_model.predict(X_category_val_encoded)\n",
        "y_test_pred = best_model.predict(X_category_test_encoded)\n"
      ]
    },
    {
      "cell_type": "code",
      "execution_count": null,
      "metadata": {},
      "outputs": [],
      "source": [
        "evaluate_classifier(y_category_val_encoded, y_val_pred, display_results=True, plot_confusion_matrix=True)\n",
        "evaluate_classifier(y_category_test_encoded, y_test_pred, display_results=True, plot_confusion_matrix=True)"
      ]
    },
    {
      "cell_type": "markdown",
      "metadata": {},
      "source": [
        "## NOTEBOOK, AREAS FOR IMPROVEMENTS\n",
        "<ul> Introducing as many ML algorithms for non-predictive tasks: \n",
        "       <li> Data imputing with KNN </li>\n",
        "       <li> Cluster analysis to better understand the features </li>\n",
        "       <li> Doing PCA for features (after correlation analysis) </li>\n",
        "</ul>\n",
        "- Distilled models\n",
        "- DevOPs pipeline design\n",
        "- Deeper statistical approach to data preprocessing and EDA"
      ]
    }
  ],
  "metadata": {
    "colab": {
      "collapsed_sections": [
        "28_glozSPDm7",
        "LDW_CStuioNs",
        "Uv7LWIIU5X5i",
        "eaHsU58AdvlN",
        "vtG27WXGd3_R",
        "vR3xQcHnLUsk",
        "tJI5MrERTBNz",
        "VDydAnW3alRu",
        "Pi1pwj-9q_v5"
      ],
      "provenance": []
    },
    "kernelspec": {
      "display_name": ".venv",
      "language": "python",
      "name": "python3"
    },
    "language_info": {
      "codemirror_mode": {
        "name": "ipython",
        "version": 3
      },
      "file_extension": ".py",
      "mimetype": "text/x-python",
      "name": "python",
      "nbconvert_exporter": "python",
      "pygments_lexer": "ipython3",
      "version": "3.11.5"
    }
  },
  "nbformat": 4,
  "nbformat_minor": 0
}
