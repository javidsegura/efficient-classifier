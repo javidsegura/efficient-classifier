{
  "cells": [
    {
      "cell_type": "markdown",
      "metadata": {},
      "source": [
        "<h1> DYNAMIC MALWARE CLASSIFICATION</h1>"
      ]
    },
    {
      "cell_type": "markdown",
      "metadata": {},
      "source": [
        "Supervised, classification, multi-class"
      ]
    },
    {
      "cell_type": "markdown",
      "metadata": {
        "id": "szqv1Y9Edzc5"
      },
      "source": [
        "# 0. Basic Set-Up and General info"
      ]
    },
    {
      "cell_type": "markdown",
      "metadata": {},
      "source": [
        "Note: there are a lot of non-used imports (to be removed at the end)"
      ]
    },
    {
      "cell_type": "code",
      "execution_count": 1,
      "metadata": {},
      "outputs": [],
      "source": [
        "import pandas as pd\n",
        "import numpy as np\n",
        "import matplotlib.pyplot as plt\n",
        "from matplotlib.ticker import MultipleLocator\n",
        "import seaborn as sns\n",
        "from scipy import stats\n",
        "\n",
        "import copy"
      ]
    },
    {
      "cell_type": "code",
      "execution_count": 2,
      "metadata": {},
      "outputs": [],
      "source": [
        "from sklearn.tree import DecisionTreeClassifier\n",
        "from sklearn.ensemble import GradientBoostingClassifier\n",
        "from sklearn.linear_model import LogisticRegression\n",
        "from sklearn.ensemble import RandomForestClassifier\n",
        "from sklearn.linear_model import LogisticRegression\n",
        "from sklearn.svm import SVC\n"
      ]
    },
    {
      "cell_type": "code",
      "execution_count": 3,
      "metadata": {},
      "outputs": [],
      "source": [
        "from imblearn.over_sampling import SMOTENC\n",
        "from boruta import BorutaPy\n"
      ]
    },
    {
      "cell_type": "code",
      "execution_count": 4,
      "metadata": {},
      "outputs": [],
      "source": [
        "import importlib\n",
        "\n",
        "# Import your modules initially\n",
        "import library.pipeline\n",
        "\n",
        "# Reload the modules in case they were updated\n",
        "importlib.reload(library.pipeline)\n",
        "\n",
        "# Now you can import specific classes/functions\n",
        "from library.pipeline.pipeline import Pipeline\n",
        "from library.pipeline.pipeline_manager import PipelineManager"
      ]
    },
    {
      "cell_type": "markdown",
      "metadata": {},
      "source": [
        "## Documentation Standarization\n",
        "Follow the following guidelines to make sure our document is consistent and easier to undestand\n",
        "- All constant should be writte in full capitall letters (e.g: MY_CONSTANT). Notebook-level constants should be written in the cell assigned to it (see below)\n",
        "- Every new major section (EDA, Feature engineering) should be written with '# My title'#\n",
        "- Subsequent sections should use '##', '###' or '####' hierarchacically\n",
        "- At the beginning of each major section write a content index with the content included in that section (see 'feature engineering' section as an example)\n",
        "- Please write paragraphs before and after each cell explain what u are about to do and the conclusions, correspondingly. Do not assume they are too obvious.\n",
        "- Avoid excessive ChatGPT-originated comments\n",
        "- Avoid writing more than 20 lines per code cell (exceptions for subroutines, which should be written in utilitied_functions.py)\n",
        "- Ideally, add a \"Questions\" and \"Things to be done\" section in each major sections where u write about futher iterations u want to do (while sharing in with the rest)\n"
      ]
    },
    {
      "cell_type": "markdown",
      "metadata": {},
      "source": [
        "## Set-up"
      ]
    },
    {
      "cell_type": "code",
      "execution_count": 5,
      "metadata": {},
      "outputs": [],
      "source": [
        "dataset_path =\"./dataset/dynamic_dataset.csv\"\n",
        "results_path = \"results/results.csv\""
      ]
    },
    {
      "cell_type": "code",
      "execution_count": 6,
      "metadata": {},
      "outputs": [],
      "source": [
        "metrics_to_evaluate = [\"accuracy\", \"precision\", \"recall\", \"f1-score\"]"
      ]
    },
    {
      "cell_type": "markdown",
      "metadata": {},
      "source": [
        "We start off with a pipeline for all the models. Then at some moment, whenever we think the pipelines will diverge, we remove the by-object-refrence (that we will create in the next cell), and create a new copy with our modifications ready."
      ]
    },
    {
      "cell_type": "code",
      "execution_count": 7,
      "metadata": {},
      "outputs": [],
      "source": [
        "default_pipeline = ensembled_pipeline = tree_pipeline = linear_pipeline = baseline_pipeline = example = Pipeline(\n",
        "                        dataset_path=dataset_path, \n",
        "                        results_path=results_path,\n",
        "                        model_type=\"classification\",\n",
        "                        metrics_to_evaluate=metrics_to_evaluate)"
      ]
    },
    {
      "cell_type": "code",
      "execution_count": 8,
      "metadata": {},
      "outputs": [],
      "source": [
        "pipelines = {\n",
        "            \"models\": {\n",
        "                  \"ensembled\": ensembled_pipeline,\n",
        "                  \"tree-based\": tree_pipeline,\n",
        "                  \"linear\": linear_pipeline,\n",
        "                  }, \n",
        "            \"baseline\": {\n",
        "                  \"logistic\": baseline_pipeline, \n",
        "                  \"example\":  example               \n",
        "            }\n",
        "}\n",
        "pipeline_manager = PipelineManager(pipelines)"
      ]
    },
    {
      "cell_type": "markdown",
      "metadata": {},
      "source": [
        "Here I show an example of how we will be working with by-object-reference."
      ]
    },
    {
      "cell_type": "code",
      "execution_count": 9,
      "metadata": {},
      "outputs": [],
      "source": [
        "baseline_pipeline.dataset.example_attribute = \"1\""
      ]
    },
    {
      "cell_type": "code",
      "execution_count": 10,
      "metadata": {},
      "outputs": [
        {
          "data": {
            "text/plain": [
              "'1'"
            ]
          },
          "execution_count": 10,
          "metadata": {},
          "output_type": "execute_result"
        }
      ],
      "source": [
        "default_pipeline.dataset.example_attribute"
      ]
    },
    {
      "cell_type": "markdown",
      "metadata": {},
      "source": [
        "However, if we do a (deep) copy:\n",
        "Note that the difference between a deep and a shallow copy is that the former copies all the objects that are inside the class. We need that.\n",
        "We will overwrite the prior attribute and show is this is not propagated to the other results anymore"
      ]
    },
    {
      "cell_type": "code",
      "execution_count": 11,
      "metadata": {},
      "outputs": [],
      "source": [
        "new_pipeline = copy.deepcopy(default_pipeline)\n",
        "new_pipeline.dataset.example_attribute = \"2\""
      ]
    },
    {
      "cell_type": "code",
      "execution_count": 12,
      "metadata": {},
      "outputs": [
        {
          "data": {
            "text/plain": [
              "'1'"
            ]
          },
          "execution_count": 12,
          "metadata": {},
          "output_type": "execute_result"
        }
      ],
      "source": [
        "default_pipeline.dataset.example_attribute"
      ]
    },
    {
      "cell_type": "markdown",
      "metadata": {},
      "source": [
        "It may also be of interest for you to propagate the same method's invokation to all the pipelines within the pipeline manager. For instance, after a divergence in, lets say, feature scaling, you may need to fit all the models in the corresponding pipelines. You would want to avoid reduntandly calling the same method with the same parameters for all the Pipeline class instances. In order to do so, we present an example that avoids such annoyance"
      ]
    },
    {
      "cell_type": "code",
      "execution_count": 13,
      "metadata": {},
      "outputs": [
        {
          "name": "stdout",
          "output_type": "stream",
          "text": [
            "Pipeline example in category baseline has diverged\n",
            " Pipeline schema is now: {'models': {'ensembled': <library.pipeline.pipeline.Pipeline object at 0x0000023602AEBC20>, 'tree-based': <library.pipeline.pipeline.Pipeline object at 0x0000023602AEBC20>, 'linear': <library.pipeline.pipeline.Pipeline object at 0x0000023602AEBC20>}, 'baseline': {'logistic': <library.pipeline.pipeline.Pipeline object at 0x0000023602AEBC20>, 'example': <library.pipeline.pipeline.Pipeline object at 0x0000023603A41CD0>}}\n"
          ]
        },
        {
          "data": {
            "text/plain": [
              "<library.pipeline.pipeline.Pipeline at 0x23603a41cd0>"
            ]
          },
          "execution_count": 13,
          "metadata": {},
          "output_type": "execute_result"
        }
      ],
      "source": [
        "pipeline_manager.create_pipeline_divergence(category=\"baseline\", pipelineName=\"example\", print_results=True)"
      ]
    },
    {
      "cell_type": "code",
      "execution_count": 14,
      "metadata": {},
      "outputs": [
        {
          "name": "stdout",
          "output_type": "stream",
          "text": [
            "Whats goooddd from 2431012586800. You are at automatic feature selection!\n"
          ]
        }
      ],
      "source": [
        "pipeline_manager.pipelines[\"baseline\"][\"example\"].feature_analysis.feature_selection.automatic_feature_selection.speak(\"Whats goooddd\")"
      ]
    },
    {
      "cell_type": "code",
      "execution_count": 15,
      "metadata": {},
      "outputs": [
        {
          "name": "stdout",
          "output_type": "stream",
          "text": [
            "Hello, world! from 2430996495392\n",
            "Hello, world! from 2431012576464\n"
          ]
        },
        {
          "data": {
            "text/plain": [
              "{'models': {'ensembled': None}, 'baseline': {'example': None}}"
            ]
          },
          "execution_count": 15,
          "metadata": {},
          "output_type": "execute_result"
        }
      ],
      "source": [
        "pipeline_manager.all_pipelines_execute(methodName=\"speak\", message=\"Hello, world!\")"
      ]
    },
    {
      "cell_type": "markdown",
      "metadata": {},
      "source": [
        "A method present deeper down the class:\n",
        "\n",
        "Instead of doing:\n",
        "'pipeline_manager.pipelines[\"baseline\"][\"logistic\"].feature_analysis.feature_selection.automatic_feature_selection.speak(\"Whats goooddd\") for all objects'\n",
        "\n",
        "we can do:"
      ]
    },
    {
      "cell_type": "code",
      "execution_count": 16,
      "metadata": {},
      "outputs": [
        {
          "name": "stdout",
          "output_type": "stream",
          "text": [
            "Whats good from 2431000910576. You are at automatic feature selection!\n",
            "Whats good from 2431012586800. You are at automatic feature selection!\n"
          ]
        },
        {
          "data": {
            "text/plain": [
              "{'models': {'ensembled': None}, 'baseline': {'example': None}}"
            ]
          },
          "execution_count": 16,
          "metadata": {},
          "output_type": "execute_result"
        }
      ],
      "source": [
        "pipeline_manager.all_pipelines_execute(methodName=\"feature_analysis.feature_selection.automatic_feature_selection.speak\", message=\"Whats good\")"
      ]
    },
    {
      "cell_type": "code",
      "execution_count": 17,
      "metadata": {},
      "outputs": [],
      "source": [
        "# lets delete the example obj\n",
        "del new_pipeline \n",
        "del pipeline_manager.pipelines[\"baseline\"][\"example\"]"
      ]
    },
    {
      "cell_type": "code",
      "execution_count": 18,
      "metadata": {},
      "outputs": [
        {
          "data": {
            "text/plain": [
              "{'models': {'ensembled': <library.pipeline.pipeline.Pipeline at 0x23602aebc20>,\n",
              "  'tree-based': <library.pipeline.pipeline.Pipeline at 0x23602aebc20>,\n",
              "  'linear': <library.pipeline.pipeline.Pipeline at 0x23602aebc20>},\n",
              " 'baseline': {'logistic': <library.pipeline.pipeline.Pipeline at 0x23602aebc20>}}"
            ]
          },
          "execution_count": 18,
          "metadata": {},
          "output_type": "execute_result"
        }
      ],
      "source": [
        "pipeline_manager.pipelines"
      ]
    },
    {
      "cell_type": "markdown",
      "metadata": {},
      "source": [
        "<hr>"
      ]
    },
    {
      "cell_type": "markdown",
      "metadata": {},
      "source": [
        "# Start Of The Pipeline"
      ]
    },
    {
      "cell_type": "code",
      "execution_count": 19,
      "metadata": {
        "colab": {
          "base_uri": "https://localhost:8080/",
          "height": 256
        },
        "id": "F0L2m8yFXhJ9",
        "outputId": "c94d1d43-6998-486d-d0ea-8b643d64efa6"
      },
      "outputs": [
        {
          "data": {
            "text/html": [
              "<div>\n",
              "<style scoped>\n",
              "    .dataframe tbody tr th:only-of-type {\n",
              "        vertical-align: middle;\n",
              "    }\n",
              "\n",
              "    .dataframe tbody tr th {\n",
              "        vertical-align: top;\n",
              "    }\n",
              "\n",
              "    .dataframe thead th {\n",
              "        text-align: right;\n",
              "    }\n",
              "</style>\n",
              "<table border=\"1\" class=\"dataframe\">\n",
              "  <thead>\n",
              "    <tr style=\"text-align: right;\">\n",
              "      <th></th>\n",
              "      <th>Memory_PssTotal</th>\n",
              "      <th>Memory_PssClean</th>\n",
              "      <th>Memory_SharedDirty</th>\n",
              "      <th>Memory_PrivateDirty</th>\n",
              "      <th>Memory_SharedClean</th>\n",
              "      <th>Memory_PrivateClean</th>\n",
              "      <th>Memory_SwapPssDirty</th>\n",
              "      <th>Memory_HeapSize</th>\n",
              "      <th>Memory_HeapAlloc</th>\n",
              "      <th>Memory_HeapFree</th>\n",
              "      <th>...</th>\n",
              "      <th>Logcat_error</th>\n",
              "      <th>Logcat_warning</th>\n",
              "      <th>Logcat_debug</th>\n",
              "      <th>Logcat_verbose</th>\n",
              "      <th>Logcat_total</th>\n",
              "      <th>Process_total</th>\n",
              "      <th>Hash</th>\n",
              "      <th>Category</th>\n",
              "      <th>Family</th>\n",
              "      <th>reboot</th>\n",
              "    </tr>\n",
              "  </thead>\n",
              "  <tbody>\n",
              "    <tr>\n",
              "      <th>0</th>\n",
              "      <td>31053</td>\n",
              "      <td>2448</td>\n",
              "      <td>14044</td>\n",
              "      <td>23472</td>\n",
              "      <td>74824</td>\n",
              "      <td>2452</td>\n",
              "      <td>0</td>\n",
              "      <td>8919</td>\n",
              "      <td>4786</td>\n",
              "      <td>4132</td>\n",
              "      <td>...</td>\n",
              "      <td>1635</td>\n",
              "      <td>2351</td>\n",
              "      <td>3285</td>\n",
              "      <td>1551</td>\n",
              "      <td>11221</td>\n",
              "      <td>193</td>\n",
              "      <td>f460abb8f2e4e3fb689966ddaea6d6babbd1738bb691c7...</td>\n",
              "      <td>Trojan_SMS</td>\n",
              "      <td>opfake</td>\n",
              "      <td>before</td>\n",
              "    </tr>\n",
              "    <tr>\n",
              "      <th>1</th>\n",
              "      <td>107787</td>\n",
              "      <td>21976</td>\n",
              "      <td>11852</td>\n",
              "      <td>74548</td>\n",
              "      <td>69052</td>\n",
              "      <td>23152</td>\n",
              "      <td>0</td>\n",
              "      <td>25341</td>\n",
              "      <td>20965</td>\n",
              "      <td>4375</td>\n",
              "      <td>...</td>\n",
              "      <td>1816</td>\n",
              "      <td>826</td>\n",
              "      <td>1544</td>\n",
              "      <td>2045</td>\n",
              "      <td>8457</td>\n",
              "      <td>189</td>\n",
              "      <td>556c238536d837007e647543eaf3ea95ae9aaf1c1a52d0...</td>\n",
              "      <td>Trojan_SMS</td>\n",
              "      <td>opfake</td>\n",
              "      <td>before</td>\n",
              "    </tr>\n",
              "    <tr>\n",
              "      <th>2</th>\n",
              "      <td>86584</td>\n",
              "      <td>18460</td>\n",
              "      <td>12284</td>\n",
              "      <td>59992</td>\n",
              "      <td>91548</td>\n",
              "      <td>19376</td>\n",
              "      <td>0</td>\n",
              "      <td>24500</td>\n",
              "      <td>21378</td>\n",
              "      <td>3121</td>\n",
              "      <td>...</td>\n",
              "      <td>2244</td>\n",
              "      <td>3406</td>\n",
              "      <td>1565</td>\n",
              "      <td>2819</td>\n",
              "      <td>10780</td>\n",
              "      <td>195</td>\n",
              "      <td>398322f94b5bfa2a9e7b3756a4cf409764595003280c48...</td>\n",
              "      <td>Trojan_SMS</td>\n",
              "      <td>fakeinst</td>\n",
              "      <td>before</td>\n",
              "    </tr>\n",
              "    <tr>\n",
              "      <th>3</th>\n",
              "      <td>41248</td>\n",
              "      <td>924</td>\n",
              "      <td>10328</td>\n",
              "      <td>36280</td>\n",
              "      <td>55768</td>\n",
              "      <td>928</td>\n",
              "      <td>0</td>\n",
              "      <td>10082</td>\n",
              "      <td>7281</td>\n",
              "      <td>2800</td>\n",
              "      <td>...</td>\n",
              "      <td>974</td>\n",
              "      <td>4134</td>\n",
              "      <td>3138</td>\n",
              "      <td>1556</td>\n",
              "      <td>11739</td>\n",
              "      <td>191</td>\n",
              "      <td>4a9c14872b2c66165599a969a1a8654bb6887d7a18ab6d...</td>\n",
              "      <td>Trojan_SMS</td>\n",
              "      <td>fakeinst</td>\n",
              "      <td>before</td>\n",
              "    </tr>\n",
              "    <tr>\n",
              "      <th>4</th>\n",
              "      <td>38621</td>\n",
              "      <td>5080</td>\n",
              "      <td>12392</td>\n",
              "      <td>27388</td>\n",
              "      <td>71048</td>\n",
              "      <td>5088</td>\n",
              "      <td>0</td>\n",
              "      <td>9077</td>\n",
              "      <td>5750</td>\n",
              "      <td>3326</td>\n",
              "      <td>...</td>\n",
              "      <td>936</td>\n",
              "      <td>2298</td>\n",
              "      <td>3752</td>\n",
              "      <td>1992</td>\n",
              "      <td>10488</td>\n",
              "      <td>188</td>\n",
              "      <td>6b37b9b9c170727f706b69731e64da4bbca2638b4237a7...</td>\n",
              "      <td>Trojan_SMS</td>\n",
              "      <td>fakeinst</td>\n",
              "      <td>before</td>\n",
              "    </tr>\n",
              "  </tbody>\n",
              "</table>\n",
              "<p>5 rows × 145 columns</p>\n",
              "</div>"
            ],
            "text/plain": [
              "   Memory_PssTotal  Memory_PssClean  Memory_SharedDirty  Memory_PrivateDirty  \\\n",
              "0            31053             2448               14044                23472   \n",
              "1           107787            21976               11852                74548   \n",
              "2            86584            18460               12284                59992   \n",
              "3            41248              924               10328                36280   \n",
              "4            38621             5080               12392                27388   \n",
              "\n",
              "   Memory_SharedClean  Memory_PrivateClean  Memory_SwapPssDirty  \\\n",
              "0               74824                 2452                    0   \n",
              "1               69052                23152                    0   \n",
              "2               91548                19376                    0   \n",
              "3               55768                  928                    0   \n",
              "4               71048                 5088                    0   \n",
              "\n",
              "   Memory_HeapSize  Memory_HeapAlloc  Memory_HeapFree  ...  Logcat_error  \\\n",
              "0             8919              4786             4132  ...          1635   \n",
              "1            25341             20965             4375  ...          1816   \n",
              "2            24500             21378             3121  ...          2244   \n",
              "3            10082              7281             2800  ...           974   \n",
              "4             9077              5750             3326  ...           936   \n",
              "\n",
              "   Logcat_warning  Logcat_debug  Logcat_verbose  Logcat_total  Process_total  \\\n",
              "0            2351          3285            1551         11221            193   \n",
              "1             826          1544            2045          8457            189   \n",
              "2            3406          1565            2819         10780            195   \n",
              "3            4134          3138            1556         11739            191   \n",
              "4            2298          3752            1992         10488            188   \n",
              "\n",
              "                                                Hash    Category    Family  \\\n",
              "0  f460abb8f2e4e3fb689966ddaea6d6babbd1738bb691c7...  Trojan_SMS    opfake   \n",
              "1  556c238536d837007e647543eaf3ea95ae9aaf1c1a52d0...  Trojan_SMS    opfake   \n",
              "2  398322f94b5bfa2a9e7b3756a4cf409764595003280c48...  Trojan_SMS  fakeinst   \n",
              "3  4a9c14872b2c66165599a969a1a8654bb6887d7a18ab6d...  Trojan_SMS  fakeinst   \n",
              "4  6b37b9b9c170727f706b69731e64da4bbca2638b4237a7...  Trojan_SMS  fakeinst   \n",
              "\n",
              "   reboot  \n",
              "0  before  \n",
              "1  before  \n",
              "2  before  \n",
              "3  before  \n",
              "4  before  \n",
              "\n",
              "[5 rows x 145 columns]"
            ]
          },
          "execution_count": 19,
          "metadata": {},
          "output_type": "execute_result"
        }
      ],
      "source": [
        "default_pipeline.dataset.df.head()"
      ]
    },
    {
      "cell_type": "code",
      "execution_count": 20,
      "metadata": {},
      "outputs": [],
      "source": [
        "default_pipeline.dataset.df.rename(columns={\"reboot\": \"Reboot\"}, inplace=True) # consistency with other features' names\n",
        "default_pipeline.dataset.df.drop(columns=[\"Family\", \"Hash\"], inplace=True) # We have decided to use only category as target variable; Hash is temporary while im debugging (it will be deleted in EDA)"
      ]
    },
    {
      "cell_type": "markdown",
      "metadata": {},
      "source": [
        "### Description of our features"
      ]
    },
    {
      "cell_type": "markdown",
      "metadata": {},
      "source": [
        "For each of our entries in the dataset we have a feature describing the state of the (operating) system under which the malware was running. Here is an intial description for each of them.\n",
        "Please access this document for a complete problem context description: https://docs.google.com/document/d/1yH9gvnJVSH9GLv9ATQ5JQWA2z8Jy4umxxRfMF-y2fiU/edit?usp=sharing"
      ]
    },
    {
      "cell_type": "markdown",
      "metadata": {},
      "source": [
        "# 1. EDA"
      ]
    },
    {
      "cell_type": "markdown",
      "metadata": {},
      "source": [
        "This section below shall be deleted"
      ]
    },
    {
      "cell_type": "code",
      "execution_count": 21,
      "metadata": {},
      "outputs": [
        {
          "name": "stdout",
          "output_type": "stream",
          "text": [
            "No duplicates found in the dataset\n"
          ]
        }
      ],
      "source": [
        "default_pipeline.preprocessing.remove_duplicates()"
      ]
    },
    {
      "cell_type": "markdown",
      "metadata": {},
      "source": [
        "In this section, we conduct an Exploratory Data Analysis (EDA) on the dynamic malware dataset to gain initial insights into the structure, distribution, and quality of the data prior to modeling. The dataset includes behavioral features extracted from Android applications, along with labels indicating their respective malware categories. Understanding the composition of the dataset, such as class imbalance, feature correlations, and the presence of outliers, is crucial to ensure robust preprocessing, informed feature engineering, and  the success of machine learning classifiers.\n"
      ]
    },
    {
      "cell_type": "markdown",
      "metadata": {},
      "source": [
        "### SUGGESTIONS FOR IMPROVEMENTS\n",
        "- Cluster analysis"
      ]
    },
    {
      "cell_type": "markdown",
      "metadata": {},
      "source": [
        "## Initial Exploration"
      ]
    },
    {
      "cell_type": "code",
      "execution_count": 22,
      "metadata": {},
      "outputs": [
        {
          "data": {
            "text/plain": [
              "(53439, 143)"
            ]
          },
          "execution_count": 22,
          "metadata": {},
          "output_type": "execute_result"
        }
      ],
      "source": [
        "default_pipeline.dataset.df.shape"
      ]
    },
    {
      "cell_type": "code",
      "execution_count": 23,
      "metadata": {},
      "outputs": [
        {
          "name": "stdout",
          "output_type": "stream",
          "text": [
            "No missing values found in the dataset\n"
          ]
        }
      ],
      "source": [
        "default_pipeline.preprocessing.get_missing_values()"
      ]
    },
    {
      "cell_type": "markdown",
      "metadata": {},
      "source": [
        "## Basic Analysis of Category"
      ]
    },
    {
      "cell_type": "code",
      "execution_count": 24,
      "metadata": {},
      "outputs": [
        {
          "data": {
            "text/plain": [
              "array(['Trojan_SMS', 'Scareware', 'Adware', 'Trojan_Banker',\n",
              "       'FileInfector', 'No_Category', 'Ransomware', 'Backdoor',\n",
              "       'Trojan_Dropper', 'Riskware', 'Zero_Day', 'Trojan', 'Trojan_Spy',\n",
              "       'PUA'], dtype=object)"
            ]
          },
          "execution_count": 24,
          "metadata": {},
          "output_type": "execute_result"
        }
      ],
      "source": [
        "default_pipeline.dataset.df['Category'].unique()"
      ]
    },
    {
      "cell_type": "code",
      "execution_count": 25,
      "metadata": {},
      "outputs": [
        {
          "data": {
            "text/plain": [
              "Category\n",
              "Riskware          14053\n",
              "Adware            10980\n",
              "Trojan             8437\n",
              "Zero_Day           4475\n",
              "Ransomware         3411\n",
              "Trojan_Spy         2840\n",
              "Trojan_SMS         1939\n",
              "No_Category        1932\n",
              "Trojan_Dropper     1570\n",
              "PUA                1290\n",
              "Backdoor           1137\n",
              "Scareware           886\n",
              "FileInfector        248\n",
              "Trojan_Banker       241\n",
              "Name: count, dtype: int64"
            ]
          },
          "execution_count": 25,
          "metadata": {},
          "output_type": "execute_result"
        }
      ],
      "source": [
        "default_pipeline.dataset.df['Category'].value_counts()"
      ]
    },
    {
      "cell_type": "code",
      "execution_count": 26,
      "metadata": {},
      "outputs": [
        {
          "data": {
            "image/png": "[encoded data removed]",
            "text/plain": [
              "<Figure size 2000x500 with 1 Axes>"
            ]
          },
          "metadata": {},
          "output_type": "display_data"
        }
      ],
      "source": [
        "default_pipeline.EDA.plot_categorical_distributions(features=[\"Category\"], n_cols=1, sorted = True)"
      ]
    },
    {
      "cell_type": "markdown",
      "metadata": {},
      "source": [
        "## Data Type Distribution"
      ]
    },
    {
      "cell_type": "code",
      "execution_count": 27,
      "metadata": {},
      "outputs": [],
      "source": [
        "# # Plotting the frequency of data types\n",
        "# type_counts.plot(kind='bar', color='skyblue')\n",
        "\n",
        "# # Add title and labels\n",
        "# plt.title('Frequency of Data Types in DataFrame')\n",
        "# plt.xlabel('Data Type')\n",
        "# plt.ylabel('Frequency')"
      ]
    },
    {
      "cell_type": "code",
      "execution_count": 28,
      "metadata": {},
      "outputs": [
        {
          "data": {
            "text/plain": [
              "int64     141\n",
              "object      2\n",
              "Name: count, dtype: int64"
            ]
          },
          "execution_count": 28,
          "metadata": {},
          "output_type": "execute_result"
        }
      ],
      "source": [
        "default_pipeline.dataset.df.dtypes.value_counts()"
      ]
    },
    {
      "cell_type": "markdown",
      "metadata": {},
      "source": [
        "We can see that most columns are numerical. Lets gets to see which are the variables that are of type object."
      ]
    },
    {
      "cell_type": "code",
      "execution_count": 29,
      "metadata": {},
      "outputs": [
        {
          "data": {
            "text/plain": [
              "Index(['Category', 'Reboot'], dtype='object')"
            ]
          },
          "execution_count": 29,
          "metadata": {},
          "output_type": "execute_result"
        }
      ],
      "source": [
        "default_pipeline.dataset.df.select_dtypes(include=[\"object\"]).columns"
      ]
    },
    {
      "cell_type": "markdown",
      "metadata": {},
      "source": [
        "## Memory (Proportional Set Size)"
      ]
    },
    {
      "cell_type": "markdown",
      "metadata": {},
      "source": [
        "- outliers\n",
        "- check the sum"
      ]
    },
    {
      "cell_type": "markdown",
      "metadata": {},
      "source": [
        "### PSS\n"
      ]
    },
    {
      "cell_type": "markdown",
      "metadata": {},
      "source": [
        "PSS refers to the portion of memory that is proportionally assigned to a process, taking into acount shared memory.\n",
        "\n",
        "Features:\n",
        "- Memory_PssTotal\n",
        "- Memory_PssClean\n",
        "- Memory_SharedDirty\n",
        "- Memory_PrivateDirty\n",
        "- Memory_SharedClean\n",
        "- Memory_PrivateClean\n",
        "- Memory_SwapPssDirty\n",
        "\n",
        "Clean vs Dirty:\n",
        "- Clean: memory pages that hasnt been modified since it was mapped (Example: Libraries)\n",
        "- Dirty: memory pages that have been modified.\n",
        "\n",
        "Private vs Shared:\n",
        "- Private: only available to a process\n",
        "- Shared: mapped by multiple processes. The most important thing to take into account is that we divide the number of Kb by number of proccesses accessing to it.\n",
        "\n",
        "Hypothesis:  \n",
        "If malware is present on a system, it can load code or data into shared memory (e.g., a shared library), which reduces its individual memory footprint. Additionally, malware can inject code into other processes, keeping its own PSS relatively low. This is why PSS alone is likely insufficient for reliably detecting malicious applications."
      ]
    },
    {
      "cell_type": "markdown",
      "metadata": {},
      "source": [
        "#### Memory_PssTotal"
      ]
    },
    {
      "cell_type": "markdown",
      "metadata": {},
      "source": [
        "This is the sum of Memory_PssClean, Memory_sharedDirty and Memory_PrivateDirty (Memory_PssDirty is not a feature). "
      ]
    },
    {
      "cell_type": "code",
      "execution_count": 30,
      "metadata": {},
      "outputs": [
        {
          "data": {
            "text/plain": [
              "count     53439.000000\n",
              "mean      70918.399034\n",
              "std       36366.690217\n",
              "min        4506.000000\n",
              "25%       46165.000000\n",
              "50%       61284.000000\n",
              "75%       91740.000000\n",
              "max      829169.000000\n",
              "Name: Memory_PssTotal, dtype: float64"
            ]
          },
          "execution_count": 30,
          "metadata": {},
          "output_type": "execute_result"
        }
      ],
      "source": [
        "default_pipeline.dataset.df['Memory_PssTotal'].describe()"
      ]
    },
    {
      "cell_type": "markdown",
      "metadata": {},
      "source": [
        "There is a really high standard deviation. The max value is extremely high. It's more than 10 times the mean. In general we can see a quite high mempry usage."
      ]
    },
    {
      "cell_type": "code",
      "execution_count": 32,
      "metadata": {},
      "outputs": [
        {
          "data": {
            "image/png": "[encoded data removed]",
            "text/plain": [
              "<Figure size 2000x500 with 1 Axes>"
            ]
          },
          "metadata": {},
          "output_type": "display_data"
        }
      ],
      "source": [
        "default_pipeline.EDA.plot_histograms(features=[\"Memory_PssTotal\"], n_cols=1, bins=20)"
      ]
    },
    {
      "cell_type": "code",
      "execution_count": 39,
      "metadata": {},
      "outputs": [
        {
          "data": {
            "text/plain": [
              "np.int64(829169)"
            ]
          },
          "execution_count": 39,
          "metadata": {},
          "output_type": "execute_result"
        }
      ],
      "source": [
        "default_pipeline.dataset.df['Memory_PssTotal'].max()"
      ]
    },
    {
      "cell_type": "code",
      "execution_count": 34,
      "metadata": {},
      "outputs": [
        {
          "data": {
            "text/html": [
              "<div>\n",
              "<style scoped>\n",
              "    .dataframe tbody tr th:only-of-type {\n",
              "        vertical-align: middle;\n",
              "    }\n",
              "\n",
              "    .dataframe tbody tr th {\n",
              "        vertical-align: top;\n",
              "    }\n",
              "\n",
              "    .dataframe thead th {\n",
              "        text-align: right;\n",
              "    }\n",
              "</style>\n",
              "<table border=\"1\" class=\"dataframe\">\n",
              "  <thead>\n",
              "    <tr style=\"text-align: right;\">\n",
              "      <th></th>\n",
              "      <th>count</th>\n",
              "      <th>mean</th>\n",
              "      <th>std</th>\n",
              "      <th>min</th>\n",
              "      <th>25%</th>\n",
              "      <th>50%</th>\n",
              "      <th>75%</th>\n",
              "      <th>max</th>\n",
              "    </tr>\n",
              "    <tr>\n",
              "      <th>Category</th>\n",
              "      <th></th>\n",
              "      <th></th>\n",
              "      <th></th>\n",
              "      <th></th>\n",
              "      <th></th>\n",
              "      <th></th>\n",
              "      <th></th>\n",
              "      <th></th>\n",
              "    </tr>\n",
              "  </thead>\n",
              "  <tbody>\n",
              "    <tr>\n",
              "      <th>Adware</th>\n",
              "      <td>10980.0</td>\n",
              "      <td>77691.313297</td>\n",
              "      <td>43186.372156</td>\n",
              "      <td>5514.0</td>\n",
              "      <td>47795.75</td>\n",
              "      <td>68345.5</td>\n",
              "      <td>100486.50</td>\n",
              "      <td>819456.0</td>\n",
              "    </tr>\n",
              "    <tr>\n",
              "      <th>Backdoor</th>\n",
              "      <td>1137.0</td>\n",
              "      <td>64872.519789</td>\n",
              "      <td>39258.133286</td>\n",
              "      <td>11073.0</td>\n",
              "      <td>43599.00</td>\n",
              "      <td>56469.0</td>\n",
              "      <td>71140.00</td>\n",
              "      <td>624063.0</td>\n",
              "    </tr>\n",
              "    <tr>\n",
              "      <th>FileInfector</th>\n",
              "      <td>248.0</td>\n",
              "      <td>74002.084677</td>\n",
              "      <td>32795.806609</td>\n",
              "      <td>23866.0</td>\n",
              "      <td>48291.75</td>\n",
              "      <td>52681.5</td>\n",
              "      <td>95831.75</td>\n",
              "      <td>178637.0</td>\n",
              "    </tr>\n",
              "    <tr>\n",
              "      <th>No_Category</th>\n",
              "      <td>1932.0</td>\n",
              "      <td>74386.863872</td>\n",
              "      <td>47941.296109</td>\n",
              "      <td>6028.0</td>\n",
              "      <td>44583.25</td>\n",
              "      <td>63812.5</td>\n",
              "      <td>94133.75</td>\n",
              "      <td>714868.0</td>\n",
              "    </tr>\n",
              "    <tr>\n",
              "      <th>PUA</th>\n",
              "      <td>1290.0</td>\n",
              "      <td>66573.948062</td>\n",
              "      <td>43089.788673</td>\n",
              "      <td>9255.0</td>\n",
              "      <td>32788.25</td>\n",
              "      <td>59511.5</td>\n",
              "      <td>81596.50</td>\n",
              "      <td>346117.0</td>\n",
              "    </tr>\n",
              "    <tr>\n",
              "      <th>Ransomware</th>\n",
              "      <td>3411.0</td>\n",
              "      <td>54950.799472</td>\n",
              "      <td>17360.548792</td>\n",
              "      <td>6340.0</td>\n",
              "      <td>45842.50</td>\n",
              "      <td>49349.0</td>\n",
              "      <td>58562.00</td>\n",
              "      <td>214365.0</td>\n",
              "    </tr>\n",
              "    <tr>\n",
              "      <th>Riskware</th>\n",
              "      <td>14053.0</td>\n",
              "      <td>67867.346261</td>\n",
              "      <td>32394.741622</td>\n",
              "      <td>4808.0</td>\n",
              "      <td>45893.00</td>\n",
              "      <td>60339.0</td>\n",
              "      <td>87167.00</td>\n",
              "      <td>829169.0</td>\n",
              "    </tr>\n",
              "    <tr>\n",
              "      <th>Scareware</th>\n",
              "      <td>886.0</td>\n",
              "      <td>88980.173815</td>\n",
              "      <td>26323.681386</td>\n",
              "      <td>13429.0</td>\n",
              "      <td>86004.75</td>\n",
              "      <td>93253.5</td>\n",
              "      <td>99570.75</td>\n",
              "      <td>279678.0</td>\n",
              "    </tr>\n",
              "    <tr>\n",
              "      <th>Trojan</th>\n",
              "      <td>8437.0</td>\n",
              "      <td>75164.102169</td>\n",
              "      <td>29651.677461</td>\n",
              "      <td>4506.0</td>\n",
              "      <td>52458.00</td>\n",
              "      <td>73496.0</td>\n",
              "      <td>91806.00</td>\n",
              "      <td>519285.0</td>\n",
              "    </tr>\n",
              "    <tr>\n",
              "      <th>Trojan_Banker</th>\n",
              "      <td>241.0</td>\n",
              "      <td>65273.510373</td>\n",
              "      <td>33087.758193</td>\n",
              "      <td>26585.0</td>\n",
              "      <td>37277.00</td>\n",
              "      <td>47149.0</td>\n",
              "      <td>91242.00</td>\n",
              "      <td>165782.0</td>\n",
              "    </tr>\n",
              "    <tr>\n",
              "      <th>Trojan_Dropper</th>\n",
              "      <td>1570.0</td>\n",
              "      <td>65886.022930</td>\n",
              "      <td>33064.387068</td>\n",
              "      <td>26332.0</td>\n",
              "      <td>49061.00</td>\n",
              "      <td>53742.5</td>\n",
              "      <td>65856.00</td>\n",
              "      <td>280507.0</td>\n",
              "    </tr>\n",
              "    <tr>\n",
              "      <th>Trojan_SMS</th>\n",
              "      <td>1939.0</td>\n",
              "      <td>67251.881898</td>\n",
              "      <td>34446.311109</td>\n",
              "      <td>5027.0</td>\n",
              "      <td>40731.50</td>\n",
              "      <td>49845.0</td>\n",
              "      <td>97935.00</td>\n",
              "      <td>347747.0</td>\n",
              "    </tr>\n",
              "    <tr>\n",
              "      <th>Trojan_Spy</th>\n",
              "      <td>2840.0</td>\n",
              "      <td>56533.669718</td>\n",
              "      <td>28008.752311</td>\n",
              "      <td>5396.0</td>\n",
              "      <td>36473.25</td>\n",
              "      <td>43290.0</td>\n",
              "      <td>70707.25</td>\n",
              "      <td>237590.0</td>\n",
              "    </tr>\n",
              "    <tr>\n",
              "      <th>Zero_Day</th>\n",
              "      <td>4475.0</td>\n",
              "      <td>78379.300335</td>\n",
              "      <td>42530.702785</td>\n",
              "      <td>8624.0</td>\n",
              "      <td>48331.00</td>\n",
              "      <td>67572.0</td>\n",
              "      <td>99869.00</td>\n",
              "      <td>788234.0</td>\n",
              "    </tr>\n",
              "  </tbody>\n",
              "</table>\n",
              "</div>"
            ],
            "text/plain": [
              "                  count          mean           std      min       25%  \\\n",
              "Category                                                                 \n",
              "Adware          10980.0  77691.313297  43186.372156   5514.0  47795.75   \n",
              "Backdoor         1137.0  64872.519789  39258.133286  11073.0  43599.00   \n",
              "FileInfector      248.0  74002.084677  32795.806609  23866.0  48291.75   \n",
              "No_Category      1932.0  74386.863872  47941.296109   6028.0  44583.25   \n",
              "PUA              1290.0  66573.948062  43089.788673   9255.0  32788.25   \n",
              "Ransomware       3411.0  54950.799472  17360.548792   6340.0  45842.50   \n",
              "Riskware        14053.0  67867.346261  32394.741622   4808.0  45893.00   \n",
              "Scareware         886.0  88980.173815  26323.681386  13429.0  86004.75   \n",
              "Trojan           8437.0  75164.102169  29651.677461   4506.0  52458.00   \n",
              "Trojan_Banker     241.0  65273.510373  33087.758193  26585.0  37277.00   \n",
              "Trojan_Dropper   1570.0  65886.022930  33064.387068  26332.0  49061.00   \n",
              "Trojan_SMS       1939.0  67251.881898  34446.311109   5027.0  40731.50   \n",
              "Trojan_Spy       2840.0  56533.669718  28008.752311   5396.0  36473.25   \n",
              "Zero_Day         4475.0  78379.300335  42530.702785   8624.0  48331.00   \n",
              "\n",
              "                    50%        75%       max  \n",
              "Category                                      \n",
              "Adware          68345.5  100486.50  819456.0  \n",
              "Backdoor        56469.0   71140.00  624063.0  \n",
              "FileInfector    52681.5   95831.75  178637.0  \n",
              "No_Category     63812.5   94133.75  714868.0  \n",
              "PUA             59511.5   81596.50  346117.0  \n",
              "Ransomware      49349.0   58562.00  214365.0  \n",
              "Riskware        60339.0   87167.00  829169.0  \n",
              "Scareware       93253.5   99570.75  279678.0  \n",
              "Trojan          73496.0   91806.00  519285.0  \n",
              "Trojan_Banker   47149.0   91242.00  165782.0  \n",
              "Trojan_Dropper  53742.5   65856.00  280507.0  \n",
              "Trojan_SMS      49845.0   97935.00  347747.0  \n",
              "Trojan_Spy      43290.0   70707.25  237590.0  \n",
              "Zero_Day        67572.0   99869.00  788234.0  "
            ]
          },
          "execution_count": 34,
          "metadata": {},
          "output_type": "execute_result"
        }
      ],
      "source": [
        "default_pipeline.dataset.df.groupby('Category')['Memory_PssTotal'].describe()"
      ]
    },
    {
      "cell_type": "markdown",
      "metadata": {},
      "source": [
        "It's interesting to note that both Scareware and Adware consume more memory, likely due to the UI activity. While Ransomware and Trojan_spy have relatively low memory consumption, meaning they are more memory efficient."
      ]
    },
    {
      "cell_type": "markdown",
      "metadata": {},
      "source": [
        "#### Memory_PssClean"
      ]
    },
    {
      "cell_type": "code",
      "execution_count": 38,
      "metadata": {},
      "outputs": [
        {
          "data": {
            "image/png": "[encoded data removed]",
            "text/plain": [
              "<Figure size 2000x500 with 1 Axes>"
            ]
          },
          "metadata": {},
          "output_type": "display_data"
        }
      ],
      "source": [
        "default_pipeline.EDA.plot_histograms(features=[\"Memory_PssTotal\"], n_cols=1)"
      ]
    },
    {
      "cell_type": "code",
      "execution_count": 40,
      "metadata": {},
      "outputs": [
        {
          "data": {
            "text/html": [
              "<div>\n",
              "<style scoped>\n",
              "    .dataframe tbody tr th:only-of-type {\n",
              "        vertical-align: middle;\n",
              "    }\n",
              "\n",
              "    .dataframe tbody tr th {\n",
              "        vertical-align: top;\n",
              "    }\n",
              "\n",
              "    .dataframe thead th {\n",
              "        text-align: right;\n",
              "    }\n",
              "</style>\n",
              "<table border=\"1\" class=\"dataframe\">\n",
              "  <thead>\n",
              "    <tr style=\"text-align: right;\">\n",
              "      <th></th>\n",
              "      <th>count</th>\n",
              "      <th>mean</th>\n",
              "      <th>std</th>\n",
              "      <th>min</th>\n",
              "      <th>25%</th>\n",
              "      <th>50%</th>\n",
              "      <th>75%</th>\n",
              "      <th>max</th>\n",
              "    </tr>\n",
              "    <tr>\n",
              "      <th>Category</th>\n",
              "      <th></th>\n",
              "      <th></th>\n",
              "      <th></th>\n",
              "      <th></th>\n",
              "      <th></th>\n",
              "      <th></th>\n",
              "      <th></th>\n",
              "      <th></th>\n",
              "    </tr>\n",
              "  </thead>\n",
              "  <tbody>\n",
              "    <tr>\n",
              "      <th>Adware</th>\n",
              "      <td>10980.0</td>\n",
              "      <td>15741.613115</td>\n",
              "      <td>14063.508342</td>\n",
              "      <td>0.0</td>\n",
              "      <td>4436.0</td>\n",
              "      <td>8132.0</td>\n",
              "      <td>28520.0</td>\n",
              "      <td>56272.0</td>\n",
              "    </tr>\n",
              "    <tr>\n",
              "      <th>Backdoor</th>\n",
              "      <td>1137.0</td>\n",
              "      <td>8961.051891</td>\n",
              "      <td>10868.760200</td>\n",
              "      <td>68.0</td>\n",
              "      <td>3780.0</td>\n",
              "      <td>5060.0</td>\n",
              "      <td>7740.0</td>\n",
              "      <td>102320.0</td>\n",
              "    </tr>\n",
              "    <tr>\n",
              "      <th>FileInfector</th>\n",
              "      <td>248.0</td>\n",
              "      <td>16491.806452</td>\n",
              "      <td>15122.073528</td>\n",
              "      <td>0.0</td>\n",
              "      <td>4263.0</td>\n",
              "      <td>5834.0</td>\n",
              "      <td>31208.0</td>\n",
              "      <td>44780.0</td>\n",
              "    </tr>\n",
              "    <tr>\n",
              "      <th>No_Category</th>\n",
              "      <td>1932.0</td>\n",
              "      <td>13225.552795</td>\n",
              "      <td>13327.507898</td>\n",
              "      <td>0.0</td>\n",
              "      <td>3267.0</td>\n",
              "      <td>6536.0</td>\n",
              "      <td>22988.0</td>\n",
              "      <td>62708.0</td>\n",
              "    </tr>\n",
              "    <tr>\n",
              "      <th>PUA</th>\n",
              "      <td>1290.0</td>\n",
              "      <td>8119.677519</td>\n",
              "      <td>10475.622550</td>\n",
              "      <td>0.0</td>\n",
              "      <td>2265.0</td>\n",
              "      <td>3476.0</td>\n",
              "      <td>7863.0</td>\n",
              "      <td>105164.0</td>\n",
              "    </tr>\n",
              "    <tr>\n",
              "      <th>Ransomware</th>\n",
              "      <td>3411.0</td>\n",
              "      <td>5504.368220</td>\n",
              "      <td>5846.970870</td>\n",
              "      <td>0.0</td>\n",
              "      <td>2584.0</td>\n",
              "      <td>4844.0</td>\n",
              "      <td>6252.0</td>\n",
              "      <td>47020.0</td>\n",
              "    </tr>\n",
              "    <tr>\n",
              "      <th>Riskware</th>\n",
              "      <td>14053.0</td>\n",
              "      <td>14030.660215</td>\n",
              "      <td>12198.188924</td>\n",
              "      <td>0.0</td>\n",
              "      <td>4780.0</td>\n",
              "      <td>7636.0</td>\n",
              "      <td>24012.0</td>\n",
              "      <td>106360.0</td>\n",
              "    </tr>\n",
              "    <tr>\n",
              "      <th>Scareware</th>\n",
              "      <td>886.0</td>\n",
              "      <td>30622.988713</td>\n",
              "      <td>14283.361500</td>\n",
              "      <td>0.0</td>\n",
              "      <td>22470.0</td>\n",
              "      <td>38542.0</td>\n",
              "      <td>40859.0</td>\n",
              "      <td>48364.0</td>\n",
              "    </tr>\n",
              "    <tr>\n",
              "      <th>Trojan</th>\n",
              "      <td>8437.0</td>\n",
              "      <td>11913.528031</td>\n",
              "      <td>13163.803987</td>\n",
              "      <td>0.0</td>\n",
              "      <td>4128.0</td>\n",
              "      <td>5344.0</td>\n",
              "      <td>13972.0</td>\n",
              "      <td>78380.0</td>\n",
              "    </tr>\n",
              "    <tr>\n",
              "      <th>Trojan_Banker</th>\n",
              "      <td>241.0</td>\n",
              "      <td>12983.734440</td>\n",
              "      <td>13333.186653</td>\n",
              "      <td>0.0</td>\n",
              "      <td>3428.0</td>\n",
              "      <td>5716.0</td>\n",
              "      <td>22176.0</td>\n",
              "      <td>44360.0</td>\n",
              "    </tr>\n",
              "    <tr>\n",
              "      <th>Trojan_Dropper</th>\n",
              "      <td>1570.0</td>\n",
              "      <td>7642.703185</td>\n",
              "      <td>7795.311993</td>\n",
              "      <td>0.0</td>\n",
              "      <td>4133.0</td>\n",
              "      <td>5728.0</td>\n",
              "      <td>7420.0</td>\n",
              "      <td>82204.0</td>\n",
              "    </tr>\n",
              "    <tr>\n",
              "      <th>Trojan_SMS</th>\n",
              "      <td>1939.0</td>\n",
              "      <td>12803.104693</td>\n",
              "      <td>13837.083981</td>\n",
              "      <td>0.0</td>\n",
              "      <td>2128.0</td>\n",
              "      <td>4800.0</td>\n",
              "      <td>25154.0</td>\n",
              "      <td>47340.0</td>\n",
              "    </tr>\n",
              "    <tr>\n",
              "      <th>Trojan_Spy</th>\n",
              "      <td>2840.0</td>\n",
              "      <td>5639.791549</td>\n",
              "      <td>7769.751588</td>\n",
              "      <td>0.0</td>\n",
              "      <td>540.0</td>\n",
              "      <td>1262.0</td>\n",
              "      <td>7460.0</td>\n",
              "      <td>45588.0</td>\n",
              "    </tr>\n",
              "    <tr>\n",
              "      <th>Zero_Day</th>\n",
              "      <td>4475.0</td>\n",
              "      <td>13014.277542</td>\n",
              "      <td>12384.227548</td>\n",
              "      <td>0.0</td>\n",
              "      <td>4218.0</td>\n",
              "      <td>7032.0</td>\n",
              "      <td>20462.0</td>\n",
              "      <td>86184.0</td>\n",
              "    </tr>\n",
              "  </tbody>\n",
              "</table>\n",
              "</div>"
            ],
            "text/plain": [
              "                  count          mean           std   min      25%      50%  \\\n",
              "Category                                                                      \n",
              "Adware          10980.0  15741.613115  14063.508342   0.0   4436.0   8132.0   \n",
              "Backdoor         1137.0   8961.051891  10868.760200  68.0   3780.0   5060.0   \n",
              "FileInfector      248.0  16491.806452  15122.073528   0.0   4263.0   5834.0   \n",
              "No_Category      1932.0  13225.552795  13327.507898   0.0   3267.0   6536.0   \n",
              "PUA              1290.0   8119.677519  10475.622550   0.0   2265.0   3476.0   \n",
              "Ransomware       3411.0   5504.368220   5846.970870   0.0   2584.0   4844.0   \n",
              "Riskware        14053.0  14030.660215  12198.188924   0.0   4780.0   7636.0   \n",
              "Scareware         886.0  30622.988713  14283.361500   0.0  22470.0  38542.0   \n",
              "Trojan           8437.0  11913.528031  13163.803987   0.0   4128.0   5344.0   \n",
              "Trojan_Banker     241.0  12983.734440  13333.186653   0.0   3428.0   5716.0   \n",
              "Trojan_Dropper   1570.0   7642.703185   7795.311993   0.0   4133.0   5728.0   \n",
              "Trojan_SMS       1939.0  12803.104693  13837.083981   0.0   2128.0   4800.0   \n",
              "Trojan_Spy       2840.0   5639.791549   7769.751588   0.0    540.0   1262.0   \n",
              "Zero_Day         4475.0  13014.277542  12384.227548   0.0   4218.0   7032.0   \n",
              "\n",
              "                    75%       max  \n",
              "Category                           \n",
              "Adware          28520.0   56272.0  \n",
              "Backdoor         7740.0  102320.0  \n",
              "FileInfector    31208.0   44780.0  \n",
              "No_Category     22988.0   62708.0  \n",
              "PUA              7863.0  105164.0  \n",
              "Ransomware       6252.0   47020.0  \n",
              "Riskware        24012.0  106360.0  \n",
              "Scareware       40859.0   48364.0  \n",
              "Trojan          13972.0   78380.0  \n",
              "Trojan_Banker   22176.0   44360.0  \n",
              "Trojan_Dropper   7420.0   82204.0  \n",
              "Trojan_SMS      25154.0   47340.0  \n",
              "Trojan_Spy       7460.0   45588.0  \n",
              "Zero_Day        20462.0   86184.0  "
            ]
          },
          "execution_count": 40,
          "metadata": {},
          "output_type": "execute_result"
        }
      ],
      "source": [
        "default_pipeline.dataset.df.groupby('Category')['Memory_PssClean'].describe()"
      ]
    },
    {
      "cell_type": "markdown",
      "metadata": {},
      "source": [
        "## Summary Statistics Overview"
      ]
    },
    {
      "cell_type": "markdown",
      "metadata": {
        "id": "28_glozSPDm7"
      },
      "source": [
        "## Histograms\n"
      ]
    },
    {
      "cell_type": "code",
      "execution_count": null,
      "metadata": {
        "colab": {
          "base_uri": "https://localhost:8080/",
          "height": 1000
        },
        "id": "WVSB5cgoYRDr",
        "outputId": "6da84feb-1032-4185-b3e6-de73e05279df"
      },
      "outputs": [
        {
          "data": {
            "text/plain": [
              "'# Select only numerical features\\nnumerical_cols = dataset.df.select_dtypes(include=[np.number]).columns\\n\\n# Define number of rows and columns for subplots\\nnum_features = len(numerical_cols)\\ncols = 4  # Number of columns per row\\nrows = math.ceil(num_features / cols)  # Calculate required rows\\n\\n# Create subplots\\nfig, axes = plt.subplots(rows, cols, figsize=(16, rows * 4))\\naxes = axes.flatten()  # Flatten to easily iterate\\n\\n# Plot histograms\\nfor i, col in enumerate(numerical_cols):\\n    sns.histplot(df[col], bins=30, kde=True, ax=axes[i])  # kde=True for smooth curve\\n    axes[i].set_title(col)\\n\\n# Remove empty subplots\\nfor i in range(num_features, len(axes)):\\n    fig.delaxes(axes[i])\\n\\nplt.tight_layout()\\nplt.show()'"
            ]
          },
          "execution_count": 32,
          "metadata": {},
          "output_type": "execute_result"
        }
      ],
      "source": [
        "\"\"\"# Select only numerical features\n",
        "numerical_cols = dataset.df.select_dtypes(include=[np.number]).columns\n",
        "\n",
        "# Define number of rows and columns for subplots\n",
        "num_features = len(numerical_cols)\n",
        "cols = 4  # Number of columns per row\n",
        "rows = math.ceil(num_features / cols)  # Calculate required rows\n",
        "\n",
        "# Create subplots\n",
        "fig, axes = plt.subplots(rows, cols, figsize=(16, rows * 4))\n",
        "axes = axes.flatten()  # Flatten to easily iterate\n",
        "\n",
        "# Plot histograms\n",
        "for i, col in enumerate(numerical_cols):\n",
        "    sns.histplot(df[col], bins=30, kde=True, ax=axes[i])  # kde=True for smooth curve\n",
        "    axes[i].set_title(col)\n",
        "\n",
        "# Remove empty subplots\n",
        "for i in range(num_features, len(axes)):\n",
        "    fig.delaxes(axes[i])\n",
        "\n",
        "plt.tight_layout()\n",
        "plt.show()\"\"\""
      ]
    },
    {
      "cell_type": "markdown",
      "metadata": {},
      "source": [
        "We can see most distributions tend to be right-skewed and only a small portion follows a normal distribution. This right-skewness will be dealt in feature-engineering."
      ]
    },
    {
      "cell_type": "code",
      "execution_count": null,
      "metadata": {
        "colab": {
          "base_uri": "https://localhost:8080/",
          "height": 1000
        },
        "id": "YDO2OqktbPDN",
        "outputId": "59795112-1aaf-4e5d-99fb-999c1b58b662"
      },
      "outputs": [
        {
          "data": {
            "text/plain": [
              "'# Select only numerical features\\nnumerical_cols = dataset.df.select_dtypes(include=[np.number]).columns\\n\\n# Define number of rows and columns for subplots\\nnum_features = len(numerical_cols)\\ncols = 4  # Number of columns per row\\nrows = math.ceil(num_features / cols)  # Calculate required rows\\n\\n# Create subplots\\nfig, axes = plt.subplots(rows, cols, figsize=(16, rows * 4))\\naxes = axes.flatten()  # Flatten to easily iterate\\n\\n# Plot boxplots\\nfor i, col in enumerate(numerical_cols):\\n    sns.boxplot(x=dataset.df[col], ax=axes[i])  # Boxplot for each feature\\n    axes[i].set_title(col)\\n\\n# Remove empty subplots\\nfor i in range(num_features, len(axes)):\\n    fig.delaxes(axes[i])\\n\\nplt.tight_layout()\\nplt.show()'"
            ]
          },
          "execution_count": 33,
          "metadata": {},
          "output_type": "execute_result"
        }
      ],
      "source": [
        "\"\"\"# Select only numerical features\n",
        "numerical_cols = dataset.df.select_dtypes(include=[np.number]).columns\n",
        "\n",
        "# Define number of rows and columns for subplots\n",
        "num_features = len(numerical_cols)\n",
        "cols = 4  # Number of columns per row\n",
        "rows = math.ceil(num_features / cols)  # Calculate required rows\n",
        "\n",
        "# Create subplots\n",
        "fig, axes = plt.subplots(rows, cols, figsize=(16, rows * 4))\n",
        "axes = axes.flatten()  # Flatten to easily iterate\n",
        "\n",
        "# Plot boxplots\n",
        "for i, col in enumerate(numerical_cols):\n",
        "    sns.boxplot(x=dataset.df[col], ax=axes[i])  # Boxplot for each feature\n",
        "    axes[i].set_title(col)\n",
        "\n",
        "# Remove empty subplots\n",
        "for i in range(num_features, len(axes)):\n",
        "    fig.delaxes(axes[i])\n",
        "\n",
        "plt.tight_layout()\n",
        "plt.show()\"\"\""
      ]
    },
    {
      "cell_type": "markdown",
      "metadata": {
        "id": "LDW_CStuioNs"
      },
      "source": [
        "## Numerical Features"
      ]
    },
    {
      "cell_type": "markdown",
      "metadata": {
        "id": "EnC_-AYbitFA"
      },
      "source": [
        "Seemed to be grouped by prefixes: Memory, Network, Battery, Logcat, Process y API.\n",
        "\n",
        "According to dataset authors to capture how various malware families and categories behave at runtime, the analysis relies on six distinct sets of features obtained after executing each sample within a controlled emulated environment. These feature groups offer a comprehensive view of the malware's dynamic activity.\n",
        "\n",
        "This categories appear before the first _ in every feature label and are defined as:\n",
        "\n",
        "\n",
        "\"Memory: Memory features define activities performed by malware by utilizing memory.\n",
        "\n",
        "API: Application Programming Interface (API) features delineate the communication between two applications.\n",
        "\n",
        "Network: Network features describe the data transmitted and received between other devices in the network. It indicates foreground and background network usage.\n",
        "\n",
        "Battery: Battery features describe the access to battery wakelock and services by malware.\n",
        "\n",
        "Logcat: Logcat features write log messages corresponding to a function performed by malware.\n",
        "\n",
        "Process: Process features count the interaction of malware with total number of processes.\"\n",
        "\n"
      ]
    },
    {
      "cell_type": "code",
      "execution_count": null,
      "metadata": {
        "colab": {
          "base_uri": "https://localhost:8080/"
        },
        "id": "raKBvgK5ircs",
        "outputId": "6109fdf7-3a42-4496-a39b-f34bfe204c1b"
      },
      "outputs": [
        {
          "data": {
            "text/plain": [
              "'numeric_cols = dataset.df.select_dtypes(include=\\'number\\').columns\\n\\n# Grouping based on the first prefix before \"_\"\\nprefix_groups = defaultdict(list)\\n\\nfor col in numeric_cols:\\n    prefix = col.split(\"_\")[0]  # Get the first word before the underscore\\n    prefix_groups[prefix].append(col)\\n\\nfor prefix, columns in prefix_groups.items():\\n    print(f\"\\n {prefix} ({len(columns)} features):\")\\n    for col in columns:\\n        print(f\"  - {col}\")'"
            ]
          },
          "execution_count": 34,
          "metadata": {},
          "output_type": "execute_result"
        }
      ],
      "source": [
        "\"\"\"numeric_cols = dataset.df.select_dtypes(include='number').columns\n",
        "\n",
        "# Grouping based on the first prefix before \"_\"\n",
        "prefix_groups = defaultdict(list)\n",
        "\n",
        "for col in numeric_cols:\n",
        "    prefix = col.split(\"_\")[0]  # Get the first word before the underscore\n",
        "    prefix_groups[prefix].append(col)\n",
        "\n",
        "for prefix, columns in prefix_groups.items():\n",
        "    print(f\"\\n {prefix} ({len(columns)} features):\")\n",
        "    for col in columns:\n",
        "        print(f\"  - {col}\")\"\"\""
      ]
    },
    {
      "cell_type": "markdown",
      "metadata": {
        "id": "Uv7LWIIU5X5i"
      },
      "source": [
        "## Categorical Features"
      ]
    },
    {
      "cell_type": "code",
      "execution_count": null,
      "metadata": {
        "colab": {
          "base_uri": "https://localhost:8080/",
          "height": 175
        },
        "id": "gA-v2L6x5ImZ",
        "outputId": "e7b19c28-c316-4b5a-eec7-90ee38c6dd0b"
      },
      "outputs": [
        {
          "data": {
            "text/plain": [
              "'#Statistical summary for categorical features\\ndataset.df.describe(include=[\"object\", \"category\", \"bool\"])'"
            ]
          },
          "execution_count": 35,
          "metadata": {},
          "output_type": "execute_result"
        }
      ],
      "source": [
        "\"\"\"#Statistical summary for categorical features\n",
        "dataset.df.describe(include=[\"object\", \"category\", \"bool\"])\"\"\""
      ]
    },
    {
      "cell_type": "code",
      "execution_count": null,
      "metadata": {
        "colab": {
          "base_uri": "https://localhost:8080/"
        },
        "id": "qJbNriVFrRYE",
        "outputId": "2935f3d0-a88b-4bd4-8b98-f4c76a641092"
      },
      "outputs": [
        {
          "data": {
            "text/plain": [
              "\"print(dataset.df[['Hash', 'Category', 'Family']].head())\""
            ]
          },
          "execution_count": 36,
          "metadata": {},
          "output_type": "execute_result"
        }
      ],
      "source": [
        "\"\"\"print(dataset.df[['Hash', 'Category', 'Family']].head())\"\"\""
      ]
    },
    {
      "cell_type": "markdown",
      "metadata": {
        "id": "BBWBDyuc4q47"
      },
      "source": [
        "Hash: unique identifier that represents each malware sample. <<<>>>THIS IS PROBABLY WRONG<<<>>>\n",
        "\n",
        "Category: general classification of the malware sample based on its behavior.\n",
        "\n",
        "Family: more fine-grained grouping of malware based on its codebase or origin"
      ]
    },
    {
      "cell_type": "markdown",
      "metadata": {
        "id": "DC5leffBsW5W"
      },
      "source": [
        "For hash, it will first be checked if the same malware before and after reboot contains the same hash value."
      ]
    },
    {
      "cell_type": "code",
      "execution_count": null,
      "metadata": {
        "colab": {
          "base_uri": "https://localhost:8080/"
        },
        "id": "_ep2R1vwzRyy",
        "outputId": "3048de1d-c0cd-437d-9044-68a3ed1c3fc3"
      },
      "outputs": [
        {
          "data": {
            "text/plain": [
              "'# Count how many times each hash appears in \\'before\\' and \\'after\\'\\nhash_reboot_counts =dataset.df.groupby([\\'Hash\\', \\'reboot\\']).size().unstack(fill_value=0)\\n\\n# Hashes in both with exactly one in each\\nhashes_with_one_each = hash_reboot_counts[\\n    (hash_reboot_counts[\\'before\\'] == 1) & (hash_reboot_counts[\\'after\\'] == 1)\\n].index\\n\\n# Hashes in both but with extra rows\\nhashes_in_both_but_not_clean = hash_reboot_counts[\\n    (hash_reboot_counts[\\'before\\'] > 0) &\\n    (hash_reboot_counts[\\'after\\'] > 0) &\\n    ~((hash_reboot_counts[\\'before\\'] == 1) & (hash_reboot_counts[\\'after\\'] == 1))\\n].index\\n\\n# Total unique hashes\\ntotal_unique_hashes = dataset.df[\\'Hash\\'].nunique()\\n\\n# Hashes in only one reboot condition\\nhashes_in_one_condition = hash_reboot_counts[\\n    (hash_reboot_counts[\\'before\\'] == 0) | (hash_reboot_counts[\\'after\\'] == 0)\\n]\\n\\n# Only once in one reboot condition\\nonly_once_in_one = hashes_in_one_condition[\\n    (hashes_in_one_condition[\\'before\\'] == 1) | (hashes_in_one_condition[\\'after\\'] == 1)\\n]\\n\\n# More than once in one reboot condition\\nmore_than_once_in_one = hashes_in_one_condition[\\n    ((hashes_in_one_condition[\\'before\\'] > 1) & (hashes_in_one_condition[\\'after\\'] == 0)) |\\n    ((hashes_in_one_condition[\\'after\\'] > 1) & (hashes_in_one_condition[\\'before\\'] == 0))\\n]\\n\\n# Split those into counts\\nmore_than_once_in_before = more_than_once_in_one[more_than_once_in_one[\\'before\\'] > 1]\\nmore_than_once_in_after = more_than_once_in_one[more_than_once_in_one[\\'after\\'] > 1]\\n\\n# --- PRINT RESULTS ---\\nprint(f\"Hashes with EXACTLY one row in BOTH before and after: {len(hashes_with_one_each)}\")\\nprint(f\"Hashes in BOTH, BUT with extra rows: {len(hashes_in_both_but_not_clean)}\")\\n\\nprint(f\"\\nHashes in ONLY ONE reboot condition:\")\\nprint(f\"• Appearing ONLY ONCE: {len(only_once_in_one)}\")\\nprint(f\"• Appearing MORE THAN ONCE: {len(more_than_once_in_one)}\")\\nprint(f\"   - More than once in BEFORE: {len(more_than_once_in_before)}\")\\nprint(f\"   - More than once in AFTER: {len(more_than_once_in_after)}\")\\n\\nprint(f\"\\nTotal breakdown:\")\\nprint(f\"• In BOTH (any): {len(hashes_with_one_each) + len(hashes_in_both_but_not_clean)}\")\\nprint(f\"• In ONLY ONE reboot: {len(hashes_in_one_condition)}\")\\nprint(f\"• TOTAL unique hashes: {total_unique_hashes}\")\\n'"
            ]
          },
          "execution_count": 37,
          "metadata": {},
          "output_type": "execute_result"
        }
      ],
      "source": [
        "\"\"\"# Count how many times each hash appears in 'before' and 'after'\n",
        "hash_reboot_counts =dataset.df.groupby(['Hash', 'reboot']).size().unstack(fill_value=0)\n",
        "\n",
        "# Hashes in both with exactly one in each\n",
        "hashes_with_one_each = hash_reboot_counts[\n",
        "    (hash_reboot_counts['before'] == 1) & (hash_reboot_counts['after'] == 1)\n",
        "].index\n",
        "\n",
        "# Hashes in both but with extra rows\n",
        "hashes_in_both_but_not_clean = hash_reboot_counts[\n",
        "    (hash_reboot_counts['before'] > 0) &\n",
        "    (hash_reboot_counts['after'] > 0) &\n",
        "    ~((hash_reboot_counts['before'] == 1) & (hash_reboot_counts['after'] == 1))\n",
        "].index\n",
        "\n",
        "# Total unique hashes\n",
        "total_unique_hashes = dataset.df['Hash'].nunique()\n",
        "\n",
        "# Hashes in only one reboot condition\n",
        "hashes_in_one_condition = hash_reboot_counts[\n",
        "    (hash_reboot_counts['before'] == 0) | (hash_reboot_counts['after'] == 0)\n",
        "]\n",
        "\n",
        "# Only once in one reboot condition\n",
        "only_once_in_one = hashes_in_one_condition[\n",
        "    (hashes_in_one_condition['before'] == 1) | (hashes_in_one_condition['after'] == 1)\n",
        "]\n",
        "\n",
        "# More than once in one reboot condition\n",
        "more_than_once_in_one = hashes_in_one_condition[\n",
        "    ((hashes_in_one_condition['before'] > 1) & (hashes_in_one_condition['after'] == 0)) |\n",
        "    ((hashes_in_one_condition['after'] > 1) & (hashes_in_one_condition['before'] == 0))\n",
        "]\n",
        "\n",
        "# Split those into counts\n",
        "more_than_once_in_before = more_than_once_in_one[more_than_once_in_one['before'] > 1]\n",
        "more_than_once_in_after = more_than_once_in_one[more_than_once_in_one['after'] > 1]\n",
        "\n",
        "# --- PRINT RESULTS ---\n",
        "print(f\"Hashes with EXACTLY one row in BOTH before and after: {len(hashes_with_one_each)}\")\n",
        "print(f\"Hashes in BOTH, BUT with extra rows: {len(hashes_in_both_but_not_clean)}\")\n",
        "\n",
        "print(f\"\\nHashes in ONLY ONE reboot condition:\")\n",
        "print(f\"• Appearing ONLY ONCE: {len(only_once_in_one)}\")\n",
        "print(f\"• Appearing MORE THAN ONCE: {len(more_than_once_in_one)}\")\n",
        "print(f\"   - More than once in BEFORE: {len(more_than_once_in_before)}\")\n",
        "print(f\"   - More than once in AFTER: {len(more_than_once_in_after)}\")\n",
        "\n",
        "print(f\"\\nTotal breakdown:\")\n",
        "print(f\"• In BOTH (any): {len(hashes_with_one_each) + len(hashes_in_both_but_not_clean)}\")\n",
        "print(f\"• In ONLY ONE reboot: {len(hashes_in_one_condition)}\")\n",
        "print(f\"• TOTAL unique hashes: {total_unique_hashes}\")\n",
        "\"\"\""
      ]
    },
    {
      "cell_type": "markdown",
      "metadata": {
        "id": "i2IGnd2izsOY"
      },
      "source": [
        "A total of 19,169 hashes appear exactly once in both before and after conditions. These are highly reliable for paired  comparisons, ideal for understanding how reboot affects malware behavior.\n",
        "\n",
        "\n",
        "There are 158 hashes that appear in both reboot states but not exactly once in each. These extra instances may come from inconsistencies in data capture like multiple logs for the same sample and should be checked.\n",
        "\n",
        "A significant portion of samples appear only in one reboot condition. This is consistent with limitations described in the original dataset paper, where some malware samples failed to execute after the reboot. However, what is curious is that some still have been logged more than once.\n"
      ]
    },
    {
      "cell_type": "code",
      "execution_count": null,
      "metadata": {
        "colab": {
          "base_uri": "https://localhost:8080/",
          "height": 89
        },
        "id": "NzJxov9LLOGu",
        "outputId": "a0691e50-f676-4ef2-e150-166b1e96a5ff"
      },
      "outputs": [
        {
          "data": {
            "text/plain": [
              "\"dataset.df.drop(columns=['Hash'], inplace=True)\\n'''\\nThe Hash column is a high-cardinality feature, containing unique values for a high number of rows in the dataset.\\nIt serves as an identifier for each malware sample. Including this column in modeling\\nwould not only offer no predictive value but could also lead to overfitting or cause issues with algorithms that are\\nsensitive to high-cardinality categorical features.\\n <<<>>> J.N: may be better to focus the argumentation on ID not being useful rather than high-cardinality per se. Also write the \\n  argumentation in a text cell not in this type of comments. <<<>>>\\n'''\""
            ]
          },
          "execution_count": 38,
          "metadata": {},
          "output_type": "execute_result"
        }
      ],
      "source": [
        "\"\"\"dataset.df.drop(columns=['Hash'], inplace=True)\n",
        "'''\n",
        "The Hash column is a high-cardinality feature, containing unique values for a high number of rows in the dataset.\n",
        "It serves as an identifier for each malware sample. Including this column in modeling\n",
        "would not only offer no predictive value but could also lead to overfitting or cause issues with algorithms that are\n",
        "sensitive to high-cardinality categorical features.\n",
        " <<<>>> J.N: may be better to focus the argumentation on ID not being useful rather than high-cardinality per se. Also write the \n",
        "  argumentation in a text cell not in this type of comments. <<<>>>\n",
        "'''\"\"\""
      ]
    },
    {
      "cell_type": "markdown",
      "metadata": {
        "id": "1kZUupRE1vx5"
      },
      "source": [
        "This research will be using both Category and Family as the target variables for classification."
      ]
    },
    {
      "cell_type": "markdown",
      "metadata": {
        "id": "eaHsU58AdvlN"
      },
      "source": [
        "## Reboot Analysis"
      ]
    },
    {
      "cell_type": "code",
      "execution_count": null,
      "metadata": {
        "colab": {
          "base_uri": "https://localhost:8080/"
        },
        "id": "5ymeBe4fKdNi",
        "outputId": "ce478b18-ff6a-4720-f19c-e5ecabfbbbbb"
      },
      "outputs": [
        {
          "data": {
            "text/plain": [
              "'print(dataset.df[\"reboot\"].value_counts())'"
            ]
          },
          "execution_count": 39,
          "metadata": {},
          "output_type": "execute_result"
        }
      ],
      "source": [
        "\"\"\"print(dataset.df[\"reboot\"].value_counts())\"\"\""
      ]
    },
    {
      "cell_type": "markdown",
      "metadata": {
        "id": "BV8hkdL2SHVe"
      },
      "source": [
        "The imbalance observed in the dataset, with 28,380 samples collected before reboot and only 25,059 after reboot, is explained by limitations found during the dynamic analysis. The authors of the dataset note that \"there was no entry point in some Android malware samples and some Android malware samples stopped abruptly.\" This means that certain malware applications either failed to launch or terminated unexpectedly during execution, preventing the collection of dynamic behavior data, particularly after the reboot phase.\n",
        "\n",
        "Additionally, the study highlights another critical limitation: \"the dynamic analysis is performed in an emulator. Some malware samples are able to detect the emulated environment and are not executed.\" This behavior reflects common anti-analysis techniques used by sophisticated malware, which can detect when they are running in a sandbox or emulator and intentionally suspend their malicious actions.\n",
        "\n",
        "\n"
      ]
    },
    {
      "cell_type": "markdown",
      "metadata": {},
      "source": [
        "<<<>>>THIS ANALYSIS IS SUPER GOOD (you can delete this comment)<<<>>>"
      ]
    },
    {
      "cell_type": "markdown",
      "metadata": {
        "id": "YuIT6CKgeqcZ"
      },
      "source": [
        "The displayed features are the top 10  most affected by reboot showing a clear reboot-sensitive behavior."
      ]
    },
    {
      "cell_type": "code",
      "execution_count": null,
      "metadata": {
        "colab": {
          "base_uri": "https://localhost:8080/",
          "height": 627
        },
        "id": "i9p8S9woa19A",
        "outputId": "7c14fef2-103d-40a4-85e0-50c138fdb448"
      },
      "outputs": [
        {
          "data": {
            "text/plain": [
              "'#Category distribution across reboot\\nplt.figure(figsize=(12, 6))\\nsns.countplot(data=dataset.df, x=\\'Category\\', hue=\\'reboot\\')\\nplt.title(\"Malware Categories by Reboot Condition\")\\nplt.xticks(rotation=45)\\nplt.tight_layout()\\nplt.show()'"
            ]
          },
          "execution_count": 40,
          "metadata": {},
          "output_type": "execute_result"
        }
      ],
      "source": [
        "\"\"\"#Category distribution across reboot\n",
        "plt.figure(figsize=(12, 6))\n",
        "sns.countplot(data=dataset.df, x='Category', hue='reboot')\n",
        "plt.title(\"Malware Categories by Reboot Condition\")\n",
        "plt.xticks(rotation=45)\n",
        "plt.tight_layout()\n",
        "plt.show()\"\"\"\n"
      ]
    },
    {
      "cell_type": "markdown",
      "metadata": {
        "id": "pWwaTM_JeoWk"
      },
      "source": [
        "To identify which numeric features are most influenced by the reboot condition, the dataset will be grouped by the reboot variable, separating entries collected before and after the device reboot. Within each group, the mean of every numeric feature will be computed, allowing for the comparison of average behavior across both states.\n",
        "\n",
        "A new column labeled 'diff' was then added, representing the difference between the mean values after and before the reboot for each feature. A positive value indicates that the feature increased after reboot, while a negative value shows it decreased."
      ]
    },
    {
      "cell_type": "code",
      "execution_count": null,
      "metadata": {
        "colab": {
          "base_uri": "https://localhost:8080/",
          "height": 363
        },
        "id": "jG1RQO7AcIWG",
        "outputId": "00489ed7-d243-4fae-d577-849381abbca2"
      },
      "outputs": [
        {
          "data": {
            "text/plain": [
              "\"reboot_means = dataset.df.groupby('reboot').mean(numeric_only=True).T\\nreboot_means['diff'] = reboot_means['after'] - reboot_means['before']\\nreboot_means_sorted = reboot_means.sort_values(by='diff', ascending=False)\\n\\nreboot_means_sorted.head(10)\""
            ]
          },
          "execution_count": 41,
          "metadata": {},
          "output_type": "execute_result"
        }
      ],
      "source": [
        "\"\"\"reboot_means = dataset.df.groupby('reboot').mean(numeric_only=True).T\n",
        "reboot_means['diff'] = reboot_means['after'] - reboot_means['before']\n",
        "reboot_means_sorted = reboot_means.sort_values(by='diff', ascending=False)\n",
        "\n",
        "reboot_means_sorted.head(10)\"\"\""
      ]
    },
    {
      "cell_type": "markdown",
      "metadata": {
        "id": "-7cm_Z81fWqq"
      },
      "source": [
        "The results reveal that several features show clear shifts after reboot. Specially, network-related features such as Network_TotalReceivedBytes and Network_TotalTransmittedBytes demonstrate significant increases, suggesting that some malware types intensify data transmission once the device has rebooted. Memory features like Memory_SharedClean, Memory_HeapSize, and Memory_HeapAlloc also show increased values after reboot, indicating greater memory use or altered memory management after reboot.\n",
        "This shows that the reboot condition plays an important role in runtime behavior and should be treated as an important factor in exploratory analysis and modeling."
      ]
    },
    {
      "cell_type": "markdown",
      "metadata": {},
      "source": [
        "## Family"
      ]
    },
    {
      "cell_type": "code",
      "execution_count": null,
      "metadata": {},
      "outputs": [
        {
          "data": {
            "text/plain": [
              "'#How many categories each family belongs to\\ndataset.df.groupby(\"Family\")[\"Category\"].nunique().sort_values(ascending=False)'"
            ]
          },
          "execution_count": 42,
          "metadata": {},
          "output_type": "execute_result"
        }
      ],
      "source": [
        "\"\"\"#How many categories each family belongs to\n",
        "dataset.df.groupby(\"Family\")[\"Category\"].nunique().sort_values(ascending=False)\"\"\""
      ]
    },
    {
      "cell_type": "markdown",
      "metadata": {},
      "source": [
        "Almost every family is either unknown or unique\n"
      ]
    },
    {
      "cell_type": "code",
      "execution_count": null,
      "metadata": {},
      "outputs": [],
      "source": [
        "# <<<Error: NameError: name 'family_to_category' is not defined>>> (this Irina's code; copied from Argentinan guy's notebook)\n",
        "# multi_cat_families = family_to_category[family_to_category > 1]\n",
        "# print(f\"Number of families mapping to multiple categories: {len(multi_cat_families)}\")\n",
        "# print(multi_cat_families)"
      ]
    },
    {
      "cell_type": "markdown",
      "metadata": {},
      "source": [
        "There is only one Family that maps to multiple categories, and is the placeholder unknown.\n",
        "\n",
        "The following code displays how many samples with unknown family labels belong to each malware category."
      ]
    },
    {
      "cell_type": "code",
      "execution_count": null,
      "metadata": {},
      "outputs": [
        {
          "data": {
            "text/plain": [
              "'dataset.df[dataset.df[\"Family\"] == \"<unknown>\"][\"Category\"].value_counts()'"
            ]
          },
          "execution_count": 44,
          "metadata": {},
          "output_type": "execute_result"
        }
      ],
      "source": [
        "\"\"\"dataset.df[dataset.df[\"Family\"] == \"<unknown>\"][\"Category\"].value_counts()\"\"\""
      ]
    },
    {
      "cell_type": "code",
      "execution_count": null,
      "metadata": {},
      "outputs": [
        {
          "data": {
            "text/plain": [
              "'# Step 1: Count unique families per category\\nfamily_amount = dataset.df.groupby(\"Category\")[\"Family\"].nunique()\\n\\n# Step 2: Total number of instances per category\\ntotal_per_category = dataset.df[\"Category\"].value_counts()\\n\\n# Step 3: Count how many of those are <unknown> per category\\nunknown_amount = dataset.df[dataset.df[\"Family\"] == \"<unknown>\"][\"Category\"].value_counts()\\n\\n# Step 4: Combine all stats into a summary table\\nsummary_df = pd.DataFrame({\\n    \"Family_amount\": family_amount,\\n    \"Total_category\": total_per_category,\\n    \"Unknown_amount\": unknown_amount\\n}).fillna(0).astype({\"Unknown_amount\": int})\\n\\n# Step 5: Calculate percentage of unknowns per category\\nsummary_df[\"%_Unknown\"] = (summary_df[\"Unknown_amount\"] / summary_df[\"Total_category\"] * 100).round(2)\\n\\n# Reorder columns for readability\\nsummary_df = summary_df[[\"Family_amount\", \"Total_category\", \"Unknown_amount\", \"%_Unknown\"]]\\n\\n# Display the summary\\nprint(summary_df)'"
            ]
          },
          "execution_count": 45,
          "metadata": {},
          "output_type": "execute_result"
        }
      ],
      "source": [
        "\"\"\"# Step 1: Count unique families per category\n",
        "family_amount = dataset.df.groupby(\"Category\")[\"Family\"].nunique()\n",
        "\n",
        "# Step 2: Total number of instances per category\n",
        "total_per_category = dataset.df[\"Category\"].value_counts()\n",
        "\n",
        "# Step 3: Count how many of those are <unknown> per category\n",
        "unknown_amount = dataset.df[dataset.df[\"Family\"] == \"<unknown>\"][\"Category\"].value_counts()\n",
        "\n",
        "# Step 4: Combine all stats into a summary table\n",
        "summary_df = pd.DataFrame({\n",
        "    \"Family_amount\": family_amount,\n",
        "    \"Total_category\": total_per_category,\n",
        "    \"Unknown_amount\": unknown_amount\n",
        "}).fillna(0).astype({\"Unknown_amount\": int})\n",
        "\n",
        "# Step 5: Calculate percentage of unknowns per category\n",
        "summary_df[\"%_Unknown\"] = (summary_df[\"Unknown_amount\"] / summary_df[\"Total_category\"] * 100).round(2)\n",
        "\n",
        "# Reorder columns for readability\n",
        "summary_df = summary_df[[\"Family_amount\", \"Total_category\", \"Unknown_amount\", \"%_Unknown\"]]\n",
        "\n",
        "# Display the summary\n",
        "print(summary_df)\"\"\""
      ]
    },
    {
      "cell_type": "code",
      "execution_count": null,
      "metadata": {},
      "outputs": [
        {
          "data": {
            "text/plain": [
              "'unknown_count = (dataset.df[\"Family\"] == \"<unknown>\").sum()\\nprint(f\"Number of rows with Family == \\'<unknown>\\': {unknown_count}\")'"
            ]
          },
          "execution_count": 46,
          "metadata": {},
          "output_type": "execute_result"
        }
      ],
      "source": [
        "\"\"\"unknown_count = (dataset.df[\"Family\"] == \"<unknown>\").sum()\n",
        "print(f\"Number of rows with Family == '<unknown>': {unknown_count}\")\"\"\"\n"
      ]
    },
    {
      "cell_type": "markdown",
      "metadata": {},
      "source": [
        "Based on the analysis of family distribution across categories:\n",
        "\n",
        "The Adware category stands out with zero instances labeled as <unknown> and a balanced distribution across 43 families. This makes it a strong candidate for modeling.\n",
        "\n",
        "In contrast, Zero_Day and No_Category The categories Zero_Day and No_Category exhibit extremely high family dispersion, with 2576 and 335 unique families. These values are significantly higher than all other categories, which generally have fewer than 50 families each.\n",
        "\n",
        "\n",
        "This suggests they function more as placeholder labels. In particular, Zero_Day likely serves as a catch-all label for unknown or uncategorized threats, making it ambiguous. In cybersecurity, this term is refered to a new unknown vulnerability, not yet classified in terms of malware behavior, this is why samples are varied. They do not seem to represent a consistent type. On the other hand, No_Category explicitly denotes a lack of category. So, including these instances would only bring noise to the training process, preventing the model from learning meaningful patterns.\n",
        "Therefore, they are excluded from the final dataset to preserve the quality and consistency of the classification task.\n",
        "\n",
        "\n",
        "Additionally, categories like FileInfector show a high percentage of <unknown> families (6.85%) despite having a small total count, raising concerns about label quality. Most other categories maintain a relatively stable level of unknowns (around 3–5%), indicating that the presence of <unknown> is manageable."
      ]
    },
    {
      "cell_type": "markdown",
      "metadata": {},
      "source": [
        "<hr>"
      ]
    },
    {
      "cell_type": "markdown",
      "metadata": {},
      "source": [
        "# 2. DATA SPLITTING\n",
        "### TO BE DONE\n",
        "- Statistical analysis of this\n",
        "- Make sure they follow the same distributions"
      ]
    },
    {
      "cell_type": "markdown",
      "metadata": {},
      "source": [
        "### Data Splitting: Category as target variable\n",
        "Originally, we will focus only on category\n",
        "\n",
        "Lets first get the X and y extracted from our dataset"
      ]
    },
    {
      "cell_type": "markdown",
      "metadata": {},
      "source": [
        "Also object!\n",
        "Lets get back to the splitting!"
      ]
    },
    {
      "cell_type": "markdown",
      "metadata": {},
      "source": [
        "Before, we split the dataset lets observe the SE of accuracy variation based on our choice of split. \n",
        "Brief explanation: we can model accuracy via a Binomial distribution. We know each event in a binomial distribution can be modelled through a bernoulli distribution, where the outcome represents the probability predicting the correct class or not. We make the assumption that each classification error is independent from each other. For:\n",
        "$$\n",
        "\\text{Bin} \\sim (n, p)\n",
        "$$\n",
        " let us assume that the parameter of this distribution is p = .85 and n is given by the choice of sample split for the test set. The SE of the sample proportion can be modeled via: \n",
        "$$\n",
        "\\text{SE}_{\\hat{p}} = \\sqrt{\\frac{p(1 - p)}{n}}\n",
        "\n",
        "$$"
      ]
    },
    {
      "cell_type": "markdown",
      "metadata": {},
      "source": [
        "Before we continue to assess all possible choices of split based on a variant n, also note that that choice of evenly distributed split (e.g: 10% for each hold-out set) between hold-out sets is arbitrary. Proper choice is that which guarantees an equivalent distribution at each hold-out sets, which may not neccesarily be the equivalent split. This brings a new choice of tradeoff between certainity of prediction accuracy (higher test size, smaller validaiton set) but possibly less space for proper hyperparemter optimization or the inverse (higher validation size, smaller set set). As with other tradeoffs, the priority for a given option is rooted in the model's application (which may come derived from a client/employer). For our case, we dont favor either option of the tradeoof, thus we will keep the even hold-out distribution.\n",
        "\n",
        "Finally, also note that that choice of evenly distributed split between hold-out sets is arbitrary. Proper choice is that which guarantees an equivalent distribution at each hold-out sets, which may not neccesarily be the equivalent split. This brings a new choice of tradeoff between certainity of prediction accuracy (higher test size, smaller validaiton set) but possibly less space for proper hyperparemter optimization or the inverse (higher validation size, smaller set set). As with other tradeoffs, the priority for a given option is rooted in the model's application (which may come derived from a client/employer). For our case, we dont favor either option of the tradeoof, thus we will keep the even hold-out distribution.\n"
      ]
    },
    {
      "cell_type": "code",
      "execution_count": null,
      "metadata": {},
      "outputs": [
        {
          "name": "stderr",
          "output_type": "stream",
          "text": [
            "c:\\Users\\Cate\\OneDrive - IE University\\CSAI 4\\ML\\Final Project ML\\FInal project ML\\library\\phases\\dataset\\split\\strategies\\noTimeSeries.py:112: RuntimeWarning: divide by zero encountered in scalar divide\n",
            "  differenceToPriorSE_percentage = (currentSE - priorSE) /  priorSE\n"
          ]
        },
        {
          "data": {
            "image/png": "[encoded data removed]",
            "text/plain": [
              "<Figure size 640x480 with 2 Axes>"
            ]
          },
          "metadata": {},
          "output_type": "display_data"
        },
        {
          "data": {
            "text/html": [
              "<div>\n",
              "<style scoped>\n",
              "    .dataframe tbody tr th:only-of-type {\n",
              "        vertical-align: middle;\n",
              "    }\n",
              "\n",
              "    .dataframe tbody tr th {\n",
              "        vertical-align: top;\n",
              "    }\n",
              "\n",
              "    .dataframe thead th {\n",
              "        text-align: right;\n",
              "    }\n",
              "</style>\n",
              "<table border=\"1\" class=\"dataframe\">\n",
              "  <thead>\n",
              "    <tr style=\"text-align: right;\">\n",
              "      <th></th>\n",
              "      <th>train_size (%)</th>\n",
              "      <th>train_size_count</th>\n",
              "      <th>validation_size (%)</th>\n",
              "      <th>validation_size_count</th>\n",
              "      <th>test_size (%)</th>\n",
              "      <th>test_size_coount</th>\n",
              "      <th>currentSE</th>\n",
              "      <th>differenceToPriorSE</th>\n",
              "      <th>differenceToPriorSE (%)</th>\n",
              "    </tr>\n",
              "  </thead>\n",
              "  <tbody>\n",
              "    <tr>\n",
              "      <th>0</th>\n",
              "      <td>0.95</td>\n",
              "      <td>50767.0</td>\n",
              "      <td>0.025</td>\n",
              "      <td>1336.0</td>\n",
              "      <td>0.025</td>\n",
              "      <td>1336.0</td>\n",
              "      <td>0.009769</td>\n",
              "      <td>0.009769</td>\n",
              "      <td>inf</td>\n",
              "    </tr>\n",
              "    <tr>\n",
              "      <th>1</th>\n",
              "      <td>0.90</td>\n",
              "      <td>48095.0</td>\n",
              "      <td>0.050</td>\n",
              "      <td>2672.0</td>\n",
              "      <td>0.050</td>\n",
              "      <td>2672.0</td>\n",
              "      <td>0.006908</td>\n",
              "      <td>-0.002861</td>\n",
              "      <td>-0.292893</td>\n",
              "    </tr>\n",
              "    <tr>\n",
              "      <th>2</th>\n",
              "      <td>0.85</td>\n",
              "      <td>45423.0</td>\n",
              "      <td>0.075</td>\n",
              "      <td>4008.0</td>\n",
              "      <td>0.075</td>\n",
              "      <td>4008.0</td>\n",
              "      <td>0.005640</td>\n",
              "      <td>-0.001268</td>\n",
              "      <td>-0.183503</td>\n",
              "    </tr>\n",
              "    <tr>\n",
              "      <th>3</th>\n",
              "      <td>0.80</td>\n",
              "      <td>42751.0</td>\n",
              "      <td>0.100</td>\n",
              "      <td>5344.0</td>\n",
              "      <td>0.100</td>\n",
              "      <td>5344.0</td>\n",
              "      <td>0.004885</td>\n",
              "      <td>-0.000756</td>\n",
              "      <td>-0.133975</td>\n",
              "    </tr>\n",
              "    <tr>\n",
              "      <th>4</th>\n",
              "      <td>0.75</td>\n",
              "      <td>40079.0</td>\n",
              "      <td>0.125</td>\n",
              "      <td>6680.0</td>\n",
              "      <td>0.125</td>\n",
              "      <td>6680.0</td>\n",
              "      <td>0.004369</td>\n",
              "      <td>-0.000516</td>\n",
              "      <td>-0.105573</td>\n",
              "    </tr>\n",
              "    <tr>\n",
              "      <th>5</th>\n",
              "      <td>0.70</td>\n",
              "      <td>37407.0</td>\n",
              "      <td>0.150</td>\n",
              "      <td>8016.0</td>\n",
              "      <td>0.150</td>\n",
              "      <td>8016.0</td>\n",
              "      <td>0.003988</td>\n",
              "      <td>-0.000381</td>\n",
              "      <td>-0.087129</td>\n",
              "    </tr>\n",
              "    <tr>\n",
              "      <th>6</th>\n",
              "      <td>0.65</td>\n",
              "      <td>34735.0</td>\n",
              "      <td>0.175</td>\n",
              "      <td>9352.0</td>\n",
              "      <td>0.175</td>\n",
              "      <td>9352.0</td>\n",
              "      <td>0.003692</td>\n",
              "      <td>-0.000296</td>\n",
              "      <td>-0.074180</td>\n",
              "    </tr>\n",
              "    <tr>\n",
              "      <th>7</th>\n",
              "      <td>0.60</td>\n",
              "      <td>32063.0</td>\n",
              "      <td>0.200</td>\n",
              "      <td>10688.0</td>\n",
              "      <td>0.200</td>\n",
              "      <td>10688.0</td>\n",
              "      <td>0.003454</td>\n",
              "      <td>-0.000238</td>\n",
              "      <td>-0.064586</td>\n",
              "    </tr>\n",
              "    <tr>\n",
              "      <th>8</th>\n",
              "      <td>0.55</td>\n",
              "      <td>29391.0</td>\n",
              "      <td>0.225</td>\n",
              "      <td>12024.0</td>\n",
              "      <td>0.225</td>\n",
              "      <td>12024.0</td>\n",
              "      <td>0.003256</td>\n",
              "      <td>-0.000198</td>\n",
              "      <td>-0.057191</td>\n",
              "    </tr>\n",
              "    <tr>\n",
              "      <th>9</th>\n",
              "      <td>0.50</td>\n",
              "      <td>26720.0</td>\n",
              "      <td>0.250</td>\n",
              "      <td>13360.0</td>\n",
              "      <td>0.250</td>\n",
              "      <td>13360.0</td>\n",
              "      <td>0.003089</td>\n",
              "      <td>-0.000167</td>\n",
              "      <td>-0.051317</td>\n",
              "    </tr>\n",
              "  </tbody>\n",
              "</table>\n",
              "</div>"
            ],
            "text/plain": [
              "   train_size (%)  train_size_count  validation_size (%)  \\\n",
              "0            0.95           50767.0                0.025   \n",
              "1            0.90           48095.0                0.050   \n",
              "2            0.85           45423.0                0.075   \n",
              "3            0.80           42751.0                0.100   \n",
              "4            0.75           40079.0                0.125   \n",
              "5            0.70           37407.0                0.150   \n",
              "6            0.65           34735.0                0.175   \n",
              "7            0.60           32063.0                0.200   \n",
              "8            0.55           29391.0                0.225   \n",
              "9            0.50           26720.0                0.250   \n",
              "\n",
              "   validation_size_count  test_size (%)  test_size_coount  currentSE  \\\n",
              "0                 1336.0          0.025            1336.0   0.009769   \n",
              "1                 2672.0          0.050            2672.0   0.006908   \n",
              "2                 4008.0          0.075            4008.0   0.005640   \n",
              "3                 5344.0          0.100            5344.0   0.004885   \n",
              "4                 6680.0          0.125            6680.0   0.004369   \n",
              "5                 8016.0          0.150            8016.0   0.003988   \n",
              "6                 9352.0          0.175            9352.0   0.003692   \n",
              "7                10688.0          0.200           10688.0   0.003454   \n",
              "8                12024.0          0.225           12024.0   0.003256   \n",
              "9                13360.0          0.250           13360.0   0.003089   \n",
              "\n",
              "   differenceToPriorSE  differenceToPriorSE (%)  \n",
              "0             0.009769                      inf  \n",
              "1            -0.002861                -0.292893  \n",
              "2            -0.001268                -0.183503  \n",
              "3            -0.000756                -0.133975  \n",
              "4            -0.000516                -0.105573  \n",
              "5            -0.000381                -0.087129  \n",
              "6            -0.000296                -0.074180  \n",
              "7            -0.000238                -0.064586  \n",
              "8            -0.000198                -0.057191  \n",
              "9            -0.000167                -0.051317  "
            ]
          },
          "execution_count": 47,
          "metadata": {},
          "output_type": "execute_result"
        }
      ],
      "source": [
        "default_pipeline.dataset.split.asses_split_classifier(p=.85, step=.05, plot=True)"
      ]
    },
    {
      "cell_type": "markdown",
      "metadata": {},
      "source": [
        "[We can see a diminishing-returns class graph](https://en.wikipedia.org/wiki/Knee_of_a_curve). The more we decline the training set percentage the slower and more steadier the current SE varies as well as the difference to prior SE, in percentage. We can see that the knee in the curve is between 80 and 90 training set percentage. This represents the area where when you start going below the lower bound, no **significant** improve appears. Given the fact that our criteria for choice of split percentage is to keep as much training possible while increasing hold-out sets size only if the decrease in SE is significant **we are going to select 80% for the training set**."
      ]
    },
    {
      "cell_type": "code",
      "execution_count": null,
      "metadata": {},
      "outputs": [],
      "source": [
        "default_pipeline.dataset.split.split_data(y_column=\"Category\",\n",
        "                                   train_size=.8, \n",
        "                                   validation_size=.1,\n",
        "                                   test_size=.1, \n",
        "                                   plot_distribution=False)"
      ]
    },
    {
      "cell_type": "code",
      "execution_count": null,
      "metadata": {},
      "outputs": [
        {
          "data": {
            "text/plain": [
              "((42751, 142), (5344, 142), (5344, 142), (42751,), (5344,), (5344,))"
            ]
          },
          "execution_count": 49,
          "metadata": {},
          "output_type": "execute_result"
        }
      ],
      "source": [
        "default_pipeline.dataset.X_train.shape, default_pipeline.dataset.X_val.shape, default_pipeline.dataset.X_test.shape, default_pipeline.dataset.y_train.shape, default_pipeline.dataset.y_val.shape, default_pipeline.dataset.y_test.shape"
      ]
    },
    {
      "cell_type": "markdown",
      "metadata": {},
      "source": [
        "<hr>"
      ]
    },
    {
      "cell_type": "markdown",
      "metadata": {},
      "source": [
        "# 3. DATA PREPROCESSING"
      ]
    },
    {
      "cell_type": "markdown",
      "metadata": {},
      "source": [
        "### Feature Scaling"
      ]
    },
    {
      "cell_type": "markdown",
      "metadata": {},
      "source": [
        "We will work only with the training set to avoid data leakage."
      ]
    },
    {
      "cell_type": "code",
      "execution_count": null,
      "metadata": {},
      "outputs": [],
      "source": [
        "#dataset.X_train"
      ]
    },
    {
      "cell_type": "markdown",
      "metadata": {},
      "source": [
        "We eliminate the field `Reboot_before` since it is boolean."
      ]
    },
    {
      "cell_type": "code",
      "execution_count": null,
      "metadata": {},
      "outputs": [],
      "source": [
        "# preprocessor.remove_reboot_column()\n",
        "# preprocessor.X_train_without_reboot"
      ]
    },
    {
      "cell_type": "code",
      "execution_count": null,
      "metadata": {},
      "outputs": [],
      "source": [
        "# preprocessor.X_train_without_reboot.describe().T[['min', 'max']]"
      ]
    },
    {
      "cell_type": "markdown",
      "metadata": {},
      "source": [
        "Secondly, we're gonna check for kurtosis and skewness. If skewness is high we might need to consider standardizing."
      ]
    },
    {
      "cell_type": "code",
      "execution_count": null,
      "metadata": {},
      "outputs": [],
      "source": [
        "# print(f\"\\nSkewness:\\n----------------\\n{preprocessor.X_train_without_reboot.skew()}\")\n",
        "# print(f\"\\nKurtosis:\\n----------------\\n{preprocessor.X_train_without_reboot.kurt()}\")"
      ]
    },
    {
      "cell_type": "markdown",
      "metadata": {},
      "source": [
        "Since there is a very large number of fields, we need to avoid looking at the distribution and information about each feature. For this, we decided to create an automation that decides the appropriate scaling method -if necessary- for each feature.\n",
        "\n",
        "This function `determine_scaling_method` takes into account outlier detection and skewness and based on that it decides to use a **robust scaler**, **normalize** or **none**.\n",
        "\n",
        "**Note**: we use robust scaler rather than a standard scaler because robust scales with the median and IQR, which is less sensitive to outliers than standardizing is -computed with $\\mu$ and $\\sigma$. It will turn the median to 0 and turn the values in a field in values between -1 and 1 with some outliers."
      ]
    },
    {
      "cell_type": "markdown",
      "metadata": {},
      "source": [
        "Normalization Formula:\n",
        " \n",
        "\n",
        "Robust Scaler Formula:\n",
        " \n",
        "Where:\n",
        "\n",
        "IQR (Interquartile Range) = Q3 - Q1"
      ]
    },
    {
      "cell_type": "code",
      "execution_count": null,
      "metadata": {},
      "outputs": [],
      "source": [
        "# preprocessor.prepare_scaling()"
      ]
    },
    {
      "cell_type": "code",
      "execution_count": null,
      "metadata": {},
      "outputs": [],
      "source": [
        "# X_train_scaled = preprocessor.apply_scaling()\n",
        "\n",
        "# \"\\nRobust complete! The training data is now ready for modeling.\""
      ]
    },
    {
      "cell_type": "code",
      "execution_count": null,
      "metadata": {},
      "outputs": [],
      "source": [
        "# X_train_scaled"
      ]
    },
    {
      "cell_type": "markdown",
      "metadata": {},
      "source": [
        "The histograms show how `RobustScaler` compresses extreme values and brings the bulk of the data closer to a common scale. Despite the presence of outliers, the core distribution becomes more uniform and comparable across features — ideal for many ML models."
      ]
    },
    {
      "cell_type": "markdown",
      "metadata": {},
      "source": [
        "This section below shall be properly written. It is set now for early debugging"
      ]
    },
    {
      "cell_type": "markdown",
      "metadata": {},
      "source": [
        "## !> Pipeline example\n",
        "Let us show an example of the pipeline divergence. We will create a divergence for the baseline pipeline. We will exempt it from being scaled. This specific example is not meant to be kept, but rather show the purpose of the corresponding functions."
      ]
    },
    {
      "cell_type": "code",
      "execution_count": null,
      "metadata": {},
      "outputs": [],
      "source": [
        "baseline_pipeline = pipeline_manager.create_pipeline_divergence(category=\"baseline\", pipelineName=\"logistic\")"
      ]
    },
    {
      "cell_type": "code",
      "execution_count": null,
      "metadata": {},
      "outputs": [
        {
          "data": {
            "text/html": [
              "<div>\n",
              "<style scoped>\n",
              "    .dataframe tbody tr th:only-of-type {\n",
              "        vertical-align: middle;\n",
              "    }\n",
              "\n",
              "    .dataframe tbody tr th {\n",
              "        vertical-align: top;\n",
              "    }\n",
              "\n",
              "    .dataframe thead th {\n",
              "        text-align: right;\n",
              "    }\n",
              "</style>\n",
              "<table border=\"1\" class=\"dataframe\">\n",
              "  <thead>\n",
              "    <tr style=\"text-align: right;\">\n",
              "      <th></th>\n",
              "      <th>Memory_PssTotal</th>\n",
              "      <th>Memory_PssClean</th>\n",
              "      <th>Memory_SharedDirty</th>\n",
              "      <th>Memory_PrivateDirty</th>\n",
              "      <th>Memory_SharedClean</th>\n",
              "      <th>Memory_PrivateClean</th>\n",
              "      <th>Memory_SwapPssDirty</th>\n",
              "      <th>Memory_HeapSize</th>\n",
              "      <th>Memory_HeapAlloc</th>\n",
              "      <th>Memory_HeapFree</th>\n",
              "      <th>...</th>\n",
              "      <th>Network_TotalTransmittedPackets</th>\n",
              "      <th>Battery_wakelock</th>\n",
              "      <th>Battery_service</th>\n",
              "      <th>Logcat_info</th>\n",
              "      <th>Logcat_error</th>\n",
              "      <th>Logcat_warning</th>\n",
              "      <th>Logcat_debug</th>\n",
              "      <th>Logcat_verbose</th>\n",
              "      <th>Logcat_total</th>\n",
              "      <th>Process_total</th>\n",
              "    </tr>\n",
              "  </thead>\n",
              "  <tbody>\n",
              "    <tr>\n",
              "      <th>count</th>\n",
              "      <td>42751.000000</td>\n",
              "      <td>42751.000000</td>\n",
              "      <td>42751.000000</td>\n",
              "      <td>42751.000000</td>\n",
              "      <td>42751.000000</td>\n",
              "      <td>42751.000000</td>\n",
              "      <td>42751.0</td>\n",
              "      <td>42751.000000</td>\n",
              "      <td>42751.000000</td>\n",
              "      <td>42751.000000</td>\n",
              "      <td>...</td>\n",
              "      <td>42751.000000</td>\n",
              "      <td>42751.000000</td>\n",
              "      <td>42751.000000</td>\n",
              "      <td>42751.000000</td>\n",
              "      <td>4.275100e+04</td>\n",
              "      <td>42751.000000</td>\n",
              "      <td>42751.000000</td>\n",
              "      <td>42751.000000</td>\n",
              "      <td>4.275100e+04</td>\n",
              "      <td>42751.000000</td>\n",
              "    </tr>\n",
              "    <tr>\n",
              "      <th>mean</th>\n",
              "      <td>70944.886272</td>\n",
              "      <td>12764.341700</td>\n",
              "      <td>10844.857898</td>\n",
              "      <td>47646.187738</td>\n",
              "      <td>88029.087694</td>\n",
              "      <td>14333.172277</td>\n",
              "      <td>0.0</td>\n",
              "      <td>22278.685996</td>\n",
              "      <td>17539.452434</td>\n",
              "      <td>4738.241304</td>\n",
              "      <td>...</td>\n",
              "      <td>466.232720</td>\n",
              "      <td>3.396201</td>\n",
              "      <td>0.723235</td>\n",
              "      <td>2337.759865</td>\n",
              "      <td>2.370012e+03</td>\n",
              "      <td>2296.848963</td>\n",
              "      <td>2300.166686</td>\n",
              "      <td>2300.399780</td>\n",
              "      <td>1.160519e+04</td>\n",
              "      <td>190.169821</td>\n",
              "    </tr>\n",
              "    <tr>\n",
              "      <th>std</th>\n",
              "      <td>36266.506343</td>\n",
              "      <td>12900.070827</td>\n",
              "      <td>999.033790</td>\n",
              "      <td>29793.858149</td>\n",
              "      <td>15871.265926</td>\n",
              "      <td>13468.721351</td>\n",
              "      <td>0.0</td>\n",
              "      <td>12570.621975</td>\n",
              "      <td>10519.885159</td>\n",
              "      <td>2939.327428</td>\n",
              "      <td>...</td>\n",
              "      <td>3644.649287</td>\n",
              "      <td>1.518657</td>\n",
              "      <td>0.981457</td>\n",
              "      <td>2203.232434</td>\n",
              "      <td>1.038044e+04</td>\n",
              "      <td>2273.580562</td>\n",
              "      <td>2031.749201</td>\n",
              "      <td>1976.428885</td>\n",
              "      <td>1.101732e+04</td>\n",
              "      <td>2.896415</td>\n",
              "    </tr>\n",
              "    <tr>\n",
              "      <th>min</th>\n",
              "      <td>4808.000000</td>\n",
              "      <td>0.000000</td>\n",
              "      <td>7036.000000</td>\n",
              "      <td>12.000000</td>\n",
              "      <td>4268.000000</td>\n",
              "      <td>0.000000</td>\n",
              "      <td>0.0</td>\n",
              "      <td>5113.000000</td>\n",
              "      <td>3249.000000</td>\n",
              "      <td>1012.000000</td>\n",
              "      <td>...</td>\n",
              "      <td>0.000000</td>\n",
              "      <td>0.000000</td>\n",
              "      <td>0.000000</td>\n",
              "      <td>6.000000</td>\n",
              "      <td>4.000000e+01</td>\n",
              "      <td>36.000000</td>\n",
              "      <td>45.000000</td>\n",
              "      <td>33.000000</td>\n",
              "      <td>3.121000e+03</td>\n",
              "      <td>172.000000</td>\n",
              "    </tr>\n",
              "    <tr>\n",
              "      <th>25%</th>\n",
              "      <td>46185.000000</td>\n",
              "      <td>3972.000000</td>\n",
              "      <td>10540.000000</td>\n",
              "      <td>31992.000000</td>\n",
              "      <td>76716.000000</td>\n",
              "      <td>4984.000000</td>\n",
              "      <td>0.0</td>\n",
              "      <td>13486.500000</td>\n",
              "      <td>10670.000000</td>\n",
              "      <td>2994.000000</td>\n",
              "      <td>...</td>\n",
              "      <td>0.000000</td>\n",
              "      <td>2.000000</td>\n",
              "      <td>0.000000</td>\n",
              "      <td>1159.000000</td>\n",
              "      <td>1.098000e+03</td>\n",
              "      <td>1107.000000</td>\n",
              "      <td>1100.000000</td>\n",
              "      <td>1135.000000</td>\n",
              "      <td>9.422000e+03</td>\n",
              "      <td>188.000000</td>\n",
              "    </tr>\n",
              "    <tr>\n",
              "      <th>50%</th>\n",
              "      <td>61243.000000</td>\n",
              "      <td>6356.000000</td>\n",
              "      <td>10732.000000</td>\n",
              "      <td>41444.000000</td>\n",
              "      <td>89584.000000</td>\n",
              "      <td>8180.000000</td>\n",
              "      <td>0.0</td>\n",
              "      <td>20447.000000</td>\n",
              "      <td>16560.000000</td>\n",
              "      <td>4070.000000</td>\n",
              "      <td>...</td>\n",
              "      <td>21.000000</td>\n",
              "      <td>3.000000</td>\n",
              "      <td>0.000000</td>\n",
              "      <td>2043.000000</td>\n",
              "      <td>2.020000e+03</td>\n",
              "      <td>2000.000000</td>\n",
              "      <td>2015.000000</td>\n",
              "      <td>2004.000000</td>\n",
              "      <td>1.097700e+04</td>\n",
              "      <td>190.000000</td>\n",
              "    </tr>\n",
              "    <tr>\n",
              "      <th>75%</th>\n",
              "      <td>91785.000000</td>\n",
              "      <td>20048.000000</td>\n",
              "      <td>11144.000000</td>\n",
              "      <td>55338.000000</td>\n",
              "      <td>99092.000000</td>\n",
              "      <td>21740.000000</td>\n",
              "      <td>0.0</td>\n",
              "      <td>28743.500000</td>\n",
              "      <td>22846.500000</td>\n",
              "      <td>5838.000000</td>\n",
              "      <td>...</td>\n",
              "      <td>124.500000</td>\n",
              "      <td>4.000000</td>\n",
              "      <td>1.000000</td>\n",
              "      <td>3054.000000</td>\n",
              "      <td>3.028000e+03</td>\n",
              "      <td>3027.000000</td>\n",
              "      <td>3026.000000</td>\n",
              "      <td>3037.000000</td>\n",
              "      <td>1.299250e+04</td>\n",
              "      <td>192.000000</td>\n",
              "    </tr>\n",
              "    <tr>\n",
              "      <th>max</th>\n",
              "      <td>819456.000000</td>\n",
              "      <td>106360.000000</td>\n",
              "      <td>40416.000000</td>\n",
              "      <td>809032.000000</td>\n",
              "      <td>183600.000000</td>\n",
              "      <td>110336.000000</td>\n",
              "      <td>0.0</td>\n",
              "      <td>310155.000000</td>\n",
              "      <td>286959.000000</td>\n",
              "      <td>88630.000000</td>\n",
              "      <td>...</td>\n",
              "      <td>85873.000000</td>\n",
              "      <td>12.000000</td>\n",
              "      <td>10.000000</td>\n",
              "      <td>219143.000000</td>\n",
              "      <td>2.066046e+06</td>\n",
              "      <td>142010.000000</td>\n",
              "      <td>89456.000000</td>\n",
              "      <td>102860.000000</td>\n",
              "      <td>2.067038e+06</td>\n",
              "      <td>221.000000</td>\n",
              "    </tr>\n",
              "  </tbody>\n",
              "</table>\n",
              "<p>8 rows × 141 columns</p>\n",
              "</div>"
            ],
            "text/plain": [
              "       Memory_PssTotal  Memory_PssClean  Memory_SharedDirty  \\\n",
              "count     42751.000000     42751.000000        42751.000000   \n",
              "mean      70944.886272     12764.341700        10844.857898   \n",
              "std       36266.506343     12900.070827          999.033790   \n",
              "min        4808.000000         0.000000         7036.000000   \n",
              "25%       46185.000000      3972.000000        10540.000000   \n",
              "50%       61243.000000      6356.000000        10732.000000   \n",
              "75%       91785.000000     20048.000000        11144.000000   \n",
              "max      819456.000000    106360.000000        40416.000000   \n",
              "\n",
              "       Memory_PrivateDirty  Memory_SharedClean  Memory_PrivateClean  \\\n",
              "count         42751.000000        42751.000000         42751.000000   \n",
              "mean          47646.187738        88029.087694         14333.172277   \n",
              "std           29793.858149        15871.265926         13468.721351   \n",
              "min              12.000000         4268.000000             0.000000   \n",
              "25%           31992.000000        76716.000000          4984.000000   \n",
              "50%           41444.000000        89584.000000          8180.000000   \n",
              "75%           55338.000000        99092.000000         21740.000000   \n",
              "max          809032.000000       183600.000000        110336.000000   \n",
              "\n",
              "       Memory_SwapPssDirty  Memory_HeapSize  Memory_HeapAlloc  \\\n",
              "count              42751.0     42751.000000      42751.000000   \n",
              "mean                   0.0     22278.685996      17539.452434   \n",
              "std                    0.0     12570.621975      10519.885159   \n",
              "min                    0.0      5113.000000       3249.000000   \n",
              "25%                    0.0     13486.500000      10670.000000   \n",
              "50%                    0.0     20447.000000      16560.000000   \n",
              "75%                    0.0     28743.500000      22846.500000   \n",
              "max                    0.0    310155.000000     286959.000000   \n",
              "\n",
              "       Memory_HeapFree  ...  Network_TotalTransmittedPackets  \\\n",
              "count     42751.000000  ...                     42751.000000   \n",
              "mean       4738.241304  ...                       466.232720   \n",
              "std        2939.327428  ...                      3644.649287   \n",
              "min        1012.000000  ...                         0.000000   \n",
              "25%        2994.000000  ...                         0.000000   \n",
              "50%        4070.000000  ...                        21.000000   \n",
              "75%        5838.000000  ...                       124.500000   \n",
              "max       88630.000000  ...                     85873.000000   \n",
              "\n",
              "       Battery_wakelock  Battery_service    Logcat_info  Logcat_error  \\\n",
              "count      42751.000000     42751.000000   42751.000000  4.275100e+04   \n",
              "mean           3.396201         0.723235    2337.759865  2.370012e+03   \n",
              "std            1.518657         0.981457    2203.232434  1.038044e+04   \n",
              "min            0.000000         0.000000       6.000000  4.000000e+01   \n",
              "25%            2.000000         0.000000    1159.000000  1.098000e+03   \n",
              "50%            3.000000         0.000000    2043.000000  2.020000e+03   \n",
              "75%            4.000000         1.000000    3054.000000  3.028000e+03   \n",
              "max           12.000000        10.000000  219143.000000  2.066046e+06   \n",
              "\n",
              "       Logcat_warning  Logcat_debug  Logcat_verbose  Logcat_total  \\\n",
              "count    42751.000000  42751.000000    42751.000000  4.275100e+04   \n",
              "mean      2296.848963   2300.166686     2300.399780  1.160519e+04   \n",
              "std       2273.580562   2031.749201     1976.428885  1.101732e+04   \n",
              "min         36.000000     45.000000       33.000000  3.121000e+03   \n",
              "25%       1107.000000   1100.000000     1135.000000  9.422000e+03   \n",
              "50%       2000.000000   2015.000000     2004.000000  1.097700e+04   \n",
              "75%       3027.000000   3026.000000     3037.000000  1.299250e+04   \n",
              "max     142010.000000  89456.000000   102860.000000  2.067038e+06   \n",
              "\n",
              "       Process_total  \n",
              "count   42751.000000  \n",
              "mean      190.169821  \n",
              "std         2.896415  \n",
              "min       172.000000  \n",
              "25%       188.000000  \n",
              "50%       190.000000  \n",
              "75%       192.000000  \n",
              "max       221.000000  \n",
              "\n",
              "[8 rows x 141 columns]"
            ]
          },
          "execution_count": 58,
          "metadata": {},
          "output_type": "execute_result"
        }
      ],
      "source": [
        "default_pipeline.dataset.X_train.describe()"
      ]
    },
    {
      "cell_type": "code",
      "execution_count": null,
      "metadata": {},
      "outputs": [],
      "source": [
        "default_pipeline.preprocessing.scale_features(scaler=\"robust\",\n",
        "                                      columnsToScale=default_pipeline.dataset.X_train.select_dtypes(include=[\"number\"]).columns)"
      ]
    },
    {
      "cell_type": "code",
      "execution_count": null,
      "metadata": {},
      "outputs": [
        {
          "data": {
            "text/html": [
              "<div>\n",
              "<style scoped>\n",
              "    .dataframe tbody tr th:only-of-type {\n",
              "        vertical-align: middle;\n",
              "    }\n",
              "\n",
              "    .dataframe tbody tr th {\n",
              "        vertical-align: top;\n",
              "    }\n",
              "\n",
              "    .dataframe thead th {\n",
              "        text-align: right;\n",
              "    }\n",
              "</style>\n",
              "<table border=\"1\" class=\"dataframe\">\n",
              "  <thead>\n",
              "    <tr style=\"text-align: right;\">\n",
              "      <th></th>\n",
              "      <th>Memory_PssTotal</th>\n",
              "      <th>Memory_PssClean</th>\n",
              "      <th>Memory_SharedDirty</th>\n",
              "      <th>Memory_PrivateDirty</th>\n",
              "      <th>Memory_SharedClean</th>\n",
              "      <th>Memory_PrivateClean</th>\n",
              "      <th>Memory_SwapPssDirty</th>\n",
              "      <th>Memory_HeapSize</th>\n",
              "      <th>Memory_HeapAlloc</th>\n",
              "      <th>Memory_HeapFree</th>\n",
              "      <th>...</th>\n",
              "      <th>Network_TotalTransmittedPackets</th>\n",
              "      <th>Battery_wakelock</th>\n",
              "      <th>Battery_service</th>\n",
              "      <th>Logcat_info</th>\n",
              "      <th>Logcat_error</th>\n",
              "      <th>Logcat_warning</th>\n",
              "      <th>Logcat_debug</th>\n",
              "      <th>Logcat_verbose</th>\n",
              "      <th>Logcat_total</th>\n",
              "      <th>Process_total</th>\n",
              "    </tr>\n",
              "  </thead>\n",
              "  <tbody>\n",
              "    <tr>\n",
              "      <th>count</th>\n",
              "      <td>42751.000000</td>\n",
              "      <td>42751.000000</td>\n",
              "      <td>42751.000000</td>\n",
              "      <td>42751.000000</td>\n",
              "      <td>42751.000000</td>\n",
              "      <td>42751.000000</td>\n",
              "      <td>42751.0</td>\n",
              "      <td>42751.000000</td>\n",
              "      <td>42751.000000</td>\n",
              "      <td>42751.000000</td>\n",
              "      <td>...</td>\n",
              "      <td>42751.000000</td>\n",
              "      <td>42751.000000</td>\n",
              "      <td>42751.000000</td>\n",
              "      <td>42751.000000</td>\n",
              "      <td>42751.000000</td>\n",
              "      <td>42751.000000</td>\n",
              "      <td>42751.000000</td>\n",
              "      <td>42751.000000</td>\n",
              "      <td>42751.000000</td>\n",
              "      <td>42751.000000</td>\n",
              "    </tr>\n",
              "    <tr>\n",
              "      <th>mean</th>\n",
              "      <td>0.212761</td>\n",
              "      <td>0.398628</td>\n",
              "      <td>0.186851</td>\n",
              "      <td>0.265664</td>\n",
              "      <td>-0.069490</td>\n",
              "      <td>0.367222</td>\n",
              "      <td>0.0</td>\n",
              "      <td>0.120055</td>\n",
              "      <td>0.080438</td>\n",
              "      <td>0.234965</td>\n",
              "      <td>...</td>\n",
              "      <td>3.576166</td>\n",
              "      <td>0.198101</td>\n",
              "      <td>0.723235</td>\n",
              "      <td>0.155546</td>\n",
              "      <td>0.181353</td>\n",
              "      <td>0.154609</td>\n",
              "      <td>0.148062</td>\n",
              "      <td>0.155836</td>\n",
              "      <td>0.175938</td>\n",
              "      <td>0.042455</td>\n",
              "    </tr>\n",
              "    <tr>\n",
              "      <th>std</th>\n",
              "      <td>0.795318</td>\n",
              "      <td>0.802443</td>\n",
              "      <td>1.654029</td>\n",
              "      <td>1.276187</td>\n",
              "      <td>0.709299</td>\n",
              "      <td>0.803815</td>\n",
              "      <td>0.0</td>\n",
              "      <td>0.823925</td>\n",
              "      <td>0.863950</td>\n",
              "      <td>1.033519</td>\n",
              "      <td>...</td>\n",
              "      <td>29.274291</td>\n",
              "      <td>0.759329</td>\n",
              "      <td>0.981457</td>\n",
              "      <td>1.162656</td>\n",
              "      <td>5.378467</td>\n",
              "      <td>1.184157</td>\n",
              "      <td>1.054906</td>\n",
              "      <td>1.039132</td>\n",
              "      <td>3.085652</td>\n",
              "      <td>0.724104</td>\n",
              "    </tr>\n",
              "    <tr>\n",
              "      <th>min</th>\n",
              "      <td>-1.237610</td>\n",
              "      <td>-0.395372</td>\n",
              "      <td>-6.119205</td>\n",
              "      <td>-1.774694</td>\n",
              "      <td>-3.812835</td>\n",
              "      <td>-0.488183</td>\n",
              "      <td>0.0</td>\n",
              "      <td>-1.005047</td>\n",
              "      <td>-1.093171</td>\n",
              "      <td>-1.075246</td>\n",
              "      <td>...</td>\n",
              "      <td>-0.168675</td>\n",
              "      <td>-1.500000</td>\n",
              "      <td>0.000000</td>\n",
              "      <td>-1.074934</td>\n",
              "      <td>-1.025907</td>\n",
              "      <td>-1.022917</td>\n",
              "      <td>-1.022845</td>\n",
              "      <td>-1.036278</td>\n",
              "      <td>-2.200252</td>\n",
              "      <td>-4.500000</td>\n",
              "    </tr>\n",
              "    <tr>\n",
              "      <th>25%</th>\n",
              "      <td>-0.330219</td>\n",
              "      <td>-0.148296</td>\n",
              "      <td>-0.317881</td>\n",
              "      <td>-0.404866</td>\n",
              "      <td>-0.575080</td>\n",
              "      <td>-0.190738</td>\n",
              "      <td>0.0</td>\n",
              "      <td>-0.456217</td>\n",
              "      <td>-0.483719</td>\n",
              "      <td>-0.378340</td>\n",
              "      <td>...</td>\n",
              "      <td>-0.168675</td>\n",
              "      <td>-0.500000</td>\n",
              "      <td>0.000000</td>\n",
              "      <td>-0.466491</td>\n",
              "      <td>-0.477720</td>\n",
              "      <td>-0.465104</td>\n",
              "      <td>-0.475078</td>\n",
              "      <td>-0.456887</td>\n",
              "      <td>-0.435513</td>\n",
              "      <td>-0.500000</td>\n",
              "    </tr>\n",
              "    <tr>\n",
              "      <th>50%</th>\n",
              "      <td>0.000000</td>\n",
              "      <td>0.000000</td>\n",
              "      <td>0.000000</td>\n",
              "      <td>0.000000</td>\n",
              "      <td>0.000000</td>\n",
              "      <td>0.000000</td>\n",
              "      <td>0.0</td>\n",
              "      <td>0.000000</td>\n",
              "      <td>0.000000</td>\n",
              "      <td>0.000000</td>\n",
              "      <td>...</td>\n",
              "      <td>0.000000</td>\n",
              "      <td>0.000000</td>\n",
              "      <td>0.000000</td>\n",
              "      <td>0.000000</td>\n",
              "      <td>0.000000</td>\n",
              "      <td>0.000000</td>\n",
              "      <td>0.000000</td>\n",
              "      <td>0.000000</td>\n",
              "      <td>0.000000</td>\n",
              "      <td>0.000000</td>\n",
              "    </tr>\n",
              "    <tr>\n",
              "      <th>75%</th>\n",
              "      <td>0.669781</td>\n",
              "      <td>0.851704</td>\n",
              "      <td>0.682119</td>\n",
              "      <td>0.595134</td>\n",
              "      <td>0.424920</td>\n",
              "      <td>0.809262</td>\n",
              "      <td>0.0</td>\n",
              "      <td>0.543783</td>\n",
              "      <td>0.516281</td>\n",
              "      <td>0.621660</td>\n",
              "      <td>...</td>\n",
              "      <td>0.831325</td>\n",
              "      <td>0.500000</td>\n",
              "      <td>1.000000</td>\n",
              "      <td>0.533509</td>\n",
              "      <td>0.522280</td>\n",
              "      <td>0.534896</td>\n",
              "      <td>0.524922</td>\n",
              "      <td>0.543113</td>\n",
              "      <td>0.564487</td>\n",
              "      <td>0.500000</td>\n",
              "    </tr>\n",
              "    <tr>\n",
              "      <th>max</th>\n",
              "      <td>16.627478</td>\n",
              "      <td>6.220702</td>\n",
              "      <td>49.145695</td>\n",
              "      <td>32.878780</td>\n",
              "      <td>4.201645</td>\n",
              "      <td>6.096682</td>\n",
              "      <td>0.0</td>\n",
              "      <td>18.988530</td>\n",
              "      <td>22.206628</td>\n",
              "      <td>29.732771</td>\n",
              "      <td>...</td>\n",
              "      <td>689.574297</td>\n",
              "      <td>4.500000</td>\n",
              "      <td>10.000000</td>\n",
              "      <td>114.564644</td>\n",
              "      <td>1069.443523</td>\n",
              "      <td>72.921875</td>\n",
              "      <td>45.400312</td>\n",
              "      <td>53.026288</td>\n",
              "      <td>575.846800</td>\n",
              "      <td>7.750000</td>\n",
              "    </tr>\n",
              "  </tbody>\n",
              "</table>\n",
              "<p>8 rows × 141 columns</p>\n",
              "</div>"
            ],
            "text/plain": [
              "       Memory_PssTotal  Memory_PssClean  Memory_SharedDirty  \\\n",
              "count     42751.000000     42751.000000        42751.000000   \n",
              "mean          0.212761         0.398628            0.186851   \n",
              "std           0.795318         0.802443            1.654029   \n",
              "min          -1.237610        -0.395372           -6.119205   \n",
              "25%          -0.330219        -0.148296           -0.317881   \n",
              "50%           0.000000         0.000000            0.000000   \n",
              "75%           0.669781         0.851704            0.682119   \n",
              "max          16.627478         6.220702           49.145695   \n",
              "\n",
              "       Memory_PrivateDirty  Memory_SharedClean  Memory_PrivateClean  \\\n",
              "count         42751.000000        42751.000000         42751.000000   \n",
              "mean              0.265664           -0.069490             0.367222   \n",
              "std               1.276187            0.709299             0.803815   \n",
              "min              -1.774694           -3.812835            -0.488183   \n",
              "25%              -0.404866           -0.575080            -0.190738   \n",
              "50%               0.000000            0.000000             0.000000   \n",
              "75%               0.595134            0.424920             0.809262   \n",
              "max              32.878780            4.201645             6.096682   \n",
              "\n",
              "       Memory_SwapPssDirty  Memory_HeapSize  Memory_HeapAlloc  \\\n",
              "count              42751.0     42751.000000      42751.000000   \n",
              "mean                   0.0         0.120055          0.080438   \n",
              "std                    0.0         0.823925          0.863950   \n",
              "min                    0.0        -1.005047         -1.093171   \n",
              "25%                    0.0        -0.456217         -0.483719   \n",
              "50%                    0.0         0.000000          0.000000   \n",
              "75%                    0.0         0.543783          0.516281   \n",
              "max                    0.0        18.988530         22.206628   \n",
              "\n",
              "       Memory_HeapFree  ...  Network_TotalTransmittedPackets  \\\n",
              "count     42751.000000  ...                     42751.000000   \n",
              "mean          0.234965  ...                         3.576166   \n",
              "std           1.033519  ...                        29.274291   \n",
              "min          -1.075246  ...                        -0.168675   \n",
              "25%          -0.378340  ...                        -0.168675   \n",
              "50%           0.000000  ...                         0.000000   \n",
              "75%           0.621660  ...                         0.831325   \n",
              "max          29.732771  ...                       689.574297   \n",
              "\n",
              "       Battery_wakelock  Battery_service   Logcat_info  Logcat_error  \\\n",
              "count      42751.000000     42751.000000  42751.000000  42751.000000   \n",
              "mean           0.198101         0.723235      0.155546      0.181353   \n",
              "std            0.759329         0.981457      1.162656      5.378467   \n",
              "min           -1.500000         0.000000     -1.074934     -1.025907   \n",
              "25%           -0.500000         0.000000     -0.466491     -0.477720   \n",
              "50%            0.000000         0.000000      0.000000      0.000000   \n",
              "75%            0.500000         1.000000      0.533509      0.522280   \n",
              "max            4.500000        10.000000    114.564644   1069.443523   \n",
              "\n",
              "       Logcat_warning  Logcat_debug  Logcat_verbose  Logcat_total  \\\n",
              "count    42751.000000  42751.000000    42751.000000  42751.000000   \n",
              "mean         0.154609      0.148062        0.155836      0.175938   \n",
              "std          1.184157      1.054906        1.039132      3.085652   \n",
              "min         -1.022917     -1.022845       -1.036278     -2.200252   \n",
              "25%         -0.465104     -0.475078       -0.456887     -0.435513   \n",
              "50%          0.000000      0.000000        0.000000      0.000000   \n",
              "75%          0.534896      0.524922        0.543113      0.564487   \n",
              "max         72.921875     45.400312       53.026288    575.846800   \n",
              "\n",
              "       Process_total  \n",
              "count   42751.000000  \n",
              "mean        0.042455  \n",
              "std         0.724104  \n",
              "min        -4.500000  \n",
              "25%        -0.500000  \n",
              "50%         0.000000  \n",
              "75%         0.500000  \n",
              "max         7.750000  \n",
              "\n",
              "[8 rows x 141 columns]"
            ]
          },
          "execution_count": 60,
          "metadata": {},
          "output_type": "execute_result"
        }
      ],
      "source": [
        "default_pipeline.dataset.X_train.describe()"
      ]
    },
    {
      "cell_type": "code",
      "execution_count": null,
      "metadata": {},
      "outputs": [
        {
          "data": {
            "text/html": [
              "<div>\n",
              "<style scoped>\n",
              "    .dataframe tbody tr th:only-of-type {\n",
              "        vertical-align: middle;\n",
              "    }\n",
              "\n",
              "    .dataframe tbody tr th {\n",
              "        vertical-align: top;\n",
              "    }\n",
              "\n",
              "    .dataframe thead th {\n",
              "        text-align: right;\n",
              "    }\n",
              "</style>\n",
              "<table border=\"1\" class=\"dataframe\">\n",
              "  <thead>\n",
              "    <tr style=\"text-align: right;\">\n",
              "      <th></th>\n",
              "      <th>Memory_PssTotal</th>\n",
              "      <th>Memory_PssClean</th>\n",
              "      <th>Memory_SharedDirty</th>\n",
              "      <th>Memory_PrivateDirty</th>\n",
              "      <th>Memory_SharedClean</th>\n",
              "      <th>Memory_PrivateClean</th>\n",
              "      <th>Memory_SwapPssDirty</th>\n",
              "      <th>Memory_HeapSize</th>\n",
              "      <th>Memory_HeapAlloc</th>\n",
              "      <th>Memory_HeapFree</th>\n",
              "      <th>...</th>\n",
              "      <th>Network_TotalTransmittedPackets</th>\n",
              "      <th>Battery_wakelock</th>\n",
              "      <th>Battery_service</th>\n",
              "      <th>Logcat_info</th>\n",
              "      <th>Logcat_error</th>\n",
              "      <th>Logcat_warning</th>\n",
              "      <th>Logcat_debug</th>\n",
              "      <th>Logcat_verbose</th>\n",
              "      <th>Logcat_total</th>\n",
              "      <th>Process_total</th>\n",
              "    </tr>\n",
              "  </thead>\n",
              "  <tbody>\n",
              "    <tr>\n",
              "      <th>count</th>\n",
              "      <td>42751.000000</td>\n",
              "      <td>42751.000000</td>\n",
              "      <td>42751.000000</td>\n",
              "      <td>42751.000000</td>\n",
              "      <td>42751.000000</td>\n",
              "      <td>42751.000000</td>\n",
              "      <td>42751.0</td>\n",
              "      <td>42751.000000</td>\n",
              "      <td>42751.000000</td>\n",
              "      <td>42751.000000</td>\n",
              "      <td>...</td>\n",
              "      <td>42751.000000</td>\n",
              "      <td>42751.000000</td>\n",
              "      <td>42751.000000</td>\n",
              "      <td>42751.000000</td>\n",
              "      <td>42751.000000</td>\n",
              "      <td>42751.000000</td>\n",
              "      <td>42751.000000</td>\n",
              "      <td>42751.000000</td>\n",
              "      <td>42751.000000</td>\n",
              "      <td>42751.000000</td>\n",
              "    </tr>\n",
              "    <tr>\n",
              "      <th>mean</th>\n",
              "      <td>0.212761</td>\n",
              "      <td>0.398628</td>\n",
              "      <td>0.186851</td>\n",
              "      <td>0.265664</td>\n",
              "      <td>-0.069490</td>\n",
              "      <td>0.367222</td>\n",
              "      <td>0.0</td>\n",
              "      <td>0.120055</td>\n",
              "      <td>0.080438</td>\n",
              "      <td>0.234965</td>\n",
              "      <td>...</td>\n",
              "      <td>3.576166</td>\n",
              "      <td>0.198101</td>\n",
              "      <td>0.723235</td>\n",
              "      <td>0.155546</td>\n",
              "      <td>0.181353</td>\n",
              "      <td>0.154609</td>\n",
              "      <td>0.148062</td>\n",
              "      <td>0.155836</td>\n",
              "      <td>0.175938</td>\n",
              "      <td>0.042455</td>\n",
              "    </tr>\n",
              "    <tr>\n",
              "      <th>std</th>\n",
              "      <td>0.795318</td>\n",
              "      <td>0.802443</td>\n",
              "      <td>1.654029</td>\n",
              "      <td>1.276187</td>\n",
              "      <td>0.709299</td>\n",
              "      <td>0.803815</td>\n",
              "      <td>0.0</td>\n",
              "      <td>0.823925</td>\n",
              "      <td>0.863950</td>\n",
              "      <td>1.033519</td>\n",
              "      <td>...</td>\n",
              "      <td>29.274291</td>\n",
              "      <td>0.759329</td>\n",
              "      <td>0.981457</td>\n",
              "      <td>1.162656</td>\n",
              "      <td>5.378467</td>\n",
              "      <td>1.184157</td>\n",
              "      <td>1.054906</td>\n",
              "      <td>1.039132</td>\n",
              "      <td>3.085652</td>\n",
              "      <td>0.724104</td>\n",
              "    </tr>\n",
              "    <tr>\n",
              "      <th>min</th>\n",
              "      <td>-1.237610</td>\n",
              "      <td>-0.395372</td>\n",
              "      <td>-6.119205</td>\n",
              "      <td>-1.774694</td>\n",
              "      <td>-3.812835</td>\n",
              "      <td>-0.488183</td>\n",
              "      <td>0.0</td>\n",
              "      <td>-1.005047</td>\n",
              "      <td>-1.093171</td>\n",
              "      <td>-1.075246</td>\n",
              "      <td>...</td>\n",
              "      <td>-0.168675</td>\n",
              "      <td>-1.500000</td>\n",
              "      <td>0.000000</td>\n",
              "      <td>-1.074934</td>\n",
              "      <td>-1.025907</td>\n",
              "      <td>-1.022917</td>\n",
              "      <td>-1.022845</td>\n",
              "      <td>-1.036278</td>\n",
              "      <td>-2.200252</td>\n",
              "      <td>-4.500000</td>\n",
              "    </tr>\n",
              "    <tr>\n",
              "      <th>25%</th>\n",
              "      <td>-0.330219</td>\n",
              "      <td>-0.148296</td>\n",
              "      <td>-0.317881</td>\n",
              "      <td>-0.404866</td>\n",
              "      <td>-0.575080</td>\n",
              "      <td>-0.190738</td>\n",
              "      <td>0.0</td>\n",
              "      <td>-0.456217</td>\n",
              "      <td>-0.483719</td>\n",
              "      <td>-0.378340</td>\n",
              "      <td>...</td>\n",
              "      <td>-0.168675</td>\n",
              "      <td>-0.500000</td>\n",
              "      <td>0.000000</td>\n",
              "      <td>-0.466491</td>\n",
              "      <td>-0.477720</td>\n",
              "      <td>-0.465104</td>\n",
              "      <td>-0.475078</td>\n",
              "      <td>-0.456887</td>\n",
              "      <td>-0.435513</td>\n",
              "      <td>-0.500000</td>\n",
              "    </tr>\n",
              "    <tr>\n",
              "      <th>50%</th>\n",
              "      <td>0.000000</td>\n",
              "      <td>0.000000</td>\n",
              "      <td>0.000000</td>\n",
              "      <td>0.000000</td>\n",
              "      <td>0.000000</td>\n",
              "      <td>0.000000</td>\n",
              "      <td>0.0</td>\n",
              "      <td>0.000000</td>\n",
              "      <td>0.000000</td>\n",
              "      <td>0.000000</td>\n",
              "      <td>...</td>\n",
              "      <td>0.000000</td>\n",
              "      <td>0.000000</td>\n",
              "      <td>0.000000</td>\n",
              "      <td>0.000000</td>\n",
              "      <td>0.000000</td>\n",
              "      <td>0.000000</td>\n",
              "      <td>0.000000</td>\n",
              "      <td>0.000000</td>\n",
              "      <td>0.000000</td>\n",
              "      <td>0.000000</td>\n",
              "    </tr>\n",
              "    <tr>\n",
              "      <th>75%</th>\n",
              "      <td>0.669781</td>\n",
              "      <td>0.851704</td>\n",
              "      <td>0.682119</td>\n",
              "      <td>0.595134</td>\n",
              "      <td>0.424920</td>\n",
              "      <td>0.809262</td>\n",
              "      <td>0.0</td>\n",
              "      <td>0.543783</td>\n",
              "      <td>0.516281</td>\n",
              "      <td>0.621660</td>\n",
              "      <td>...</td>\n",
              "      <td>0.831325</td>\n",
              "      <td>0.500000</td>\n",
              "      <td>1.000000</td>\n",
              "      <td>0.533509</td>\n",
              "      <td>0.522280</td>\n",
              "      <td>0.534896</td>\n",
              "      <td>0.524922</td>\n",
              "      <td>0.543113</td>\n",
              "      <td>0.564487</td>\n",
              "      <td>0.500000</td>\n",
              "    </tr>\n",
              "    <tr>\n",
              "      <th>max</th>\n",
              "      <td>16.627478</td>\n",
              "      <td>6.220702</td>\n",
              "      <td>49.145695</td>\n",
              "      <td>32.878780</td>\n",
              "      <td>4.201645</td>\n",
              "      <td>6.096682</td>\n",
              "      <td>0.0</td>\n",
              "      <td>18.988530</td>\n",
              "      <td>22.206628</td>\n",
              "      <td>29.732771</td>\n",
              "      <td>...</td>\n",
              "      <td>689.574297</td>\n",
              "      <td>4.500000</td>\n",
              "      <td>10.000000</td>\n",
              "      <td>114.564644</td>\n",
              "      <td>1069.443523</td>\n",
              "      <td>72.921875</td>\n",
              "      <td>45.400312</td>\n",
              "      <td>53.026288</td>\n",
              "      <td>575.846800</td>\n",
              "      <td>7.750000</td>\n",
              "    </tr>\n",
              "  </tbody>\n",
              "</table>\n",
              "<p>8 rows × 141 columns</p>\n",
              "</div>"
            ],
            "text/plain": [
              "       Memory_PssTotal  Memory_PssClean  Memory_SharedDirty  \\\n",
              "count     42751.000000     42751.000000        42751.000000   \n",
              "mean          0.212761         0.398628            0.186851   \n",
              "std           0.795318         0.802443            1.654029   \n",
              "min          -1.237610        -0.395372           -6.119205   \n",
              "25%          -0.330219        -0.148296           -0.317881   \n",
              "50%           0.000000         0.000000            0.000000   \n",
              "75%           0.669781         0.851704            0.682119   \n",
              "max          16.627478         6.220702           49.145695   \n",
              "\n",
              "       Memory_PrivateDirty  Memory_SharedClean  Memory_PrivateClean  \\\n",
              "count         42751.000000        42751.000000         42751.000000   \n",
              "mean              0.265664           -0.069490             0.367222   \n",
              "std               1.276187            0.709299             0.803815   \n",
              "min              -1.774694           -3.812835            -0.488183   \n",
              "25%              -0.404866           -0.575080            -0.190738   \n",
              "50%               0.000000            0.000000             0.000000   \n",
              "75%               0.595134            0.424920             0.809262   \n",
              "max              32.878780            4.201645             6.096682   \n",
              "\n",
              "       Memory_SwapPssDirty  Memory_HeapSize  Memory_HeapAlloc  \\\n",
              "count              42751.0     42751.000000      42751.000000   \n",
              "mean                   0.0         0.120055          0.080438   \n",
              "std                    0.0         0.823925          0.863950   \n",
              "min                    0.0        -1.005047         -1.093171   \n",
              "25%                    0.0        -0.456217         -0.483719   \n",
              "50%                    0.0         0.000000          0.000000   \n",
              "75%                    0.0         0.543783          0.516281   \n",
              "max                    0.0        18.988530         22.206628   \n",
              "\n",
              "       Memory_HeapFree  ...  Network_TotalTransmittedPackets  \\\n",
              "count     42751.000000  ...                     42751.000000   \n",
              "mean          0.234965  ...                         3.576166   \n",
              "std           1.033519  ...                        29.274291   \n",
              "min          -1.075246  ...                        -0.168675   \n",
              "25%          -0.378340  ...                        -0.168675   \n",
              "50%           0.000000  ...                         0.000000   \n",
              "75%           0.621660  ...                         0.831325   \n",
              "max          29.732771  ...                       689.574297   \n",
              "\n",
              "       Battery_wakelock  Battery_service   Logcat_info  Logcat_error  \\\n",
              "count      42751.000000     42751.000000  42751.000000  42751.000000   \n",
              "mean           0.198101         0.723235      0.155546      0.181353   \n",
              "std            0.759329         0.981457      1.162656      5.378467   \n",
              "min           -1.500000         0.000000     -1.074934     -1.025907   \n",
              "25%           -0.500000         0.000000     -0.466491     -0.477720   \n",
              "50%            0.000000         0.000000      0.000000      0.000000   \n",
              "75%            0.500000         1.000000      0.533509      0.522280   \n",
              "max            4.500000        10.000000    114.564644   1069.443523   \n",
              "\n",
              "       Logcat_warning  Logcat_debug  Logcat_verbose  Logcat_total  \\\n",
              "count    42751.000000  42751.000000    42751.000000  42751.000000   \n",
              "mean         0.154609      0.148062        0.155836      0.175938   \n",
              "std          1.184157      1.054906        1.039132      3.085652   \n",
              "min         -1.022917     -1.022845       -1.036278     -2.200252   \n",
              "25%         -0.465104     -0.475078       -0.456887     -0.435513   \n",
              "50%          0.000000      0.000000        0.000000      0.000000   \n",
              "75%          0.534896      0.524922        0.543113      0.564487   \n",
              "max         72.921875     45.400312       53.026288    575.846800   \n",
              "\n",
              "       Process_total  \n",
              "count   42751.000000  \n",
              "mean        0.042455  \n",
              "std         0.724104  \n",
              "min        -4.500000  \n",
              "25%        -0.500000  \n",
              "50%         0.000000  \n",
              "75%         0.500000  \n",
              "max         7.750000  \n",
              "\n",
              "[8 rows x 141 columns]"
            ]
          },
          "execution_count": 61,
          "metadata": {},
          "output_type": "execute_result"
        }
      ],
      "source": [
        "default_pipeline.dataset.X_train.describe()"
      ]
    },
    {
      "cell_type": "code",
      "execution_count": null,
      "metadata": {},
      "outputs": [
        {
          "data": {
            "text/html": [
              "<div>\n",
              "<style scoped>\n",
              "    .dataframe tbody tr th:only-of-type {\n",
              "        vertical-align: middle;\n",
              "    }\n",
              "\n",
              "    .dataframe tbody tr th {\n",
              "        vertical-align: top;\n",
              "    }\n",
              "\n",
              "    .dataframe thead th {\n",
              "        text-align: right;\n",
              "    }\n",
              "</style>\n",
              "<table border=\"1\" class=\"dataframe\">\n",
              "  <thead>\n",
              "    <tr style=\"text-align: right;\">\n",
              "      <th></th>\n",
              "      <th>Memory_PssTotal</th>\n",
              "      <th>Memory_PssClean</th>\n",
              "      <th>Memory_SharedDirty</th>\n",
              "      <th>Memory_PrivateDirty</th>\n",
              "      <th>Memory_SharedClean</th>\n",
              "      <th>Memory_PrivateClean</th>\n",
              "      <th>Memory_SwapPssDirty</th>\n",
              "      <th>Memory_HeapSize</th>\n",
              "      <th>Memory_HeapAlloc</th>\n",
              "      <th>Memory_HeapFree</th>\n",
              "      <th>...</th>\n",
              "      <th>Network_TotalTransmittedPackets</th>\n",
              "      <th>Battery_wakelock</th>\n",
              "      <th>Battery_service</th>\n",
              "      <th>Logcat_info</th>\n",
              "      <th>Logcat_error</th>\n",
              "      <th>Logcat_warning</th>\n",
              "      <th>Logcat_debug</th>\n",
              "      <th>Logcat_verbose</th>\n",
              "      <th>Logcat_total</th>\n",
              "      <th>Process_total</th>\n",
              "    </tr>\n",
              "  </thead>\n",
              "  <tbody>\n",
              "    <tr>\n",
              "      <th>count</th>\n",
              "      <td>42751.000000</td>\n",
              "      <td>42751.000000</td>\n",
              "      <td>42751.000000</td>\n",
              "      <td>42751.000000</td>\n",
              "      <td>42751.000000</td>\n",
              "      <td>42751.000000</td>\n",
              "      <td>42751.0</td>\n",
              "      <td>42751.000000</td>\n",
              "      <td>42751.000000</td>\n",
              "      <td>42751.000000</td>\n",
              "      <td>...</td>\n",
              "      <td>42751.000000</td>\n",
              "      <td>42751.000000</td>\n",
              "      <td>42751.000000</td>\n",
              "      <td>42751.000000</td>\n",
              "      <td>4.275100e+04</td>\n",
              "      <td>42751.000000</td>\n",
              "      <td>42751.000000</td>\n",
              "      <td>42751.000000</td>\n",
              "      <td>4.275100e+04</td>\n",
              "      <td>42751.000000</td>\n",
              "    </tr>\n",
              "    <tr>\n",
              "      <th>mean</th>\n",
              "      <td>70944.886272</td>\n",
              "      <td>12764.341700</td>\n",
              "      <td>10844.857898</td>\n",
              "      <td>47646.187738</td>\n",
              "      <td>88029.087694</td>\n",
              "      <td>14333.172277</td>\n",
              "      <td>0.0</td>\n",
              "      <td>22278.685996</td>\n",
              "      <td>17539.452434</td>\n",
              "      <td>4738.241304</td>\n",
              "      <td>...</td>\n",
              "      <td>466.232720</td>\n",
              "      <td>3.396201</td>\n",
              "      <td>0.723235</td>\n",
              "      <td>2337.759865</td>\n",
              "      <td>2.370012e+03</td>\n",
              "      <td>2296.848963</td>\n",
              "      <td>2300.166686</td>\n",
              "      <td>2300.399780</td>\n",
              "      <td>1.160519e+04</td>\n",
              "      <td>190.169821</td>\n",
              "    </tr>\n",
              "    <tr>\n",
              "      <th>std</th>\n",
              "      <td>36266.506343</td>\n",
              "      <td>12900.070827</td>\n",
              "      <td>999.033790</td>\n",
              "      <td>29793.858149</td>\n",
              "      <td>15871.265926</td>\n",
              "      <td>13468.721351</td>\n",
              "      <td>0.0</td>\n",
              "      <td>12570.621975</td>\n",
              "      <td>10519.885159</td>\n",
              "      <td>2939.327428</td>\n",
              "      <td>...</td>\n",
              "      <td>3644.649287</td>\n",
              "      <td>1.518657</td>\n",
              "      <td>0.981457</td>\n",
              "      <td>2203.232434</td>\n",
              "      <td>1.038044e+04</td>\n",
              "      <td>2273.580562</td>\n",
              "      <td>2031.749201</td>\n",
              "      <td>1976.428885</td>\n",
              "      <td>1.101732e+04</td>\n",
              "      <td>2.896415</td>\n",
              "    </tr>\n",
              "    <tr>\n",
              "      <th>min</th>\n",
              "      <td>4808.000000</td>\n",
              "      <td>0.000000</td>\n",
              "      <td>7036.000000</td>\n",
              "      <td>12.000000</td>\n",
              "      <td>4268.000000</td>\n",
              "      <td>0.000000</td>\n",
              "      <td>0.0</td>\n",
              "      <td>5113.000000</td>\n",
              "      <td>3249.000000</td>\n",
              "      <td>1012.000000</td>\n",
              "      <td>...</td>\n",
              "      <td>0.000000</td>\n",
              "      <td>0.000000</td>\n",
              "      <td>0.000000</td>\n",
              "      <td>6.000000</td>\n",
              "      <td>4.000000e+01</td>\n",
              "      <td>36.000000</td>\n",
              "      <td>45.000000</td>\n",
              "      <td>33.000000</td>\n",
              "      <td>3.121000e+03</td>\n",
              "      <td>172.000000</td>\n",
              "    </tr>\n",
              "    <tr>\n",
              "      <th>25%</th>\n",
              "      <td>46185.000000</td>\n",
              "      <td>3972.000000</td>\n",
              "      <td>10540.000000</td>\n",
              "      <td>31992.000000</td>\n",
              "      <td>76716.000000</td>\n",
              "      <td>4984.000000</td>\n",
              "      <td>0.0</td>\n",
              "      <td>13486.500000</td>\n",
              "      <td>10670.000000</td>\n",
              "      <td>2994.000000</td>\n",
              "      <td>...</td>\n",
              "      <td>0.000000</td>\n",
              "      <td>2.000000</td>\n",
              "      <td>0.000000</td>\n",
              "      <td>1159.000000</td>\n",
              "      <td>1.098000e+03</td>\n",
              "      <td>1107.000000</td>\n",
              "      <td>1100.000000</td>\n",
              "      <td>1135.000000</td>\n",
              "      <td>9.422000e+03</td>\n",
              "      <td>188.000000</td>\n",
              "    </tr>\n",
              "    <tr>\n",
              "      <th>50%</th>\n",
              "      <td>61243.000000</td>\n",
              "      <td>6356.000000</td>\n",
              "      <td>10732.000000</td>\n",
              "      <td>41444.000000</td>\n",
              "      <td>89584.000000</td>\n",
              "      <td>8180.000000</td>\n",
              "      <td>0.0</td>\n",
              "      <td>20447.000000</td>\n",
              "      <td>16560.000000</td>\n",
              "      <td>4070.000000</td>\n",
              "      <td>...</td>\n",
              "      <td>21.000000</td>\n",
              "      <td>3.000000</td>\n",
              "      <td>0.000000</td>\n",
              "      <td>2043.000000</td>\n",
              "      <td>2.020000e+03</td>\n",
              "      <td>2000.000000</td>\n",
              "      <td>2015.000000</td>\n",
              "      <td>2004.000000</td>\n",
              "      <td>1.097700e+04</td>\n",
              "      <td>190.000000</td>\n",
              "    </tr>\n",
              "    <tr>\n",
              "      <th>75%</th>\n",
              "      <td>91785.000000</td>\n",
              "      <td>20048.000000</td>\n",
              "      <td>11144.000000</td>\n",
              "      <td>55338.000000</td>\n",
              "      <td>99092.000000</td>\n",
              "      <td>21740.000000</td>\n",
              "      <td>0.0</td>\n",
              "      <td>28743.500000</td>\n",
              "      <td>22846.500000</td>\n",
              "      <td>5838.000000</td>\n",
              "      <td>...</td>\n",
              "      <td>124.500000</td>\n",
              "      <td>4.000000</td>\n",
              "      <td>1.000000</td>\n",
              "      <td>3054.000000</td>\n",
              "      <td>3.028000e+03</td>\n",
              "      <td>3027.000000</td>\n",
              "      <td>3026.000000</td>\n",
              "      <td>3037.000000</td>\n",
              "      <td>1.299250e+04</td>\n",
              "      <td>192.000000</td>\n",
              "    </tr>\n",
              "    <tr>\n",
              "      <th>max</th>\n",
              "      <td>819456.000000</td>\n",
              "      <td>106360.000000</td>\n",
              "      <td>40416.000000</td>\n",
              "      <td>809032.000000</td>\n",
              "      <td>183600.000000</td>\n",
              "      <td>110336.000000</td>\n",
              "      <td>0.0</td>\n",
              "      <td>310155.000000</td>\n",
              "      <td>286959.000000</td>\n",
              "      <td>88630.000000</td>\n",
              "      <td>...</td>\n",
              "      <td>85873.000000</td>\n",
              "      <td>12.000000</td>\n",
              "      <td>10.000000</td>\n",
              "      <td>219143.000000</td>\n",
              "      <td>2.066046e+06</td>\n",
              "      <td>142010.000000</td>\n",
              "      <td>89456.000000</td>\n",
              "      <td>102860.000000</td>\n",
              "      <td>2.067038e+06</td>\n",
              "      <td>221.000000</td>\n",
              "    </tr>\n",
              "  </tbody>\n",
              "</table>\n",
              "<p>8 rows × 141 columns</p>\n",
              "</div>"
            ],
            "text/plain": [
              "       Memory_PssTotal  Memory_PssClean  Memory_SharedDirty  \\\n",
              "count     42751.000000     42751.000000        42751.000000   \n",
              "mean      70944.886272     12764.341700        10844.857898   \n",
              "std       36266.506343     12900.070827          999.033790   \n",
              "min        4808.000000         0.000000         7036.000000   \n",
              "25%       46185.000000      3972.000000        10540.000000   \n",
              "50%       61243.000000      6356.000000        10732.000000   \n",
              "75%       91785.000000     20048.000000        11144.000000   \n",
              "max      819456.000000    106360.000000        40416.000000   \n",
              "\n",
              "       Memory_PrivateDirty  Memory_SharedClean  Memory_PrivateClean  \\\n",
              "count         42751.000000        42751.000000         42751.000000   \n",
              "mean          47646.187738        88029.087694         14333.172277   \n",
              "std           29793.858149        15871.265926         13468.721351   \n",
              "min              12.000000         4268.000000             0.000000   \n",
              "25%           31992.000000        76716.000000          4984.000000   \n",
              "50%           41444.000000        89584.000000          8180.000000   \n",
              "75%           55338.000000        99092.000000         21740.000000   \n",
              "max          809032.000000       183600.000000        110336.000000   \n",
              "\n",
              "       Memory_SwapPssDirty  Memory_HeapSize  Memory_HeapAlloc  \\\n",
              "count              42751.0     42751.000000      42751.000000   \n",
              "mean                   0.0     22278.685996      17539.452434   \n",
              "std                    0.0     12570.621975      10519.885159   \n",
              "min                    0.0      5113.000000       3249.000000   \n",
              "25%                    0.0     13486.500000      10670.000000   \n",
              "50%                    0.0     20447.000000      16560.000000   \n",
              "75%                    0.0     28743.500000      22846.500000   \n",
              "max                    0.0    310155.000000     286959.000000   \n",
              "\n",
              "       Memory_HeapFree  ...  Network_TotalTransmittedPackets  \\\n",
              "count     42751.000000  ...                     42751.000000   \n",
              "mean       4738.241304  ...                       466.232720   \n",
              "std        2939.327428  ...                      3644.649287   \n",
              "min        1012.000000  ...                         0.000000   \n",
              "25%        2994.000000  ...                         0.000000   \n",
              "50%        4070.000000  ...                        21.000000   \n",
              "75%        5838.000000  ...                       124.500000   \n",
              "max       88630.000000  ...                     85873.000000   \n",
              "\n",
              "       Battery_wakelock  Battery_service    Logcat_info  Logcat_error  \\\n",
              "count      42751.000000     42751.000000   42751.000000  4.275100e+04   \n",
              "mean           3.396201         0.723235    2337.759865  2.370012e+03   \n",
              "std            1.518657         0.981457    2203.232434  1.038044e+04   \n",
              "min            0.000000         0.000000       6.000000  4.000000e+01   \n",
              "25%            2.000000         0.000000    1159.000000  1.098000e+03   \n",
              "50%            3.000000         0.000000    2043.000000  2.020000e+03   \n",
              "75%            4.000000         1.000000    3054.000000  3.028000e+03   \n",
              "max           12.000000        10.000000  219143.000000  2.066046e+06   \n",
              "\n",
              "       Logcat_warning  Logcat_debug  Logcat_verbose  Logcat_total  \\\n",
              "count    42751.000000  42751.000000    42751.000000  4.275100e+04   \n",
              "mean      2296.848963   2300.166686     2300.399780  1.160519e+04   \n",
              "std       2273.580562   2031.749201     1976.428885  1.101732e+04   \n",
              "min         36.000000     45.000000       33.000000  3.121000e+03   \n",
              "25%       1107.000000   1100.000000     1135.000000  9.422000e+03   \n",
              "50%       2000.000000   2015.000000     2004.000000  1.097700e+04   \n",
              "75%       3027.000000   3026.000000     3037.000000  1.299250e+04   \n",
              "max     142010.000000  89456.000000   102860.000000  2.067038e+06   \n",
              "\n",
              "       Process_total  \n",
              "count   42751.000000  \n",
              "mean      190.169821  \n",
              "std         2.896415  \n",
              "min       172.000000  \n",
              "25%       188.000000  \n",
              "50%       190.000000  \n",
              "75%       192.000000  \n",
              "max       221.000000  \n",
              "\n",
              "[8 rows x 141 columns]"
            ]
          },
          "execution_count": 62,
          "metadata": {},
          "output_type": "execute_result"
        }
      ],
      "source": [
        "# This is not updated (as expected)\n",
        "baseline_pipeline.dataset.X_train.describe()"
      ]
    },
    {
      "cell_type": "markdown",
      "metadata": {},
      "source": [
        "### Outliers "
      ]
    },
    {
      "cell_type": "code",
      "execution_count": null,
      "metadata": {},
      "outputs": [],
      "source": [
        "#models_pipeline.preprocessing.get_outliers_df(plot=True)"
      ]
    },
    {
      "cell_type": "markdown",
      "metadata": {},
      "source": [
        "<hr>"
      ]
    },
    {
      "cell_type": "markdown",
      "metadata": {},
      "source": [
        "# 4. FEATURE ANALYSIS"
      ]
    },
    {
      "cell_type": "markdown",
      "metadata": {},
      "source": [
        "Here we will take adjust the features that compose the learning inputs to our model. The correctness of this section is pivotal for proper learning by the model\n",
        "\n",
        "\n",
        "## FEATURE ENGINEERING\n",
        "- Domain-specific features\n",
        "- Binning\n",
        "- Interaction terms\n"
      ]
    },
    {
      "cell_type": "code",
      "execution_count": null,
      "metadata": {},
      "outputs": [],
      "source": [
        "featuresToEncode = [\"Reboot\"]"
      ]
    },
    {
      "cell_type": "code",
      "execution_count": null,
      "metadata": {},
      "outputs": [
        {
          "name": "stdout",
          "output_type": "stream",
          "text": [
            "Pipeline logistic in category baseline has executed feature_analysis.feature_transformation.get_categorical_features_encoded. Result is: {'Adware': 0, 'Backdoor': 1, 'FileInfector': 2, 'No_Category': 3, 'PUA': 4, 'Ransomware': 5, 'Riskware': 6, 'Scareware': 7, 'Trojan': 8, 'Trojan_Banker': 9, 'Trojan_Dropper': 10, 'Trojan_SMS': 11, 'Trojan_Spy': 12, 'Zero_Day': 13}\n",
            "Pipeline ensembled in category models has executed feature_analysis.feature_transformation.get_categorical_features_encoded. Result is: {'Adware': 0, 'Backdoor': 1, 'FileInfector': 2, 'No_Category': 3, 'PUA': 4, 'Ransomware': 5, 'Riskware': 6, 'Scareware': 7, 'Trojan': 8, 'Trojan_Banker': 9, 'Trojan_Dropper': 10, 'Trojan_SMS': 11, 'Trojan_Spy': 12, 'Zero_Day': 13}\n"
          ]
        }
      ],
      "source": [
        "encoded_maps_perPipeline = pipeline_manager.all_pipelines_execute(methodName=\"feature_analysis.feature_transformation.get_categorical_features_encoded\", verbose=True, features=featuresToEncode, encode_y=True)"
      ]
    },
    {
      "cell_type": "markdown",
      "metadata": {},
      "source": [
        "Lets visualize the results of the encoding..."
      ]
    },
    {
      "cell_type": "code",
      "execution_count": null,
      "metadata": {},
      "outputs": [
        {
          "data": {
            "text/html": [
              "<div>\n",
              "<style scoped>\n",
              "    .dataframe tbody tr th:only-of-type {\n",
              "        vertical-align: middle;\n",
              "    }\n",
              "\n",
              "    .dataframe tbody tr th {\n",
              "        vertical-align: top;\n",
              "    }\n",
              "\n",
              "    .dataframe thead th {\n",
              "        text-align: right;\n",
              "    }\n",
              "</style>\n",
              "<table border=\"1\" class=\"dataframe\">\n",
              "  <thead>\n",
              "    <tr style=\"text-align: right;\">\n",
              "      <th></th>\n",
              "      <th>Memory_PssTotal</th>\n",
              "      <th>Memory_PssClean</th>\n",
              "      <th>Memory_SharedDirty</th>\n",
              "      <th>Memory_PrivateDirty</th>\n",
              "      <th>Memory_SharedClean</th>\n",
              "      <th>Memory_PrivateClean</th>\n",
              "      <th>Memory_SwapPssDirty</th>\n",
              "      <th>Memory_HeapSize</th>\n",
              "      <th>Memory_HeapAlloc</th>\n",
              "      <th>Memory_HeapFree</th>\n",
              "      <th>...</th>\n",
              "      <th>Battery_wakelock</th>\n",
              "      <th>Battery_service</th>\n",
              "      <th>Logcat_info</th>\n",
              "      <th>Logcat_error</th>\n",
              "      <th>Logcat_warning</th>\n",
              "      <th>Logcat_debug</th>\n",
              "      <th>Logcat_verbose</th>\n",
              "      <th>Logcat_total</th>\n",
              "      <th>Process_total</th>\n",
              "      <th>Reboot_before</th>\n",
              "    </tr>\n",
              "  </thead>\n",
              "  <tbody>\n",
              "    <tr>\n",
              "      <th>48143</th>\n",
              "      <td>-0.572982</td>\n",
              "      <td>-0.212739</td>\n",
              "      <td>3.662252</td>\n",
              "      <td>-0.680374</td>\n",
              "      <td>-0.269575</td>\n",
              "      <td>-0.304846</td>\n",
              "      <td>0.0</td>\n",
              "      <td>-0.744642</td>\n",
              "      <td>-0.903544</td>\n",
              "      <td>-0.190928</td>\n",
              "      <td>...</td>\n",
              "      <td>0.0</td>\n",
              "      <td>0.0</td>\n",
              "      <td>1.229024</td>\n",
              "      <td>0.414508</td>\n",
              "      <td>-0.328646</td>\n",
              "      <td>-0.232606</td>\n",
              "      <td>1.436909</td>\n",
              "      <td>1.088923</td>\n",
              "      <td>-0.50</td>\n",
              "      <td>1</td>\n",
              "    </tr>\n",
              "    <tr>\n",
              "      <th>10388</th>\n",
              "      <td>0.223136</td>\n",
              "      <td>0.310774</td>\n",
              "      <td>-2.933775</td>\n",
              "      <td>0.225135</td>\n",
              "      <td>-0.211834</td>\n",
              "      <td>0.196228</td>\n",
              "      <td>0.0</td>\n",
              "      <td>-0.345350</td>\n",
              "      <td>-0.408902</td>\n",
              "      <td>-0.166667</td>\n",
              "      <td>...</td>\n",
              "      <td>-0.5</td>\n",
              "      <td>2.0</td>\n",
              "      <td>-0.712401</td>\n",
              "      <td>-0.995337</td>\n",
              "      <td>0.449479</td>\n",
              "      <td>-0.162513</td>\n",
              "      <td>0.420610</td>\n",
              "      <td>-0.788685</td>\n",
              "      <td>0.25</td>\n",
              "      <td>0</td>\n",
              "    </tr>\n",
              "    <tr>\n",
              "      <th>11029</th>\n",
              "      <td>1.298399</td>\n",
              "      <td>1.525006</td>\n",
              "      <td>-0.046358</td>\n",
              "      <td>1.288786</td>\n",
              "      <td>1.902038</td>\n",
              "      <td>1.401289</td>\n",
              "      <td>0.0</td>\n",
              "      <td>1.092089</td>\n",
              "      <td>1.166345</td>\n",
              "      <td>0.800281</td>\n",
              "      <td>...</td>\n",
              "      <td>-0.5</td>\n",
              "      <td>1.0</td>\n",
              "      <td>0.200000</td>\n",
              "      <td>0.486528</td>\n",
              "      <td>-0.559896</td>\n",
              "      <td>-0.995327</td>\n",
              "      <td>0.742376</td>\n",
              "      <td>-0.324044</td>\n",
              "      <td>1.50</td>\n",
              "      <td>0</td>\n",
              "    </tr>\n",
              "    <tr>\n",
              "      <th>36609</th>\n",
              "      <td>-0.407325</td>\n",
              "      <td>-0.136850</td>\n",
              "      <td>3.000000</td>\n",
              "      <td>-0.495674</td>\n",
              "      <td>0.071505</td>\n",
              "      <td>-0.239198</td>\n",
              "      <td>0.0</td>\n",
              "      <td>-0.469555</td>\n",
              "      <td>-0.483883</td>\n",
              "      <td>-0.511955</td>\n",
              "      <td>...</td>\n",
              "      <td>1.0</td>\n",
              "      <td>2.0</td>\n",
              "      <td>0.147757</td>\n",
              "      <td>-0.969430</td>\n",
              "      <td>-0.633854</td>\n",
              "      <td>-0.031672</td>\n",
              "      <td>0.475289</td>\n",
              "      <td>-0.801008</td>\n",
              "      <td>0.50</td>\n",
              "      <td>0</td>\n",
              "    </tr>\n",
              "    <tr>\n",
              "      <th>26413</th>\n",
              "      <td>0.097281</td>\n",
              "      <td>-0.192834</td>\n",
              "      <td>0.099338</td>\n",
              "      <td>0.481453</td>\n",
              "      <td>0.522524</td>\n",
              "      <td>-0.129864</td>\n",
              "      <td>0.0</td>\n",
              "      <td>0.760766</td>\n",
              "      <td>0.679752</td>\n",
              "      <td>1.106188</td>\n",
              "      <td>...</td>\n",
              "      <td>0.0</td>\n",
              "      <td>0.0</td>\n",
              "      <td>0.120317</td>\n",
              "      <td>2.872539</td>\n",
              "      <td>-0.715625</td>\n",
              "      <td>-0.098131</td>\n",
              "      <td>-0.980547</td>\n",
              "      <td>0.405826</td>\n",
              "      <td>0.50</td>\n",
              "      <td>0</td>\n",
              "    </tr>\n",
              "    <tr>\n",
              "      <th>...</th>\n",
              "      <td>...</td>\n",
              "      <td>...</td>\n",
              "      <td>...</td>\n",
              "      <td>...</td>\n",
              "      <td>...</td>\n",
              "      <td>...</td>\n",
              "      <td>...</td>\n",
              "      <td>...</td>\n",
              "      <td>...</td>\n",
              "      <td>...</td>\n",
              "      <td>...</td>\n",
              "      <td>...</td>\n",
              "      <td>...</td>\n",
              "      <td>...</td>\n",
              "      <td>...</td>\n",
              "      <td>...</td>\n",
              "      <td>...</td>\n",
              "      <td>...</td>\n",
              "      <td>...</td>\n",
              "      <td>...</td>\n",
              "      <td>...</td>\n",
              "    </tr>\n",
              "    <tr>\n",
              "      <th>42697</th>\n",
              "      <td>-0.562982</td>\n",
              "      <td>-0.382433</td>\n",
              "      <td>0.543046</td>\n",
              "      <td>-0.389446</td>\n",
              "      <td>-1.457991</td>\n",
              "      <td>-0.475531</td>\n",
              "      <td>0.0</td>\n",
              "      <td>-0.748509</td>\n",
              "      <td>-0.895085</td>\n",
              "      <td>-0.247890</td>\n",
              "      <td>...</td>\n",
              "      <td>0.0</td>\n",
              "      <td>1.0</td>\n",
              "      <td>-0.127704</td>\n",
              "      <td>-0.263212</td>\n",
              "      <td>-0.177083</td>\n",
              "      <td>-0.367082</td>\n",
              "      <td>-0.841220</td>\n",
              "      <td>-1.202073</td>\n",
              "      <td>-0.25</td>\n",
              "      <td>1</td>\n",
              "    </tr>\n",
              "    <tr>\n",
              "      <th>36008</th>\n",
              "      <td>-0.192939</td>\n",
              "      <td>-0.072157</td>\n",
              "      <td>2.847682</td>\n",
              "      <td>-0.232845</td>\n",
              "      <td>0.407222</td>\n",
              "      <td>-0.058009</td>\n",
              "      <td>0.0</td>\n",
              "      <td>-0.160779</td>\n",
              "      <td>-0.123270</td>\n",
              "      <td>-0.399437</td>\n",
              "      <td>...</td>\n",
              "      <td>0.0</td>\n",
              "      <td>0.0</td>\n",
              "      <td>-1.018470</td>\n",
              "      <td>0.315026</td>\n",
              "      <td>-0.623958</td>\n",
              "      <td>0.314642</td>\n",
              "      <td>2.321241</td>\n",
              "      <td>0.449797</td>\n",
              "      <td>0.75</td>\n",
              "      <td>0</td>\n",
              "    </tr>\n",
              "    <tr>\n",
              "      <th>46265</th>\n",
              "      <td>-0.526820</td>\n",
              "      <td>-0.179895</td>\n",
              "      <td>3.112583</td>\n",
              "      <td>-0.588366</td>\n",
              "      <td>-0.299428</td>\n",
              "      <td>-0.280019</td>\n",
              "      <td>0.0</td>\n",
              "      <td>-0.681523</td>\n",
              "      <td>-0.782819</td>\n",
              "      <td>-0.369198</td>\n",
              "      <td>...</td>\n",
              "      <td>1.0</td>\n",
              "      <td>1.0</td>\n",
              "      <td>0.812137</td>\n",
              "      <td>1.255440</td>\n",
              "      <td>-0.403646</td>\n",
              "      <td>-0.323988</td>\n",
              "      <td>0.519453</td>\n",
              "      <td>0.743873</td>\n",
              "      <td>-0.25</td>\n",
              "      <td>1</td>\n",
              "    </tr>\n",
              "    <tr>\n",
              "      <th>23587</th>\n",
              "      <td>1.155789</td>\n",
              "      <td>2.092560</td>\n",
              "      <td>0.198675</td>\n",
              "      <td>0.827551</td>\n",
              "      <td>0.464247</td>\n",
              "      <td>1.995942</td>\n",
              "      <td>0.0</td>\n",
              "      <td>1.539293</td>\n",
              "      <td>1.188190</td>\n",
              "      <td>3.105837</td>\n",
              "      <td>...</td>\n",
              "      <td>1.0</td>\n",
              "      <td>0.0</td>\n",
              "      <td>-0.589446</td>\n",
              "      <td>0.521762</td>\n",
              "      <td>-0.255208</td>\n",
              "      <td>-0.055556</td>\n",
              "      <td>1.700315</td>\n",
              "      <td>0.457079</td>\n",
              "      <td>-0.75</td>\n",
              "      <td>1</td>\n",
              "    </tr>\n",
              "    <tr>\n",
              "      <th>29313</th>\n",
              "      <td>0.400395</td>\n",
              "      <td>-0.054740</td>\n",
              "      <td>-0.218543</td>\n",
              "      <td>1.075645</td>\n",
              "      <td>0.225778</td>\n",
              "      <td>-0.155168</td>\n",
              "      <td>0.0</td>\n",
              "      <td>0.471062</td>\n",
              "      <td>0.339014</td>\n",
              "      <td>1.010900</td>\n",
              "      <td>...</td>\n",
              "      <td>2.5</td>\n",
              "      <td>1.0</td>\n",
              "      <td>-0.645383</td>\n",
              "      <td>-0.991710</td>\n",
              "      <td>0.001563</td>\n",
              "      <td>0.774143</td>\n",
              "      <td>0.313880</td>\n",
              "      <td>-0.543621</td>\n",
              "      <td>0.25</td>\n",
              "      <td>0</td>\n",
              "    </tr>\n",
              "  </tbody>\n",
              "</table>\n",
              "<p>42751 rows × 142 columns</p>\n",
              "</div>"
            ],
            "text/plain": [
              "       Memory_PssTotal  Memory_PssClean  Memory_SharedDirty  \\\n",
              "48143        -0.572982        -0.212739            3.662252   \n",
              "10388         0.223136         0.310774           -2.933775   \n",
              "11029         1.298399         1.525006           -0.046358   \n",
              "36609        -0.407325        -0.136850            3.000000   \n",
              "26413         0.097281        -0.192834            0.099338   \n",
              "...                ...              ...                 ...   \n",
              "42697        -0.562982        -0.382433            0.543046   \n",
              "36008        -0.192939        -0.072157            2.847682   \n",
              "46265        -0.526820        -0.179895            3.112583   \n",
              "23587         1.155789         2.092560            0.198675   \n",
              "29313         0.400395        -0.054740           -0.218543   \n",
              "\n",
              "       Memory_PrivateDirty  Memory_SharedClean  Memory_PrivateClean  \\\n",
              "48143            -0.680374           -0.269575            -0.304846   \n",
              "10388             0.225135           -0.211834             0.196228   \n",
              "11029             1.288786            1.902038             1.401289   \n",
              "36609            -0.495674            0.071505            -0.239198   \n",
              "26413             0.481453            0.522524            -0.129864   \n",
              "...                    ...                 ...                  ...   \n",
              "42697            -0.389446           -1.457991            -0.475531   \n",
              "36008            -0.232845            0.407222            -0.058009   \n",
              "46265            -0.588366           -0.299428            -0.280019   \n",
              "23587             0.827551            0.464247             1.995942   \n",
              "29313             1.075645            0.225778            -0.155168   \n",
              "\n",
              "       Memory_SwapPssDirty  Memory_HeapSize  Memory_HeapAlloc  \\\n",
              "48143                  0.0        -0.744642         -0.903544   \n",
              "10388                  0.0        -0.345350         -0.408902   \n",
              "11029                  0.0         1.092089          1.166345   \n",
              "36609                  0.0        -0.469555         -0.483883   \n",
              "26413                  0.0         0.760766          0.679752   \n",
              "...                    ...              ...               ...   \n",
              "42697                  0.0        -0.748509         -0.895085   \n",
              "36008                  0.0        -0.160779         -0.123270   \n",
              "46265                  0.0        -0.681523         -0.782819   \n",
              "23587                  0.0         1.539293          1.188190   \n",
              "29313                  0.0         0.471062          0.339014   \n",
              "\n",
              "       Memory_HeapFree  ...  Battery_wakelock  Battery_service  Logcat_info  \\\n",
              "48143        -0.190928  ...               0.0              0.0     1.229024   \n",
              "10388        -0.166667  ...              -0.5              2.0    -0.712401   \n",
              "11029         0.800281  ...              -0.5              1.0     0.200000   \n",
              "36609        -0.511955  ...               1.0              2.0     0.147757   \n",
              "26413         1.106188  ...               0.0              0.0     0.120317   \n",
              "...                ...  ...               ...              ...          ...   \n",
              "42697        -0.247890  ...               0.0              1.0    -0.127704   \n",
              "36008        -0.399437  ...               0.0              0.0    -1.018470   \n",
              "46265        -0.369198  ...               1.0              1.0     0.812137   \n",
              "23587         3.105837  ...               1.0              0.0    -0.589446   \n",
              "29313         1.010900  ...               2.5              1.0    -0.645383   \n",
              "\n",
              "       Logcat_error  Logcat_warning  Logcat_debug  Logcat_verbose  \\\n",
              "48143      0.414508       -0.328646     -0.232606        1.436909   \n",
              "10388     -0.995337        0.449479     -0.162513        0.420610   \n",
              "11029      0.486528       -0.559896     -0.995327        0.742376   \n",
              "36609     -0.969430       -0.633854     -0.031672        0.475289   \n",
              "26413      2.872539       -0.715625     -0.098131       -0.980547   \n",
              "...             ...             ...           ...             ...   \n",
              "42697     -0.263212       -0.177083     -0.367082       -0.841220   \n",
              "36008      0.315026       -0.623958      0.314642        2.321241   \n",
              "46265      1.255440       -0.403646     -0.323988        0.519453   \n",
              "23587      0.521762       -0.255208     -0.055556        1.700315   \n",
              "29313     -0.991710        0.001563      0.774143        0.313880   \n",
              "\n",
              "       Logcat_total  Process_total  Reboot_before  \n",
              "48143      1.088923          -0.50              1  \n",
              "10388     -0.788685           0.25              0  \n",
              "11029     -0.324044           1.50              0  \n",
              "36609     -0.801008           0.50              0  \n",
              "26413      0.405826           0.50              0  \n",
              "...             ...            ...            ...  \n",
              "42697     -1.202073          -0.25              1  \n",
              "36008      0.449797           0.75              0  \n",
              "46265      0.743873          -0.25              1  \n",
              "23587      0.457079          -0.75              1  \n",
              "29313     -0.543621           0.25              0  \n",
              "\n",
              "[42751 rows x 142 columns]"
            ]
          },
          "execution_count": 66,
          "metadata": {},
          "output_type": "execute_result"
        }
      ],
      "source": [
        "default_pipeline.dataset.X_train"
      ]
    },
    {
      "cell_type": "code",
      "execution_count": null,
      "metadata": {},
      "outputs": [
        {
          "data": {
            "text/plain": [
              "48143     8\n",
              "10388     0\n",
              "11029     0\n",
              "36609     6\n",
              "26413    13\n",
              "         ..\n",
              "42697    12\n",
              "36008     6\n",
              "46265     8\n",
              "23587     6\n",
              "29313     8\n",
              "Length: 42751, dtype: int64"
            ]
          },
          "execution_count": 67,
          "metadata": {},
          "output_type": "execute_result"
        }
      ],
      "source": [
        "default_pipeline.dataset.y_train"
      ]
    },
    {
      "cell_type": "code",
      "execution_count": null,
      "metadata": {},
      "outputs": [
        {
          "data": {
            "text/html": [
              "<div>\n",
              "<style scoped>\n",
              "    .dataframe tbody tr th:only-of-type {\n",
              "        vertical-align: middle;\n",
              "    }\n",
              "\n",
              "    .dataframe tbody tr th {\n",
              "        vertical-align: top;\n",
              "    }\n",
              "\n",
              "    .dataframe thead th {\n",
              "        text-align: right;\n",
              "    }\n",
              "</style>\n",
              "<table border=\"1\" class=\"dataframe\">\n",
              "  <thead>\n",
              "    <tr style=\"text-align: right;\">\n",
              "      <th></th>\n",
              "      <th>Memory_PssTotal</th>\n",
              "      <th>Memory_PssClean</th>\n",
              "      <th>Memory_SharedDirty</th>\n",
              "      <th>Memory_PrivateDirty</th>\n",
              "      <th>Memory_SharedClean</th>\n",
              "      <th>Memory_PrivateClean</th>\n",
              "      <th>Memory_SwapPssDirty</th>\n",
              "      <th>Memory_HeapSize</th>\n",
              "      <th>Memory_HeapAlloc</th>\n",
              "      <th>Memory_HeapFree</th>\n",
              "      <th>...</th>\n",
              "      <th>Battery_wakelock</th>\n",
              "      <th>Battery_service</th>\n",
              "      <th>Logcat_info</th>\n",
              "      <th>Logcat_error</th>\n",
              "      <th>Logcat_warning</th>\n",
              "      <th>Logcat_debug</th>\n",
              "      <th>Logcat_verbose</th>\n",
              "      <th>Logcat_total</th>\n",
              "      <th>Process_total</th>\n",
              "      <th>Reboot_before</th>\n",
              "    </tr>\n",
              "  </thead>\n",
              "  <tbody>\n",
              "    <tr>\n",
              "      <th>48143</th>\n",
              "      <td>35115</td>\n",
              "      <td>2936</td>\n",
              "      <td>12944</td>\n",
              "      <td>25560</td>\n",
              "      <td>83552</td>\n",
              "      <td>3072</td>\n",
              "      <td>0</td>\n",
              "      <td>9086</td>\n",
              "      <td>5558</td>\n",
              "      <td>3527</td>\n",
              "      <td>...</td>\n",
              "      <td>3</td>\n",
              "      <td>0</td>\n",
              "      <td>4372</td>\n",
              "      <td>2820</td>\n",
              "      <td>1369</td>\n",
              "      <td>1567</td>\n",
              "      <td>4737</td>\n",
              "      <td>14865</td>\n",
              "      <td>188</td>\n",
              "      <td>1</td>\n",
              "    </tr>\n",
              "    <tr>\n",
              "      <th>10388</th>\n",
              "      <td>71418</td>\n",
              "      <td>11352</td>\n",
              "      <td>8960</td>\n",
              "      <td>46700</td>\n",
              "      <td>84844</td>\n",
              "      <td>11468</td>\n",
              "      <td>0</td>\n",
              "      <td>15178</td>\n",
              "      <td>11581</td>\n",
              "      <td>3596</td>\n",
              "      <td>...</td>\n",
              "      <td>2</td>\n",
              "      <td>2</td>\n",
              "      <td>693</td>\n",
              "      <td>99</td>\n",
              "      <td>2863</td>\n",
              "      <td>1702</td>\n",
              "      <td>2804</td>\n",
              "      <td>8161</td>\n",
              "      <td>191</td>\n",
              "      <td>0</td>\n",
              "    </tr>\n",
              "    <tr>\n",
              "      <th>11029</th>\n",
              "      <td>120450</td>\n",
              "      <td>30872</td>\n",
              "      <td>10704</td>\n",
              "      <td>71532</td>\n",
              "      <td>132144</td>\n",
              "      <td>31660</td>\n",
              "      <td>0</td>\n",
              "      <td>37109</td>\n",
              "      <td>30762</td>\n",
              "      <td>6346</td>\n",
              "      <td>...</td>\n",
              "      <td>2</td>\n",
              "      <td>1</td>\n",
              "      <td>2422</td>\n",
              "      <td>2959</td>\n",
              "      <td>925</td>\n",
              "      <td>98</td>\n",
              "      <td>3416</td>\n",
              "      <td>9820</td>\n",
              "      <td>196</td>\n",
              "      <td>0</td>\n",
              "    </tr>\n",
              "    <tr>\n",
              "      <th>36609</th>\n",
              "      <td>42669</td>\n",
              "      <td>4156</td>\n",
              "      <td>12544</td>\n",
              "      <td>29872</td>\n",
              "      <td>91184</td>\n",
              "      <td>4172</td>\n",
              "      <td>0</td>\n",
              "      <td>13283</td>\n",
              "      <td>10668</td>\n",
              "      <td>2614</td>\n",
              "      <td>...</td>\n",
              "      <td>5</td>\n",
              "      <td>2</td>\n",
              "      <td>2323</td>\n",
              "      <td>149</td>\n",
              "      <td>783</td>\n",
              "      <td>1954</td>\n",
              "      <td>2908</td>\n",
              "      <td>8117</td>\n",
              "      <td>192</td>\n",
              "      <td>0</td>\n",
              "    </tr>\n",
              "    <tr>\n",
              "      <th>26413</th>\n",
              "      <td>65679</td>\n",
              "      <td>3256</td>\n",
              "      <td>10792</td>\n",
              "      <td>52684</td>\n",
              "      <td>101276</td>\n",
              "      <td>6004</td>\n",
              "      <td>0</td>\n",
              "      <td>32054</td>\n",
              "      <td>24837</td>\n",
              "      <td>7216</td>\n",
              "      <td>...</td>\n",
              "      <td>3</td>\n",
              "      <td>0</td>\n",
              "      <td>2271</td>\n",
              "      <td>7564</td>\n",
              "      <td>626</td>\n",
              "      <td>1826</td>\n",
              "      <td>139</td>\n",
              "      <td>12426</td>\n",
              "      <td>192</td>\n",
              "      <td>0</td>\n",
              "    </tr>\n",
              "    <tr>\n",
              "      <th>...</th>\n",
              "      <td>...</td>\n",
              "      <td>...</td>\n",
              "      <td>...</td>\n",
              "      <td>...</td>\n",
              "      <td>...</td>\n",
              "      <td>...</td>\n",
              "      <td>...</td>\n",
              "      <td>...</td>\n",
              "      <td>...</td>\n",
              "      <td>...</td>\n",
              "      <td>...</td>\n",
              "      <td>...</td>\n",
              "      <td>...</td>\n",
              "      <td>...</td>\n",
              "      <td>...</td>\n",
              "      <td>...</td>\n",
              "      <td>...</td>\n",
              "      <td>...</td>\n",
              "      <td>...</td>\n",
              "      <td>...</td>\n",
              "      <td>...</td>\n",
              "    </tr>\n",
              "    <tr>\n",
              "      <th>42697</th>\n",
              "      <td>35571</td>\n",
              "      <td>208</td>\n",
              "      <td>11060</td>\n",
              "      <td>32352</td>\n",
              "      <td>56960</td>\n",
              "      <td>212</td>\n",
              "      <td>0</td>\n",
              "      <td>9027</td>\n",
              "      <td>5661</td>\n",
              "      <td>3365</td>\n",
              "      <td>...</td>\n",
              "      <td>3</td>\n",
              "      <td>1</td>\n",
              "      <td>1801</td>\n",
              "      <td>1512</td>\n",
              "      <td>1660</td>\n",
              "      <td>1308</td>\n",
              "      <td>404</td>\n",
              "      <td>6685</td>\n",
              "      <td>189</td>\n",
              "      <td>1</td>\n",
              "    </tr>\n",
              "    <tr>\n",
              "      <th>36008</th>\n",
              "      <td>52445</td>\n",
              "      <td>5196</td>\n",
              "      <td>12452</td>\n",
              "      <td>36008</td>\n",
              "      <td>98696</td>\n",
              "      <td>7208</td>\n",
              "      <td>0</td>\n",
              "      <td>17994</td>\n",
              "      <td>15059</td>\n",
              "      <td>2934</td>\n",
              "      <td>...</td>\n",
              "      <td>3</td>\n",
              "      <td>0</td>\n",
              "      <td>113</td>\n",
              "      <td>2628</td>\n",
              "      <td>802</td>\n",
              "      <td>2621</td>\n",
              "      <td>6419</td>\n",
              "      <td>12583</td>\n",
              "      <td>193</td>\n",
              "      <td>0</td>\n",
              "    </tr>\n",
              "    <tr>\n",
              "      <th>46265</th>\n",
              "      <td>37220</td>\n",
              "      <td>3464</td>\n",
              "      <td>12612</td>\n",
              "      <td>27708</td>\n",
              "      <td>82884</td>\n",
              "      <td>3488</td>\n",
              "      <td>0</td>\n",
              "      <td>10049</td>\n",
              "      <td>7028</td>\n",
              "      <td>3020</td>\n",
              "      <td>...</td>\n",
              "      <td>5</td>\n",
              "      <td>1</td>\n",
              "      <td>3582</td>\n",
              "      <td>4443</td>\n",
              "      <td>1225</td>\n",
              "      <td>1391</td>\n",
              "      <td>2992</td>\n",
              "      <td>13633</td>\n",
              "      <td>189</td>\n",
              "      <td>1</td>\n",
              "    </tr>\n",
              "    <tr>\n",
              "      <th>23587</th>\n",
              "      <td>113947</td>\n",
              "      <td>39996</td>\n",
              "      <td>10852</td>\n",
              "      <td>60764</td>\n",
              "      <td>99972</td>\n",
              "      <td>41624</td>\n",
              "      <td>0</td>\n",
              "      <td>43932</td>\n",
              "      <td>31028</td>\n",
              "      <td>12903</td>\n",
              "      <td>...</td>\n",
              "      <td>5</td>\n",
              "      <td>0</td>\n",
              "      <td>926</td>\n",
              "      <td>3027</td>\n",
              "      <td>1510</td>\n",
              "      <td>1908</td>\n",
              "      <td>5238</td>\n",
              "      <td>12609</td>\n",
              "      <td>187</td>\n",
              "      <td>1</td>\n",
              "    </tr>\n",
              "    <tr>\n",
              "      <th>29313</th>\n",
              "      <td>79501</td>\n",
              "      <td>5476</td>\n",
              "      <td>10600</td>\n",
              "      <td>66556</td>\n",
              "      <td>94636</td>\n",
              "      <td>5580</td>\n",
              "      <td>0</td>\n",
              "      <td>27634</td>\n",
              "      <td>20688</td>\n",
              "      <td>6945</td>\n",
              "      <td>...</td>\n",
              "      <td>8</td>\n",
              "      <td>1</td>\n",
              "      <td>820</td>\n",
              "      <td>106</td>\n",
              "      <td>2003</td>\n",
              "      <td>3506</td>\n",
              "      <td>2601</td>\n",
              "      <td>9036</td>\n",
              "      <td>191</td>\n",
              "      <td>0</td>\n",
              "    </tr>\n",
              "  </tbody>\n",
              "</table>\n",
              "<p>42751 rows × 142 columns</p>\n",
              "</div>"
            ],
            "text/plain": [
              "       Memory_PssTotal  Memory_PssClean  Memory_SharedDirty  \\\n",
              "48143            35115             2936               12944   \n",
              "10388            71418            11352                8960   \n",
              "11029           120450            30872               10704   \n",
              "36609            42669             4156               12544   \n",
              "26413            65679             3256               10792   \n",
              "...                ...              ...                 ...   \n",
              "42697            35571              208               11060   \n",
              "36008            52445             5196               12452   \n",
              "46265            37220             3464               12612   \n",
              "23587           113947            39996               10852   \n",
              "29313            79501             5476               10600   \n",
              "\n",
              "       Memory_PrivateDirty  Memory_SharedClean  Memory_PrivateClean  \\\n",
              "48143                25560               83552                 3072   \n",
              "10388                46700               84844                11468   \n",
              "11029                71532              132144                31660   \n",
              "36609                29872               91184                 4172   \n",
              "26413                52684              101276                 6004   \n",
              "...                    ...                 ...                  ...   \n",
              "42697                32352               56960                  212   \n",
              "36008                36008               98696                 7208   \n",
              "46265                27708               82884                 3488   \n",
              "23587                60764               99972                41624   \n",
              "29313                66556               94636                 5580   \n",
              "\n",
              "       Memory_SwapPssDirty  Memory_HeapSize  Memory_HeapAlloc  \\\n",
              "48143                    0             9086              5558   \n",
              "10388                    0            15178             11581   \n",
              "11029                    0            37109             30762   \n",
              "36609                    0            13283             10668   \n",
              "26413                    0            32054             24837   \n",
              "...                    ...              ...               ...   \n",
              "42697                    0             9027              5661   \n",
              "36008                    0            17994             15059   \n",
              "46265                    0            10049              7028   \n",
              "23587                    0            43932             31028   \n",
              "29313                    0            27634             20688   \n",
              "\n",
              "       Memory_HeapFree  ...  Battery_wakelock  Battery_service  Logcat_info  \\\n",
              "48143             3527  ...                 3                0         4372   \n",
              "10388             3596  ...                 2                2          693   \n",
              "11029             6346  ...                 2                1         2422   \n",
              "36609             2614  ...                 5                2         2323   \n",
              "26413             7216  ...                 3                0         2271   \n",
              "...                ...  ...               ...              ...          ...   \n",
              "42697             3365  ...                 3                1         1801   \n",
              "36008             2934  ...                 3                0          113   \n",
              "46265             3020  ...                 5                1         3582   \n",
              "23587            12903  ...                 5                0          926   \n",
              "29313             6945  ...                 8                1          820   \n",
              "\n",
              "       Logcat_error  Logcat_warning  Logcat_debug  Logcat_verbose  \\\n",
              "48143          2820            1369          1567            4737   \n",
              "10388            99            2863          1702            2804   \n",
              "11029          2959             925            98            3416   \n",
              "36609           149             783          1954            2908   \n",
              "26413          7564             626          1826             139   \n",
              "...             ...             ...           ...             ...   \n",
              "42697          1512            1660          1308             404   \n",
              "36008          2628             802          2621            6419   \n",
              "46265          4443            1225          1391            2992   \n",
              "23587          3027            1510          1908            5238   \n",
              "29313           106            2003          3506            2601   \n",
              "\n",
              "       Logcat_total  Process_total  Reboot_before  \n",
              "48143         14865            188              1  \n",
              "10388          8161            191              0  \n",
              "11029          9820            196              0  \n",
              "36609          8117            192              0  \n",
              "26413         12426            192              0  \n",
              "...             ...            ...            ...  \n",
              "42697          6685            189              1  \n",
              "36008         12583            193              0  \n",
              "46265         13633            189              1  \n",
              "23587         12609            187              1  \n",
              "29313          9036            191              0  \n",
              "\n",
              "[42751 rows x 142 columns]"
            ]
          },
          "execution_count": 68,
          "metadata": {},
          "output_type": "execute_result"
        }
      ],
      "source": [
        "baseline_pipeline.dataset.X_train"
      ]
    },
    {
      "cell_type": "code",
      "execution_count": null,
      "metadata": {},
      "outputs": [
        {
          "data": {
            "text/plain": [
              "48143     8\n",
              "10388     0\n",
              "11029     0\n",
              "36609     6\n",
              "26413    13\n",
              "         ..\n",
              "42697    12\n",
              "36008     6\n",
              "46265     8\n",
              "23587     6\n",
              "29313     8\n",
              "Length: 42751, dtype: int64"
            ]
          },
          "execution_count": 69,
          "metadata": {},
          "output_type": "execute_result"
        }
      ],
      "source": [
        "baseline_pipeline.dataset.y_train"
      ]
    },
    {
      "cell_type": "markdown",
      "metadata": {},
      "source": [
        "## FEATURE SELECTION\n",
        "- Analyze correlation and low-variances\n"
      ]
    },
    {
      "cell_type": "markdown",
      "metadata": {},
      "source": [
        "## Feature selection \n",
        "As explained before, we now proceed to carefully reduce the present high-dimensionality. High-dimensionality increases the chances of the model overfitting (capturing noise from irrelevant features; increasing variance and reducing bias), as well as introducing a significant computational overhead. We match this high-dimensionality with a highly filtering models_pipeline of feature selection.\n",
        "The most extensive cut comes given at the first level, with the mutual information threshold-based cut. This metric captures the level of uncertainity between the feature and the target variable (cnt). In marked contrast with pearson coefficeint (correlation), it is able to model non-linear and linea relationships altoghther. \n",
        "This feature-selectin models_pipeline is compromised of five (3 as of the final models_pipeline) cuts:\n",
        " - mutual information\n",
        " - low variance\n",
        " - multicolinearity analysis\n",
        " - PCA\n",
        " - Boruta and/or Lasso\n",
        "\n",
        "The different thresholds for each of this cuts have been altered over the different models_pipeline iterations. Specifically, in the bias-variance tradeoff (to be elaborated in further detail later), I increased all the thresholds in order to avoid por performance.\n",
        "\n",
        "#### Feature to target variable mutual information"
      ]
    },
    {
      "cell_type": "code",
      "execution_count": null,
      "metadata": {},
      "outputs": [],
      "source": [
        "# models_pipeline.feature_analysis.feature_selection.manual_feature_selection.fit(type=\"MutualInformation\", threshold=.2, delete_features=True, plot=True)"
      ]
    },
    {
      "cell_type": "markdown",
      "metadata": {},
      "source": [
        "#### Eliminating low-variances features\n",
        "Features with low variances provide little new information for the model to learn from, thus they could introduce statistical noise. Due to this reason, they should be elimanted from the dataset. The reason why we don't focus on high-variance is because this symbolizes outliers, which have been dealt with before in data preporcesing.\n",
        "This function call eliminate low-variance (based on threshold) and all cosntant variables (regardless of threshold)"
      ]
    },
    {
      "cell_type": "markdown",
      "metadata": {},
      "source": [
        "We will start off this analysis eliminating univariate features (i.e: the featuers with constant values)"
      ]
    },
    {
      "cell_type": "code",
      "execution_count": null,
      "metadata": {},
      "outputs": [],
      "source": [
        "# default_pipeline.feature_analysis.feature_selection.manual_feature_selection.fit(type=\"LowVariances\", \n",
        "#                                                                          threshold=0.5, \n",
        "#                                                                          delete_features=True, \n",
        "#                                                                          plot=True)"
      ]
    },
    {
      "cell_type": "markdown",
      "metadata": {},
      "source": [
        "As explained in scikit-learn's in (1.13.1 Feature selection)[https://scikit-learn.org/stable/modules/feature_selection.html], the variance threshold must be selected carefully. Too low may delete few variables, and too may be too restrictive, deleting more variables than it should."
      ]
    },
    {
      "cell_type": "markdown",
      "metadata": {},
      "source": [
        "#### Eliminating highly correlated feature \n",
        "Highly correlated variables (multicolinearity) are problem for models because they introduce a redundancy (features that contain significantly related similar information are not bringing much new insight into the model's input) to the model that can introduce significant variance. This is due to the fact that small changes in the data may make the coefficeints of the highly correlated variables **swing** more than it should\n",
        "\n",
        "A note on the shape of this heatmap: due to the high amount of features, and the redundancy to measure the correlation between features (where corr(A,B) = corr(B,A)) we set 'np.triu(np.ones_like(corr, dtype=bool))' in the utilities functions in order to show only new non-redudant correlations between features, thus the right triangle shape.\n",
        "Well, thats a lot to digest! We can see some solid red (high positive correlation) and medium-solid blue (some high negative correlation). \n",
        "Lets use a non-visual methodology to confirm our initial hypothesis. We will use variance inflaction factor (VIF) along with checking manually.\n",
        "A brief explanation on VIF. \n",
        "Formula: \n",
        "$$\n",
        "VIF_i = \\frac{1}{1 - R_i^2}\n",
        "$$\n",
        "You regress (i.e: do linear regression) on the ith feature as target variable, and all other features as predictors. You then compute the coefficient of determination as a way to measure how well the predictors fit the target variable. VIF values ranges from [1, inf], where lower bound signifies little multicolinearity (R^2 = 0), and upper bound occurs when R^2=1 (perfect multicolineairty). 5 is considered a standard threshold for VIF as it symbolized an 80% R^2.\n",
        "Once you ve obtained the results of VIF, you need to delete the variable with the highest VIF, and recompute VIF until there is no multicolinearity. For example, say there are three features that are 4 features, 3 of them being linear combinations of each other. You would delete the variables with VIF until there is no VIF (when only one of those linear combinations remains). You cant delete all n-1 variables where n are the amount of variables with exceeding (with respect to the chosen threshold), because you may be deleting one that has high VIF due to another feature.\n",
        "\n",
        "A relevant note on why one-hot-encoding must be done dropping the first one:\n",
        "If we were to not remove one of the labels of one hot encoding, you would be able to predict which level of the categorical variable based on all other ones (there is only degree of freedom for categories levels; they are a linear combination). You would essentially see inf VIF in that area and delete it in this section. \n",
        "The VIF has to be computed every time we delete a feature due to high multicolinearity. Lets do that"
      ]
    },
    {
      "cell_type": "code",
      "execution_count": null,
      "metadata": {},
      "outputs": [],
      "source": [
        "#models_pipeline.feature_analysis.feature_selection.manual_feature_selection.fit(type=\"VIF\", threshold=10, delete_features=True, plot=False)"
      ]
    },
    {
      "cell_type": "markdown",
      "metadata": {},
      "source": [
        "### PCA\n",
        "PCA can still bring some more value to feature selection. It will take into account interaction effects by itself and find the principals that capture as much variance as we specify. Thus, its inclusion in the feature selection models_pipeline.\n",
        "It has been excldued due to underperformance."
      ]
    },
    {
      "cell_type": "code",
      "execution_count": null,
      "metadata": {},
      "outputs": [],
      "source": [
        "#models_pipeline.feature_analysis.feature_selection.manual_feature_selection.fit(type=\"PCA\", threshold=.95, delete_features=False, plot=False)"
      ]
    },
    {
      "cell_type": "markdown",
      "metadata": {},
      "source": [
        "### 1.3 Automatic Feature Selection\n",
        "#### L1 regularization\n",
        "Because of L1 regularization being able to set weights 0, we can briefly train our logistic regression model with such regulartization and see which features it uses. The reason why it sets 0 to insignificant feature is because the objective function is not only the MSE but added a component of the wieght magnitude (which is trying to minimize)"
      ]
    },
    {
      "cell_type": "code",
      "execution_count": null,
      "metadata": {},
      "outputs": [],
      "source": [
        "# excluded_features, predictive_features, coefficients = models_pipeline.feature_analysis.feature_selection.automatic_feature_selection.fit(type=\"L1\",\n",
        "#                                                                                                                                     max_iter=1000, \n",
        "#                                                                                                                                     print_results=True, delete_features=False)\n",
        "# excluded_features, len(excluded_features)"
      ]
    },
    {
      "cell_type": "markdown",
      "metadata": {},
      "source": [
        "#### BORUTA\n",
        "Boruta is a more powerful feature selection method (thus we use it as a reference for variable deletion). It is more powerful that L1 becuase it compares the importance of features to shuffled versions, ensuring robust feature selection\n"
      ]
    },
    {
      "cell_type": "code",
      "execution_count": null,
      "metadata": {},
      "outputs": [],
      "source": [
        "# excluded_features, predictive_features = models_pipeline.feature_analysis.feature_selection.automatic_feature_selection.fit(type=\"Boruta\", max_iter=10, print_results=True, delete_features=False)\n",
        "# excluded_features, len(excluded_features)"
      ]
    },
    {
      "cell_type": "markdown",
      "metadata": {},
      "source": [
        "Awesome, lets move onto the actual modelling part!"
      ]
    },
    {
      "cell_type": "markdown",
      "metadata": {},
      "source": [
        "<hr>"
      ]
    },
    {
      "cell_type": "markdown",
      "metadata": {},
      "source": [
        "# MODELLING"
      ]
    },
    {
      "cell_type": "markdown",
      "metadata": {},
      "source": [
        "## Fitting the model"
      ]
    },
    {
      "cell_type": "markdown",
      "metadata": {},
      "source": [
        "QUESTIONS FOR THIS SECTION\n",
        "- Can the ROC curve be used for multiclass?\n",
        "- Can a unsupervised learning algorithm (e.g: KNN) be used for this problem even tough its nature is to be supervised?\n",
        "- Does val to train deltas are meaningful here?"
      ]
    },
    {
      "cell_type": "markdown",
      "metadata": {},
      "source": [
        "TO BE DONE FOR THIS SECTION\n",
        "- Multiple models as classifiers\n",
        "- Learn more about each alogrithms' paremters\n",
        "- Can KNN be used here?"
      ]
    },
    {
      "cell_type": "markdown",
      "metadata": {},
      "source": [
        "## Random Forest & Decision Trees\n",
        "Instead of the originally planned logistic regression, we will be using an ensembled model first: random forest (collection of week decision trees). This model is not only likely to outperform the original choice because its nature to handle multiclass better, but also does this several orders of magnitude faster. We will add its not ensembled version too, along with gradient boosted machine\n",
        "Note we are not using not-by-default multiclass classifiers (e.g: logistic regressions, svms)\n",
        "\n",
        "## Non-optimized fitting\n",
        "We first fit all these models with the default paramterers. This is done to constrat more starkly the difference between pre and post tuning."
      ]
    },
    {
      "cell_type": "code",
      "execution_count": null,
      "metadata": {},
      "outputs": [],
      "source": [
        "# Ensembled models\n",
        "gradientBoostingModel = GradientBoostingClassifier()\n",
        "randomForestModel = RandomForestClassifier()\n",
        "\n",
        "# Tree-based models\n",
        "decisionTreeModel = DecisionTreeClassifier()\n",
        "\n",
        "# Linear models\n",
        "supportVectorModel = SVC()\n",
        "\n",
        "# Baseline\n",
        "logisticRegressionModel = LogisticRegression()"
      ]
    },
    {
      "cell_type": "markdown",
      "metadata": {},
      "source": [
        "#### MODEL PERFORMANCE, HYPOTHESIS\n",
        "- Trees (e.g: random forest, decision trees):\n",
        "  - Time to fit:\n",
        "    - Ensemble models (random forest) take more time to train due to the fact that they are larger and heavier than their non-ensembled version. \n",
        "  - Correctness:\n",
        "     - High\n",
        "- Binary-classifiers by default models (e.g: SMV, logistic regression)\n",
        "  - Time to fit:\n",
        "    - compute C models for all C number of classes. Each trained to detect a single class, then when we make predictions, we select the ones that has the highest probability in its predictions (\"the most confident in its prediction\"). This strategy is called One-vs-Rest, note however, a single logistic regression may be used if we used the softmax objective function (instead of log-odds) (it still heavy computationally, tough). They will be sloder than ensemble models\n",
        "  - Correctness:\n",
        "     - Very low if the problem is non-linear which it is for the SVM and logistic regression"
      ]
    },
    {
      "cell_type": "code",
      "execution_count": null,
      "metadata": {},
      "outputs": [
        {
          "data": {
            "text/plain": [
              "{'models': {'ensembled': <library.pipeline.pipeline.Pipeline at 0x21df87fd160>,\n",
              "  'tree-based': <library.pipeline.pipeline.Pipeline at 0x21df87fd160>,\n",
              "  'linear': <library.pipeline.pipeline.Pipeline at 0x21df87fd160>},\n",
              " 'baseline': {'logistic': <library.pipeline.pipeline.Pipeline at 0x21df9161490>}}"
            ]
          },
          "execution_count": 77,
          "metadata": {},
          "output_type": "execute_result"
        }
      ],
      "source": [
        "pipeline_manager.pipelines"
      ]
    },
    {
      "cell_type": "code",
      "execution_count": null,
      "metadata": {},
      "outputs": [],
      "source": [
        "ensembled_pipeline = pipeline_manager.create_pipeline_divergence(category=\"models\", pipelineName=\"ensembled\")"
      ]
    },
    {
      "cell_type": "code",
      "execution_count": null,
      "metadata": {},
      "outputs": [
        {
          "data": {
            "text/plain": [
              "{'models': {'ensembled': <library.pipeline.pipeline.Pipeline at 0x21df918e7b0>,\n",
              "  'tree-based': <library.pipeline.pipeline.Pipeline at 0x21df87fd160>,\n",
              "  'linear': <library.pipeline.pipeline.Pipeline at 0x21df87fd160>},\n",
              " 'baseline': {'logistic': <library.pipeline.pipeline.Pipeline at 0x21df9161490>}}"
            ]
          },
          "execution_count": 79,
          "metadata": {},
          "output_type": "execute_result"
        }
      ],
      "source": [
        "pipeline_manager.pipelines"
      ]
    },
    {
      "cell_type": "code",
      "execution_count": null,
      "metadata": {},
      "outputs": [],
      "source": [
        "# Ensembled models\n",
        "ensembled_pipeline.model_selection.add_model(\"Gradient Boosting\", gradientBoostingModel)\n",
        "ensembled_pipeline.model_selection.add_model(\"Random Forest\", randomForestModel)\n",
        "\n",
        "# Tree-based models\n",
        "tree_pipeline.model_selection.add_model(\"Decision Tree\", decisionTreeModel)\n",
        "\n",
        "# Linear models\n",
        "linear_pipeline.model_selection.add_model(\"SVM\", supportVectorModel) \n",
        "\n",
        "# Baseline\n",
        "baseline_pipeline.model_selection.add_model(\"Logistic Regression\", logisticRegressionModel)\n"
      ]
    },
    {
      "cell_type": "markdown",
      "metadata": {},
      "source": [
        "While we debug, lets exlclude some models we dont need for now (they are very slow to train)"
      ]
    },
    {
      "cell_type": "code",
      "execution_count": null,
      "metadata": {},
      "outputs": [],
      "source": [
        "# Ensembled models\n",
        "ensembled_pipeline.model_selection.models_to_exclude = [\"Gradient Boosting\"]\n",
        "\n",
        "# Tree-based models\n",
        "tree_pipeline.model_selection.models_to_exclude = []\n",
        "\n",
        "# Linear models\n",
        "linear_pipeline.model_selection.models_to_exclude = [\"SVM\"]\n",
        "\n",
        "# Baseline\n",
        "baseline_pipeline.model_selection.models_to_exclude = [\"Logistic Regression\"]\n"
      ]
    },
    {
      "cell_type": "code",
      "execution_count": null,
      "metadata": {},
      "outputs": [
        {
          "name": "stdout",
          "output_type": "stream",
          "text": [
            "All models have been fitted and made predictions in parallel.\n",
            "All models have been fitted and made predictions in parallel.\n",
            "All models have been fitted and made predictions in parallel.\n"
          ]
        },
        {
          "data": {
            "text/plain": [
              "{'models': {'tree-based': None, 'ensembled': None},\n",
              " 'baseline': {'logistic': None}}"
            ]
          },
          "execution_count": 82,
          "metadata": {},
          "output_type": "execute_result"
        }
      ],
      "source": [
        "pipeline_manager.all_pipelines_execute(methodName=\"model_selection.fit_models\")"
      ]
    },
    {
      "cell_type": "markdown",
      "metadata": {},
      "source": [
        "Let's make sure the predictions vary between holdout sets"
      ]
    },
    {
      "cell_type": "markdown",
      "metadata": {},
      "source": [
        "<i> the aforeshown diagram was originally done with the sole intention to debug an error that made predictions be the same across sets. Insights may not be much meaningful after correctio, but it is worth keeping until the end of the notebook development </i>\n",
        "\n",
        "### PREDICTIONS RESULTS \n",
        "Before we get into the actual results, lets elaborate briefly on all the metrics that we are using to asses our classifiers:\n",
        "\n",
        "- Accuracy => total correctly predicted elemetnts (sigma over the moments we predicted x_i and it was actually x_i / number_of_samples)\n",
        "$$\n",
        "\\text{Accuracy} = \\frac{\\sum_{i} \\mathbf{1}(\\hat{y}_i = y_i)}{N}\n",
        "$$\n",
        "- Precision => out of how many predicted for that class were actually from that class (predicted for class x when it was x/ predicted for class x when it was x + predicted for class x when it was NOT x)\n",
        "$$\n",
        "\\text{Precision}_x = \\frac{\\text{TP}_x}{\\text{TP}_x + \\text{FP}_x}\n",
        "$$\n",
        "- Recall => out of all cases that were positive how many got predicted correctly?\n",
        "$$\n",
        "\\text{Recall}_x = \\frac{\\text{TP}_x}{\\text{TP}_x + \\text{FN}_x}\n",
        "$$\n",
        "- F1-score => harmonic mean of precision and recall (balances both metrics, heavily penalize spreadness between ratios that are being averaged out)\n",
        "$$\n",
        "\\text{F1}_x = 2 \\times \\frac{\\text{Precision}_x \\times \\text{Recall}_x}{\\text{Precision}_x + \\text{Recall}_x}\n",
        "$$\n",
        "- Support => number of actual occurences of class in the dataset\n",
        "- macro avg => averages given metric across all classes\n",
        "$$\n",
        "\\text{Macro Avg} = \\frac{1}{C} \\sum_{i=1}^{C} M_i\n",
        "$$\n",
        "- weighted avg => averages with weights per class occurence (considers frequency of class in average computation)\n",
        "$$\n",
        "\\text{Weighted Avg} = \\sum_{i=1}^{C} \\frac{\\text{Support}_i}{\\text{Total Instances}} \\times M_i\n",
        "$$"
      ]
    },
    {
      "cell_type": "code",
      "execution_count": null,
      "metadata": {},
      "outputs": [],
      "source": [
        "comments = \"wiLL THIS work?\""
      ]
    },
    {
      "cell_type": "code",
      "execution_count": null,
      "metadata": {},
      "outputs": [],
      "source": [
        "phaseProcess={\"is_EDA_done\": False,\n",
        "             \"is_DataPreprocessing_done\": False,\n",
        "              \"is_FeatureAnalysis_done\": False,\n",
        "              \"is_HyperParameterOptimization_done\": False\n",
        "              }"
      ]
    },
    {
      "cell_type": "code",
      "execution_count": null,
      "metadata": {},
      "outputs": [
        {
          "name": "stdout",
          "output_type": "stream",
          "text": [
            "All models have been evaluated.\n",
            "[DEBUG] Starting store_results\n",
            "[DEBUG 0.00s] Completed store_results, processed 0 models\n",
            "All models have been evaluated.\n",
            "[DEBUG] Starting store_results\n",
            "Metadata is: {'id': None, 'timeStamp': None, 'comments': None, 'modelName': 'Decision Tree', 'status': 'pre_tuning', 'features_used': None, 'hyperParameters': None, 'timeToFit': 6.340508699417114, 'timeToMakePredictions': 0.011997461318969727, 'is_EDA_done': None, 'is_DataPreprocessing_done': None, 'is_FeatureAnalysis_done': None, 'is_HyperParameterOptimization_done': None, 'accuracy': 0.7586077844311377, 'precision': 0.7565185301029405, 'recall': 0.7586077844311377, 'f1-score': 0.7571983352224441, 'predictions': array([6, 6, 0, ..., 8, 0, 0], shape=(5344,)), 'model_sklearn': DecisionTreeClassifier(), 'conf_matrix': array([[ 805,   13,    1,   20,    5,    4,   57,    5,   27,    1,    3,\n",
            "           5,    4,   46],\n",
            "       [   9,   64,    0,    2,    2,    0,   18,    1,    2,    1,    0,\n",
            "           4,    1,    8],\n",
            "       [   8,    0,   14,    0,    0,    0,    1,    1,    0,    0,    0,\n",
            "           0,    0,    1],\n",
            "       [  25,    2,    0,   79,    7,    7,   15,    2,   14,    0,    5,\n",
            "           8,   10,   33],\n",
            "       [  10,    2,    0,    4,   89,    1,    9,    3,    1,    0,    0,\n",
            "           0,    0,    3],\n",
            "       [   5,    0,    0,   10,    1,  269,    3,    0,   10,    0,   28,\n",
            "           1,   18,   10],\n",
            "       [  61,   12,    1,   15,    8,    2, 1209,    1,   44,    0,    1,\n",
            "          11,    4,   47],\n",
            "       [   6,    0,    0,    3,    1,    0,    2,   55,    1,    0,    0,\n",
            "           0,    0,    7],\n",
            "       [  34,    5,    0,   20,    2,    9,   47,    2,  715,    2,    4,\n",
            "          15,   11,   22],\n",
            "       [   0,    0,    0,    0,    0,    0,    0,    0,    1,   18,    5,\n",
            "           0,    1,    2],\n",
            "       [   3,    0,    0,    6,    1,   38,    8,    0,    4,    0,   98,\n",
            "           1,    1,    7],\n",
            "       [  11,    0,    0,    7,    0,    4,   14,    1,   17,    2,    1,\n",
            "         125,    7,    9],\n",
            "       [   1,    1,    0,    7,    3,   14,    1,    0,    8,    0,    2,\n",
            "           5,  244,    6],\n",
            "       [  50,    2,    1,   13,   10,    9,   52,    2,   32,    1,    7,\n",
            "           9,    6,  270]])}\n",
            "Col is: id\n",
            "Col is: timeStamp\n",
            "Col is: comments\n",
            "Col is: modelName\n",
            "Col is: status\n",
            "Col is: features_used\n",
            "Col is: hyperParameters\n",
            "Col is: timeToFit\n",
            "Col is: timeToMakePredictions\n",
            "Col is: is_EDA_done\n",
            "Col is: is_DataPreprocessing_done\n",
            "Col is: is_FeatureAnalysis_done\n",
            "Col is: is_HyperParameterOptimization_done\n",
            "Col is: accuracy\n",
            "Col is: precision\n",
            "Col is: recall\n",
            "Col is: f1-score\n",
            "Col is: predictions\n",
            "Col is: model_sklearn\n",
            "Col is: conf_matrix\n",
            "****WARNING****: A model with the same values already exists in the results. Results will not be saved. \n",
            "                               You tried to write {'id': '48aafd7f8b050f18a3879156ad3b852222aff616f7084f0666b2ba9e384ca7e4', 'timeStamp': '2025-04-14 22:26:00', 'comments': 'wiLL THIS work?', 'modelName': 'Decision Tree', 'status': 'pre_tuning', 'features_used': ['Memory_PssTotal', 'Memory_PssClean', 'Memory_SharedDirty', 'Memory_PrivateDirty', 'Memory_SharedClean', 'Memory_PrivateClean', 'Memory_SwapPssDirty', 'Memory_HeapSize', 'Memory_HeapAlloc', 'Memory_HeapFree', 'Memory_Views', 'Memory_ViewRootImpl', 'Memory_AppContexts', 'Memory_Activities', 'Memory_Assets', 'Memory_AssetManagers', 'Memory_LocalBinders', 'Memory_ProxyBinders', 'Memory_ParcelMemory', 'Memory_ParcelCount', 'Memory_DeathRecipients', 'Memory_OpenSSLSockets', 'Memory_WebViews', 'API_Process_android.os.Process_start', 'API_Process_android.app.ActivityManager_killBackgroundProcesses', 'API_Process_android.os.Process_killProcess', 'API_Command_java.lang.Runtime_exec', 'API_Command_java.lang.ProcessBuilder_start', 'API_JavaNativeInterface_java.lang.Runtime_loadLibrary', 'API_JavaNativeInterface_java.lang.Runtime_load', 'API_WebView_android.webkit.WebView_loadUrl', 'API_WebView_android.webkit.WebView_loadData', 'API_WebView_android.webkit.WebView_loadDataWithBaseURL', 'API_WebView_android.webkit.WebView_addJavascriptInterface', 'API_WebView_android.webkit.WebView_evaluateJavascript', 'API_WebView_android.webkit.WebView_postUrl', 'API_WebView_android.webkit.WebView_postWebMessage', 'API_WebView_android.webkit.WebView_savePassword', 'API_WebView_android.webkit.WebView_setHttpAuthUsernamePassword', 'API_WebView_android.webkit.WebView_getHttpAuthUsernamePassword', 'API_WebView_android.webkit.WebView_setWebContentsDebuggingEnabled', 'API_FileIO_libcore.io.IoBridge_open', 'API_FileIO_android.content.ContextWrapper_openFileInput', 'API_FileIO_android.content.ContextWrapper_openFileOutput', 'API_FileIO_android.content.ContextWrapper_deleteFile', 'API_Database_android.content.ContextWrapper_openOrCreateDatabase', 'API_Database_android.content.ContextWrapper_databaseList', 'API_Database_android.content.ContextWrapper_deleteDatabase', 'API_Database_android.database.sqlite.SQLiteDatabase_execSQL', 'API_Database_android.database.sqlite.SQLiteDatabase_deleteDatabase', 'API_Database_android.database.sqlite.SQLiteDatabase_getPath', 'API_Database_android.database.sqlite.SQLiteDatabase_insert', 'API_Database_android.database.sqlite.SQLiteDatabase_insertOrThrow', 'API_Database_android.database.sqlite.SQLiteDatabase_insertWithOnConflict', 'API_Database_android.database.sqlite.SQLiteDatabase_openDatabase', 'API_Database_android.database.sqlite.SQLiteDatabase_openOrCreateDatabase', 'API_Database_android.database.sqlite.SQLiteDatabase_query', 'API_Database_android.database.sqlite.SQLiteDatabase_queryWithFactory', 'API_Database_android.database.sqlite.SQLiteDatabase_rawQuery', 'API_Database_android.database.sqlite.SQLiteDatabase_rawQueryWithFactory', 'API_Database_android.database.sqlite.SQLiteDatabase_update', 'API_Database_android.database.sqlite.SQLiteDatabase_updateWithOnConflict', 'API_Database_android.database.sqlite.SQLiteDatabase_compileStatement', 'API_Database_android.database.sqlite.SQLiteDatabase_create', 'API_IPC_android.content.ContextWrapper_sendBroadcast', 'API_IPC_android.content.ContextWrapper_sendStickyBroadcast', 'API_IPC_android.content.ContextWrapper_startActivity', 'API_IPC_android.content.ContextWrapper_startService', 'API_IPC_android.content.ContextWrapper_stopService', 'API_IPC_android.content.ContextWrapper_registerReceiver', 'API_Binder_android.app.ContextImpl_registerReceiver', 'API_Binder_android.app.ActivityThread_handleReceiver', 'API_Binder_android.app.Activity_startActivity', 'API_Crypto_javax.crypto.spec.SecretKeySpec_$init', 'API_Crypto_javax.crypto.Cipher_doFinal', 'API_Crypto-Hash_java.security.MessageDigest_digest', 'API_Crypto-Hash_java.security.MessageDigest_update', 'API_DeviceInfo_android.telephony.TelephonyManager_getDeviceId', 'API_DeviceInfo_android.telephony.TelephonyManager_getSubscriberId', 'API_DeviceInfo_android.telephony.TelephonyManager_getLine1Number', 'API_DeviceInfo_android.telephony.TelephonyManager_getNetworkOperator', 'API_DeviceInfo_android.telephony.TelephonyManager_getNetworkOperatorName', 'API_DeviceInfo_android.telephony.TelephonyManager_getSimOperatorName', 'API_DeviceInfo_android.net.wifi.WifiInfo_getMacAddress', 'API_DeviceInfo_android.net.wifi.WifiInfo_getBSSID', 'API_DeviceInfo_android.net.wifi.WifiInfo_getIpAddress', 'API_DeviceInfo_android.net.wifi.WifiInfo_getNetworkId', 'API_DeviceInfo_android.telephony.TelephonyManager_getSimCountryIso', 'API_DeviceInfo_android.telephony.TelephonyManager_getSimSerialNumber', 'API_DeviceInfo_android.telephony.TelephonyManager_getNetworkCountryIso', 'API_DeviceInfo_android.telephony.TelephonyManager_getDeviceSoftwareVersion', 'API_DeviceInfo_android.os.Debug_isDebuggerConnected', 'API_DeviceInfo_android.content.pm.PackageManager_getInstallerPackageName', 'API_DeviceInfo_android.content.pm.PackageManager_getInstalledApplications', 'API_DeviceInfo_android.content.pm.PackageManager_getInstalledModules', 'API_DeviceInfo_android.content.pm.PackageManager_getInstalledPackages', 'API_Network_java.net.URL_openConnection', 'API_Network_org.apache.http.impl.client.AbstractHttpClient_execute', 'API_Network_com.android.okhttp.internal.huc.HttpURLConnectionImpl_getInputStream', 'API_Network_com.android.okhttp.internal.http.HttpURLConnectionImpl_getInputStream', 'API_DexClassLoader_dalvik.system.BaseDexClassLoader_findResource', 'API_DexClassLoader_dalvik.system.BaseDexClassLoader_findResources', 'API_DexClassLoader_dalvik.system.BaseDexClassLoader_findLibrary', 'API_DexClassLoader_dalvik.system.DexFile_loadDex', 'API_DexClassLoader_dalvik.system.DexFile_loadClass', 'API_DexClassLoader_dalvik.system.DexClassLoader_$init', 'API_Base64_android.util.Base64_decode', 'API_Base64_android.util.Base64_encode', 'API_Base64_android.util.Base64_encodeToString', 'API_SystemManager_android.app.ApplicationPackageManager_setComponentEnabledSetting', 'API_SystemManager_android.app.NotificationManager_notify', 'API_SystemManager_android.telephony.TelephonyManager_listen', 'API_SystemManager_android.content.BroadcastReceiver_abortBroadcast', 'API_SMS_android.telephony.SmsManager_sendTextMessage', 'API_SMS_android.telephony.SmsManager_sendMultipartTextMessage', 'API_DeviceData_android.content.ContentResolver_query', 'API_DeviceData_android.content.ContentResolver_registerContentObserver', 'API_DeviceData_android.content.ContentResolver_insert', 'API_DeviceData_android.content.ContentResolver_delete', 'API_DeviceData_android.accounts.AccountManager_getAccountsByType', 'API_DeviceData_android.accounts.AccountManager_getAccounts', 'API_DeviceData_android.location.Location_getLatitude', 'API_DeviceData_android.location.Location_getLongitude', 'API_DeviceData_android.media.AudioRecord_startRecording', 'API_DeviceData_android.media.MediaRecorder_start', 'API_DeviceData_android.os.SystemProperties_get', 'API_DeviceData_android.app.ApplicationPackageManager_getInstalledPackages', 'API__sessions', 'Network_TotalReceivedBytes', 'Network_TotalReceivedPackets', 'Network_TotalTransmittedBytes', 'Network_TotalTransmittedPackets', 'Battery_wakelock', 'Battery_service', 'Logcat_info', 'Logcat_error', 'Logcat_warning', 'Logcat_debug', 'Logcat_verbose', 'Logcat_total', 'Process_total', 'Reboot_before'], 'hyperParameters': 'NA', 'timeToFit': 6.340508699417114, 'timeToMakePredictions': 0.011997461318969727, 'is_EDA_done': 'No', 'is_DataPreprocessing_done': 'No', 'is_FeatureAnalysis_done': 'No', 'is_HyperParameterOptimization_done': 'No', 'accuracy_val': 0.7586077844311377, 'accuracy_test': -1, 'precision_val': 0.7565185301029405, 'precision_test': -1, 'recall_val': 0.7586077844311377, 'recall_test': -1, 'f1-score_val': 0.7571983352224441, 'f1-score_test': -1}\n",
            "[DEBUG 0.01s] Completed store_results, processed 1 models\n",
            "All models have been evaluated.\n",
            "[DEBUG] Starting store_results\n",
            "Metadata is: {'id': None, 'timeStamp': None, 'comments': None, 'modelName': 'Random Forest', 'status': 'pre_tuning', 'features_used': None, 'hyperParameters': None, 'timeToFit': 28.686599254608154, 'timeToMakePredictions': 0.13625669479370117, 'is_EDA_done': None, 'is_DataPreprocessing_done': None, 'is_FeatureAnalysis_done': None, 'is_HyperParameterOptimization_done': None, 'accuracy': 0.8377619760479041, 'precision': 0.8396989189291503, 'recall': 0.8377619760479041, 'f1-score': 0.8314402946074085, 'predictions': array([6, 6, 0, ..., 8, 0, 0], shape=(5344,)), 'model_sklearn': RandomForestClassifier(), 'conf_matrix': array([[ 940,    2,    0,    0,    3,    1,   34,    1,   10,    0,    0,\n",
            "           0,    0,    5],\n",
            "       [  14,   73,    0,    0,    0,    0,   17,    0,    4,    0,    0,\n",
            "           3,    0,    1],\n",
            "       [  11,    0,   14,    0,    0,    0,    0,    0,    0,    0,    0,\n",
            "           0,    0,    0],\n",
            "       [  58,    2,    0,   80,    0,   10,   15,    1,   14,    0,    1,\n",
            "           2,    4,   20],\n",
            "       [  13,    0,    0,    0,   91,    1,    9,    3,    3,    0,    1,\n",
            "           0,    0,    1],\n",
            "       [   1,    0,    0,    1,    1,  314,    3,    0,    5,    0,   11,\n",
            "           1,   15,    3],\n",
            "       [  65,    4,    0,    2,    1,    1, 1290,    2,   26,    0,    0,\n",
            "           2,    0,   23],\n",
            "       [   3,    1,    0,    1,    1,    0,    0,   63,    1,    0,    0,\n",
            "           1,    0,    4],\n",
            "       [  32,    0,    0,    0,    0,    4,   26,    2,  798,    1,    2,\n",
            "           8,    1,   14],\n",
            "       [   0,    0,    0,    0,    0,    1,    0,    0,    2,   18,    2,\n",
            "           0,    2,    2],\n",
            "       [   4,    1,    0,    2,    0,   46,    7,    0,    3,    2,   93,\n",
            "           2,    1,    6],\n",
            "       [  19,    0,    0,    0,    0,    1,    8,    0,   18,    1,    0,\n",
            "         145,    1,    5],\n",
            "       [   3,    0,    0,    1,    0,    5,    0,    1,    8,    0,    1,\n",
            "           0,  265,    8],\n",
            "       [  60,    0,    0,   11,    2,    6,   50,    4,   30,    0,    2,\n",
            "           4,    2,  293]])}\n",
            "Col is: id\n",
            "Col is: timeStamp\n",
            "Col is: comments\n",
            "Col is: modelName\n",
            "Col is: status\n",
            "Col is: features_used\n",
            "Col is: hyperParameters\n",
            "Col is: timeToFit\n",
            "Col is: timeToMakePredictions\n",
            "Col is: is_EDA_done\n",
            "Col is: is_DataPreprocessing_done\n",
            "Col is: is_FeatureAnalysis_done\n",
            "Col is: is_HyperParameterOptimization_done\n",
            "Col is: accuracy\n",
            "Col is: precision\n",
            "Col is: recall\n",
            "Col is: f1-score\n",
            "Col is: predictions\n",
            "Col is: model_sklearn\n",
            "Col is: conf_matrix\n",
            "****WARNING****: A model with the same values already exists in the results. Results will not be saved. \n",
            "                               You tried to write {'id': '972adcb09acb6aa202c809cd4ea408be1d92ef4e2a906adf63c9061f22af99a6', 'timeStamp': '2025-04-14 22:26:04', 'comments': 'wiLL THIS work?', 'modelName': 'Random Forest', 'status': 'pre_tuning', 'features_used': ['Memory_PssTotal', 'Memory_PssClean', 'Memory_SharedDirty', 'Memory_PrivateDirty', 'Memory_SharedClean', 'Memory_PrivateClean', 'Memory_SwapPssDirty', 'Memory_HeapSize', 'Memory_HeapAlloc', 'Memory_HeapFree', 'Memory_Views', 'Memory_ViewRootImpl', 'Memory_AppContexts', 'Memory_Activities', 'Memory_Assets', 'Memory_AssetManagers', 'Memory_LocalBinders', 'Memory_ProxyBinders', 'Memory_ParcelMemory', 'Memory_ParcelCount', 'Memory_DeathRecipients', 'Memory_OpenSSLSockets', 'Memory_WebViews', 'API_Process_android.os.Process_start', 'API_Process_android.app.ActivityManager_killBackgroundProcesses', 'API_Process_android.os.Process_killProcess', 'API_Command_java.lang.Runtime_exec', 'API_Command_java.lang.ProcessBuilder_start', 'API_JavaNativeInterface_java.lang.Runtime_loadLibrary', 'API_JavaNativeInterface_java.lang.Runtime_load', 'API_WebView_android.webkit.WebView_loadUrl', 'API_WebView_android.webkit.WebView_loadData', 'API_WebView_android.webkit.WebView_loadDataWithBaseURL', 'API_WebView_android.webkit.WebView_addJavascriptInterface', 'API_WebView_android.webkit.WebView_evaluateJavascript', 'API_WebView_android.webkit.WebView_postUrl', 'API_WebView_android.webkit.WebView_postWebMessage', 'API_WebView_android.webkit.WebView_savePassword', 'API_WebView_android.webkit.WebView_setHttpAuthUsernamePassword', 'API_WebView_android.webkit.WebView_getHttpAuthUsernamePassword', 'API_WebView_android.webkit.WebView_setWebContentsDebuggingEnabled', 'API_FileIO_libcore.io.IoBridge_open', 'API_FileIO_android.content.ContextWrapper_openFileInput', 'API_FileIO_android.content.ContextWrapper_openFileOutput', 'API_FileIO_android.content.ContextWrapper_deleteFile', 'API_Database_android.content.ContextWrapper_openOrCreateDatabase', 'API_Database_android.content.ContextWrapper_databaseList', 'API_Database_android.content.ContextWrapper_deleteDatabase', 'API_Database_android.database.sqlite.SQLiteDatabase_execSQL', 'API_Database_android.database.sqlite.SQLiteDatabase_deleteDatabase', 'API_Database_android.database.sqlite.SQLiteDatabase_getPath', 'API_Database_android.database.sqlite.SQLiteDatabase_insert', 'API_Database_android.database.sqlite.SQLiteDatabase_insertOrThrow', 'API_Database_android.database.sqlite.SQLiteDatabase_insertWithOnConflict', 'API_Database_android.database.sqlite.SQLiteDatabase_openDatabase', 'API_Database_android.database.sqlite.SQLiteDatabase_openOrCreateDatabase', 'API_Database_android.database.sqlite.SQLiteDatabase_query', 'API_Database_android.database.sqlite.SQLiteDatabase_queryWithFactory', 'API_Database_android.database.sqlite.SQLiteDatabase_rawQuery', 'API_Database_android.database.sqlite.SQLiteDatabase_rawQueryWithFactory', 'API_Database_android.database.sqlite.SQLiteDatabase_update', 'API_Database_android.database.sqlite.SQLiteDatabase_updateWithOnConflict', 'API_Database_android.database.sqlite.SQLiteDatabase_compileStatement', 'API_Database_android.database.sqlite.SQLiteDatabase_create', 'API_IPC_android.content.ContextWrapper_sendBroadcast', 'API_IPC_android.content.ContextWrapper_sendStickyBroadcast', 'API_IPC_android.content.ContextWrapper_startActivity', 'API_IPC_android.content.ContextWrapper_startService', 'API_IPC_android.content.ContextWrapper_stopService', 'API_IPC_android.content.ContextWrapper_registerReceiver', 'API_Binder_android.app.ContextImpl_registerReceiver', 'API_Binder_android.app.ActivityThread_handleReceiver', 'API_Binder_android.app.Activity_startActivity', 'API_Crypto_javax.crypto.spec.SecretKeySpec_$init', 'API_Crypto_javax.crypto.Cipher_doFinal', 'API_Crypto-Hash_java.security.MessageDigest_digest', 'API_Crypto-Hash_java.security.MessageDigest_update', 'API_DeviceInfo_android.telephony.TelephonyManager_getDeviceId', 'API_DeviceInfo_android.telephony.TelephonyManager_getSubscriberId', 'API_DeviceInfo_android.telephony.TelephonyManager_getLine1Number', 'API_DeviceInfo_android.telephony.TelephonyManager_getNetworkOperator', 'API_DeviceInfo_android.telephony.TelephonyManager_getNetworkOperatorName', 'API_DeviceInfo_android.telephony.TelephonyManager_getSimOperatorName', 'API_DeviceInfo_android.net.wifi.WifiInfo_getMacAddress', 'API_DeviceInfo_android.net.wifi.WifiInfo_getBSSID', 'API_DeviceInfo_android.net.wifi.WifiInfo_getIpAddress', 'API_DeviceInfo_android.net.wifi.WifiInfo_getNetworkId', 'API_DeviceInfo_android.telephony.TelephonyManager_getSimCountryIso', 'API_DeviceInfo_android.telephony.TelephonyManager_getSimSerialNumber', 'API_DeviceInfo_android.telephony.TelephonyManager_getNetworkCountryIso', 'API_DeviceInfo_android.telephony.TelephonyManager_getDeviceSoftwareVersion', 'API_DeviceInfo_android.os.Debug_isDebuggerConnected', 'API_DeviceInfo_android.content.pm.PackageManager_getInstallerPackageName', 'API_DeviceInfo_android.content.pm.PackageManager_getInstalledApplications', 'API_DeviceInfo_android.content.pm.PackageManager_getInstalledModules', 'API_DeviceInfo_android.content.pm.PackageManager_getInstalledPackages', 'API_Network_java.net.URL_openConnection', 'API_Network_org.apache.http.impl.client.AbstractHttpClient_execute', 'API_Network_com.android.okhttp.internal.huc.HttpURLConnectionImpl_getInputStream', 'API_Network_com.android.okhttp.internal.http.HttpURLConnectionImpl_getInputStream', 'API_DexClassLoader_dalvik.system.BaseDexClassLoader_findResource', 'API_DexClassLoader_dalvik.system.BaseDexClassLoader_findResources', 'API_DexClassLoader_dalvik.system.BaseDexClassLoader_findLibrary', 'API_DexClassLoader_dalvik.system.DexFile_loadDex', 'API_DexClassLoader_dalvik.system.DexFile_loadClass', 'API_DexClassLoader_dalvik.system.DexClassLoader_$init', 'API_Base64_android.util.Base64_decode', 'API_Base64_android.util.Base64_encode', 'API_Base64_android.util.Base64_encodeToString', 'API_SystemManager_android.app.ApplicationPackageManager_setComponentEnabledSetting', 'API_SystemManager_android.app.NotificationManager_notify', 'API_SystemManager_android.telephony.TelephonyManager_listen', 'API_SystemManager_android.content.BroadcastReceiver_abortBroadcast', 'API_SMS_android.telephony.SmsManager_sendTextMessage', 'API_SMS_android.telephony.SmsManager_sendMultipartTextMessage', 'API_DeviceData_android.content.ContentResolver_query', 'API_DeviceData_android.content.ContentResolver_registerContentObserver', 'API_DeviceData_android.content.ContentResolver_insert', 'API_DeviceData_android.content.ContentResolver_delete', 'API_DeviceData_android.accounts.AccountManager_getAccountsByType', 'API_DeviceData_android.accounts.AccountManager_getAccounts', 'API_DeviceData_android.location.Location_getLatitude', 'API_DeviceData_android.location.Location_getLongitude', 'API_DeviceData_android.media.AudioRecord_startRecording', 'API_DeviceData_android.media.MediaRecorder_start', 'API_DeviceData_android.os.SystemProperties_get', 'API_DeviceData_android.app.ApplicationPackageManager_getInstalledPackages', 'API__sessions', 'Network_TotalReceivedBytes', 'Network_TotalReceivedPackets', 'Network_TotalTransmittedBytes', 'Network_TotalTransmittedPackets', 'Battery_wakelock', 'Battery_service', 'Logcat_info', 'Logcat_error', 'Logcat_warning', 'Logcat_debug', 'Logcat_verbose', 'Logcat_total', 'Process_total', 'Reboot_before'], 'hyperParameters': 'NA', 'timeToFit': 28.686599254608154, 'timeToMakePredictions': 0.13625669479370117, 'is_EDA_done': 'No', 'is_DataPreprocessing_done': 'No', 'is_FeatureAnalysis_done': 'No', 'is_HyperParameterOptimization_done': 'No', 'accuracy_val': 0.8377619760479041, 'accuracy_test': -1, 'precision_val': 0.8396989189291503, 'precision_test': -1, 'recall_val': 0.8377619760479041, 'recall_test': -1, 'f1-score_val': 0.8314402946074085, 'f1-score_test': -1}\n",
            "[DEBUG 0.01s] Completed store_results, processed 1 models\n"
          ]
        }
      ],
      "source": [
        "model_results = pipeline_manager.all_pipelines_execute(methodName=\"model_selection.evaluate_models\", phaseProcess=phaseProcess, comments=comments)"
      ]
    },
    {
      "cell_type": "code",
      "execution_count": null,
      "metadata": {},
      "outputs": [
        {
          "data": {
            "text/html": [
              "<div>\n",
              "<style scoped>\n",
              "    .dataframe tbody tr th:only-of-type {\n",
              "        vertical-align: middle;\n",
              "    }\n",
              "\n",
              "    .dataframe tbody tr th {\n",
              "        vertical-align: top;\n",
              "    }\n",
              "\n",
              "    .dataframe thead th {\n",
              "        text-align: right;\n",
              "    }\n",
              "</style>\n",
              "<table border=\"1\" class=\"dataframe\">\n",
              "  <thead>\n",
              "    <tr style=\"text-align: right;\">\n",
              "      <th></th>\n",
              "      <th>id</th>\n",
              "      <th>timeStamp</th>\n",
              "      <th>comments</th>\n",
              "      <th>modelName</th>\n",
              "      <th>status</th>\n",
              "      <th>features_used</th>\n",
              "      <th>hyperParameters</th>\n",
              "      <th>timeToFit</th>\n",
              "      <th>timeToMakePredictions</th>\n",
              "      <th>is_EDA_done</th>\n",
              "      <th>...</th>\n",
              "      <th>is_FeatureAnalysis_done</th>\n",
              "      <th>is_HyperParameterOptimization_done</th>\n",
              "      <th>accuracy_val</th>\n",
              "      <th>accuracy_test</th>\n",
              "      <th>precision_val</th>\n",
              "      <th>precision_test</th>\n",
              "      <th>recall_val</th>\n",
              "      <th>recall_test</th>\n",
              "      <th>f1-score_val</th>\n",
              "      <th>f1-score_test</th>\n",
              "    </tr>\n",
              "  </thead>\n",
              "  <tbody>\n",
              "    <tr>\n",
              "      <th>0</th>\n",
              "      <td>972adcb09acb6aa202c809cd4ea408be1d92ef4e2a906a...</td>\n",
              "      <td>2025-04-14 22:26:04</td>\n",
              "      <td>wiLL THIS work?</td>\n",
              "      <td>Random Forest</td>\n",
              "      <td>pre_tuning</td>\n",
              "      <td>[Memory_PssTotal, Memory_PssClean, Memory_Shar...</td>\n",
              "      <td>NA</td>\n",
              "      <td>28.686599</td>\n",
              "      <td>0.136257</td>\n",
              "      <td>No</td>\n",
              "      <td>...</td>\n",
              "      <td>No</td>\n",
              "      <td>No</td>\n",
              "      <td>0.837762</td>\n",
              "      <td>-1</td>\n",
              "      <td>0.839699</td>\n",
              "      <td>-1</td>\n",
              "      <td>0.837762</td>\n",
              "      <td>-1</td>\n",
              "      <td>0.83144</td>\n",
              "      <td>-1</td>\n",
              "    </tr>\n",
              "  </tbody>\n",
              "</table>\n",
              "<p>1 rows × 21 columns</p>\n",
              "</div>"
            ],
            "text/plain": [
              "                                                  id            timeStamp  \\\n",
              "0  972adcb09acb6aa202c809cd4ea408be1d92ef4e2a906a...  2025-04-14 22:26:04   \n",
              "\n",
              "          comments      modelName      status  \\\n",
              "0  wiLL THIS work?  Random Forest  pre_tuning   \n",
              "\n",
              "                                       features_used hyperParameters  \\\n",
              "0  [Memory_PssTotal, Memory_PssClean, Memory_Shar...              NA   \n",
              "\n",
              "   timeToFit  timeToMakePredictions is_EDA_done  ... is_FeatureAnalysis_done  \\\n",
              "0  28.686599               0.136257          No  ...                      No   \n",
              "\n",
              "  is_HyperParameterOptimization_done accuracy_val  accuracy_test  \\\n",
              "0                                 No     0.837762             -1   \n",
              "\n",
              "   precision_val  precision_test  recall_val  recall_test  f1-score_val  \\\n",
              "0       0.839699              -1    0.837762           -1       0.83144   \n",
              "\n",
              "   f1-score_test  \n",
              "0             -1  \n",
              "\n",
              "[1 rows x 21 columns]"
            ]
          },
          "execution_count": 86,
          "metadata": {},
          "output_type": "execute_result"
        }
      ],
      "source": [
        "model_results[\"models\"][\"ensembled\"]"
      ]
    },
    {
      "cell_type": "markdown",
      "metadata": {},
      "source": [
        "Observed the updated object with all the correct attributes"
      ]
    },
    {
      "cell_type": "code",
      "execution_count": null,
      "metadata": {},
      "outputs": [
        {
          "ename": "AttributeError",
          "evalue": "'dict' object has no attribute 'columns'",
          "output_type": "error",
          "traceback": [
            "\u001b[31m---------------------------------------------------------------------------\u001b[39m",
            "\u001b[31mAttributeError\u001b[39m                            Traceback (most recent call last)",
            "\u001b[36mCell\u001b[39m\u001b[36m \u001b[39m\u001b[32mIn[87]\u001b[39m\u001b[32m, line 1\u001b[39m\n\u001b[32m----> \u001b[39m\u001b[32m1\u001b[39m \u001b[43mmodel_results\u001b[49m\u001b[43m.\u001b[49m\u001b[43mcolumns\u001b[49m\n",
            "\u001b[31mAttributeError\u001b[39m: 'dict' object has no attribute 'columns'"
          ]
        }
      ],
      "source": [
        "model_results.columns"
      ]
    },
    {
      "cell_type": "markdown",
      "metadata": {},
      "source": [
        "## VALIDATION OBSERVATIONS"
      ]
    },
    {
      "cell_type": "code",
      "execution_count": null,
      "metadata": {},
      "outputs": [],
      "source": []
    },
    {
      "cell_type": "code",
      "execution_count": null,
      "metadata": {},
      "outputs": [],
      "source": [
        "default_pipeline.model_selection.results_analysis[\"pre\"].plot_multiple_model_metrics([\"accuracy_val\", \"precision_val\", \"recall_val\", \"f1-score_val\"])"
      ]
    },
    {
      "cell_type": "markdown",
      "metadata": {},
      "source": [
        "PLOTS:\n",
        "- Difference between performance \n",
        "- Early signs of overfitting\n",
        "- Feature importance \n",
        "- Plot errors "
      ]
    },
    {
      "cell_type": "code",
      "execution_count": null,
      "metadata": {},
      "outputs": [],
      "source": [
        "importances = models_pipeline.model_selection.list_of_models[\"Random Forest\"].preTuningState.assesment[\"model_sklearn\"].feature_importances_\n",
        "# Make a nice DataFrame\n",
        "feature_importance_df = pd.DataFrame({\n",
        "    'Feature': models_pipeline.dataset.X_train.columns,\n",
        "    'Importance': importances\n",
        "}).sort_values(by='Importance', ascending=False)\n",
        "feature_importance_df"
      ]
    },
    {
      "cell_type": "code",
      "execution_count": null,
      "metadata": {},
      "outputs": [],
      "source": [
        "plt.figure(figsize=(12, 6))\n",
        "sns.barplot(\n",
        "    x=\"Importance\",\n",
        "    y=\"Feature\",\n",
        "    data=feature_importance_df\n",
        ")\n",
        "plt.title(\"Feature Importances from Random Forest\")\n",
        "plt.tight_layout()\n",
        "plt.show()"
      ]
    },
    {
      "cell_type": "markdown",
      "metadata": {},
      "source": [
        "# Hyperparameter Optimization"
      ]
    }
  ],
  "metadata": {
    "colab": {
      "collapsed_sections": [
        "28_glozSPDm7",
        "LDW_CStuioNs",
        "Uv7LWIIU5X5i",
        "eaHsU58AdvlN",
        "vtG27WXGd3_R",
        "vR3xQcHnLUsk",
        "tJI5MrERTBNz",
        "VDydAnW3alRu",
        "Pi1pwj-9q_v5"
      ],
      "provenance": []
    },
    "kernelspec": {
      "display_name": "venv",
      "language": "python",
      "name": "python3"
    },
    "language_info": {
      "codemirror_mode": {
        "name": "ipython",
        "version": 3
      },
      "file_extension": ".py",
      "mimetype": "text/x-python",
      "name": "python",
      "nbconvert_exporter": "python",
      "pygments_lexer": "ipython3",
      "version": "3.12.9"
    }
  },
  "nbformat": 4,
  "nbformat_minor": 0
}
